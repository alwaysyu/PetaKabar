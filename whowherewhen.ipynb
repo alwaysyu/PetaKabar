{
 "cells": [
  {
   "cell_type": "code",
   "execution_count": 24,
   "metadata": {},
   "outputs": [],
   "source": [
    "import pandas as pd\n",
    "import re\n",
    "import string\n",
    "\n",
    "PATH = \"D:/Petakabar/whowherewhen/\"\n",
    "bencana = \"bencana/\"\n",
    "ekonomi = \"ekonomi/\"\n",
    "kecelakaan = \"kecelakaan/\"\n",
    "kesehatan = \"kesehatan/\"\n",
    "kriminalitas = \"kriminalitas/\"\n",
    "olahraga = \"olahraga/\"\n",
    "\n",
    "model_location = PATH # flair\n",
    "\n",
    "news = pd.read_csv('perbandingan/berita-24-5.csv')"
   ]
  },
  {
   "cell_type": "code",
   "execution_count": 2,
   "metadata": {},
   "outputs": [],
   "source": [
    "def preprocessing(berita, result=\"l\"):\n",
    "        s = str(berita)\n",
    "        # s = s.lower()\n",
    "        s = s.replace('\\n', ' ')\n",
    "        s = s.replace('\\r', ' ')\n",
    "        # s = re.sub(r'[^a-zA-Z0-9\\s]', ' ', s)\n",
    "        if result == \"ll\":\n",
    "                tokens = [[token] for token in s.split(\" \") if token != \"\"]\n",
    "                # T = [t for t in tokens if (\n",
    "                #     (t in excluded_words) or (t not in NLTK_StopWords))]\n",
    "        elif result == \"asis\":\n",
    "                s = s.replace('  ', ' ')\n",
    "                return s\n",
    "        else:\n",
    "                tokens = [token for token in s.split(\" \") if token != \"\"]\n",
    "                # T = [t for t in tokens if (\n",
    "                #     (t in excluded_words) or (t not in NLTK_StopWords))]\n",
    "        return tokens"
   ]
  },
  {
   "attachments": {},
   "cell_type": "markdown",
   "metadata": {},
   "source": [
    "# Coba POS Tagging"
   ]
  },
  {
   "attachments": {},
   "cell_type": "markdown",
   "metadata": {},
   "source": [
    "## Flair"
   ]
  },
  {
   "cell_type": "code",
   "execution_count": 3,
   "metadata": {},
   "outputs": [
    {
     "name": "stdout",
     "output_type": "stream",
     "text": [
      "2023-06-24 17:51:24,326 Reading data from C:\\Users\\Archy\\.flair\\datasets\\ud_indonesian\n",
      "2023-06-24 17:51:24,326 Train: C:\\Users\\Archy\\.flair\\datasets\\ud_indonesian\\id_gsd-ud-train.conllu\n",
      "2023-06-24 17:51:24,326 Dev: C:\\Users\\Archy\\.flair\\datasets\\ud_indonesian\\id_gsd-ud-dev.conllu\n",
      "2023-06-24 17:51:24,328 Test: C:\\Users\\Archy\\.flair\\datasets\\ud_indonesian\\id_gsd-ud-test.conllu\n",
      "2023-06-24 17:51:31,753 Warning: An empty Sentence was created! Are there empty strings in your dataset?\n",
      "2023-06-24 17:51:33,102 Warning: An empty Sentence was created! Are there empty strings in your dataset?\n",
      "2023-06-24 17:51:33,700 Warning: An empty Sentence was created! Are there empty strings in your dataset?\n"
     ]
    }
   ],
   "source": [
    "import flair\n",
    "from flair import datasets\n",
    "\n",
    "# membuat corpus\n",
    "corpus = datasets.UD_INDONESIAN()"
   ]
  },
  {
   "cell_type": "code",
   "execution_count": 4,
   "metadata": {},
   "outputs": [
    {
     "name": "stdout",
     "output_type": "stream",
     "text": [
      "2023-06-24 17:11:48,129 Computing label dictionary. Progress:\n"
     ]
    },
    {
     "name": "stderr",
     "output_type": "stream",
     "text": [
      "4482it [00:00, 10804.99it/s]"
     ]
    },
    {
     "name": "stdout",
     "output_type": "stream",
     "text": [
      "2023-06-24 17:11:48,572 Dictionary created for label 'upos' with 18 values: NOUN (seen 21123 times), PROPN (seen 17938 times), PUNCT (seen 13922 times), VERB (seen 9940 times), ADP (seen 9076 times), PRON (seen 5118 times), ADJ (seen 3798 times), NUM (seen 3478 times), DET (seen 2968 times), CCONJ (seen 2866 times), ADV (seen 2852 times), AUX (seen 1786 times), SCONJ (seen 1653 times), PART (seen 837 times), SYM (seen 132 times), X (seen 112 times), INTJ (seen 3 times)\n",
      "[b'<unk>', b'NOUN', b'PROPN', b'PUNCT', b'VERB', b'ADP', b'PRON', b'ADJ', b'NUM', b'DET', b'CCONJ', b'ADV', b'AUX', b'SCONJ', b'PART', b'SYM', b'X', b'INTJ']\n",
      "2023-06-24 17:11:48,578 Computing label dictionary. Progress:\n"
     ]
    },
    {
     "name": "stderr",
     "output_type": "stream",
     "text": [
      "\n",
      "4482it [00:00, 10231.72it/s]"
     ]
    },
    {
     "name": "stdout",
     "output_type": "stream",
     "text": [
      "2023-06-24 17:11:49,019 Dictionary created for label 'pos' with 46 values: NSD (seen 23519 times), Z-- (seen 14039 times), X-- (seen 9701 times), R-- (seen 8307 times), VSA (seen 7446 times), F-- (seen 5740 times), ASP (seen 4722 times), S-- (seen 3971 times), CC- (seen 3262 times), B-- (seen 3044 times), VSP (seen 2798 times), H-- (seen 2703 times), D-- (seen 2244 times), PS3 (seen 1757 times), O-- (seen 1307 times), G-- (seen 487 times), W-- (seen 437 times), CO- (seen 380 times), M-- (seen 375 times), T-- (seen 348 times)\n",
      "[b'<unk>', b'NSD', b'Z--', b'X--', b'R--', b'VSA', b'F--', b'ASP', b'S--', b'CC-', b'B--', b'VSP', b'H--', b'D--', b'PS3', b'O--', b'G--', b'W--', b'CO-', b'M--', b'T--', b'PP3', b'ASS', b'PS2', b'PS1', b'PP1', b'NPD', b'_', b'NSM', b'NSD+PS3', b'ASP+PS3', b'I--', b'CD-', b'F--+PS2', b'PP2', b'D--+PS3', b'VPA', b'R--+PS3', b'M--+PS3', b'G--+PS3', b'NSF', b'APP', b'VSA+PS2', b'B--+PS3', b'PS1+VSA', b'VSA+PS3']\n"
     ]
    },
    {
     "name": "stderr",
     "output_type": "stream",
     "text": [
      "\n"
     ]
    }
   ],
   "source": [
    "# membuat pustaka dari corpus\n",
    "tag_type = 'upos' # upos mengindikasikan untuk Part-of-speech\n",
    "tag_dictionary = corpus.make_label_dictionary(tag_type)\n",
    "print(tag_dictionary.idx2item)\n",
    "print(corpus.make_label_dictionary('pos').idx2item)\n",
    "# print(corpus.make_label_dictionary('ner').idx2item)"
   ]
  },
  {
   "cell_type": "code",
   "execution_count": 5,
   "metadata": {},
   "outputs": [],
   "source": [
    "from flair.embeddings import FlairEmbeddings, TokenEmbeddings, WordEmbeddings, StackedEmbeddings, BertEmbeddings\n",
    "\n",
    "embedding_types = [WordEmbeddings('id-crawl'), WordEmbeddings('id'), FlairEmbeddings('id-forward'), FlairEmbeddings('id-backward')]\n",
    "embeddings = StackedEmbeddings(embeddings=embedding_types)"
   ]
  },
  {
   "cell_type": "code",
   "execution_count": 6,
   "metadata": {},
   "outputs": [
    {
     "name": "stdout",
     "output_type": "stream",
     "text": [
      "2023-06-24 17:12:22,486 SequenceTagger predicts: Dictionary with 18 tags: <unk>, NOUN, PROPN, PUNCT, VERB, ADP, PRON, ADJ, NUM, DET, CCONJ, ADV, AUX, SCONJ, PART, SYM, X, INTJ\n"
     ]
    }
   ],
   "source": [
    "from flair.models import SequenceTagger\n",
    "\n",
    "tagger = SequenceTagger(hidden_size=256,\n",
    "                        embeddings=embeddings,\n",
    "                        tag_dictionary=tag_dictionary,\n",
    "                        tag_type=tag_type,\n",
    "                        use_crf=True)"
   ]
  },
  {
   "cell_type": "code",
   "execution_count": 7,
   "metadata": {},
   "outputs": [
    {
     "name": "stdout",
     "output_type": "stream",
     "text": [
      "2023-06-22 16:40:27,595 ----------------------------------------------------------------------------------------------------\n",
      "2023-06-22 16:40:27,597 Model: \"SequenceTagger(\n",
      "  (embeddings): StackedEmbeddings(\n",
      "    (list_embedding_0): WordEmbeddings(\n",
      "      'id-crawl'\n",
      "      (embedding): Embedding(1000000, 300)\n",
      "    )\n",
      "    (list_embedding_1): WordEmbeddings(\n",
      "      'id'\n",
      "      (embedding): Embedding(300686, 300)\n",
      "    )\n",
      "    (list_embedding_2): FlairEmbeddings(\n",
      "      (lm): LanguageModel(\n",
      "        (drop): Dropout(p=0.1, inplace=False)\n",
      "        (encoder): Embedding(8823, 100)\n",
      "        (rnn): LSTM(100, 2048)\n",
      "      )\n",
      "    )\n",
      "    (list_embedding_3): FlairEmbeddings(\n",
      "      (lm): LanguageModel(\n",
      "        (drop): Dropout(p=0.1, inplace=False)\n",
      "        (encoder): Embedding(8823, 100)\n",
      "        (rnn): LSTM(100, 2048)\n",
      "      )\n",
      "    )\n",
      "  )\n",
      "  (word_dropout): WordDropout(p=0.05)\n",
      "  (locked_dropout): LockedDropout(p=0.5)\n",
      "  (embedding2nn): Linear(in_features=4696, out_features=4696, bias=True)\n",
      "  (rnn): LSTM(4696, 256, batch_first=True, bidirectional=True)\n",
      "  (linear): Linear(in_features=512, out_features=20, bias=True)\n",
      "  (loss_function): ViterbiLoss()\n",
      "  (crf): CRF()\n",
      ")\"\n",
      "2023-06-22 16:40:27,599 ----------------------------------------------------------------------------------------------------\n",
      "2023-06-22 16:40:27,601 Corpus: \"Corpus: 4482 train + 559 dev + 557 test sentences\"\n",
      "2023-06-22 16:40:27,602 ----------------------------------------------------------------------------------------------------\n",
      "2023-06-22 16:40:27,602 Parameters:\n",
      "2023-06-22 16:40:27,602  - learning_rate: \"0.100000\"\n",
      "2023-06-22 16:40:27,605  - mini_batch_size: \"32\"\n",
      "2023-06-22 16:40:27,606  - patience: \"3\"\n",
      "2023-06-22 16:40:27,606  - anneal_factor: \"0.5\"\n",
      "2023-06-22 16:40:27,606  - max_epochs: \"10\"\n",
      "2023-06-22 16:40:27,609  - shuffle: \"True\"\n",
      "2023-06-22 16:40:27,609  - train_with_dev: \"False\"\n",
      "2023-06-22 16:40:27,609  - batch_growth_annealing: \"False\"\n",
      "2023-06-22 16:40:27,609 ----------------------------------------------------------------------------------------------------\n",
      "2023-06-22 16:40:27,609 Model training base path: \"D:\\Petakabar\\whowherewhen\"\n",
      "2023-06-22 16:40:27,614 ----------------------------------------------------------------------------------------------------\n",
      "2023-06-22 16:40:27,614 Device: cpu\n",
      "2023-06-22 16:40:27,614 ----------------------------------------------------------------------------------------------------\n",
      "2023-06-22 16:40:27,630 Embeddings storage mode: cpu\n",
      "2023-06-22 16:40:27,632 ----------------------------------------------------------------------------------------------------\n"
     ]
    },
    {
     "name": "stderr",
     "output_type": "stream",
     "text": [
      "c:\\Users\\Archy\\AppData\\Local\\Programs\\Python\\Python310\\lib\\site-packages\\flair\\trainers\\trainer.py:69: UserWarning: There should be no best model saved at epoch 1 except there is a model from previous trainings in your training folder. All previous best models will be deleted.\n",
      "  warnings.warn(\n"
     ]
    },
    {
     "name": "stdout",
     "output_type": "stream",
     "text": [
      "2023-06-22 16:42:32,410 epoch 1 - iter 14/141 - loss 2.23435047 - time (sec): 124.78 - samples/sec: 77.39 - lr: 0.100000\n",
      "2023-06-22 16:44:18,481 epoch 1 - iter 28/141 - loss 1.73144676 - time (sec): 230.85 - samples/sec: 83.47 - lr: 0.100000\n",
      "2023-06-22 16:45:44,244 epoch 1 - iter 42/141 - loss 1.46248569 - time (sec): 316.61 - samples/sec: 90.82 - lr: 0.100000\n",
      "2023-06-22 16:47:23,409 epoch 1 - iter 56/141 - loss 1.26387701 - time (sec): 415.77 - samples/sec: 92.77 - lr: 0.100000\n",
      "2023-06-22 16:49:30,819 epoch 1 - iter 70/141 - loss 1.12124258 - time (sec): 543.18 - samples/sec: 89.46 - lr: 0.100000\n",
      "2023-06-22 16:51:30,621 epoch 1 - iter 84/141 - loss 1.02091177 - time (sec): 662.99 - samples/sec: 88.08 - lr: 0.100000\n",
      "2023-06-22 16:53:44,172 epoch 1 - iter 98/141 - loss 0.94025394 - time (sec): 796.54 - samples/sec: 86.13 - lr: 0.100000\n",
      "2023-06-22 16:55:53,387 epoch 1 - iter 112/141 - loss 0.88177395 - time (sec): 925.75 - samples/sec: 84.49 - lr: 0.100000\n",
      "2023-06-22 16:57:54,503 epoch 1 - iter 126/141 - loss 0.82974990 - time (sec): 1046.87 - samples/sec: 84.35 - lr: 0.100000\n",
      "2023-06-22 16:59:42,820 epoch 1 - iter 140/141 - loss 0.78922492 - time (sec): 1155.19 - samples/sec: 84.48 - lr: 0.100000\n",
      "2023-06-22 16:59:43,585 ----------------------------------------------------------------------------------------------------\n",
      "2023-06-22 16:59:43,587 EPOCH 1 done: loss 0.7891 - lr 0.100000\n"
     ]
    },
    {
     "name": "stderr",
     "output_type": "stream",
     "text": [
      "100%|██████████| 18/18 [02:12<00:00,  7.35s/it]"
     ]
    },
    {
     "name": "stdout",
     "output_type": "stream",
     "text": [
      "2023-06-22 17:01:56,003 Evaluating as a multi-label problem: False\n"
     ]
    },
    {
     "name": "stderr",
     "output_type": "stream",
     "text": [
      "\n"
     ]
    },
    {
     "name": "stdout",
     "output_type": "stream",
     "text": [
      "2023-06-22 17:01:56,227 DEV : loss 0.2612849771976471 - f1-score (micro avg)  0.9232\n",
      "2023-06-22 17:01:56,281 BAD EPOCHS (no improvement): 0\n",
      "2023-06-22 17:01:56,283 saving best model\n",
      "2023-06-22 17:02:11,126 ----------------------------------------------------------------------------------------------------\n",
      "2023-06-22 17:02:48,590 epoch 2 - iter 14/141 - loss 0.36476861 - time (sec): 37.46 - samples/sec: 263.41 - lr: 0.100000\n",
      "2023-06-22 17:03:29,818 epoch 2 - iter 28/141 - loss 0.37961386 - time (sec): 78.69 - samples/sec: 250.71 - lr: 0.100000\n",
      "2023-06-22 17:04:03,061 epoch 2 - iter 42/141 - loss 0.37367363 - time (sec): 111.93 - samples/sec: 261.44 - lr: 0.100000\n",
      "2023-06-22 17:04:36,639 epoch 2 - iter 56/141 - loss 0.36960909 - time (sec): 145.51 - samples/sec: 265.41 - lr: 0.100000\n",
      "2023-06-22 17:05:12,199 epoch 2 - iter 70/141 - loss 0.36856795 - time (sec): 181.07 - samples/sec: 266.30 - lr: 0.100000\n",
      "2023-06-22 17:05:46,802 epoch 2 - iter 84/141 - loss 0.36786080 - time (sec): 215.68 - samples/sec: 267.51 - lr: 0.100000\n",
      "2023-06-22 17:06:33,643 epoch 2 - iter 98/141 - loss 0.36715121 - time (sec): 262.52 - samples/sec: 259.05 - lr: 0.100000\n",
      "2023-06-22 17:07:16,514 epoch 2 - iter 112/141 - loss 0.36504024 - time (sec): 305.39 - samples/sec: 254.80 - lr: 0.100000\n",
      "2023-06-22 17:07:57,565 epoch 2 - iter 126/141 - loss 0.36215186 - time (sec): 346.44 - samples/sec: 253.02 - lr: 0.100000\n",
      "2023-06-22 17:08:38,914 epoch 2 - iter 140/141 - loss 0.36058788 - time (sec): 387.79 - samples/sec: 251.63 - lr: 0.100000\n",
      "2023-06-22 17:08:39,060 ----------------------------------------------------------------------------------------------------\n",
      "2023-06-22 17:08:39,063 EPOCH 2 done: loss 0.3605 - lr 0.100000\n"
     ]
    },
    {
     "name": "stderr",
     "output_type": "stream",
     "text": [
      "100%|██████████| 18/18 [00:25<00:00,  1.42s/it]"
     ]
    },
    {
     "name": "stdout",
     "output_type": "stream",
     "text": [
      "2023-06-22 17:09:04,707 Evaluating as a multi-label problem: False\n",
      "2023-06-22 17:09:04,817 DEV : loss 0.2169020026922226 - f1-score (micro avg)  0.9325\n"
     ]
    },
    {
     "name": "stderr",
     "output_type": "stream",
     "text": [
      "\n"
     ]
    },
    {
     "name": "stdout",
     "output_type": "stream",
     "text": [
      "2023-06-22 17:09:04,881 BAD EPOCHS (no improvement): 0\n",
      "2023-06-22 17:09:04,889 saving best model\n",
      "2023-06-22 17:09:10,048 ----------------------------------------------------------------------------------------------------\n",
      "2023-06-22 17:09:44,751 epoch 3 - iter 14/141 - loss 0.31761282 - time (sec): 34.70 - samples/sec: 277.18 - lr: 0.100000\n",
      "2023-06-22 17:10:19,207 epoch 3 - iter 28/141 - loss 0.33142107 - time (sec): 69.16 - samples/sec: 281.21 - lr: 0.100000\n",
      "2023-06-22 17:10:56,642 epoch 3 - iter 42/141 - loss 0.33133249 - time (sec): 106.59 - samples/sec: 276.00 - lr: 0.100000\n",
      "2023-06-22 17:11:28,726 epoch 3 - iter 56/141 - loss 0.32734339 - time (sec): 138.68 - samples/sec: 282.33 - lr: 0.100000\n",
      "2023-06-22 17:12:00,348 epoch 3 - iter 70/141 - loss 0.32374535 - time (sec): 170.30 - samples/sec: 285.65 - lr: 0.100000\n",
      "2023-06-22 17:12:35,183 epoch 3 - iter 84/141 - loss 0.31992671 - time (sec): 205.13 - samples/sec: 283.76 - lr: 0.100000\n",
      "2023-06-22 17:13:08,342 epoch 3 - iter 98/141 - loss 0.31775421 - time (sec): 238.29 - samples/sec: 285.19 - lr: 0.100000\n",
      "2023-06-22 17:13:38,895 epoch 3 - iter 112/141 - loss 0.31586698 - time (sec): 268.85 - samples/sec: 289.09 - lr: 0.100000\n",
      "2023-06-22 17:14:14,909 epoch 3 - iter 126/141 - loss 0.31475281 - time (sec): 304.86 - samples/sec: 285.97 - lr: 0.100000\n",
      "2023-06-22 17:14:55,244 epoch 3 - iter 140/141 - loss 0.31475516 - time (sec): 345.20 - samples/sec: 282.65 - lr: 0.100000\n",
      "2023-06-22 17:14:55,406 ----------------------------------------------------------------------------------------------------\n",
      "2023-06-22 17:14:55,406 EPOCH 3 done: loss 0.3147 - lr 0.100000\n"
     ]
    },
    {
     "name": "stderr",
     "output_type": "stream",
     "text": [
      "100%|██████████| 18/18 [00:21<00:00,  1.17s/it]"
     ]
    },
    {
     "name": "stdout",
     "output_type": "stream",
     "text": [
      "2023-06-22 17:15:16,562 Evaluating as a multi-label problem: False\n",
      "2023-06-22 17:15:16,637 DEV : loss 0.24424324929714203 - f1-score (micro avg)  0.9183\n",
      "2023-06-22 17:15:16,699 BAD EPOCHS (no improvement): 1\n",
      "2023-06-22 17:15:16,701 ----------------------------------------------------------------------------------------------------\n"
     ]
    },
    {
     "name": "stderr",
     "output_type": "stream",
     "text": [
      "\n"
     ]
    },
    {
     "name": "stdout",
     "output_type": "stream",
     "text": [
      "2023-06-22 17:15:52,619 epoch 4 - iter 14/141 - loss 0.30952149 - time (sec): 35.92 - samples/sec: 270.08 - lr: 0.100000\n",
      "2023-06-22 17:16:28,507 epoch 4 - iter 28/141 - loss 0.30728656 - time (sec): 71.81 - samples/sec: 262.25 - lr: 0.100000\n",
      "2023-06-22 17:16:56,712 epoch 4 - iter 42/141 - loss 0.30060465 - time (sec): 100.01 - samples/sec: 286.47 - lr: 0.100000\n",
      "2023-06-22 17:17:21,869 epoch 4 - iter 56/141 - loss 0.29778734 - time (sec): 125.17 - samples/sec: 304.48 - lr: 0.100000\n",
      "2023-06-22 17:17:54,810 epoch 4 - iter 70/141 - loss 0.29315059 - time (sec): 158.11 - samples/sec: 303.08 - lr: 0.100000\n",
      "2023-06-22 17:18:21,737 epoch 4 - iter 84/141 - loss 0.29240067 - time (sec): 185.04 - samples/sec: 309.78 - lr: 0.100000\n",
      "2023-06-22 17:19:05,588 epoch 4 - iter 98/141 - loss 0.29284442 - time (sec): 228.89 - samples/sec: 295.50 - lr: 0.100000\n",
      "2023-06-22 17:19:37,011 epoch 4 - iter 112/141 - loss 0.29074310 - time (sec): 260.31 - samples/sec: 298.19 - lr: 0.100000\n",
      "2023-06-22 17:20:01,143 epoch 4 - iter 126/141 - loss 0.28919094 - time (sec): 284.44 - samples/sec: 306.59 - lr: 0.100000\n",
      "2023-06-22 17:20:34,600 epoch 4 - iter 140/141 - loss 0.28884497 - time (sec): 317.90 - samples/sec: 306.86 - lr: 0.100000\n",
      "2023-06-22 17:20:34,839 ----------------------------------------------------------------------------------------------------\n",
      "2023-06-22 17:20:34,840 EPOCH 4 done: loss 0.2889 - lr 0.100000\n"
     ]
    },
    {
     "name": "stderr",
     "output_type": "stream",
     "text": [
      "100%|██████████| 18/18 [00:19<00:00,  1.09s/it]"
     ]
    },
    {
     "name": "stdout",
     "output_type": "stream",
     "text": [
      "2023-06-22 17:20:54,574 Evaluating as a multi-label problem: False\n",
      "2023-06-22 17:20:54,660 DEV : loss 0.21068830788135529 - f1-score (micro avg)  0.931\n"
     ]
    },
    {
     "name": "stderr",
     "output_type": "stream",
     "text": [
      "\n"
     ]
    },
    {
     "name": "stdout",
     "output_type": "stream",
     "text": [
      "2023-06-22 17:20:54,736 BAD EPOCHS (no improvement): 2\n",
      "2023-06-22 17:20:54,744 ----------------------------------------------------------------------------------------------------\n",
      "2023-06-22 17:21:22,876 epoch 5 - iter 14/141 - loss 0.25464828 - time (sec): 28.13 - samples/sec: 340.65 - lr: 0.100000\n",
      "2023-06-22 17:21:48,963 epoch 5 - iter 28/141 - loss 0.26281946 - time (sec): 54.22 - samples/sec: 355.87 - lr: 0.100000\n",
      "2023-06-22 17:22:14,380 epoch 5 - iter 42/141 - loss 0.26706226 - time (sec): 79.64 - samples/sec: 361.42 - lr: 0.100000\n",
      "2023-06-22 17:22:36,543 epoch 5 - iter 56/141 - loss 0.27123579 - time (sec): 101.80 - samples/sec: 370.24 - lr: 0.100000\n",
      "2023-06-22 17:22:59,164 epoch 5 - iter 70/141 - loss 0.27136209 - time (sec): 124.42 - samples/sec: 381.20 - lr: 0.100000\n",
      "2023-06-22 17:23:28,505 epoch 5 - iter 84/141 - loss 0.27222092 - time (sec): 153.76 - samples/sec: 375.71 - lr: 0.100000\n",
      "2023-06-22 17:24:00,248 epoch 5 - iter 98/141 - loss 0.27363577 - time (sec): 185.50 - samples/sec: 363.83 - lr: 0.100000\n",
      "2023-06-22 17:24:27,199 epoch 5 - iter 112/141 - loss 0.27327489 - time (sec): 212.45 - samples/sec: 364.05 - lr: 0.100000\n",
      "2023-06-22 17:24:55,013 epoch 5 - iter 126/141 - loss 0.27217319 - time (sec): 240.27 - samples/sec: 365.17 - lr: 0.100000\n",
      "2023-06-22 17:25:23,416 epoch 5 - iter 140/141 - loss 0.27162660 - time (sec): 268.67 - samples/sec: 363.04 - lr: 0.100000\n",
      "2023-06-22 17:25:23,655 ----------------------------------------------------------------------------------------------------\n",
      "2023-06-22 17:25:23,656 EPOCH 5 done: loss 0.2716 - lr 0.100000\n"
     ]
    },
    {
     "name": "stderr",
     "output_type": "stream",
     "text": [
      "100%|██████████| 18/18 [00:16<00:00,  1.09it/s]"
     ]
    },
    {
     "name": "stdout",
     "output_type": "stream",
     "text": [
      "2023-06-22 17:25:40,223 Evaluating as a multi-label problem: False\n",
      "2023-06-22 17:25:40,289 DEV : loss 0.2045883983373642 - f1-score (micro avg)  0.9333\n",
      "2023-06-22 17:25:40,350 BAD EPOCHS (no improvement): 0\n",
      "2023-06-22 17:25:40,351 saving best model\n"
     ]
    },
    {
     "name": "stderr",
     "output_type": "stream",
     "text": [
      "\n"
     ]
    },
    {
     "name": "stdout",
     "output_type": "stream",
     "text": [
      "2023-06-22 17:25:44,583 ----------------------------------------------------------------------------------------------------\n",
      "2023-06-22 17:26:14,837 epoch 6 - iter 14/141 - loss 0.25276310 - time (sec): 30.25 - samples/sec: 338.60 - lr: 0.100000\n",
      "2023-06-22 17:26:49,922 epoch 6 - iter 28/141 - loss 0.24808203 - time (sec): 65.34 - samples/sec: 310.53 - lr: 0.100000\n",
      "2023-06-22 17:27:20,345 epoch 6 - iter 42/141 - loss 0.25096601 - time (sec): 95.76 - samples/sec: 315.13 - lr: 0.100000\n",
      "2023-06-22 17:27:50,673 epoch 6 - iter 56/141 - loss 0.25217358 - time (sec): 126.09 - samples/sec: 315.22 - lr: 0.100000\n",
      "2023-06-22 17:28:20,659 epoch 6 - iter 70/141 - loss 0.25509738 - time (sec): 156.08 - samples/sec: 317.95 - lr: 0.100000\n",
      "2023-06-22 17:28:50,821 epoch 6 - iter 84/141 - loss 0.25296349 - time (sec): 186.24 - samples/sec: 315.63 - lr: 0.100000\n",
      "2023-06-22 17:29:20,780 epoch 6 - iter 98/141 - loss 0.25362687 - time (sec): 216.20 - samples/sec: 315.17 - lr: 0.100000\n",
      "2023-06-22 17:29:50,576 epoch 6 - iter 112/141 - loss 0.25223587 - time (sec): 245.99 - samples/sec: 317.00 - lr: 0.100000\n",
      "2023-06-22 17:30:21,540 epoch 6 - iter 126/141 - loss 0.25479361 - time (sec): 276.96 - samples/sec: 315.85 - lr: 0.100000\n",
      "2023-06-22 17:30:50,535 epoch 6 - iter 140/141 - loss 0.25526351 - time (sec): 305.95 - samples/sec: 318.94 - lr: 0.100000\n",
      "2023-06-22 17:30:50,674 ----------------------------------------------------------------------------------------------------\n",
      "2023-06-22 17:30:50,675 EPOCH 6 done: loss 0.2552 - lr 0.100000\n"
     ]
    },
    {
     "name": "stderr",
     "output_type": "stream",
     "text": [
      "100%|██████████| 18/18 [00:17<00:00,  1.06it/s]"
     ]
    },
    {
     "name": "stdout",
     "output_type": "stream",
     "text": [
      "2023-06-22 17:31:07,721 Evaluating as a multi-label problem: False\n",
      "2023-06-22 17:31:07,809 DEV : loss 0.20364481210708618 - f1-score (micro avg)  0.9322\n"
     ]
    },
    {
     "name": "stderr",
     "output_type": "stream",
     "text": [
      "\n"
     ]
    },
    {
     "name": "stdout",
     "output_type": "stream",
     "text": [
      "2023-06-22 17:31:07,876 BAD EPOCHS (no improvement): 1\n",
      "2023-06-22 17:31:07,877 ----------------------------------------------------------------------------------------------------\n",
      "2023-06-22 17:31:37,113 epoch 7 - iter 14/141 - loss 0.23954868 - time (sec): 29.24 - samples/sec: 334.19 - lr: 0.100000\n",
      "2023-06-22 17:32:09,762 epoch 7 - iter 28/141 - loss 0.24843766 - time (sec): 61.88 - samples/sec: 322.01 - lr: 0.100000\n",
      "2023-06-22 17:32:39,324 epoch 7 - iter 42/141 - loss 0.24990585 - time (sec): 91.45 - samples/sec: 323.11 - lr: 0.100000\n",
      "2023-06-22 17:33:08,768 epoch 7 - iter 56/141 - loss 0.24881604 - time (sec): 120.89 - samples/sec: 328.05 - lr: 0.100000\n",
      "2023-06-22 17:33:37,346 epoch 7 - iter 70/141 - loss 0.24661978 - time (sec): 149.47 - samples/sec: 331.47 - lr: 0.100000\n",
      "2023-06-22 17:34:06,918 epoch 7 - iter 84/141 - loss 0.24653751 - time (sec): 179.04 - samples/sec: 332.06 - lr: 0.100000\n",
      "2023-06-22 17:34:31,767 epoch 7 - iter 98/141 - loss 0.24525081 - time (sec): 203.89 - samples/sec: 337.84 - lr: 0.100000\n",
      "2023-06-22 17:35:00,722 epoch 7 - iter 112/141 - loss 0.24322182 - time (sec): 232.84 - samples/sec: 338.18 - lr: 0.100000\n",
      "2023-06-22 17:35:27,663 epoch 7 - iter 126/141 - loss 0.24372868 - time (sec): 259.79 - samples/sec: 339.18 - lr: 0.100000\n",
      "2023-06-22 17:36:01,919 epoch 7 - iter 140/141 - loss 0.24434335 - time (sec): 294.04 - samples/sec: 331.81 - lr: 0.100000\n",
      "2023-06-22 17:36:02,091 ----------------------------------------------------------------------------------------------------\n",
      "2023-06-22 17:36:02,098 EPOCH 7 done: loss 0.2445 - lr 0.100000\n"
     ]
    },
    {
     "name": "stderr",
     "output_type": "stream",
     "text": [
      "100%|██████████| 18/18 [00:22<00:00,  1.25s/it]"
     ]
    },
    {
     "name": "stdout",
     "output_type": "stream",
     "text": [
      "2023-06-22 17:36:24,582 Evaluating as a multi-label problem: False\n",
      "2023-06-22 17:36:24,677 DEV : loss 0.18855087459087372 - f1-score (micro avg)  0.9393\n"
     ]
    },
    {
     "name": "stderr",
     "output_type": "stream",
     "text": [
      "\n"
     ]
    },
    {
     "name": "stdout",
     "output_type": "stream",
     "text": [
      "2023-06-22 17:36:24,739 BAD EPOCHS (no improvement): 0\n",
      "2023-06-22 17:36:24,741 saving best model\n",
      "2023-06-22 17:36:28,655 ----------------------------------------------------------------------------------------------------\n",
      "2023-06-22 17:37:01,845 epoch 8 - iter 14/141 - loss 0.24044385 - time (sec): 33.19 - samples/sec: 282.20 - lr: 0.100000\n",
      "2023-06-22 17:37:38,806 epoch 8 - iter 28/141 - loss 0.22912910 - time (sec): 70.15 - samples/sec: 271.03 - lr: 0.100000\n",
      "2023-06-22 17:38:17,171 epoch 8 - iter 42/141 - loss 0.23306753 - time (sec): 108.52 - samples/sec: 267.19 - lr: 0.100000\n",
      "2023-06-22 17:38:59,928 epoch 8 - iter 56/141 - loss 0.23088426 - time (sec): 151.27 - samples/sec: 255.96 - lr: 0.100000\n",
      "2023-06-22 17:39:37,242 epoch 8 - iter 70/141 - loss 0.23221670 - time (sec): 188.59 - samples/sec: 257.68 - lr: 0.100000\n",
      "2023-06-22 17:40:12,005 epoch 8 - iter 84/141 - loss 0.23176676 - time (sec): 223.35 - samples/sec: 261.48 - lr: 0.100000\n",
      "2023-06-22 17:40:46,951 epoch 8 - iter 98/141 - loss 0.23105786 - time (sec): 258.30 - samples/sec: 263.74 - lr: 0.100000\n",
      "2023-06-22 17:41:23,228 epoch 8 - iter 112/141 - loss 0.23263189 - time (sec): 294.57 - samples/sec: 265.36 - lr: 0.100000\n",
      "2023-06-22 17:41:58,595 epoch 8 - iter 126/141 - loss 0.23562520 - time (sec): 329.94 - samples/sec: 266.83 - lr: 0.100000\n",
      "2023-06-22 17:42:35,423 epoch 8 - iter 140/141 - loss 0.23579341 - time (sec): 366.77 - samples/sec: 266.04 - lr: 0.100000\n",
      "2023-06-22 17:42:35,591 ----------------------------------------------------------------------------------------------------\n",
      "2023-06-22 17:42:35,592 EPOCH 8 done: loss 0.2358 - lr 0.100000\n"
     ]
    },
    {
     "name": "stderr",
     "output_type": "stream",
     "text": [
      "100%|██████████| 18/18 [00:21<00:00,  1.22s/it]"
     ]
    },
    {
     "name": "stdout",
     "output_type": "stream",
     "text": [
      "2023-06-22 17:42:57,555 Evaluating as a multi-label problem: False\n",
      "2023-06-22 17:42:57,649 DEV : loss 0.18506895005702972 - f1-score (micro avg)  0.9415\n"
     ]
    },
    {
     "name": "stderr",
     "output_type": "stream",
     "text": [
      "\n"
     ]
    },
    {
     "name": "stdout",
     "output_type": "stream",
     "text": [
      "2023-06-22 17:42:57,721 BAD EPOCHS (no improvement): 0\n",
      "2023-06-22 17:42:57,723 saving best model\n",
      "2023-06-22 17:43:01,615 ----------------------------------------------------------------------------------------------------\n",
      "2023-06-22 17:43:35,303 epoch 9 - iter 14/141 - loss 0.21867346 - time (sec): 33.69 - samples/sec: 281.97 - lr: 0.100000\n",
      "2023-06-22 17:44:14,670 epoch 9 - iter 28/141 - loss 0.22373685 - time (sec): 73.05 - samples/sec: 273.62 - lr: 0.100000\n",
      "2023-06-22 17:44:45,456 epoch 9 - iter 42/141 - loss 0.21550163 - time (sec): 103.84 - samples/sec: 283.82 - lr: 0.100000\n",
      "2023-06-22 17:45:16,682 epoch 9 - iter 56/141 - loss 0.21696191 - time (sec): 135.07 - samples/sec: 289.94 - lr: 0.100000\n",
      "2023-06-22 17:45:57,024 epoch 9 - iter 70/141 - loss 0.21857592 - time (sec): 175.41 - samples/sec: 279.31 - lr: 0.100000\n",
      "2023-06-22 17:46:46,420 epoch 9 - iter 84/141 - loss 0.21868655 - time (sec): 224.81 - samples/sec: 261.30 - lr: 0.100000\n",
      "2023-06-22 17:47:26,748 epoch 9 - iter 98/141 - loss 0.22090466 - time (sec): 265.13 - samples/sec: 259.60 - lr: 0.100000\n",
      "2023-06-22 17:48:04,931 epoch 9 - iter 112/141 - loss 0.22192030 - time (sec): 303.32 - samples/sec: 259.23 - lr: 0.100000\n",
      "2023-06-22 17:48:45,386 epoch 9 - iter 126/141 - loss 0.22324792 - time (sec): 343.77 - samples/sec: 256.71 - lr: 0.100000\n",
      "2023-06-22 17:49:22,366 epoch 9 - iter 140/141 - loss 0.22356234 - time (sec): 380.75 - samples/sec: 256.23 - lr: 0.100000\n",
      "2023-06-22 17:49:22,553 ----------------------------------------------------------------------------------------------------\n",
      "2023-06-22 17:49:22,555 EPOCH 9 done: loss 0.2236 - lr 0.100000\n"
     ]
    },
    {
     "name": "stderr",
     "output_type": "stream",
     "text": [
      "100%|██████████| 18/18 [00:25<00:00,  1.40s/it]"
     ]
    },
    {
     "name": "stdout",
     "output_type": "stream",
     "text": [
      "2023-06-22 17:49:47,802 Evaluating as a multi-label problem: False\n",
      "2023-06-22 17:49:47,918 DEV : loss 0.18180228769779205 - f1-score (micro avg)  0.9416\n"
     ]
    },
    {
     "name": "stderr",
     "output_type": "stream",
     "text": [
      "\n"
     ]
    },
    {
     "name": "stdout",
     "output_type": "stream",
     "text": [
      "2023-06-22 17:49:48,007 BAD EPOCHS (no improvement): 0\n",
      "2023-06-22 17:49:48,008 saving best model\n",
      "2023-06-22 17:49:52,135 ----------------------------------------------------------------------------------------------------\n",
      "2023-06-22 17:50:34,377 epoch 10 - iter 14/141 - loss 0.22381844 - time (sec): 42.24 - samples/sec: 226.67 - lr: 0.100000\n",
      "2023-06-22 17:51:11,845 epoch 10 - iter 28/141 - loss 0.21434465 - time (sec): 79.71 - samples/sec: 241.85 - lr: 0.100000\n",
      "2023-06-22 17:51:46,946 epoch 10 - iter 42/141 - loss 0.21343156 - time (sec): 114.81 - samples/sec: 251.91 - lr: 0.100000\n",
      "2023-06-22 17:52:28,970 epoch 10 - iter 56/141 - loss 0.21734170 - time (sec): 156.83 - samples/sec: 246.50 - lr: 0.100000\n",
      "2023-06-22 17:53:05,539 epoch 10 - iter 70/141 - loss 0.21437004 - time (sec): 193.40 - samples/sec: 251.49 - lr: 0.100000\n",
      "2023-06-22 17:53:41,842 epoch 10 - iter 84/141 - loss 0.21413823 - time (sec): 229.71 - samples/sec: 254.27 - lr: 0.100000\n",
      "2023-06-22 17:54:16,597 epoch 10 - iter 98/141 - loss 0.21511400 - time (sec): 264.46 - samples/sec: 257.83 - lr: 0.100000\n",
      "2023-06-22 17:55:01,856 epoch 10 - iter 112/141 - loss 0.21416108 - time (sec): 309.72 - samples/sec: 252.77 - lr: 0.100000\n",
      "2023-06-22 17:55:35,184 epoch 10 - iter 126/141 - loss 0.21643001 - time (sec): 343.05 - samples/sec: 255.66 - lr: 0.100000\n",
      "2023-06-22 17:56:12,281 epoch 10 - iter 140/141 - loss 0.21753586 - time (sec): 380.15 - samples/sec: 256.64 - lr: 0.100000\n",
      "2023-06-22 17:56:12,465 ----------------------------------------------------------------------------------------------------\n",
      "2023-06-22 17:56:12,466 EPOCH 10 done: loss 0.2175 - lr 0.100000\n"
     ]
    },
    {
     "name": "stderr",
     "output_type": "stream",
     "text": [
      "100%|██████████| 18/18 [00:23<00:00,  1.28s/it]"
     ]
    },
    {
     "name": "stdout",
     "output_type": "stream",
     "text": [
      "2023-06-22 17:56:35,528 Evaluating as a multi-label problem: False\n",
      "2023-06-22 17:56:35,643 DEV : loss 0.20545212924480438 - f1-score (micro avg)  0.9348\n"
     ]
    },
    {
     "name": "stderr",
     "output_type": "stream",
     "text": [
      "\n"
     ]
    },
    {
     "name": "stdout",
     "output_type": "stream",
     "text": [
      "2023-06-22 17:56:35,710 BAD EPOCHS (no improvement): 1\n",
      "2023-06-22 17:56:40,045 ----------------------------------------------------------------------------------------------------\n",
      "2023-06-22 17:56:46,398 SequenceTagger predicts: Dictionary with 20 tags: <unk>, NOUN, PROPN, PUNCT, VERB, ADP, PRON, ADJ, NUM, DET, CCONJ, ADV, AUX, SCONJ, PART, SYM, X, INTJ, <START>, <STOP>\n"
     ]
    },
    {
     "name": "stderr",
     "output_type": "stream",
     "text": [
      "100%|██████████| 18/18 [02:13<00:00,  7.39s/it]"
     ]
    },
    {
     "name": "stdout",
     "output_type": "stream",
     "text": [
      "2023-06-22 17:59:00,718 Evaluating as a multi-label problem: False\n",
      "2023-06-22 17:59:00,810 0.9472\t0.9472\t0.9472\t0.9472\n",
      "2023-06-22 17:59:00,811 \n",
      "Results:\n",
      "- F-score (micro) 0.9472\n",
      "- F-score (macro) 0.8873\n",
      "- Accuracy 0.9472\n",
      "\n",
      "By class:\n",
      "              precision    recall  f1-score   support\n",
      "\n",
      "        NOUN     0.9284    0.9140    0.9211      2511\n",
      "       PROPN     0.9283    0.9579    0.9429      2162\n",
      "       PUNCT     1.0000    1.0000    1.0000      1623\n",
      "        VERB     0.9557    0.9595    0.9576      1258\n",
      "         ADP     0.9655    0.9551    0.9603      1114\n",
      "        PRON     0.9646    0.9736    0.9691       644\n",
      "         ADJ     0.8667    0.8258    0.8458       488\n",
      "         NUM     0.9895    0.9818    0.9856       384\n",
      "       CCONJ     0.9917    0.9917    0.9917       362\n",
      "         DET     0.9501    0.9501    0.9501       341\n",
      "         ADV     0.8795    0.8439    0.8614       346\n",
      "         AUX     0.9745    1.0000    0.9871       229\n",
      "       SCONJ     0.8622    0.8711    0.8667       194\n",
      "        PART     0.9175    1.0000    0.9570        89\n",
      "         SYM     1.0000    1.0000    1.0000         6\n",
      "           X     0.0000    0.0000    0.0000         5\n",
      "\n",
      "    accuracy                         0.9472     11756\n",
      "   macro avg     0.8859    0.8890    0.8873     11756\n",
      "weighted avg     0.9466    0.9472    0.9468     11756\n",
      "\n",
      "2023-06-22 17:59:00,812 ----------------------------------------------------------------------------------------------------\n"
     ]
    },
    {
     "name": "stderr",
     "output_type": "stream",
     "text": [
      "\n"
     ]
    },
    {
     "data": {
      "text/plain": [
       "{'test_score': 0.9471759101735284,\n",
       " 'dev_score_history': [0.923228812889977,\n",
       "  0.9325487718189717,\n",
       "  0.9183318853171155,\n",
       "  0.931048100465998,\n",
       "  0.9332596161440645,\n",
       "  0.9321538583050312,\n",
       "  0.9392623015559592,\n",
       "  0.9414738172340258,\n",
       "  0.9416317826396019,\n",
       "  0.9348392701998263],\n",
       " 'train_loss_history': [0.7891401534505449,\n",
       "  0.3605470618850684,\n",
       "  0.3146790542582215,\n",
       "  0.2888574535926198,\n",
       "  0.27160018370905403,\n",
       "  0.25523795729003373,\n",
       "  0.24450600516348842,\n",
       "  0.235825858793577,\n",
       "  0.2235627854735863,\n",
       "  0.21750173531400163],\n",
       " 'dev_loss_history': [0.2612849771976471,\n",
       "  0.2169020026922226,\n",
       "  0.24424324929714203,\n",
       "  0.21068830788135529,\n",
       "  0.2045883983373642,\n",
       "  0.20364481210708618,\n",
       "  0.18855087459087372,\n",
       "  0.18506895005702972,\n",
       "  0.18180228769779205,\n",
       "  0.20545212924480438]}"
      ]
     },
     "execution_count": 7,
     "metadata": {},
     "output_type": "execute_result"
    }
   ],
   "source": [
    "# from flair.trainers import ModelTrainer\n",
    "\n",
    "# model_location = PATH\n",
    "\n",
    "# trainer = ModelTrainer(tagger, corpus)\n",
    "# trainer.train(model_location,\n",
    "#               learning_rate=0.1, #adjust?\n",
    "#               mini_batch_size=32,\n",
    "#               max_epochs=10) #adjust?"
   ]
  },
  {
   "cell_type": "code",
   "execution_count": 9,
   "metadata": {},
   "outputs": [
    {
     "name": "stdout",
     "output_type": "stream",
     "text": [
      "\\- Kebakaran melanda rumah tinggal Jalan Bangka Buntu I RT 05 RW 07 Kelurahan Bangka, Kecamatan Mampang Prapatan, Jakarta Selatan, Senin (26/12/2022) malam.  Perwira piket Suku Dinas Penanggulangan Kebakaran dan Penyelamatan Jakarta Selatan, Moch Arief mengatakan, kebakaran dilaporkan warga terjadi sekitar pukul 20.05 WIB.  \"Terima berita sekitar pukul 20.05 WIB. Sumber warga, Ibu Nike,\" ujar Arief saat dikonfirmasi, Senin.  Arief mengatakan, tiga unit mobil pemadam dikerahkan untuk memadamkan api. Adapun saat petugas masih berjibaku.  \"Saat ini masih proses pemadaman,\" kata Arief.  Hingga kini belum diketahui kemunculan api yang menjadi penyebab kebakaran rumah warga tersebut.  Adapun petugas pemadam yang berada di lokasi juga belum bisa memastikan ada atau tidaknya korban akibat kebakaran tersebut.   \n",
      "2023-06-24 18:03:22,792 SequenceTagger predicts: Dictionary with 20 tags: <unk>, NOUN, PROPN, PUNCT, VERB, ADP, PRON, ADJ, NUM, DET, CCONJ, ADV, AUX, SCONJ, PART, SYM, X, INTJ, <START>, <STOP>\n",
      "Sentence[139]: \"\\- Kebakaran melanda rumah tinggal Jalan Bangka Buntu I RT 05 RW 07 Kelurahan Bangka, Kecamatan Mampang Prapatan, Jakarta Selatan, Senin (26/12/2022) malam.  Perwira piket Suku Dinas Penanggulangan Kebakaran dan Penyelamatan Jakarta Selatan, Moch Arief mengatakan, kebakaran dilaporkan warga terjadi sekitar pukul 20.05 WIB.  \"Terima berita sekitar pukul 20.05 WIB. Sumber warga, Ibu Nike,\" ujar Arief saat dikonfirmasi, Senin.  Arief mengatakan, tiga unit mobil pemadam dikerahkan untuk memadamkan api. Adapun saat petugas masih berjibaku.  \"Saat ini masih proses pemadaman,\" kata Arief.  Hingga kini belum diketahui kemunculan api yang menjadi penyebab kebakaran rumah warga tersebut.  Adapun petugas pemadam yang berada di lokasi juga belum bisa memastikan ada atau tidaknya korban akibat kebakaran tersebut.\" → [\"\\-\"/PUNCT, \"Kebakaran\"/NOUN, \"melanda\"/VERB, \"rumah\"/NOUN, \"tinggal\"/VERB, \"Jalan\"/PROPN, \"Bangka\"/PROPN, \"Buntu\"/PROPN, \"I\"/NUM, \"RT\"/NOUN, \"05\"/NUM, \"RW\"/NOUN, \"07\"/NUM, \"Kelurahan\"/PROPN, \"Bangka\"/PROPN, \",\"/PUNCT, \"Kecamatan\"/PROPN, \"Mampang\"/PROPN, \"Prapatan\"/PROPN, \",\"/PUNCT, \"Jakarta\"/PROPN, \"Selatan\"/PROPN, \",\"/PUNCT, \"Senin\"/PROPN, \"(\"/PUNCT, \"26\"/NUM, \"/\"/PUNCT, \"12\"/NUM, \"/\"/PUNCT, \"2022\"/NUM, \")\"/PUNCT, \"malam\"/NOUN, \".\"/PUNCT, \"Perwira\"/NOUN, \"piket\"/NOUN, \"Suku\"/PROPN, \"Dinas\"/PROPN, \"Penanggulangan\"/PROPN, \"Kebakaran\"/PROPN, \"dan\"/CCONJ, \"Penyelamatan\"/PROPN, \"Jakarta\"/PROPN, \"Selatan\"/PROPN, \",\"/PUNCT, \"Moch\"/PROPN, \"Arief\"/PROPN, \"mengatakan\"/VERB, \",\"/PUNCT, \"kebakaran\"/NOUN, \"dilaporkan\"/VERB, \"warga\"/NOUN, \"terjadi\"/VERB, \"sekitar\"/ADP, \"pukul\"/NOUN, \"20.05\"/NUM, \"WIB\"/PROPN, \".\"/PUNCT, \"\"\"/PUNCT, \"Terima\"/VERB, \"berita\"/NOUN, \"sekitar\"/ADP, \"pukul\"/NOUN, \"20.05\"/NUM, \"WIB\"/PROPN, \".\"/PUNCT, \"Sumber\"/NOUN, \"warga\"/NOUN, \",\"/PUNCT, \"Ibu\"/PROPN, \"Nike\"/PROPN, \",\"\"/PUNCT, \"ujar\"/PROPN, \"Arief\"/PROPN, \"saat\"/SCONJ, \"dikonfirmasi\"/VERB, \",\"/PUNCT, \"Senin\"/PROPN, \".\"/PUNCT, \"Arief\"/PROPN, \"mengatakan\"/VERB, \",\"/PUNCT, \"tiga\"/NUM, \"unit\"/NOUN, \"mobil\"/NOUN, \"pemadam\"/NOUN, \"dikerahkan\"/VERB, \"untuk\"/SCONJ, \"memadamkan\"/VERB, \"api\"/NOUN, \".\"/PUNCT, \"Adapun\"/ADV, \"saat\"/NOUN, \"petugas\"/NOUN, \"masih\"/ADV, \"berjibaku\"/VERB, \".\"/PUNCT, \"\"\"/PUNCT, \"Saat\"/NOUN, \"ini\"/DET, \"masih\"/ADV, \"proses\"/NOUN, \"pemadaman\"/NOUN, \",\"\"/PUNCT, \"kata\"/NOUN, \"Arief\"/PROPN, \".\"/PUNCT, \"Hingga\"/SCONJ, \"kini\"/ADV, \"belum\"/PART, \"diketahui\"/VERB, \"kemunculan\"/NOUN, \"api\"/NOUN, \"yang\"/PRON, \"menjadi\"/VERB, \"penyebab\"/NOUN, \"kebakaran\"/NOUN, \"rumah\"/NOUN, \"warga\"/NOUN, \"tersebut\"/DET, \".\"/PUNCT, \"Adapun\"/SCONJ, \"petugas\"/NOUN, \"pemadam\"/NOUN, \"yang\"/PRON, \"berada\"/VERB, \"di\"/ADP, \"lokasi\"/NOUN, \"juga\"/ADV, \"belum\"/PART, \"bisa\"/AUX, \"memastikan\"/VERB, \"ada\"/VERB, \"atau\"/CCONJ, \"tidaknya\"/ADV, \"korban\"/NOUN, \"akibat\"/NOUN, \"kebakaran\"/NOUN, \"tersebut\"/DET, \".\"/PUNCT]\n"
     ]
    }
   ],
   "source": [
    "from flair.data import Sentence\n",
    "from flair.models import SequenceTagger\n",
    "\n",
    "# text = f'Kebakaran melanda rumah tinggal Jalan Bangka Buntu I RT 05 RW 07 Kelurahan \\\n",
    "# Bangka, Kecamatan Mampang Prapatan, Jakarta Selatan, Senin (26/12/2022) malam. \\\n",
    "# \\\n",
    "# Perwira piket Suku Dinas Penanggulangan Kebakaran dan Penyelamatan Jakarta \\\n",
    "# Selatan, Moch Arief mengatakan, kebakaran dilaporkan warga terjadi sekitar \\\n",
    "# pukul 20.05 WIB.\\\n",
    "# \\\n",
    "# \"Terima berita sekitar pukul 20.05 WIB. Sumber warga, Ibu Nike,\" ujar Arief \\\n",
    "# saat dikonfirmasi, Senin.\\\n",
    "# \\\n",
    "# Arief mengatakan, tiga unit mobil pemadam dikerahkan untuk memadamkan api. \\\n",
    "# Adapun saat petugas masih berjibaku.\\\n",
    "# \\\n",
    "# \"Saat ini masih proses pemadaman,\" kata Arief.\\\n",
    "# \\\n",
    "# Hingga kini belum diketahui kemunculan api yang menjadi penyebab kebakaran \\\n",
    "# rumah warga tersebut.\\\n",
    "# \\\n",
    "# Adapun petugas pemadam yang berada di lokasi juga belum bisa memastikan ada \\\n",
    "# atau tidaknya korban akibat kebakaran tersebut.'\n",
    "# print(text)\n",
    "text = news['berita_desc'].iloc[1]\n",
    "# sentence = Sentence(text)\n",
    "# print(text)\n",
    "preprocessed_text = preprocessing(text, result=\"asis\")\n",
    "print(preprocessed_text)\n",
    "sentence = Sentence(preprocessed_text)\n",
    "# tag_pos2 = SequenceTagger.load(model_location + 'final-model.pt')\n",
    "# tag_pos2.predict(sentence)\n",
    "# print(sentence.to_tagged_string())\n",
    "tag_pos = SequenceTagger.load(model_location + 'best-model.pt')\n",
    "tag_pos.predict(sentence)\n",
    "print(sentence.to_tagged_string())"
   ]
  },
  {
   "cell_type": "code",
   "execution_count": 39,
   "metadata": {},
   "outputs": [],
   "source": [
    "def check_propn(tags, texts):\n",
    "    common_noun = [\"\"]\n",
    "\n",
    "    if len(texts[2]) < 3:\n",
    "        return 1\n",
    "    if tags[3] == 'PROPN' and tags[4] == 'PROPN' or \\\n",
    "        tags[1] == 'PROPN' and tags[3] == 'PROPN' or \\\n",
    "        tags[0] == 'PROPN' and tags[1] == 'PROPN':\n",
    "        return 1\n",
    "    # to test and catch certain use case\n",
    "    # ---\n",
    "    if tags[1] == 'PUNCT':\n",
    "        return 0\n",
    "    return 1\n",
    "    # ---\n",
    "    return 0"
   ]
  },
  {
   "cell_type": "code",
   "execution_count": 79,
   "metadata": {},
   "outputs": [],
   "source": [
    "day = (\"senin\", 'selasa', 'rabu', 'kamis', 'jumat', 'sabtu', 'minggu')\n",
    "month = ('januari', 'februari', 'maret', 'april', 'mei', 'juni', 'juli', 'agustus', 'september', 'oktober', 'november', 'desember')\n",
    "jan = ('januari', 'jan', 'january')\n",
    "feb = ('februari', 'feb', 'pebruari', 'peb', 'february')\n",
    "mar = ('maret', 'mar', 'march')\n",
    "apr = ('april', 'apr')\n",
    "mei = ('mei', 'may')\n",
    "jun = ('juni', 'jun', 'june')\n",
    "jul = ('juli', 'jul', 'july')\n",
    "agu = ('agustus', 'august', 'agu', 'aug')\n",
    "sep = ('september', 'sept', 'sep')\n",
    "okt = ('oktober', 'okt', 'oct', 'october')\n",
    "nov = ('november', 'nov', 'nopember', 'nop')\n",
    "des = ('desember', 'des', 'dec', 'december')"
   ]
  },
  {
   "cell_type": "code",
   "execution_count": 81,
   "metadata": {},
   "outputs": [],
   "source": [
    "pattern_date = [('PROPN', 'PUNCT', 'NUM', 'PUNCT', 'NUM', 'PUNCT', 'NUM', 'PUNCT'),\n",
    "                ('PROPN', 'PUNCT', 'NUM', 'PROPN', 'NUM', 'PUNCT'),\n",
    "                ('PROPN', 'PUNCT', 'NUM', 'PUNCT', 'NUM', 'PUNCT'),\n",
    "                ('PROPN', 'NOUN', 'PUNCT', 'NUM', 'PROPN', 'NUM', 'PUNCT')\n",
    "                ]\n",
    "idx_date = [(0, 2, 4, 6),\n",
    "            (0, 2, 3, 4),\n",
    "            (0, 2, 4),\n",
    "            (0, 3, 4, 5)\n",
    "            ]\n",
    "\n",
    "def represents_int(s):\n",
    "    try: \n",
    "        int(s)\n",
    "    except ValueError:\n",
    "        return False\n",
    "    else:\n",
    "        return True\n",
    "\n",
    "def handle_bulan(text):\n",
    "    if represents_int(text):\n",
    "        return int(text)\n",
    "    else:\n",
    "        text = text.lower()\n",
    "        if text in jan:\n",
    "            return 1\n",
    "        if text in feb:\n",
    "            return 2\n",
    "        if text in mar:\n",
    "            return 3\n",
    "        if text in apr:\n",
    "            return 4\n",
    "        if text in mei:\n",
    "            return 5\n",
    "        if text in jun:\n",
    "            return 6\n",
    "        if text in jul:\n",
    "            return 7\n",
    "        if text in agu:\n",
    "            return 8\n",
    "        if text in sep:\n",
    "            return 9\n",
    "        if text in okt:\n",
    "            return 10\n",
    "        if text in nov:\n",
    "            return 11\n",
    "        if text in des:\n",
    "            return 12\n",
    "    return -1\n",
    "\n",
    "def handle_tahun(text):\n",
    "    # print(text)\n",
    "    # print(type(text))\n",
    "    if represents_int(text):\n",
    "        return int(text)\n",
    "    return -1\n",
    "\n",
    "def handle_tanggal(text):\n",
    "    # print(text)\n",
    "    # print(type(text))\n",
    "    if represents_int(text):\n",
    "        return int(text)\n",
    "    print(text, type(text))\n",
    "    return 0\n",
    "\n",
    "def write_date(tgl, bulan, tahun):\n",
    "    if tgl/10 < 1:\n",
    "        tgl = \"0\" + str(tgl)     \n",
    "    if bulan/10 < 1:\n",
    "        bulan = \"0\" + str(bulan)\n",
    "    return str(tgl)+\"/\"+str(bulan)+\"/\"+str(tahun)   \n",
    "\n",
    "\n",
    "def find_date(sentence=None):\n",
    "    hari = []\n",
    "    tgl = []\n",
    "    bulan = []\n",
    "    tahun = []\n",
    "    for i in range(len(pattern_date)):\n",
    "        len_pattern = len(pattern_date[i])\n",
    "        len_sentence = len(sentence)\n",
    "\n",
    "        for j in range(len_sentence):\n",
    "            if len_sentence - j < len_pattern:\n",
    "                break\n",
    "            flag = True\n",
    "            \n",
    "            for k in range(len_pattern):\n",
    "                if sentence.tokens[j+k].tag != pattern_date[i][k]:\n",
    "                    flag = False\n",
    "                    break\n",
    "                # else:\n",
    "                #     print(sentence.tokens[j+k].tag)\n",
    "                #     print(sentence.tokens[j+k].text)\n",
    "                #     print('-------')\n",
    "            \n",
    "            if flag:\n",
    "                if str(sentence.tokens[j + idx_date[i][0]].text).lower() not in day:\n",
    "                    continue\n",
    "                if len(idx_date[i]) == 4:\n",
    "                    hari.append(str(sentence.tokens[j + idx_date[i][0]].text))\n",
    "                    tgl.append(handle_tanggal(sentence.tokens[j + idx_date[i][1]].text))\n",
    "                    bulan.append(handle_bulan(sentence.tokens[j + idx_date[i][2]].text))\n",
    "                    tahun.append(handle_tahun(sentence.tokens[j + idx_date[i][3]].text))\n",
    "                elif len(idx_date[i]) == 3:\n",
    "                    hari.append(str(sentence.tokens[j + idx_date[i][0]].text))\n",
    "                    tgl.append(handle_tanggal(sentence.tokens[j + idx_date[i][1]].text))\n",
    "                    bulan.append(handle_bulan(sentence.tokens[j + idx_date[i][2]].text))\n",
    "                    tahun.append(-1)\n",
    "    return hari, tgl, bulan, tahun\n"
   ]
  },
  {
   "cell_type": "code",
   "execution_count": 83,
   "metadata": {},
   "outputs": [
    {
     "name": "stdout",
     "output_type": "stream",
     "text": [
      "\\- Kebakaran melanda rumah tinggal Jalan Bangka Buntu I RT 05 RW 07 Kelurahan Bangka, Kecamatan Mampang Prapatan, Jakarta Selatan, Senin (26/12/2022) malam.  Perwira piket Suku Dinas Penanggulangan Kebakaran dan Penyelamatan Jakarta Selatan, Moch Arief mengatakan, kebakaran dilaporkan warga terjadi sekitar pukul 20.05 WIB.  \"Terima berita sekitar pukul 20.05 WIB. Sumber warga, Ibu Nike,\" ujar Arief saat dikonfirmasi, Senin.  Arief mengatakan, tiga unit mobil pemadam dikerahkan untuk memadamkan api. Adapun saat petugas masih berjibaku.  \"Saat ini masih proses pemadaman,\" kata Arief.  Hingga kini belum diketahui kemunculan api yang menjadi penyebab kebakaran rumah warga tersebut.  Adapun petugas pemadam yang berada di lokasi juga belum bisa memastikan ada atau tidaknya korban akibat kebakaran tersebut.   \n",
      "Sentence[139]: \"\\- Kebakaran melanda rumah tinggal Jalan Bangka Buntu I RT 05 RW 07 Kelurahan Bangka, Kecamatan Mampang Prapatan, Jakarta Selatan, Senin (26/12/2022) malam.  Perwira piket Suku Dinas Penanggulangan Kebakaran dan Penyelamatan Jakarta Selatan, Moch Arief mengatakan, kebakaran dilaporkan warga terjadi sekitar pukul 20.05 WIB.  \"Terima berita sekitar pukul 20.05 WIB. Sumber warga, Ibu Nike,\" ujar Arief saat dikonfirmasi, Senin.  Arief mengatakan, tiga unit mobil pemadam dikerahkan untuk memadamkan api. Adapun saat petugas masih berjibaku.  \"Saat ini masih proses pemadaman,\" kata Arief.  Hingga kini belum diketahui kemunculan api yang menjadi penyebab kebakaran rumah warga tersebut.  Adapun petugas pemadam yang berada di lokasi juga belum bisa memastikan ada atau tidaknya korban akibat kebakaran tersebut.\" → [\"\\-\"/PUNCT, \"Kebakaran\"/NOUN, \"melanda\"/VERB, \"rumah\"/NOUN, \"tinggal\"/VERB, \"Jalan\"/PROPN, \"Bangka\"/PROPN, \"Buntu\"/PROPN, \"I\"/NUM, \"RT\"/NOUN, \"05\"/NUM, \"RW\"/NOUN, \"07\"/NUM, \"Kelurahan\"/PROPN, \"Bangka\"/PROPN, \",\"/PUNCT, \"Kecamatan\"/PROPN, \"Mampang\"/PROPN, \"Prapatan\"/PROPN, \",\"/PUNCT, \"Jakarta\"/PROPN, \"Selatan\"/PROPN, \",\"/PUNCT, \"Senin\"/PROPN, \"(\"/PUNCT, \"26\"/NUM, \"/\"/PUNCT, \"12\"/NUM, \"/\"/PUNCT, \"2022\"/NUM, \")\"/PUNCT, \"malam\"/NOUN, \".\"/PUNCT, \"Perwira\"/NOUN, \"piket\"/NOUN, \"Suku\"/PROPN, \"Dinas\"/PROPN, \"Penanggulangan\"/PROPN, \"Kebakaran\"/PROPN, \"dan\"/CCONJ, \"Penyelamatan\"/PROPN, \"Jakarta\"/PROPN, \"Selatan\"/PROPN, \",\"/PUNCT, \"Moch\"/PROPN, \"Arief\"/PROPN, \"mengatakan\"/VERB, \",\"/PUNCT, \"kebakaran\"/NOUN, \"dilaporkan\"/VERB, \"warga\"/NOUN, \"terjadi\"/VERB, \"sekitar\"/ADP, \"pukul\"/NOUN, \"20.05\"/NUM, \"WIB\"/PROPN, \".\"/PUNCT, \"\"\"/PUNCT, \"Terima\"/VERB, \"berita\"/NOUN, \"sekitar\"/ADP, \"pukul\"/NOUN, \"20.05\"/NUM, \"WIB\"/PROPN, \".\"/PUNCT, \"Sumber\"/NOUN, \"warga\"/NOUN, \",\"/PUNCT, \"Ibu\"/PROPN, \"Nike\"/PROPN, \",\"\"/PUNCT, \"ujar\"/PROPN, \"Arief\"/PROPN, \"saat\"/SCONJ, \"dikonfirmasi\"/VERB, \",\"/PUNCT, \"Senin\"/PROPN, \".\"/PUNCT, \"Arief\"/PROPN, \"mengatakan\"/VERB, \",\"/PUNCT, \"tiga\"/NUM, \"unit\"/NOUN, \"mobil\"/NOUN, \"pemadam\"/NOUN, \"dikerahkan\"/VERB, \"untuk\"/SCONJ, \"memadamkan\"/VERB, \"api\"/NOUN, \".\"/PUNCT, \"Adapun\"/ADV, \"saat\"/NOUN, \"petugas\"/NOUN, \"masih\"/ADV, \"berjibaku\"/VERB, \".\"/PUNCT, \"\"\"/PUNCT, \"Saat\"/NOUN, \"ini\"/DET, \"masih\"/ADV, \"proses\"/NOUN, \"pemadaman\"/NOUN, \",\"\"/PUNCT, \"kata\"/NOUN, \"Arief\"/PROPN, \".\"/PUNCT, \"Hingga\"/SCONJ, \"kini\"/ADV, \"belum\"/PART, \"diketahui\"/VERB, \"kemunculan\"/NOUN, \"api\"/NOUN, \"yang\"/PRON, \"menjadi\"/VERB, \"penyebab\"/NOUN, \"kebakaran\"/NOUN, \"rumah\"/NOUN, \"warga\"/NOUN, \"tersebut\"/DET, \".\"/PUNCT, \"Adapun\"/SCONJ, \"petugas\"/NOUN, \"pemadam\"/NOUN, \"yang\"/PRON, \"berada\"/VERB, \"di\"/ADP, \"lokasi\"/NOUN, \"juga\"/ADV, \"belum\"/PART, \"bisa\"/AUX, \"memastikan\"/VERB, \"ada\"/VERB, \"atau\"/CCONJ, \"tidaknya\"/ADV, \"korban\"/NOUN, \"akibat\"/NOUN, \"kebakaran\"/NOUN, \"tersebut\"/DET, \".\"/PUNCT]\n",
      "26/12/2022\n",
      "\\- Tim SAR (search and rescue) masih terus melakukan pencarian para korban gempa bumi di Kabupaten Cianjur, Jawa Barat, hingga Minggu (27/11/2022).  Beberapa korban gempa di Cianjur tertimbun tanah longsor sehingga upaya pencarian perlu dilakukan dengan maksimal.  Untuk menemukan lokasi korban yang tertimbun tanah longsor, tim SAR pun memiliki strategi khusus.  Nardi, salah satu anggota tim SAR mengungkapkan, hal pertama yang harus diasah untuk menemukan keberadaan korban adalah mengoptimalkan indra penciuman.  \"Pertama dengan bau, baunya beda. Bau jenazah,\" kata Nardi di Desa Cijedil, Cugenang, Kabupaten Cianjur, Jawa Barat, Sabtu (26/11/2022), dikutip dari _Tribun Jabar._  Menurut Nardi, korban yang sudah berhari-hari meninggal dunia biasanya lebih mudah ditemukan.  Setelah menemukan titik lokasi jasad korban tertimbun, gundukan tanah harus terlebih dahulu disemprot air karena kondisi tanah yang sudah mulai mengeras.  \"Terus kita semprotkan air, terus kita ke dalam lumpur. Terus terlihat tangan dahulu,\" ucapnya.  Nardi menceritakan proses pengangkatan jenazah seorang wanita pada Sabtu (26/11/2022).  Proses pengangkatan jasad korban cukup menyulitkan karena posisinya yang berada di jurang.  Alhasil, jenazah tersebut harus diikatkan ke tali dan diangkat secara perlahan karena kondisi tubuhnya yang sudah tidak baik lagi.  \"Prosesnya penarikan dengan menggunakan webbing. Lokasi korban sudah tertimbun longsor. Takut lepas tangan atau bagian tubuh lainnya. Pelan-pelan dibantu dengan menggunakan webbing,\" tuturnya.  ## Jumlah korban gempa Cianjur  Menurut data Badan Nasional Penanggulangan Bencana (BNPB), korban meninggal dunia akibat gempa Cianjur mencapai 318 orang per Sabtu (26/11/2022) malam.  Kemudian, total korban luka-luka akibat gempa Cianjur bertambah menjadi 7.729 orang, dengan rincian korban luka berat 545 orang dan luka ringan 7.134 orang.  Saat ini, korban luka berat yang masih dirawat berjumlah 108 orang, sedangkan korban luka ringan yang sudah dirawat sudah kembali ke rumah masing-masing.  Sementara itu, jumlah warga yang masih bertahan di pengungsian berjumlah 73.693 orang.   \n",
      "Sentence[365]: \"\\- Tim SAR (search and rescue) masih terus melakukan pencarian para korban gempa bumi di Kabupaten Cianjur, Jawa Barat, hingga Minggu (27/11/2022).  Beberapa korban gempa di Cianjur tertimbun tanah longsor sehingga upaya pencarian perlu dilakukan dengan maksimal.  Untuk menemukan lokasi korban yang tertimbun tanah longsor, tim SAR pun memiliki strategi khusus.  Nardi, salah satu anggota tim SAR mengungkapkan, hal pertama yang harus diasah untuk menemukan keberadaan korban adalah mengoptimalkan indra penciuman.  \"Pertama dengan bau, baunya beda. Bau jenazah,\" kata Nardi di Desa Cijedil, Cugenang, Kabupaten Cianjur, Jawa Barat, Sabtu (26/11/2022), dikutip dari _Tribun Jabar._  Menurut Nardi, korban yang sudah berhari-hari meninggal dunia biasanya lebih mudah ditemukan.  Setelah menemukan titik lokasi jasad korban tertimbun, gundukan tanah harus terlebih dahulu disemprot air karena kondisi tanah yang sudah mulai mengeras.  \"Terus kita semprotkan air, terus kita ke dalam lumpur. Terus terlihat tangan dahulu,\" ucapnya.  Nardi menceritakan proses pengangkatan jenazah seorang wanita pada Sabtu (26/11/2022).  Proses pengangkatan jasad korban cukup menyulitkan karena posisinya yang berada di jurang.  Alhasil, jenazah tersebut harus diikatkan ke tali dan diangkat secara perlahan karena kondisi tubuhnya yang sudah tidak baik lagi.  \"Prosesnya penarikan dengan menggunakan webbing. Lokasi korban sudah tertimbun longsor. Takut lepas tangan atau bagian tubuh lainnya. Pelan-pelan dibantu dengan menggunakan webbing,\" tuturnya.  ## Jumlah korban gempa Cianjur  Menurut data Badan Nasional Penanggulangan Bencana (BNPB), korban meninggal dunia akibat gempa Cianjur mencapai 318 orang per Sabtu (26/11/2022) malam.  Kemudian, total korban luka-luka akibat gempa Cianjur bertambah menjadi 7.729 orang, dengan rincian korban luka berat 545 orang dan luka ringan 7.134 orang.  Saat ini, korban luka berat yang masih dirawat berjumlah 108 orang, sedangkan korban luka ringan yang sudah dirawat sudah kembali ke rumah masing-masing.  Sementara itu, jumlah warga yang masih bertahan di pengungsian berjumlah 73.693 orang.\" → [\"\\-\"/PUNCT, \"Tim\"/PROPN, \"SAR\"/PROPN, \"(\"/PUNCT, \"search\"/PROPN, \"and\"/X, \"rescue\"/PROPN, \")\"/PUNCT, \"masih\"/ADV, \"terus\"/ADV, \"melakukan\"/VERB, \"pencarian\"/NOUN, \"para\"/DET, \"korban\"/NOUN, \"gempa\"/NOUN, \"bumi\"/NOUN, \"di\"/ADP, \"Kabupaten\"/PROPN, \"Cianjur\"/PROPN, \",\"/PUNCT, \"Jawa\"/PROPN, \"Barat\"/PROPN, \",\"/PUNCT, \"hingga\"/ADP, \"Minggu\"/PROPN, \"(\"/PUNCT, \"27\"/NUM, \"/\"/PUNCT, \"11\"/NUM, \"/\"/PUNCT, \"2022\"/NUM, \")\"/PUNCT, \".\"/PUNCT, \"Beberapa\"/DET, \"korban\"/NOUN, \"gempa\"/NOUN, \"di\"/ADP, \"Cianjur\"/PROPN, \"tertimbun\"/VERB, \"tanah\"/NOUN, \"longsor\"/ADJ, \"sehingga\"/SCONJ, \"upaya\"/NOUN, \"pencarian\"/NOUN, \"perlu\"/ADV, \"dilakukan\"/VERB, \"dengan\"/SCONJ, \"maksimal\"/ADJ, \".\"/PUNCT, \"Untuk\"/SCONJ, \"menemukan\"/VERB, \"lokasi\"/NOUN, \"korban\"/NOUN, \"yang\"/PRON, \"tertimbun\"/VERB, \"tanah\"/NOUN, \"longsor\"/NOUN, \",\"/PUNCT, \"tim\"/NOUN, \"SAR\"/PROPN, \"pun\"/PART, \"memiliki\"/VERB, \"strategi\"/NOUN, \"khusus\"/ADJ, \".\"/PUNCT, \"Nardi\"/PROPN, \",\"/PUNCT, \"salah\"/ADJ, \"satu\"/NUM, \"anggota\"/NOUN, \"tim\"/NOUN, \"SAR\"/PROPN, \"mengungkapkan\"/VERB, \",\"/PUNCT, \"hal\"/NOUN, \"pertama\"/ADJ, \"yang\"/PRON, \"harus\"/AUX, \"diasah\"/VERB, \"untuk\"/SCONJ, \"menemukan\"/VERB, \"keberadaan\"/NOUN, \"korban\"/NOUN, \"adalah\"/AUX, \"mengoptimalkan\"/VERB, \"indra\"/NOUN, \"penciuman\"/NOUN, \".\"/PUNCT, \"\"\"/PUNCT, \"Pertama\"/ADJ, \"dengan\"/ADP, \"bau\"/NOUN, \",\"/PUNCT, \"baunya\"/NOUN, \"beda\"/ADJ, \".\"/PUNCT, \"Bau\"/NOUN, \"jenazah\"/NOUN, \",\"\"/PUNCT, \"kata\"/NOUN, \"Nardi\"/PROPN, \"di\"/ADP, \"Desa\"/PROPN, \"Cijedil\"/PROPN, \",\"/PUNCT, \"Cugenang\"/PROPN, \",\"/PUNCT, \"Kabupaten\"/PROPN, \"Cianjur\"/PROPN, \",\"/PUNCT, \"Jawa\"/PROPN, \"Barat\"/PROPN, \",\"/PUNCT, \"Sabtu\"/PROPN, \"(\"/PUNCT, \"26\"/NUM, \"/\"/PUNCT, \"11\"/NUM, \"/\"/PUNCT, \"2022\"/NUM, \")\"/PUNCT, \",\"/PUNCT, \"dikutip\"/VERB, \"dari\"/ADP, \"_\"/PUNCT, \"Tribun\"/PROPN, \"Jabar.\"/PROPN, \"_\"/PUNCT, \"Menurut\"/ADP, \"Nardi\"/PROPN, \",\"/PUNCT, \"korban\"/NOUN, \"yang\"/PRON, \"sudah\"/AUX, \"berhari-hari\"/ADJ, \"meninggal\"/VERB, \"dunia\"/NOUN, \"biasanya\"/ADV, \"lebih\"/ADV, \"mudah\"/ADJ, \"ditemukan\"/VERB, \".\"/PUNCT, \"Setelah\"/SCONJ, \"menemukan\"/VERB, \"titik\"/NOUN, \"lokasi\"/NOUN, \"jasad\"/NOUN, \"korban\"/NOUN, \"tertimbun\"/VERB, \",\"/PUNCT, \"gundukan\"/NOUN, \"tanah\"/NOUN, \"harus\"/AUX, \"terlebih\"/ADV, \"dahulu\"/ADV, \"disemprot\"/VERB, \"air\"/NOUN, \"karena\"/SCONJ, \"kondisi\"/NOUN, \"tanah\"/NOUN, \"yang\"/PRON, \"sudah\"/AUX, \"mulai\"/VERB, \"mengeras\"/VERB, \".\"/PUNCT, \"\"\"/PUNCT, \"Terus\"/ADV, \"kita\"/PRON, \"semprotkan\"/VERB, \"air\"/NOUN, \",\"/PUNCT, \"terus\"/ADV, \"kita\"/PRON, \"ke\"/ADP, \"dalam\"/ADP, \"lumpur\"/NOUN, \".\"/PUNCT, \"Terus\"/ADV, \"terlihat\"/VERB, \"tangan\"/NOUN, \"dahulu\"/ADJ, \",\"\"/PUNCT, \"ucapnya\"/NOUN, \".\"/PUNCT, \"Nardi\"/PROPN, \"menceritakan\"/VERB, \"proses\"/NOUN, \"pengangkatan\"/NOUN, \"jenazah\"/NOUN, \"seorang\"/DET, \"wanita\"/NOUN, \"pada\"/ADP, \"Sabtu\"/PROPN, \"(\"/PUNCT, \"26\"/NUM, \"/\"/PUNCT, \"11\"/NUM, \"/\"/PUNCT, \"2022\"/NUM, \")\"/PUNCT, \".\"/PUNCT, \"Proses\"/NOUN, \"pengangkatan\"/NOUN, \"jasad\"/NOUN, \"korban\"/NOUN, \"cukup\"/ADV, \"menyulitkan\"/VERB, \"karena\"/SCONJ, \"posisinya\"/NOUN, \"yang\"/PRON, \"berada\"/VERB, \"di\"/ADP, \"jurang\"/NOUN, \".\"/PUNCT, \"Alhasil\"/ADV, \",\"/PUNCT, \"jenazah\"/NOUN, \"tersebut\"/DET, \"harus\"/AUX, \"diikatkan\"/VERB, \"ke\"/ADP, \"tali\"/NOUN, \"dan\"/CCONJ, \"diangkat\"/VERB, \"secara\"/ADP, \"perlahan\"/ADJ, \"karena\"/ADP, \"kondisi\"/NOUN, \"tubuhnya\"/NOUN, \"yang\"/PRON, \"sudah\"/AUX, \"tidak\"/PART, \"baik\"/ADJ, \"lagi\"/ADV, \".\"/PUNCT, \"\"\"/PUNCT, \"Prosesnya\"/NOUN, \"penarikan\"/NOUN, \"dengan\"/SCONJ, \"menggunakan\"/VERB, \"webbing\"/NOUN, \".\"/PUNCT, \"Lokasi\"/NOUN, \"korban\"/NOUN, \"sudah\"/AUX, \"tertimbun\"/VERB, \"longsor\"/ADJ, \".\"/PUNCT, \"Takut\"/VERB, \"lepas\"/NOUN, \"tangan\"/NOUN, \"atau\"/CCONJ, \"bagian\"/NOUN, \"tubuh\"/NOUN, \"lainnya\"/ADJ, \".\"/PUNCT, \"Pelan-pelan\"/PROPN, \"dibantu\"/VERB, \"dengan\"/SCONJ, \"menggunakan\"/VERB, \"webbing\"/NOUN, \",\"\"/PUNCT, \"tuturnya\"/NOUN, \".\"/PUNCT, \"##\"/PUNCT, \"Jumlah\"/NOUN, \"korban\"/NOUN, \"gempa\"/NOUN, \"Cianjur\"/PROPN, \"Menurut\"/ADP, \"data\"/NOUN, \"Badan\"/PROPN, \"Nasional\"/PROPN, \"Penanggulangan\"/PROPN, \"Bencana\"/PROPN, \"(\"/PUNCT, \"BNPB\"/PROPN, \")\"/PUNCT, \",\"/PUNCT, \"korban\"/NOUN, \"meninggal\"/VERB, \"dunia\"/NOUN, \"akibat\"/NOUN, \"gempa\"/NOUN, \"Cianjur\"/PROPN, \"mencapai\"/VERB, \"318\"/NUM, \"orang\"/NOUN, \"per\"/ADP, \"Sabtu\"/PROPN, \"(\"/PUNCT, \"26\"/NUM, \"/\"/PUNCT, \"11\"/NUM, \"/\"/PUNCT, \"2022\"/NUM, \")\"/PUNCT, \"malam\"/NOUN, \".\"/PUNCT, \"Kemudian\"/ADV, \",\"/PUNCT, \"total\"/NOUN, \"korban\"/NOUN, \"luka-luka\"/ADJ, \"akibat\"/NOUN, \"gempa\"/NOUN, \"Cianjur\"/PROPN, \"bertambah\"/VERB, \"menjadi\"/VERB, \"7.729\"/NUM, \"orang\"/NOUN, \",\"/PUNCT, \"dengan\"/ADP, \"rincian\"/NOUN, \"korban\"/NOUN, \"luka\"/NOUN, \"berat\"/ADJ, \"545\"/NUM, \"orang\"/NOUN, \"dan\"/CCONJ, \"luka\"/NOUN, \"ringan\"/ADJ, \"7.134\"/NUM, \"orang\"/NOUN, \".\"/PUNCT, \"Saat\"/NOUN, \"ini\"/DET, \",\"/PUNCT, \"korban\"/NOUN, \"luka\"/NOUN, \"berat\"/ADJ, \"yang\"/PRON, \"masih\"/ADV, \"dirawat\"/VERB, \"berjumlah\"/VERB, \"108\"/NUM, \"orang\"/NOUN, \",\"/PUNCT, \"sedangkan\"/SCONJ, \"korban\"/NOUN, \"luka\"/NOUN, \"ringan\"/ADJ, \"yang\"/PRON, \"sudah\"/AUX, \"dirawat\"/VERB, \"sudah\"/AUX, \"kembali\"/VERB, \"ke\"/ADP, \"rumah\"/NOUN, \"masing-masing\"/DET, \".\"/PUNCT, \"Sementara\"/SCONJ, \"itu\"/DET, \",\"/PUNCT, \"jumlah\"/NOUN, \"warga\"/NOUN, \"yang\"/PRON, \"masih\"/ADV, \"bertahan\"/VERB, \"di\"/ADP, \"pengungsian\"/NOUN, \"berjumlah\"/VERB, \"73.693\"/NUM, \"orang\"/NOUN, \".\"/PUNCT]\n",
      "27/11/2022\n",
      "Hujan deras yang mengguyur wilayah Sukabumi selama beberapa jam membuat ruas jalan nasional Cibadak-Palabuhanratu di Kampung Cikananga, Desa Tonjong, Kecamatan Palabuhanratu, Sukabumi, Jawa Barat tertimbun longsor, Senin (12/12/2022) sekitar pukul 21.30 WIB.  Akibatnya arus lalu lintas dari kedua arah macet total, antrean kendaraan diperkiraan mencapai 5 kilometer.  Hingga Selasa (13/12/2022) pukul 6.30 WIB kendaraan masih belum bisa bergerak.  \"Saya sudah lebih sembilan jam diam, mobil tidak bisa bergerak macet. Ada jalan yang tertimbun longsor,\" ungkap seorang warga Herman Meenk (40) warga Palabuhanratu saat dikonfirmasi Kompas.com melalui pesan whats app, Selasa pagi.  Herman menuturkan Senin malam rencananya akan pulang menuju Palabuhanratu dari Sukabumi. Namun akhirnya Selasa pagi dia memutuskan kembali ke arah Sukabumi.  \"Ekor kendaraan ke arah Palabuhanratu hingga Linggamanik Bantargadung,\" tutur pimpinan perusahaan MagnetIndonesia.co itu.  Sementara Suhendi (30) mengatakan, antrean kendaraan dari arah Palabuhanratu hingga lokasi longsor mencapai sekitar 5 kilometer. Bahkan jenis kendaraan truk yang mengangkut barang berhenti di sekitar Desa Citarik.  \"Ekor kendaraan hingga sekitar Kampung Nyalindung yang waktu itu lokasi bencana gerakan tanah,\" kata Suhendi.  ## Akses jalan belum bia dilalui  Koordinator Pusat Pengendalian Operasi Badan Penanggulangan Bencana Daerah (Pusdalops BPBD) Kabupaten Sukabumi Daeng Sutisna mengatakan, longsor terjadi di ruas jalan Cibadak-Palabuhanratu tepatnya di Kampung Cikananga Desa Tonjong, Kecamatan Palabuhanratu.  \"Akses jalan raya tertutup material longsoran dengan panjang 20 meter, lebar 25 meter dan belum bisa dilalui oleh kendaraan roda empat maupun roda dua,\" kata Daeng melalui keterangan tertulis diterima Kompas.com Selasa pagi.  Menurut Daeng bencana tanah longsor menimbun jalan raya dampak hujan dengan intensitas deras yang berlangsung Selasa siang hingga malam. Hujan mengguyur wilayah Sukabumi beberapa jam.  \"Tidak ada korban luka maupun jiwa dalam peristiwa ini,\" ujar dia.  Sejak semalam, lanjut Daeng, penanganan sudah dilaksanakan gabungan, di antaranya Petugas Penanggulangan Bencana Kecamatan (P2BK) Bantargadung, Palabuhanratu dan tim BPBD, jajaran Polres Sukabumi, Kodim 0622, Kecamatan Palabuhanratu dan Bantargadung serta masyarakat.   \n",
      "Sentence[369]: \"Hujan deras yang mengguyur wilayah Sukabumi selama beberapa jam membuat ruas jalan nasional Cibadak-Palabuhanratu di Kampung Cikananga, Desa Tonjong, Kecamatan Palabuhanratu, Sukabumi, Jawa Barat tertimbun longsor, Senin (12/12/2022) sekitar pukul 21.30 WIB.  Akibatnya arus lalu lintas dari kedua arah macet total, antrean kendaraan diperkiraan mencapai 5 kilometer.  Hingga Selasa (13/12/2022) pukul 6.30 WIB kendaraan masih belum bisa bergerak.  \"Saya sudah lebih sembilan jam diam, mobil tidak bisa bergerak macet. Ada jalan yang tertimbun longsor,\" ungkap seorang warga Herman Meenk (40) warga Palabuhanratu saat dikonfirmasi Kompas.com melalui pesan whats app, Selasa pagi.  Herman menuturkan Senin malam rencananya akan pulang menuju Palabuhanratu dari Sukabumi. Namun akhirnya Selasa pagi dia memutuskan kembali ke arah Sukabumi.  \"Ekor kendaraan ke arah Palabuhanratu hingga Linggamanik Bantargadung,\" tutur pimpinan perusahaan MagnetIndonesia.co itu.  Sementara Suhendi (30) mengatakan, antrean kendaraan dari arah Palabuhanratu hingga lokasi longsor mencapai sekitar 5 kilometer. Bahkan jenis kendaraan truk yang mengangkut barang berhenti di sekitar Desa Citarik.  \"Ekor kendaraan hingga sekitar Kampung Nyalindung yang waktu itu lokasi bencana gerakan tanah,\" kata Suhendi.  ## Akses jalan belum bia dilalui  Koordinator Pusat Pengendalian Operasi Badan Penanggulangan Bencana Daerah (Pusdalops BPBD) Kabupaten Sukabumi Daeng Sutisna mengatakan, longsor terjadi di ruas jalan Cibadak-Palabuhanratu tepatnya di Kampung Cikananga Desa Tonjong, Kecamatan Palabuhanratu.  \"Akses jalan raya tertutup material longsoran dengan panjang 20 meter, lebar 25 meter dan belum bisa dilalui oleh kendaraan roda empat maupun roda dua,\" kata Daeng melalui keterangan tertulis diterima Kompas.com Selasa pagi.  Menurut Daeng bencana tanah longsor menimbun jalan raya dampak hujan dengan intensitas deras yang berlangsung Selasa siang hingga malam. Hujan mengguyur wilayah Sukabumi beberapa jam.  \"Tidak ada korban luka maupun jiwa dalam peristiwa ini,\" ujar dia.  Sejak semalam, lanjut Daeng, penanganan sudah dilaksanakan gabungan, di antaranya Petugas Penanggulangan Bencana Kecamatan (P2BK) Bantargadung, Palabuhanratu dan tim BPBD, jajaran Polres Sukabumi, Kodim 0622, Kecamatan Palabuhanratu dan Bantargadung serta masyarakat.\" → [\"Hujan\"/NOUN, \"deras\"/ADJ, \"yang\"/PRON, \"mengguyur\"/VERB, \"wilayah\"/NOUN, \"Sukabumi\"/PROPN, \"selama\"/ADP, \"beberapa\"/DET, \"jam\"/NOUN, \"membuat\"/VERB, \"ruas\"/NOUN, \"jalan\"/NOUN, \"nasional\"/ADJ, \"Cibadak-Palabuhanratu\"/PROPN, \"di\"/ADP, \"Kampung\"/PROPN, \"Cikananga\"/PROPN, \",\"/PUNCT, \"Desa\"/PROPN, \"Tonjong\"/PROPN, \",\"/PUNCT, \"Kecamatan\"/PROPN, \"Palabuhanratu\"/PROPN, \",\"/PUNCT, \"Sukabumi\"/PROPN, \",\"/PUNCT, \"Jawa\"/PROPN, \"Barat\"/PROPN, \"tertimbun\"/VERB, \"longsor\"/NOUN, \",\"/PUNCT, \"Senin\"/PROPN, \"(\"/PUNCT, \"12\"/NUM, \"/\"/PUNCT, \"12\"/NUM, \"/\"/PUNCT, \"2022\"/NUM, \")\"/PUNCT, \"sekitar\"/ADP, \"pukul\"/NOUN, \"21.30\"/NUM, \"WIB\"/PROPN, \".\"/PUNCT, \"Akibatnya\"/ADV, \"arus\"/NOUN, \"lalu\"/NOUN, \"lintas\"/ADJ, \"dari\"/ADP, \"kedua\"/NUM, \"arah\"/NOUN, \"macet\"/NOUN, \"total\"/ADJ, \",\"/PUNCT, \"antrean\"/NOUN, \"kendaraan\"/NOUN, \"diperkiraan\"/VERB, \"mencapai\"/VERB, \"5\"/NUM, \"kilometer\"/NOUN, \".\"/PUNCT, \"Hingga\"/ADP, \"Selasa\"/PROPN, \"(\"/PUNCT, \"13\"/NUM, \"/\"/PUNCT, \"12\"/NUM, \"/\"/PUNCT, \"2022\"/NUM, \")\"/PUNCT, \"pukul\"/NOUN, \"6.30\"/NUM, \"WIB\"/NOUN, \"kendaraan\"/NOUN, \"masih\"/ADV, \"belum\"/PART, \"bisa\"/AUX, \"bergerak\"/VERB, \".\"/PUNCT, \"\"\"/PUNCT, \"Saya\"/PRON, \"sudah\"/AUX, \"lebih\"/ADV, \"sembilan\"/NUM, \"jam\"/NOUN, \"diam\"/ADJ, \",\"/PUNCT, \"mobil\"/NOUN, \"tidak\"/PART, \"bisa\"/AUX, \"bergerak\"/VERB, \"macet\"/ADJ, \".\"/PUNCT, \"Ada\"/VERB, \"jalan\"/NOUN, \"yang\"/PRON, \"tertimbun\"/VERB, \"longsor\"/NOUN, \",\"\"/PUNCT, \"ungkap\"/VERB, \"seorang\"/DET, \"warga\"/NOUN, \"Herman\"/PROPN, \"Meenk\"/PROPN, \"(\"/PUNCT, \"40\"/NUM, \")\"/PUNCT, \"warga\"/NOUN, \"Palabuhanratu\"/PROPN, \"saat\"/SCONJ, \"dikonfirmasi\"/VERB, \"Kompas.com\"/NOUN, \"melalui\"/ADP, \"pesan\"/NOUN, \"whats\"/PROPN, \"app\"/PROPN, \",\"/PUNCT, \"Selasa\"/PROPN, \"pagi\"/PROPN, \".\"/PUNCT, \"Herman\"/PROPN, \"menuturkan\"/VERB, \"Senin\"/NOUN, \"malam\"/NOUN, \"rencananya\"/NOUN, \"akan\"/AUX, \"pulang\"/VERB, \"menuju\"/ADP, \"Palabuhanratu\"/PROPN, \"dari\"/ADP, \"Sukabumi\"/PROPN, \".\"/PUNCT, \"Namun\"/ADV, \"akhirnya\"/ADV, \"Selasa\"/PROPN, \"pagi\"/NOUN, \"dia\"/PRON, \"memutuskan\"/VERB, \"kembali\"/VERB, \"ke\"/ADP, \"arah\"/NOUN, \"Sukabumi\"/PROPN, \".\"/PUNCT, \"\"\"/PUNCT, \"Ekor\"/NOUN, \"kendaraan\"/NOUN, \"ke\"/ADP, \"arah\"/NOUN, \"Palabuhanratu\"/PROPN, \"hingga\"/ADP, \"Linggamanik\"/PROPN, \"Bantargadung\"/PROPN, \",\"\"/PUNCT, \"tutur\"/VERB, \"pimpinan\"/NOUN, \"perusahaan\"/NOUN, \"MagnetIndonesia.co\"/PROPN, \"itu\"/DET, \".\"/PUNCT, \"Sementara\"/SCONJ, \"Suhendi\"/PROPN, \"(\"/PUNCT, \"30\"/NUM, \")\"/PUNCT, \"mengatakan\"/VERB, \",\"/PUNCT, \"antrean\"/NOUN, \"kendaraan\"/NOUN, \"dari\"/ADP, \"arah\"/NOUN, \"Palabuhanratu\"/PROPN, \"hingga\"/ADP, \"lokasi\"/NOUN, \"longsor\"/NOUN, \"mencapai\"/VERB, \"sekitar\"/ADP, \"5\"/NUM, \"kilometer\"/NOUN, \".\"/PUNCT, \"Bahkan\"/SCONJ, \"jenis\"/NOUN, \"kendaraan\"/NOUN, \"truk\"/NOUN, \"yang\"/PRON, \"mengangkut\"/VERB, \"barang\"/NOUN, \"berhenti\"/VERB, \"di\"/ADP, \"sekitar\"/ADP, \"Desa\"/PROPN, \"Citarik\"/PROPN, \".\"/PUNCT, \"\"\"/PUNCT, \"Ekor\"/NOUN, \"kendaraan\"/NOUN, \"hingga\"/ADP, \"sekitar\"/ADP, \"Kampung\"/PROPN, \"Nyalindung\"/PROPN, \"yang\"/PRON, \"waktu\"/NOUN, \"itu\"/DET, \"lokasi\"/NOUN, \"bencana\"/NOUN, \"gerakan\"/NOUN, \"tanah\"/NOUN, \",\"\"/PUNCT, \"kata\"/NOUN, \"Suhendi\"/PROPN, \".\"/PUNCT, \"##\"/PUNCT, \"Akses\"/NOUN, \"jalan\"/NOUN, \"belum\"/PART, \"bia\"/NOUN, \"dilalui\"/VERB, \"Koordinator\"/NOUN, \"Pusat\"/PROPN, \"Pengendalian\"/PROPN, \"Operasi\"/PROPN, \"Badan\"/PROPN, \"Penanggulangan\"/PROPN, \"Bencana\"/PROPN, \"Daerah\"/PROPN, \"(\"/PUNCT, \"Pusdalops\"/PROPN, \"BPBD\"/PROPN, \")\"/PUNCT, \"Kabupaten\"/PROPN, \"Sukabumi\"/PROPN, \"Daeng\"/PROPN, \"Sutisna\"/PROPN, \"mengatakan\"/VERB, \",\"/PUNCT, \"longsor\"/NOUN, \"terjadi\"/VERB, \"di\"/ADP, \"ruas\"/NOUN, \"jalan\"/NOUN, \"Cibadak-Palabuhanratu\"/PROPN, \"tepatnya\"/ADV, \"di\"/ADP, \"Kampung\"/PROPN, \"Cikananga\"/PROPN, \"Desa\"/PROPN, \"Tonjong\"/PROPN, \",\"/PUNCT, \"Kecamatan\"/PROPN, \"Palabuhanratu\"/PROPN, \".\"/PUNCT, \"\"\"/PUNCT, \"Akses\"/NOUN, \"jalan\"/NOUN, \"raya\"/NOUN, \"tertutup\"/VERB, \"material\"/NOUN, \"longsoran\"/NOUN, \"dengan\"/ADP, \"panjang\"/NOUN, \"20\"/NUM, \"meter\"/NOUN, \",\"/PUNCT, \"lebar\"/NOUN, \"25\"/NUM, \"meter\"/NOUN, \"dan\"/CCONJ, \"belum\"/PART, \"bisa\"/AUX, \"dilalui\"/VERB, \"oleh\"/ADP, \"kendaraan\"/NOUN, \"roda\"/NOUN, \"empat\"/NUM, \"maupun\"/CCONJ, \"roda\"/NOUN, \"dua\"/NUM, \",\"\"/PUNCT, \"kata\"/NOUN, \"Daeng\"/PROPN, \"melalui\"/ADP, \"keterangan\"/NOUN, \"tertulis\"/ADJ, \"diterima\"/VERB, \"Kompas.com\"/PROPN, \"Selasa\"/PROPN, \"pagi\"/PROPN, \".\"/PUNCT, \"Menurut\"/ADP, \"Daeng\"/PROPN, \"bencana\"/NOUN, \"tanah\"/NOUN, \"longsor\"/NOUN, \"menimbun\"/VERB, \"jalan\"/NOUN, \"raya\"/NOUN, \"dampak\"/NOUN, \"hujan\"/NOUN, \"dengan\"/ADP, \"intensitas\"/NOUN, \"deras\"/ADJ, \"yang\"/PRON, \"berlangsung\"/VERB, \"Selasa\"/PROPN, \"siang\"/NOUN, \"hingga\"/ADP, \"malam\"/NOUN, \".\"/PUNCT, \"Hujan\"/PROPN, \"mengguyur\"/VERB, \"wilayah\"/NOUN, \"Sukabumi\"/PROPN, \"beberapa\"/DET, \"jam\"/NOUN, \".\"/PUNCT, \"\"\"/PUNCT, \"Tidak\"/PART, \"ada\"/VERB, \"korban\"/NOUN, \"luka\"/NOUN, \"maupun\"/CCONJ, \"jiwa\"/NOUN, \"dalam\"/ADP, \"peristiwa\"/NOUN, \"ini\"/DET, \",\"\"/PUNCT, \"ujar\"/NOUN, \"dia\"/PRON, \".\"/PUNCT, \"Sejak\"/ADP, \"semalam\"/NOUN, \",\"/PUNCT, \"lanjut\"/VERB, \"Daeng\"/PROPN, \",\"/PUNCT, \"penanganan\"/NOUN, \"sudah\"/AUX, \"dilaksanakan\"/VERB, \"gabungan\"/NOUN, \",\"/PUNCT, \"di\"/ADP, \"antaranya\"/ADP, \"Petugas\"/NOUN, \"Penanggulangan\"/PROPN, \"Bencana\"/PROPN, \"Kecamatan\"/PROPN, \"(\"/PUNCT, \"P2BK\"/PROPN, \")\"/PUNCT, \"Bantargadung\"/PROPN, \",\"/PUNCT, \"Palabuhanratu\"/PROPN, \"dan\"/CCONJ, \"tim\"/NOUN, \"BPBD\"/PROPN, \",\"/PUNCT, \"jajaran\"/NOUN, \"Polres\"/PROPN, \"Sukabumi\"/PROPN, \",\"/PUNCT, \"Kodim\"/PROPN, \"0622\"/NUM, \",\"/PUNCT, \"Kecamatan\"/PROPN, \"Palabuhanratu\"/PROPN, \"dan\"/CCONJ, \"Bantargadung\"/PROPN, \"serta\"/CCONJ, \"masyarakat\"/NOUN, \".\"/PUNCT]\n",
      "12/12/2022\n",
      "\\- Kebakaran melanda 25 unit rumah kontrakan di Jalan Manggarai Utara II, Kelurahan Manggarai, Kecamatan Tebet, Jakarta Selatan, pada Sabtu (17/12/2022) sore.  Kebakaran ini disebut disebabkan oleh petir yang menyambar meteran listrik.  Sekitar 53 kepala keluarga (KK) yang terdiri dari 230 jiwa diungsikan ke beberapa lokasi, seperti gedung karang taruna setempat, masjid SMPN 3 Jakarta, hingga mengungsi ke rumah kerabat masing-masing.  Para warga yang menjadi korban kebakaran disebut telah menerima bantuan dari berbagai instansi.  ## Meteran listrik tersambar petir  Warga sekaligus saksi mata, Siti Nafisah (53), menyebutkan bahwa kebakaran ini bermula saat hujan deras disertai angin kencang terjadi sekitar pukul 15.00 WIB.  Karena kondisi cuaca itu, Siti bersama suaminya lalu mengecek kontrakan miliknya yang berada persis di belakang rumah mereka.  \"Kami keluar ke belakang, ke kontrakan-kontrakan, takut ada yang bocor karena angin kencang semua pada terbang,\" sebut Siti saat ditemui di Jalan Manggarai Utara II, Minggu (18/12/2022).  Saat hendak mengecek kontrakan, Siti melihat petir menyambar meteran listrik. Suara sambaran yang kencang membuatnya mengucap istigfar.  \"Pas saya lagi di belakang, petir _nyamber_ kilometer, itu yang listrik (meteran listrik). Saya kan kaget, langsung _astaghfirullahaladzim_ ,\" tutur Siti.  Saat itu, Siti mencium bau hangus. Ia langsung mengecek kondisi rumahnya. Siti mengaku melihat asap ketika berada di lantai dua rumahnya.  Namun, saat itu belum ada kobaran api yang muncul.  Saat turun ke lantai satu rumahnya, Siti melihat asap itu muncul dari arah belakang kediamannya.  Ia tak sempat membawa barang berharga miliknya, termasuk dua sepeda motor yang terparkir di dekat rumahnya.  Sementara itu, pada kesempatan terpisah, Ketua RT 011 RW 001 Kelurahan Manggarai Warsono menuturkan, kebakaran di wilayahnya terjadi karena korsleting.  Kebakaran mulanya hanya melanda satu rumah. Karena angin kencang, kebakaran merembet ke rumah lainnya.  Berbeda dengan yang disampaikan Siti, Warsono menyebutkan petir menyambar antena televisi di rumah salah satu warga di sana.  \"Awalnya itu _nyamber_ antena televisi. Jadi fatalnya di situ, dari petir. Suaranya meleduk begitu, _duarr_ , suaranya besar,\" tutur Warsono.  ## Selamatkan surat-surat berharga  ![Suasana sederet rumah kontrakan di Jalan Manggarai Utara II, RT11/RW01, Kecamatan Tebet, Jakarta Selatan, pada Minggu \\(18/12/2022\\).](https://asset.kompas.com/crops/10xiCjZpy- K_z2DMtvhPKLzb1WU=/0x0:0x0/750x500/data/photo/2022/12/18/639e8c0a98fea.jpg)KOMPAS.com/MUHAMMAD NAUFAL Suasana sederet rumah kontrakan di Jalan Manggarai Utara II, RT11/RW01, Kecamatan Tebet, Jakarta Selatan, pada Minggu (18/12/2022).  Diah (52) merupakan salah satu warga Jalan Manggarai Utara II yang menjadi korban kebakaran.  Diah bercerita, pada akhir pekan, dia sejatinya jarang berada di rumah kontrakannya tersebut.  Di kontrakan berukuran 3x3 meter, Sabtu lalu, Diah menghabiskan waktu bersama putra bungsunya yang berusia 14 tahun.  Diah mengaku, usai shalat ashar, putra bungsunya meminta pergi dari kontrakan itu.  \"Anakku sempat ngomong memang, 'Mah, pindah Bekasi yuk, kayaknya suasananya enggak enak. Hawanya Jakarta sudah panas',\" ucap Diah menirukan perkataan sang anak.  Tidak begitu lama, suara sambaran petir terdengar hingga kontrakannya yang berada di lantai dua.  Dalam hitungan detik, tetangga-tetangga Diah berteriak bahwa kebakaran telah terjadi.  Ia tidak langsung keluar dari kontrakannya. Saat itu juga, Diah memikirkan barang yang bisa dibawa. Dia lalu meraih surat-surat berharga yang terletak di sebuah tas.  Karena api menyambar dengan cepat, ia tidak kepikiran untuk menyelamatkan barang-barang lainnya.  Diah menuturkan, barang-barangnya yang terbakar berupa perabotan, barang dapur, dan pakaian.  Surat-surat berharga yang dibawa adalah ijazah sekolah Diah dan anak-anaknya.  \"Yang selamat cuma surat-surat penting, sudah enggak ada lagi sisanya,\" ucap Diah.  Minggu kemarin, Diah bersama putra bungsunya mengungsi di tempat pengungsian.  ## Merasa ikhlas dan sabar  Meski kediamannya hangus, Diah mengaku merasa bersyukur bisa beristirahat di tempat pengungsian.  Bersama anak bungsunya, Diah merasa nyaman tidur di tempat pengungsian yang berada di gedung karang taruna setempat.  Ibu tiga anak ini menilai, musibah yang menimpanya merupakan perjalanan hidup yang sebenarnya.  Diah pun mengaku tak bisa menuntut siapa pun atas kehilangan barang-barang berharganya. Sebab, menurut dia, semua barang miliknya adalah milik Allah.  \"Enggak bisa _nuntut_ juga karena semua punya Allah. Sekalipun itu hilangnya karena manusia, tetap enggak bisa,\" ucap dia.  \"Kalau manusia (yang menghilangkan), kita bisa sakit hati, tapi tetap tidak bisa. Allah mengizinkan itu diambil oleh orang. Tapi, kalau hilangnya kebakaran atau kebanjiran, itu sudah kehendak Allah,\" lanjut dia.  Menurut Diah, ada dua hal penting yang dapat diambil hikmahnya dari musibah ini, yakni kesabaran dan keikhlasan.  Ia meyakini bahwa barang-barangnya yang hangus terbakar bakal tergantikan.  \"Yang penting satu, kesabaran dan keikhlasan, yakin kok Allah akan menggantikan,\" kata Diah.  ## Bantuan telah dikirimkan  Sementara itu, Ketua RW 001 Kelurahan Manggarai Prihatin Budi Santoso menuturkan, sejumlah instansi pemerintah telah mengirimkan bantuan untuk korban kebakaran itu.  Menurut Prihatin, selain instansi pemerintah, warga sekitar yang tak terdampak juga memberikan bantuan.  \"Bantuan alhamdulillah dari TNI, BPBD (DKI Jakarta), Baznas, Kementerian Sosial (Kemensos), semua turun,\" tutur Prihatin di Kantor Sekretariat RW 001 Manggarai.  Prihatin menyatakan, Kemensos memberikan bantuan berupa makanan sebanyak tiga kali sehari. Menurut Prihatin, ada 250 boks setiap pengiriman.  Kemudian, BPBD DKI Jakarta disebut telah mengirimkan alas tidur dan seperangkat alat mandi seperti handuk dan sabun.  \"Kalau baju dan celana yang layak pakai rata-rata dari warga sekitar saja,\" kata Prihatin.  Dalam kesempatan itu, Prihatin mengaku belum mengetahui hingga kapan bantuan bakal dikirimkan.  Namun, setahu dia, tanggap darurat pengiriman bantuan berlangsung selama tujuh hari sejak peristiwa terjadi.  ## Bantuan anak belum tersalurkan  Di satu sisi, bantuan khusus anak sekolah yang menjadi korban kebakaran belum tersalurkan hingga Minggu kemarin.  BPBD DKI Jakarta, kata Prihatin, telah meminta perangkat RW untuk mendata jumlah anak-anak yang masih sekolah, mulai dari SD hingga SMA.  Pendataan dilakukan agar mereka yang terdampak peristiwa kebakaran di Jalan Manggarai Utara II ini dapat segera diberi bantuan khusus.  Ia mengakui bahwa beberapa warga yang menjadi korban kebakaran memang masih memiliki anak-anak yang berusia sekolah.  Menurut Prihatin, jumlah anak yang bersekolah diperkirakan sekitar 25 orang.  \"Usia sekolah ada. SD ada, SMP ada, SMA ada. Jumlahnya enggak banyak, (sekitar) 20-25 siswa,\" tutur dia.  Sementara itu, Prihatin mengaku ada juga korban yang berusia lanjut (lanjut usia/lansia).  Namun, menurut dia, tidak ada kebutuhan khusus yang diperlukan para korban lansia. Sebab, jumlah mereka yang tergolong sedikit.   \n",
      "Sentence[1242]: \"\\- Kebakaran melanda 25 unit rumah kontrakan di Jalan Manggarai Utara II, Kelurahan Manggarai, Kecamatan Tebet, Jakarta Selatan, pada Sabtu (17/12/2022) sore.  Kebakaran ini disebut disebabkan oleh petir yang menyambar meteran listrik.  Sekitar 53 kepala keluarga (KK) yang terdiri dari 230 jiwa diungsikan ke beberapa lokasi, seperti gedung karang taruna setempat, masjid SMPN 3 Jakarta, hingga mengungsi ke rumah kerabat masing-masing.  Para warga yang menjadi korban kebakaran disebut telah menerima bantuan dari berbagai instansi.  ## Meteran listrik tersambar petir  Warga sekaligus saksi mata, Siti Nafisah (53), menyebutkan bahwa kebakaran ini bermula saat hujan deras disertai angin kencang terjadi sekitar pukul 15.00 WIB.  Karena kondisi cuaca itu, Siti bersama suaminya lalu mengecek kontrakan miliknya yang berada persis di belakang rumah mereka.  \"Kami keluar ke belakang, ke kontrakan-kontrakan, takut ada yang bocor karena angin kencang semua pada terbang,\" sebut Siti saat ditemui di Jalan Manggarai Utara II, Minggu (18/12/2022).  Saat hendak mengecek kontrakan, Siti melihat petir menyambar meteran listrik. Suara sambaran yang kencang membuatnya mengucap istigfar.  \"Pas saya lagi di belakang, petir _nyamber_ kilometer, itu yang listrik (meteran listrik). Saya kan kaget, langsung _astaghfirullahaladzim_ ,\" tutur Siti.  Saat itu, Siti mencium bau hangus. Ia langsung mengecek kondisi rumahnya. Siti mengaku melihat asap ketika berada di lantai dua rumahnya.  Namun, saat itu belum ada kobaran api yang muncul.  Saat turun ke lantai satu rumahnya, Siti melihat asap itu muncul dari arah belakang kediamannya.  Ia tak sempat membawa barang berharga miliknya, termasuk dua sepeda motor yang terparkir di dekat rumahnya.  Sementara itu, pada kesempatan terpisah, Ketua RT 011 RW 001 Kelurahan Manggarai Warsono menuturkan, kebakaran di wilayahnya terjadi karena korsleting.  Kebakaran mulanya hanya melanda satu rumah. Karena angin kencang, kebakaran merembet ke rumah lainnya.  Berbeda dengan yang disampaikan Siti, Warsono menyebutkan petir menyambar antena televisi di rumah salah satu warga di sana.  \"Awalnya itu _nyamber_ antena televisi. Jadi fatalnya di situ, dari petir. Suaranya meleduk begitu, _duarr_ , suaranya besar,\" tutur Warsono.  ## Selamatkan surat-surat berharga  ![Suasana sederet rumah kontrakan di Jalan Manggarai Utara II, RT11/RW01, Kecamatan Tebet, Jakarta Selatan, pada Minggu \\(18/12/2022\\).](https://asset.kompas.com/crops/10xiCjZpy- K_z2DMtvhPKLzb1WU=/0x0:0x0/750x500/data/photo/2022/12/18/639e8c0a98fea.jpg)KOMPAS.com/MUHAMMAD NAUFAL Suasana sederet rumah kontrakan di Jalan Manggarai Utara II, RT11/RW01, Kecamatan Tebet, Jakarta Selatan, pada Minggu (18/12/2022).  Diah (52) merupakan salah satu warga Jalan Manggarai Utara II yang menjadi korban kebakaran.  Diah bercerita, pada akhir pekan, dia sejatinya jarang berada di rumah kontrakannya tersebut.  Di kontrakan berukuran 3x3 meter, Sabtu lalu, Diah menghabiskan waktu bersama putra bungsunya yang berusia 14 tahun.  Diah mengaku, usai shalat ashar, putra bungsunya meminta pergi dari kontrakan itu.  \"Anakku sempat ngomong memang, 'Mah, pindah Bekasi yuk, kayaknya suasananya enggak enak. Hawanya Jakarta sudah panas',\" ucap Diah menirukan perkataan sang anak.  Tidak begitu lama, suara sambaran petir terdengar hingga kontrakannya yang berada di lantai dua.  Dalam hitungan detik, tetangga-tetangga Diah berteriak bahwa kebakaran telah terjadi.  Ia tidak langsung keluar dari kontrakannya. Saat itu juga, Diah memikirkan barang yang bisa dibawa. Dia lalu meraih surat-surat berharga yang terletak di sebuah tas.  Karena api menyambar dengan cepat, ia tidak kepikiran untuk menyelamatkan barang-barang lainnya.  Diah menuturkan, barang-barangnya yang terbakar berupa perabotan, barang dapur, dan pakaian.  Surat-surat berharga yang dibawa adalah ijazah sekolah Diah dan anak-anaknya.  \"Yang selamat cuma surat-surat penting, sudah enggak ada lagi sisanya,\" ucap Diah.  Minggu kemarin, Diah bersama putra bungsunya mengungsi di tempat pengungsian.  ## Merasa ikhlas dan sabar  Meski kediamannya hangus, Diah mengaku merasa bersyukur bisa beristirahat di tempat pengungsian.  Bersama anak bungsunya, Diah merasa nyaman tidur di tempat pengungsian yang berada di gedung karang taruna setempat.  Ibu tiga anak ini menilai, musibah yang menimpanya merupakan perjalanan hidup yang sebenarnya.  Diah pun mengaku tak bisa menuntut siapa pun atas kehilangan barang-barang berharganya. Sebab, menurut dia, semua barang miliknya adalah milik Allah.  \"Enggak bisa _nuntut_ juga karena semua punya Allah. Sekalipun itu hilangnya karena manusia, tetap enggak bisa,\" ucap dia.  \"Kalau manusia (yang menghilangkan), kita bisa sakit hati, tapi tetap tidak bisa. Allah mengizinkan itu diambil oleh orang. Tapi, kalau hilangnya kebakaran atau kebanjiran, itu sudah kehendak Allah,\" lanjut dia.  Menurut Diah, ada dua hal penting yang dapat diambil hikmahnya dari musibah ini, yakni kesabaran dan keikhlasan.  Ia meyakini bahwa barang-barangnya yang hangus terbakar bakal tergantikan.  \"Yang penting satu, kesabaran dan keikhlasan, yakin kok Allah akan menggantikan,\" kata Diah.  ## Bantuan telah dikirimkan  Sementara itu, Ketua RW 001 Kelurahan Manggarai Prihatin Budi Santoso menuturkan, sejumlah instansi pemerintah telah mengirimkan bantuan untuk korban kebakaran itu.  Menurut Prihatin, selain instansi pemerintah, warga sekitar yang tak terdampak juga memberikan bantuan.  \"Bantuan alhamdulillah dari TNI, BPBD (DKI Jakarta), Baznas, Kementerian Sosial (Kemensos), semua turun,\" tutur Prihatin di Kantor Sekretariat RW 001 Manggarai.  Prihatin menyatakan, Kemensos memberikan bantuan berupa makanan sebanyak tiga kali sehari. Menurut Prihatin, ada 250 boks setiap pengiriman.  Kemudian, BPBD DKI Jakarta disebut telah mengirimkan alas tidur dan seperangkat alat mandi seperti handuk dan sabun.  \"Kalau baju dan celana yang layak pakai rata-rata dari warga sekitar saja,\" kata Prihatin.  Dalam kesempatan itu, Prihatin mengaku belum mengetahui hingga kapan bantuan bakal dikirimkan.  Namun, setahu dia, tanggap darurat pengiriman bantuan berlangsung selama tujuh hari sejak peristiwa terjadi.  ## Bantuan anak belum tersalurkan  Di satu sisi, bantuan khusus anak sekolah yang menjadi korban kebakaran belum tersalurkan hingga Minggu kemarin.  BPBD DKI Jakarta, kata Prihatin, telah meminta perangkat RW untuk mendata jumlah anak-anak yang masih sekolah, mulai dari SD hingga SMA.  Pendataan dilakukan agar mereka yang terdampak peristiwa kebakaran di Jalan Manggarai Utara II ini dapat segera diberi bantuan khusus.  Ia mengakui bahwa beberapa warga yang menjadi korban kebakaran memang masih memiliki anak-anak yang berusia sekolah.  Menurut Prihatin, jumlah anak yang bersekolah diperkirakan sekitar 25 orang.  \"Usia sekolah ada. SD ada, SMP ada, SMA ada. Jumlahnya enggak banyak, (sekitar) 20-25 siswa,\" tutur dia.  Sementara itu, Prihatin mengaku ada juga korban yang berusia lanjut (lanjut usia/lansia).  Namun, menurut dia, tidak ada kebutuhan khusus yang diperlukan para korban lansia. Sebab, jumlah mereka yang tergolong sedikit.\" → [\"\\-\"/PUNCT, \"Kebakaran\"/NOUN, \"melanda\"/VERB, \"25\"/NUM, \"unit\"/NOUN, \"rumah\"/NOUN, \"kontrakan\"/NOUN, \"di\"/ADP, \"Jalan\"/PROPN, \"Manggarai\"/PROPN, \"Utara\"/PROPN, \"II\"/NUM, \",\"/PUNCT, \"Kelurahan\"/PROPN, \"Manggarai\"/PROPN, \",\"/PUNCT, \"Kecamatan\"/PROPN, \"Tebet\"/PROPN, \",\"/PUNCT, \"Jakarta\"/PROPN, \"Selatan\"/PROPN, \",\"/PUNCT, \"pada\"/ADP, \"Sabtu\"/PROPN, \"(\"/PUNCT, \"17\"/NUM, \"/\"/PUNCT, \"12\"/NUM, \"/\"/PUNCT, \"2022\"/NUM, \")\"/PUNCT, \"sore\"/NOUN, \".\"/PUNCT, \"Kebakaran\"/NOUN, \"ini\"/DET, \"disebut\"/VERB, \"disebabkan\"/VERB, \"oleh\"/ADP, \"petir\"/NOUN, \"yang\"/PRON, \"menyambar\"/VERB, \"meteran\"/NOUN, \"listrik\"/NOUN, \".\"/PUNCT, \"Sekitar\"/ADP, \"53\"/NUM, \"kepala\"/NOUN, \"keluarga\"/NOUN, \"(\"/PUNCT, \"KK\"/PROPN, \")\"/PUNCT, \"yang\"/PRON, \"terdiri\"/VERB, \"dari\"/ADP, \"230\"/NUM, \"jiwa\"/NOUN, \"diungsikan\"/VERB, \"ke\"/ADP, \"beberapa\"/DET, \"lokasi\"/NOUN, \",\"/PUNCT, \"seperti\"/ADP, \"gedung\"/NOUN, \"karang\"/NOUN, \"taruna\"/NOUN, \"setempat\"/ADJ, \",\"/PUNCT, \"masjid\"/NOUN, \"SMPN\"/PROPN, \"3\"/NUM, \"Jakarta\"/PROPN, \",\"/PUNCT, \"hingga\"/SCONJ, \"mengungsi\"/VERB, \"ke\"/ADP, \"rumah\"/NOUN, \"kerabat\"/NOUN, \"masing-masing\"/DET, \".\"/PUNCT, \"Para\"/DET, \"warga\"/NOUN, \"yang\"/PRON, \"menjadi\"/VERB, \"korban\"/NOUN, \"kebakaran\"/NOUN, \"disebut\"/VERB, \"telah\"/AUX, \"menerima\"/VERB, \"bantuan\"/NOUN, \"dari\"/ADP, \"berbagai\"/DET, \"instansi\"/NOUN, \".\"/PUNCT, \"##\"/PUNCT, \"Meteran\"/NOUN, \"listrik\"/NOUN, \"tersambar\"/VERB, \"petir\"/NOUN, \"Warga\"/NOUN, \"sekaligus\"/ADV, \"saksi\"/NOUN, \"mata\"/NOUN, \",\"/PUNCT, \"Siti\"/PROPN, \"Nafisah\"/PROPN, \"(\"/PUNCT, \"53\"/NUM, \")\"/PUNCT, \",\"/PUNCT, \"menyebutkan\"/VERB, \"bahwa\"/SCONJ, \"kebakaran\"/NOUN, \"ini\"/DET, \"bermula\"/VERB, \"saat\"/ADP, \"hujan\"/NOUN, \"deras\"/ADJ, \"disertai\"/VERB, \"angin\"/NOUN, \"kencang\"/NOUN, \"terjadi\"/VERB, \"sekitar\"/ADP, \"pukul\"/NOUN, \"15.00\"/NUM, \"WIB\"/PROPN, \".\"/PUNCT, \"Karena\"/ADP, \"kondisi\"/NOUN, \"cuaca\"/NOUN, \"itu\"/DET, \",\"/PUNCT, \"Siti\"/PROPN, \"bersama\"/ADP, \"suaminya\"/NOUN, \"lalu\"/ADV, \"mengecek\"/VERB, \"kontrakan\"/NOUN, \"miliknya\"/NOUN, \"yang\"/PRON, \"berada\"/VERB, \"persis\"/ADJ, \"di\"/ADP, \"belakang\"/NOUN, \"rumah\"/NOUN, \"mereka\"/PRON, \".\"/PUNCT, \"\"\"/PUNCT, \"Kami\"/PRON, \"keluar\"/VERB, \"ke\"/ADP, \"belakang\"/NOUN, \",\"/PUNCT, \"ke\"/ADP, \"kontrakan-kontrakan\"/NOUN, \",\"/PUNCT, \"takut\"/VERB, \"ada\"/VERB, \"yang\"/PRON, \"bocor\"/VERB, \"karena\"/SCONJ, \"angin\"/NOUN, \"kencang\"/ADJ, \"semua\"/DET, \"pada\"/ADP, \"terbang\"/NOUN, \",\"\"/PUNCT, \"sebut\"/VERB, \"Siti\"/PROPN, \"saat\"/SCONJ, \"ditemui\"/VERB, \"di\"/ADP, \"Jalan\"/PROPN, \"Manggarai\"/PROPN, \"Utara\"/PROPN, \"II\"/NUM, \",\"/PUNCT, \"Minggu\"/PROPN, \"(\"/PUNCT, \"18\"/NUM, \"/\"/PUNCT, \"12\"/NUM, \"/\"/PUNCT, \"2022\"/NUM, \")\"/PUNCT, \".\"/PUNCT, \"Saat\"/SCONJ, \"hendak\"/ADV, \"mengecek\"/VERB, \"kontrakan\"/NOUN, \",\"/PUNCT, \"Siti\"/PROPN, \"melihat\"/VERB, \"petir\"/NOUN, \"menyambar\"/VERB, \"meteran\"/NOUN, \"listrik\"/NOUN, \".\"/PUNCT, \"Suara\"/NOUN, \"sambaran\"/NOUN, \"yang\"/PRON, \"kencang\"/ADJ, \"membuatnya\"/ADV, \"mengucap\"/VERB, \"istigfar\"/NOUN, \".\"/PUNCT, \"\"\"/PUNCT, \"Pas\"/PROPN, \"saya\"/PRON, \"lagi\"/ADV, \"di\"/ADP, \"belakang\"/NOUN, \",\"/PUNCT, \"petir\"/NOUN, \"_\"/PUNCT, \"nyamber\"/NOUN, \"_\"/SYM, \"kilometer\"/NOUN, \",\"/PUNCT, \"itu\"/DET, \"yang\"/PRON, \"listrik\"/ADJ, \"(\"/PUNCT, \"meteran\"/NOUN, \"listrik\"/NOUN, \")\"/PUNCT, \".\"/PUNCT, \"Saya\"/PRON, \"kan\"/PART, \"kaget\"/NOUN, \",\"/PUNCT, \"langsung\"/ADJ, \"_\"/PUNCT, \"astaghfirullahaladzim\"/NOUN, \"_\"/PUNCT, \",\"\"/PUNCT, \"tutur\"/NOUN, \"Siti\"/PROPN, \".\"/PUNCT, \"Saat\"/NOUN, \"itu\"/DET, \",\"/PUNCT, \"Siti\"/PROPN, \"mencium\"/VERB, \"bau\"/NOUN, \"hangus\"/ADJ, \".\"/PUNCT, \"Ia\"/PRON, \"langsung\"/ADV, \"mengecek\"/VERB, \"kondisi\"/NOUN, \"rumahnya\"/NOUN, \".\"/PUNCT, \"Siti\"/PROPN, \"mengaku\"/VERB, \"melihat\"/VERB, \"asap\"/NOUN, \"ketika\"/SCONJ, \"berada\"/VERB, \"di\"/ADP, \"lantai\"/NOUN, \"dua\"/NUM, \"rumahnya\"/NOUN, \".\"/PUNCT, \"Namun\"/ADV, \",\"/PUNCT, \"saat\"/NOUN, \"itu\"/DET, \"belum\"/PART, \"ada\"/VERB, \"kobaran\"/NOUN, \"api\"/NOUN, \"yang\"/PRON, \"muncul\"/VERB, \".\"/PUNCT, \"Saat\"/SCONJ, \"turun\"/VERB, \"ke\"/ADP, \"lantai\"/NOUN, \"satu\"/NUM, \"rumahnya\"/NOUN, \",\"/PUNCT, \"Siti\"/PROPN, \"melihat\"/VERB, \"asap\"/NOUN, \"itu\"/DET, \"muncul\"/VERB, \"dari\"/ADP, \"arah\"/NOUN, \"belakang\"/NOUN, \"kediamannya\"/NOUN, \".\"/PUNCT, \"Ia\"/PRON, \"tak\"/PART, \"sempat\"/ADV, \"membawa\"/VERB, \"barang\"/NOUN, \"berharga\"/ADJ, \"miliknya\"/ADJ, \",\"/PUNCT, \"termasuk\"/VERB, \"dua\"/NUM, \"sepeda\"/NOUN, \"motor\"/NOUN, \"yang\"/PRON, \"terparkir\"/VERB, \"di\"/ADP, \"dekat\"/ADJ, \"rumahnya\"/NOUN, \".\"/PUNCT, \"Sementara\"/ADV, \"itu\"/DET, \",\"/PUNCT, \"pada\"/ADP, \"kesempatan\"/NOUN, \"terpisah\"/VERB, \",\"/PUNCT, \"Ketua\"/PROPN, \"RT\"/PROPN, \"011\"/NUM, \"RW\"/PROPN, \"001\"/NUM, \"Kelurahan\"/PROPN, \"Manggarai\"/PROPN, \"Warsono\"/PROPN, \"menuturkan\"/VERB, \",\"/PUNCT, \"kebakaran\"/NOUN, \"di\"/ADP, \"wilayahnya\"/NOUN, \"terjadi\"/VERB, \"karena\"/ADP, \"korsleting\"/NOUN, \".\"/PUNCT, \"Kebakaran\"/NOUN, \"mulanya\"/ADV, \"hanya\"/ADV, \"melanda\"/VERB, \"satu\"/NUM, \"rumah\"/NOUN, \".\"/PUNCT, \"Karena\"/SCONJ, \"angin\"/NOUN, \"kencang\"/ADJ, \",\"/PUNCT, \"kebakaran\"/NOUN, \"merembet\"/VERB, \"ke\"/ADP, \"rumah\"/NOUN, \"lainnya\"/ADJ, \".\"/PUNCT, \"Berbeda\"/VERB, \"dengan\"/ADP, \"yang\"/PRON, \"disampaikan\"/VERB, \"Siti\"/PROPN, \",\"/PUNCT, \"Warsono\"/PROPN, \"menyebutkan\"/VERB, \"petir\"/NOUN, \"menyambar\"/VERB, \"antena\"/NOUN, \"televisi\"/NOUN, \"di\"/ADP, \"rumah\"/NOUN, \"salah\"/ADJ, \"satu\"/NUM, \"warga\"/NOUN, \"di\"/ADP, \"sana\"/NOUN, \".\"/PUNCT, \"\"\"/PUNCT, \"Awalnya\"/ADV, \"itu\"/DET, \"_\"/PUNCT, \"nyamber\"/NOUN, \"_\"/PUNCT, \"antena\"/NOUN, \"televisi\"/NOUN, \".\"/PUNCT, \"Jadi\"/ADV, \"fatalnya\"/ADJ, \"di\"/ADP, \"situ\"/NOUN, \",\"/PUNCT, \"dari\"/ADP, \"petir\"/NOUN, \".\"/PUNCT, \"Suaranya\"/ADV, \"meleduk\"/VERB, \"begitu\"/ADV, \",\"/PUNCT, \"_\"/PUNCT, \"duarr\"/PROPN, \"_\"/PUNCT, \",\"/PUNCT, \"suaranya\"/NOUN, \"besar\"/ADJ, \",\"\"/PUNCT, \"tutur\"/NOUN, \"Warsono\"/PROPN, \".\"/PUNCT, \"##\"/PUNCT, \"Selamatkan\"/VERB, \"surat-surat\"/NOUN, \"berharga\"/ADJ, \"![\"/PUNCT, \"Suasana\"/NOUN, \"sederet\"/NOUN, \"rumah\"/NOUN, \"kontrakan\"/NOUN, \"di\"/ADP, \"Jalan\"/PROPN, \"Manggarai\"/PROPN, \"Utara\"/PROPN, \"II\"/NUM, \",\"/PUNCT, \"RT11\"/PROPN, \"/\"/PUNCT, \"RW01\"/PROPN, \",\"/PUNCT, \"Kecamatan\"/PROPN, \"Tebet\"/PROPN, \",\"/PUNCT, \"Jakarta\"/PROPN, \"Selatan\"/PROPN, \",\"/PUNCT, \"pada\"/ADP, \"Minggu\"/PROPN, \"\\(\"/PUNCT, \"18\"/NUM, \"/\"/PUNCT, \"12\"/NUM, \"/\"/PUNCT, \"2022\"/NUM, \"\\).](\"/PUNCT, \"https\"/PROPN, \"://\"/PUNCT, \"asset.kompas.com\"/NOUN, \"/\"/PUNCT, \"crops\"/PROPN, \"/\"/PUNCT, \"10xiCjZpy\"/PROPN, \"-\"/PUNCT, \"K\"/NOUN, \"_\"/SYM, \"z2DMtvhPKLzb1WU\"/SYM, \"=/\"/SYM, \"0x0:0x0\"/SYM, \"/\"/PUNCT, \"750x500\"/NUM, \"/\"/PUNCT, \"data\"/NOUN, \"/\"/PUNCT, \"photo\"/PROPN, \"/\"/PUNCT, \"2022\"/NUM, \"/\"/PUNCT, \"12\"/NUM, \"/\"/PUNCT, \"18\"/NUM, \"/\"/PUNCT, \"639e8c0a98fea.jpg\"/NUM, \")\"/PUNCT, \"KOMPAS.com\"/PROPN, \"/\"/PUNCT, \"MUHAMMAD\"/PROPN, \"NAUFAL\"/PROPN, \"Suasana\"/NOUN, \"sederet\"/NOUN, \"rumah\"/NOUN, \"kontrakan\"/NOUN, \"di\"/ADP, \"Jalan\"/PROPN, \"Manggarai\"/PROPN, \"Utara\"/PROPN, \"II\"/NUM, \",\"/PUNCT, \"RT11\"/PROPN, \"/\"/PUNCT, \"RW01\"/PROPN, \",\"/PUNCT, \"Kecamatan\"/PROPN, \"Tebet\"/PROPN, \",\"/PUNCT, \"Jakarta\"/PROPN, \"Selatan\"/PROPN, \",\"/PUNCT, \"pada\"/ADP, \"Minggu\"/PROPN, \"(\"/PUNCT, \"18\"/NUM, \"/\"/PUNCT, \"12\"/NUM, \"/\"/PUNCT, \"2022\"/NUM, \")\"/PUNCT, \".\"/PUNCT, \"Diah\"/PROPN, \"(\"/PUNCT, \"52\"/NUM, \")\"/PUNCT, \"merupakan\"/VERB, \"salah\"/ADJ, \"satu\"/NUM, \"warga\"/NOUN, \"Jalan\"/PROPN, \"Manggarai\"/PROPN, \"Utara\"/PROPN, \"II\"/NUM, \"yang\"/PRON, \"menjadi\"/VERB, \"korban\"/NOUN, \"kebakaran\"/NOUN, \".\"/PUNCT, \"Diah\"/PROPN, \"bercerita\"/VERB, \",\"/PUNCT, \"pada\"/ADP, \"akhir\"/NOUN, \"pekan\"/NOUN, \",\"/PUNCT, \"dia\"/PRON, \"sejatinya\"/ADV, \"jarang\"/ADV, \"berada\"/VERB, \"di\"/ADP, \"rumah\"/NOUN, \"kontrakannya\"/NOUN, \"tersebut\"/DET, \".\"/PUNCT, \"Di\"/ADP, \"kontrakan\"/NOUN, \"berukuran\"/VERB, \"3x3\"/NUM, \"meter\"/NOUN, \",\"/PUNCT, \"Sabtu\"/PROPN, \"lalu\"/ADV, \",\"/PUNCT, \"Diah\"/PROPN, \"menghabiskan\"/VERB, \"waktu\"/NOUN, \"bersama\"/ADP, \"putra\"/NOUN, \"bungsunya\"/NOUN, \"yang\"/PRON, \"berusia\"/VERB, \"14\"/NUM, \"tahun\"/NOUN, \".\"/PUNCT, \"Diah\"/PROPN, \"mengaku\"/VERB, \",\"/PUNCT, \"usai\"/VERB, \"shalat\"/NOUN, \"ashar\"/PROPN, \",\"/PUNCT, \"putra\"/NOUN, \"bungsunya\"/NOUN, \"meminta\"/VERB, \"pergi\"/VERB, \"dari\"/ADP, \"kontrakan\"/NOUN, \"itu\"/DET, \".\"/PUNCT, \"\"\"/PUNCT, \"Anakku\"/PROPN, \"sempat\"/ADV, \"ngomong\"/VERB, \"memang\"/ADV, \",\"/PUNCT, \"'\"/PUNCT, \"Mah\"/PROPN, \",\"/PUNCT, \"pindah\"/VERB, \"Bekasi\"/PROPN, \"yuk\"/PROPN, \",\"/PUNCT, \"kayaknya\"/ADV, \"suasananya\"/NOUN, \"enggak\"/ADJ, \"enak\"/ADJ, \".\"/PUNCT, \"Hawanya\"/PROPN, \"Jakarta\"/PROPN, \"sudah\"/AUX, \"panas\"/ADJ, \"',\"\"/PUNCT, \"ucap\"/VERB, \"Diah\"/PROPN, \"menirukan\"/VERB, \"perkataan\"/NOUN, \"sang\"/DET, \"anak\"/NOUN, \".\"/PUNCT, \"Tidak\"/PART, \"begitu\"/ADV, \"lama\"/ADJ, \",\"/PUNCT, \"suara\"/NOUN, \"sambaran\"/NOUN, \"petir\"/NOUN, \"terdengar\"/VERB, \"hingga\"/ADP, \"kontrakannya\"/NOUN, \"yang\"/PRON, \"berada\"/VERB, \"di\"/ADP, \"lantai\"/NOUN, \"dua\"/NUM, \".\"/PUNCT, \"Dalam\"/ADP, \"hitungan\"/NOUN, \"detik\"/NOUN, \",\"/PUNCT, \"tetangga-tetangga\"/NOUN, \"Diah\"/PROPN, \"berteriak\"/VERB, \"bahwa\"/SCONJ, \"kebakaran\"/NOUN, \"telah\"/AUX, \"terjadi\"/VERB, \".\"/PUNCT, \"Ia\"/PRON, \"tidak\"/PART, \"langsung\"/ADV, \"keluar\"/VERB, \"dari\"/ADP, \"kontrakannya\"/NOUN, \".\"/PUNCT, \"Saat\"/NOUN, \"itu\"/DET, \"juga\"/ADV, \",\"/PUNCT, \"Diah\"/PROPN, \"memikirkan\"/VERB, \"barang\"/NOUN, \"yang\"/PRON, \"bisa\"/AUX, \"dibawa\"/VERB, \".\"/PUNCT, \"Dia\"/PRON, \"lalu\"/ADV, \"meraih\"/VERB, \"surat-surat\"/NOUN, \"berharga\"/ADJ, \"yang\"/PRON, \"terletak\"/VERB, \"di\"/ADP, \"sebuah\"/DET, \"tas\"/NOUN, \".\"/PUNCT, \"Karena\"/SCONJ, \"api\"/NOUN, \"menyambar\"/VERB, \"dengan\"/SCONJ, \"cepat\"/ADJ, \",\"/PUNCT, \"ia\"/PRON, \"tidak\"/PART, \"kepikiran\"/NOUN, \"untuk\"/SCONJ, \"menyelamatkan\"/VERB, \"barang-barang\"/NOUN, \"lainnya\"/ADJ, \".\"/PUNCT, \"Diah\"/PROPN, \"menuturkan\"/VERB, \",\"/PUNCT, \"barang-barangnya\"/NOUN, \"yang\"/PRON, \"terbakar\"/VERB, \"berupa\"/VERB, \"perabotan\"/NOUN, \",\"/PUNCT, \"barang\"/NOUN, \"dapur\"/NOUN, \",\"/PUNCT, \"dan\"/CCONJ, \"pakaian\"/NOUN, \".\"/PUNCT, \"Surat-surat\"/NOUN, \"berharga\"/ADJ, \"yang\"/PRON, \"dibawa\"/VERB, \"adalah\"/AUX, \"ijazah\"/NOUN, \"sekolah\"/NOUN, \"Diah\"/PROPN, \"dan\"/CCONJ, \"anak-anaknya\"/NOUN, \".\"/PUNCT, \"\"\"/PUNCT, \"Yang\"/PRON, \"selamat\"/ADJ, \"cuma\"/ADV, \"surat-surat\"/NOUN, \"penting\"/ADJ, \",\"/PUNCT, \"sudah\"/AUX, \"enggak\"/PART, \"ada\"/VERB, \"lagi\"/ADV, \"sisanya\"/ADV, \",\"\"/PUNCT, \"ucap\"/VERB, \"Diah\"/PROPN, \".\"/PUNCT, \"Minggu\"/NOUN, \"kemarin\"/NOUN, \",\"/PUNCT, \"Diah\"/PROPN, \"bersama\"/ADP, \"putra\"/NOUN, \"bungsunya\"/NOUN, \"mengungsi\"/VERB, \"di\"/ADP, \"tempat\"/NOUN, \"pengungsian\"/NOUN, \".\"/PUNCT, \"##\"/PUNCT, \"Merasa\"/VERB, \"ikhlas\"/ADJ, \"dan\"/CCONJ, \"sabar\"/ADJ, \"Meski\"/ADV, \"kediamannya\"/NOUN, \"hangus\"/ADJ, \",\"/PUNCT, \"Diah\"/PROPN, \"mengaku\"/VERB, \"merasa\"/VERB, \"bersyukur\"/NOUN, \"bisa\"/AUX, \"beristirahat\"/VERB, \"di\"/ADP, \"tempat\"/NOUN, \"pengungsian\"/NOUN, \".\"/PUNCT, \"Bersama\"/ADP, \"anak\"/NOUN, \"bungsunya\"/NOUN, \",\"/PUNCT, \"Diah\"/PROPN, \"merasa\"/VERB, \"nyaman\"/ADJ, \"tidur\"/VERB, \"di\"/ADP, \"tempat\"/NOUN, \"pengungsian\"/NOUN, \"yang\"/PRON, \"berada\"/VERB, \"di\"/ADP, \"gedung\"/NOUN, \"karang\"/NOUN, \"taruna\"/NOUN, \"setempat\"/ADJ, \".\"/PUNCT, \"Ibu\"/PROPN, \"tiga\"/NUM, \"anak\"/NOUN, \"ini\"/DET, \"menilai\"/VERB, \",\"/PUNCT, \"musibah\"/NOUN, \"yang\"/PRON, \"menimpanya\"/VERB, \"merupakan\"/VERB, \"perjalanan\"/NOUN, \"hidup\"/NOUN, \"yang\"/PRON, \"sebenarnya\"/ADV, \".\"/PUNCT, \"Diah\"/PROPN, \"pun\"/PART, \"mengaku\"/VERB, \"tak\"/PART, \"bisa\"/AUX, \"menuntut\"/VERB, \"siapa\"/PRON, \"pun\"/PART, \"atas\"/ADP, \"kehilangan\"/NOUN, \"barang-barang\"/NOUN, \"berharganya\"/ADJ, \".\"/PUNCT, \"Sebab\"/SCONJ, \",\"/PUNCT, \"menurut\"/ADP, \"dia\"/PRON, \",\"/PUNCT, \"semua\"/DET, \"barang\"/NOUN, \"miliknya\"/DET, \"adalah\"/AUX, \"milik\"/NOUN, \"Allah\"/PROPN, \".\"/PUNCT, \"\"\"/PUNCT, \"Enggak\"/PROPN, \"bisa\"/AUX, \"_\"/PUNCT, \"nuntut\"/VERB, \"_\"/PUNCT, \"juga\"/ADV, \"karena\"/SCONJ, \"semua\"/PRON, \"punya\"/VERB, \"Allah\"/PROPN, \".\"/PUNCT, \"Sekalipun\"/ADV, \"itu\"/DET, \"hilangnya\"/NOUN, \"karena\"/ADP, \"manusia\"/NOUN, \",\"/PUNCT, \"tetap\"/ADV, \"enggak\"/PART, \"bisa\"/AUX, \",\"\"/PUNCT, \"ucap\"/VERB, \"dia\"/PRON, \".\"/PUNCT, \"\"\"/PUNCT, \"Kalau\"/SCONJ, \"manusia\"/NOUN, \"(\"/PUNCT, \"yang\"/PRON, \"menghilangkan\"/VERB, \")\"/PUNCT, \",\"/PUNCT, \"kita\"/PRON, \"bisa\"/AUX, \"sakit\"/VERB, \"hati\"/NOUN, \",\"/PUNCT, \"tapi\"/CCONJ, \"tetap\"/ADV, \"tidak\"/PART, \"bisa\"/AUX, \".\"/PUNCT, \"Allah\"/PROPN, \"mengizinkan\"/VERB, \"itu\"/DET, \"diambil\"/VERB, \"oleh\"/ADP, \"orang\"/NOUN, \".\"/PUNCT, \"Tapi\"/ADV, \",\"/PUNCT, \"kalau\"/SCONJ, \"hilangnya\"/ADV, \"kebakaran\"/NOUN, \"atau\"/CCONJ, \"kebanjiran\"/NOUN, \",\"/PUNCT, \"itu\"/DET, \"sudah\"/AUX, \"kehendak\"/NOUN, \"Allah\"/PROPN, \",\"\"/PUNCT, \"lanjut\"/VERB, \"dia\"/PRON, \".\"/PUNCT, \"Menurut\"/ADP, \"Diah\"/PROPN, \",\"/PUNCT, \"ada\"/VERB, \"dua\"/NUM, \"hal\"/NOUN, \"penting\"/ADJ, \"yang\"/PRON, \"dapat\"/AUX, \"diambil\"/VERB, \"hikmahnya\"/NOUN, \"dari\"/ADP, \"musibah\"/NOUN, \"ini\"/DET, \",\"/PUNCT, \"yakni\"/ADV, \"kesabaran\"/NOUN, \"dan\"/CCONJ, \"keikhlasan\"/NOUN, \".\"/PUNCT, \"Ia\"/PRON, \"meyakini\"/VERB, \"bahwa\"/SCONJ, \"barang-barangnya\"/NOUN, \"yang\"/PRON, \"hangus\"/ADJ, \"terbakar\"/VERB, \"bakal\"/ADV, \"tergantikan\"/VERB, \".\"/PUNCT, \"\"\"/PUNCT, \"Yang\"/PRON, \"penting\"/ADJ, \"satu\"/NUM, \",\"/PUNCT, \"kesabaran\"/NOUN, \"dan\"/CCONJ, \"keikhlasan\"/NOUN, \",\"/PUNCT, \"yakin\"/VERB, \"kok\"/NOUN, \"Allah\"/PROPN, \"akan\"/AUX, \"menggantikan\"/VERB, \",\"\"/PUNCT, \"kata\"/NOUN, \"Diah\"/PROPN, \".\"/PUNCT, \"##\"/PUNCT, \"Bantuan\"/PROPN, \"telah\"/AUX, \"dikirimkan\"/VERB, \"Sementara\"/ADP, \"itu\"/DET, \",\"/PUNCT, \"Ketua\"/NOUN, \"RW\"/PROPN, \"001\"/NUM, \"Kelurahan\"/PROPN, \"Manggarai\"/PROPN, \"Prihatin\"/PROPN, \"Budi\"/PROPN, \"Santoso\"/PROPN, \"menuturkan\"/VERB, \",\"/PUNCT, \"sejumlah\"/DET, \"instansi\"/NOUN, \"pemerintah\"/NOUN, \"telah\"/AUX, \"mengirimkan\"/VERB, \"bantuan\"/NOUN, \"untuk\"/ADP, \"korban\"/NOUN, \"kebakaran\"/NOUN, \"itu\"/DET, \".\"/PUNCT, \"Menurut\"/ADP, \"Prihatin\"/PROPN, \",\"/PUNCT, \"selain\"/ADP, \"instansi\"/NOUN, \"pemerintah\"/NOUN, \",\"/PUNCT, \"warga\"/NOUN, \"sekitar\"/ADJ, \"yang\"/PRON, \"tak\"/PART, \"terdampak\"/VERB, \"juga\"/ADV, \"memberikan\"/VERB, \"bantuan\"/NOUN, \".\"/PUNCT, \"\"\"/PUNCT, \"Bantuan\"/NOUN, \"alhamdulillah\"/NOUN, \"dari\"/ADP, \"TNI\"/PROPN, \",\"/PUNCT, \"BPBD\"/PROPN, \"(\"/PUNCT, \"DKI\"/PROPN, \"Jakarta\"/PROPN, \")\"/PUNCT, \",\"/PUNCT, \"Baznas\"/PROPN, \",\"/PUNCT, \"Kementerian\"/PROPN, \"Sosial\"/PROPN, \"(\"/PUNCT, \"Kemensos\"/PROPN, \")\"/PUNCT, \",\"/PUNCT, \"semua\"/DET, \"turun\"/VERB, \",\"\"/PUNCT, \"tutur\"/NOUN, \"Prihatin\"/PROPN, \"di\"/ADP, \"Kantor\"/PROPN, \"Sekretariat\"/PROPN, \"RW\"/PROPN, \"001\"/NUM, \"Manggarai\"/PROPN, \".\"/PUNCT, \"Prihatin\"/PROPN, \"menyatakan\"/VERB, \",\"/PUNCT, \"Kemensos\"/PROPN, \"memberikan\"/VERB, \"bantuan\"/NOUN, \"berupa\"/VERB, \"makanan\"/NOUN, \"sebanyak\"/ADP, \"tiga\"/NUM, \"kali\"/NOUN, \"sehari\"/NOUN, \".\"/PUNCT, \"Menurut\"/ADP, \"Prihatin\"/PROPN, \",\"/PUNCT, \"ada\"/VERB, \"250\"/NUM, \"boks\"/NOUN, \"setiap\"/DET, \"pengiriman\"/NOUN, \".\"/PUNCT, \"Kemudian\"/ADV, \",\"/PUNCT, \"BPBD\"/PROPN, \"DKI\"/PROPN, \"Jakarta\"/PROPN, \"disebut\"/VERB, \"telah\"/AUX, \"mengirimkan\"/VERB, \"alas\"/NOUN, \"tidur\"/NOUN, \"dan\"/CCONJ, \"seperangkat\"/VERB, \"alat\"/NOUN, \"mandi\"/NOUN, \"seperti\"/ADP, \"handuk\"/NOUN, \"dan\"/CCONJ, \"sabun\"/NOUN, \".\"/PUNCT, \"\"\"/PUNCT, \"Kalau\"/SCONJ, \"baju\"/NOUN, \"dan\"/CCONJ, \"celana\"/NOUN, \"yang\"/PRON, \"layak\"/ADJ, \"pakai\"/VERB, \"rata-rata\"/NOUN, \"dari\"/ADP, \"warga\"/NOUN, \"sekitar\"/ADP, \"saja\"/ADV, \",\"\"/PUNCT, \"kata\"/NOUN, \"Prihatin\"/PROPN, \".\"/PUNCT, \"Dalam\"/ADP, \"kesempatan\"/NOUN, \"itu\"/DET, \",\"/PUNCT, \"Prihatin\"/PROPN, \"mengaku\"/VERB, \"belum\"/PART, \"mengetahui\"/VERB, \"hingga\"/SCONJ, \"kapan\"/ADV, \"bantuan\"/NOUN, \"bakal\"/ADJ, \"dikirimkan\"/VERB, \".\"/PUNCT, \"Namun\"/ADV, \",\"/PUNCT, \"setahu\"/NOUN, \"dia\"/PRON, \",\"/PUNCT, \"tanggap\"/NOUN, \"darurat\"/ADJ, \"pengiriman\"/NOUN, \"bantuan\"/NOUN, \"berlangsung\"/VERB, \"selama\"/ADP, \"tujuh\"/NUM, \"hari\"/NOUN, \"sejak\"/ADP, \"peristiwa\"/NOUN, \"terjadi\"/VERB, \".\"/PUNCT, \"##\"/PUNCT, \"Bantuan\"/NOUN, \"anak\"/NOUN, \"belum\"/PART, \"tersalurkan\"/VERB, \"Di\"/ADP, \"satu\"/NUM, \"sisi\"/NOUN, \",\"/PUNCT, \"bantuan\"/NOUN, \"khusus\"/ADJ, \"anak\"/NOUN, \"sekolah\"/NOUN, \"yang\"/PRON, \"menjadi\"/VERB, \"korban\"/NOUN, \"kebakaran\"/NOUN, \"belum\"/PART, \"tersalurkan\"/VERB, \"hingga\"/ADP, \"Minggu\"/NOUN, \"kemarin\"/ADJ, \".\"/PUNCT, \"BPBD\"/PROPN, \"DKI\"/PROPN, \"Jakarta\"/PROPN, \",\"/PUNCT, \"kata\"/NOUN, \"Prihatin\"/PROPN, \",\"/PUNCT, \"telah\"/AUX, \"meminta\"/VERB, \"perangkat\"/NOUN, \"RW\"/PROPN, \"untuk\"/SCONJ, \"mendata\"/VERB, \"jumlah\"/NOUN, \"anak-anak\"/NOUN, \"yang\"/PRON, \"masih\"/ADV, \"sekolah\"/NOUN, \",\"/PUNCT, \"mulai\"/VERB, \"dari\"/ADP, \"SD\"/PROPN, \"hingga\"/ADP, \"SMA\"/PROPN, \".\"/PUNCT, \"Pendataan\"/PROPN, \"dilakukan\"/VERB, \"agar\"/SCONJ, \"mereka\"/PRON, \"yang\"/PRON, \"terdampak\"/VERB, \"peristiwa\"/NOUN, \"kebakaran\"/NOUN, \"di\"/ADP, \"Jalan\"/PROPN, \"Manggarai\"/PROPN, \"Utara\"/PROPN, \"II\"/NUM, \"ini\"/DET, \"dapat\"/AUX, \"segera\"/ADV, \"diberi\"/VERB, \"bantuan\"/NOUN, \"khusus\"/ADJ, \".\"/PUNCT, \"Ia\"/PRON, \"mengakui\"/VERB, \"bahwa\"/SCONJ, \"beberapa\"/DET, \"warga\"/NOUN, \"yang\"/PRON, \"menjadi\"/VERB, \"korban\"/NOUN, \"kebakaran\"/NOUN, \"memang\"/ADV, \"masih\"/ADV, \"memiliki\"/VERB, \"anak-anak\"/NOUN, \"yang\"/PRON, \"berusia\"/VERB, \"sekolah\"/NOUN, \".\"/PUNCT, \"Menurut\"/ADP, \"Prihatin\"/PROPN, \",\"/PUNCT, \"jumlah\"/NOUN, \"anak\"/NOUN, \"yang\"/PRON, \"bersekolah\"/VERB, \"diperkirakan\"/VERB, \"sekitar\"/ADP, \"25\"/NUM, \"orang\"/NOUN, \".\"/PUNCT, \"\"\"/PUNCT, \"Usia\"/NOUN, \"sekolah\"/NOUN, \"ada\"/VERB, \".\"/PUNCT, \"SD\"/PROPN, \"ada\"/VERB, \",\"/PUNCT, \"SMP\"/PROPN, \"ada\"/VERB, \",\"/PUNCT, \"SMA\"/PROPN, \"ada\"/VERB, \".\"/PUNCT, \"Jumlahnya\"/ADV, \"enggak\"/NOUN, \"banyak\"/ADV, \",\"/PUNCT, \"(\"/PUNCT, \"sekitar\"/ADP, \")\"/PUNCT, \"20-25\"/NUM, \"siswa\"/NOUN, \",\"\"/PUNCT, \"tutur\"/NOUN, \"dia\"/PRON, \".\"/PUNCT, \"Sementara\"/SCONJ, \"itu\"/DET, \",\"/PUNCT, \"Prihatin\"/PROPN, \"mengaku\"/VERB, \"ada\"/VERB, \"juga\"/ADV, \"korban\"/NOUN, \"yang\"/PRON, \"berusia\"/VERB, \"lanjut\"/ADJ, \"(\"/PUNCT, \"lanjut\"/ADJ, \"usia\"/NOUN, \"/\"/PUNCT, \"lansia\"/NOUN, \")\"/PUNCT, \".\"/PUNCT, \"Namun\"/ADV, \",\"/PUNCT, \"menurut\"/ADP, \"dia\"/PRON, \",\"/PUNCT, \"tidak\"/PART, \"ada\"/VERB, \"kebutuhan\"/NOUN, \"khusus\"/ADJ, \"yang\"/PRON, \"diperlukan\"/VERB, \"para\"/DET, \"korban\"/NOUN, \"lansia\"/NOUN, \".\"/PUNCT, \"Sebab\"/NOUN, \",\"/PUNCT, \"jumlah\"/NOUN, \"mereka\"/PRON, \"yang\"/PRON, \"tergolong\"/VERB, \"sedikit\"/ADV, \".\"/PUNCT]\n",
      "17/12/2022\n",
      " \\- Badan Penanggulangan Bencana Daerah (BPBD) Kabupaten Bogor, Jawa Barat, mencatat sebanyak 18 bangunan rusak akibat peristiwa di Kecamatan Ciampea, Bogor.  Kabid Kedaruratan dan Logistik BPBD Kabupaten Bogor, Aris Nurjatmiko di Bogor, Senin, 5 Desember 2022, menyatakan bahwa 18 bangunan yang rusak itu terdiri dari 16 rumah warga, satu villa, dan satu kolam pancing.  \"Kemarin, hari Minggu (5/12) telah dilaksanakan peninjauan di beberapa titik lokasi yang terdampak akibat intensitas curah hujan cukup tinggi disertai angin kencang atau puting beliung,\" kata Aris.  Belasan bangunan yang mengalami kerusakan tersebut, kata dia, tidak menyebabkan korban jiwa. Namun, hingga kini pihaknya masih melakukan penghitungan terhadap jumlah kerugian material dampak angin puting beliung.  \"Hanya kerugian material dari bangunan-bangunan yang rusak. Kerugian material, masih dalam asessment, sementara belum bisa diperkirakan,\" ujar Aris.  Bencana angin puting beliung yang terjadi di Desa Tegalwaru dan Desa Cibanteng itu, kata dia, juga menyebabkan dua pohon tumbang. Satu di antaranya mengakibatkan akses jalan terputus sementara di Kampung Cikarawang, Desa Tegalwaru.  Aris menjelaskan, petugas BPBD bersama Pemerintah Desa, Bhabinkamtibmas, Babinsa, dan masyarakat sekitar membantu upaya penanganan dengan cara bergotong-royong untuk evakuasi bangunan-bangunan rusak dan pohon tumbang yang menghalangi jalan.  Khusus penanganan pohon tumbang di Desa Cibanteng, BPBD berkoordinasi dengan PLN Unit Layanan Pelanggan (ULP) Leuwiliang. Karena, batang pohon yang tumbang di bahu Jalan Raya Cinangneng tersangkut kabel dan menimpa tiang listrik.  \"Melakukan evakuasi sementara dengan cara menebang pohon tersebut. kemudian dilakukan penanganan tiang listrik yang terkena oleh pohon tumbang tersebut oleh pihak ,\" paparnya.   \n",
      "Sentence[293]: \" \\- Badan Penanggulangan Bencana Daerah (BPBD) Kabupaten Bogor, Jawa Barat, mencatat sebanyak 18 bangunan rusak akibat peristiwa di Kecamatan Ciampea, Bogor.  Kabid Kedaruratan dan Logistik BPBD Kabupaten Bogor, Aris Nurjatmiko di Bogor, Senin, 5 Desember 2022, menyatakan bahwa 18 bangunan yang rusak itu terdiri dari 16 rumah warga, satu villa, dan satu kolam pancing.  \"Kemarin, hari Minggu (5/12) telah dilaksanakan peninjauan di beberapa titik lokasi yang terdampak akibat intensitas curah hujan cukup tinggi disertai angin kencang atau puting beliung,\" kata Aris.  Belasan bangunan yang mengalami kerusakan tersebut, kata dia, tidak menyebabkan korban jiwa. Namun, hingga kini pihaknya masih melakukan penghitungan terhadap jumlah kerugian material dampak angin puting beliung.  \"Hanya kerugian material dari bangunan-bangunan yang rusak. Kerugian material, masih dalam asessment, sementara belum bisa diperkirakan,\" ujar Aris.  Bencana angin puting beliung yang terjadi di Desa Tegalwaru dan Desa Cibanteng itu, kata dia, juga menyebabkan dua pohon tumbang. Satu di antaranya mengakibatkan akses jalan terputus sementara di Kampung Cikarawang, Desa Tegalwaru.  Aris menjelaskan, petugas BPBD bersama Pemerintah Desa, Bhabinkamtibmas, Babinsa, dan masyarakat sekitar membantu upaya penanganan dengan cara bergotong-royong untuk evakuasi bangunan-bangunan rusak dan pohon tumbang yang menghalangi jalan.  Khusus penanganan pohon tumbang di Desa Cibanteng, BPBD berkoordinasi dengan PLN Unit Layanan Pelanggan (ULP) Leuwiliang. Karena, batang pohon yang tumbang di bahu Jalan Raya Cinangneng tersangkut kabel dan menimpa tiang listrik.  \"Melakukan evakuasi sementara dengan cara menebang pohon tersebut. kemudian dilakukan penanganan tiang listrik yang terkena oleh pohon tumbang tersebut oleh pihak ,\" paparnya.\" → [\"\\-\"/PUNCT, \"Badan\"/PROPN, \"Penanggulangan\"/PROPN, \"Bencana\"/PROPN, \"Daerah\"/PROPN, \"(\"/PUNCT, \"BPBD\"/PROPN, \")\"/PUNCT, \"Kabupaten\"/PROPN, \"Bogor\"/PROPN, \",\"/PUNCT, \"Jawa\"/PROPN, \"Barat\"/PROPN, \",\"/PUNCT, \"mencatat\"/VERB, \"sebanyak\"/ADP, \"18\"/NUM, \"bangunan\"/NOUN, \"rusak\"/VERB, \"akibat\"/NOUN, \"peristiwa\"/NOUN, \"di\"/ADP, \"Kecamatan\"/PROPN, \"Ciampea\"/PROPN, \",\"/PUNCT, \"Bogor\"/PROPN, \".\"/PUNCT, \"Kabid\"/PROPN, \"Kedaruratan\"/PROPN, \"dan\"/CCONJ, \"Logistik\"/PROPN, \"BPBD\"/PROPN, \"Kabupaten\"/PROPN, \"Bogor\"/PROPN, \",\"/PUNCT, \"Aris\"/PROPN, \"Nurjatmiko\"/PROPN, \"di\"/ADP, \"Bogor\"/PROPN, \",\"/PUNCT, \"Senin\"/PROPN, \",\"/PUNCT, \"5\"/NUM, \"Desember\"/PROPN, \"2022\"/NUM, \",\"/PUNCT, \"menyatakan\"/VERB, \"bahwa\"/SCONJ, \"18\"/NUM, \"bangunan\"/NOUN, \"yang\"/PRON, \"rusak\"/VERB, \"itu\"/DET, \"terdiri\"/VERB, \"dari\"/ADP, \"16\"/NUM, \"rumah\"/NOUN, \"warga\"/NOUN, \",\"/PUNCT, \"satu\"/NUM, \"villa\"/NOUN, \",\"/PUNCT, \"dan\"/CCONJ, \"satu\"/NUM, \"kolam\"/NOUN, \"pancing\"/NOUN, \".\"/PUNCT, \"\"\"/PUNCT, \"Kemarin\"/PROPN, \",\"/PUNCT, \"hari\"/NOUN, \"Minggu\"/PROPN, \"(\"/PUNCT, \"5\"/NUM, \"/\"/PUNCT, \"12\"/NUM, \")\"/PUNCT, \"telah\"/AUX, \"dilaksanakan\"/VERB, \"peninjauan\"/NOUN, \"di\"/ADP, \"beberapa\"/DET, \"titik\"/NOUN, \"lokasi\"/NOUN, \"yang\"/PRON, \"terdampak\"/VERB, \"akibat\"/NOUN, \"intensitas\"/NOUN, \"curah\"/NOUN, \"hujan\"/NOUN, \"cukup\"/ADV, \"tinggi\"/ADJ, \"disertai\"/VERB, \"angin\"/NOUN, \"kencang\"/NOUN, \"atau\"/CCONJ, \"puting\"/NOUN, \"beliung\"/NOUN, \",\"\"/PUNCT, \"kata\"/NOUN, \"Aris\"/PROPN, \".\"/PUNCT, \"Belasan\"/NOUN, \"bangunan\"/NOUN, \"yang\"/PRON, \"mengalami\"/VERB, \"kerusakan\"/NOUN, \"tersebut\"/DET, \",\"/PUNCT, \"kata\"/NOUN, \"dia\"/PRON, \",\"/PUNCT, \"tidak\"/PART, \"menyebabkan\"/VERB, \"korban\"/NOUN, \"jiwa\"/NOUN, \".\"/PUNCT, \"Namun\"/ADV, \",\"/PUNCT, \"hingga\"/SCONJ, \"kini\"/ADV, \"pihaknya\"/NOUN, \"masih\"/ADV, \"melakukan\"/VERB, \"penghitungan\"/NOUN, \"terhadap\"/ADP, \"jumlah\"/NOUN, \"kerugian\"/NOUN, \"material\"/NOUN, \"dampak\"/NOUN, \"angin\"/NOUN, \"puting\"/NOUN, \"beliung\"/NOUN, \".\"/PUNCT, \"\"\"/PUNCT, \"Hanya\"/ADV, \"kerugian\"/NOUN, \"material\"/NOUN, \"dari\"/ADP, \"bangunan-bangunan\"/NOUN, \"yang\"/PRON, \"rusak\"/VERB, \".\"/PUNCT, \"Kerugian\"/NOUN, \"material\"/NOUN, \",\"/PUNCT, \"masih\"/ADV, \"dalam\"/ADP, \"asessment\"/NOUN, \",\"/PUNCT, \"sementara\"/SCONJ, \"belum\"/PART, \"bisa\"/AUX, \"diperkirakan\"/VERB, \",\"\"/PUNCT, \"ujar\"/NOUN, \"Aris\"/PROPN, \".\"/PUNCT, \"Bencana\"/NOUN, \"angin\"/NOUN, \"puting\"/NOUN, \"beliung\"/NOUN, \"yang\"/PRON, \"terjadi\"/VERB, \"di\"/ADP, \"Desa\"/PROPN, \"Tegalwaru\"/PROPN, \"dan\"/CCONJ, \"Desa\"/PROPN, \"Cibanteng\"/PROPN, \"itu\"/DET, \",\"/PUNCT, \"kata\"/NOUN, \"dia\"/PRON, \",\"/PUNCT, \"juga\"/ADV, \"menyebabkan\"/VERB, \"dua\"/NUM, \"pohon\"/NOUN, \"tumbang\"/NOUN, \".\"/PUNCT, \"Satu\"/NUM, \"di\"/ADP, \"antaranya\"/ADV, \"mengakibatkan\"/VERB, \"akses\"/NOUN, \"jalan\"/NOUN, \"terputus\"/VERB, \"sementara\"/SCONJ, \"di\"/ADP, \"Kampung\"/PROPN, \"Cikarawang\"/PROPN, \",\"/PUNCT, \"Desa\"/PROPN, \"Tegalwaru\"/PROPN, \".\"/PUNCT, \"Aris\"/PROPN, \"menjelaskan\"/VERB, \",\"/PUNCT, \"petugas\"/NOUN, \"BPBD\"/PROPN, \"bersama\"/ADP, \"Pemerintah\"/PROPN, \"Desa\"/PROPN, \",\"/PUNCT, \"Bhabinkamtibmas\"/PROPN, \",\"/PUNCT, \"Babinsa\"/PROPN, \",\"/PUNCT, \"dan\"/CCONJ, \"masyarakat\"/NOUN, \"sekitar\"/ADJ, \"membantu\"/VERB, \"upaya\"/NOUN, \"penanganan\"/NOUN, \"dengan\"/ADP, \"cara\"/NOUN, \"bergotong-royong\"/VERB, \"untuk\"/ADP, \"evakuasi\"/NOUN, \"bangunan-bangunan\"/NOUN, \"rusak\"/ADJ, \"dan\"/CCONJ, \"pohon\"/NOUN, \"tumbang\"/NOUN, \"yang\"/PRON, \"menghalangi\"/VERB, \"jalan\"/NOUN, \".\"/PUNCT, \"Khusus\"/ADJ, \"penanganan\"/NOUN, \"pohon\"/NOUN, \"tumbang\"/VERB, \"di\"/ADP, \"Desa\"/PROPN, \"Cibanteng\"/PROPN, \",\"/PUNCT, \"BPBD\"/PROPN, \"berkoordinasi\"/VERB, \"dengan\"/ADP, \"PLN\"/PROPN, \"Unit\"/PROPN, \"Layanan\"/PROPN, \"Pelanggan\"/PROPN, \"(\"/PUNCT, \"ULP\"/PROPN, \")\"/PUNCT, \"Leuwiliang\"/PROPN, \".\"/PUNCT, \"Karena\"/SCONJ, \",\"/PUNCT, \"batang\"/NOUN, \"pohon\"/NOUN, \"yang\"/PRON, \"tumbang\"/VERB, \"di\"/ADP, \"bahu\"/NOUN, \"Jalan\"/PROPN, \"Raya\"/PROPN, \"Cinangneng\"/PROPN, \"tersangkut\"/VERB, \"kabel\"/NOUN, \"dan\"/CCONJ, \"menimpa\"/VERB, \"tiang\"/NOUN, \"listrik\"/NOUN, \".\"/PUNCT, \"\"\"/PUNCT, \"Melakukan\"/VERB, \"evakuasi\"/NOUN, \"sementara\"/ADJ, \"dengan\"/ADP, \"cara\"/NOUN, \"menebang\"/VERB, \"pohon\"/NOUN, \"tersebut\"/DET, \".\"/PUNCT, \"kemudian\"/ADV, \"dilakukan\"/VERB, \"penanganan\"/NOUN, \"tiang\"/NOUN, \"listrik\"/NOUN, \"yang\"/PRON, \"terkena\"/VERB, \"oleh\"/ADP, \"pohon\"/NOUN, \"tumbang\"/NOUN, \"tersebut\"/DET, \"oleh\"/ADP, \"pihak\"/NOUN, \",\"\"/PUNCT, \"paparnya\"/NOUN, \".\"/PUNCT]\n",
      "05/12/2022\n",
      "\\- Pemadaman api di lokasi kebakaran Pasar Ciawi Kabupaten Tasikmalaya, Jawa Barat, butuh waktu sampai 4,5 jam sampai pukul 20.00 WIB, Minggu (18/12/2022).  Kobaran api sejak 15.30 WIB itu dipadamkan oleh gabungan petugas Pemadam Kebakaran (Damkar) lintas daerah.  Mulai dari mobil Damkar asal Kabupaten Tasikmalaya, Ciamis, Kota Tasikmalaya, dan Kabupaten Sumedang, memadamkan api yang melalap seluruh kios di Blok C pasar itu.  Kepala Dinas Koperasi UMKM, Perindustrian dan Perdagangan Kabupaten Tasikmalaya, Iwan Ridwan menyatakan, sesuai hasil pendataan sebanyak 158 kios di pasar itu hangus terbakar tidak bersisa.  \"Sesuai pencatatan kami sebanyak 158 kios pedagang di Blok C Pasar Ciawi. Kalau blok lainnya di pasar itu tak ada yang terbakar akibat rembetan api,\" jelas Iwan kepada wartawan, Minggu malam.  Ratusan kios yang berada di blok C ludes terbakar itu kebanyakan diisi para pedagang kelontongan, pakaian dan kasur.  Sampai saat ini penyebab kebakaran masih belum bisa dipastikan dan masih proses penyelidikan Kepolisian.  Penyebab kebakaran masih belum diketahui dan itu ranahnya ada di Kepolisian. Kita masih menunggu proses penyelidikan dari pihak Kepolisian dan petugas pemadam kebakaran, kata Iwan.  Sejatinya, bangunan kios Blok C Pasar Ciawi itu adalah bangunan baru usai pembangunan kecelakaan kebakaran pada 15 Agustus 2021.  Sebetulnya kami sedang evaluasi pasar-pasar untuk direvitalisasi, nanti prosesnya seperti apa. Untuk pedagang yang kiosnya terbakar, nanti kita tempatkan di kios darurat, ujarnya.  Sebelumnya, Pasar Ciawi Kabupaten Tasikmalaya, Jawa Barat, kembali kebakaran diduga akibat korsleting listrik, Minggu (18/12/2022) sore.  Ratusan kios pedagang di Blok C komplek perdagangan terbesar Tasikmalaya Utara tersebut ludes terbakar dilalap api.  Pasar ini pun pernah terbakar setahun lalu yang membakar ratusan kios.  Kepala Bagian Operasi Polresta Tasikmalaya, Kompol Shohet, membenarkan kejadian kebakaran di pasar itu dan sampai sekarang sedang proses pemadaman oleh petugas Damkar, Polisi, TNI, BPBD dibantu warga sekitar.  \"Iya, benar Pasar Ciawi (Kabupaten Tasikmalaya) kebakaran tadi sekitar pukul 15.30 WIB. Dugaan sementara api berasal dari korsleting listrik. Diperkirakan ada 200 kios yang terbakar di Blok C,\" jelas Shohet kepada wartawan lewat telepon, Minggu sore.   \n",
      "Sentence[392]: \"\\- Pemadaman api di lokasi kebakaran Pasar Ciawi Kabupaten Tasikmalaya, Jawa Barat, butuh waktu sampai 4,5 jam sampai pukul 20.00 WIB, Minggu (18/12/2022).  Kobaran api sejak 15.30 WIB itu dipadamkan oleh gabungan petugas Pemadam Kebakaran (Damkar) lintas daerah.  Mulai dari mobil Damkar asal Kabupaten Tasikmalaya, Ciamis, Kota Tasikmalaya, dan Kabupaten Sumedang, memadamkan api yang melalap seluruh kios di Blok C pasar itu.  Kepala Dinas Koperasi UMKM, Perindustrian dan Perdagangan Kabupaten Tasikmalaya, Iwan Ridwan menyatakan, sesuai hasil pendataan sebanyak 158 kios di pasar itu hangus terbakar tidak bersisa.  \"Sesuai pencatatan kami sebanyak 158 kios pedagang di Blok C Pasar Ciawi. Kalau blok lainnya di pasar itu tak ada yang terbakar akibat rembetan api,\" jelas Iwan kepada wartawan, Minggu malam.  Ratusan kios yang berada di blok C ludes terbakar itu kebanyakan diisi para pedagang kelontongan, pakaian dan kasur.  Sampai saat ini penyebab kebakaran masih belum bisa dipastikan dan masih proses penyelidikan Kepolisian.  Penyebab kebakaran masih belum diketahui dan itu ranahnya ada di Kepolisian. Kita masih menunggu proses penyelidikan dari pihak Kepolisian dan petugas pemadam kebakaran, kata Iwan.  Sejatinya, bangunan kios Blok C Pasar Ciawi itu adalah bangunan baru usai pembangunan kecelakaan kebakaran pada 15 Agustus 2021.  Sebetulnya kami sedang evaluasi pasar-pasar untuk direvitalisasi, nanti prosesnya seperti apa. Untuk pedagang yang kiosnya terbakar, nanti kita tempatkan di kios darurat, ujarnya.  Sebelumnya, Pasar Ciawi Kabupaten Tasikmalaya, Jawa Barat, kembali kebakaran diduga akibat korsleting listrik, Minggu (18/12/2022) sore.  Ratusan kios pedagang di Blok C komplek perdagangan terbesar Tasikmalaya Utara tersebut ludes terbakar dilalap api.  Pasar ini pun pernah terbakar setahun lalu yang membakar ratusan kios.  Kepala Bagian Operasi Polresta Tasikmalaya, Kompol Shohet, membenarkan kejadian kebakaran di pasar itu dan sampai sekarang sedang proses pemadaman oleh petugas Damkar, Polisi, TNI, BPBD dibantu warga sekitar.  \"Iya, benar Pasar Ciawi (Kabupaten Tasikmalaya) kebakaran tadi sekitar pukul 15.30 WIB. Dugaan sementara api berasal dari korsleting listrik. Diperkirakan ada 200 kios yang terbakar di Blok C,\" jelas Shohet kepada wartawan lewat telepon, Minggu sore.\" → [\"\\-\"/PUNCT, \"Pemadaman\"/NOUN, \"api\"/NOUN, \"di\"/ADP, \"lokasi\"/NOUN, \"kebakaran\"/NOUN, \"Pasar\"/PROPN, \"Ciawi\"/PROPN, \"Kabupaten\"/PROPN, \"Tasikmalaya\"/PROPN, \",\"/PUNCT, \"Jawa\"/PROPN, \"Barat\"/PROPN, \",\"/PUNCT, \"butuh\"/VERB, \"waktu\"/NOUN, \"sampai\"/ADP, \"4,5\"/NUM, \"jam\"/NOUN, \"sampai\"/ADP, \"pukul\"/NOUN, \"20.00\"/NUM, \"WIB\"/PROPN, \",\"/PUNCT, \"Minggu\"/PROPN, \"(\"/PUNCT, \"18\"/NUM, \"/\"/PUNCT, \"12\"/NUM, \"/\"/PUNCT, \"2022\"/NUM, \")\"/PUNCT, \".\"/PUNCT, \"Kobaran\"/NOUN, \"api\"/NOUN, \"sejak\"/ADP, \"15.30\"/NUM, \"WIB\"/PROPN, \"itu\"/DET, \"dipadamkan\"/VERB, \"oleh\"/ADP, \"gabungan\"/NOUN, \"petugas\"/NOUN, \"Pemadam\"/PROPN, \"Kebakaran\"/PROPN, \"(\"/PUNCT, \"Damkar\"/PROPN, \")\"/PUNCT, \"lintas\"/NOUN, \"daerah\"/NOUN, \".\"/PUNCT, \"Mulai\"/VERB, \"dari\"/ADP, \"mobil\"/NOUN, \"Damkar\"/PROPN, \"asal\"/ADP, \"Kabupaten\"/PROPN, \"Tasikmalaya\"/PROPN, \",\"/PUNCT, \"Ciamis\"/PROPN, \",\"/PUNCT, \"Kota\"/PROPN, \"Tasikmalaya\"/PROPN, \",\"/PUNCT, \"dan\"/CCONJ, \"Kabupaten\"/PROPN, \"Sumedang\"/PROPN, \",\"/PUNCT, \"memadamkan\"/VERB, \"api\"/NOUN, \"yang\"/PRON, \"melalap\"/VERB, \"seluruh\"/DET, \"kios\"/NOUN, \"di\"/ADP, \"Blok\"/PROPN, \"C\"/PROPN, \"pasar\"/NOUN, \"itu\"/DET, \".\"/PUNCT, \"Kepala\"/NOUN, \"Dinas\"/PROPN, \"Koperasi\"/PROPN, \"UMKM\"/PROPN, \",\"/PUNCT, \"Perindustrian\"/PROPN, \"dan\"/CCONJ, \"Perdagangan\"/PROPN, \"Kabupaten\"/PROPN, \"Tasikmalaya\"/PROPN, \",\"/PUNCT, \"Iwan\"/PROPN, \"Ridwan\"/PROPN, \"menyatakan\"/VERB, \",\"/PUNCT, \"sesuai\"/ADP, \"hasil\"/NOUN, \"pendataan\"/NOUN, \"sebanyak\"/ADP, \"158\"/NUM, \"kios\"/NOUN, \"di\"/ADP, \"pasar\"/NOUN, \"itu\"/DET, \"hangus\"/ADJ, \"terbakar\"/VERB, \"tidak\"/PART, \"bersisa\"/VERB, \".\"/PUNCT, \"\"\"/PUNCT, \"Sesuai\"/ADP, \"pencatatan\"/NOUN, \"kami\"/PRON, \"sebanyak\"/ADP, \"158\"/NUM, \"kios\"/NOUN, \"pedagang\"/NOUN, \"di\"/ADP, \"Blok\"/PROPN, \"C\"/PROPN, \"Pasar\"/PROPN, \"Ciawi\"/PROPN, \".\"/PUNCT, \"Kalau\"/SCONJ, \"blok\"/NOUN, \"lainnya\"/ADJ, \"di\"/ADP, \"pasar\"/NOUN, \"itu\"/DET, \"tak\"/PART, \"ada\"/VERB, \"yang\"/PRON, \"terbakar\"/VERB, \"akibat\"/NOUN, \"rembetan\"/NOUN, \"api\"/NOUN, \",\"\"/PUNCT, \"jelas\"/ADJ, \"Iwan\"/PROPN, \"kepada\"/ADP, \"wartawan\"/NOUN, \",\"/PUNCT, \"Minggu\"/NOUN, \"malam\"/ADJ, \".\"/PUNCT, \"Ratusan\"/DET, \"kios\"/NOUN, \"yang\"/PRON, \"berada\"/VERB, \"di\"/ADP, \"blok\"/NOUN, \"C\"/PROPN, \"ludes\"/PROPN, \"terbakar\"/VERB, \"itu\"/DET, \"kebanyakan\"/ADV, \"diisi\"/VERB, \"para\"/DET, \"pedagang\"/NOUN, \"kelontongan\"/NOUN, \",\"/PUNCT, \"pakaian\"/NOUN, \"dan\"/CCONJ, \"kasur\"/NOUN, \".\"/PUNCT, \"Sampai\"/ADP, \"saat\"/NOUN, \"ini\"/DET, \"penyebab\"/NOUN, \"kebakaran\"/NOUN, \"masih\"/ADV, \"belum\"/PART, \"bisa\"/AUX, \"dipastikan\"/VERB, \"dan\"/CCONJ, \"masih\"/ADV, \"proses\"/NOUN, \"penyelidikan\"/NOUN, \"Kepolisian\"/PROPN, \".\"/PUNCT, \"Penyebab\"/NOUN, \"kebakaran\"/NOUN, \"masih\"/ADV, \"belum\"/PART, \"diketahui\"/VERB, \"dan\"/CCONJ, \"itu\"/DET, \"ranahnya\"/NOUN, \"ada\"/VERB, \"di\"/ADP, \"Kepolisian\"/PROPN, \".\"/PUNCT, \"Kita\"/PRON, \"masih\"/ADV, \"menunggu\"/VERB, \"proses\"/NOUN, \"penyelidikan\"/NOUN, \"dari\"/ADP, \"pihak\"/NOUN, \"Kepolisian\"/PROPN, \"dan\"/CCONJ, \"petugas\"/NOUN, \"pemadam\"/NOUN, \"kebakaran\"/NOUN, \",\"/PUNCT, \"kata\"/NOUN, \"Iwan\"/PROPN, \".\"/PUNCT, \"Sejatinya\"/ADV, \",\"/PUNCT, \"bangunan\"/NOUN, \"kios\"/NOUN, \"Blok\"/PROPN, \"C\"/PROPN, \"Pasar\"/PROPN, \"Ciawi\"/PROPN, \"itu\"/DET, \"adalah\"/AUX, \"bangunan\"/NOUN, \"baru\"/ADJ, \"usai\"/ADP, \"pembangunan\"/NOUN, \"kecelakaan\"/NOUN, \"kebakaran\"/NOUN, \"pada\"/ADP, \"15\"/NUM, \"Agustus\"/PROPN, \"2021\"/NUM, \".\"/PUNCT, \"Sebetulnya\"/ADV, \"kami\"/PRON, \"sedang\"/AUX, \"evaluasi\"/VERB, \"pasar-pasar\"/NOUN, \"untuk\"/SCONJ, \"direvitalisasi\"/VERB, \",\"/PUNCT, \"nanti\"/ADV, \"prosesnya\"/NOUN, \"seperti\"/ADP, \"apa\"/PRON, \".\"/PUNCT, \"Untuk\"/ADP, \"pedagang\"/NOUN, \"yang\"/PRON, \"kiosnya\"/NOUN, \"terbakar\"/VERB, \",\"/PUNCT, \"nanti\"/AUX, \"kita\"/PRON, \"tempatkan\"/VERB, \"di\"/ADP, \"kios\"/NOUN, \"darurat\"/NOUN, \",\"/PUNCT, \"ujarnya\"/ADV, \".\"/PUNCT, \"Sebelumnya\"/ADV, \",\"/PUNCT, \"Pasar\"/PROPN, \"Ciawi\"/PROPN, \"Kabupaten\"/PROPN, \"Tasikmalaya\"/PROPN, \",\"/PUNCT, \"Jawa\"/PROPN, \"Barat\"/PROPN, \",\"/PUNCT, \"kembali\"/ADV, \"kebakaran\"/NOUN, \"diduga\"/VERB, \"akibat\"/NOUN, \"korsleting\"/NOUN, \"listrik\"/NOUN, \",\"/PUNCT, \"Minggu\"/PROPN, \"(\"/PUNCT, \"18\"/NUM, \"/\"/PUNCT, \"12\"/NUM, \"/\"/PUNCT, \"2022\"/NUM, \")\"/PUNCT, \"sore\"/NOUN, \".\"/PUNCT, \"Ratusan\"/DET, \"kios\"/NOUN, \"pedagang\"/NOUN, \"di\"/ADP, \"Blok\"/PROPN, \"C\"/PROPN, \"komplek\"/NOUN, \"perdagangan\"/NOUN, \"terbesar\"/ADJ, \"Tasikmalaya\"/PROPN, \"Utara\"/PROPN, \"tersebut\"/DET, \"ludes\"/NOUN, \"terbakar\"/VERB, \"dilalap\"/VERB, \"api\"/NOUN, \".\"/PUNCT, \"Pasar\"/NOUN, \"ini\"/DET, \"pun\"/PART, \"pernah\"/ADV, \"terbakar\"/VERB, \"setahun\"/NOUN, \"lalu\"/ADJ, \"yang\"/PRON, \"membakar\"/VERB, \"ratusan\"/DET, \"kios\"/NOUN, \".\"/PUNCT, \"Kepala\"/NOUN, \"Bagian\"/PROPN, \"Operasi\"/PROPN, \"Polresta\"/PROPN, \"Tasikmalaya\"/PROPN, \",\"/PUNCT, \"Kompol\"/PROPN, \"Shohet\"/PROPN, \",\"/PUNCT, \"membenarkan\"/VERB, \"kejadian\"/NOUN, \"kebakaran\"/NOUN, \"di\"/ADP, \"pasar\"/NOUN, \"itu\"/DET, \"dan\"/CCONJ, \"sampai\"/ADP, \"sekarang\"/ADV, \"sedang\"/AUX, \"proses\"/NOUN, \"pemadaman\"/NOUN, \"oleh\"/ADP, \"petugas\"/NOUN, \"Damkar\"/PROPN, \",\"/PUNCT, \"Polisi\"/PROPN, \",\"/PUNCT, \"TNI\"/PROPN, \",\"/PUNCT, \"BPBD\"/PROPN, \"dibantu\"/VERB, \"warga\"/NOUN, \"sekitar\"/ADJ, \".\"/PUNCT, \"\"\"/PUNCT, \"Iya\"/PROPN, \",\"/PUNCT, \"benar\"/ADJ, \"Pasar\"/PROPN, \"Ciawi\"/PROPN, \"(\"/PUNCT, \"Kabupaten\"/PROPN, \"Tasikmalaya\"/PROPN, \")\"/PUNCT, \"kebakaran\"/NOUN, \"tadi\"/NOUN, \"sekitar\"/ADP, \"pukul\"/NOUN, \"15.30\"/NUM, \"WIB\"/PROPN, \".\"/PUNCT, \"Dugaan\"/NOUN, \"sementara\"/ADJ, \"api\"/NOUN, \"berasal\"/VERB, \"dari\"/ADP, \"korsleting\"/NOUN, \"listrik\"/NOUN, \".\"/PUNCT, \"Diperkirakan\"/VERB, \"ada\"/VERB, \"200\"/NUM, \"kios\"/NOUN, \"yang\"/PRON, \"terbakar\"/VERB, \"di\"/ADP, \"Blok\"/PROPN, \"C\"/PROPN, \",\"\"/PUNCT, \"jelas\"/ADJ, \"Shohet\"/PROPN, \"kepada\"/ADP, \"wartawan\"/NOUN, \"lewat\"/ADP, \"telepon\"/NOUN, \",\"/PUNCT, \"Minggu\"/PROPN, \"sore\"/PROPN, \".\"/PUNCT]\n",
      "18/12/2022\n",
      "Seorang warga lanjut usia (lansia) tewas dalam peristiwa kebakaran rumah di Jalan Subur, Rangkuih, Kota Pangkalpinang, Kepulauan Bangka Belitung, Minggu (18/12/2022) sekitar 20.00 WIB.  Korban bernama Aji Siat (92 tahun) ditemukan meninggal setelah api berhasil dipadamkan.  Kepala Badan Penanggulangan Bencana Daerah (BPBD) Bangka Belitung Mikron Antariksa membenarkan adanya peristiwa kebakaran yang menyebabkan satu warga penghuni rumah meninggal.  \"Dugaan korsleting listrik,\" kata Mikron saat dikonfirmasi, Minggu malam.  Api dengan cepat menghanguskan bangunan rumah yang sebagian besar berbahan kayu.  Sejumlah mobil pemadam kebakaran dikerahkan untuk melakukan pemadaman. Kobaran api berhasil dipadamkan sekitar pukul 21.00 WIB.  \"Sejauh ini hanya satu rumah terdampak,\" ujar Mikron.  Petugas damkar dibantu warga masih berada di lokasi untuk melakukan pendinginan area. Sementara korban sudah dievakuasi ke rumah sakit setempat.  \"Kerugian material masih didata petugas,\" ucap Mikron.  BPBD Bangka Belitung mengimbau warga untuk berhati-hati saat di dalam rumah, khususnya yang dihuni lansia atau anak-anak.  Warga juga diharapkan memperbarui instalasi listrik jika sudah terlalu lama dipakai.   \n",
      "Sentence[193]: \"Seorang warga lanjut usia (lansia) tewas dalam peristiwa kebakaran rumah di Jalan Subur, Rangkuih, Kota Pangkalpinang, Kepulauan Bangka Belitung, Minggu (18/12/2022) sekitar 20.00 WIB.  Korban bernama Aji Siat (92 tahun) ditemukan meninggal setelah api berhasil dipadamkan.  Kepala Badan Penanggulangan Bencana Daerah (BPBD) Bangka Belitung Mikron Antariksa membenarkan adanya peristiwa kebakaran yang menyebabkan satu warga penghuni rumah meninggal.  \"Dugaan korsleting listrik,\" kata Mikron saat dikonfirmasi, Minggu malam.  Api dengan cepat menghanguskan bangunan rumah yang sebagian besar berbahan kayu.  Sejumlah mobil pemadam kebakaran dikerahkan untuk melakukan pemadaman. Kobaran api berhasil dipadamkan sekitar pukul 21.00 WIB.  \"Sejauh ini hanya satu rumah terdampak,\" ujar Mikron.  Petugas damkar dibantu warga masih berada di lokasi untuk melakukan pendinginan area. Sementara korban sudah dievakuasi ke rumah sakit setempat.  \"Kerugian material masih didata petugas,\" ucap Mikron.  BPBD Bangka Belitung mengimbau warga untuk berhati-hati saat di dalam rumah, khususnya yang dihuni lansia atau anak-anak.  Warga juga diharapkan memperbarui instalasi listrik jika sudah terlalu lama dipakai.\" → [\"Seorang\"/DET, \"warga\"/NOUN, \"lanjut\"/ADJ, \"usia\"/NOUN, \"(\"/PUNCT, \"lansia\"/NOUN, \")\"/PUNCT, \"tewas\"/VERB, \"dalam\"/ADP, \"peristiwa\"/NOUN, \"kebakaran\"/NOUN, \"rumah\"/NOUN, \"di\"/ADP, \"Jalan\"/PROPN, \"Subur\"/PROPN, \",\"/PUNCT, \"Rangkuih\"/PROPN, \",\"/PUNCT, \"Kota\"/PROPN, \"Pangkalpinang\"/PROPN, \",\"/PUNCT, \"Kepulauan\"/PROPN, \"Bangka\"/PROPN, \"Belitung\"/PROPN, \",\"/PUNCT, \"Minggu\"/PROPN, \"(\"/PUNCT, \"18\"/NUM, \"/\"/PUNCT, \"12\"/NUM, \"/\"/PUNCT, \"2022\"/NUM, \")\"/PUNCT, \"sekitar\"/ADP, \"20.00\"/NUM, \"WIB\"/PROPN, \".\"/PUNCT, \"Korban\"/NOUN, \"bernama\"/VERB, \"Aji\"/PROPN, \"Siat\"/PROPN, \"(\"/PUNCT, \"92\"/NUM, \"tahun\"/NOUN, \")\"/PUNCT, \"ditemukan\"/VERB, \"meninggal\"/VERB, \"setelah\"/ADP, \"api\"/NOUN, \"berhasil\"/VERB, \"dipadamkan\"/VERB, \".\"/PUNCT, \"Kepala\"/NOUN, \"Badan\"/PROPN, \"Penanggulangan\"/PROPN, \"Bencana\"/PROPN, \"Daerah\"/PROPN, \"(\"/PUNCT, \"BPBD\"/PROPN, \")\"/PUNCT, \"Bangka\"/PROPN, \"Belitung\"/PROPN, \"Mikron\"/PROPN, \"Antariksa\"/PROPN, \"membenarkan\"/VERB, \"adanya\"/VERB, \"peristiwa\"/NOUN, \"kebakaran\"/NOUN, \"yang\"/PRON, \"menyebabkan\"/VERB, \"satu\"/NUM, \"warga\"/NOUN, \"penghuni\"/NOUN, \"rumah\"/NOUN, \"meninggal\"/VERB, \".\"/PUNCT, \"\"\"/PUNCT, \"Dugaan\"/NOUN, \"korsleting\"/NOUN, \"listrik\"/NOUN, \",\"\"/PUNCT, \"kata\"/NOUN, \"Mikron\"/PROPN, \"saat\"/SCONJ, \"dikonfirmasi\"/VERB, \",\"/PUNCT, \"Minggu\"/PROPN, \"malam\"/ADJ, \".\"/PUNCT, \"Api\"/PROPN, \"dengan\"/ADP, \"cepat\"/ADJ, \"menghanguskan\"/VERB, \"bangunan\"/NOUN, \"rumah\"/NOUN, \"yang\"/PRON, \"sebagian\"/DET, \"besar\"/ADJ, \"berbahan\"/VERB, \"kayu\"/NOUN, \".\"/PUNCT, \"Sejumlah\"/DET, \"mobil\"/NOUN, \"pemadam\"/NOUN, \"kebakaran\"/NOUN, \"dikerahkan\"/VERB, \"untuk\"/SCONJ, \"melakukan\"/VERB, \"pemadaman\"/NOUN, \".\"/PUNCT, \"Kobaran\"/NOUN, \"api\"/NOUN, \"berhasil\"/VERB, \"dipadamkan\"/VERB, \"sekitar\"/ADP, \"pukul\"/NOUN, \"21.00\"/NUM, \"WIB\"/PROPN, \".\"/PUNCT, \"\"\"/PUNCT, \"Sejauh\"/NOUN, \"ini\"/DET, \"hanya\"/ADV, \"satu\"/NUM, \"rumah\"/NOUN, \"terdampak\"/VERB, \",\"\"/PUNCT, \"ujar\"/NOUN, \"Mikron\"/PROPN, \".\"/PUNCT, \"Petugas\"/PROPN, \"damkar\"/PROPN, \"dibantu\"/VERB, \"warga\"/NOUN, \"masih\"/ADV, \"berada\"/VERB, \"di\"/ADP, \"lokasi\"/NOUN, \"untuk\"/SCONJ, \"melakukan\"/VERB, \"pendinginan\"/NOUN, \"area\"/NOUN, \".\"/PUNCT, \"Sementara\"/SCONJ, \"korban\"/NOUN, \"sudah\"/AUX, \"dievakuasi\"/VERB, \"ke\"/ADP, \"rumah\"/NOUN, \"sakit\"/NOUN, \"setempat\"/ADJ, \".\"/PUNCT, \"\"\"/PUNCT, \"Kerugian\"/NOUN, \"material\"/NOUN, \"masih\"/ADV, \"didata\"/VERB, \"petugas\"/NOUN, \",\"\"/PUNCT, \"ucap\"/NOUN, \"Mikron\"/PROPN, \".\"/PUNCT, \"BPBD\"/PROPN, \"Bangka\"/PROPN, \"Belitung\"/PROPN, \"mengimbau\"/VERB, \"warga\"/NOUN, \"untuk\"/SCONJ, \"berhati-hati\"/VERB, \"saat\"/NOUN, \"di\"/ADP, \"dalam\"/ADP, \"rumah\"/NOUN, \",\"/PUNCT, \"khususnya\"/NOUN, \"yang\"/PRON, \"dihuni\"/VERB, \"lansia\"/NOUN, \"atau\"/CCONJ, \"anak-anak\"/NOUN, \".\"/PUNCT, \"Warga\"/NOUN, \"juga\"/ADV, \"diharapkan\"/VERB, \"memperbarui\"/VERB, \"instalasi\"/NOUN, \"listrik\"/NOUN, \"jika\"/SCONJ, \"sudah\"/AUX, \"terlalu\"/ADV, \"lama\"/ADJ, \"dipakai\"/VERB, \".\"/PUNCT]\n",
      "18/12/2022\n",
      "\\- Satu unit tempat tinggal semipermanen yang dijadikan sebagai lapak pedagang barang bekas di Jalan Swastantra, Kelurahan Jatirasa, Jatiasih, Kota Bekasi, habis dilalap api pada Kamis (15/12/2022) pukul 15.40 WIB.  Kepala Dinas Pemadam Kebakaran Kota Bekasi Aceng Solahuddin mengatakan, api diduga berasal dari korsleting kipas angin.  \"Menurut keterangan warga di sekitar lingkungan, diduga api berasal dari percikan api aliran listrik kipas angin,\" kata Aceng dalam keterangannya, Kamis.  Percikan api kemudian menyambar barang yang mudah terbakar sehingga api membesar.  Aceng menyebutkan, petugas pemadam yang mendapat laporan kebakaran langsung berangkat ke lokasi dan tiba di tempat kejadian pukul 15.45 WIB.  \"Petugas turut menerjunkan total tujuh unit mobil pemadam guna proses pemadam api,\" ujar Aceng.  Setelah berjibaku selama kurang lebih satu jam, petugas berhasil menjinakkan api, tepatnya pada pukul 16.20 WIB.  Aceng memastikan tidak ada korban jiwa dan korban luka dalam musibah kebakaran itu. Sementara itu, total kerugian ditaksir mencapai puluhan juta rupiah.  \"Tempat tinggal semipermanen rusak berat dengan total kerugian ditaksir Rp 50 juta,\" pungkas Aceng.   \n",
      "Sentence[197]: \"\\- Satu unit tempat tinggal semipermanen yang dijadikan sebagai lapak pedagang barang bekas di Jalan Swastantra, Kelurahan Jatirasa, Jatiasih, Kota Bekasi, habis dilalap api pada Kamis (15/12/2022) pukul 15.40 WIB.  Kepala Dinas Pemadam Kebakaran Kota Bekasi Aceng Solahuddin mengatakan, api diduga berasal dari korsleting kipas angin.  \"Menurut keterangan warga di sekitar lingkungan, diduga api berasal dari percikan api aliran listrik kipas angin,\" kata Aceng dalam keterangannya, Kamis.  Percikan api kemudian menyambar barang yang mudah terbakar sehingga api membesar.  Aceng menyebutkan, petugas pemadam yang mendapat laporan kebakaran langsung berangkat ke lokasi dan tiba di tempat kejadian pukul 15.45 WIB.  \"Petugas turut menerjunkan total tujuh unit mobil pemadam guna proses pemadam api,\" ujar Aceng.  Setelah berjibaku selama kurang lebih satu jam, petugas berhasil menjinakkan api, tepatnya pada pukul 16.20 WIB.  Aceng memastikan tidak ada korban jiwa dan korban luka dalam musibah kebakaran itu. Sementara itu, total kerugian ditaksir mencapai puluhan juta rupiah.  \"Tempat tinggal semipermanen rusak berat dengan total kerugian ditaksir Rp 50 juta,\" pungkas Aceng.\" → [\"\\-\"/PUNCT, \"Satu\"/NUM, \"unit\"/NOUN, \"tempat\"/NOUN, \"tinggal\"/NOUN, \"semipermanen\"/ADJ, \"yang\"/PRON, \"dijadikan\"/VERB, \"sebagai\"/ADP, \"lapak\"/NOUN, \"pedagang\"/NOUN, \"barang\"/NOUN, \"bekas\"/NOUN, \"di\"/ADP, \"Jalan\"/PROPN, \"Swastantra\"/PROPN, \",\"/PUNCT, \"Kelurahan\"/PROPN, \"Jatirasa\"/PROPN, \",\"/PUNCT, \"Jatiasih\"/PROPN, \",\"/PUNCT, \"Kota\"/PROPN, \"Bekasi\"/PROPN, \",\"/PUNCT, \"habis\"/ADV, \"dilalap\"/VERB, \"api\"/NOUN, \"pada\"/ADP, \"Kamis\"/PROPN, \"(\"/PUNCT, \"15\"/NUM, \"/\"/PUNCT, \"12\"/NUM, \"/\"/PUNCT, \"2022\"/NUM, \")\"/PUNCT, \"pukul\"/NOUN, \"15.40\"/NUM, \"WIB\"/PROPN, \".\"/PUNCT, \"Kepala\"/PROPN, \"Dinas\"/PROPN, \"Pemadam\"/PROPN, \"Kebakaran\"/PROPN, \"Kota\"/PROPN, \"Bekasi\"/PROPN, \"Aceng\"/PROPN, \"Solahuddin\"/PROPN, \"mengatakan\"/VERB, \",\"/PUNCT, \"api\"/NOUN, \"diduga\"/VERB, \"berasal\"/VERB, \"dari\"/ADP, \"korsleting\"/NOUN, \"kipas\"/NOUN, \"angin\"/NOUN, \".\"/PUNCT, \"\"\"/PUNCT, \"Menurut\"/ADP, \"keterangan\"/NOUN, \"warga\"/NOUN, \"di\"/ADP, \"sekitar\"/ADP, \"lingkungan\"/NOUN, \",\"/PUNCT, \"diduga\"/VERB, \"api\"/NOUN, \"berasal\"/VERB, \"dari\"/ADP, \"percikan\"/NOUN, \"api\"/NOUN, \"aliran\"/NOUN, \"listrik\"/NOUN, \"kipas\"/NOUN, \"angin\"/NOUN, \",\"\"/PUNCT, \"kata\"/NOUN, \"Aceng\"/PROPN, \"dalam\"/ADP, \"keterangannya\"/NOUN, \",\"/PUNCT, \"Kamis\"/PROPN, \".\"/PUNCT, \"Percikan\"/NOUN, \"api\"/NOUN, \"kemudian\"/ADV, \"menyambar\"/VERB, \"barang\"/NOUN, \"yang\"/PRON, \"mudah\"/ADJ, \"terbakar\"/VERB, \"sehingga\"/SCONJ, \"api\"/NOUN, \"membesar\"/VERB, \".\"/PUNCT, \"Aceng\"/PROPN, \"menyebutkan\"/VERB, \",\"/PUNCT, \"petugas\"/NOUN, \"pemadam\"/NOUN, \"yang\"/PRON, \"mendapat\"/VERB, \"laporan\"/NOUN, \"kebakaran\"/NOUN, \"langsung\"/ADV, \"berangkat\"/VERB, \"ke\"/ADP, \"lokasi\"/NOUN, \"dan\"/CCONJ, \"tiba\"/VERB, \"di\"/ADP, \"tempat\"/NOUN, \"kejadian\"/NOUN, \"pukul\"/NOUN, \"15.45\"/NUM, \"WIB\"/PROPN, \".\"/PUNCT, \"\"\"/PUNCT, \"Petugas\"/PROPN, \"turut\"/ADV, \"menerjunkan\"/VERB, \"total\"/NOUN, \"tujuh\"/NUM, \"unit\"/NOUN, \"mobil\"/NOUN, \"pemadam\"/NOUN, \"guna\"/NOUN, \"proses\"/NOUN, \"pemadam\"/NOUN, \"api\"/NOUN, \",\"\"/PUNCT, \"ujar\"/NOUN, \"Aceng\"/PROPN, \".\"/PUNCT, \"Setelah\"/SCONJ, \"berjibaku\"/VERB, \"selama\"/ADP, \"kurang\"/ADV, \"lebih\"/ADV, \"satu\"/NUM, \"jam\"/NOUN, \",\"/PUNCT, \"petugas\"/NOUN, \"berhasil\"/VERB, \"menjinakkan\"/VERB, \"api\"/NOUN, \",\"/PUNCT, \"tepatnya\"/ADV, \"pada\"/ADP, \"pukul\"/NOUN, \"16.20\"/NUM, \"WIB\"/PROPN, \".\"/PUNCT, \"Aceng\"/PROPN, \"memastikan\"/VERB, \"tidak\"/PART, \"ada\"/VERB, \"korban\"/NOUN, \"jiwa\"/NOUN, \"dan\"/CCONJ, \"korban\"/NOUN, \"luka\"/NOUN, \"dalam\"/ADP, \"musibah\"/NOUN, \"kebakaran\"/NOUN, \"itu\"/DET, \".\"/PUNCT, \"Sementara\"/SCONJ, \"itu\"/DET, \",\"/PUNCT, \"total\"/NOUN, \"kerugian\"/NOUN, \"ditaksir\"/VERB, \"mencapai\"/VERB, \"puluhan\"/NUM, \"juta\"/NUM, \"rupiah\"/NOUN, \".\"/PUNCT, \"\"\"/PUNCT, \"Tempat\"/NOUN, \"tinggal\"/NOUN, \"semipermanen\"/ADJ, \"rusak\"/ADJ, \"berat\"/ADJ, \"dengan\"/ADP, \"total\"/NOUN, \"kerugian\"/NOUN, \"ditaksir\"/VERB, \"Rp\"/PROPN, \"50\"/NUM, \"juta\"/NOUN, \",\"\"/PUNCT, \"pungkas\"/NOUN, \"Aceng\"/PROPN, \".\"/PUNCT]\n",
      "15/12/2022\n",
      "\\- Sebanyak tiga unit mobil pemadam kebakaran (damkar) dan 19 personel dikerahkan dalam kebakaran di PT Thiatsu, kawasan Turbin, Kecamatan Curug, Kabupaten Tangerang, Banten.  Kabid Kedaruratan dan logistik BPBD Kabupaten Tangerang Abdul Munir mengatakan, peristiwa itu terjadi pada Minggu (18/12/2022) pukul 18.32 WIB.  \"Kami dapat laporan kebakaran perusahaan di kawasan Turbin Curug pada pukul 18.30 WIB. Laporan yang masuk, kebakaran api sudah besar, kami langsung ke lokasi kebakaran, \" kata Munir dalam keterangannya, Senin (19/12/2022).  \"Petugas yang kami turunkan yaitu dari Mako Curug 9 personel, Pos Tigaraksa 5 personel, Pos Kelapa Dua 5 personel, dan jumlah seluruhnya 19 personel dan 3 unit mobil damkar,\" lanjut dia.  Setibanya di lokasi, tim damkar kemudian bergegas memadamkan api. Api diduga berasal dari gangguan listrik. Pasalnya, tidak ada aktivitas di dalam pabrik saat insiden itu terjadi.  Munir menyebutkan, seluruh karyawan pabrik sudah kembali ke rumah masing- masing mengingat jam operasional perusahaan sudah berakhir pada hari tersebut.  Selang beberapa jam kemudian, api berhasil dipadamkan. Munir memastikan, tidak ada korban jiwa dalam kebakaran.  Kendati demikian, belum diketahui berapa kerugian yang dialami pihak perusahaan.   \n",
      "Sentence[225]: \"\\- Sebanyak tiga unit mobil pemadam kebakaran (damkar) dan 19 personel dikerahkan dalam kebakaran di PT Thiatsu, kawasan Turbin, Kecamatan Curug, Kabupaten Tangerang, Banten.  Kabid Kedaruratan dan logistik BPBD Kabupaten Tangerang Abdul Munir mengatakan, peristiwa itu terjadi pada Minggu (18/12/2022) pukul 18.32 WIB.  \"Kami dapat laporan kebakaran perusahaan di kawasan Turbin Curug pada pukul 18.30 WIB. Laporan yang masuk, kebakaran api sudah besar, kami langsung ke lokasi kebakaran, \" kata Munir dalam keterangannya, Senin (19/12/2022).  \"Petugas yang kami turunkan yaitu dari Mako Curug 9 personel, Pos Tigaraksa 5 personel, Pos Kelapa Dua 5 personel, dan jumlah seluruhnya 19 personel dan 3 unit mobil damkar,\" lanjut dia.  Setibanya di lokasi, tim damkar kemudian bergegas memadamkan api. Api diduga berasal dari gangguan listrik. Pasalnya, tidak ada aktivitas di dalam pabrik saat insiden itu terjadi.  Munir menyebutkan, seluruh karyawan pabrik sudah kembali ke rumah masing- masing mengingat jam operasional perusahaan sudah berakhir pada hari tersebut.  Selang beberapa jam kemudian, api berhasil dipadamkan. Munir memastikan, tidak ada korban jiwa dalam kebakaran.  Kendati demikian, belum diketahui berapa kerugian yang dialami pihak perusahaan.\" → [\"\\-\"/PUNCT, \"Sebanyak\"/ADV, \"tiga\"/NUM, \"unit\"/NOUN, \"mobil\"/NOUN, \"pemadam\"/NOUN, \"kebakaran\"/NOUN, \"(\"/PUNCT, \"damkar\"/NOUN, \")\"/PUNCT, \"dan\"/CCONJ, \"19\"/NUM, \"personel\"/NOUN, \"dikerahkan\"/VERB, \"dalam\"/ADP, \"kebakaran\"/NOUN, \"di\"/ADP, \"PT\"/PROPN, \"Thiatsu\"/PROPN, \",\"/PUNCT, \"kawasan\"/NOUN, \"Turbin\"/PROPN, \",\"/PUNCT, \"Kecamatan\"/PROPN, \"Curug\"/PROPN, \",\"/PUNCT, \"Kabupaten\"/PROPN, \"Tangerang\"/PROPN, \",\"/PUNCT, \"Banten\"/PROPN, \".\"/PUNCT, \"Kabid\"/PROPN, \"Kedaruratan\"/PROPN, \"dan\"/CCONJ, \"logistik\"/NOUN, \"BPBD\"/PROPN, \"Kabupaten\"/PROPN, \"Tangerang\"/PROPN, \"Abdul\"/PROPN, \"Munir\"/PROPN, \"mengatakan\"/VERB, \",\"/PUNCT, \"peristiwa\"/NOUN, \"itu\"/DET, \"terjadi\"/VERB, \"pada\"/ADP, \"Minggu\"/PROPN, \"(\"/PUNCT, \"18\"/NUM, \"/\"/PUNCT, \"12\"/NUM, \"/\"/PUNCT, \"2022\"/NUM, \")\"/PUNCT, \"pukul\"/NOUN, \"18.32\"/NUM, \"WIB\"/PROPN, \".\"/PUNCT, \"\"\"/PUNCT, \"Kami\"/PRON, \"dapat\"/AUX, \"laporan\"/NOUN, \"kebakaran\"/NOUN, \"perusahaan\"/NOUN, \"di\"/ADP, \"kawasan\"/NOUN, \"Turbin\"/PROPN, \"Curug\"/PROPN, \"pada\"/ADP, \"pukul\"/NOUN, \"18.30\"/NUM, \"WIB\"/PROPN, \".\"/PUNCT, \"Laporan\"/NOUN, \"yang\"/PRON, \"masuk\"/VERB, \",\"/PUNCT, \"kebakaran\"/NOUN, \"api\"/NOUN, \"sudah\"/AUX, \"besar\"/ADJ, \",\"/PUNCT, \"kami\"/PRON, \"langsung\"/VERB, \"ke\"/ADP, \"lokasi\"/NOUN, \"kebakaran\"/NOUN, \",\"/PUNCT, \"\"\"/PUNCT, \"kata\"/NOUN, \"Munir\"/PROPN, \"dalam\"/ADP, \"keterangannya\"/NOUN, \",\"/PUNCT, \"Senin\"/PROPN, \"(\"/PUNCT, \"19\"/NUM, \"/\"/PUNCT, \"12\"/NUM, \"/\"/PUNCT, \"2022\"/NUM, \")\"/PUNCT, \".\"/PUNCT, \"\"\"/PUNCT, \"Petugas\"/NOUN, \"yang\"/PRON, \"kami\"/PRON, \"turunkan\"/VERB, \"yaitu\"/SCONJ, \"dari\"/ADP, \"Mako\"/PROPN, \"Curug\"/PROPN, \"9\"/NUM, \"personel\"/NOUN, \",\"/PUNCT, \"Pos\"/PROPN, \"Tigaraksa\"/PROPN, \"5\"/NUM, \"personel\"/NOUN, \",\"/PUNCT, \"Pos\"/PROPN, \"Kelapa\"/PROPN, \"Dua\"/NUM, \"5\"/NUM, \"personel\"/NOUN, \",\"/PUNCT, \"dan\"/CCONJ, \"jumlah\"/NOUN, \"seluruhnya\"/DET, \"19\"/NUM, \"personel\"/NOUN, \"dan\"/CCONJ, \"3\"/NUM, \"unit\"/NOUN, \"mobil\"/NOUN, \"damkar\"/NOUN, \",\"\"/PUNCT, \"lanjut\"/VERB, \"dia\"/PRON, \".\"/PUNCT, \"Setibanya\"/ADV, \"di\"/ADP, \"lokasi\"/NOUN, \",\"/PUNCT, \"tim\"/NOUN, \"damkar\"/NOUN, \"kemudian\"/ADV, \"bergegas\"/VERB, \"memadamkan\"/VERB, \"api\"/NOUN, \".\"/PUNCT, \"Api\"/PROPN, \"diduga\"/ADV, \"berasal\"/VERB, \"dari\"/ADP, \"gangguan\"/NOUN, \"listrik\"/NOUN, \".\"/PUNCT, \"Pasalnya\"/ADV, \",\"/PUNCT, \"tidak\"/PART, \"ada\"/VERB, \"aktivitas\"/NOUN, \"di\"/ADP, \"dalam\"/ADP, \"pabrik\"/NOUN, \"saat\"/ADP, \"insiden\"/NOUN, \"itu\"/DET, \"terjadi\"/VERB, \".\"/PUNCT, \"Munir\"/PROPN, \"menyebutkan\"/VERB, \",\"/PUNCT, \"seluruh\"/DET, \"karyawan\"/NOUN, \"pabrik\"/NOUN, \"sudah\"/AUX, \"kembali\"/VERB, \"ke\"/ADP, \"rumah\"/NOUN, \"masing\"/DET, \"-\"/PUNCT, \"masing\"/DET, \"mengingat\"/VERB, \"jam\"/NOUN, \"operasional\"/ADJ, \"perusahaan\"/NOUN, \"sudah\"/AUX, \"berakhir\"/VERB, \"pada\"/ADP, \"hari\"/NOUN, \"tersebut\"/DET, \".\"/PUNCT, \"Selang\"/ADP, \"beberapa\"/DET, \"jam\"/NOUN, \"kemudian\"/ADV, \",\"/PUNCT, \"api\"/NOUN, \"berhasil\"/VERB, \"dipadamkan\"/VERB, \".\"/PUNCT, \"Munir\"/PROPN, \"memastikan\"/VERB, \",\"/PUNCT, \"tidak\"/PART, \"ada\"/VERB, \"korban\"/NOUN, \"jiwa\"/NOUN, \"dalam\"/ADP, \"kebakaran\"/NOUN, \".\"/PUNCT, \"Kendati\"/ADV, \"demikian\"/PRON, \",\"/PUNCT, \"belum\"/PART, \"diketahui\"/VERB, \"berapa\"/ADV, \"kerugian\"/NOUN, \"yang\"/PRON, \"dialami\"/VERB, \"pihak\"/NOUN, \"perusahaan\"/NOUN, \".\"/PUNCT]\n",
      "18/12/2022\n",
      "\\- Kebakaran melanda sebuah rumah toko (ruko) berlantai empat di Jalan Gunung Sahari Raya Nomor 2B, Sawah Besar, Jakarta Pusat, Senin (19/12/2022) dini hari.  Kepala Suku Dinas Penanggulangan Kebakaran dan Penyelamatan (Sudin Gulkarmat) Jakarta Pusat Asril Rizal mengatakan, jajarannya menerima laporan kebakaran sekitar pukul 03.10 WIB.  \"Sumber informasi Pos Pasar Baru, obyek terbakar ruko empat lantai,\" kata Asril dalam keterangannya, Senin.  Dalam upaya pemadaman api, Sudin Gulkarmat Jakarta Pusat mengerahkan 13 unit mobil damkar beserta 65 personel.  Asril mengungkapkan, jajarannya menemui kendala dalam memadamkan api, yakni ruko dalam keadaan terkunci dan arus listrik masih menyala.  \"Ruko terkunci dan harus dibongkar paksa terlebih dahulu serta listrik masih menyala,\" ungkap dia.  Beruntung tidak ada korban jiwa dan luka akibat kebakaran ini karena ruko dalam keadaan kosong.  Akibat api melalap bangunan seluas 600 meter persegi, pemilik toko ditaksir mengalami kerugian sebesar Rp 500 juta.  \"Taksiran kerugian Rp 500 juta,\" ujar Asril.  Menurut Asril, penyebab kebakaran hingga saat ini masih belum diketahui dan masih diselidiki Sudin Gulkarmat Jakarta Pusat dan kepolisian setempat.  \"Dugaan penyebab sementara belum diketahui karena ruko kosong dan saat terima laporan, api sudah membesar,\" ucap Asril.  Sementara itu, operasi pemadaman dinyatakan selesai sekitar pukul 04.20 WIB.   \n",
      "Sentence[238]: \"\\- Kebakaran melanda sebuah rumah toko (ruko) berlantai empat di Jalan Gunung Sahari Raya Nomor 2B, Sawah Besar, Jakarta Pusat, Senin (19/12/2022) dini hari.  Kepala Suku Dinas Penanggulangan Kebakaran dan Penyelamatan (Sudin Gulkarmat) Jakarta Pusat Asril Rizal mengatakan, jajarannya menerima laporan kebakaran sekitar pukul 03.10 WIB.  \"Sumber informasi Pos Pasar Baru, obyek terbakar ruko empat lantai,\" kata Asril dalam keterangannya, Senin.  Dalam upaya pemadaman api, Sudin Gulkarmat Jakarta Pusat mengerahkan 13 unit mobil damkar beserta 65 personel.  Asril mengungkapkan, jajarannya menemui kendala dalam memadamkan api, yakni ruko dalam keadaan terkunci dan arus listrik masih menyala.  \"Ruko terkunci dan harus dibongkar paksa terlebih dahulu serta listrik masih menyala,\" ungkap dia.  Beruntung tidak ada korban jiwa dan luka akibat kebakaran ini karena ruko dalam keadaan kosong.  Akibat api melalap bangunan seluas 600 meter persegi, pemilik toko ditaksir mengalami kerugian sebesar Rp 500 juta.  \"Taksiran kerugian Rp 500 juta,\" ujar Asril.  Menurut Asril, penyebab kebakaran hingga saat ini masih belum diketahui dan masih diselidiki Sudin Gulkarmat Jakarta Pusat dan kepolisian setempat.  \"Dugaan penyebab sementara belum diketahui karena ruko kosong dan saat terima laporan, api sudah membesar,\" ucap Asril.  Sementara itu, operasi pemadaman dinyatakan selesai sekitar pukul 04.20 WIB.\" → [\"\\-\"/PUNCT, \"Kebakaran\"/NOUN, \"melanda\"/VERB, \"sebuah\"/DET, \"rumah\"/NOUN, \"toko\"/NOUN, \"(\"/PUNCT, \"ruko\"/NOUN, \")\"/PUNCT, \"berlantai\"/VERB, \"empat\"/NUM, \"di\"/ADP, \"Jalan\"/PROPN, \"Gunung\"/PROPN, \"Sahari\"/PROPN, \"Raya\"/PROPN, \"Nomor\"/PROPN, \"2B\"/PROPN, \",\"/PUNCT, \"Sawah\"/PROPN, \"Besar\"/PROPN, \",\"/PUNCT, \"Jakarta\"/PROPN, \"Pusat\"/PROPN, \",\"/PUNCT, \"Senin\"/PROPN, \"(\"/PUNCT, \"19\"/NUM, \"/\"/PUNCT, \"12\"/NUM, \"/\"/PUNCT, \"2022\"/NUM, \")\"/PUNCT, \"dini\"/NOUN, \"hari\"/NOUN, \".\"/PUNCT, \"Kepala\"/NOUN, \"Suku\"/PROPN, \"Dinas\"/PROPN, \"Penanggulangan\"/PROPN, \"Kebakaran\"/PROPN, \"dan\"/CCONJ, \"Penyelamatan\"/PROPN, \"(\"/PUNCT, \"Sudin\"/PROPN, \"Gulkarmat\"/PROPN, \")\"/PUNCT, \"Jakarta\"/PROPN, \"Pusat\"/PROPN, \"Asril\"/PROPN, \"Rizal\"/PROPN, \"mengatakan\"/VERB, \",\"/PUNCT, \"jajarannya\"/NOUN, \"menerima\"/VERB, \"laporan\"/NOUN, \"kebakaran\"/NOUN, \"sekitar\"/ADP, \"pukul\"/NOUN, \"03.10\"/NUM, \"WIB\"/PROPN, \".\"/PUNCT, \"\"\"/PUNCT, \"Sumber\"/NOUN, \"informasi\"/NOUN, \"Pos\"/PROPN, \"Pasar\"/PROPN, \"Baru\"/PROPN, \",\"/PUNCT, \"obyek\"/NOUN, \"terbakar\"/VERB, \"ruko\"/NOUN, \"empat\"/NUM, \"lantai\"/NOUN, \",\"\"/PUNCT, \"kata\"/NOUN, \"Asril\"/PROPN, \"dalam\"/ADP, \"keterangannya\"/NOUN, \",\"/PUNCT, \"Senin\"/PROPN, \".\"/PUNCT, \"Dalam\"/ADP, \"upaya\"/NOUN, \"pemadaman\"/NOUN, \"api\"/NOUN, \",\"/PUNCT, \"Sudin\"/PROPN, \"Gulkarmat\"/PROPN, \"Jakarta\"/PROPN, \"Pusat\"/PROPN, \"mengerahkan\"/VERB, \"13\"/NUM, \"unit\"/NOUN, \"mobil\"/NOUN, \"damkar\"/NOUN, \"beserta\"/ADP, \"65\"/NUM, \"personel\"/NOUN, \".\"/PUNCT, \"Asril\"/PROPN, \"mengungkapkan\"/VERB, \",\"/PUNCT, \"jajarannya\"/NOUN, \"menemui\"/VERB, \"kendala\"/NOUN, \"dalam\"/ADP, \"memadamkan\"/VERB, \"api\"/NOUN, \",\"/PUNCT, \"yakni\"/ADV, \"ruko\"/NOUN, \"dalam\"/ADP, \"keadaan\"/NOUN, \"terkunci\"/VERB, \"dan\"/CCONJ, \"arus\"/NOUN, \"listrik\"/NOUN, \"masih\"/ADV, \"menyala\"/VERB, \".\"/PUNCT, \"\"\"/PUNCT, \"Ruko\"/PROPN, \"terkunci\"/VERB, \"dan\"/CCONJ, \"harus\"/AUX, \"dibongkar\"/VERB, \"paksa\"/ADJ, \"terlebih\"/ADV, \"dahulu\"/ADV, \"serta\"/CCONJ, \"listrik\"/NOUN, \"masih\"/ADV, \"menyala\"/VERB, \",\"\"/PUNCT, \"ungkap\"/VERB, \"dia\"/PRON, \".\"/PUNCT, \"Beruntung\"/ADV, \"tidak\"/PART, \"ada\"/VERB, \"korban\"/NOUN, \"jiwa\"/NOUN, \"dan\"/CCONJ, \"luka\"/NOUN, \"akibat\"/NOUN, \"kebakaran\"/NOUN, \"ini\"/DET, \"karena\"/ADP, \"ruko\"/NOUN, \"dalam\"/ADP, \"keadaan\"/NOUN, \"kosong\"/ADJ, \".\"/PUNCT, \"Akibat\"/NOUN, \"api\"/NOUN, \"melalap\"/VERB, \"bangunan\"/NOUN, \"seluas\"/ADP, \"600\"/NUM, \"meter\"/NOUN, \"persegi\"/NOUN, \",\"/PUNCT, \"pemilik\"/NOUN, \"toko\"/NOUN, \"ditaksir\"/VERB, \"mengalami\"/VERB, \"kerugian\"/NOUN, \"sebesar\"/ADP, \"Rp\"/PROPN, \"500\"/NUM, \"juta\"/NOUN, \".\"/PUNCT, \"\"\"/PUNCT, \"Taksiran\"/NOUN, \"kerugian\"/NOUN, \"Rp\"/PROPN, \"500\"/NUM, \"juta\"/NOUN, \",\"\"/PUNCT, \"ujar\"/NOUN, \"Asril\"/PROPN, \".\"/PUNCT, \"Menurut\"/ADP, \"Asril\"/PROPN, \",\"/PUNCT, \"penyebab\"/NOUN, \"kebakaran\"/NOUN, \"hingga\"/ADP, \"saat\"/NOUN, \"ini\"/DET, \"masih\"/ADV, \"belum\"/PART, \"diketahui\"/VERB, \"dan\"/CCONJ, \"masih\"/ADV, \"diselidiki\"/VERB, \"Sudin\"/PROPN, \"Gulkarmat\"/PROPN, \"Jakarta\"/PROPN, \"Pusat\"/PROPN, \"dan\"/CCONJ, \"kepolisian\"/NOUN, \"setempat\"/ADJ, \".\"/PUNCT, \"\"\"/PUNCT, \"Dugaan\"/NOUN, \"penyebab\"/NOUN, \"sementara\"/ADJ, \"belum\"/PART, \"diketahui\"/VERB, \"karena\"/SCONJ, \"ruko\"/NOUN, \"kosong\"/ADJ, \"dan\"/CCONJ, \"saat\"/SCONJ, \"terima\"/VERB, \"laporan\"/NOUN, \",\"/PUNCT, \"api\"/NOUN, \"sudah\"/AUX, \"membesar\"/VERB, \",\"\"/PUNCT, \"ucap\"/VERB, \"Asril\"/PROPN, \".\"/PUNCT, \"Sementara\"/SCONJ, \"itu\"/DET, \",\"/PUNCT, \"operasi\"/NOUN, \"pemadaman\"/NOUN, \"dinyatakan\"/VERB, \"selesai\"/VERB, \"sekitar\"/ADP, \"pukul\"/NOUN, \"04.20\"/NUM, \"WIB\"/PROPN, \".\"/PUNCT]\n",
      "19/12/2022\n",
      " \\- Berdasarkan data yang dirilis Badan Meteorologi Klimatologi dan Geofisika (BMKG), cuaca Jabodetabek hari ini masih diliputi hujan disertai petir atau kilat dan angin kencang di sebagian besar wilayah.  BMKG menyampaikan peringatan dini untuk wilayah Jakarta tentang adanya potensi hujan yang disertai kilat atau petir dan angin kencang di wilayah Jakarta Selatan, Jakarta Barat dan Jakarta Timur pada sore dan malam hari nanti.  Potensi hujan disertai kilat atau petir dan angin kencang pada siang dan malam hari juga terjadi di Bogor, Bekasi dan Tangerang.  ### Prakiraan cuaca Jabodetabek hari ini pada siang hingga dini hari nanti:    Jakarta Barat: Hujan ringan Hujan ringan Berawan  Jakarta Pusat: Hujan ringan Hujan ringan Hujan ringan  Jakarta Selatan: Hujan petir Hujan ringan Berawan  Jakarta Timur: Hujan sedang Hujan ringan Berawan  Jakarta Utara: Berawan Hujan ringan Hujan ringan  Kepulauan Seribu: Cerah berawan Berawan Hujan ringan  Bekasi: Hujan sedang Hujan Sedang Berawan  Bogor: Hujan sedang Hujan ringan Berawan  Tangerang: Hujan ringan Berawan Berawan  Serpong: Hujan sedang Berawan Berawan  Depok: Hujan sedang Hujan ringan Berawan   \n",
      "Sentence[187]: \" \\- Berdasarkan data yang dirilis Badan Meteorologi Klimatologi dan Geofisika (BMKG), cuaca Jabodetabek hari ini masih diliputi hujan disertai petir atau kilat dan angin kencang di sebagian besar wilayah.  BMKG menyampaikan peringatan dini untuk wilayah Jakarta tentang adanya potensi hujan yang disertai kilat atau petir dan angin kencang di wilayah Jakarta Selatan, Jakarta Barat dan Jakarta Timur pada sore dan malam hari nanti.  Potensi hujan disertai kilat atau petir dan angin kencang pada siang dan malam hari juga terjadi di Bogor, Bekasi dan Tangerang.  ### Prakiraan cuaca Jabodetabek hari ini pada siang hingga dini hari nanti:    Jakarta Barat: Hujan ringan Hujan ringan Berawan  Jakarta Pusat: Hujan ringan Hujan ringan Hujan ringan  Jakarta Selatan: Hujan petir Hujan ringan Berawan  Jakarta Timur: Hujan sedang Hujan ringan Berawan  Jakarta Utara: Berawan Hujan ringan Hujan ringan  Kepulauan Seribu: Cerah berawan Berawan Hujan ringan  Bekasi: Hujan sedang Hujan Sedang Berawan  Bogor: Hujan sedang Hujan ringan Berawan  Tangerang: Hujan ringan Berawan Berawan  Serpong: Hujan sedang Berawan Berawan  Depok: Hujan sedang Hujan ringan Berawan\" → [\"\\-\"/PUNCT, \"Berdasarkan\"/VERB, \"data\"/NOUN, \"yang\"/PRON, \"dirilis\"/VERB, \"Badan\"/PROPN, \"Meteorologi\"/PROPN, \"Klimatologi\"/PROPN, \"dan\"/CCONJ, \"Geofisika\"/PROPN, \"(\"/PUNCT, \"BMKG\"/PROPN, \")\"/PUNCT, \",\"/PUNCT, \"cuaca\"/NOUN, \"Jabodetabek\"/PROPN, \"hari\"/NOUN, \"ini\"/DET, \"masih\"/ADV, \"diliputi\"/VERB, \"hujan\"/NOUN, \"disertai\"/VERB, \"petir\"/NOUN, \"atau\"/CCONJ, \"kilat\"/NOUN, \"dan\"/CCONJ, \"angin\"/NOUN, \"kencang\"/ADJ, \"di\"/ADP, \"sebagian\"/DET, \"besar\"/ADJ, \"wilayah\"/NOUN, \".\"/PUNCT, \"BMKG\"/PROPN, \"menyampaikan\"/VERB, \"peringatan\"/NOUN, \"dini\"/ADJ, \"untuk\"/ADP, \"wilayah\"/NOUN, \"Jakarta\"/PROPN, \"tentang\"/ADP, \"adanya\"/VERB, \"potensi\"/NOUN, \"hujan\"/NOUN, \"yang\"/PRON, \"disertai\"/VERB, \"kilat\"/NOUN, \"atau\"/CCONJ, \"petir\"/NOUN, \"dan\"/CCONJ, \"angin\"/NOUN, \"kencang\"/ADJ, \"di\"/ADP, \"wilayah\"/NOUN, \"Jakarta\"/PROPN, \"Selatan\"/PROPN, \",\"/PUNCT, \"Jakarta\"/PROPN, \"Barat\"/PROPN, \"dan\"/CCONJ, \"Jakarta\"/PROPN, \"Timur\"/PROPN, \"pada\"/ADP, \"sore\"/NOUN, \"dan\"/CCONJ, \"malam\"/NOUN, \"hari\"/NOUN, \"nanti\"/ADV, \".\"/PUNCT, \"Potensi\"/NOUN, \"hujan\"/NOUN, \"disertai\"/VERB, \"kilat\"/NOUN, \"atau\"/CCONJ, \"petir\"/NOUN, \"dan\"/CCONJ, \"angin\"/NOUN, \"kencang\"/ADJ, \"pada\"/ADP, \"siang\"/NOUN, \"dan\"/CCONJ, \"malam\"/NOUN, \"hari\"/NOUN, \"juga\"/ADV, \"terjadi\"/VERB, \"di\"/ADP, \"Bogor\"/PROPN, \",\"/PUNCT, \"Bekasi\"/PROPN, \"dan\"/CCONJ, \"Tangerang\"/PROPN, \".\"/PUNCT, \"###\"/NUM, \"Prakiraan\"/NOUN, \"cuaca\"/NOUN, \"Jabodetabek\"/PROPN, \"hari\"/NOUN, \"ini\"/DET, \"pada\"/ADP, \"siang\"/NOUN, \"hingga\"/ADP, \"dini\"/NOUN, \"hari\"/NOUN, \"nanti\"/NOUN, \":\"/PUNCT, \"Jakarta\"/PROPN, \"Barat\"/PROPN, \":\"/PUNCT, \"Hujan\"/NOUN, \"ringan\"/NOUN, \"Hujan\"/NOUN, \"ringan\"/ADJ, \"Berawan\"/PROPN, \"Jakarta\"/PROPN, \"Pusat\"/PROPN, \":\"/PUNCT, \"Hujan\"/NOUN, \"ringan\"/NOUN, \"Hujan\"/NOUN, \"ringan\"/ADJ, \"Hujan\"/NOUN, \"ringan\"/ADJ, \"Jakarta\"/PROPN, \"Selatan\"/PROPN, \":\"/PUNCT, \"Hujan\"/NOUN, \"petir\"/NOUN, \"Hujan\"/NOUN, \"ringan\"/ADJ, \"Berawan\"/PROPN, \"Jakarta\"/PROPN, \"Timur\"/PROPN, \":\"/PUNCT, \"Hujan\"/PROPN, \"sedang\"/AUX, \"Hujan\"/NOUN, \"ringan\"/ADJ, \"Berawan\"/PROPN, \"Jakarta\"/PROPN, \"Utara\"/PROPN, \":\"/PUNCT, \"Berawan\"/PROPN, \"Hujan\"/PROPN, \"ringan\"/NOUN, \"Hujan\"/NOUN, \"ringan\"/ADJ, \"Kepulauan\"/PROPN, \"Seribu\"/PROPN, \":\"/PUNCT, \"Cerah\"/PROPN, \"berawan\"/VERB, \"Berawan\"/PROPN, \"Hujan\"/PROPN, \"ringan\"/ADJ, \"Bekasi\"/PROPN, \":\"/PUNCT, \"Hujan\"/PROPN, \"sedang\"/AUX, \"Hujan\"/PROPN, \"Sedang\"/PROPN, \"Berawan\"/PROPN, \"Bogor\"/PROPN, \":\"/PUNCT, \"Hujan\"/PROPN, \"sedang\"/AUX, \"Hujan\"/NOUN, \"ringan\"/ADJ, \"Berawan\"/PROPN, \"Tangerang\"/PROPN, \":\"/PUNCT, \"Hujan\"/NOUN, \"ringan\"/ADJ, \"Berawan\"/PROPN, \"Berawan\"/PROPN, \"Serpong\"/PROPN, \":\"/PUNCT, \"Hujan\"/PROPN, \"sedang\"/AUX, \"Berawan\"/PROPN, \"Berawan\"/PROPN, \"Depok\"/PROPN, \":\"/PUNCT, \"Hujan\"/PROPN, \"sedang\"/AUX, \"Hujan\"/PROPN, \"ringan\"/ADJ, \"Berawan\"/VERB]\n",
      "-----\n",
      " \\- Badan Meteorologi, Klimatologi dan Geofisika atau BMKG memprakirakan, wilayah Jakarta Selatan dan Timur akan diguyur pada sore ini.  Dalam rilisnya Kamis, 22 Desember 2022, BMKG menyebutkan, pada siang hari hujan intensitas ringan berpotensi turun di wilayah Jakarta Timur dan Selatan. Sedangkan wilayah Jakarta lainnya cuaca berawan.  Pada sore hari, BMKG memperkirakan wilayah Jakarta Barat, Selatan dan Jakarta Timur berpotensi terjadi hujan disertai petir dan angin kencang. Warga diimbau waspada terhadap perubahan cuaca yang terjadi. \"Waspada potensi hujan yang dapat disertai petir dan angin kencang di sebagian wilayah Jakarta Barat, Selatan dan Jakarta Timur pada sore hari,\" tulis BMKG pada peringatan dininya, seperti dikutip dari jakarta.go.id.  Pada malam hari, cuaca di seluruh wilayah Jakarta akan berawan. Kecuali di Kepulauan Seribu yang akan terjadi hujan ringan. Saat dini hari nanti, cuaca di seluruh wilayah Jakarta akan cerah berawan. Kecuali di Kepulauan Seribu terjadi hujan ringan.  Untuk suhu udara y pada hari ini berkisar antara 24 hingga 29 derajat celcius dengan kelembapan udara sekitar 75 hingga 95 persen.  Badan Meteorologi, Klimatologi dan Geofisika (BMKG) memprakirakan cuaca di sebagian besar wilayah di Indonesia berpotensi berawan pada Kamis hari ini.  Berdasarkan informasi prakiraan cuaca yang disampaikan BMKG melalui laman www.bmkg.go.id di Jakarta, Kamis, disebutkan cuaca berawan diprakirakan akan dialami oleh sejumlah daerah, yakni D.I. Yogyakarta, Jakarta, Jambi, Semarang, Pontianak, Palangka Raya, Pangkal Pinang, dan Tanjung Pinang.  Cuaca berawan juga diprakirakan akan menaungi daerah Lampung, Palembang, Banjarmasin, Mataram, Mamuju, Makassar, Manado, serta Sofifi (Maluku Utara).  Sementara cuaca di Banda Aceh dan Denpasar diprediksi akan turun hujan dengan intensitas ringan. Cuaca cerah berawan diprakirakan akan terjadi di daerah Serang, Bengkulu, Bandung, Surabaya, Padang, Medan, Gorontalo, Samarinda, Tanjung Selor, Palu, Ambon, Jayapura, dan Manokwari.  Sementara cuaca di wilayah Pekanbaru berpotensi berkabut. Kemudian cuaca di Kupang berpotensi hujan dengan intensitas sedang. Cuaca di daerah Kendari diprakirakan pada Kamis ini.   \n",
      "Sentence[368]: \" \\- Badan Meteorologi, Klimatologi dan Geofisika atau BMKG memprakirakan, wilayah Jakarta Selatan dan Timur akan diguyur pada sore ini.  Dalam rilisnya Kamis, 22 Desember 2022, BMKG menyebutkan, pada siang hari hujan intensitas ringan berpotensi turun di wilayah Jakarta Timur dan Selatan. Sedangkan wilayah Jakarta lainnya cuaca berawan.  Pada sore hari, BMKG memperkirakan wilayah Jakarta Barat, Selatan dan Jakarta Timur berpotensi terjadi hujan disertai petir dan angin kencang. Warga diimbau waspada terhadap perubahan cuaca yang terjadi. \"Waspada potensi hujan yang dapat disertai petir dan angin kencang di sebagian wilayah Jakarta Barat, Selatan dan Jakarta Timur pada sore hari,\" tulis BMKG pada peringatan dininya, seperti dikutip dari jakarta.go.id.  Pada malam hari, cuaca di seluruh wilayah Jakarta akan berawan. Kecuali di Kepulauan Seribu yang akan terjadi hujan ringan. Saat dini hari nanti, cuaca di seluruh wilayah Jakarta akan cerah berawan. Kecuali di Kepulauan Seribu terjadi hujan ringan.  Untuk suhu udara y pada hari ini berkisar antara 24 hingga 29 derajat celcius dengan kelembapan udara sekitar 75 hingga 95 persen.  Badan Meteorologi, Klimatologi dan Geofisika (BMKG) memprakirakan cuaca di sebagian besar wilayah di Indonesia berpotensi berawan pada Kamis hari ini.  Berdasarkan informasi prakiraan cuaca yang disampaikan BMKG melalui laman www.bmkg.go.id di Jakarta, Kamis, disebutkan cuaca berawan diprakirakan akan dialami oleh sejumlah daerah, yakni D.I. Yogyakarta, Jakarta, Jambi, Semarang, Pontianak, Palangka Raya, Pangkal Pinang, dan Tanjung Pinang.  Cuaca berawan juga diprakirakan akan menaungi daerah Lampung, Palembang, Banjarmasin, Mataram, Mamuju, Makassar, Manado, serta Sofifi (Maluku Utara).  Sementara cuaca di Banda Aceh dan Denpasar diprediksi akan turun hujan dengan intensitas ringan. Cuaca cerah berawan diprakirakan akan terjadi di daerah Serang, Bengkulu, Bandung, Surabaya, Padang, Medan, Gorontalo, Samarinda, Tanjung Selor, Palu, Ambon, Jayapura, dan Manokwari.  Sementara cuaca di wilayah Pekanbaru berpotensi berkabut. Kemudian cuaca di Kupang berpotensi hujan dengan intensitas sedang. Cuaca di daerah Kendari diprakirakan pada Kamis ini.\" → [\"\\-\"/PUNCT, \"Badan\"/PROPN, \"Meteorologi\"/PROPN, \",\"/PUNCT, \"Klimatologi\"/PROPN, \"dan\"/CCONJ, \"Geofisika\"/PROPN, \"atau\"/CCONJ, \"BMKG\"/PROPN, \"memprakirakan\"/VERB, \",\"/PUNCT, \"wilayah\"/NOUN, \"Jakarta\"/PROPN, \"Selatan\"/PROPN, \"dan\"/CCONJ, \"Timur\"/PROPN, \"akan\"/AUX, \"diguyur\"/VERB, \"pada\"/ADP, \"sore\"/NOUN, \"ini\"/DET, \".\"/PUNCT, \"Dalam\"/ADP, \"rilisnya\"/NOUN, \"Kamis\"/PROPN, \",\"/PUNCT, \"22\"/NUM, \"Desember\"/PROPN, \"2022\"/NUM, \",\"/PUNCT, \"BMKG\"/PROPN, \"menyebutkan\"/VERB, \",\"/PUNCT, \"pada\"/ADP, \"siang\"/NOUN, \"hari\"/NOUN, \"hujan\"/NOUN, \"intensitas\"/NOUN, \"ringan\"/ADJ, \"berpotensi\"/VERB, \"turun\"/VERB, \"di\"/ADP, \"wilayah\"/NOUN, \"Jakarta\"/PROPN, \"Timur\"/PROPN, \"dan\"/CCONJ, \"Selatan\"/PROPN, \".\"/PUNCT, \"Sedangkan\"/SCONJ, \"wilayah\"/NOUN, \"Jakarta\"/PROPN, \"lainnya\"/ADJ, \"cuaca\"/NOUN, \"berawan\"/VERB, \".\"/PUNCT, \"Pada\"/ADP, \"sore\"/NOUN, \"hari\"/NOUN, \",\"/PUNCT, \"BMKG\"/PROPN, \"memperkirakan\"/VERB, \"wilayah\"/NOUN, \"Jakarta\"/PROPN, \"Barat\"/PROPN, \",\"/PUNCT, \"Selatan\"/PROPN, \"dan\"/CCONJ, \"Jakarta\"/PROPN, \"Timur\"/PROPN, \"berpotensi\"/VERB, \"terjadi\"/VERB, \"hujan\"/NOUN, \"disertai\"/VERB, \"petir\"/NOUN, \"dan\"/CCONJ, \"angin\"/NOUN, \"kencang\"/ADJ, \".\"/PUNCT, \"Warga\"/NOUN, \"diimbau\"/VERB, \"waspada\"/VERB, \"terhadap\"/ADP, \"perubahan\"/NOUN, \"cuaca\"/NOUN, \"yang\"/PRON, \"terjadi\"/VERB, \".\"/PUNCT, \"\"\"/PUNCT, \"Waspada\"/PROPN, \"potensi\"/NOUN, \"hujan\"/NOUN, \"yang\"/PRON, \"dapat\"/AUX, \"disertai\"/VERB, \"petir\"/NOUN, \"dan\"/CCONJ, \"angin\"/NOUN, \"kencang\"/ADJ, \"di\"/ADP, \"sebagian\"/DET, \"wilayah\"/NOUN, \"Jakarta\"/PROPN, \"Barat\"/PROPN, \",\"/PUNCT, \"Selatan\"/PROPN, \"dan\"/CCONJ, \"Jakarta\"/PROPN, \"Timur\"/PROPN, \"pada\"/ADP, \"sore\"/NOUN, \"hari\"/NOUN, \",\"\"/PUNCT, \"tulis\"/VERB, \"BMKG\"/PROPN, \"pada\"/ADP, \"peringatan\"/NOUN, \"dininya\"/NOUN, \",\"/PUNCT, \"seperti\"/SCONJ, \"dikutip\"/VERB, \"dari\"/ADP, \"jakarta.go.id\"/NOUN, \".\"/PUNCT, \"Pada\"/ADP, \"malam\"/NOUN, \"hari\"/NOUN, \",\"/PUNCT, \"cuaca\"/NOUN, \"di\"/ADP, \"seluruh\"/DET, \"wilayah\"/NOUN, \"Jakarta\"/PROPN, \"akan\"/AUX, \"berawan\"/VERB, \".\"/PUNCT, \"Kecuali\"/SCONJ, \"di\"/ADP, \"Kepulauan\"/PROPN, \"Seribu\"/PROPN, \"yang\"/PRON, \"akan\"/AUX, \"terjadi\"/VERB, \"hujan\"/NOUN, \"ringan\"/ADJ, \".\"/PUNCT, \"Saat\"/ADP, \"dini\"/NOUN, \"hari\"/NOUN, \"nanti\"/ADV, \",\"/PUNCT, \"cuaca\"/NOUN, \"di\"/ADP, \"seluruh\"/DET, \"wilayah\"/NOUN, \"Jakarta\"/PROPN, \"akan\"/AUX, \"cerah\"/ADJ, \"berawan\"/VERB, \".\"/PUNCT, \"Kecuali\"/SCONJ, \"di\"/ADP, \"Kepulauan\"/PROPN, \"Seribu\"/PROPN, \"terjadi\"/VERB, \"hujan\"/NOUN, \"ringan\"/ADJ, \".\"/PUNCT, \"Untuk\"/ADP, \"suhu\"/NOUN, \"udara\"/NOUN, \"y\"/NOUN, \"pada\"/ADP, \"hari\"/NOUN, \"ini\"/DET, \"berkisar\"/VERB, \"antara\"/ADP, \"24\"/NUM, \"hingga\"/ADP, \"29\"/NUM, \"derajat\"/NOUN, \"celcius\"/NOUN, \"dengan\"/ADP, \"kelembapan\"/NOUN, \"udara\"/NOUN, \"sekitar\"/ADP, \"75\"/NUM, \"hingga\"/ADP, \"95\"/NUM, \"persen\"/NOUN, \".\"/PUNCT, \"Badan\"/PROPN, \"Meteorologi\"/PROPN, \",\"/PUNCT, \"Klimatologi\"/PROPN, \"dan\"/CCONJ, \"Geofisika\"/PROPN, \"(\"/PUNCT, \"BMKG\"/PROPN, \")\"/PUNCT, \"memprakirakan\"/VERB, \"cuaca\"/NOUN, \"di\"/ADP, \"sebagian\"/DET, \"besar\"/ADJ, \"wilayah\"/NOUN, \"di\"/ADP, \"Indonesia\"/PROPN, \"berpotensi\"/VERB, \"berawan\"/VERB, \"pada\"/ADP, \"Kamis\"/NOUN, \"hari\"/NOUN, \"ini\"/DET, \".\"/PUNCT, \"Berdasarkan\"/VERB, \"informasi\"/NOUN, \"prakiraan\"/NOUN, \"cuaca\"/NOUN, \"yang\"/PRON, \"disampaikan\"/VERB, \"BMKG\"/PROPN, \"melalui\"/ADP, \"laman\"/NOUN, \"www.bmkg.go.id\"/NOUN, \"di\"/ADP, \"Jakarta\"/PROPN, \",\"/PUNCT, \"Kamis\"/PROPN, \",\"/PUNCT, \"disebutkan\"/VERB, \"cuaca\"/NOUN, \"berawan\"/VERB, \"diprakirakan\"/VERB, \"akan\"/AUX, \"dialami\"/VERB, \"oleh\"/ADP, \"sejumlah\"/DET, \"daerah\"/NOUN, \",\"/PUNCT, \"yakni\"/SCONJ, \"D.I\"/PROPN, \".\"/PUNCT, \"Yogyakarta\"/PROPN, \",\"/PUNCT, \"Jakarta\"/PROPN, \",\"/PUNCT, \"Jambi\"/PROPN, \",\"/PUNCT, \"Semarang\"/PROPN, \",\"/PUNCT, \"Pontianak\"/PROPN, \",\"/PUNCT, \"Palangka\"/PROPN, \"Raya\"/PROPN, \",\"/PUNCT, \"Pangkal\"/PROPN, \"Pinang\"/PROPN, \",\"/PUNCT, \"dan\"/CCONJ, \"Tanjung\"/PROPN, \"Pinang\"/PROPN, \".\"/PUNCT, \"Cuaca\"/PROPN, \"berawan\"/VERB, \"juga\"/ADV, \"diprakirakan\"/VERB, \"akan\"/AUX, \"menaungi\"/VERB, \"daerah\"/NOUN, \"Lampung\"/PROPN, \",\"/PUNCT, \"Palembang\"/PROPN, \",\"/PUNCT, \"Banjarmasin\"/PROPN, \",\"/PUNCT, \"Mataram\"/PROPN, \",\"/PUNCT, \"Mamuju\"/PROPN, \",\"/PUNCT, \"Makassar\"/PROPN, \",\"/PUNCT, \"Manado\"/PROPN, \",\"/PUNCT, \"serta\"/CCONJ, \"Sofifi\"/PROPN, \"(\"/PUNCT, \"Maluku\"/PROPN, \"Utara\"/PROPN, \")\"/PUNCT, \".\"/PUNCT, \"Sementara\"/SCONJ, \"cuaca\"/NOUN, \"di\"/ADP, \"Banda\"/PROPN, \"Aceh\"/PROPN, \"dan\"/CCONJ, \"Denpasar\"/PROPN, \"diprediksi\"/VERB, \"akan\"/AUX, \"turun\"/VERB, \"hujan\"/NOUN, \"dengan\"/ADP, \"intensitas\"/NOUN, \"ringan\"/ADJ, \".\"/PUNCT, \"Cuaca\"/NOUN, \"cerah\"/ADJ, \"berawan\"/VERB, \"diprakirakan\"/VERB, \"akan\"/AUX, \"terjadi\"/VERB, \"di\"/ADP, \"daerah\"/NOUN, \"Serang\"/PROPN, \",\"/PUNCT, \"Bengkulu\"/PROPN, \",\"/PUNCT, \"Bandung\"/PROPN, \",\"/PUNCT, \"Surabaya\"/PROPN, \",\"/PUNCT, \"Padang\"/PROPN, \",\"/PUNCT, \"Medan\"/PROPN, \",\"/PUNCT, \"Gorontalo\"/PROPN, \",\"/PUNCT, \"Samarinda\"/PROPN, \",\"/PUNCT, \"Tanjung\"/PROPN, \"Selor\"/PROPN, \",\"/PUNCT, \"Palu\"/PROPN, \",\"/PUNCT, \"Ambon\"/PROPN, \",\"/PUNCT, \"Jayapura\"/PROPN, \",\"/PUNCT, \"dan\"/CCONJ, \"Manokwari\"/PROPN, \".\"/PUNCT, \"Sementara\"/SCONJ, \"cuaca\"/NOUN, \"di\"/ADP, \"wilayah\"/NOUN, \"Pekanbaru\"/PROPN, \"berpotensi\"/VERB, \"berkabut\"/VERB, \".\"/PUNCT, \"Kemudian\"/ADV, \"cuaca\"/NOUN, \"di\"/ADP, \"Kupang\"/PROPN, \"berpotensi\"/VERB, \"hujan\"/NOUN, \"dengan\"/ADP, \"intensitas\"/NOUN, \"sedang\"/ADJ, \".\"/PUNCT, \"Cuaca\"/PROPN, \"di\"/ADP, \"daerah\"/NOUN, \"Kendari\"/PROPN, \"diprakirakan\"/VERB, \"pada\"/ADP, \"Kamis\"/PROPN, \"ini\"/DET, \".\"/PUNCT]\n",
      "22/12/2022\n",
      " \\- Badan Meteorologi, Klimatologi dan Geofisika atau BMKG memprakirakan, sebagian wilayah Jakarta bakal diguyur pada siang dan sore ini. Sementara sebagain lainnya cuaca berawan.  Dalam rilisnya, Minggu, 18 Desember 2022, BMKG menyebutkan pada siang hari wilayah Jakarta Barat, Selatan dan Jakarta Timur akan turun hujan ringan. Sedangkan di Jakarta Pusat dan Utara cuaca berawan dan Kepulauan Seribu cerah berawan.  Saat sore menjelang malam, Jakarta Selatan dan Timur berpotensi diguyur hujan yang disertai petir dan angin kencang. Warga diimbau mewaspadai adanya perubahan cuaca yang terjadi.  \"Waspada potensi hujan yang dapat disertai petir dan angin kencang dengan durasi singkat di sebagian wilayah Jakarta Selatan dan Jakarta Timur pada siang dan sore hari,\" tulis BMKG dalam peringatan dininya seperti dikutip dari jakarta.go.id.  Pada malam hari, cuaca di wilayah Jakarta Barat, Selatan dan Jakarta Timur akan terjadi hujan ringan. Di Jakarta Pusat, Jakarta Utara dan Kepulauan Seribu cuaca berawan.  Saat dini hari nanti, cuaca di wilayah Jakarta Barat, Selatan dan Jakarta Timur akan berawan. Di Jakarta Pusat dan Jakarta Utara akan cerah berawan. Di Kepulauan Seribu akan terjadi hujan ringan.  Untuk udara pada hari ini berkisar antara 25 hingga 33 derajat celcius dengan kelembapan sekitar 65 hingga 90 persen.   \n",
      "Sentence[222]: \" \\- Badan Meteorologi, Klimatologi dan Geofisika atau BMKG memprakirakan, sebagian wilayah Jakarta bakal diguyur pada siang dan sore ini. Sementara sebagain lainnya cuaca berawan.  Dalam rilisnya, Minggu, 18 Desember 2022, BMKG menyebutkan pada siang hari wilayah Jakarta Barat, Selatan dan Jakarta Timur akan turun hujan ringan. Sedangkan di Jakarta Pusat dan Utara cuaca berawan dan Kepulauan Seribu cerah berawan.  Saat sore menjelang malam, Jakarta Selatan dan Timur berpotensi diguyur hujan yang disertai petir dan angin kencang. Warga diimbau mewaspadai adanya perubahan cuaca yang terjadi.  \"Waspada potensi hujan yang dapat disertai petir dan angin kencang dengan durasi singkat di sebagian wilayah Jakarta Selatan dan Jakarta Timur pada siang dan sore hari,\" tulis BMKG dalam peringatan dininya seperti dikutip dari jakarta.go.id.  Pada malam hari, cuaca di wilayah Jakarta Barat, Selatan dan Jakarta Timur akan terjadi hujan ringan. Di Jakarta Pusat, Jakarta Utara dan Kepulauan Seribu cuaca berawan.  Saat dini hari nanti, cuaca di wilayah Jakarta Barat, Selatan dan Jakarta Timur akan berawan. Di Jakarta Pusat dan Jakarta Utara akan cerah berawan. Di Kepulauan Seribu akan terjadi hujan ringan.  Untuk udara pada hari ini berkisar antara 25 hingga 33 derajat celcius dengan kelembapan sekitar 65 hingga 90 persen.\" → [\"\\-\"/PUNCT, \"Badan\"/PROPN, \"Meteorologi\"/PROPN, \",\"/PUNCT, \"Klimatologi\"/PROPN, \"dan\"/CCONJ, \"Geofisika\"/PROPN, \"atau\"/CCONJ, \"BMKG\"/PROPN, \"memprakirakan\"/VERB, \",\"/PUNCT, \"sebagian\"/DET, \"wilayah\"/NOUN, \"Jakarta\"/PROPN, \"bakal\"/ADV, \"diguyur\"/VERB, \"pada\"/ADP, \"siang\"/NOUN, \"dan\"/CCONJ, \"sore\"/NOUN, \"ini\"/DET, \".\"/PUNCT, \"Sementara\"/SCONJ, \"sebagain\"/ADP, \"lainnya\"/ADJ, \"cuaca\"/NOUN, \"berawan\"/VERB, \".\"/PUNCT, \"Dalam\"/ADP, \"rilisnya\"/NOUN, \",\"/PUNCT, \"Minggu\"/PROPN, \",\"/PUNCT, \"18\"/NUM, \"Desember\"/PROPN, \"2022\"/NUM, \",\"/PUNCT, \"BMKG\"/PROPN, \"menyebutkan\"/VERB, \"pada\"/ADP, \"siang\"/NOUN, \"hari\"/NOUN, \"wilayah\"/NOUN, \"Jakarta\"/PROPN, \"Barat\"/PROPN, \",\"/PUNCT, \"Selatan\"/PROPN, \"dan\"/CCONJ, \"Jakarta\"/PROPN, \"Timur\"/PROPN, \"akan\"/AUX, \"turun\"/VERB, \"hujan\"/NOUN, \"ringan\"/ADJ, \".\"/PUNCT, \"Sedangkan\"/SCONJ, \"di\"/ADP, \"Jakarta\"/PROPN, \"Pusat\"/PROPN, \"dan\"/CCONJ, \"Utara\"/PROPN, \"cuaca\"/NOUN, \"berawan\"/VERB, \"dan\"/CCONJ, \"Kepulauan\"/PROPN, \"Seribu\"/PROPN, \"cerah\"/ADJ, \"berawan\"/VERB, \".\"/PUNCT, \"Saat\"/ADP, \"sore\"/NOUN, \"menjelang\"/VERB, \"malam\"/NOUN, \",\"/PUNCT, \"Jakarta\"/PROPN, \"Selatan\"/PROPN, \"dan\"/CCONJ, \"Timur\"/PROPN, \"berpotensi\"/VERB, \"diguyur\"/VERB, \"hujan\"/NOUN, \"yang\"/PRON, \"disertai\"/VERB, \"petir\"/NOUN, \"dan\"/CCONJ, \"angin\"/NOUN, \"kencang\"/ADJ, \".\"/PUNCT, \"Warga\"/NOUN, \"diimbau\"/VERB, \"mewaspadai\"/VERB, \"adanya\"/VERB, \"perubahan\"/NOUN, \"cuaca\"/NOUN, \"yang\"/PRON, \"terjadi\"/VERB, \".\"/PUNCT, \"\"\"/PUNCT, \"Waspada\"/PROPN, \"potensi\"/NOUN, \"hujan\"/NOUN, \"yang\"/PRON, \"dapat\"/AUX, \"disertai\"/VERB, \"petir\"/NOUN, \"dan\"/CCONJ, \"angin\"/NOUN, \"kencang\"/ADJ, \"dengan\"/ADP, \"durasi\"/NOUN, \"singkat\"/ADJ, \"di\"/ADP, \"sebagian\"/DET, \"wilayah\"/NOUN, \"Jakarta\"/PROPN, \"Selatan\"/PROPN, \"dan\"/CCONJ, \"Jakarta\"/PROPN, \"Timur\"/PROPN, \"pada\"/ADP, \"siang\"/NOUN, \"dan\"/CCONJ, \"sore\"/NOUN, \"hari\"/NOUN, \",\"\"/PUNCT, \"tulis\"/VERB, \"BMKG\"/PROPN, \"dalam\"/ADP, \"peringatan\"/NOUN, \"dininya\"/NOUN, \"seperti\"/SCONJ, \"dikutip\"/VERB, \"dari\"/ADP, \"jakarta.go.id\"/NOUN, \".\"/PUNCT, \"Pada\"/ADP, \"malam\"/NOUN, \"hari\"/NOUN, \",\"/PUNCT, \"cuaca\"/NOUN, \"di\"/ADP, \"wilayah\"/NOUN, \"Jakarta\"/PROPN, \"Barat\"/PROPN, \",\"/PUNCT, \"Selatan\"/PROPN, \"dan\"/CCONJ, \"Jakarta\"/PROPN, \"Timur\"/PROPN, \"akan\"/AUX, \"terjadi\"/VERB, \"hujan\"/NOUN, \"ringan\"/ADJ, \".\"/PUNCT, \"Di\"/ADP, \"Jakarta\"/PROPN, \"Pusat\"/PROPN, \",\"/PUNCT, \"Jakarta\"/PROPN, \"Utara\"/PROPN, \"dan\"/CCONJ, \"Kepulauan\"/PROPN, \"Seribu\"/PROPN, \"cuaca\"/NOUN, \"berawan\"/VERB, \".\"/PUNCT, \"Saat\"/ADP, \"dini\"/NOUN, \"hari\"/NOUN, \"nanti\"/NOUN, \",\"/PUNCT, \"cuaca\"/NOUN, \"di\"/ADP, \"wilayah\"/NOUN, \"Jakarta\"/PROPN, \"Barat\"/PROPN, \",\"/PUNCT, \"Selatan\"/PROPN, \"dan\"/CCONJ, \"Jakarta\"/PROPN, \"Timur\"/PROPN, \"akan\"/AUX, \"berawan\"/VERB, \".\"/PUNCT, \"Di\"/ADP, \"Jakarta\"/PROPN, \"Pusat\"/PROPN, \"dan\"/CCONJ, \"Jakarta\"/PROPN, \"Utara\"/PROPN, \"akan\"/AUX, \"cerah\"/ADJ, \"berawan\"/VERB, \".\"/PUNCT, \"Di\"/ADP, \"Kepulauan\"/PROPN, \"Seribu\"/PROPN, \"akan\"/AUX, \"terjadi\"/VERB, \"hujan\"/NOUN, \"ringan\"/ADJ, \".\"/PUNCT, \"Untuk\"/ADP, \"udara\"/NOUN, \"pada\"/ADP, \"hari\"/NOUN, \"ini\"/DET, \"berkisar\"/VERB, \"antara\"/ADP, \"25\"/NUM, \"hingga\"/ADP, \"33\"/NUM, \"derajat\"/NOUN, \"celcius\"/NOUN, \"dengan\"/ADP, \"kelembapan\"/NOUN, \"sekitar\"/ADP, \"65\"/NUM, \"hingga\"/ADP, \"90\"/NUM, \"persen\"/NOUN, \".\"/PUNCT]\n",
      "18/12/2022\n",
      " \\- diwarnai potensi hujan disertai dengan petir dan angin kencang. Badan Meteorologi, Klimatologi, dan Geofisika atau BMKG memperkirakan, hujan ringan mengguyur Jakarta Selatan dan Jakarta Timur siang ini.  Sementara itu, cuaca di Jakarta Barat, Jakarta Pusat, dan Jakarta Utara cerah berawan. Kondisi cuaca di lima kota Jakarta pada malam hari diprediksikan cerah berawan dan berawan.  Kemarin hujan juga turun di . Alhasil, sejumlah ruas jalan dan rukun tetangga (RT) di Jakarta Barat serta Jakarta Selatan kebanjiran.  Untuk perkiraan cuaca di daerah penyangga, hujan berpotensi turun di sebagian wilayah Kota Bogor, Depok, dan Bekasi mulai siang ini.  \"Waspada potensi hujan yang dapat disertai kilat atau petir dan angin kencang pada rentang waktu antara siang atau sore hingga menjelang malam hari,\" demikian bunyi peringatan dini BMKG yang dilansir situs resminya, Jumat, 2 Desember 2022.  Berpindah ke daerah lain, hujan juga kemungkinan membasahi Tangerang bagian selatan pada hari ini. Dari prakiraan , intensitas hujan sedang hingga lebat.   \n",
      "Sentence[180]: \" \\- diwarnai potensi hujan disertai dengan petir dan angin kencang. Badan Meteorologi, Klimatologi, dan Geofisika atau BMKG memperkirakan, hujan ringan mengguyur Jakarta Selatan dan Jakarta Timur siang ini.  Sementara itu, cuaca di Jakarta Barat, Jakarta Pusat, dan Jakarta Utara cerah berawan. Kondisi cuaca di lima kota Jakarta pada malam hari diprediksikan cerah berawan dan berawan.  Kemarin hujan juga turun di . Alhasil, sejumlah ruas jalan dan rukun tetangga (RT) di Jakarta Barat serta Jakarta Selatan kebanjiran.  Untuk perkiraan cuaca di daerah penyangga, hujan berpotensi turun di sebagian wilayah Kota Bogor, Depok, dan Bekasi mulai siang ini.  \"Waspada potensi hujan yang dapat disertai kilat atau petir dan angin kencang pada rentang waktu antara siang atau sore hingga menjelang malam hari,\" demikian bunyi peringatan dini BMKG yang dilansir situs resminya, Jumat, 2 Desember 2022.  Berpindah ke daerah lain, hujan juga kemungkinan membasahi Tangerang bagian selatan pada hari ini. Dari prakiraan , intensitas hujan sedang hingga lebat.\" → [\"\\-\"/PUNCT, \"diwarnai\"/VERB, \"potensi\"/NOUN, \"hujan\"/NOUN, \"disertai\"/VERB, \"dengan\"/ADP, \"petir\"/NOUN, \"dan\"/CCONJ, \"angin\"/NOUN, \"kencang\"/ADJ, \".\"/PUNCT, \"Badan\"/PROPN, \"Meteorologi\"/PROPN, \",\"/PUNCT, \"Klimatologi\"/PROPN, \",\"/PUNCT, \"dan\"/CCONJ, \"Geofisika\"/PROPN, \"atau\"/CCONJ, \"BMKG\"/PROPN, \"memperkirakan\"/VERB, \",\"/PUNCT, \"hujan\"/NOUN, \"ringan\"/ADJ, \"mengguyur\"/VERB, \"Jakarta\"/PROPN, \"Selatan\"/PROPN, \"dan\"/CCONJ, \"Jakarta\"/PROPN, \"Timur\"/PROPN, \"siang\"/NOUN, \"ini\"/DET, \".\"/PUNCT, \"Sementara\"/ADV, \"itu\"/DET, \",\"/PUNCT, \"cuaca\"/NOUN, \"di\"/ADP, \"Jakarta\"/PROPN, \"Barat\"/PROPN, \",\"/PUNCT, \"Jakarta\"/PROPN, \"Pusat\"/PROPN, \",\"/PUNCT, \"dan\"/CCONJ, \"Jakarta\"/PROPN, \"Utara\"/PROPN, \"cerah\"/ADJ, \"berawan\"/VERB, \".\"/PUNCT, \"Kondisi\"/NOUN, \"cuaca\"/NOUN, \"di\"/ADP, \"lima\"/NUM, \"kota\"/NOUN, \"Jakarta\"/PROPN, \"pada\"/ADP, \"malam\"/NOUN, \"hari\"/NOUN, \"diprediksikan\"/VERB, \"cerah\"/ADJ, \"berawan\"/VERB, \"dan\"/CCONJ, \"berawan\"/VERB, \".\"/PUNCT, \"Kemarin\"/NOUN, \"hujan\"/NOUN, \"juga\"/ADV, \"turun\"/VERB, \"di\"/ADP, \".\"/PUNCT, \"Alhasil\"/NOUN, \",\"/PUNCT, \"sejumlah\"/DET, \"ruas\"/NOUN, \"jalan\"/NOUN, \"dan\"/CCONJ, \"rukun\"/NOUN, \"tetangga\"/NOUN, \"(\"/PUNCT, \"RT\"/PROPN, \")\"/PUNCT, \"di\"/ADP, \"Jakarta\"/PROPN, \"Barat\"/PROPN, \"serta\"/CCONJ, \"Jakarta\"/PROPN, \"Selatan\"/PROPN, \"kebanjiran\"/NOUN, \".\"/PUNCT, \"Untuk\"/ADP, \"perkiraan\"/NOUN, \"cuaca\"/NOUN, \"di\"/ADP, \"daerah\"/NOUN, \"penyangga\"/NOUN, \",\"/PUNCT, \"hujan\"/NOUN, \"berpotensi\"/VERB, \"turun\"/VERB, \"di\"/ADP, \"sebagian\"/DET, \"wilayah\"/NOUN, \"Kota\"/PROPN, \"Bogor\"/PROPN, \",\"/PUNCT, \"Depok\"/PROPN, \",\"/PUNCT, \"dan\"/CCONJ, \"Bekasi\"/PROPN, \"mulai\"/VERB, \"siang\"/NOUN, \"ini\"/DET, \".\"/PUNCT, \"\"\"/PUNCT, \"Waspada\"/PROPN, \"potensi\"/NOUN, \"hujan\"/NOUN, \"yang\"/PRON, \"dapat\"/AUX, \"disertai\"/VERB, \"kilat\"/NOUN, \"atau\"/CCONJ, \"petir\"/NOUN, \"dan\"/CCONJ, \"angin\"/NOUN, \"kencang\"/ADJ, \"pada\"/ADP, \"rentang\"/NOUN, \"waktu\"/NOUN, \"antara\"/ADP, \"siang\"/NOUN, \"atau\"/CCONJ, \"sore\"/NOUN, \"hingga\"/ADP, \"menjelang\"/NOUN, \"malam\"/NOUN, \"hari\"/NOUN, \",\"\"/PUNCT, \"demikian\"/PRON, \"bunyi\"/NOUN, \"peringatan\"/NOUN, \"dini\"/NOUN, \"BMKG\"/PROPN, \"yang\"/PRON, \"dilansir\"/VERB, \"situs\"/NOUN, \"resminya\"/ADJ, \",\"/PUNCT, \"Jumat\"/PROPN, \",\"/PUNCT, \"2\"/NUM, \"Desember\"/PROPN, \"2022\"/NUM, \".\"/PUNCT, \"Berpindah\"/VERB, \"ke\"/ADP, \"daerah\"/NOUN, \"lain\"/ADJ, \",\"/PUNCT, \"hujan\"/NOUN, \"juga\"/ADV, \"kemungkinan\"/NOUN, \"membasahi\"/VERB, \"Tangerang\"/PROPN, \"bagian\"/NOUN, \"selatan\"/NOUN, \"pada\"/ADP, \"hari\"/NOUN, \"ini\"/DET, \".\"/PUNCT, \"Dari\"/ADP, \"prakiraan\"/NOUN, \",\"/PUNCT, \"intensitas\"/NOUN, \"hujan\"/NOUN, \"sedang\"/ADJ, \"hingga\"/ADP, \"lebat\"/ADJ, \".\"/PUNCT]\n",
      "02/12/2022\n",
      "\\- Para pengungsi korban kebakaran di Ambon di Kawasan Mardika, Kecamata Sirimau, mengeluh kurangnya jatah makanan dari dapur umum yang didirikan pemerintah.  Para pengungsi mengaku tak lagi mendapat jatah sarapan beberapa hari terakhir. Padahal, mereka selalu mendapat sarapan pada hari-hari sebelumnya.  Untuk makan pagi itu mereka sudah tidak antar lagi dan untuk makan siang itu selalu telat diantar, kata salah satu pengungsi, Ira yang ditemui _Kompas.com_ di lokasi pengungsian, Rabu (14/12/2022).  Pemkot Ambon masih memberlakukan status tanggap darurat usai kasus kebakaran yang menghanguskan sejumlah bangunan di Kota Ambon itu. Status itu berlaku selama tujuh hari.  Selama tanggap darurat, Pemkot Ambon ikut mendirikan dapur umum untuk memenuhi kebutuhan makan ratusan pengungsi di lokasi tersebut.  Menurut Ira, para pengungsi terpaksa mengeluarkan uang untuk membeli sarapan. Hal itu semakin mempersulit kondisi pengungsi yang tak lagi memiliki mata pencaharian.  Kalau pagi hari itu kita beli makan sendiri apalagi untuk anak-anak mereka tidak bisa tahan sampai jam dua siang, katanya.    Senada dengan Ira, Norma salah satu pengungsi lainnya juga mengaku mengeluarkan uang untuk membeli makan. Apalagi, makan siang dari dapur umum telat datang.  Kalau untuk sarapan pagi itu sudah tidak dapat lagi tapi yang kita sesalkan ini untuk makan siang, masa sampai jam dua baru datang, jadi kita ini selalu mengeluarkan uang untuk makan di luar, sama seperti hari ini kita juga baru makan jam dua lewat, katanya.  Norma menegaskan, tak semua pengungsi memiliki daya tahan tubuh yang sama. Oleh karena itu, mereka meminta agar paket makan siang bisa diantar tepat waktu.  Apalagi, banyak lansia dan anak-anak yang harus dijaga kesehatannya di lokasi pengungsian.  Kalau seperti ini orang bisa sakit dan yang menderita mag bisa menderita, ujarnya.   \n",
      "Sentence[316]: \"\\- Para pengungsi korban kebakaran di Ambon di Kawasan Mardika, Kecamata Sirimau, mengeluh kurangnya jatah makanan dari dapur umum yang didirikan pemerintah.  Para pengungsi mengaku tak lagi mendapat jatah sarapan beberapa hari terakhir. Padahal, mereka selalu mendapat sarapan pada hari-hari sebelumnya.  Untuk makan pagi itu mereka sudah tidak antar lagi dan untuk makan siang itu selalu telat diantar, kata salah satu pengungsi, Ira yang ditemui _Kompas.com_ di lokasi pengungsian, Rabu (14/12/2022).  Pemkot Ambon masih memberlakukan status tanggap darurat usai kasus kebakaran yang menghanguskan sejumlah bangunan di Kota Ambon itu. Status itu berlaku selama tujuh hari.  Selama tanggap darurat, Pemkot Ambon ikut mendirikan dapur umum untuk memenuhi kebutuhan makan ratusan pengungsi di lokasi tersebut.  Menurut Ira, para pengungsi terpaksa mengeluarkan uang untuk membeli sarapan. Hal itu semakin mempersulit kondisi pengungsi yang tak lagi memiliki mata pencaharian.  Kalau pagi hari itu kita beli makan sendiri apalagi untuk anak-anak mereka tidak bisa tahan sampai jam dua siang, katanya.    Senada dengan Ira, Norma salah satu pengungsi lainnya juga mengaku mengeluarkan uang untuk membeli makan. Apalagi, makan siang dari dapur umum telat datang.  Kalau untuk sarapan pagi itu sudah tidak dapat lagi tapi yang kita sesalkan ini untuk makan siang, masa sampai jam dua baru datang, jadi kita ini selalu mengeluarkan uang untuk makan di luar, sama seperti hari ini kita juga baru makan jam dua lewat, katanya.  Norma menegaskan, tak semua pengungsi memiliki daya tahan tubuh yang sama. Oleh karena itu, mereka meminta agar paket makan siang bisa diantar tepat waktu.  Apalagi, banyak lansia dan anak-anak yang harus dijaga kesehatannya di lokasi pengungsian.  Kalau seperti ini orang bisa sakit dan yang menderita mag bisa menderita, ujarnya.\" → [\"\\-\"/PUNCT, \"Para\"/DET, \"pengungsi\"/NOUN, \"korban\"/NOUN, \"kebakaran\"/NOUN, \"di\"/ADP, \"Ambon\"/PROPN, \"di\"/ADP, \"Kawasan\"/PROPN, \"Mardika\"/PROPN, \",\"/PUNCT, \"Kecamata\"/PROPN, \"Sirimau\"/PROPN, \",\"/PUNCT, \"mengeluh\"/VERB, \"kurangnya\"/NOUN, \"jatah\"/NOUN, \"makanan\"/NOUN, \"dari\"/ADP, \"dapur\"/NOUN, \"umum\"/ADJ, \"yang\"/PRON, \"didirikan\"/VERB, \"pemerintah\"/NOUN, \".\"/PUNCT, \"Para\"/DET, \"pengungsi\"/NOUN, \"mengaku\"/VERB, \"tak\"/PART, \"lagi\"/ADV, \"mendapat\"/VERB, \"jatah\"/NOUN, \"sarapan\"/NOUN, \"beberapa\"/DET, \"hari\"/NOUN, \"terakhir\"/ADJ, \".\"/PUNCT, \"Padahal\"/ADV, \",\"/PUNCT, \"mereka\"/PRON, \"selalu\"/ADV, \"mendapat\"/VERB, \"sarapan\"/NOUN, \"pada\"/ADP, \"hari-hari\"/NOUN, \"sebelumnya\"/ADJ, \".\"/PUNCT, \"Untuk\"/SCONJ, \"makan\"/VERB, \"pagi\"/NOUN, \"itu\"/DET, \"mereka\"/PRON, \"sudah\"/AUX, \"tidak\"/PART, \"antar\"/VERB, \"lagi\"/ADV, \"dan\"/CCONJ, \"untuk\"/SCONJ, \"makan\"/VERB, \"siang\"/NOUN, \"itu\"/DET, \"selalu\"/ADV, \"telat\"/VERB, \"diantar\"/VERB, \",\"/PUNCT, \"kata\"/NOUN, \"salah\"/ADJ, \"satu\"/NUM, \"pengungsi\"/NOUN, \",\"/PUNCT, \"Ira\"/PROPN, \"yang\"/PRON, \"ditemui\"/VERB, \"_\"/PUNCT, \"Kompas.com\"/PROPN, \"_\"/PUNCT, \"di\"/ADP, \"lokasi\"/NOUN, \"pengungsian\"/NOUN, \",\"/PUNCT, \"Rabu\"/PROPN, \"(\"/PUNCT, \"14\"/NUM, \"/\"/PUNCT, \"12\"/NUM, \"/\"/PUNCT, \"2022\"/NUM, \")\"/PUNCT, \".\"/PUNCT, \"Pemkot\"/PROPN, \"Ambon\"/PROPN, \"masih\"/ADV, \"memberlakukan\"/VERB, \"status\"/NOUN, \"tanggap\"/NOUN, \"darurat\"/ADJ, \"usai\"/ADP, \"kasus\"/NOUN, \"kebakaran\"/NOUN, \"yang\"/PRON, \"menghanguskan\"/VERB, \"sejumlah\"/DET, \"bangunan\"/NOUN, \"di\"/ADP, \"Kota\"/PROPN, \"Ambon\"/PROPN, \"itu\"/DET, \".\"/PUNCT, \"Status\"/NOUN, \"itu\"/DET, \"berlaku\"/VERB, \"selama\"/ADP, \"tujuh\"/NUM, \"hari\"/NOUN, \".\"/PUNCT, \"Selama\"/ADP, \"tanggap\"/NOUN, \"darurat\"/ADJ, \",\"/PUNCT, \"Pemkot\"/PROPN, \"Ambon\"/PROPN, \"ikut\"/VERB, \"mendirikan\"/VERB, \"dapur\"/NOUN, \"umum\"/ADJ, \"untuk\"/SCONJ, \"memenuhi\"/VERB, \"kebutuhan\"/NOUN, \"makan\"/VERB, \"ratusan\"/DET, \"pengungsi\"/NOUN, \"di\"/ADP, \"lokasi\"/NOUN, \"tersebut\"/DET, \".\"/PUNCT, \"Menurut\"/ADP, \"Ira\"/PROPN, \",\"/PUNCT, \"para\"/DET, \"pengungsi\"/NOUN, \"terpaksa\"/ADV, \"mengeluarkan\"/VERB, \"uang\"/NOUN, \"untuk\"/SCONJ, \"membeli\"/VERB, \"sarapan\"/NOUN, \".\"/PUNCT, \"Hal\"/NOUN, \"itu\"/DET, \"semakin\"/ADV, \"mempersulit\"/VERB, \"kondisi\"/NOUN, \"pengungsi\"/NOUN, \"yang\"/PRON, \"tak\"/PART, \"lagi\"/ADV, \"memiliki\"/VERB, \"mata\"/NOUN, \"pencaharian\"/NOUN, \".\"/PUNCT, \"Kalau\"/SCONJ, \"pagi\"/NOUN, \"hari\"/NOUN, \"itu\"/DET, \"kita\"/PRON, \"beli\"/VERB, \"makan\"/VERB, \"sendiri\"/DET, \"apalagi\"/ADV, \"untuk\"/ADP, \"anak-anak\"/NOUN, \"mereka\"/PRON, \"tidak\"/PART, \"bisa\"/AUX, \"tahan\"/VERB, \"sampai\"/ADP, \"jam\"/NOUN, \"dua\"/NUM, \"siang\"/NOUN, \",\"/PUNCT, \"katanya\"/ADV, \".\"/PUNCT, \"Senada\"/PROPN, \"dengan\"/ADP, \"Ira\"/PROPN, \",\"/PUNCT, \"Norma\"/PROPN, \"salah\"/ADJ, \"satu\"/NUM, \"pengungsi\"/NOUN, \"lainnya\"/ADJ, \"juga\"/ADV, \"mengaku\"/VERB, \"mengeluarkan\"/VERB, \"uang\"/NOUN, \"untuk\"/SCONJ, \"membeli\"/VERB, \"makan\"/NOUN, \".\"/PUNCT, \"Apalagi\"/ADV, \",\"/PUNCT, \"makan\"/NOUN, \"siang\"/NOUN, \"dari\"/ADP, \"dapur\"/NOUN, \"umum\"/ADJ, \"telat\"/ADV, \"datang\"/VERB, \".\"/PUNCT, \"Kalau\"/SCONJ, \"untuk\"/ADP, \"sarapan\"/NOUN, \"pagi\"/NOUN, \"itu\"/DET, \"sudah\"/AUX, \"tidak\"/PART, \"dapat\"/VERB, \"lagi\"/ADV, \"tapi\"/CCONJ, \"yang\"/PRON, \"kita\"/PRON, \"sesalkan\"/VERB, \"ini\"/DET, \"untuk\"/SCONJ, \"makan\"/VERB, \"siang\"/NOUN, \",\"/PUNCT, \"masa\"/NOUN, \"sampai\"/ADP, \"jam\"/NOUN, \"dua\"/NUM, \"baru\"/ADV, \"datang\"/VERB, \",\"/PUNCT, \"jadi\"/SCONJ, \"kita\"/PRON, \"ini\"/DET, \"selalu\"/ADV, \"mengeluarkan\"/VERB, \"uang\"/NOUN, \"untuk\"/SCONJ, \"makan\"/VERB, \"di\"/ADP, \"luar\"/NOUN, \",\"/PUNCT, \"sama\"/ADJ, \"seperti\"/ADP, \"hari\"/NOUN, \"ini\"/DET, \"kita\"/PRON, \"juga\"/ADV, \"baru\"/ADV, \"makan\"/VERB, \"jam\"/NOUN, \"dua\"/NUM, \"lewat\"/VERB, \",\"/PUNCT, \"katanya\"/ADV, \".\"/PUNCT, \"Norma\"/PROPN, \"menegaskan\"/VERB, \",\"/PUNCT, \"tak\"/PART, \"semua\"/DET, \"pengungsi\"/NOUN, \"memiliki\"/VERB, \"daya\"/NOUN, \"tahan\"/NOUN, \"tubuh\"/NOUN, \"yang\"/PRON, \"sama\"/ADJ, \".\"/PUNCT, \"Oleh\"/ADP, \"karena\"/ADP, \"itu\"/DET, \",\"/PUNCT, \"mereka\"/PRON, \"meminta\"/VERB, \"agar\"/SCONJ, \"paket\"/NOUN, \"makan\"/NOUN, \"siang\"/NOUN, \"bisa\"/AUX, \"diantar\"/VERB, \"tepat\"/ADJ, \"waktu\"/NOUN, \".\"/PUNCT, \"Apalagi\"/ADV, \",\"/PUNCT, \"banyak\"/DET, \"lansia\"/NOUN, \"dan\"/CCONJ, \"anak-anak\"/NOUN, \"yang\"/PRON, \"harus\"/AUX, \"dijaga\"/VERB, \"kesehatannya\"/NOUN, \"di\"/ADP, \"lokasi\"/NOUN, \"pengungsian\"/NOUN, \".\"/PUNCT, \"Kalau\"/SCONJ, \"seperti\"/ADP, \"ini\"/DET, \"orang\"/NOUN, \"bisa\"/AUX, \"sakit\"/ADJ, \"dan\"/CCONJ, \"yang\"/PRON, \"menderita\"/VERB, \"mag\"/NOUN, \"bisa\"/AUX, \"menderita\"/VERB, \",\"/PUNCT, \"ujarnya\"/ADV, \".\"/PUNCT]\n",
      "14/12/2022\n",
      " \\- Badan Meteorologi, Klimatologi, dan Geofisika (BMKG) memprakirakan cuaca di wilayah DKI Jakarta diguyur hujan pada Senin, 26 Desember 2022.  Laman resmi BMKG menginformasikan prakiraan cuaca di lima wilayah DKI Jakarta seperti Jakarta Pusat, Jakarta Timur, Jakarta Utara, Jakarta Selatan, dan Kepulauan Seribu diprakirakan hujan dengan intensitas sedang pada pagi hari.  Sedangkan untuk wilayah Jakarta Barat diprakirakan hujan dengan intensitas ringan pada pagi hari.  Hujan dengan intensitas ringan juga diprakirakan mengguyur Jakarta Pusat, Jakarta Utara, dan Kepulauan Seribu pada siang hari.  Wilayah lain seperti Jakarta Timur dan Jakarta Barat diprakirakan hujan dengan intensitas sedang. Sedangkan Jakarta Selatan hujan disertai dengan petir.  \"Waspada potensi hujan lebat yang dapat disertai kilat dan angin kencang di sebagian wilayah Jakarta Barat, Jakarta Selatan, dan Jakarta Timur pada siang dan sore hari serta sebagian wilayah Jakarta Utara dan Kepulauan Seribu pada dini hari,\" tulis BMKG. .  Pada malam hari, seluruh wilayah DKI Jakarta diprakirakan kembali hujan dengan intensitas ringan.  Suhu udara di DKI Jakarta berkisar antara 22 hingga 28 derajat celsius, sedangkan kelembaban udara berkisar antara 80 hingga 100 persen.   \n",
      "Sentence[201]: \" \\- Badan Meteorologi, Klimatologi, dan Geofisika (BMKG) memprakirakan cuaca di wilayah DKI Jakarta diguyur hujan pada Senin, 26 Desember 2022.  Laman resmi BMKG menginformasikan prakiraan cuaca di lima wilayah DKI Jakarta seperti Jakarta Pusat, Jakarta Timur, Jakarta Utara, Jakarta Selatan, dan Kepulauan Seribu diprakirakan hujan dengan intensitas sedang pada pagi hari.  Sedangkan untuk wilayah Jakarta Barat diprakirakan hujan dengan intensitas ringan pada pagi hari.  Hujan dengan intensitas ringan juga diprakirakan mengguyur Jakarta Pusat, Jakarta Utara, dan Kepulauan Seribu pada siang hari.  Wilayah lain seperti Jakarta Timur dan Jakarta Barat diprakirakan hujan dengan intensitas sedang. Sedangkan Jakarta Selatan hujan disertai dengan petir.  \"Waspada potensi hujan lebat yang dapat disertai kilat dan angin kencang di sebagian wilayah Jakarta Barat, Jakarta Selatan, dan Jakarta Timur pada siang dan sore hari serta sebagian wilayah Jakarta Utara dan Kepulauan Seribu pada dini hari,\" tulis BMKG. .  Pada malam hari, seluruh wilayah DKI Jakarta diprakirakan kembali hujan dengan intensitas ringan.  Suhu udara di DKI Jakarta berkisar antara 22 hingga 28 derajat celsius, sedangkan kelembaban udara berkisar antara 80 hingga 100 persen.\" → [\"\\-\"/PUNCT, \"Badan\"/PROPN, \"Meteorologi\"/PROPN, \",\"/PUNCT, \"Klimatologi\"/PROPN, \",\"/PUNCT, \"dan\"/CCONJ, \"Geofisika\"/PROPN, \"(\"/PUNCT, \"BMKG\"/PROPN, \")\"/PUNCT, \"memprakirakan\"/VERB, \"cuaca\"/NOUN, \"di\"/ADP, \"wilayah\"/NOUN, \"DKI\"/PROPN, \"Jakarta\"/PROPN, \"diguyur\"/VERB, \"hujan\"/NOUN, \"pada\"/ADP, \"Senin\"/PROPN, \",\"/PUNCT, \"26\"/NUM, \"Desember\"/PROPN, \"2022\"/NUM, \".\"/PUNCT, \"Laman\"/PROPN, \"resmi\"/ADJ, \"BMKG\"/PROPN, \"menginformasikan\"/VERB, \"prakiraan\"/NOUN, \"cuaca\"/NOUN, \"di\"/ADP, \"lima\"/NUM, \"wilayah\"/NOUN, \"DKI\"/PROPN, \"Jakarta\"/PROPN, \"seperti\"/ADP, \"Jakarta\"/PROPN, \"Pusat\"/PROPN, \",\"/PUNCT, \"Jakarta\"/PROPN, \"Timur\"/PROPN, \",\"/PUNCT, \"Jakarta\"/PROPN, \"Utara\"/PROPN, \",\"/PUNCT, \"Jakarta\"/PROPN, \"Selatan\"/PROPN, \",\"/PUNCT, \"dan\"/CCONJ, \"Kepulauan\"/PROPN, \"Seribu\"/PROPN, \"diprakirakan\"/VERB, \"hujan\"/NOUN, \"dengan\"/ADP, \"intensitas\"/NOUN, \"sedang\"/ADJ, \"pada\"/ADP, \"pagi\"/NOUN, \"hari\"/NOUN, \".\"/PUNCT, \"Sedangkan\"/SCONJ, \"untuk\"/ADP, \"wilayah\"/NOUN, \"Jakarta\"/PROPN, \"Barat\"/PROPN, \"diprakirakan\"/VERB, \"hujan\"/NOUN, \"dengan\"/ADP, \"intensitas\"/NOUN, \"ringan\"/ADJ, \"pada\"/ADP, \"pagi\"/NOUN, \"hari\"/NOUN, \".\"/PUNCT, \"Hujan\"/PROPN, \"dengan\"/ADP, \"intensitas\"/NOUN, \"ringan\"/ADJ, \"juga\"/ADV, \"diprakirakan\"/VERB, \"mengguyur\"/VERB, \"Jakarta\"/PROPN, \"Pusat\"/PROPN, \",\"/PUNCT, \"Jakarta\"/PROPN, \"Utara\"/PROPN, \",\"/PUNCT, \"dan\"/CCONJ, \"Kepulauan\"/PROPN, \"Seribu\"/PROPN, \"pada\"/ADP, \"siang\"/NOUN, \"hari\"/NOUN, \".\"/PUNCT, \"Wilayah\"/NOUN, \"lain\"/ADJ, \"seperti\"/ADP, \"Jakarta\"/PROPN, \"Timur\"/PROPN, \"dan\"/CCONJ, \"Jakarta\"/PROPN, \"Barat\"/PROPN, \"diprakirakan\"/VERB, \"hujan\"/NOUN, \"dengan\"/ADP, \"intensitas\"/NOUN, \"sedang\"/ADJ, \".\"/PUNCT, \"Sedangkan\"/SCONJ, \"Jakarta\"/PROPN, \"Selatan\"/PROPN, \"hujan\"/NOUN, \"disertai\"/VERB, \"dengan\"/ADP, \"petir\"/NOUN, \".\"/PUNCT, \"\"\"/PUNCT, \"Waspada\"/PROPN, \"potensi\"/NOUN, \"hujan\"/NOUN, \"lebat\"/ADJ, \"yang\"/PRON, \"dapat\"/AUX, \"disertai\"/VERB, \"kilat\"/NOUN, \"dan\"/CCONJ, \"angin\"/NOUN, \"kencang\"/ADJ, \"di\"/ADP, \"sebagian\"/DET, \"wilayah\"/NOUN, \"Jakarta\"/PROPN, \"Barat\"/PROPN, \",\"/PUNCT, \"Jakarta\"/PROPN, \"Selatan\"/PROPN, \",\"/PUNCT, \"dan\"/CCONJ, \"Jakarta\"/PROPN, \"Timur\"/PROPN, \"pada\"/ADP, \"siang\"/NOUN, \"dan\"/CCONJ, \"sore\"/NOUN, \"hari\"/NOUN, \"serta\"/CCONJ, \"sebagian\"/DET, \"wilayah\"/NOUN, \"Jakarta\"/PROPN, \"Utara\"/PROPN, \"dan\"/CCONJ, \"Kepulauan\"/PROPN, \"Seribu\"/PROPN, \"pada\"/ADP, \"dini\"/NOUN, \"hari\"/NOUN, \",\"\"/PUNCT, \"tulis\"/VERB, \"BMKG\"/PROPN, \".\"/PUNCT, \".\"/PUNCT, \"Pada\"/ADP, \"malam\"/NOUN, \"hari\"/NOUN, \",\"/PUNCT, \"seluruh\"/DET, \"wilayah\"/NOUN, \"DKI\"/PROPN, \"Jakarta\"/PROPN, \"diprakirakan\"/VERB, \"kembali\"/ADV, \"hujan\"/NOUN, \"dengan\"/ADP, \"intensitas\"/NOUN, \"ringan\"/ADJ, \".\"/PUNCT, \"Suhu\"/NOUN, \"udara\"/NOUN, \"di\"/ADP, \"DKI\"/PROPN, \"Jakarta\"/PROPN, \"berkisar\"/VERB, \"antara\"/ADP, \"22\"/NUM, \"hingga\"/ADP, \"28\"/NUM, \"derajat\"/NOUN, \"celsius\"/NOUN, \",\"/PUNCT, \"sedangkan\"/SCONJ, \"kelembaban\"/NOUN, \"udara\"/NOUN, \"berkisar\"/VERB, \"antara\"/ADP, \"80\"/NUM, \"hingga\"/ADP, \"100\"/NUM, \"persen\"/NOUN, \".\"/PUNCT]\n",
      "26/12/2022\n",
      " \\- Badan Penanggulangan Bencana Daerah (BPBD) Kabupaten Tangerang, Banten menyebutkan wilayah pesisir utara tepatnya di permukiman Pantai Tanjung Pasir, Kecamatan Teluknaga terendam akibat adanya cuaca buruk yang melanda daerah itu.  \"Hari ini Minggu (25/12) terjadi ombak besar dan angin kencang, hingga air laut naik ke daratan, ruas jalan dan rumah penduduk direndam air sekitar 40 centimeter,\" kata Kepala Bidang Kedaruratan dan Logistik BPBD Kabupaten Tangerang, Abdul Munir di Tangerang, Minggu, 25 Desember 2022.  Ia menjelaskan, banjir yang dipicu oleh luapan air laut tersebut terjadi sejak pukul 08.00 WIB, dan surut pada pukul 16.00 WIB.  Akan tetapi, BPBD Kabupaten Tangerang tidak merincikan jumlah total rumah yang terdampak dari adanya cuaca buruk tersebut.  \"Setelah ada laporan kami langsung terjunkan personel dari pos Damkar Kosambi untuk lakukan pada pukul 13.00 WIB, di Pantai Tanjung Pasir dihantam ombak disertai angin kencang,\" katanya.  Ia menyebutkan, personil yang melakukan di lokasi, langsung berkoordinasi dengan Pangkalan Utama TNI Angkatan Laut sebagai langkah mitigasi kebencanaan.  Kemudian, pihaknya mengimbau agar masyarakat yang beraktivitas di Pantai Tanjung Pasir agar berhati-hati. Karena saat ini dalam menghadapi bulan baru akan rawan terjadinya cuaca buruk.  \"Perahu penyeberangan wisata Tanjung Pasir dan Pulau Untung Jawa untuk sementara tidak beraktivitas, hingga kondisi cuaca kondusif/stabil,\" kata dia.   \n",
      "Sentence[239]: \" \\- Badan Penanggulangan Bencana Daerah (BPBD) Kabupaten Tangerang, Banten menyebutkan wilayah pesisir utara tepatnya di permukiman Pantai Tanjung Pasir, Kecamatan Teluknaga terendam akibat adanya cuaca buruk yang melanda daerah itu.  \"Hari ini Minggu (25/12) terjadi ombak besar dan angin kencang, hingga air laut naik ke daratan, ruas jalan dan rumah penduduk direndam air sekitar 40 centimeter,\" kata Kepala Bidang Kedaruratan dan Logistik BPBD Kabupaten Tangerang, Abdul Munir di Tangerang, Minggu, 25 Desember 2022.  Ia menjelaskan, banjir yang dipicu oleh luapan air laut tersebut terjadi sejak pukul 08.00 WIB, dan surut pada pukul 16.00 WIB.  Akan tetapi, BPBD Kabupaten Tangerang tidak merincikan jumlah total rumah yang terdampak dari adanya cuaca buruk tersebut.  \"Setelah ada laporan kami langsung terjunkan personel dari pos Damkar Kosambi untuk lakukan pada pukul 13.00 WIB, di Pantai Tanjung Pasir dihantam ombak disertai angin kencang,\" katanya.  Ia menyebutkan, personil yang melakukan di lokasi, langsung berkoordinasi dengan Pangkalan Utama TNI Angkatan Laut sebagai langkah mitigasi kebencanaan.  Kemudian, pihaknya mengimbau agar masyarakat yang beraktivitas di Pantai Tanjung Pasir agar berhati-hati. Karena saat ini dalam menghadapi bulan baru akan rawan terjadinya cuaca buruk.  \"Perahu penyeberangan wisata Tanjung Pasir dan Pulau Untung Jawa untuk sementara tidak beraktivitas, hingga kondisi cuaca kondusif/stabil,\" kata dia.\" → [\"\\-\"/PUNCT, \"Badan\"/PROPN, \"Penanggulangan\"/PROPN, \"Bencana\"/PROPN, \"Daerah\"/PROPN, \"(\"/PUNCT, \"BPBD\"/PROPN, \")\"/PUNCT, \"Kabupaten\"/PROPN, \"Tangerang\"/PROPN, \",\"/PUNCT, \"Banten\"/PROPN, \"menyebutkan\"/VERB, \"wilayah\"/NOUN, \"pesisir\"/NOUN, \"utara\"/NOUN, \"tepatnya\"/ADV, \"di\"/ADP, \"permukiman\"/NOUN, \"Pantai\"/PROPN, \"Tanjung\"/PROPN, \"Pasir\"/PROPN, \",\"/PUNCT, \"Kecamatan\"/PROPN, \"Teluknaga\"/PROPN, \"terendam\"/VERB, \"akibat\"/NOUN, \"adanya\"/VERB, \"cuaca\"/NOUN, \"buruk\"/ADJ, \"yang\"/PRON, \"melanda\"/VERB, \"daerah\"/NOUN, \"itu\"/DET, \".\"/PUNCT, \"\"\"/PUNCT, \"Hari\"/NOUN, \"ini\"/DET, \"Minggu\"/PROPN, \"(\"/PUNCT, \"25\"/NUM, \"/\"/PUNCT, \"12\"/NUM, \")\"/PUNCT, \"terjadi\"/VERB, \"ombak\"/NOUN, \"besar\"/ADJ, \"dan\"/CCONJ, \"angin\"/NOUN, \"kencang\"/ADJ, \",\"/PUNCT, \"hingga\"/ADP, \"air\"/NOUN, \"laut\"/NOUN, \"naik\"/VERB, \"ke\"/ADP, \"daratan\"/NOUN, \",\"/PUNCT, \"ruas\"/NOUN, \"jalan\"/NOUN, \"dan\"/CCONJ, \"rumah\"/NOUN, \"penduduk\"/NOUN, \"direndam\"/VERB, \"air\"/NOUN, \"sekitar\"/ADP, \"40\"/NUM, \"centimeter\"/NOUN, \",\"\"/PUNCT, \"kata\"/NOUN, \"Kepala\"/NOUN, \"Bidang\"/PROPN, \"Kedaruratan\"/PROPN, \"dan\"/CCONJ, \"Logistik\"/PROPN, \"BPBD\"/PROPN, \"Kabupaten\"/PROPN, \"Tangerang\"/PROPN, \",\"/PUNCT, \"Abdul\"/PROPN, \"Munir\"/PROPN, \"di\"/ADP, \"Tangerang\"/PROPN, \",\"/PUNCT, \"Minggu\"/PROPN, \",\"/PUNCT, \"25\"/NUM, \"Desember\"/PROPN, \"2022\"/NUM, \".\"/PUNCT, \"Ia\"/PRON, \"menjelaskan\"/VERB, \",\"/PUNCT, \"banjir\"/NOUN, \"yang\"/PRON, \"dipicu\"/VERB, \"oleh\"/ADP, \"luapan\"/NOUN, \"air\"/NOUN, \"laut\"/NOUN, \"tersebut\"/DET, \"terjadi\"/VERB, \"sejak\"/ADP, \"pukul\"/NOUN, \"08.00\"/NUM, \"WIB\"/PROPN, \",\"/PUNCT, \"dan\"/CCONJ, \"surut\"/VERB, \"pada\"/ADP, \"pukul\"/NOUN, \"16.00\"/NUM, \"WIB\"/PROPN, \".\"/PUNCT, \"Akan\"/AUX, \"tetapi\"/CCONJ, \",\"/PUNCT, \"BPBD\"/PROPN, \"Kabupaten\"/PROPN, \"Tangerang\"/PROPN, \"tidak\"/PART, \"merincikan\"/VERB, \"jumlah\"/NOUN, \"total\"/NOUN, \"rumah\"/NOUN, \"yang\"/PRON, \"terdampak\"/VERB, \"dari\"/SCONJ, \"adanya\"/VERB, \"cuaca\"/NOUN, \"buruk\"/ADJ, \"tersebut\"/DET, \".\"/PUNCT, \"\"\"/PUNCT, \"Setelah\"/SCONJ, \"ada\"/VERB, \"laporan\"/NOUN, \"kami\"/PRON, \"langsung\"/ADV, \"terjunkan\"/VERB, \"personel\"/NOUN, \"dari\"/ADP, \"pos\"/NOUN, \"Damkar\"/PROPN, \"Kosambi\"/PROPN, \"untuk\"/SCONJ, \"lakukan\"/VERB, \"pada\"/ADP, \"pukul\"/NOUN, \"13.00\"/NUM, \"WIB\"/PROPN, \",\"/PUNCT, \"di\"/ADP, \"Pantai\"/PROPN, \"Tanjung\"/PROPN, \"Pasir\"/PROPN, \"dihantam\"/VERB, \"ombak\"/NOUN, \"disertai\"/VERB, \"angin\"/NOUN, \"kencang\"/ADJ, \",\"\"/PUNCT, \"katanya\"/ADV, \".\"/PUNCT, \"Ia\"/PRON, \"menyebutkan\"/VERB, \",\"/PUNCT, \"personil\"/NOUN, \"yang\"/PRON, \"melakukan\"/VERB, \"di\"/ADP, \"lokasi\"/NOUN, \",\"/PUNCT, \"langsung\"/ADV, \"berkoordinasi\"/VERB, \"dengan\"/ADP, \"Pangkalan\"/PROPN, \"Utama\"/PROPN, \"TNI\"/PROPN, \"Angkatan\"/PROPN, \"Laut\"/PROPN, \"sebagai\"/ADP, \"langkah\"/NOUN, \"mitigasi\"/NOUN, \"kebencanaan\"/NOUN, \".\"/PUNCT, \"Kemudian\"/ADV, \",\"/PUNCT, \"pihaknya\"/NOUN, \"mengimbau\"/VERB, \"agar\"/ADP, \"masyarakat\"/NOUN, \"yang\"/PRON, \"beraktivitas\"/VERB, \"di\"/ADP, \"Pantai\"/PROPN, \"Tanjung\"/PROPN, \"Pasir\"/PROPN, \"agar\"/SCONJ, \"berhati-hati\"/VERB, \".\"/PUNCT, \"Karena\"/SCONJ, \"saat\"/NOUN, \"ini\"/DET, \"dalam\"/ADP, \"menghadapi\"/VERB, \"bulan\"/NOUN, \"baru\"/ADJ, \"akan\"/AUX, \"rawan\"/NOUN, \"terjadinya\"/VERB, \"cuaca\"/NOUN, \"buruk\"/ADJ, \".\"/PUNCT, \"\"\"/PUNCT, \"Perahu\"/NOUN, \"penyeberangan\"/NOUN, \"wisata\"/NOUN, \"Tanjung\"/PROPN, \"Pasir\"/PROPN, \"dan\"/CCONJ, \"Pulau\"/PROPN, \"Untung\"/PROPN, \"Jawa\"/PROPN, \"untuk\"/SCONJ, \"sementara\"/ADV, \"tidak\"/PART, \"beraktivitas\"/VERB, \",\"/PUNCT, \"hingga\"/ADP, \"kondisi\"/NOUN, \"cuaca\"/NOUN, \"kondusif\"/ADJ, \"/\"/PUNCT, \"stabil\"/ADJ, \",\"\"/PUNCT, \"kata\"/NOUN, \"dia\"/PRON, \".\"/PUNCT]\n",
      "25/12/2022\n",
      "\\- Kebakaran hebat melanda permukiman padat penduduk di kawasan Lorong Tahu, Mardika, Kecamatan Sirimau, Kota Ambon, Maluku, Jumat (9/12/2022) dini hari.  Kebakaran tersebut ikut menghanguskan ratusan kios, lapak serta bangunan kos- kosan dan juga rumah warga di kawasan itu.  Selain itu, api yang merembet cepat juga ikut membakar kompleks penjualan pakaian bekas yang berada di lokasi yang berdekatan.  Warga setempat sempat berusaha memadamkan kobaran api dengan memanfaatkan air dari sungai Batu Merah. Namun, kebakaran sulit dipadamkan karena api terus merembet dengan cepat lantaran banyak bangunan yang terbuat dari bahan yang mudah terbakar.  Pantauan _Kompas.com_ di lokasi kebakaran, hingga pukul 11.00 WIT petugas pemadam kebakaran masih terus memadamkan titik-titik api. Sememtara, ratusan warga yang rumah dan tempat usahnya terbakar masih tetap berada di lokasi tersebut.  Hadi, seorang warga yang menjadi korban, mengaku, insiden kebakaran itu terjadi sekira pukul 04.00 WIT.  \"Saya dengar ada suara ribut-ribut saat saya mau ke masjid ternyata ada kebakaran,\" katanya.  Hadi mengaku, saat kebakaran mulai membesar, ia langsung memilih kembali ke rumah dan membawa istri dan anaknya keluar dari rumah mereka.  \"Kami keluar hanya dengan membawa surat-surat penting dan pakaian di badan, barang-barang lain semua terbakar,\" katanya.  Kebakaran baru berhasil dipadamkan setelah lima jam petugas pemadam kebakaran berusaha memadamkan api. Petugas pemadam kebakaran dibantu oleh warga.  Sejauh ini, polisi belum dapat memastikan penyebab kebakaran tersebut.  Saat ini polisi telah memasang garis polisi di lokasi kebakaran untuk kepentingan penyelidikan.   \n",
      "Sentence[276]: \"\\- Kebakaran hebat melanda permukiman padat penduduk di kawasan Lorong Tahu, Mardika, Kecamatan Sirimau, Kota Ambon, Maluku, Jumat (9/12/2022) dini hari.  Kebakaran tersebut ikut menghanguskan ratusan kios, lapak serta bangunan kos- kosan dan juga rumah warga di kawasan itu.  Selain itu, api yang merembet cepat juga ikut membakar kompleks penjualan pakaian bekas yang berada di lokasi yang berdekatan.  Warga setempat sempat berusaha memadamkan kobaran api dengan memanfaatkan air dari sungai Batu Merah. Namun, kebakaran sulit dipadamkan karena api terus merembet dengan cepat lantaran banyak bangunan yang terbuat dari bahan yang mudah terbakar.  Pantauan _Kompas.com_ di lokasi kebakaran, hingga pukul 11.00 WIT petugas pemadam kebakaran masih terus memadamkan titik-titik api. Sememtara, ratusan warga yang rumah dan tempat usahnya terbakar masih tetap berada di lokasi tersebut.  Hadi, seorang warga yang menjadi korban, mengaku, insiden kebakaran itu terjadi sekira pukul 04.00 WIT.  \"Saya dengar ada suara ribut-ribut saat saya mau ke masjid ternyata ada kebakaran,\" katanya.  Hadi mengaku, saat kebakaran mulai membesar, ia langsung memilih kembali ke rumah dan membawa istri dan anaknya keluar dari rumah mereka.  \"Kami keluar hanya dengan membawa surat-surat penting dan pakaian di badan, barang-barang lain semua terbakar,\" katanya.  Kebakaran baru berhasil dipadamkan setelah lima jam petugas pemadam kebakaran berusaha memadamkan api. Petugas pemadam kebakaran dibantu oleh warga.  Sejauh ini, polisi belum dapat memastikan penyebab kebakaran tersebut.  Saat ini polisi telah memasang garis polisi di lokasi kebakaran untuk kepentingan penyelidikan.\" → [\"\\-\"/PUNCT, \"Kebakaran\"/NOUN, \"hebat\"/ADJ, \"melanda\"/VERB, \"permukiman\"/NOUN, \"padat\"/ADJ, \"penduduk\"/NOUN, \"di\"/ADP, \"kawasan\"/NOUN, \"Lorong\"/PROPN, \"Tahu\"/PROPN, \",\"/PUNCT, \"Mardika\"/PROPN, \",\"/PUNCT, \"Kecamatan\"/PROPN, \"Sirimau\"/PROPN, \",\"/PUNCT, \"Kota\"/PROPN, \"Ambon\"/PROPN, \",\"/PUNCT, \"Maluku\"/PROPN, \",\"/PUNCT, \"Jumat\"/PROPN, \"(\"/PUNCT, \"9\"/NUM, \"/\"/PUNCT, \"12\"/NUM, \"/\"/PUNCT, \"2022\"/NUM, \")\"/PUNCT, \"dini\"/NOUN, \"hari\"/NOUN, \".\"/PUNCT, \"Kebakaran\"/NOUN, \"tersebut\"/DET, \"ikut\"/VERB, \"menghanguskan\"/VERB, \"ratusan\"/NOUN, \"kios\"/NOUN, \",\"/PUNCT, \"lapak\"/NOUN, \"serta\"/CCONJ, \"bangunan\"/NOUN, \"kos\"/NOUN, \"-\"/PUNCT, \"kosan\"/NOUN, \"dan\"/CCONJ, \"juga\"/ADV, \"rumah\"/NOUN, \"warga\"/NOUN, \"di\"/ADP, \"kawasan\"/NOUN, \"itu\"/DET, \".\"/PUNCT, \"Selain\"/ADP, \"itu\"/DET, \",\"/PUNCT, \"api\"/NOUN, \"yang\"/PRON, \"merembet\"/VERB, \"cepat\"/ADJ, \"juga\"/ADV, \"ikut\"/VERB, \"membakar\"/VERB, \"kompleks\"/NOUN, \"penjualan\"/NOUN, \"pakaian\"/NOUN, \"bekas\"/NOUN, \"yang\"/PRON, \"berada\"/VERB, \"di\"/ADP, \"lokasi\"/NOUN, \"yang\"/PRON, \"berdekatan\"/VERB, \".\"/PUNCT, \"Warga\"/NOUN, \"setempat\"/ADJ, \"sempat\"/ADV, \"berusaha\"/VERB, \"memadamkan\"/VERB, \"kobaran\"/NOUN, \"api\"/NOUN, \"dengan\"/SCONJ, \"memanfaatkan\"/VERB, \"air\"/NOUN, \"dari\"/ADP, \"sungai\"/NOUN, \"Batu\"/PROPN, \"Merah\"/PROPN, \".\"/PUNCT, \"Namun\"/ADV, \",\"/PUNCT, \"kebakaran\"/NOUN, \"sulit\"/ADJ, \"dipadamkan\"/VERB, \"karena\"/SCONJ, \"api\"/NOUN, \"terus\"/ADV, \"merembet\"/VERB, \"dengan\"/SCONJ, \"cepat\"/ADJ, \"lantaran\"/SCONJ, \"banyak\"/DET, \"bangunan\"/NOUN, \"yang\"/PRON, \"terbuat\"/VERB, \"dari\"/ADP, \"bahan\"/NOUN, \"yang\"/PRON, \"mudah\"/ADJ, \"terbakar\"/VERB, \".\"/PUNCT, \"Pantauan\"/PROPN, \"_\"/PUNCT, \"Kompas.com\"/PROPN, \"_\"/PUNCT, \"di\"/ADP, \"lokasi\"/NOUN, \"kebakaran\"/NOUN, \",\"/PUNCT, \"hingga\"/ADP, \"pukul\"/NOUN, \"11.00\"/NUM, \"WIT\"/NOUN, \"petugas\"/NOUN, \"pemadam\"/NOUN, \"kebakaran\"/NOUN, \"masih\"/ADV, \"terus\"/ADV, \"memadamkan\"/VERB, \"titik-titik\"/NOUN, \"api\"/NOUN, \".\"/PUNCT, \"Sememtara\"/PROPN, \",\"/PUNCT, \"ratusan\"/DET, \"warga\"/NOUN, \"yang\"/PRON, \"rumah\"/NOUN, \"dan\"/CCONJ, \"tempat\"/NOUN, \"usahnya\"/ADV, \"terbakar\"/VERB, \"masih\"/ADV, \"tetap\"/ADV, \"berada\"/VERB, \"di\"/ADP, \"lokasi\"/NOUN, \"tersebut\"/DET, \".\"/PUNCT, \"Hadi\"/PROPN, \",\"/PUNCT, \"seorang\"/DET, \"warga\"/NOUN, \"yang\"/PRON, \"menjadi\"/VERB, \"korban\"/NOUN, \",\"/PUNCT, \"mengaku\"/VERB, \",\"/PUNCT, \"insiden\"/NOUN, \"kebakaran\"/NOUN, \"itu\"/DET, \"terjadi\"/VERB, \"sekira\"/ADV, \"pukul\"/NOUN, \"04.00\"/NUM, \"WIT\"/PROPN, \".\"/PUNCT, \"\"\"/PUNCT, \"Saya\"/PRON, \"dengar\"/VERB, \"ada\"/VERB, \"suara\"/NOUN, \"ribut-ribut\"/NOUN, \"saat\"/SCONJ, \"saya\"/PRON, \"mau\"/VERB, \"ke\"/ADP, \"masjid\"/NOUN, \"ternyata\"/ADV, \"ada\"/VERB, \"kebakaran\"/NOUN, \",\"\"/PUNCT, \"katanya\"/ADV, \".\"/PUNCT, \"Hadi\"/PROPN, \"mengaku\"/VERB, \",\"/PUNCT, \"saat\"/SCONJ, \"kebakaran\"/NOUN, \"mulai\"/ADV, \"membesar\"/VERB, \",\"/PUNCT, \"ia\"/PRON, \"langsung\"/ADV, \"memilih\"/VERB, \"kembali\"/VERB, \"ke\"/ADP, \"rumah\"/NOUN, \"dan\"/CCONJ, \"membawa\"/VERB, \"istri\"/NOUN, \"dan\"/CCONJ, \"anaknya\"/NOUN, \"keluar\"/VERB, \"dari\"/ADP, \"rumah\"/NOUN, \"mereka\"/PRON, \".\"/PUNCT, \"\"\"/PUNCT, \"Kami\"/PRON, \"keluar\"/VERB, \"hanya\"/ADV, \"dengan\"/SCONJ, \"membawa\"/VERB, \"surat-surat\"/NOUN, \"penting\"/ADJ, \"dan\"/CCONJ, \"pakaian\"/NOUN, \"di\"/ADP, \"badan\"/NOUN, \",\"/PUNCT, \"barang-barang\"/NOUN, \"lain\"/ADJ, \"semua\"/DET, \"terbakar\"/VERB, \",\"\"/PUNCT, \"katanya\"/ADV, \".\"/PUNCT, \"Kebakaran\"/NOUN, \"baru\"/ADJ, \"berhasil\"/VERB, \"dipadamkan\"/VERB, \"setelah\"/ADP, \"lima\"/NUM, \"jam\"/NOUN, \"petugas\"/NOUN, \"pemadam\"/NOUN, \"kebakaran\"/NOUN, \"berusaha\"/VERB, \"memadamkan\"/VERB, \"api\"/NOUN, \".\"/PUNCT, \"Petugas\"/NOUN, \"pemadam\"/NOUN, \"kebakaran\"/NOUN, \"dibantu\"/VERB, \"oleh\"/ADP, \"warga\"/NOUN, \".\"/PUNCT, \"Sejauh\"/NOUN, \"ini\"/DET, \",\"/PUNCT, \"polisi\"/NOUN, \"belum\"/PART, \"dapat\"/AUX, \"memastikan\"/VERB, \"penyebab\"/NOUN, \"kebakaran\"/NOUN, \"tersebut\"/DET, \".\"/PUNCT, \"Saat\"/NOUN, \"ini\"/DET, \"polisi\"/NOUN, \"telah\"/AUX, \"memasang\"/VERB, \"garis\"/NOUN, \"polisi\"/NOUN, \"di\"/ADP, \"lokasi\"/NOUN, \"kebakaran\"/NOUN, \"untuk\"/ADP, \"kepentingan\"/NOUN, \"penyelidikan\"/NOUN, \".\"/PUNCT]\n",
      "09/12/2022\n",
      "Sebuah bangunan vila milik warga negara Perancis, TF (69), di Jalan Tundun Penyu, Banjar Bakung Sari, Desa Ungasan, Kecamatan Kuta Selatan, Kabupaten Badung, Bali, dilanda kebakaran pada Kamis (8/12/2022) sekitar pukul 21.00 Wita.  Kepala Seksi Humas Polresta Denpasar Iptu I Ketut Sukadi mengatakan, api diduga berasal dari korsleting pada alat pengisap asap yang terletak di dapur vila tersebut.  Dalam peristiwa tersebut, satu bangunan vila yang berisi dua televisi, tiga AC, satu kulkas, dan tiga tempat tidur ludes dilalap api.  \"Untuk kerugian masih belum bisa ditentukan,\" kata dia dalam keterangan tertulis pada Jumat (9/12/2022).  Sukadi mengatakan, kejadian tersebut awalnya diketahui seorang saksi bernama I Ketut Salak (46), yang bekerja sebagai petugas sekuriti di vila.  Saat itu, saksi diberitahu oleh seorang penghuni yang melihat asap dari salah satu ruangan di vila tersebut.  Dia kemudian mendatangi bangunan vila itu dan ternyata sedang ditinggalkan oleh penghuninya.  Dalam keadaan panik, dia berusaha masuk ke dalam vila untuk memadamkan. Namun, dalam seketika api sudah menjalar ke bagian atap vila tersebut.  Saksi kemudian melaporkan kejadian tersebut ke aparat setempat melalui _handy talky_ agar segera menghubungi petugas pemadam kebakaran Kabupaten Badung.  \"Pukul 21.30 Wita, 12 unit damkar Kabupaten Badung dan ITDC Nusa Dua tiba di lokasi untuk memadamkan api,\" kata dia.  Setelah petugas bersama warga berjibaku selama lebih kurang tiga jam, api akhirnya berhasil dipadamkan pada pukul 24.00 Wita.   \n",
      "Sentence[275]: \"Sebuah bangunan vila milik warga negara Perancis, TF (69), di Jalan Tundun Penyu, Banjar Bakung Sari, Desa Ungasan, Kecamatan Kuta Selatan, Kabupaten Badung, Bali, dilanda kebakaran pada Kamis (8/12/2022) sekitar pukul 21.00 Wita.  Kepala Seksi Humas Polresta Denpasar Iptu I Ketut Sukadi mengatakan, api diduga berasal dari korsleting pada alat pengisap asap yang terletak di dapur vila tersebut.  Dalam peristiwa tersebut, satu bangunan vila yang berisi dua televisi, tiga AC, satu kulkas, dan tiga tempat tidur ludes dilalap api.  \"Untuk kerugian masih belum bisa ditentukan,\" kata dia dalam keterangan tertulis pada Jumat (9/12/2022).  Sukadi mengatakan, kejadian tersebut awalnya diketahui seorang saksi bernama I Ketut Salak (46), yang bekerja sebagai petugas sekuriti di vila.  Saat itu, saksi diberitahu oleh seorang penghuni yang melihat asap dari salah satu ruangan di vila tersebut.  Dia kemudian mendatangi bangunan vila itu dan ternyata sedang ditinggalkan oleh penghuninya.  Dalam keadaan panik, dia berusaha masuk ke dalam vila untuk memadamkan. Namun, dalam seketika api sudah menjalar ke bagian atap vila tersebut.  Saksi kemudian melaporkan kejadian tersebut ke aparat setempat melalui _handy talky_ agar segera menghubungi petugas pemadam kebakaran Kabupaten Badung.  \"Pukul 21.30 Wita, 12 unit damkar Kabupaten Badung dan ITDC Nusa Dua tiba di lokasi untuk memadamkan api,\" kata dia.  Setelah petugas bersama warga berjibaku selama lebih kurang tiga jam, api akhirnya berhasil dipadamkan pada pukul 24.00 Wita.\" → [\"Sebuah\"/DET, \"bangunan\"/NOUN, \"vila\"/NOUN, \"milik\"/NOUN, \"warga\"/NOUN, \"negara\"/NOUN, \"Perancis\"/PROPN, \",\"/PUNCT, \"TF\"/PROPN, \"(\"/PUNCT, \"69\"/NUM, \")\"/PUNCT, \",\"/PUNCT, \"di\"/ADP, \"Jalan\"/PROPN, \"Tundun\"/PROPN, \"Penyu\"/PROPN, \",\"/PUNCT, \"Banjar\"/PROPN, \"Bakung\"/PROPN, \"Sari\"/PROPN, \",\"/PUNCT, \"Desa\"/PROPN, \"Ungasan\"/PROPN, \",\"/PUNCT, \"Kecamatan\"/PROPN, \"Kuta\"/PROPN, \"Selatan\"/PROPN, \",\"/PUNCT, \"Kabupaten\"/PROPN, \"Badung\"/PROPN, \",\"/PUNCT, \"Bali\"/PROPN, \",\"/PUNCT, \"dilanda\"/VERB, \"kebakaran\"/NOUN, \"pada\"/ADP, \"Kamis\"/PROPN, \"(\"/PUNCT, \"8\"/NUM, \"/\"/PUNCT, \"12\"/NUM, \"/\"/PUNCT, \"2022\"/NUM, \")\"/PUNCT, \"sekitar\"/ADP, \"pukul\"/NOUN, \"21.00\"/NUM, \"Wita\"/PROPN, \".\"/PUNCT, \"Kepala\"/PROPN, \"Seksi\"/PROPN, \"Humas\"/PROPN, \"Polresta\"/PROPN, \"Denpasar\"/PROPN, \"Iptu\"/PROPN, \"I\"/NUM, \"Ketut\"/PROPN, \"Sukadi\"/PROPN, \"mengatakan\"/VERB, \",\"/PUNCT, \"api\"/NOUN, \"diduga\"/ADV, \"berasal\"/VERB, \"dari\"/ADP, \"korsleting\"/NOUN, \"pada\"/ADP, \"alat\"/NOUN, \"pengisap\"/NOUN, \"asap\"/NOUN, \"yang\"/PRON, \"terletak\"/VERB, \"di\"/ADP, \"dapur\"/NOUN, \"vila\"/NOUN, \"tersebut\"/DET, \".\"/PUNCT, \"Dalam\"/ADP, \"peristiwa\"/NOUN, \"tersebut\"/DET, \",\"/PUNCT, \"satu\"/NUM, \"bangunan\"/NOUN, \"vila\"/NOUN, \"yang\"/PRON, \"berisi\"/VERB, \"dua\"/NUM, \"televisi\"/NOUN, \",\"/PUNCT, \"tiga\"/NUM, \"AC\"/PROPN, \",\"/PUNCT, \"satu\"/NUM, \"kulkas\"/NOUN, \",\"/PUNCT, \"dan\"/CCONJ, \"tiga\"/NUM, \"tempat\"/NOUN, \"tidur\"/NOUN, \"ludes\"/NOUN, \"dilalap\"/VERB, \"api\"/NOUN, \".\"/PUNCT, \"\"\"/PUNCT, \"Untuk\"/ADP, \"kerugian\"/NOUN, \"masih\"/ADV, \"belum\"/PART, \"bisa\"/AUX, \"ditentukan\"/VERB, \",\"\"/PUNCT, \"kata\"/NOUN, \"dia\"/PRON, \"dalam\"/ADP, \"keterangan\"/NOUN, \"tertulis\"/VERB, \"pada\"/ADP, \"Jumat\"/PROPN, \"(\"/PUNCT, \"9\"/NUM, \"/\"/PUNCT, \"12\"/NUM, \"/\"/PUNCT, \"2022\"/NUM, \")\"/PUNCT, \".\"/PUNCT, \"Sukadi\"/PROPN, \"mengatakan\"/VERB, \",\"/PUNCT, \"kejadian\"/NOUN, \"tersebut\"/DET, \"awalnya\"/ADV, \"diketahui\"/VERB, \"seorang\"/DET, \"saksi\"/NOUN, \"bernama\"/VERB, \"I\"/PROPN, \"Ketut\"/PROPN, \"Salak\"/PROPN, \"(\"/PUNCT, \"46\"/NUM, \")\"/PUNCT, \",\"/PUNCT, \"yang\"/PRON, \"bekerja\"/VERB, \"sebagai\"/ADP, \"petugas\"/NOUN, \"sekuriti\"/NOUN, \"di\"/ADP, \"vila\"/NOUN, \".\"/PUNCT, \"Saat\"/NOUN, \"itu\"/DET, \",\"/PUNCT, \"saksi\"/NOUN, \"diberitahu\"/VERB, \"oleh\"/ADP, \"seorang\"/DET, \"penghuni\"/NOUN, \"yang\"/PRON, \"melihat\"/VERB, \"asap\"/NOUN, \"dari\"/ADP, \"salah\"/ADJ, \"satu\"/NUM, \"ruangan\"/NOUN, \"di\"/ADP, \"vila\"/NOUN, \"tersebut\"/DET, \".\"/PUNCT, \"Dia\"/PRON, \"kemudian\"/ADV, \"mendatangi\"/VERB, \"bangunan\"/NOUN, \"vila\"/NOUN, \"itu\"/DET, \"dan\"/CCONJ, \"ternyata\"/ADV, \"sedang\"/AUX, \"ditinggalkan\"/VERB, \"oleh\"/ADP, \"penghuninya\"/NOUN, \".\"/PUNCT, \"Dalam\"/ADP, \"keadaan\"/NOUN, \"panik\"/ADJ, \",\"/PUNCT, \"dia\"/PRON, \"berusaha\"/VERB, \"masuk\"/VERB, \"ke\"/ADP, \"dalam\"/ADP, \"vila\"/NOUN, \"untuk\"/SCONJ, \"memadamkan\"/VERB, \".\"/PUNCT, \"Namun\"/ADV, \",\"/PUNCT, \"dalam\"/ADP, \"seketika\"/NOUN, \"api\"/NOUN, \"sudah\"/AUX, \"menjalar\"/VERB, \"ke\"/ADP, \"bagian\"/NOUN, \"atap\"/NOUN, \"vila\"/NOUN, \"tersebut\"/DET, \".\"/PUNCT, \"Saksi\"/PROPN, \"kemudian\"/ADV, \"melaporkan\"/VERB, \"kejadian\"/NOUN, \"tersebut\"/DET, \"ke\"/ADP, \"aparat\"/NOUN, \"setempat\"/ADJ, \"melalui\"/VERB, \"_\"/PUNCT, \"handy\"/PROPN, \"talky\"/PROPN, \"_\"/PUNCT, \"agar\"/SCONJ, \"segera\"/ADV, \"menghubungi\"/VERB, \"petugas\"/NOUN, \"pemadam\"/NOUN, \"kebakaran\"/NOUN, \"Kabupaten\"/PROPN, \"Badung\"/PROPN, \".\"/PUNCT, \"\"\"/PUNCT, \"Pukul\"/NOUN, \"21.30\"/NUM, \"Wita\"/PROPN, \",\"/PUNCT, \"12\"/NUM, \"unit\"/NOUN, \"damkar\"/PROPN, \"Kabupaten\"/PROPN, \"Badung\"/PROPN, \"dan\"/CCONJ, \"ITDC\"/PROPN, \"Nusa\"/PROPN, \"Dua\"/NUM, \"tiba\"/VERB, \"di\"/ADP, \"lokasi\"/NOUN, \"untuk\"/SCONJ, \"memadamkan\"/VERB, \"api\"/NOUN, \",\"\"/PUNCT, \"kata\"/NOUN, \"dia\"/PRON, \".\"/PUNCT, \"Setelah\"/ADP, \"petugas\"/NOUN, \"bersama\"/ADP, \"warga\"/NOUN, \"berjibaku\"/VERB, \"selama\"/ADP, \"lebih\"/ADV, \"kurang\"/ADV, \"tiga\"/NUM, \"jam\"/NOUN, \",\"/PUNCT, \"api\"/NOUN, \"akhirnya\"/ADV, \"berhasil\"/VERB, \"dipadamkan\"/VERB, \"pada\"/ADP, \"pukul\"/NOUN, \"24.00\"/NUM, \"Wita\"/PROPN, \".\"/PUNCT]\n",
      "08/12/2022\n"
     ]
    }
   ],
   "source": [
    "from flair.data import Sentence\n",
    "from flair.models import SequenceTagger\n",
    "from datetime import datetime\n",
    "\n",
    "len_docs = 20\n",
    "start = 0\n",
    "# len_docs = len(news)\n",
    "# print(len_docs)\n",
    "\n",
    "excluded_idx = [0]\n",
    "\n",
    "# tag_pos = SequenceTagger.load(model_location + 'best-model.pt')\n",
    "\n",
    "# find date\n",
    "for i in range(start, start+len_docs):\n",
    "    if i in excluded_idx:\n",
    "        continue\n",
    "    text = news['berita_desc'].iloc[i]\n",
    "    preprocessed_text = preprocessing(text, result='asis')\n",
    "    print(preprocessed_text)\n",
    "    # print(news['berita_title'].iloc[i])\n",
    "    sentence = Sentence(preprocessed_text)\n",
    "    tag_pos.predict(sentence)\n",
    "    print(sentence.to_tagged_string())\n",
    "    hari, tgl, bulan, tahun = find_date(sentence)\n",
    "    # print(hari)\n",
    "    # print(tgl)\n",
    "    # print(bulan)\n",
    "    # print(tahun)\n",
    "    if hari:\n",
    "        idx = -1\n",
    "        for j in range(len(tahun)):\n",
    "            if tahun[j] != -1:\n",
    "                tahun = tahun[j]\n",
    "                idx = j\n",
    "                break\n",
    "        if idx == -1:\n",
    "            tahun = datetime.strptime(news['berita_qdate'].iloc[i], f'%Y-%m-%d %H:%M:%S').year\n",
    "            tgl = tgl[0]\n",
    "            bulan = bulan[0]\n",
    "        else:\n",
    "            tgl = tgl[idx]\n",
    "            bulan = bulan[idx]\n",
    "        print(write_date(tgl, bulan, tahun))\n",
    "    else:\n",
    "        print('-----')\n",
    "\n",
    "        \n"
   ]
  },
  {
   "cell_type": "code",
   "execution_count": 63,
   "metadata": {},
   "outputs": [
    {
     "name": "stdout",
     "output_type": "stream",
     "text": [
      "2022-12-26 00:00:00\n",
      "<class 'str'>\n",
      "The type of the date is now <class 'datetime.datetime'>\n",
      "The date is 2022\n"
     ]
    }
   ],
   "source": [
    "# print(sentence.to_tagged_string())\n",
    "print(news['berita_qdate'].iloc[1])\n",
    "print(type(news['berita_qdate'].iloc[1]))\n",
    "\n",
    "from datetime import datetime\n",
    "\n",
    "date_time_obj = datetime.strptime(news['berita_qdate'].iloc[1], f'%Y-%m-%d %H:%M:%S')\n",
    "\n",
    "\n",
    "print (\"The type of the date is now\",  type(date_time_obj))\n",
    "print (\"The date is\", date_time_obj.year)"
   ]
  },
  {
   "cell_type": "code",
   "execution_count": 10,
   "metadata": {},
   "outputs": [
    {
     "data": {
      "text/plain": [
       "139"
      ]
     },
     "execution_count": 10,
     "metadata": {},
     "output_type": "execute_result"
    }
   ],
   "source": [
    "len(sentence)"
   ]
  },
  {
   "cell_type": "code",
   "execution_count": 40,
   "metadata": {},
   "outputs": [
    {
     "name": "stdout",
     "output_type": "stream",
     "text": [
      "<class 'str'>\n",
      "NOUN\n",
      "139\n",
      "PROPN\tPUNCT\tPROPN\tPROPN\tPUNCT\t\n",
      "Prapatan\t,\tJakarta\tSelatan\t,\t\n",
      "PROPN\tPUNCT\tPROPN\tPUNCT\tNUM\t\n",
      "Selatan\t,\tSenin\t(\t26\t\n",
      "PROPN\tPUNCT\tPROPN\tPROPN\tVERB\t\n",
      "Selatan\t,\tMoch\tArief\tmengatakan\t\n",
      "NOUN\tPUNCT\tPROPN\tPROPN\tPUNCT\t\n",
      "warga\t,\tIbu\tNike\t,\"\t\n",
      "PROPN\tPUNCT\tPROPN\tPROPN\tSCONJ\t\n",
      "Nike\t,\"\tujar\tArief\tsaat\t\n",
      "VERB\tPUNCT\tPROPN\tPUNCT\tPROPN\t\n",
      "dikonfirmasi\t,\tSenin\t.\tArief\t\n",
      "PROPN\tPUNCT\tPROPN\tVERB\tPUNCT\t\n",
      "Senin\t.\tArief\tmengatakan\t,\t\n"
     ]
    }
   ],
   "source": [
    "print(type(sentence.tokens[1].text))\n",
    "print((sentence.tokens[1].tag))\n",
    "\n",
    "print(len(sentence))\n",
    "\n",
    "for i in range(2, len(sentence)-2):\n",
    "    res_propn = []\n",
    "    if sentence.tokens[i].tag == 'PROPN':\n",
    "        start = i-2\n",
    "        check_text = []\n",
    "        check_tag = []\n",
    "        for j in range(5):\n",
    "            check_tag.append(sentence.tokens[start+j].tag)\n",
    "            check_text.append(sentence.tokens[start+j].text)\n",
    "        if check_propn(check_tag, check_text):\n",
    "            continue\n",
    "        the_text = \"\"\n",
    "        the_tag = \"\"\n",
    "        start = i-2\n",
    "        for j in range(5):\n",
    "            the_tag += sentence.tokens[start+j].tag + \"\\t\"\n",
    "            the_text += sentence.tokens[start+j].text + \"\\t\"\n",
    "        print(the_tag)\n",
    "        print(the_text)\n",
    "        res_propn.append(sentence.tokens[i].text)\n",
    "        # print(sentence.tokens[i-2:i+3])"
   ]
  },
  {
   "cell_type": "code",
   "execution_count": 32,
   "metadata": {},
   "outputs": [
    {
     "name": "stdout",
     "output_type": "stream",
     "text": [
      "Sentence[2]: \"jalan kaki\" → [\"jalan\"/NOUN, \"kaki\"/NOUN]\n"
     ]
    }
   ],
   "source": [
    "text = 'jalan kaki'\n",
    "sentence = Sentence(text)\n",
    "tag_pos.predict(sentence)\n",
    "print(sentence.to_tagged_string())"
   ]
  },
  {
   "attachments": {},
   "cell_type": "markdown",
   "metadata": {},
   "source": [
    "## nltk"
   ]
  },
  {
   "cell_type": "code",
   "execution_count": 17,
   "metadata": {},
   "outputs": [],
   "source": [
    "from nltk.tag import CRFTagger\n",
    "ct = CRFTagger()\n",
    "ct.set_model_file(PATH + \"all_indo_man_tag_corpus_model.crf.tagger\")"
   ]
  },
  {
   "cell_type": "code",
   "execution_count": 20,
   "metadata": {},
   "outputs": [
    {
     "name": "stdout",
     "output_type": "stream",
     "text": [
      "[['saya'], ['dan'], ['dia'], ['kemarin'], ['pergi'], ['ke'], ['pasar'], ['bersama'], ['untuk'], ['membeli'], ['jeruk']]\n",
      "[[('saya', 'PRP')], [('dan', 'CC')], [('dia', 'PRP')], [('kemarin', 'NN')], [('pergi', 'VB')], [('ke', 'IN')], [('pasar', 'NN')], [('bersama', 'IN')], [('untuk', 'SC')], [('membeli', 'VB')], [('jeruk', 'VB')]]\n",
      "[[('saya', 'PRP'), ('dan', 'CC'), ('dia', 'PRP'), ('kemarin', 'NN'), ('pergi', 'VB'), ('ke', 'IN'), ('pasar', 'NN'), ('bersama', 'IN'), ('untuk', 'SC'), ('membeli', 'VB'), ('jeruk', 'VB')]]\n"
     ]
    }
   ],
   "source": [
    "# text = news['berita_desc'].iloc[1]\n",
    "text = 'saya dan dia kemarin pergi ke pasar bersama untuk membeli jeruk'\n",
    "preprocessed_text = preprocessing(text, 'll')\n",
    "print(preprocessed_text)\n",
    "\n",
    "post_tag1 = ct.tag_sents(preprocessed_text)\n",
    "print(post_tag1)\n",
    "post_tag2 = ct.tag_sents([text.split(\" \")])\n",
    "print(post_tag2)"
   ]
  },
  {
   "attachments": {},
   "cell_type": "markdown",
   "metadata": {},
   "source": [
    "## nltk versi lain"
   ]
  },
  {
   "attachments": {},
   "cell_type": "markdown",
   "metadata": {},
   "source": [
    "## "
   ]
  },
  {
   "cell_type": "code",
   "execution_count": 1,
   "metadata": {},
   "outputs": [],
   "source": [
    "import stanfordnlp\n",
    "from nltk.tag.stanford import StanfordPOSTagger"
   ]
  },
  {
   "cell_type": "code",
   "execution_count": null,
   "metadata": {},
   "outputs": [],
   "source": [
    "# WP for who\n",
    "# WRB for where and when"
   ]
  }
 ],
 "metadata": {
  "kernelspec": {
   "display_name": "Python 3",
   "language": "python",
   "name": "python3"
  },
  "language_info": {
   "codemirror_mode": {
    "name": "ipython",
    "version": 3
   },
   "file_extension": ".py",
   "mimetype": "text/x-python",
   "name": "python",
   "nbconvert_exporter": "python",
   "pygments_lexer": "ipython3",
   "version": "3.10.2"
  },
  "orig_nbformat": 4
 },
 "nbformat": 4,
 "nbformat_minor": 2
}
