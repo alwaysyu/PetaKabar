{
 "cells": [
  {
   "cell_type": "code",
   "execution_count": 1,
   "metadata": {},
   "outputs": [],
   "source": [
    "import pandas as pd\n",
    "import re\n",
    "import string\n",
    "\n",
    "PATH = \"D:/Petakabar/whowherewhen/\"\n",
    "bencana = \"bencana/\"\n",
    "ekonomi = \"ekonomi/\"\n",
    "kecelakaan = \"kecelakaan/\"\n",
    "kesehatan = \"kesehatan/\"\n",
    "kriminalitas = \"kriminalitas/\"\n",
    "olahraga = \"olahraga/\"\n",
    "\n",
    "model_location = PATH # flair\n",
    "\n",
    "news = pd.read_csv('perbandingan/berita-24-5.csv')"
   ]
  },
  {
   "cell_type": "code",
   "execution_count": 2,
   "metadata": {},
   "outputs": [],
   "source": [
    "def preprocessing(berita, result=\"l\"):\n",
    "        s = str(berita)\n",
    "        # s = s.lower()\n",
    "        s = s.replace('\\n', ' ')\n",
    "        s = s.replace('\\r', ' ')\n",
    "        # s = re.sub(r'[^a-zA-Z0-9\\s]', ' ', s)\n",
    "        if result == \"ll\":\n",
    "                tokens = [[token] for token in s.split(\" \") if token != \"\"]\n",
    "                # T = [t for t in tokens if (\n",
    "                #     (t in excluded_words) or (t not in NLTK_StopWords))]\n",
    "        elif result == \"asis\":\n",
    "                s = s.replace('  ', ' ')\n",
    "                return s\n",
    "        else:\n",
    "                tokens = [token for token in s.split(\" \") if token != \"\"]\n",
    "                # T = [t for t in tokens if (\n",
    "                #     (t in excluded_words) or (t not in NLTK_StopWords))]\n",
    "        return tokens"
   ]
  },
  {
   "attachments": {},
   "cell_type": "markdown",
   "metadata": {},
   "source": [
    "# Coba POS Tagging"
   ]
  },
  {
   "attachments": {},
   "cell_type": "markdown",
   "metadata": {},
   "source": [
    "## Flair"
   ]
  },
  {
   "cell_type": "code",
   "execution_count": 3,
   "metadata": {},
   "outputs": [
    {
     "name": "stdout",
     "output_type": "stream",
     "text": [
      "2023-06-22 18:44:56,711 Reading data from C:\\Users\\Archy\\.flair\\datasets\\ud_indonesian\n",
      "2023-06-22 18:44:56,711 Train: C:\\Users\\Archy\\.flair\\datasets\\ud_indonesian\\id_gsd-ud-train.conllu\n",
      "2023-06-22 18:44:56,712 Dev: C:\\Users\\Archy\\.flair\\datasets\\ud_indonesian\\id_gsd-ud-dev.conllu\n",
      "2023-06-22 18:44:56,712 Test: C:\\Users\\Archy\\.flair\\datasets\\ud_indonesian\\id_gsd-ud-test.conllu\n",
      "2023-06-22 18:45:00,827 Warning: An empty Sentence was created! Are there empty strings in your dataset?\n",
      "2023-06-22 18:45:01,667 Warning: An empty Sentence was created! Are there empty strings in your dataset?\n",
      "2023-06-22 18:45:01,937 Warning: An empty Sentence was created! Are there empty strings in your dataset?\n"
     ]
    }
   ],
   "source": [
    "import flair\n",
    "from flair import datasets\n",
    "\n",
    "# membuat corpus\n",
    "corpus = datasets.UD_INDONESIAN()"
   ]
  },
  {
   "cell_type": "code",
   "execution_count": 28,
   "metadata": {},
   "outputs": [
    {
     "name": "stdout",
     "output_type": "stream",
     "text": [
      "2023-06-22 19:07:32,674 Computing label dictionary. Progress:\n"
     ]
    },
    {
     "name": "stderr",
     "output_type": "stream",
     "text": [
      "4482it [00:00, 26483.36it/s]"
     ]
    },
    {
     "name": "stdout",
     "output_type": "stream",
     "text": [
      "2023-06-22 19:07:32,847 Dictionary created for label 'upos' with 18 values: NOUN (seen 21123 times), PROPN (seen 17938 times), PUNCT (seen 13922 times), VERB (seen 9940 times), ADP (seen 9076 times), PRON (seen 5118 times), ADJ (seen 3798 times), NUM (seen 3478 times), DET (seen 2968 times), CCONJ (seen 2866 times), ADV (seen 2852 times), AUX (seen 1786 times), SCONJ (seen 1653 times), PART (seen 837 times), SYM (seen 132 times), X (seen 112 times), INTJ (seen 3 times)\n"
     ]
    },
    {
     "name": "stderr",
     "output_type": "stream",
     "text": [
      "\n"
     ]
    },
    {
     "name": "stdout",
     "output_type": "stream",
     "text": [
      "[b'<unk>', b'NOUN', b'PROPN', b'PUNCT', b'VERB', b'ADP', b'PRON', b'ADJ', b'NUM', b'DET', b'CCONJ', b'ADV', b'AUX', b'SCONJ', b'PART', b'SYM', b'X', b'INTJ']\n",
      "2023-06-22 19:07:32,848 Computing label dictionary. Progress:\n"
     ]
    },
    {
     "name": "stderr",
     "output_type": "stream",
     "text": [
      "4482it [00:00, 28057.60it/s]"
     ]
    },
    {
     "name": "stdout",
     "output_type": "stream",
     "text": [
      "2023-06-22 19:07:33,012 Dictionary created for label 'pos' with 46 values: NSD (seen 23519 times), Z-- (seen 14039 times), X-- (seen 9701 times), R-- (seen 8307 times), VSA (seen 7446 times), F-- (seen 5740 times), ASP (seen 4722 times), S-- (seen 3971 times), CC- (seen 3262 times), B-- (seen 3044 times), VSP (seen 2798 times), H-- (seen 2703 times), D-- (seen 2244 times), PS3 (seen 1757 times), O-- (seen 1307 times), G-- (seen 487 times), W-- (seen 437 times), CO- (seen 380 times), M-- (seen 375 times), T-- (seen 348 times)\n",
      "[b'<unk>', b'NSD', b'Z--', b'X--', b'R--', b'VSA', b'F--', b'ASP', b'S--', b'CC-', b'B--', b'VSP', b'H--', b'D--', b'PS3', b'O--', b'G--', b'W--', b'CO-', b'M--', b'T--', b'PP3', b'ASS', b'PS2', b'PS1', b'PP1', b'NPD', b'_', b'NSM', b'NSD+PS3', b'ASP+PS3', b'I--', b'CD-', b'F--+PS2', b'PP2', b'D--+PS3', b'VPA', b'R--+PS3', b'M--+PS3', b'G--+PS3', b'NSF', b'APP', b'VSA+PS2', b'B--+PS3', b'PS1+VSA', b'VSA+PS3']\n"
     ]
    },
    {
     "name": "stderr",
     "output_type": "stream",
     "text": [
      "\n"
     ]
    }
   ],
   "source": [
    "# membuat pustaka dari corpus\n",
    "tag_type = 'upos' # upos mengindikasikan untuk Part-of-speech\n",
    "tag_dictionary = corpus.make_label_dictionary(tag_type)\n",
    "print(tag_dictionary.idx2item)\n",
    "print(corpus.make_label_dictionary('pos').idx2item)\n",
    "# print(corpus.make_label_dictionary('ner').idx2item)"
   ]
  },
  {
   "cell_type": "code",
   "execution_count": 5,
   "metadata": {},
   "outputs": [],
   "source": [
    "from flair.embeddings import FlairEmbeddings, TokenEmbeddings, WordEmbeddings, StackedEmbeddings, BertEmbeddings\n",
    "\n",
    "embedding_types = [WordEmbeddings('id-crawl'), WordEmbeddings('id'), FlairEmbeddings('id-forward'), FlairEmbeddings('id-backward')]\n",
    "embeddings = StackedEmbeddings(embeddings=embedding_types)"
   ]
  },
  {
   "cell_type": "code",
   "execution_count": 6,
   "metadata": {},
   "outputs": [
    {
     "name": "stdout",
     "output_type": "stream",
     "text": [
      "2023-06-22 18:45:21,747 SequenceTagger predicts: Dictionary with 18 tags: <unk>, NOUN, PROPN, PUNCT, VERB, ADP, PRON, ADJ, NUM, DET, CCONJ, ADV, AUX, SCONJ, PART, SYM, X, INTJ\n"
     ]
    }
   ],
   "source": [
    "from flair.models import SequenceTagger\n",
    "\n",
    "tagger = SequenceTagger(hidden_size=256,\n",
    "                        embeddings=embeddings,\n",
    "                        tag_dictionary=tag_dictionary,\n",
    "                        tag_type=tag_type,\n",
    "                        use_crf=True)"
   ]
  },
  {
   "cell_type": "code",
   "execution_count": 7,
   "metadata": {},
   "outputs": [
    {
     "name": "stdout",
     "output_type": "stream",
     "text": [
      "2023-06-22 16:40:27,595 ----------------------------------------------------------------------------------------------------\n",
      "2023-06-22 16:40:27,597 Model: \"SequenceTagger(\n",
      "  (embeddings): StackedEmbeddings(\n",
      "    (list_embedding_0): WordEmbeddings(\n",
      "      'id-crawl'\n",
      "      (embedding): Embedding(1000000, 300)\n",
      "    )\n",
      "    (list_embedding_1): WordEmbeddings(\n",
      "      'id'\n",
      "      (embedding): Embedding(300686, 300)\n",
      "    )\n",
      "    (list_embedding_2): FlairEmbeddings(\n",
      "      (lm): LanguageModel(\n",
      "        (drop): Dropout(p=0.1, inplace=False)\n",
      "        (encoder): Embedding(8823, 100)\n",
      "        (rnn): LSTM(100, 2048)\n",
      "      )\n",
      "    )\n",
      "    (list_embedding_3): FlairEmbeddings(\n",
      "      (lm): LanguageModel(\n",
      "        (drop): Dropout(p=0.1, inplace=False)\n",
      "        (encoder): Embedding(8823, 100)\n",
      "        (rnn): LSTM(100, 2048)\n",
      "      )\n",
      "    )\n",
      "  )\n",
      "  (word_dropout): WordDropout(p=0.05)\n",
      "  (locked_dropout): LockedDropout(p=0.5)\n",
      "  (embedding2nn): Linear(in_features=4696, out_features=4696, bias=True)\n",
      "  (rnn): LSTM(4696, 256, batch_first=True, bidirectional=True)\n",
      "  (linear): Linear(in_features=512, out_features=20, bias=True)\n",
      "  (loss_function): ViterbiLoss()\n",
      "  (crf): CRF()\n",
      ")\"\n",
      "2023-06-22 16:40:27,599 ----------------------------------------------------------------------------------------------------\n",
      "2023-06-22 16:40:27,601 Corpus: \"Corpus: 4482 train + 559 dev + 557 test sentences\"\n",
      "2023-06-22 16:40:27,602 ----------------------------------------------------------------------------------------------------\n",
      "2023-06-22 16:40:27,602 Parameters:\n",
      "2023-06-22 16:40:27,602  - learning_rate: \"0.100000\"\n",
      "2023-06-22 16:40:27,605  - mini_batch_size: \"32\"\n",
      "2023-06-22 16:40:27,606  - patience: \"3\"\n",
      "2023-06-22 16:40:27,606  - anneal_factor: \"0.5\"\n",
      "2023-06-22 16:40:27,606  - max_epochs: \"10\"\n",
      "2023-06-22 16:40:27,609  - shuffle: \"True\"\n",
      "2023-06-22 16:40:27,609  - train_with_dev: \"False\"\n",
      "2023-06-22 16:40:27,609  - batch_growth_annealing: \"False\"\n",
      "2023-06-22 16:40:27,609 ----------------------------------------------------------------------------------------------------\n",
      "2023-06-22 16:40:27,609 Model training base path: \"D:\\Petakabar\\whowherewhen\"\n",
      "2023-06-22 16:40:27,614 ----------------------------------------------------------------------------------------------------\n",
      "2023-06-22 16:40:27,614 Device: cpu\n",
      "2023-06-22 16:40:27,614 ----------------------------------------------------------------------------------------------------\n",
      "2023-06-22 16:40:27,630 Embeddings storage mode: cpu\n",
      "2023-06-22 16:40:27,632 ----------------------------------------------------------------------------------------------------\n"
     ]
    },
    {
     "name": "stderr",
     "output_type": "stream",
     "text": [
      "c:\\Users\\Archy\\AppData\\Local\\Programs\\Python\\Python310\\lib\\site-packages\\flair\\trainers\\trainer.py:69: UserWarning: There should be no best model saved at epoch 1 except there is a model from previous trainings in your training folder. All previous best models will be deleted.\n",
      "  warnings.warn(\n"
     ]
    },
    {
     "name": "stdout",
     "output_type": "stream",
     "text": [
      "2023-06-22 16:42:32,410 epoch 1 - iter 14/141 - loss 2.23435047 - time (sec): 124.78 - samples/sec: 77.39 - lr: 0.100000\n",
      "2023-06-22 16:44:18,481 epoch 1 - iter 28/141 - loss 1.73144676 - time (sec): 230.85 - samples/sec: 83.47 - lr: 0.100000\n",
      "2023-06-22 16:45:44,244 epoch 1 - iter 42/141 - loss 1.46248569 - time (sec): 316.61 - samples/sec: 90.82 - lr: 0.100000\n",
      "2023-06-22 16:47:23,409 epoch 1 - iter 56/141 - loss 1.26387701 - time (sec): 415.77 - samples/sec: 92.77 - lr: 0.100000\n",
      "2023-06-22 16:49:30,819 epoch 1 - iter 70/141 - loss 1.12124258 - time (sec): 543.18 - samples/sec: 89.46 - lr: 0.100000\n",
      "2023-06-22 16:51:30,621 epoch 1 - iter 84/141 - loss 1.02091177 - time (sec): 662.99 - samples/sec: 88.08 - lr: 0.100000\n",
      "2023-06-22 16:53:44,172 epoch 1 - iter 98/141 - loss 0.94025394 - time (sec): 796.54 - samples/sec: 86.13 - lr: 0.100000\n",
      "2023-06-22 16:55:53,387 epoch 1 - iter 112/141 - loss 0.88177395 - time (sec): 925.75 - samples/sec: 84.49 - lr: 0.100000\n",
      "2023-06-22 16:57:54,503 epoch 1 - iter 126/141 - loss 0.82974990 - time (sec): 1046.87 - samples/sec: 84.35 - lr: 0.100000\n",
      "2023-06-22 16:59:42,820 epoch 1 - iter 140/141 - loss 0.78922492 - time (sec): 1155.19 - samples/sec: 84.48 - lr: 0.100000\n",
      "2023-06-22 16:59:43,585 ----------------------------------------------------------------------------------------------------\n",
      "2023-06-22 16:59:43,587 EPOCH 1 done: loss 0.7891 - lr 0.100000\n"
     ]
    },
    {
     "name": "stderr",
     "output_type": "stream",
     "text": [
      "100%|██████████| 18/18 [02:12<00:00,  7.35s/it]"
     ]
    },
    {
     "name": "stdout",
     "output_type": "stream",
     "text": [
      "2023-06-22 17:01:56,003 Evaluating as a multi-label problem: False\n"
     ]
    },
    {
     "name": "stderr",
     "output_type": "stream",
     "text": [
      "\n"
     ]
    },
    {
     "name": "stdout",
     "output_type": "stream",
     "text": [
      "2023-06-22 17:01:56,227 DEV : loss 0.2612849771976471 - f1-score (micro avg)  0.9232\n",
      "2023-06-22 17:01:56,281 BAD EPOCHS (no improvement): 0\n",
      "2023-06-22 17:01:56,283 saving best model\n",
      "2023-06-22 17:02:11,126 ----------------------------------------------------------------------------------------------------\n",
      "2023-06-22 17:02:48,590 epoch 2 - iter 14/141 - loss 0.36476861 - time (sec): 37.46 - samples/sec: 263.41 - lr: 0.100000\n",
      "2023-06-22 17:03:29,818 epoch 2 - iter 28/141 - loss 0.37961386 - time (sec): 78.69 - samples/sec: 250.71 - lr: 0.100000\n",
      "2023-06-22 17:04:03,061 epoch 2 - iter 42/141 - loss 0.37367363 - time (sec): 111.93 - samples/sec: 261.44 - lr: 0.100000\n",
      "2023-06-22 17:04:36,639 epoch 2 - iter 56/141 - loss 0.36960909 - time (sec): 145.51 - samples/sec: 265.41 - lr: 0.100000\n",
      "2023-06-22 17:05:12,199 epoch 2 - iter 70/141 - loss 0.36856795 - time (sec): 181.07 - samples/sec: 266.30 - lr: 0.100000\n",
      "2023-06-22 17:05:46,802 epoch 2 - iter 84/141 - loss 0.36786080 - time (sec): 215.68 - samples/sec: 267.51 - lr: 0.100000\n",
      "2023-06-22 17:06:33,643 epoch 2 - iter 98/141 - loss 0.36715121 - time (sec): 262.52 - samples/sec: 259.05 - lr: 0.100000\n",
      "2023-06-22 17:07:16,514 epoch 2 - iter 112/141 - loss 0.36504024 - time (sec): 305.39 - samples/sec: 254.80 - lr: 0.100000\n",
      "2023-06-22 17:07:57,565 epoch 2 - iter 126/141 - loss 0.36215186 - time (sec): 346.44 - samples/sec: 253.02 - lr: 0.100000\n",
      "2023-06-22 17:08:38,914 epoch 2 - iter 140/141 - loss 0.36058788 - time (sec): 387.79 - samples/sec: 251.63 - lr: 0.100000\n",
      "2023-06-22 17:08:39,060 ----------------------------------------------------------------------------------------------------\n",
      "2023-06-22 17:08:39,063 EPOCH 2 done: loss 0.3605 - lr 0.100000\n"
     ]
    },
    {
     "name": "stderr",
     "output_type": "stream",
     "text": [
      "100%|██████████| 18/18 [00:25<00:00,  1.42s/it]"
     ]
    },
    {
     "name": "stdout",
     "output_type": "stream",
     "text": [
      "2023-06-22 17:09:04,707 Evaluating as a multi-label problem: False\n",
      "2023-06-22 17:09:04,817 DEV : loss 0.2169020026922226 - f1-score (micro avg)  0.9325\n"
     ]
    },
    {
     "name": "stderr",
     "output_type": "stream",
     "text": [
      "\n"
     ]
    },
    {
     "name": "stdout",
     "output_type": "stream",
     "text": [
      "2023-06-22 17:09:04,881 BAD EPOCHS (no improvement): 0\n",
      "2023-06-22 17:09:04,889 saving best model\n",
      "2023-06-22 17:09:10,048 ----------------------------------------------------------------------------------------------------\n",
      "2023-06-22 17:09:44,751 epoch 3 - iter 14/141 - loss 0.31761282 - time (sec): 34.70 - samples/sec: 277.18 - lr: 0.100000\n",
      "2023-06-22 17:10:19,207 epoch 3 - iter 28/141 - loss 0.33142107 - time (sec): 69.16 - samples/sec: 281.21 - lr: 0.100000\n",
      "2023-06-22 17:10:56,642 epoch 3 - iter 42/141 - loss 0.33133249 - time (sec): 106.59 - samples/sec: 276.00 - lr: 0.100000\n",
      "2023-06-22 17:11:28,726 epoch 3 - iter 56/141 - loss 0.32734339 - time (sec): 138.68 - samples/sec: 282.33 - lr: 0.100000\n",
      "2023-06-22 17:12:00,348 epoch 3 - iter 70/141 - loss 0.32374535 - time (sec): 170.30 - samples/sec: 285.65 - lr: 0.100000\n",
      "2023-06-22 17:12:35,183 epoch 3 - iter 84/141 - loss 0.31992671 - time (sec): 205.13 - samples/sec: 283.76 - lr: 0.100000\n",
      "2023-06-22 17:13:08,342 epoch 3 - iter 98/141 - loss 0.31775421 - time (sec): 238.29 - samples/sec: 285.19 - lr: 0.100000\n",
      "2023-06-22 17:13:38,895 epoch 3 - iter 112/141 - loss 0.31586698 - time (sec): 268.85 - samples/sec: 289.09 - lr: 0.100000\n",
      "2023-06-22 17:14:14,909 epoch 3 - iter 126/141 - loss 0.31475281 - time (sec): 304.86 - samples/sec: 285.97 - lr: 0.100000\n",
      "2023-06-22 17:14:55,244 epoch 3 - iter 140/141 - loss 0.31475516 - time (sec): 345.20 - samples/sec: 282.65 - lr: 0.100000\n",
      "2023-06-22 17:14:55,406 ----------------------------------------------------------------------------------------------------\n",
      "2023-06-22 17:14:55,406 EPOCH 3 done: loss 0.3147 - lr 0.100000\n"
     ]
    },
    {
     "name": "stderr",
     "output_type": "stream",
     "text": [
      "100%|██████████| 18/18 [00:21<00:00,  1.17s/it]"
     ]
    },
    {
     "name": "stdout",
     "output_type": "stream",
     "text": [
      "2023-06-22 17:15:16,562 Evaluating as a multi-label problem: False\n",
      "2023-06-22 17:15:16,637 DEV : loss 0.24424324929714203 - f1-score (micro avg)  0.9183\n",
      "2023-06-22 17:15:16,699 BAD EPOCHS (no improvement): 1\n",
      "2023-06-22 17:15:16,701 ----------------------------------------------------------------------------------------------------\n"
     ]
    },
    {
     "name": "stderr",
     "output_type": "stream",
     "text": [
      "\n"
     ]
    },
    {
     "name": "stdout",
     "output_type": "stream",
     "text": [
      "2023-06-22 17:15:52,619 epoch 4 - iter 14/141 - loss 0.30952149 - time (sec): 35.92 - samples/sec: 270.08 - lr: 0.100000\n",
      "2023-06-22 17:16:28,507 epoch 4 - iter 28/141 - loss 0.30728656 - time (sec): 71.81 - samples/sec: 262.25 - lr: 0.100000\n",
      "2023-06-22 17:16:56,712 epoch 4 - iter 42/141 - loss 0.30060465 - time (sec): 100.01 - samples/sec: 286.47 - lr: 0.100000\n",
      "2023-06-22 17:17:21,869 epoch 4 - iter 56/141 - loss 0.29778734 - time (sec): 125.17 - samples/sec: 304.48 - lr: 0.100000\n",
      "2023-06-22 17:17:54,810 epoch 4 - iter 70/141 - loss 0.29315059 - time (sec): 158.11 - samples/sec: 303.08 - lr: 0.100000\n",
      "2023-06-22 17:18:21,737 epoch 4 - iter 84/141 - loss 0.29240067 - time (sec): 185.04 - samples/sec: 309.78 - lr: 0.100000\n",
      "2023-06-22 17:19:05,588 epoch 4 - iter 98/141 - loss 0.29284442 - time (sec): 228.89 - samples/sec: 295.50 - lr: 0.100000\n",
      "2023-06-22 17:19:37,011 epoch 4 - iter 112/141 - loss 0.29074310 - time (sec): 260.31 - samples/sec: 298.19 - lr: 0.100000\n",
      "2023-06-22 17:20:01,143 epoch 4 - iter 126/141 - loss 0.28919094 - time (sec): 284.44 - samples/sec: 306.59 - lr: 0.100000\n",
      "2023-06-22 17:20:34,600 epoch 4 - iter 140/141 - loss 0.28884497 - time (sec): 317.90 - samples/sec: 306.86 - lr: 0.100000\n",
      "2023-06-22 17:20:34,839 ----------------------------------------------------------------------------------------------------\n",
      "2023-06-22 17:20:34,840 EPOCH 4 done: loss 0.2889 - lr 0.100000\n"
     ]
    },
    {
     "name": "stderr",
     "output_type": "stream",
     "text": [
      "100%|██████████| 18/18 [00:19<00:00,  1.09s/it]"
     ]
    },
    {
     "name": "stdout",
     "output_type": "stream",
     "text": [
      "2023-06-22 17:20:54,574 Evaluating as a multi-label problem: False\n",
      "2023-06-22 17:20:54,660 DEV : loss 0.21068830788135529 - f1-score (micro avg)  0.931\n"
     ]
    },
    {
     "name": "stderr",
     "output_type": "stream",
     "text": [
      "\n"
     ]
    },
    {
     "name": "stdout",
     "output_type": "stream",
     "text": [
      "2023-06-22 17:20:54,736 BAD EPOCHS (no improvement): 2\n",
      "2023-06-22 17:20:54,744 ----------------------------------------------------------------------------------------------------\n",
      "2023-06-22 17:21:22,876 epoch 5 - iter 14/141 - loss 0.25464828 - time (sec): 28.13 - samples/sec: 340.65 - lr: 0.100000\n",
      "2023-06-22 17:21:48,963 epoch 5 - iter 28/141 - loss 0.26281946 - time (sec): 54.22 - samples/sec: 355.87 - lr: 0.100000\n",
      "2023-06-22 17:22:14,380 epoch 5 - iter 42/141 - loss 0.26706226 - time (sec): 79.64 - samples/sec: 361.42 - lr: 0.100000\n",
      "2023-06-22 17:22:36,543 epoch 5 - iter 56/141 - loss 0.27123579 - time (sec): 101.80 - samples/sec: 370.24 - lr: 0.100000\n",
      "2023-06-22 17:22:59,164 epoch 5 - iter 70/141 - loss 0.27136209 - time (sec): 124.42 - samples/sec: 381.20 - lr: 0.100000\n",
      "2023-06-22 17:23:28,505 epoch 5 - iter 84/141 - loss 0.27222092 - time (sec): 153.76 - samples/sec: 375.71 - lr: 0.100000\n",
      "2023-06-22 17:24:00,248 epoch 5 - iter 98/141 - loss 0.27363577 - time (sec): 185.50 - samples/sec: 363.83 - lr: 0.100000\n",
      "2023-06-22 17:24:27,199 epoch 5 - iter 112/141 - loss 0.27327489 - time (sec): 212.45 - samples/sec: 364.05 - lr: 0.100000\n",
      "2023-06-22 17:24:55,013 epoch 5 - iter 126/141 - loss 0.27217319 - time (sec): 240.27 - samples/sec: 365.17 - lr: 0.100000\n",
      "2023-06-22 17:25:23,416 epoch 5 - iter 140/141 - loss 0.27162660 - time (sec): 268.67 - samples/sec: 363.04 - lr: 0.100000\n",
      "2023-06-22 17:25:23,655 ----------------------------------------------------------------------------------------------------\n",
      "2023-06-22 17:25:23,656 EPOCH 5 done: loss 0.2716 - lr 0.100000\n"
     ]
    },
    {
     "name": "stderr",
     "output_type": "stream",
     "text": [
      "100%|██████████| 18/18 [00:16<00:00,  1.09it/s]"
     ]
    },
    {
     "name": "stdout",
     "output_type": "stream",
     "text": [
      "2023-06-22 17:25:40,223 Evaluating as a multi-label problem: False\n",
      "2023-06-22 17:25:40,289 DEV : loss 0.2045883983373642 - f1-score (micro avg)  0.9333\n",
      "2023-06-22 17:25:40,350 BAD EPOCHS (no improvement): 0\n",
      "2023-06-22 17:25:40,351 saving best model\n"
     ]
    },
    {
     "name": "stderr",
     "output_type": "stream",
     "text": [
      "\n"
     ]
    },
    {
     "name": "stdout",
     "output_type": "stream",
     "text": [
      "2023-06-22 17:25:44,583 ----------------------------------------------------------------------------------------------------\n",
      "2023-06-22 17:26:14,837 epoch 6 - iter 14/141 - loss 0.25276310 - time (sec): 30.25 - samples/sec: 338.60 - lr: 0.100000\n",
      "2023-06-22 17:26:49,922 epoch 6 - iter 28/141 - loss 0.24808203 - time (sec): 65.34 - samples/sec: 310.53 - lr: 0.100000\n",
      "2023-06-22 17:27:20,345 epoch 6 - iter 42/141 - loss 0.25096601 - time (sec): 95.76 - samples/sec: 315.13 - lr: 0.100000\n",
      "2023-06-22 17:27:50,673 epoch 6 - iter 56/141 - loss 0.25217358 - time (sec): 126.09 - samples/sec: 315.22 - lr: 0.100000\n",
      "2023-06-22 17:28:20,659 epoch 6 - iter 70/141 - loss 0.25509738 - time (sec): 156.08 - samples/sec: 317.95 - lr: 0.100000\n",
      "2023-06-22 17:28:50,821 epoch 6 - iter 84/141 - loss 0.25296349 - time (sec): 186.24 - samples/sec: 315.63 - lr: 0.100000\n",
      "2023-06-22 17:29:20,780 epoch 6 - iter 98/141 - loss 0.25362687 - time (sec): 216.20 - samples/sec: 315.17 - lr: 0.100000\n",
      "2023-06-22 17:29:50,576 epoch 6 - iter 112/141 - loss 0.25223587 - time (sec): 245.99 - samples/sec: 317.00 - lr: 0.100000\n",
      "2023-06-22 17:30:21,540 epoch 6 - iter 126/141 - loss 0.25479361 - time (sec): 276.96 - samples/sec: 315.85 - lr: 0.100000\n",
      "2023-06-22 17:30:50,535 epoch 6 - iter 140/141 - loss 0.25526351 - time (sec): 305.95 - samples/sec: 318.94 - lr: 0.100000\n",
      "2023-06-22 17:30:50,674 ----------------------------------------------------------------------------------------------------\n",
      "2023-06-22 17:30:50,675 EPOCH 6 done: loss 0.2552 - lr 0.100000\n"
     ]
    },
    {
     "name": "stderr",
     "output_type": "stream",
     "text": [
      "100%|██████████| 18/18 [00:17<00:00,  1.06it/s]"
     ]
    },
    {
     "name": "stdout",
     "output_type": "stream",
     "text": [
      "2023-06-22 17:31:07,721 Evaluating as a multi-label problem: False\n",
      "2023-06-22 17:31:07,809 DEV : loss 0.20364481210708618 - f1-score (micro avg)  0.9322\n"
     ]
    },
    {
     "name": "stderr",
     "output_type": "stream",
     "text": [
      "\n"
     ]
    },
    {
     "name": "stdout",
     "output_type": "stream",
     "text": [
      "2023-06-22 17:31:07,876 BAD EPOCHS (no improvement): 1\n",
      "2023-06-22 17:31:07,877 ----------------------------------------------------------------------------------------------------\n",
      "2023-06-22 17:31:37,113 epoch 7 - iter 14/141 - loss 0.23954868 - time (sec): 29.24 - samples/sec: 334.19 - lr: 0.100000\n",
      "2023-06-22 17:32:09,762 epoch 7 - iter 28/141 - loss 0.24843766 - time (sec): 61.88 - samples/sec: 322.01 - lr: 0.100000\n",
      "2023-06-22 17:32:39,324 epoch 7 - iter 42/141 - loss 0.24990585 - time (sec): 91.45 - samples/sec: 323.11 - lr: 0.100000\n",
      "2023-06-22 17:33:08,768 epoch 7 - iter 56/141 - loss 0.24881604 - time (sec): 120.89 - samples/sec: 328.05 - lr: 0.100000\n",
      "2023-06-22 17:33:37,346 epoch 7 - iter 70/141 - loss 0.24661978 - time (sec): 149.47 - samples/sec: 331.47 - lr: 0.100000\n",
      "2023-06-22 17:34:06,918 epoch 7 - iter 84/141 - loss 0.24653751 - time (sec): 179.04 - samples/sec: 332.06 - lr: 0.100000\n",
      "2023-06-22 17:34:31,767 epoch 7 - iter 98/141 - loss 0.24525081 - time (sec): 203.89 - samples/sec: 337.84 - lr: 0.100000\n",
      "2023-06-22 17:35:00,722 epoch 7 - iter 112/141 - loss 0.24322182 - time (sec): 232.84 - samples/sec: 338.18 - lr: 0.100000\n",
      "2023-06-22 17:35:27,663 epoch 7 - iter 126/141 - loss 0.24372868 - time (sec): 259.79 - samples/sec: 339.18 - lr: 0.100000\n",
      "2023-06-22 17:36:01,919 epoch 7 - iter 140/141 - loss 0.24434335 - time (sec): 294.04 - samples/sec: 331.81 - lr: 0.100000\n",
      "2023-06-22 17:36:02,091 ----------------------------------------------------------------------------------------------------\n",
      "2023-06-22 17:36:02,098 EPOCH 7 done: loss 0.2445 - lr 0.100000\n"
     ]
    },
    {
     "name": "stderr",
     "output_type": "stream",
     "text": [
      "100%|██████████| 18/18 [00:22<00:00,  1.25s/it]"
     ]
    },
    {
     "name": "stdout",
     "output_type": "stream",
     "text": [
      "2023-06-22 17:36:24,582 Evaluating as a multi-label problem: False\n",
      "2023-06-22 17:36:24,677 DEV : loss 0.18855087459087372 - f1-score (micro avg)  0.9393\n"
     ]
    },
    {
     "name": "stderr",
     "output_type": "stream",
     "text": [
      "\n"
     ]
    },
    {
     "name": "stdout",
     "output_type": "stream",
     "text": [
      "2023-06-22 17:36:24,739 BAD EPOCHS (no improvement): 0\n",
      "2023-06-22 17:36:24,741 saving best model\n",
      "2023-06-22 17:36:28,655 ----------------------------------------------------------------------------------------------------\n",
      "2023-06-22 17:37:01,845 epoch 8 - iter 14/141 - loss 0.24044385 - time (sec): 33.19 - samples/sec: 282.20 - lr: 0.100000\n",
      "2023-06-22 17:37:38,806 epoch 8 - iter 28/141 - loss 0.22912910 - time (sec): 70.15 - samples/sec: 271.03 - lr: 0.100000\n",
      "2023-06-22 17:38:17,171 epoch 8 - iter 42/141 - loss 0.23306753 - time (sec): 108.52 - samples/sec: 267.19 - lr: 0.100000\n",
      "2023-06-22 17:38:59,928 epoch 8 - iter 56/141 - loss 0.23088426 - time (sec): 151.27 - samples/sec: 255.96 - lr: 0.100000\n",
      "2023-06-22 17:39:37,242 epoch 8 - iter 70/141 - loss 0.23221670 - time (sec): 188.59 - samples/sec: 257.68 - lr: 0.100000\n",
      "2023-06-22 17:40:12,005 epoch 8 - iter 84/141 - loss 0.23176676 - time (sec): 223.35 - samples/sec: 261.48 - lr: 0.100000\n",
      "2023-06-22 17:40:46,951 epoch 8 - iter 98/141 - loss 0.23105786 - time (sec): 258.30 - samples/sec: 263.74 - lr: 0.100000\n",
      "2023-06-22 17:41:23,228 epoch 8 - iter 112/141 - loss 0.23263189 - time (sec): 294.57 - samples/sec: 265.36 - lr: 0.100000\n",
      "2023-06-22 17:41:58,595 epoch 8 - iter 126/141 - loss 0.23562520 - time (sec): 329.94 - samples/sec: 266.83 - lr: 0.100000\n",
      "2023-06-22 17:42:35,423 epoch 8 - iter 140/141 - loss 0.23579341 - time (sec): 366.77 - samples/sec: 266.04 - lr: 0.100000\n",
      "2023-06-22 17:42:35,591 ----------------------------------------------------------------------------------------------------\n",
      "2023-06-22 17:42:35,592 EPOCH 8 done: loss 0.2358 - lr 0.100000\n"
     ]
    },
    {
     "name": "stderr",
     "output_type": "stream",
     "text": [
      "100%|██████████| 18/18 [00:21<00:00,  1.22s/it]"
     ]
    },
    {
     "name": "stdout",
     "output_type": "stream",
     "text": [
      "2023-06-22 17:42:57,555 Evaluating as a multi-label problem: False\n",
      "2023-06-22 17:42:57,649 DEV : loss 0.18506895005702972 - f1-score (micro avg)  0.9415\n"
     ]
    },
    {
     "name": "stderr",
     "output_type": "stream",
     "text": [
      "\n"
     ]
    },
    {
     "name": "stdout",
     "output_type": "stream",
     "text": [
      "2023-06-22 17:42:57,721 BAD EPOCHS (no improvement): 0\n",
      "2023-06-22 17:42:57,723 saving best model\n",
      "2023-06-22 17:43:01,615 ----------------------------------------------------------------------------------------------------\n",
      "2023-06-22 17:43:35,303 epoch 9 - iter 14/141 - loss 0.21867346 - time (sec): 33.69 - samples/sec: 281.97 - lr: 0.100000\n",
      "2023-06-22 17:44:14,670 epoch 9 - iter 28/141 - loss 0.22373685 - time (sec): 73.05 - samples/sec: 273.62 - lr: 0.100000\n",
      "2023-06-22 17:44:45,456 epoch 9 - iter 42/141 - loss 0.21550163 - time (sec): 103.84 - samples/sec: 283.82 - lr: 0.100000\n",
      "2023-06-22 17:45:16,682 epoch 9 - iter 56/141 - loss 0.21696191 - time (sec): 135.07 - samples/sec: 289.94 - lr: 0.100000\n",
      "2023-06-22 17:45:57,024 epoch 9 - iter 70/141 - loss 0.21857592 - time (sec): 175.41 - samples/sec: 279.31 - lr: 0.100000\n",
      "2023-06-22 17:46:46,420 epoch 9 - iter 84/141 - loss 0.21868655 - time (sec): 224.81 - samples/sec: 261.30 - lr: 0.100000\n",
      "2023-06-22 17:47:26,748 epoch 9 - iter 98/141 - loss 0.22090466 - time (sec): 265.13 - samples/sec: 259.60 - lr: 0.100000\n",
      "2023-06-22 17:48:04,931 epoch 9 - iter 112/141 - loss 0.22192030 - time (sec): 303.32 - samples/sec: 259.23 - lr: 0.100000\n",
      "2023-06-22 17:48:45,386 epoch 9 - iter 126/141 - loss 0.22324792 - time (sec): 343.77 - samples/sec: 256.71 - lr: 0.100000\n",
      "2023-06-22 17:49:22,366 epoch 9 - iter 140/141 - loss 0.22356234 - time (sec): 380.75 - samples/sec: 256.23 - lr: 0.100000\n",
      "2023-06-22 17:49:22,553 ----------------------------------------------------------------------------------------------------\n",
      "2023-06-22 17:49:22,555 EPOCH 9 done: loss 0.2236 - lr 0.100000\n"
     ]
    },
    {
     "name": "stderr",
     "output_type": "stream",
     "text": [
      "100%|██████████| 18/18 [00:25<00:00,  1.40s/it]"
     ]
    },
    {
     "name": "stdout",
     "output_type": "stream",
     "text": [
      "2023-06-22 17:49:47,802 Evaluating as a multi-label problem: False\n",
      "2023-06-22 17:49:47,918 DEV : loss 0.18180228769779205 - f1-score (micro avg)  0.9416\n"
     ]
    },
    {
     "name": "stderr",
     "output_type": "stream",
     "text": [
      "\n"
     ]
    },
    {
     "name": "stdout",
     "output_type": "stream",
     "text": [
      "2023-06-22 17:49:48,007 BAD EPOCHS (no improvement): 0\n",
      "2023-06-22 17:49:48,008 saving best model\n",
      "2023-06-22 17:49:52,135 ----------------------------------------------------------------------------------------------------\n",
      "2023-06-22 17:50:34,377 epoch 10 - iter 14/141 - loss 0.22381844 - time (sec): 42.24 - samples/sec: 226.67 - lr: 0.100000\n",
      "2023-06-22 17:51:11,845 epoch 10 - iter 28/141 - loss 0.21434465 - time (sec): 79.71 - samples/sec: 241.85 - lr: 0.100000\n",
      "2023-06-22 17:51:46,946 epoch 10 - iter 42/141 - loss 0.21343156 - time (sec): 114.81 - samples/sec: 251.91 - lr: 0.100000\n",
      "2023-06-22 17:52:28,970 epoch 10 - iter 56/141 - loss 0.21734170 - time (sec): 156.83 - samples/sec: 246.50 - lr: 0.100000\n",
      "2023-06-22 17:53:05,539 epoch 10 - iter 70/141 - loss 0.21437004 - time (sec): 193.40 - samples/sec: 251.49 - lr: 0.100000\n",
      "2023-06-22 17:53:41,842 epoch 10 - iter 84/141 - loss 0.21413823 - time (sec): 229.71 - samples/sec: 254.27 - lr: 0.100000\n",
      "2023-06-22 17:54:16,597 epoch 10 - iter 98/141 - loss 0.21511400 - time (sec): 264.46 - samples/sec: 257.83 - lr: 0.100000\n",
      "2023-06-22 17:55:01,856 epoch 10 - iter 112/141 - loss 0.21416108 - time (sec): 309.72 - samples/sec: 252.77 - lr: 0.100000\n",
      "2023-06-22 17:55:35,184 epoch 10 - iter 126/141 - loss 0.21643001 - time (sec): 343.05 - samples/sec: 255.66 - lr: 0.100000\n",
      "2023-06-22 17:56:12,281 epoch 10 - iter 140/141 - loss 0.21753586 - time (sec): 380.15 - samples/sec: 256.64 - lr: 0.100000\n",
      "2023-06-22 17:56:12,465 ----------------------------------------------------------------------------------------------------\n",
      "2023-06-22 17:56:12,466 EPOCH 10 done: loss 0.2175 - lr 0.100000\n"
     ]
    },
    {
     "name": "stderr",
     "output_type": "stream",
     "text": [
      "100%|██████████| 18/18 [00:23<00:00,  1.28s/it]"
     ]
    },
    {
     "name": "stdout",
     "output_type": "stream",
     "text": [
      "2023-06-22 17:56:35,528 Evaluating as a multi-label problem: False\n",
      "2023-06-22 17:56:35,643 DEV : loss 0.20545212924480438 - f1-score (micro avg)  0.9348\n"
     ]
    },
    {
     "name": "stderr",
     "output_type": "stream",
     "text": [
      "\n"
     ]
    },
    {
     "name": "stdout",
     "output_type": "stream",
     "text": [
      "2023-06-22 17:56:35,710 BAD EPOCHS (no improvement): 1\n",
      "2023-06-22 17:56:40,045 ----------------------------------------------------------------------------------------------------\n",
      "2023-06-22 17:56:46,398 SequenceTagger predicts: Dictionary with 20 tags: <unk>, NOUN, PROPN, PUNCT, VERB, ADP, PRON, ADJ, NUM, DET, CCONJ, ADV, AUX, SCONJ, PART, SYM, X, INTJ, <START>, <STOP>\n"
     ]
    },
    {
     "name": "stderr",
     "output_type": "stream",
     "text": [
      "100%|██████████| 18/18 [02:13<00:00,  7.39s/it]"
     ]
    },
    {
     "name": "stdout",
     "output_type": "stream",
     "text": [
      "2023-06-22 17:59:00,718 Evaluating as a multi-label problem: False\n",
      "2023-06-22 17:59:00,810 0.9472\t0.9472\t0.9472\t0.9472\n",
      "2023-06-22 17:59:00,811 \n",
      "Results:\n",
      "- F-score (micro) 0.9472\n",
      "- F-score (macro) 0.8873\n",
      "- Accuracy 0.9472\n",
      "\n",
      "By class:\n",
      "              precision    recall  f1-score   support\n",
      "\n",
      "        NOUN     0.9284    0.9140    0.9211      2511\n",
      "       PROPN     0.9283    0.9579    0.9429      2162\n",
      "       PUNCT     1.0000    1.0000    1.0000      1623\n",
      "        VERB     0.9557    0.9595    0.9576      1258\n",
      "         ADP     0.9655    0.9551    0.9603      1114\n",
      "        PRON     0.9646    0.9736    0.9691       644\n",
      "         ADJ     0.8667    0.8258    0.8458       488\n",
      "         NUM     0.9895    0.9818    0.9856       384\n",
      "       CCONJ     0.9917    0.9917    0.9917       362\n",
      "         DET     0.9501    0.9501    0.9501       341\n",
      "         ADV     0.8795    0.8439    0.8614       346\n",
      "         AUX     0.9745    1.0000    0.9871       229\n",
      "       SCONJ     0.8622    0.8711    0.8667       194\n",
      "        PART     0.9175    1.0000    0.9570        89\n",
      "         SYM     1.0000    1.0000    1.0000         6\n",
      "           X     0.0000    0.0000    0.0000         5\n",
      "\n",
      "    accuracy                         0.9472     11756\n",
      "   macro avg     0.8859    0.8890    0.8873     11756\n",
      "weighted avg     0.9466    0.9472    0.9468     11756\n",
      "\n",
      "2023-06-22 17:59:00,812 ----------------------------------------------------------------------------------------------------\n"
     ]
    },
    {
     "name": "stderr",
     "output_type": "stream",
     "text": [
      "\n"
     ]
    },
    {
     "data": {
      "text/plain": [
       "{'test_score': 0.9471759101735284,\n",
       " 'dev_score_history': [0.923228812889977,\n",
       "  0.9325487718189717,\n",
       "  0.9183318853171155,\n",
       "  0.931048100465998,\n",
       "  0.9332596161440645,\n",
       "  0.9321538583050312,\n",
       "  0.9392623015559592,\n",
       "  0.9414738172340258,\n",
       "  0.9416317826396019,\n",
       "  0.9348392701998263],\n",
       " 'train_loss_history': [0.7891401534505449,\n",
       "  0.3605470618850684,\n",
       "  0.3146790542582215,\n",
       "  0.2888574535926198,\n",
       "  0.27160018370905403,\n",
       "  0.25523795729003373,\n",
       "  0.24450600516348842,\n",
       "  0.235825858793577,\n",
       "  0.2235627854735863,\n",
       "  0.21750173531400163],\n",
       " 'dev_loss_history': [0.2612849771976471,\n",
       "  0.2169020026922226,\n",
       "  0.24424324929714203,\n",
       "  0.21068830788135529,\n",
       "  0.2045883983373642,\n",
       "  0.20364481210708618,\n",
       "  0.18855087459087372,\n",
       "  0.18506895005702972,\n",
       "  0.18180228769779205,\n",
       "  0.20545212924480438]}"
      ]
     },
     "execution_count": 7,
     "metadata": {},
     "output_type": "execute_result"
    }
   ],
   "source": [
    "from flair.trainers import ModelTrainer\n",
    "\n",
    "model_location = PATH\n",
    "\n",
    "trainer = ModelTrainer(tagger, corpus)\n",
    "trainer.train(model_location,\n",
    "              learning_rate=0.1, #adjust?\n",
    "              mini_batch_size=32,\n",
    "              max_epochs=10) #adjust?"
   ]
  },
  {
   "cell_type": "code",
   "execution_count": 36,
   "metadata": {},
   "outputs": [
    {
     "name": "stdout",
     "output_type": "stream",
     "text": [
      "\\- Kebakaran melanda rumah tinggal Jalan Bangka Buntu I RT 05 RW 07 Kelurahan\n",
      "Bangka, Kecamatan Mampang Prapatan, Jakarta Selatan, Senin (26/12/2022) malam.\n",
      "\n",
      "Perwira piket Suku Dinas Penanggulangan Kebakaran dan Penyelamatan Jakarta\n",
      "Selatan, Moch Arief mengatakan, kebakaran dilaporkan warga terjadi sekitar\n",
      "pukul 20.05 WIB.\n",
      "\n",
      "\"Terima berita sekitar pukul 20.05 WIB. Sumber warga, Ibu Nike,\" ujar Arief\n",
      "saat dikonfirmasi, Senin.\n",
      "\n",
      "Arief mengatakan, tiga unit mobil pemadam dikerahkan untuk memadamkan api.\n",
      "Adapun saat petugas masih berjibaku.\n",
      "\n",
      "\"Saat ini masih proses pemadaman,\" kata Arief.\n",
      "\n",
      "Hingga kini belum diketahui kemunculan api yang menjadi penyebab kebakaran\n",
      "rumah warga tersebut.\n",
      "\n",
      "Adapun petugas pemadam yang berada di lokasi juga belum bisa memastikan ada\n",
      "atau tidaknya korban akibat kebakaran tersebut.\n",
      "\n",
      " \n",
      "\\- Kebakaran melanda rumah tinggal Jalan Bangka Buntu I RT 05 RW 07 Kelurahan Bangka, Kecamatan Mampang Prapatan, Jakarta Selatan, Senin (26/12/2022) malam.  Perwira piket Suku Dinas Penanggulangan Kebakaran dan Penyelamatan Jakarta Selatan, Moch Arief mengatakan, kebakaran dilaporkan warga terjadi sekitar pukul 20.05 WIB.  \"Terima berita sekitar pukul 20.05 WIB. Sumber warga, Ibu Nike,\" ujar Arief saat dikonfirmasi, Senin.  Arief mengatakan, tiga unit mobil pemadam dikerahkan untuk memadamkan api. Adapun saat petugas masih berjibaku.  \"Saat ini masih proses pemadaman,\" kata Arief.  Hingga kini belum diketahui kemunculan api yang menjadi penyebab kebakaran rumah warga tersebut.  Adapun petugas pemadam yang berada di lokasi juga belum bisa memastikan ada atau tidaknya korban akibat kebakaran tersebut.   \n",
      "2023-06-22 19:30:56,080 SequenceTagger predicts: Dictionary with 20 tags: <unk>, NOUN, PROPN, PUNCT, VERB, ADP, PRON, ADJ, NUM, DET, CCONJ, ADV, AUX, SCONJ, PART, SYM, X, INTJ, <START>, <STOP>\n",
      "Sentence[139]: \"\\- Kebakaran melanda rumah tinggal Jalan Bangka Buntu I RT 05 RW 07 Kelurahan Bangka, Kecamatan Mampang Prapatan, Jakarta Selatan, Senin (26/12/2022) malam.  Perwira piket Suku Dinas Penanggulangan Kebakaran dan Penyelamatan Jakarta Selatan, Moch Arief mengatakan, kebakaran dilaporkan warga terjadi sekitar pukul 20.05 WIB.  \"Terima berita sekitar pukul 20.05 WIB. Sumber warga, Ibu Nike,\" ujar Arief saat dikonfirmasi, Senin.  Arief mengatakan, tiga unit mobil pemadam dikerahkan untuk memadamkan api. Adapun saat petugas masih berjibaku.  \"Saat ini masih proses pemadaman,\" kata Arief.  Hingga kini belum diketahui kemunculan api yang menjadi penyebab kebakaran rumah warga tersebut.  Adapun petugas pemadam yang berada di lokasi juga belum bisa memastikan ada atau tidaknya korban akibat kebakaran tersebut.\" → [\"\\-\"/PUNCT, \"Kebakaran\"/PROPN, \"melanda\"/VERB, \"rumah\"/NOUN, \"tinggal\"/VERB, \"Jalan\"/PROPN, \"Bangka\"/PROPN, \"Buntu\"/PROPN, \"I\"/NUM, \"RT\"/PROPN, \"05\"/NUM, \"RW\"/PROPN, \"07\"/NUM, \"Kelurahan\"/PROPN, \"Bangka\"/PROPN, \",\"/PUNCT, \"Kecamatan\"/PROPN, \"Mampang\"/PROPN, \"Prapatan\"/PROPN, \",\"/PUNCT, \"Jakarta\"/PROPN, \"Selatan\"/PROPN, \",\"/PUNCT, \"Senin\"/PROPN, \"(\"/PUNCT, \"26\"/NUM, \"/\"/PUNCT, \"12\"/NUM, \"/\"/PUNCT, \"2022\"/NUM, \")\"/PUNCT, \"malam\"/NOUN, \".\"/PUNCT, \"Perwira\"/PROPN, \"piket\"/PROPN, \"Suku\"/PROPN, \"Dinas\"/PROPN, \"Penanggulangan\"/PROPN, \"Kebakaran\"/PROPN, \"dan\"/CCONJ, \"Penyelamatan\"/PROPN, \"Jakarta\"/PROPN, \"Selatan\"/PROPN, \",\"/PUNCT, \"Moch\"/PROPN, \"Arief\"/PROPN, \"mengatakan\"/VERB, \",\"/PUNCT, \"kebakaran\"/NOUN, \"dilaporkan\"/VERB, \"warga\"/NOUN, \"terjadi\"/VERB, \"sekitar\"/ADP, \"pukul\"/NOUN, \"20.05\"/NUM, \"WIB\"/PROPN, \".\"/PUNCT, \"\"\"/PUNCT, \"Terima\"/VERB, \"berita\"/NOUN, \"sekitar\"/ADP, \"pukul\"/NOUN, \"20.05\"/NUM, \"WIB\"/PROPN, \".\"/PUNCT, \"Sumber\"/PROPN, \"warga\"/NOUN, \",\"/PUNCT, \"Ibu\"/PROPN, \"Nike\"/PROPN, \",\"\"/PUNCT, \"ujar\"/PROPN, \"Arief\"/PROPN, \"saat\"/SCONJ, \"dikonfirmasi\"/VERB, \",\"/PUNCT, \"Senin\"/PROPN, \".\"/PUNCT, \"Arief\"/PROPN, \"mengatakan\"/VERB, \",\"/PUNCT, \"tiga\"/NUM, \"unit\"/NOUN, \"mobil\"/NOUN, \"pemadam\"/NOUN, \"dikerahkan\"/VERB, \"untuk\"/SCONJ, \"memadamkan\"/VERB, \"api\"/NOUN, \".\"/PUNCT, \"Adapun\"/SCONJ, \"saat\"/SCONJ, \"petugas\"/NOUN, \"masih\"/ADV, \"berjibaku\"/VERB, \".\"/PUNCT, \"\"\"/PUNCT, \"Saat\"/NOUN, \"ini\"/DET, \"masih\"/ADV, \"proses\"/NOUN, \"pemadaman\"/NOUN, \",\"\"/PUNCT, \"kata\"/NOUN, \"Arief\"/PROPN, \".\"/PUNCT, \"Hingga\"/SCONJ, \"kini\"/ADV, \"belum\"/PART, \"diketahui\"/VERB, \"kemunculan\"/NOUN, \"api\"/NOUN, \"yang\"/PRON, \"menjadi\"/VERB, \"penyebab\"/NOUN, \"kebakaran\"/NOUN, \"rumah\"/NOUN, \"warga\"/NOUN, \"tersebut\"/DET, \".\"/PUNCT, \"Adapun\"/SCONJ, \"petugas\"/NOUN, \"pemadam\"/NOUN, \"yang\"/PRON, \"berada\"/VERB, \"di\"/ADP, \"lokasi\"/NOUN, \"juga\"/ADV, \"belum\"/PART, \"bisa\"/AUX, \"memastikan\"/VERB, \"ada\"/VERB, \"atau\"/CCONJ, \"tidaknya\"/ADV, \"korban\"/NOUN, \"akibat\"/ADP, \"kebakaran\"/NOUN, \"tersebut\"/DET, \".\"/PUNCT]\n",
      "2023-06-22 19:31:08,892 SequenceTagger predicts: Dictionary with 20 tags: <unk>, NOUN, PROPN, PUNCT, VERB, ADP, PRON, ADJ, NUM, DET, CCONJ, ADV, AUX, SCONJ, PART, SYM, X, INTJ, <START>, <STOP>\n",
      "Sentence[139]: \"\\- Kebakaran melanda rumah tinggal Jalan Bangka Buntu I RT 05 RW 07 Kelurahan Bangka, Kecamatan Mampang Prapatan, Jakarta Selatan, Senin (26/12/2022) malam.  Perwira piket Suku Dinas Penanggulangan Kebakaran dan Penyelamatan Jakarta Selatan, Moch Arief mengatakan, kebakaran dilaporkan warga terjadi sekitar pukul 20.05 WIB.  \"Terima berita sekitar pukul 20.05 WIB. Sumber warga, Ibu Nike,\" ujar Arief saat dikonfirmasi, Senin.  Arief mengatakan, tiga unit mobil pemadam dikerahkan untuk memadamkan api. Adapun saat petugas masih berjibaku.  \"Saat ini masih proses pemadaman,\" kata Arief.  Hingga kini belum diketahui kemunculan api yang menjadi penyebab kebakaran rumah warga tersebut.  Adapun petugas pemadam yang berada di lokasi juga belum bisa memastikan ada atau tidaknya korban akibat kebakaran tersebut.\" → [\"\\-\"/PUNCT, \"Kebakaran\"/NOUN, \"melanda\"/VERB, \"rumah\"/NOUN, \"tinggal\"/VERB, \"Jalan\"/PROPN, \"Bangka\"/PROPN, \"Buntu\"/PROPN, \"I\"/NUM, \"RT\"/NOUN, \"05\"/NUM, \"RW\"/NOUN, \"07\"/NUM, \"Kelurahan\"/PROPN, \"Bangka\"/PROPN, \",\"/PUNCT, \"Kecamatan\"/PROPN, \"Mampang\"/PROPN, \"Prapatan\"/PROPN, \",\"/PUNCT, \"Jakarta\"/PROPN, \"Selatan\"/PROPN, \",\"/PUNCT, \"Senin\"/PROPN, \"(\"/PUNCT, \"26\"/NUM, \"/\"/PUNCT, \"12\"/NUM, \"/\"/PUNCT, \"2022\"/NUM, \")\"/PUNCT, \"malam\"/NOUN, \".\"/PUNCT, \"Perwira\"/NOUN, \"piket\"/NOUN, \"Suku\"/PROPN, \"Dinas\"/PROPN, \"Penanggulangan\"/PROPN, \"Kebakaran\"/PROPN, \"dan\"/CCONJ, \"Penyelamatan\"/PROPN, \"Jakarta\"/PROPN, \"Selatan\"/PROPN, \",\"/PUNCT, \"Moch\"/PROPN, \"Arief\"/PROPN, \"mengatakan\"/VERB, \",\"/PUNCT, \"kebakaran\"/NOUN, \"dilaporkan\"/VERB, \"warga\"/NOUN, \"terjadi\"/VERB, \"sekitar\"/ADP, \"pukul\"/NOUN, \"20.05\"/NUM, \"WIB\"/PROPN, \".\"/PUNCT, \"\"\"/PUNCT, \"Terima\"/VERB, \"berita\"/NOUN, \"sekitar\"/ADP, \"pukul\"/NOUN, \"20.05\"/NUM, \"WIB\"/PROPN, \".\"/PUNCT, \"Sumber\"/NOUN, \"warga\"/NOUN, \",\"/PUNCT, \"Ibu\"/PROPN, \"Nike\"/PROPN, \",\"\"/PUNCT, \"ujar\"/PROPN, \"Arief\"/PROPN, \"saat\"/SCONJ, \"dikonfirmasi\"/VERB, \",\"/PUNCT, \"Senin\"/PROPN, \".\"/PUNCT, \"Arief\"/PROPN, \"mengatakan\"/VERB, \",\"/PUNCT, \"tiga\"/NUM, \"unit\"/NOUN, \"mobil\"/NOUN, \"pemadam\"/NOUN, \"dikerahkan\"/VERB, \"untuk\"/SCONJ, \"memadamkan\"/VERB, \"api\"/NOUN, \".\"/PUNCT, \"Adapun\"/ADV, \"saat\"/NOUN, \"petugas\"/NOUN, \"masih\"/ADV, \"berjibaku\"/VERB, \".\"/PUNCT, \"\"\"/PUNCT, \"Saat\"/NOUN, \"ini\"/DET, \"masih\"/ADV, \"proses\"/NOUN, \"pemadaman\"/NOUN, \",\"\"/PUNCT, \"kata\"/NOUN, \"Arief\"/PROPN, \".\"/PUNCT, \"Hingga\"/SCONJ, \"kini\"/ADV, \"belum\"/PART, \"diketahui\"/VERB, \"kemunculan\"/NOUN, \"api\"/NOUN, \"yang\"/PRON, \"menjadi\"/VERB, \"penyebab\"/NOUN, \"kebakaran\"/NOUN, \"rumah\"/NOUN, \"warga\"/NOUN, \"tersebut\"/DET, \".\"/PUNCT, \"Adapun\"/SCONJ, \"petugas\"/NOUN, \"pemadam\"/NOUN, \"yang\"/PRON, \"berada\"/VERB, \"di\"/ADP, \"lokasi\"/NOUN, \"juga\"/ADV, \"belum\"/PART, \"bisa\"/AUX, \"memastikan\"/VERB, \"ada\"/VERB, \"atau\"/CCONJ, \"tidaknya\"/ADV, \"korban\"/NOUN, \"akibat\"/NOUN, \"kebakaran\"/NOUN, \"tersebut\"/DET, \".\"/PUNCT]\n"
     ]
    }
   ],
   "source": [
    "from flair.data import Sentence\n",
    "\n",
    "# text = f'Kebakaran melanda rumah tinggal Jalan Bangka Buntu I RT 05 RW 07 Kelurahan \\\n",
    "# Bangka, Kecamatan Mampang Prapatan, Jakarta Selatan, Senin (26/12/2022) malam. \\\n",
    "# \\\n",
    "# Perwira piket Suku Dinas Penanggulangan Kebakaran dan Penyelamatan Jakarta \\\n",
    "# Selatan, Moch Arief mengatakan, kebakaran dilaporkan warga terjadi sekitar \\\n",
    "# pukul 20.05 WIB.\\\n",
    "# \\\n",
    "# \"Terima berita sekitar pukul 20.05 WIB. Sumber warga, Ibu Nike,\" ujar Arief \\\n",
    "# saat dikonfirmasi, Senin.\\\n",
    "# \\\n",
    "# Arief mengatakan, tiga unit mobil pemadam dikerahkan untuk memadamkan api. \\\n",
    "# Adapun saat petugas masih berjibaku.\\\n",
    "# \\\n",
    "# \"Saat ini masih proses pemadaman,\" kata Arief.\\\n",
    "# \\\n",
    "# Hingga kini belum diketahui kemunculan api yang menjadi penyebab kebakaran \\\n",
    "# rumah warga tersebut.\\\n",
    "# \\\n",
    "# Adapun petugas pemadam yang berada di lokasi juga belum bisa memastikan ada \\\n",
    "# atau tidaknya korban akibat kebakaran tersebut.'\n",
    "# print(text)\n",
    "text = news['berita_desc'].iloc[1]\n",
    "sentence = Sentence(text)\n",
    "print(text)\n",
    "preprocessed_text = preprocessing(text, result=\"asis\")\n",
    "print(preprocessed_text)\n",
    "sentence = Sentence(preprocessed_text)\n",
    "tag_pos2 = SequenceTagger.load(model_location + 'final-model.pt')\n",
    "tag_pos2.predict(sentence)\n",
    "print(sentence.to_tagged_string())\n",
    "tag_pos = SequenceTagger.load(model_location + 'best-model.pt')\n",
    "tag_pos.predict(sentence)\n",
    "print(sentence.to_tagged_string())"
   ]
  },
  {
   "cell_type": "code",
   "execution_count": 39,
   "metadata": {},
   "outputs": [],
   "source": [
    "def check_propn(tags, texts):\n",
    "    common_noun = [\"\"]\n",
    "\n",
    "    if len(texts[2]) < 3:\n",
    "        return 1\n",
    "    if tags[3] == 'PROPN' and tags[4] == 'PROPN' or \\\n",
    "        tags[1] == 'PROPN' and tags[3] == 'PROPN' or \\\n",
    "        tags[0] == 'PROPN' and tags[1] == 'PROPN':\n",
    "        return 1\n",
    "    # to test and catch certain use case\n",
    "    # ---\n",
    "    if tags[1] == 'PUNCT':\n",
    "        return 0\n",
    "    return 1\n",
    "    # ---\n",
    "    return 0"
   ]
  },
  {
   "cell_type": "code",
   "execution_count": 40,
   "metadata": {},
   "outputs": [
    {
     "name": "stdout",
     "output_type": "stream",
     "text": [
      "<class 'str'>\n",
      "NOUN\n",
      "139\n",
      "PROPN\tPUNCT\tPROPN\tPROPN\tPUNCT\t\n",
      "Prapatan\t,\tJakarta\tSelatan\t,\t\n",
      "PROPN\tPUNCT\tPROPN\tPUNCT\tNUM\t\n",
      "Selatan\t,\tSenin\t(\t26\t\n",
      "PROPN\tPUNCT\tPROPN\tPROPN\tVERB\t\n",
      "Selatan\t,\tMoch\tArief\tmengatakan\t\n",
      "NOUN\tPUNCT\tPROPN\tPROPN\tPUNCT\t\n",
      "warga\t,\tIbu\tNike\t,\"\t\n",
      "PROPN\tPUNCT\tPROPN\tPROPN\tSCONJ\t\n",
      "Nike\t,\"\tujar\tArief\tsaat\t\n",
      "VERB\tPUNCT\tPROPN\tPUNCT\tPROPN\t\n",
      "dikonfirmasi\t,\tSenin\t.\tArief\t\n",
      "PROPN\tPUNCT\tPROPN\tVERB\tPUNCT\t\n",
      "Senin\t.\tArief\tmengatakan\t,\t\n"
     ]
    }
   ],
   "source": [
    "print(type(sentence.tokens[1].text))\n",
    "print((sentence.tokens[1].tag))\n",
    "\n",
    "print(len(sentence))\n",
    "\n",
    "for i in range(2, len(sentence)-2):\n",
    "    res_propn = []\n",
    "    if sentence.tokens[i].tag == 'PROPN':\n",
    "        start = i-2\n",
    "        check_text = []\n",
    "        check_tag = []\n",
    "        for j in range(5):\n",
    "            check_tag.append(sentence.tokens[start+j].tag)\n",
    "            check_text.append(sentence.tokens[start+j].text)\n",
    "        if check_propn(check_tag, check_text):\n",
    "            continue\n",
    "        the_text = \"\"\n",
    "        the_tag = \"\"\n",
    "        start = i-2\n",
    "        for j in range(5):\n",
    "            the_tag += sentence.tokens[start+j].tag + \"\\t\"\n",
    "            the_text += sentence.tokens[start+j].text + \"\\t\"\n",
    "        print(the_tag)\n",
    "        print(the_text)\n",
    "        res_propn.append(sentence.tokens[i].text)\n",
    "        # print(sentence.tokens[i-2:i+3])"
   ]
  },
  {
   "cell_type": "code",
   "execution_count": 32,
   "metadata": {},
   "outputs": [
    {
     "name": "stdout",
     "output_type": "stream",
     "text": [
      "Sentence[2]: \"jalan kaki\" → [\"jalan\"/NOUN, \"kaki\"/NOUN]\n"
     ]
    }
   ],
   "source": [
    "text = 'jalan kaki'\n",
    "sentence = Sentence(text)\n",
    "tag_pos.predict(sentence)\n",
    "print(sentence.to_tagged_string())"
   ]
  },
  {
   "attachments": {},
   "cell_type": "markdown",
   "metadata": {},
   "source": [
    "## nltk"
   ]
  },
  {
   "cell_type": "code",
   "execution_count": 17,
   "metadata": {},
   "outputs": [],
   "source": [
    "from nltk.tag import CRFTagger\n",
    "ct = CRFTagger()\n",
    "ct.set_model_file(PATH + \"all_indo_man_tag_corpus_model.crf.tagger\")"
   ]
  },
  {
   "cell_type": "code",
   "execution_count": 20,
   "metadata": {},
   "outputs": [
    {
     "name": "stdout",
     "output_type": "stream",
     "text": [
      "[['saya'], ['dan'], ['dia'], ['kemarin'], ['pergi'], ['ke'], ['pasar'], ['bersama'], ['untuk'], ['membeli'], ['jeruk']]\n",
      "[[('saya', 'PRP')], [('dan', 'CC')], [('dia', 'PRP')], [('kemarin', 'NN')], [('pergi', 'VB')], [('ke', 'IN')], [('pasar', 'NN')], [('bersama', 'IN')], [('untuk', 'SC')], [('membeli', 'VB')], [('jeruk', 'VB')]]\n",
      "[[('saya', 'PRP'), ('dan', 'CC'), ('dia', 'PRP'), ('kemarin', 'NN'), ('pergi', 'VB'), ('ke', 'IN'), ('pasar', 'NN'), ('bersama', 'IN'), ('untuk', 'SC'), ('membeli', 'VB'), ('jeruk', 'VB')]]\n"
     ]
    }
   ],
   "source": [
    "# text = news['berita_desc'].iloc[1]\n",
    "text = 'saya dan dia kemarin pergi ke pasar bersama untuk membeli jeruk'\n",
    "preprocessed_text = preprocessing(text, 'll')\n",
    "print(preprocessed_text)\n",
    "\n",
    "post_tag1 = ct.tag_sents(preprocessed_text)\n",
    "print(post_tag1)\n",
    "post_tag2 = ct.tag_sents([text.split(\" \")])\n",
    "print(post_tag2)"
   ]
  },
  {
   "attachments": {},
   "cell_type": "markdown",
   "metadata": {},
   "source": [
    "## nltk versi lain"
   ]
  },
  {
   "attachments": {},
   "cell_type": "markdown",
   "metadata": {},
   "source": [
    "## "
   ]
  },
  {
   "cell_type": "code",
   "execution_count": 1,
   "metadata": {},
   "outputs": [],
   "source": [
    "import stanfordnlp\n",
    "from nltk.tag.stanford import StanfordPOSTagger"
   ]
  },
  {
   "cell_type": "code",
   "execution_count": null,
   "metadata": {},
   "outputs": [],
   "source": [
    "# WP for who\n",
    "# WRB for where and when"
   ]
  }
 ],
 "metadata": {
  "kernelspec": {
   "display_name": "Python 3",
   "language": "python",
   "name": "python3"
  },
  "language_info": {
   "codemirror_mode": {
    "name": "ipython",
    "version": 3
   },
   "file_extension": ".py",
   "mimetype": "text/x-python",
   "name": "python",
   "nbconvert_exporter": "python",
   "pygments_lexer": "ipython3",
   "version": "3.10.2"
  },
  "orig_nbformat": 4
 },
 "nbformat": 4,
 "nbformat_minor": 2
}
