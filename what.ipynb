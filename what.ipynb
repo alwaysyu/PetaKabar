{
 "cells": [
  {
   "cell_type": "code",
   "execution_count": 1,
   "metadata": {},
   "outputs": [],
   "source": [
    "import re\n",
    "import pandas as pd\n",
    "import numpy as np\n",
    "import joblib\n",
    "import nltk"
   ]
  },
  {
   "cell_type": "code",
   "execution_count": 2,
   "metadata": {},
   "outputs": [],
   "source": [
    "old = pd.read_csv('perbandingan/berita-24-5.csv')\n",
    "# print(old)\n",
    "new = pd.read_csv('perbandingan/berita-24-5.csv') # need changes\n",
    "# print(new)"
   ]
  },
  {
   "cell_type": "code",
   "execution_count": 3,
   "metadata": {},
   "outputs": [
    {
     "data": {
      "text/plain": [
       "Index(['ID', 'berita_title', 'berita_date', 'berita_qdate', 'berita_desc',\n",
       "       'berita_source', 'created_at', 'berita_topik_id', 'qe_what', 'ner_when',\n",
       "       'ner_who', 'ner_prov', 'ner_kab', 'ner_kec', 'ner_neg', 'sev_death',\n",
       "       'sev_injury', 'sev_lost', 'sev_sink', 'sev_plane', 'sev_moneyUSD',\n",
       "       'sev_moneyIDR', 'sev_persen', 'sev_inflasi', 'sev_internasional',\n",
       "       'sev_nasional', 'sev_provkota', 'sev_lost_items', 'sev_lost_money',\n",
       "       'sev_rape', 'sev_house', 'sev_person', 'class_classification',\n",
       "       'berita_summary'],\n",
       "      dtype='object')"
      ]
     },
     "execution_count": 3,
     "metadata": {},
     "output_type": "execute_result"
    }
   ],
   "source": [
    "# old.columns\n",
    "old.columns"
   ]
  }
 ],
 "metadata": {
  "kernelspec": {
   "display_name": "Python 3",
   "language": "python",
   "name": "python3"
  },
  "language_info": {
   "codemirror_mode": {
    "name": "ipython",
    "version": 3
   },
   "file_extension": ".py",
   "mimetype": "text/x-python",
   "name": "python",
   "nbconvert_exporter": "python",
   "pygments_lexer": "ipython3",
   "version": "3.10.2"
  },
  "orig_nbformat": 4
 },
 "nbformat": 4,
 "nbformat_minor": 2
}
