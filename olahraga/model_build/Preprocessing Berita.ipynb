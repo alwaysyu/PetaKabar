{
 "cells": [
  {
   "cell_type": "code",
   "execution_count": 1,
   "metadata": {},
   "outputs": [
    {
     "name": "stderr",
     "output_type": "stream",
     "text": [
      "[nltk_data] Downloading package stopwords to\n",
      "[nltk_data]     C:\\Users\\RayRoyy\\AppData\\Roaming\\nltk_data...\n",
      "[nltk_data]   Package stopwords is already up-to-date!\n"
     ]
    }
   ],
   "source": [
    "# Import library-library\n",
    "import os\n",
    "import glob\n",
    "import string\n",
    "\n",
    "# Data Preparation and Preprocessing\n",
    "import pandas as pd\n",
    "import re\n",
    "import nltk\n",
    "nltk.download('stopwords')\n",
    "from nltk.corpus import stopwords\n",
    "\n",
    "# Word Embedding\n",
    "import joblib\n",
    "from sklearn.feature_extraction.text import TfidfVectorizer\n",
    "import scipy.sparse\n",
    "\n",
    "from sklearn.metrics.pairwise import cosine_similarity\n",
    "\n",
    "# Input and Expansion Query\n",
    "from textblob import TextBlob\n",
    "from nltk.tokenize import wordpunct_tokenize\n",
    "#from googletrans import Translator\n",
    "\n",
    "#Split to train and test\n",
    "from sklearn.model_selection import train_test_split\n",
    "\n",
    "import mysql.connector\n",
    "from mysql.connector import errorcode"
   ]
  },
  {
   "cell_type": "code",
   "execution_count": 2,
   "metadata": {},
   "outputs": [],
   "source": [
    "excluded_words = [\"tempat\",\"waktu\"]\n",
    "\n",
    "NLTK_StopWords = stopwords.words('indonesian')\n",
    "NLTK_StopWords.extend([\"detik\", \"detikjatim\", \"detikjateng\", \"detikjabar\", \"detiksulsel\", \"detiksumbar\", \"detikbali\", \"detikpapua\", \"detiksulteng\", \"detikmaluku\", \"detjatim\", \"detikcom\", \"allahumma\", \"aamiin\", \"aamiin\", \"allah\", \"bismillah\"])\n",
    "NLTK_StopWords.extend([\"yg\", \"dg\", \"rt\", \"dgn\", \"ny\", \"d\", 'klo', \n",
    "                       'kalo', 'amp', 'biar', 'bikin', 'bilang', \n",
    "                       'gak', 'ga', 'krn', 'nya', 'nih', 'sih', \n",
    "                       'si', 'tau', 'tdk', 'tuh', 'utk', 'ya', \n",
    "                       'jd', 'jgn', 'sdh', 'aja', 'n', 't', \n",
    "                       'nyg', 'hehe', 'pen', 'u', 'nan', 'loh', 'rt',\n",
    "                       '&amp', 'yah'])\n",
    "txt_stopword = pd.read_csv(\"stopwords.txt\", names= [\"stopwords\"], header = None)\n",
    "\n",
    "# convert stopword string to list & append additional stopword\n",
    "NLTK_StopWords.extend(txt_stopword[\"stopwords\"][0].split(' '))\n",
    "NLTK_StopWords = set(NLTK_StopWords)"
   ]
  },
  {
   "cell_type": "code",
   "execution_count": 3,
   "metadata": {},
   "outputs": [],
   "source": [
    "def preprocessing(berita):\n",
    "    # Preprocessing\n",
    "    s = str(berita)\n",
    "    s = s.lower()\n",
    "    s = s.replace('\\n', ' ')\n",
    "    s = s.replace('\\r', ' ')\n",
    "    s = re.sub(r'[^a-zA-Z0-9\\s]', ' ', s)\n",
    "    tokens = [token for token in s.split(\" \") if token != \"\"]\n",
    "\n",
    "    # Stopwords checking\n",
    "    T = [t for t in tokens if ((t in excluded_words) or (t not in NLTK_StopWords))]\n",
    "    return T"
   ]
  },
  {
   "cell_type": "code",
   "execution_count": 4,
   "metadata": {},
   "outputs": [],
   "source": [
    "# df =pd.read_csv(\"news.csv\")\n",
    "# df.info()\n",
    "# df.head()\n",
    "dataframe = []\n",
    "\n",
    "try:\n",
    "        cnx = mysql.connector.connect(user='admin', password='admin', database = 'Petakabar')\n",
    "        cursor = cnx.cursor()\n",
    "\n",
    "        ambildata = (\"SELECT berita_title, berita_date, berita_desc, berita_source FROM berita where berita_topik_id = 6 and class_classification is not null\")\n",
    "        cursor.execute(ambildata)\n",
    "        dataa = cursor.fetchall()\n",
    "        for row in dataa:\n",
    "            dataframe.append(row)\n",
    "        \n",
    "except mysql.connector.Error as err:\n",
    "        if err.errno == errorcode.ER_ACCESS_DENIED_ERROR:\n",
    "            print(\"Something is wrong with your user name or password\")\n",
    "        elif err.errno == errorcode.ER_BAD_DB_ERROR:\n",
    "            print(\"Database does not exist\")\n",
    "        else:\n",
    "            print(err)\n",
    "else:\n",
    "    cursor.close()\n",
    "    cnx.close()"
   ]
  },
  {
   "cell_type": "code",
   "execution_count": 5,
   "metadata": {},
   "outputs": [],
   "source": [
    "import pandas as pd\n",
    "writer = pd.DataFrame(dataframe, columns=[\n",
    "                    'Title','Date','Description', 'Source'], index=None)\n",
    "writer.to_csv('news.csv', index=False, sep=',')"
   ]
  },
  {
   "cell_type": "code",
   "execution_count": 6,
   "metadata": {},
   "outputs": [
    {
     "name": "stdout",
     "output_type": "stream",
     "text": [
      "<class 'pandas.core.frame.DataFrame'>\n",
      "RangeIndex: 397 entries, 0 to 396\n",
      "Data columns (total 4 columns):\n",
      " #   Column       Non-Null Count  Dtype \n",
      "---  ------       --------------  ----- \n",
      " 0   Title        397 non-null    object\n",
      " 1   Date         397 non-null    object\n",
      " 2   Description  397 non-null    object\n",
      " 3   Source       397 non-null    object\n",
      "dtypes: object(4)\n",
      "memory usage: 12.5+ KB\n"
     ]
    },
    {
     "data": {
      "text/html": [
       "<div>\n",
       "<style scoped>\n",
       "    .dataframe tbody tr th:only-of-type {\n",
       "        vertical-align: middle;\n",
       "    }\n",
       "\n",
       "    .dataframe tbody tr th {\n",
       "        vertical-align: top;\n",
       "    }\n",
       "\n",
       "    .dataframe thead th {\n",
       "        text-align: right;\n",
       "    }\n",
       "</style>\n",
       "<table border=\"1\" class=\"dataframe\">\n",
       "  <thead>\n",
       "    <tr style=\"text-align: right;\">\n",
       "      <th></th>\n",
       "      <th>Title</th>\n",
       "      <th>Date</th>\n",
       "      <th>Description</th>\n",
       "      <th>Source</th>\n",
       "    </tr>\n",
       "  </thead>\n",
       "  <tbody>\n",
       "    <tr>\n",
       "      <th>0</th>\n",
       "      <td>Klub Dewa United Basketball Resmi Pindah Kanda...</td>\n",
       "      <td>Senin, 19 Des 2022 23:37 WIB</td>\n",
       "      <td>_KlubDewa United Basketball Resmi Pindah Kanda...</td>\n",
       "      <td>www.tribunnews.com</td>\n",
       "    </tr>\n",
       "    <tr>\n",
       "      <th>1</th>\n",
       "      <td>Jadwal BWF World Tour Finals 2022, Debut Fajar...</td>\n",
       "      <td>Kamis, 01 Des 2022 13:42 WIB</td>\n",
       "      <td>Simak jadwal lengkap perhelatan BWF World Tour...</td>\n",
       "      <td>www.tribunnews.com</td>\n",
       "    </tr>\n",
       "    <tr>\n",
       "      <th>2</th>\n",
       "      <td>Jadwal Badminton BWF 2023: Ada 30 Turnamen Sup...</td>\n",
       "      <td>Rabu, 14 Des 2022 14:34 WIB</td>\n",
       "      <td>Berikut jadwal badminton 2023 yang dirilis ole...</td>\n",
       "      <td>www.tribunnews.com</td>\n",
       "    </tr>\n",
       "    <tr>\n",
       "      <th>3</th>\n",
       "      <td>BWF World Tour Finals 2022: Meski Kalah dari O...</td>\n",
       "      <td>Jumat, 09 Des 2022 15:49 WIB</td>\n",
       "      <td>Fajar Alfian/Muhammad Rian Ardianto lolos ke b...</td>\n",
       "      <td>www.tribunnews.com</td>\n",
       "    </tr>\n",
       "    <tr>\n",
       "      <th>4</th>\n",
       "      <td>Jadwal IBL 2023: Mulai Dari Bali 14 Januari 20...</td>\n",
       "      <td>Rabu, 21 Des 2022 07:05 WIB</td>\n",
       "      <td>\\- Indonesian Basketball League (IBL) 2023 aka...</td>\n",
       "      <td>www.tribunnews.com</td>\n",
       "    </tr>\n",
       "  </tbody>\n",
       "</table>\n",
       "</div>"
      ],
      "text/plain": [
       "                                               Title  \\\n",
       "0  Klub Dewa United Basketball Resmi Pindah Kanda...   \n",
       "1  Jadwal BWF World Tour Finals 2022, Debut Fajar...   \n",
       "2  Jadwal Badminton BWF 2023: Ada 30 Turnamen Sup...   \n",
       "3  BWF World Tour Finals 2022: Meski Kalah dari O...   \n",
       "4  Jadwal IBL 2023: Mulai Dari Bali 14 Januari 20...   \n",
       "\n",
       "                           Date  \\\n",
       "0  Senin, 19 Des 2022 23:37 WIB   \n",
       "1  Kamis, 01 Des 2022 13:42 WIB   \n",
       "2   Rabu, 14 Des 2022 14:34 WIB   \n",
       "3  Jumat, 09 Des 2022 15:49 WIB   \n",
       "4   Rabu, 21 Des 2022 07:05 WIB   \n",
       "\n",
       "                                         Description              Source  \n",
       "0  _KlubDewa United Basketball Resmi Pindah Kanda...  www.tribunnews.com  \n",
       "1  Simak jadwal lengkap perhelatan BWF World Tour...  www.tribunnews.com  \n",
       "2  Berikut jadwal badminton 2023 yang dirilis ole...  www.tribunnews.com  \n",
       "3  Fajar Alfian/Muhammad Rian Ardianto lolos ke b...  www.tribunnews.com  \n",
       "4  \\- Indonesian Basketball League (IBL) 2023 aka...  www.tribunnews.com  "
      ]
     },
     "execution_count": 6,
     "metadata": {},
     "output_type": "execute_result"
    }
   ],
   "source": [
    "df =pd.read_csv(\"news.csv\")\n",
    "df.info()\n",
    "df.head()"
   ]
  },
  {
   "cell_type": "code",
   "execution_count": 7,
   "metadata": {},
   "outputs": [],
   "source": [
    "column = ['Title', 'Date', 'Description', 'Source']\n",
    "df_total = pd.DataFrame()\n",
    "\n",
    "df = pd.read_csv(\"news.csv\")\n",
    "df = df.dropna(subset=['Description'], axis=0)\n",
    "df.sort_values(\"Description\", inplace = True)\n",
    "df.drop_duplicates(subset =\"Description\", keep = False, inplace = True)\n",
    "\n",
    "df.head()\n",
    "df_train_unprocessed, df_test_unprocessed = train_test_split(df,test_size=0.1)"
   ]
  },
  {
   "cell_type": "code",
   "execution_count": 8,
   "metadata": {},
   "outputs": [
    {
     "data": {
      "text/plain": [
       "357"
      ]
     },
     "execution_count": 8,
     "metadata": {},
     "output_type": "execute_result"
    }
   ],
   "source": [
    "# df_first_1000 = df.head(1000)\n",
    "# len(df_first_1000)\n",
    "df_train, df_test = train_test_split(df,test_size=0.1)\n",
    "len(df_train)\n"
   ]
  },
  {
   "cell_type": "code",
   "execution_count": 9,
   "metadata": {},
   "outputs": [],
   "source": [
    "df_train.to_csv(\"corpus/df_train_unprerocessed.csv\" , index = None, header=True)\n",
    "df_test.to_csv(\"corpus/df_test_unprerocessed.csv\" , index = None, header=True)"
   ]
  },
  {
   "cell_type": "code",
   "execution_count": 10,
   "metadata": {},
   "outputs": [
    {
     "data": {
      "text/plain": [
       "['corpus/model/desc_text_test_unprocessed.pkl']"
      ]
     },
     "execution_count": 10,
     "metadata": {},
     "output_type": "execute_result"
    }
   ],
   "source": [
    "desc_text_test_unprocessed = []\n",
    "\n",
    "for x in range(0, df_test_unprocessed.shape[0]):\n",
    "  desc_text_test_unprocessed.append(df_test_unprocessed.iloc[x, -2])\n",
    "\n",
    "joblib.dump(desc_text_test_unprocessed, \"corpus/model/desc_text_test_unprocessed.pkl\")"
   ]
  },
  {
   "cell_type": "code",
   "execution_count": 11,
   "metadata": {},
   "outputs": [],
   "source": [
    "# for x in range(0, df.shape[0]):\n",
    "#     text = preprocessing(df.iloc[x, -2])\n",
    "#     df.iloc[x, -2] = (' '.join(text)) \n",
    "\n",
    "desc_text_train_unpreprocessed = []\n",
    "desc_text_test_unpreprocessed = []\n",
    "\n",
    "for x in range(0, df_train.shape[0]):\n",
    "  desc_text_train_unpreprocessed.append(df_train.iloc[x, -2])\n",
    "\n",
    "for x in range(0, df_test.shape[0]):\n",
    "  desc_text_test_unpreprocessed.append(df_test.iloc[x, -2])"
   ]
  },
  {
   "cell_type": "code",
   "execution_count": 12,
   "metadata": {},
   "outputs": [],
   "source": [
    "# Simpan teks asli dokumen\n",
    "joblib.dump(desc_text_test_unpreprocessed, \"corpus/model/desc_text_test_unpreprocessed.pkl\")\n",
    "joblib.dump(desc_text_train_unpreprocessed, \"corpus/model/desc_text_train_unpreprocessed.pkl\")\n",
    "\n",
    "# Simpan dataframe hasil text processing sebelum TF-IDF Vectorizer\n",
    "df.to_csv('corpus/dataset/df_total_unpreprocessed.csv', index=False)\n",
    "df_test.to_csv('corpus/dataset/df_test_unpreprocessed.csv', index=False)\n",
    "df_train.to_csv('corpus/dataset/df_train_unpreprocessed.csv', index=False)\n"
   ]
  },
  {
   "cell_type": "code",
   "execution_count": 13,
   "metadata": {},
   "outputs": [],
   "source": [
    "for x in range(0, df.shape[0]):\n",
    "    text = preprocessing(df.iloc[x, -2])\n",
    "    df.iloc[x, -2] = (' '.join(text)) "
   ]
  },
  {
   "cell_type": "code",
   "execution_count": 14,
   "metadata": {},
   "outputs": [],
   "source": [
    "desc_text_train = []\n",
    "desc_text_test = []\n",
    "\n",
    "for x in range(0, df_train.shape[0]):\n",
    "  desc_text_train.append(df_train.iloc[x, -2])\n",
    "\n",
    "for x in range(0, df_test.shape[0]):\n",
    "  desc_text_test.append(df_test.iloc[x, -2])"
   ]
  },
  {
   "cell_type": "code",
   "execution_count": 15,
   "metadata": {},
   "outputs": [
    {
     "name": "stdout",
     "output_type": "stream",
     "text": [
      "Panjang Dokumen Test :  40\n",
      "------------------------------------------------------------------------------------------\n",
      "Panjang Dokumen Train :  357\n"
     ]
    }
   ],
   "source": [
    "# print(df_test.info())\n",
    "print(\"Panjang Dokumen Test : \", len(desc_text_test))\n",
    "\n",
    "print ('-'*90)\n",
    "\n",
    "# print(df_train.info())\n",
    "print(\"Panjang Dokumen Train : \", len(desc_text_train))"
   ]
  },
  {
   "cell_type": "code",
   "execution_count": 16,
   "metadata": {},
   "outputs": [],
   "source": [
    "# Simpan teks asli dokumen\n",
    "joblib.dump(desc_text_test, \"corpus/model/desc_text_test.pkl\")\n",
    "joblib.dump(desc_text_train, \"corpus/model/desc_text_train_new.pkl\") #INI\n",
    "\n",
    "# Simpan dataframe hasil text processing sebelum TF-IDF Vectorizer\n",
    "df.to_csv('corpus/dataset/df_total_new.csv', index=False) #INI\n",
    "df_test.to_csv('corpus/dataset/df_test.csv', index=False)\n",
    "df_train.to_csv('corpus/dataset/df_train.csv', index=False)\n"
   ]
  },
  {
   "cell_type": "code",
   "execution_count": 17,
   "metadata": {},
   "outputs": [
    {
     "name": "stdout",
     "output_type": "stream",
     "text": [
      "tfidf_test_matrix\n",
      "(40, 2876)\n",
      "tfidf_train_matrix\n",
      "(357, 11764)\n"
     ]
    }
   ],
   "source": [
    "# Fit transform menggunakan TF-IDF Vectorizer\n",
    "tfidf_vectorizer = TfidfVectorizer()\n",
    "tfidf_test_matrix = tfidf_vectorizer.fit_transform(desc_text_test)\n",
    "tfidf_train_matrix = tfidf_vectorizer.fit_transform(desc_text_train)\n",
    "\n",
    "print('tfidf_test_matrix')\n",
    "print(tfidf_test_matrix.shape)\n",
    "print('tfidf_train_matrix')\n",
    "print(tfidf_train_matrix.shape)"
   ]
  },
  {
   "cell_type": "code",
   "execution_count": 18,
   "metadata": {},
   "outputs": [
    {
     "data": {
      "text/plain": [
       "['corpus/matrix/tfidf_train_new.pkl']"
      ]
     },
     "execution_count": 18,
     "metadata": {},
     "output_type": "execute_result"
    }
   ],
   "source": [
    "joblib.dump(tfidf_vectorizer, \"corpus/vectorizer/vectorizer_new.pkl\") #INI\n",
    "joblib.dump(tfidf_test_matrix, \"corpus/matrix/tfidf_test.pkl\")\n",
    "joblib.dump(tfidf_train_matrix, \"corpus/matrix/tfidf_train_new.pkl\") #INI"
   ]
  },
  {
   "cell_type": "markdown",
   "metadata": {},
   "source": [
    "### Pencarian "
   ]
  },
  {
   "cell_type": "code",
   "execution_count": 19,
   "metadata": {},
   "outputs": [
    {
     "name": "stdout",
     "output_type": "stream",
     "text": [
      "<class 'pandas.core.frame.DataFrame'>\n",
      "Int64Index: 397 entries, 0 to 396\n",
      "Data columns (total 4 columns):\n",
      " #   Column       Non-Null Count  Dtype \n",
      "---  ------       --------------  ----- \n",
      " 0   Title        397 non-null    object\n",
      " 1   Date         397 non-null    object\n",
      " 2   Description  397 non-null    object\n",
      " 3   Source       397 non-null    object\n",
      "dtypes: object(4)\n",
      "memory usage: 15.5+ KB\n",
      "None\n",
      "------------------------------------------------------------------------------------------\n",
      "40\n",
      "357\n"
     ]
    }
   ],
   "source": [
    "df_total = pd.read_csv('corpus/dataset/df_total_new.csv')\n",
    "df_total = df_total[pd.notnull(df_total['Description'])]\n",
    "print(df_total.info())\n",
    "print ('-'*90)\n",
    "\n",
    "document_text_train= joblib.load('corpus/model/desc_text_train_new.pkl')\n",
    "document_text_test= joblib.load('corpus/model/desc_text_test.pkl')\n",
    "print(len(document_text_test))\n",
    "print(len(document_text_train))"
   ]
  },
  {
   "cell_type": "code",
   "execution_count": 20,
   "metadata": {},
   "outputs": [
    {
     "name": "stdout",
     "output_type": "stream",
     "text": [
      "['olahraga']\n",
      "\n",
      "======================\n",
      "\n",
      "Top 10 most similar documents in corpus:\n",
      "No ID Dokumen  :  350\n",
      "Tanggal        :  Rabu, 21 Des 2022 16:53 WIB\n",
      "Isi berita     :  pemenang lanjutan liga 1 persebaya surabaya kontra persis solo duel imbang gol matchday 16 liga 1 2022 mempertemukan persebaya persis laga stadion maguwuharjo sleman rabu 21 12 2022 sore wib persebaya tampil menyerang 10 menit pertandingan serangan membahayakan gawang lawan persis mendominasi permainan pergerakan bola kaki kaki alexis messidoro cs persis mencetak gol menit 20 bola tembakan ryo matsumoto kotak penalti ditepis kiper membentur tiang gawang peluang persis menit berselang fernandes rodriguez bola tembakan jarak dekatnya diblok barisan pertahanan persebaya laskar sambernyawa ancaman turun minum buruknya penyelesaian babak ditutup skor kacamata 0 0 persis mendominasi permainan babak percobaan ryo matsumura fernando rodriguez menit 59 dibendung kiper persebaya ernando ari persebaya mengancam menit berselang peluang silvio dimentahkan penjaga gawang persis gianluca pandeynuwu persis memecah kebuntuan situasi sepak pojok menit 70 ferdinand sinaga menyambut bola corner sundulan bola mencium mistar gawang ferdinand sinaga membobol gawang persebaya tembakan mendatar menit 88 gol dianggap ferdinand offside menerima umpan messidoro tim gagal mencetak gol pluit berbunyi persebaya persis tuntas 0 0 tambahan angka mengubah posisi persebaya urutan 11 19 poin persis tingkat bawahnya 16 poin persebaya surabaya ernando ari sutaryadi koko ari araya leo lelis riswan lauhim altariq ballah muhammad slamat muhammad hidayat brylian aldama higor vidal sho yamamoto silvio persis solo gianluca pandeynuwu muhammad lestaluhu jaime fabiano rosa gavin adsit alexis messidoro shulton fajar alfath fathier ryo matsumura fernando rodriguez irfan jauhari gambas video 20detik\n",
      "(Score: 0.3635) \n",
      "No ID Dokumen  :  265\n",
      "Tanggal        :  Selasa, 13 Des 2022 16:41 WIB\n",
      "Isi berita     :  pelatih psm makassar bernardo tavares protes wasit dinilai mengganggu konsentrasi permainan tim juku eja protes mempengaruhi fokus bermain pengamat sepak bola tony keterangannya selasa 13 12 2022 psm makassar dinilai bermain meraih hasil imbang menghadapi bhayangkara fc stadion maguwoharjo sleman yogyakarta senin 12 12 laga pelatih bernardo tavares mengkritik kepemimpinan wasit thoriq alkatiri psm membiasakan protes wasit kapten protes konsen fokus bermain terangnya mantan pelatih psm makassar menilai wiljan pluim dkk tren bagus musim psm satunya tim tersentuh kekalahan liga 1 2022 2023 psm track point bagus mempertahankan tujuan juara paparnya hasil imbang lawan bhayangkara posisi psm puncak klasemen digeser bali united tim serdadu tridatu memimpin 30 poin psm posisi mengemas 29 poin pelatih bernardo tavares melancarkan protes kepemimpinan wasit thoriq alkatiri psm makassar menghadapi bhayangkara fc bernardo beranggapan psm 2 hadiah penalti dipimpin wasit sejarah menuliskan bermain 10 2 penalti bernardo laga dialami willy wiljan pluim ditarik kotak penalti wasit mengikuti aturan wasit penalti sambungnya gambas video 20detik\n",
      "(Score: 0.3484) \n",
      "No ID Dokumen  :  327\n",
      "Tanggal        :  Sabtu, 17 Des 2022 08:15 WIB\n",
      "Isi berita     :  rekor terkalahkan psm makassar putus menelan kekalahan madura united lanjutan pekan 15 liga 1 2022 2023 situasi pelatih psm bernardo tavares pemainnya kuat kalah menang mentalitas tim menang kepala kalah normal normal memikirkan target pertandingan bernardo tavares sesi konferensi pers kamis 15 12 2022 psm makassar menelan kekalahan madura united lanjutan liga 1 stadion maguwoharjo sleman yogyakarta kamis 15 12 gol tunggal top skor lulinha juku eja mengakui keunggulan sapeh kerrap menelan kekalahan bernardo wiljan pluim cs menjalankan taktik sesuai arahannya skema berjalan laga pertandingan pemain pemain pertandingan melanjutkan pelatih portugal permainan psm dibandingkan juku eja bermain imbang bhayangkara fc senin 12 12 menurutnya anak asuhnya tampil buruk meraih hasil imbang dibandingkan kalah pertandingan kontra madura united tunjukkan pertandingan melawan bhayangkara fc buruk pertandingan alasan sederet peluang diciptakan psm alasan utama bernardo timnya tampil pertandingan melawan sapeh kerrab menurutnya pemainnya kerasnya menciptakan gol berhasil membekukan gol pertandingan anak asuh keras membekukan 4 peluang mencetak gol peluang bekukan unkgkpanya kendati pelatih berlisensi uefa pro evaluasi memulihkan mental anak asuhnya tren kemenangan memulihkan memulihkan mental olahraga sepak bola kadang kadang kalah kadang kadang menang kadang kadang imbang pungkasnya gambas video 20detik\n",
      "(Score: 0.2193) \n",
      "No ID Dokumen  :  308\n",
      "Tanggal        :  Rabu, 14 Des 2022 15:02 WIB\n",
      "Isi berita     :  pesta bola 2022 qatar tontonan menarik masyarakat dunia ayal masyarakat mengadakan nonton bareng nobar rumah tempat nobar menyaksikan pertandingan seru semarak mengadakan nobar teman teman dibutuhkan serangkaian persiapan menyediakan kudapan meramaikan kegiatan seru nggak membosankan rekomendasi makanan minuman teman nobar dilansir sumber camilan sehat buah buahan segar pilihan nikmat nobar memilih buah favoritmu stroberi pisang anggur kiwi melon disajikan piring lengkapi saus cokelat terbuat campuran lelehan cokelat krim kental ekstrak vanila camilan sederhana mudah alternatif segar sehat nobar teman teman pastinya manis segarnya melek menonton pertandingan tim favorit popsicle es krim stik buatan rumah camilan segar dinikmati nonton bola berkreasi buah buahan segar popsicle kopi milk tea sensasi creamy camilan ala latin versi upgrade keripik kering dikonsumsi nonton menikmati nachos ala rumahan saus guacamole sederhana campuran alpukat tumbuk ditambah potongan tomat bawang daun ketumbar garam tetes jeruk nipis cocolan segar keripik nachos mu teman nobar seru menyegarkan cocok dinikmati nonton bola popcorn cocok dinikmati nonton bola berkreasi bahan bahan sederhana rumah camilan lezat siapkan minyak zaitun tambahkan rempah kering oregano thyme popcorn berbeda taburi keju parmesan popcorn buatanmu gurih lezat nikmat ketagihan menyaksikan pesta bola 2022 lupa memenuhi kebutuhan asupan air minum nutrisi terkandung dalamnya pastikan minum air mineral kandungan esensial tubuh sehat menikmati perayaan pesta bola 2022 air mineral pilihan menemanimu menyaksikan pesta bola 2022 minerale produk air mineral esensial menyemarakkan perhelatan sepak bola bergengsi memproduksi kemasan air mineral bernuansa bola kemasan terbatas luncurkan kebih penggemar sepak bola kampanye pilihan sehat menikmati rangkaian tayangan november desember head public relations digital minerale yuna eka kristina keterangan tertulis segar minerale harap membangkitkan kesegaran menjaga kebugaran menyaksikan euforia skala dunia imbuhnya minerale sponsor resmi siaran pesta bola 2022 berkualitas minerale mengandung mineral esensial terjamin sehat bersih memiliki segar cocok teman nobar menyehatkan minerale dikemas higienis lapis proteksi dipercaya konsumen pilihan sehat bersih aman\n",
      "(Score: 0.1743) \n",
      "No ID Dokumen  :  260\n",
      "Tanggal        :  Senin, 05 Des 2022 22:38 WIB\n",
      "Isi berita     :  pelatih bernardo tavares diganjar kartu kuning protes keras wasit memimpin pertandingan psm makassar melawan persikabo bernardo heran keputusan mengutarakan kotor wasit membicarakan kartu kuning dapatkan mudah kartu kuning pelatih bernardo konferensi pers laga senin 5 12 2022 komplain wasit kartu kuning wasit kasih kartu kuning bahasa kotor wasit memanggil nama sebutan sambungnya psm makassar berhasil meraih kemenangan skor 2 0 persikabo stadion sultan agung bantul yogyakarta gol kemenangan juku eja dicetak donald bissa menit 78 everton nascimento menit 88 timnya menorehkan hasil maksimal pelatih berlisensi uefa pro mengomentari kinerja wasit memimpin laga menurutnya keputusan dimunculkan kartu kuning bernardo wajar pelatih meluapkan ekspresi emosi keputusan pengadil lapangan dianggap passion sepak bola sepak bola passion bicara emosi lapangan emosi artian perasaan intruksi ekspresi paparnya bernardo mengutarakan alasannya protes keras wasit lepas keputusan timnya menurutnya momen kartu kuning dianggap berimbang tim lawan dimana pelanggaran keras kartu kuning pemain pelanggaran kerasnya keras dihadiahi kartu pemain lawan paparnya respek pengadil lapangan dinilai kartu kuning lantaran protesnya mengekspresikan keputusan wasit respek berekspresi aturan teknis tekel berekspresi pungkasnya gambas video 20detik\n",
      "(Score: 0.1702) \n",
      "No ID Dokumen  :  181\n",
      "Tanggal        :  Senin, 05 Des 2022 10:10 WIB\n",
      "Isi berita     :  melansir laman resmi organisasi kesehatan dunia who hidrasi pemenuhan kebutuhan air diperhatikan kecukupan cairan berpengaruh kesehatan kebugaran kinerja tubuh takaran mineral air minum mesti dipertimbangkan membantu tubuh bugar atlet sepak bola evan dimas darmono membagikan kiat menjaga tubuh bugar rutin mengonsumsi air mineral esensial evan berusaha memenuhi kecukupan mineral sehari stok minerale botol keluarga rumah rutin disiplin minum air mineral nyetok minerale kardus bangun pagi minum segar minerale membantu malas minum tenggorokan minum minerale botol plong evan dikutip keterangan tertulis minggu 4 12 2022 evan keluarga aman mengonsumsi minerale lantaran produk air mineral terkenal jargon manis manisnya memiliki pembungkus tutup botol seal cap mencegah pemalsuan tutupnya rapat menjaga kandungan mineral esensial utuh tangan masyarakat indonesia evan minerale mendukungnya memiliki tubuh bugar minerale mengandung mineral esensial tubuh evan mengembalikan kebugaran tubuhnya beraktivitas berat selepas latihan bertanding dimana tubuh berat kehilangan mineral mengisinya cepat praktis minerale segarnya tubuh bugar evan informasi minerale menyemarakkan perhelatan pesta bola 2022 20 november 18 desember 2022 qatar menghadirkan kemasan air mineral bernuansa bola gambas video 20detik\n",
      "(Score: 0.1496) \n",
      "No ID Dokumen  :  72\n",
      "Tanggal        :  Kamis, 22 Des 2022 08:45 WIB\n",
      "Isi berita     :  bomber borneo fc matheus pato terens puhiri diproyeksi mempersulit lini psm makassar bertemu pekan 17 liga 1 2022 2023 pengamat sepak bola budiardjo thalib mengutarakan alasan pemain wajib diwaspadai psm duel borneo fc melawan psm makassar stadion sultan agung bantul yogyakarta jumat 23 12 2022 kick off 21 15 wita lawan borneo pertandingan seru borneo tim kuat pemain borneo bagus psm budiardjo thalib berbincang rabu 21 12 2 pemain situ striker pato kiri terens puhiri dihambat pemain pemain psm sambungnya pato terens puhiri sejatinya pilar utama lini borneo fc mengarungi kompetisi liga 1 tergantikan lini pesut etam era milomir seslija andre gaspar budiardjo menerangkan sekian gol diciptakan borneo fc peran pemain lini psm mengimbangi pergerakan pemain gol borneo samping patut diwaspadai pemain pemain psm gelandang bertahan psm paparnya budiardjo borneo fc tampil spartan menjaga papan klasemen liga 1 laga berjalan ketat borneo kalah memimpin klasemen putaran pelatih sukses mengantarkan persik kediri menjuarai liga 2 2019 promosi liga 1 2020 wiljan pluim dkk mengimbangi permainan cepat pesut etam lakukan menghadapi borneo permainan cepat kaki kaki umpan umpan terukur terangnya kendati budiardjo optimis pelatih bernardo tavares hasil positif performa psm konsisten mengalami kalah 15 laga dijalani bernardo tavares paham karakter pemain bernardo tavares video pertandingan borneo pungkasnya 33 gol diciptakan borneo fc striker matheus pato menyumbang 12 gol top skor liga 1 bersaing david silva mengemas 13 gol terens puhiri mencatatkan 3 gol 4 assist 11 pertandingan dijalani psm makassar menduduki posisi 2 klasemen liga 1 32 poin pemuncak klasemen madura united borneo fc membayangi posisi 3 31 poin disusul bali united posisi 4 30 poin gambas video 20detik\n",
      "(Score: 0.1417) \n",
      "No ID Dokumen  :  43\n",
      "Tanggal        :  Minggu, 04 Des 2022 02:48 WIB\n",
      "Isi berita     :  argentina australia berduel babak 16 piala dunia 2022 lionel messi sukses membawa albiceleste memimpin babak duel argentina melawan australia tersaji ahmaed bin ali stadium minggu 4 12 2022 wib permainan berjalan ketat 10 menit tembakan argentina mengutak atik bola wilayah sepertiga australia tim tanggo kesulitan menembus kotak penalti lawan papu gomes mencoba tembakan spekulasi kotak penalti alih alih mengarah gawang bola melebar target australia kemelut kotak penalti sepak pojok bola disundul harry souttar blok pemain lawan berhasil disapu cristian romero lionel messi memecah kebuntuan argentina menit 35 melepaskan tembakan melengkung mendatar tiang mengambil bola nicolas odamendi terlepas mengontrol umpan alexis mac allister unggul 1 0 argentina mengontrol kendali permainan australia berusaha agresif mencari gol penyeimbang australia tampil kebobolan wakil asia memilih menunggu kesempatan menekan argentina turun minum gol balasan argentina martinez molina romero otamendi acu paul enzo fern ndez mac allister messi lvarez papu gomez australia ryan degenek rowles souttar behich baccus mooy irvine leckie duke mcgree gambas video 20detik\n",
      "(Score: 0.1399) \n",
      "No ID Dokumen  :  25\n",
      "Tanggal        :  Rabu, 21 Des 2022 20:53 WIB\n",
      "Isi berita     :  aksi protes dilayangkan pelatih psm makassar bernardo tavares kinerja wasit liga 1 menuai sorotan pelatih portugal mengajukan protes sesuai aturan disertai bukti psm melayangkan protes dilampirkan bukti bukti pengamat sepak bola tony rabu 21 12 2022 tony menilai aksi protes wasit pertandingan sepak bola menekankan mekanisme diatur melayangkan protes catatannya bukti wasit memimpinnya imbuhnya menurutnya bernardo pelatih mesti contoh bertindak pelatih contoh bernardo mengeluhkan kinerja wasit timnya menjamu psis semarang stadion sultan agung bantul senin 19 12 psm menang 2 0 laskar mahesa jenar pelatih berlisensi afc pro menuding wasit dwi susilo memimpin laga adil dipimpin wasit sejarah menuliskan bermain 10 2 penalti bernardo laga melawan psis bernardo timnya dirugikan wasit dki jakarta tolong respek lakukan wasit kemarin kesalahan pertandingan musim kemarin melawan borneo bebernya gambas video 20detik\n",
      "(Score: 0.1368) \n",
      "No ID Dokumen  :  152\n",
      "Tanggal        :  Minggu, 18 Des 2022 20:17 WIB\n",
      "Isi berita     :  laga final piala dunia 2022 argentina prancis diselenggarakan lusail iconic stadium lusail malam 22 00 wib wali kota solo gibran rakabuming raka menjagokan prancis juara piala dunia 2022 ditemui gor sritex arena solo gibran mengaku mendukung prancis babak final piala dunia 2022 dukung prancis final piala dunia gibran gor sritex arena solo minggu 18 12 2022 gibran istrinya selvi ananda mengantar putra bungsu ethes srinarendra mengikuti exhibition basket gibran memprediksi prancis unggul tipis argentina memprediksi prancis menang skor 2 1 prediksi skor gibran melansir argentina melaju final piala dunia 2022 kemenangan kalah satunya kekalahan tim tango fase grup kontra arab saudi 1 2 argentina tancap gas fase gugur argentina bermain adu penalti kontra belanda hasil imbang 2 2 waktu normal sisanya menang australia 2 1 kroasia 3 0 prancis menang kalah piala dunia 2022 satunya kekalahan tim ayam jantan hadapi tunisia 0 1 fase grup mempengaruhi kelolosan fase gugur menariknya prancis bermain babak perpanjangan waktu adu penalti fase gugur polandia inggris maroko dikalahkannya waktu normal gambas video 20detik\n",
      "(Score: 0.1175) \n"
     ]
    }
   ],
   "source": [
    "kueri='olahraga'\n",
    "kueri=preprocessing(kueri)\n",
    "kueri= [\" \".join (kueri)]\n",
    "print (kueri)\n",
    "\n",
    "tfidf_matrix =joblib.load( \"corpus/matrix/tfidf_train_new.pkl\" )\n",
    "tfidf_vectorizer = joblib.load( \"corpus/vectorizer/vectorizer_new.pkl\" ) \n",
    "query_vec= tfidf_vectorizer.transform(kueri)\n",
    "results=cosine_similarity(tfidf_matrix, query_vec).reshape((-1))\n",
    "#print (results)\n",
    "print(\"\\n======================\\n\")\n",
    "print(\"Top 10 most similar documents in corpus:\")\n",
    "\n",
    "j = 1\n",
    "\n",
    "for i in results.argsort()[-10:][::-1]:\n",
    "    print(\"No ID Dokumen  : \", i)\n",
    "    print(\"Tanggal        : \", df_total.iloc[i,1])\n",
    "    print(\"Isi berita     : \", df_total.iloc[i,2])\n",
    "    print(\"(Score: %.4f) \" % results[i])"
   ]
  }
 ],
 "metadata": {
  "kernelspec": {
   "display_name": "Python 3",
   "language": "python",
   "name": "python3"
  },
  "language_info": {
   "codemirror_mode": {
    "name": "ipython",
    "version": 3
   },
   "file_extension": ".py",
   "mimetype": "text/x-python",
   "name": "python",
   "nbconvert_exporter": "python",
   "pygments_lexer": "ipython3",
   "version": "3.9.13"
  },
  "vscode": {
   "interpreter": {
    "hash": "52634da84371cba311ea128a5ea7cdc41ff074b781779e754b270ff9f8153cee"
   }
  }
 },
 "nbformat": 4,
 "nbformat_minor": 2
}
