{
 "cells": [
  {
   "cell_type": "code",
   "execution_count": 2,
   "metadata": {},
   "outputs": [],
   "source": [
    "import numpy as np # linear algebra\n",
    "import pandas as pd # data processing, CSV file I/O (e.g. pd.read_csv)\n",
    "import matplotlib.pyplot as plt # for data visualization\n",
    "import seaborn as sns # for statistical data visualization\n",
    "%matplotlib inline\n",
    "\n",
    "# Input data files are available in the \"../input/\" directory.\n",
    "# For example, running this (by clicking run or pressing Shift+Enter) will list all files under the input directory\n",
    "\n",
    "\n"
   ]
  },
  {
   "cell_type": "code",
   "execution_count": 41,
   "metadata": {},
   "outputs": [
    {
     "data": {
      "text/html": [
       "<div>\n",
       "<style scoped>\n",
       "    .dataframe tbody tr th:only-of-type {\n",
       "        vertical-align: middle;\n",
       "    }\n",
       "\n",
       "    .dataframe tbody tr th {\n",
       "        vertical-align: top;\n",
       "    }\n",
       "\n",
       "    .dataframe thead th {\n",
       "        text-align: right;\n",
       "    }\n",
       "</style>\n",
       "<table border=\"1\" class=\"dataframe\">\n",
       "  <thead>\n",
       "    <tr style=\"text-align: right;\">\n",
       "      <th></th>\n",
       "      <th>No Document</th>\n",
       "      <th>title</th>\n",
       "      <th>Description</th>\n",
       "      <th>tingkat_internasional</th>\n",
       "      <th>tingkat_nasional</th>\n",
       "      <th>tingkat_provkot</th>\n",
       "      <th>tingkat_kejuaraan</th>\n",
       "      <th>kode</th>\n",
       "    </tr>\n",
       "  </thead>\n",
       "  <tbody>\n",
       "    <tr>\n",
       "      <th>0</th>\n",
       "      <td>0</td>\n",
       "      <td>Presiden BWF: Liliyana Natsir Bikin yang Susah...</td>\n",
       "      <td>\\- , yang didaulat masuk bwf hall of fame, men...</td>\n",
       "      <td>1</td>\n",
       "      <td>0</td>\n",
       "      <td>0</td>\n",
       "      <td>Internasional</td>\n",
       "      <td>2</td>\n",
       "    </tr>\n",
       "    <tr>\n",
       "      <th>1</th>\n",
       "      <td>1</td>\n",
       "      <td>Kebanggaan Aji Santoso Meski Persebaya Dikalah...</td>\n",
       "      <td>\\- pelatih persebaya surabaya aji santoso meng...</td>\n",
       "      <td>0</td>\n",
       "      <td>1</td>\n",
       "      <td>0</td>\n",
       "      <td>Nasional</td>\n",
       "      <td>1</td>\n",
       "    </tr>\n",
       "    <tr>\n",
       "      <th>2</th>\n",
       "      <td>2</td>\n",
       "      <td>Jadi Ketum Perbasi DKI, Lexyndo Hakim Buktikan...</td>\n",
       "      <td>\\- lexyndo hakim menjadi pemimpin perbasi dki ...</td>\n",
       "      <td>0</td>\n",
       "      <td>0</td>\n",
       "      <td>1</td>\n",
       "      <td>Provkota</td>\n",
       "      <td>0</td>\n",
       "    </tr>\n",
       "    <tr>\n",
       "      <th>3</th>\n",
       "      <td>3</td>\n",
       "      <td>Tim Voli Putra Indonesia Lolos ke Semifinal SE...</td>\n",
       "      <td>\\- tim voli putra indonesia memastikan tiket k...</td>\n",
       "      <td>1</td>\n",
       "      <td>0</td>\n",
       "      <td>0</td>\n",
       "      <td>Internasional</td>\n",
       "      <td>2</td>\n",
       "    </tr>\n",
       "    <tr>\n",
       "      <th>4</th>\n",
       "      <td>4</td>\n",
       "      <td>Berharap pada Menpora Baru dalam Penyelesaian ...</td>\n",
       "      <td>\\- atlet tenis meja nasional yon mardiono suda...</td>\n",
       "      <td>0</td>\n",
       "      <td>1</td>\n",
       "      <td>0</td>\n",
       "      <td>Nasional</td>\n",
       "      <td>1</td>\n",
       "    </tr>\n",
       "  </tbody>\n",
       "</table>\n",
       "</div>"
      ],
      "text/plain": [
       "   No Document                                              title  \\\n",
       "0            0  Presiden BWF: Liliyana Natsir Bikin yang Susah...   \n",
       "1            1  Kebanggaan Aji Santoso Meski Persebaya Dikalah...   \n",
       "2            2  Jadi Ketum Perbasi DKI, Lexyndo Hakim Buktikan...   \n",
       "3            3  Tim Voli Putra Indonesia Lolos ke Semifinal SE...   \n",
       "4            4  Berharap pada Menpora Baru dalam Penyelesaian ...   \n",
       "\n",
       "                                         Description  tingkat_internasional  \\\n",
       "0  \\- , yang didaulat masuk bwf hall of fame, men...                      1   \n",
       "1  \\- pelatih persebaya surabaya aji santoso meng...                      0   \n",
       "2  \\- lexyndo hakim menjadi pemimpin perbasi dki ...                      0   \n",
       "3  \\- tim voli putra indonesia memastikan tiket k...                      1   \n",
       "4  \\- atlet tenis meja nasional yon mardiono suda...                      0   \n",
       "\n",
       "   tingkat_nasional  tingkat_provkot tingkat_kejuaraan  kode  \n",
       "0                 0                0     Internasional     2  \n",
       "1                 1                0          Nasional     1  \n",
       "2                 0                1          Provkota     0  \n",
       "3                 0                0     Internasional     2  \n",
       "4                 1                0          Nasional     1  "
      ]
     },
     "execution_count": 41,
     "metadata": {},
     "output_type": "execute_result"
    }
   ],
   "source": [
    "# Dataset load (CSV)\n",
    "df = pd.read_excel('datakontol')\n",
    "df.head()"
   ]
  },
  {
   "cell_type": "code",
   "execution_count": 5,
   "metadata": {},
   "outputs": [
    {
     "data": {
      "text/html": [
       "<div>\n",
       "<style scoped>\n",
       "    .dataframe tbody tr th:only-of-type {\n",
       "        vertical-align: middle;\n",
       "    }\n",
       "\n",
       "    .dataframe tbody tr th {\n",
       "        vertical-align: top;\n",
       "    }\n",
       "\n",
       "    .dataframe thead th {\n",
       "        text-align: right;\n",
       "    }\n",
       "</style>\n",
       "<table border=\"1\" class=\"dataframe\">\n",
       "  <thead>\n",
       "    <tr style=\"text-align: right;\">\n",
       "      <th></th>\n",
       "      <th>No Document</th>\n",
       "      <th>title</th>\n",
       "      <th>Description</th>\n",
       "      <th>tingkat_internasional</th>\n",
       "      <th>tingkat_nasional</th>\n",
       "      <th>tingkat_provkot</th>\n",
       "      <th>tingkat_kejuaraan</th>\n",
       "      <th>kode</th>\n",
       "    </tr>\n",
       "  </thead>\n",
       "  <tbody>\n",
       "    <tr>\n",
       "      <th>1</th>\n",
       "      <td>1</td>\n",
       "      <td>Kebanggaan Aji Santoso Meski Persebaya Dikalah...</td>\n",
       "      <td>\\- pelatih persebaya surabaya aji santoso meng...</td>\n",
       "      <td>0</td>\n",
       "      <td>1</td>\n",
       "      <td>0</td>\n",
       "      <td>Nasional</td>\n",
       "      <td>1</td>\n",
       "    </tr>\n",
       "    <tr>\n",
       "      <th>2</th>\n",
       "      <td>2</td>\n",
       "      <td>Jadi Ketum Perbasi DKI, Lexyndo Hakim Buktikan...</td>\n",
       "      <td>\\- lexyndo hakim menjadi pemimpin perbasi dki ...</td>\n",
       "      <td>0</td>\n",
       "      <td>0</td>\n",
       "      <td>1</td>\n",
       "      <td>Provkota</td>\n",
       "      <td>0</td>\n",
       "    </tr>\n",
       "    <tr>\n",
       "      <th>3</th>\n",
       "      <td>3</td>\n",
       "      <td>Tim Voli Putra Indonesia Lolos ke Semifinal SE...</td>\n",
       "      <td>\\- tim voli putra indonesia memastikan tiket k...</td>\n",
       "      <td>1</td>\n",
       "      <td>0</td>\n",
       "      <td>0</td>\n",
       "      <td>Internasional</td>\n",
       "      <td>2</td>\n",
       "    </tr>\n",
       "    <tr>\n",
       "      <th>4</th>\n",
       "      <td>4</td>\n",
       "      <td>Berharap pada Menpora Baru dalam Penyelesaian ...</td>\n",
       "      <td>\\- atlet tenis meja nasional yon mardiono suda...</td>\n",
       "      <td>0</td>\n",
       "      <td>1</td>\n",
       "      <td>0</td>\n",
       "      <td>Nasional</td>\n",
       "      <td>1</td>\n",
       "    </tr>\n",
       "    <tr>\n",
       "      <th>5</th>\n",
       "      <td>5</td>\n",
       "      <td>Mampukah Honda Pertahankan Takhta di Sachsenri...</td>\n",
       "      <td>\\- akhir pekan ini motogp jerman 2022 akan dig...</td>\n",
       "      <td>1</td>\n",
       "      <td>0</td>\n",
       "      <td>0</td>\n",
       "      <td>Internasional</td>\n",
       "      <td>2</td>\n",
       "    </tr>\n",
       "  </tbody>\n",
       "</table>\n",
       "</div>"
      ],
      "text/plain": [
       "   No Document                                              title  \\\n",
       "1            1  Kebanggaan Aji Santoso Meski Persebaya Dikalah...   \n",
       "2            2  Jadi Ketum Perbasi DKI, Lexyndo Hakim Buktikan...   \n",
       "3            3  Tim Voli Putra Indonesia Lolos ke Semifinal SE...   \n",
       "4            4  Berharap pada Menpora Baru dalam Penyelesaian ...   \n",
       "5            5  Mampukah Honda Pertahankan Takhta di Sachsenri...   \n",
       "\n",
       "                                         Description  tingkat_internasional  \\\n",
       "1  \\- pelatih persebaya surabaya aji santoso meng...                      0   \n",
       "2  \\- lexyndo hakim menjadi pemimpin perbasi dki ...                      0   \n",
       "3  \\- tim voli putra indonesia memastikan tiket k...                      1   \n",
       "4  \\- atlet tenis meja nasional yon mardiono suda...                      0   \n",
       "5  \\- akhir pekan ini motogp jerman 2022 akan dig...                      1   \n",
       "\n",
       "   tingkat_nasional  tingkat_provkot tingkat_kejuaraan  kode  \n",
       "1                 1                0          Nasional     1  \n",
       "2                 0                1          Provkota     0  \n",
       "3                 0                0     Internasional     2  \n",
       "4                 1                0          Nasional     1  \n",
       "5                 0                0     Internasional     2  "
      ]
     },
     "execution_count": 5,
     "metadata": {},
     "output_type": "execute_result"
    }
   ],
   "source": [
    "# df = df.iloc[1: , :]\n",
    "col_names = [\"No Document\", \"title\", \"Description\", \"tingkat_internasional\", \"tingkat_nasional\", \"tingkat_provkot\",\"tingkat_kejuaraan\",\"kode\"]\n",
    "df.columns = col_names\n",
    "\n",
    "df.head()"
   ]
  },
  {
   "cell_type": "code",
   "execution_count": 6,
   "metadata": {},
   "outputs": [
    {
     "data": {
      "text/plain": [
       "(146, 8)"
      ]
     },
     "execution_count": 6,
     "metadata": {},
     "output_type": "execute_result"
    }
   ],
   "source": [
    "df.shape"
   ]
  },
  {
   "cell_type": "code",
   "execution_count": 7,
   "metadata": {},
   "outputs": [
    {
     "name": "stdout",
     "output_type": "stream",
     "text": [
      "<class 'pandas.core.frame.DataFrame'>\n",
      "RangeIndex: 146 entries, 1 to 146\n",
      "Data columns (total 8 columns):\n",
      " #   Column                 Non-Null Count  Dtype \n",
      "---  ------                 --------------  ----- \n",
      " 0   No Document            146 non-null    int64 \n",
      " 1   title                  146 non-null    object\n",
      " 2   Description            146 non-null    object\n",
      " 3   tingkat_internasional  146 non-null    int64 \n",
      " 4   tingkat_nasional       146 non-null    int64 \n",
      " 5   tingkat_provkot        146 non-null    int64 \n",
      " 6   tingkat_kejuaraan      146 non-null    object\n",
      " 7   kode                   146 non-null    int64 \n",
      "dtypes: int64(5), object(3)\n",
      "memory usage: 9.3+ KB\n"
     ]
    }
   ],
   "source": [
    "df.info()"
   ]
  },
  {
   "cell_type": "code",
   "execution_count": 8,
   "metadata": {},
   "outputs": [
    {
     "data": {
      "text/plain": [
       "No Document              0\n",
       "title                    0\n",
       "Description              0\n",
       "tingkat_internasional    0\n",
       "tingkat_nasional         0\n",
       "tingkat_provkot          0\n",
       "tingkat_kejuaraan        0\n",
       "kode                     0\n",
       "dtype: int64"
      ]
     },
     "execution_count": 8,
     "metadata": {},
     "output_type": "execute_result"
    }
   ],
   "source": [
    "df.isnull().sum()"
   ]
  },
  {
   "cell_type": "code",
   "execution_count": 9,
   "metadata": {},
   "outputs": [
    {
     "data": {
      "text/html": [
       "<div>\n",
       "<style scoped>\n",
       "    .dataframe tbody tr th:only-of-type {\n",
       "        vertical-align: middle;\n",
       "    }\n",
       "\n",
       "    .dataframe tbody tr th {\n",
       "        vertical-align: top;\n",
       "    }\n",
       "\n",
       "    .dataframe thead th {\n",
       "        text-align: right;\n",
       "    }\n",
       "</style>\n",
       "<table border=\"1\" class=\"dataframe\">\n",
       "  <thead>\n",
       "    <tr style=\"text-align: right;\">\n",
       "      <th></th>\n",
       "      <th>No Document</th>\n",
       "      <th>tingkat_internasional</th>\n",
       "      <th>tingkat_nasional</th>\n",
       "      <th>tingkat_provkot</th>\n",
       "      <th>kode</th>\n",
       "    </tr>\n",
       "  </thead>\n",
       "  <tbody>\n",
       "    <tr>\n",
       "      <th>count</th>\n",
       "      <td>146.00</td>\n",
       "      <td>146.00</td>\n",
       "      <td>146.00</td>\n",
       "      <td>146.00</td>\n",
       "      <td>146.00</td>\n",
       "    </tr>\n",
       "    <tr>\n",
       "      <th>mean</th>\n",
       "      <td>73.98</td>\n",
       "      <td>0.36</td>\n",
       "      <td>0.33</td>\n",
       "      <td>0.31</td>\n",
       "      <td>1.05</td>\n",
       "    </tr>\n",
       "    <tr>\n",
       "      <th>std</th>\n",
       "      <td>42.73</td>\n",
       "      <td>0.48</td>\n",
       "      <td>0.47</td>\n",
       "      <td>0.46</td>\n",
       "      <td>0.82</td>\n",
       "    </tr>\n",
       "    <tr>\n",
       "      <th>min</th>\n",
       "      <td>1.00</td>\n",
       "      <td>0.00</td>\n",
       "      <td>0.00</td>\n",
       "      <td>0.00</td>\n",
       "      <td>0.00</td>\n",
       "    </tr>\n",
       "    <tr>\n",
       "      <th>25%</th>\n",
       "      <td>37.25</td>\n",
       "      <td>0.00</td>\n",
       "      <td>0.00</td>\n",
       "      <td>0.00</td>\n",
       "      <td>0.00</td>\n",
       "    </tr>\n",
       "    <tr>\n",
       "      <th>50%</th>\n",
       "      <td>73.50</td>\n",
       "      <td>0.00</td>\n",
       "      <td>0.00</td>\n",
       "      <td>0.00</td>\n",
       "      <td>1.00</td>\n",
       "    </tr>\n",
       "    <tr>\n",
       "      <th>75%</th>\n",
       "      <td>110.75</td>\n",
       "      <td>1.00</td>\n",
       "      <td>1.00</td>\n",
       "      <td>1.00</td>\n",
       "      <td>2.00</td>\n",
       "    </tr>\n",
       "    <tr>\n",
       "      <th>max</th>\n",
       "      <td>147.00</td>\n",
       "      <td>1.00</td>\n",
       "      <td>1.00</td>\n",
       "      <td>1.00</td>\n",
       "      <td>2.00</td>\n",
       "    </tr>\n",
       "  </tbody>\n",
       "</table>\n",
       "</div>"
      ],
      "text/plain": [
       "       No Document  tingkat_internasional  tingkat_nasional  tingkat_provkot  \\\n",
       "count       146.00                 146.00            146.00           146.00   \n",
       "mean         73.98                   0.36              0.33             0.31   \n",
       "std          42.73                   0.48              0.47             0.46   \n",
       "min           1.00                   0.00              0.00             0.00   \n",
       "25%          37.25                   0.00              0.00             0.00   \n",
       "50%          73.50                   0.00              0.00             0.00   \n",
       "75%         110.75                   1.00              1.00             1.00   \n",
       "max         147.00                   1.00              1.00             1.00   \n",
       "\n",
       "         kode  \n",
       "count  146.00  \n",
       "mean     1.05  \n",
       "std      0.82  \n",
       "min      0.00  \n",
       "25%      0.00  \n",
       "50%      1.00  \n",
       "75%      2.00  \n",
       "max      2.00  "
      ]
     },
     "execution_count": 9,
     "metadata": {},
     "output_type": "execute_result"
    }
   ],
   "source": [
    "round(df.describe(),2)"
   ]
  },
  {
   "cell_type": "code",
   "execution_count": 10,
   "metadata": {},
   "outputs": [],
   "source": [
    "from sklearn.pipeline import make_pipeline\n",
    "from sklearn.preprocessing import StandardScaler, LabelEncoder\n",
    "from sklearn.svm import SVC\n",
    "from sklearn import preprocessing\n",
    "clf = make_pipeline(StandardScaler(), SVC())"
   ]
  },
  {
   "cell_type": "code",
   "execution_count": 11,
   "metadata": {},
   "outputs": [],
   "source": [
    "le = preprocessing.LabelEncoder()\n",
    "# list(le.inverse_transform([2, 2, 1]))"
   ]
  },
  {
   "cell_type": "code",
   "execution_count": 12,
   "metadata": {},
   "outputs": [
    {
     "data": {
      "text/html": [
       "<style>#sk-container-id-1 {color: black;background-color: white;}#sk-container-id-1 pre{padding: 0;}#sk-container-id-1 div.sk-toggleable {background-color: white;}#sk-container-id-1 label.sk-toggleable__label {cursor: pointer;display: block;width: 100%;margin-bottom: 0;padding: 0.3em;box-sizing: border-box;text-align: center;}#sk-container-id-1 label.sk-toggleable__label-arrow:before {content: \"▸\";float: left;margin-right: 0.25em;color: #696969;}#sk-container-id-1 label.sk-toggleable__label-arrow:hover:before {color: black;}#sk-container-id-1 div.sk-estimator:hover label.sk-toggleable__label-arrow:before {color: black;}#sk-container-id-1 div.sk-toggleable__content {max-height: 0;max-width: 0;overflow: hidden;text-align: left;background-color: #f0f8ff;}#sk-container-id-1 div.sk-toggleable__content pre {margin: 0.2em;color: black;border-radius: 0.25em;background-color: #f0f8ff;}#sk-container-id-1 input.sk-toggleable__control:checked~div.sk-toggleable__content {max-height: 200px;max-width: 100%;overflow: auto;}#sk-container-id-1 input.sk-toggleable__control:checked~label.sk-toggleable__label-arrow:before {content: \"▾\";}#sk-container-id-1 div.sk-estimator input.sk-toggleable__control:checked~label.sk-toggleable__label {background-color: #d4ebff;}#sk-container-id-1 div.sk-label input.sk-toggleable__control:checked~label.sk-toggleable__label {background-color: #d4ebff;}#sk-container-id-1 input.sk-hidden--visually {border: 0;clip: rect(1px 1px 1px 1px);clip: rect(1px, 1px, 1px, 1px);height: 1px;margin: -1px;overflow: hidden;padding: 0;position: absolute;width: 1px;}#sk-container-id-1 div.sk-estimator {font-family: monospace;background-color: #f0f8ff;border: 1px dotted black;border-radius: 0.25em;box-sizing: border-box;margin-bottom: 0.5em;}#sk-container-id-1 div.sk-estimator:hover {background-color: #d4ebff;}#sk-container-id-1 div.sk-parallel-item::after {content: \"\";width: 100%;border-bottom: 1px solid gray;flex-grow: 1;}#sk-container-id-1 div.sk-label:hover label.sk-toggleable__label {background-color: #d4ebff;}#sk-container-id-1 div.sk-serial::before {content: \"\";position: absolute;border-left: 1px solid gray;box-sizing: border-box;top: 0;bottom: 0;left: 50%;z-index: 0;}#sk-container-id-1 div.sk-serial {display: flex;flex-direction: column;align-items: center;background-color: white;padding-right: 0.2em;padding-left: 0.2em;position: relative;}#sk-container-id-1 div.sk-item {position: relative;z-index: 1;}#sk-container-id-1 div.sk-parallel {display: flex;align-items: stretch;justify-content: center;background-color: white;position: relative;}#sk-container-id-1 div.sk-item::before, #sk-container-id-1 div.sk-parallel-item::before {content: \"\";position: absolute;border-left: 1px solid gray;box-sizing: border-box;top: 0;bottom: 0;left: 50%;z-index: -1;}#sk-container-id-1 div.sk-parallel-item {display: flex;flex-direction: column;z-index: 1;position: relative;background-color: white;}#sk-container-id-1 div.sk-parallel-item:first-child::after {align-self: flex-end;width: 50%;}#sk-container-id-1 div.sk-parallel-item:last-child::after {align-self: flex-start;width: 50%;}#sk-container-id-1 div.sk-parallel-item:only-child::after {width: 0;}#sk-container-id-1 div.sk-dashed-wrapped {border: 1px dashed gray;margin: 0 0.4em 0.5em 0.4em;box-sizing: border-box;padding-bottom: 0.4em;background-color: white;}#sk-container-id-1 div.sk-label label {font-family: monospace;font-weight: bold;display: inline-block;line-height: 1.2em;}#sk-container-id-1 div.sk-label-container {text-align: center;}#sk-container-id-1 div.sk-container {/* jupyter's `normalize.less` sets `[hidden] { display: none; }` but bootstrap.min.css set `[hidden] { display: none !important; }` so we also need the `!important` here to be able to override the default hidden behavior on the sphinx rendered scikit-learn.org. See: https://github.com/scikit-learn/scikit-learn/issues/21755 */display: inline-block !important;position: relative;}#sk-container-id-1 div.sk-text-repr-fallback {display: none;}</style><div id=\"sk-container-id-1\" class=\"sk-top-container\"><div class=\"sk-text-repr-fallback\"><pre>LabelEncoder()</pre><b>In a Jupyter environment, please rerun this cell to show the HTML representation or trust the notebook. <br />On GitHub, the HTML representation is unable to render, please try loading this page with nbviewer.org.</b></div><div class=\"sk-container\" hidden><div class=\"sk-item\"><div class=\"sk-estimator sk-toggleable\"><input class=\"sk-toggleable__control sk-hidden--visually\" id=\"sk-estimator-id-1\" type=\"checkbox\" checked><label for=\"sk-estimator-id-1\" class=\"sk-toggleable__label sk-toggleable__label-arrow\">LabelEncoder</label><div class=\"sk-toggleable__content\"><pre>LabelEncoder()</pre></div></div></div></div></div>"
      ],
      "text/plain": [
       "LabelEncoder()"
      ]
     },
     "execution_count": 12,
     "metadata": {},
     "output_type": "execute_result"
    }
   ],
   "source": [
    "le.fit([\"Internasional\", \"Nasional\", \"Provkota\"])"
   ]
  },
  {
   "cell_type": "code",
   "execution_count": 13,
   "metadata": {},
   "outputs": [
    {
     "data": {
      "text/plain": [
       "['Internasional', 'Nasional', 'Provkota']"
      ]
     },
     "execution_count": 13,
     "metadata": {},
     "output_type": "execute_result"
    }
   ],
   "source": [
    "list(le.classes_)"
   ]
  },
  {
   "cell_type": "code",
   "execution_count": 14,
   "metadata": {},
   "outputs": [
    {
     "data": {
      "text/plain": [
       "array([0, 0, 1, 2])"
      ]
     },
     "execution_count": 14,
     "metadata": {},
     "output_type": "execute_result"
    }
   ],
   "source": [
    "le.transform([\"Internasional\", \"Internasional\", \"Nasional\", \"Provkota\"])"
   ]
  },
  {
   "cell_type": "code",
   "execution_count": 15,
   "metadata": {},
   "outputs": [
    {
     "data": {
      "text/plain": [
       "['Internasional', 'Provkota', 'Nasional']"
      ]
     },
     "execution_count": 15,
     "metadata": {},
     "output_type": "execute_result"
    }
   ],
   "source": [
    "list(le.inverse_transform([0, 2, 1]))"
   ]
  },
  {
   "cell_type": "code",
   "execution_count": 16,
   "metadata": {},
   "outputs": [
    {
     "name": "stdout",
     "output_type": "stream",
     "text": [
      "<class 'pandas.core.frame.DataFrame'>\n",
      "RangeIndex: 146 entries, 1 to 146\n",
      "Data columns (total 8 columns):\n",
      " #   Column                 Non-Null Count  Dtype \n",
      "---  ------                 --------------  ----- \n",
      " 0   No Document            146 non-null    int64 \n",
      " 1   title                  146 non-null    object\n",
      " 2   Description            146 non-null    object\n",
      " 3   tingkat_internasional  146 non-null    int64 \n",
      " 4   tingkat_nasional       146 non-null    int64 \n",
      " 5   tingkat_provkot        146 non-null    int64 \n",
      " 6   tingkat_kejuaraan      146 non-null    object\n",
      " 7   kode                   146 non-null    int64 \n",
      "dtypes: int64(5), object(3)\n",
      "memory usage: 9.3+ KB\n"
     ]
    }
   ],
   "source": [
    "# View summary of dataset\n",
    "df.info()"
   ]
  },
  {
   "cell_type": "code",
   "execution_count": 42,
   "metadata": {},
   "outputs": [
    {
     "data": {
      "text/plain": [
       "(147, 8)"
      ]
     },
     "execution_count": 42,
     "metadata": {},
     "output_type": "execute_result"
    }
   ],
   "source": [
    "df.shape"
   ]
  },
  {
   "cell_type": "code",
   "execution_count": 18,
   "metadata": {},
   "outputs": [
    {
     "data": {
      "text/html": [
       "<div>\n",
       "<style scoped>\n",
       "    .dataframe tbody tr th:only-of-type {\n",
       "        vertical-align: middle;\n",
       "    }\n",
       "\n",
       "    .dataframe tbody tr th {\n",
       "        vertical-align: top;\n",
       "    }\n",
       "\n",
       "    .dataframe thead th {\n",
       "        text-align: right;\n",
       "    }\n",
       "</style>\n",
       "<table border=\"1\" class=\"dataframe\">\n",
       "  <thead>\n",
       "    <tr style=\"text-align: right;\">\n",
       "      <th></th>\n",
       "      <th>No Document</th>\n",
       "      <th>title</th>\n",
       "      <th>Description</th>\n",
       "      <th>tingkat_internasional</th>\n",
       "      <th>tingkat_nasional</th>\n",
       "      <th>tingkat_provkot</th>\n",
       "      <th>tingkat_kejuaraan</th>\n",
       "      <th>kode</th>\n",
       "    </tr>\n",
       "  </thead>\n",
       "  <tbody>\n",
       "    <tr>\n",
       "      <th>1</th>\n",
       "      <td>1</td>\n",
       "      <td>Kebanggaan Aji Santoso Meski Persebaya Dikalah...</td>\n",
       "      <td>\\- pelatih persebaya surabaya aji santoso meng...</td>\n",
       "      <td>0</td>\n",
       "      <td>1</td>\n",
       "      <td>0</td>\n",
       "      <td>Nasional</td>\n",
       "      <td>1</td>\n",
       "    </tr>\n",
       "    <tr>\n",
       "      <th>2</th>\n",
       "      <td>2</td>\n",
       "      <td>Jadi Ketum Perbasi DKI, Lexyndo Hakim Buktikan...</td>\n",
       "      <td>\\- lexyndo hakim menjadi pemimpin perbasi dki ...</td>\n",
       "      <td>0</td>\n",
       "      <td>0</td>\n",
       "      <td>1</td>\n",
       "      <td>Provkota</td>\n",
       "      <td>0</td>\n",
       "    </tr>\n",
       "    <tr>\n",
       "      <th>3</th>\n",
       "      <td>3</td>\n",
       "      <td>Tim Voli Putra Indonesia Lolos ke Semifinal SE...</td>\n",
       "      <td>\\- tim voli putra indonesia memastikan tiket k...</td>\n",
       "      <td>1</td>\n",
       "      <td>0</td>\n",
       "      <td>0</td>\n",
       "      <td>Internasional</td>\n",
       "      <td>2</td>\n",
       "    </tr>\n",
       "    <tr>\n",
       "      <th>4</th>\n",
       "      <td>4</td>\n",
       "      <td>Berharap pada Menpora Baru dalam Penyelesaian ...</td>\n",
       "      <td>\\- atlet tenis meja nasional yon mardiono suda...</td>\n",
       "      <td>0</td>\n",
       "      <td>1</td>\n",
       "      <td>0</td>\n",
       "      <td>Nasional</td>\n",
       "      <td>1</td>\n",
       "    </tr>\n",
       "    <tr>\n",
       "      <th>5</th>\n",
       "      <td>5</td>\n",
       "      <td>Mampukah Honda Pertahankan Takhta di Sachsenri...</td>\n",
       "      <td>\\- akhir pekan ini motogp jerman 2022 akan dig...</td>\n",
       "      <td>1</td>\n",
       "      <td>0</td>\n",
       "      <td>0</td>\n",
       "      <td>Internasional</td>\n",
       "      <td>2</td>\n",
       "    </tr>\n",
       "  </tbody>\n",
       "</table>\n",
       "</div>"
      ],
      "text/plain": [
       "   No Document                                              title  \\\n",
       "1            1  Kebanggaan Aji Santoso Meski Persebaya Dikalah...   \n",
       "2            2  Jadi Ketum Perbasi DKI, Lexyndo Hakim Buktikan...   \n",
       "3            3  Tim Voli Putra Indonesia Lolos ke Semifinal SE...   \n",
       "4            4  Berharap pada Menpora Baru dalam Penyelesaian ...   \n",
       "5            5  Mampukah Honda Pertahankan Takhta di Sachsenri...   \n",
       "\n",
       "                                         Description  tingkat_internasional  \\\n",
       "1  \\- pelatih persebaya surabaya aji santoso meng...                      0   \n",
       "2  \\- lexyndo hakim menjadi pemimpin perbasi dki ...                      0   \n",
       "3  \\- tim voli putra indonesia memastikan tiket k...                      1   \n",
       "4  \\- atlet tenis meja nasional yon mardiono suda...                      0   \n",
       "5  \\- akhir pekan ini motogp jerman 2022 akan dig...                      1   \n",
       "\n",
       "   tingkat_nasional  tingkat_provkot tingkat_kejuaraan  kode  \n",
       "1                 1                0          Nasional     1  \n",
       "2                 0                1          Provkota     0  \n",
       "3                 0                0     Internasional     2  \n",
       "4                 1                0          Nasional     1  \n",
       "5                 0                0     Internasional     2  "
      ]
     },
     "execution_count": 18,
     "metadata": {},
     "output_type": "execute_result"
    }
   ],
   "source": [
    "df.head()"
   ]
  },
  {
   "cell_type": "code",
   "execution_count": 19,
   "metadata": {},
   "outputs": [],
   "source": [
    "def kejuaraan(kodeCount: int) -> int:\n",
    "  if (kode == 2):\n",
    "     return 'Internasional'\n",
    " \n",
    "  if (kode == 1): \n",
    "    return 'Nasional'\n",
    "  \n",
    "  if (kode == 0): \n",
    "    return 'Provkota'\n",
    "  "
   ]
  },
  {
   "cell_type": "code",
   "execution_count": 20,
   "metadata": {},
   "outputs": [
    {
     "data": {
      "text/html": [
       "<div>\n",
       "<style scoped>\n",
       "    .dataframe tbody tr th:only-of-type {\n",
       "        vertical-align: middle;\n",
       "    }\n",
       "\n",
       "    .dataframe tbody tr th {\n",
       "        vertical-align: top;\n",
       "    }\n",
       "\n",
       "    .dataframe thead th {\n",
       "        text-align: right;\n",
       "    }\n",
       "</style>\n",
       "<table border=\"1\" class=\"dataframe\">\n",
       "  <thead>\n",
       "    <tr style=\"text-align: right;\">\n",
       "      <th></th>\n",
       "      <th>Description</th>\n",
       "      <th>tingkat_internasional</th>\n",
       "      <th>tingkat_nasional</th>\n",
       "      <th>tingkat_provkot</th>\n",
       "      <th>tingkat_kejuaraan</th>\n",
       "    </tr>\n",
       "  </thead>\n",
       "  <tbody>\n",
       "    <tr>\n",
       "      <th>1</th>\n",
       "      <td>\\- pelatih persebaya surabaya aji santoso meng...</td>\n",
       "      <td>0</td>\n",
       "      <td>1</td>\n",
       "      <td>0</td>\n",
       "      <td>Nasional</td>\n",
       "    </tr>\n",
       "    <tr>\n",
       "      <th>2</th>\n",
       "      <td>\\- lexyndo hakim menjadi pemimpin perbasi dki ...</td>\n",
       "      <td>0</td>\n",
       "      <td>0</td>\n",
       "      <td>1</td>\n",
       "      <td>Provkota</td>\n",
       "    </tr>\n",
       "    <tr>\n",
       "      <th>3</th>\n",
       "      <td>\\- tim voli putra indonesia memastikan tiket k...</td>\n",
       "      <td>1</td>\n",
       "      <td>0</td>\n",
       "      <td>0</td>\n",
       "      <td>Internasional</td>\n",
       "    </tr>\n",
       "    <tr>\n",
       "      <th>4</th>\n",
       "      <td>\\- atlet tenis meja nasional yon mardiono suda...</td>\n",
       "      <td>0</td>\n",
       "      <td>1</td>\n",
       "      <td>0</td>\n",
       "      <td>Nasional</td>\n",
       "    </tr>\n",
       "    <tr>\n",
       "      <th>5</th>\n",
       "      <td>\\- akhir pekan ini motogp jerman 2022 akan dig...</td>\n",
       "      <td>1</td>\n",
       "      <td>0</td>\n",
       "      <td>0</td>\n",
       "      <td>Internasional</td>\n",
       "    </tr>\n",
       "  </tbody>\n",
       "</table>\n",
       "</div>"
      ],
      "text/plain": [
       "                                         Description  tingkat_internasional  \\\n",
       "1  \\- pelatih persebaya surabaya aji santoso meng...                      0   \n",
       "2  \\- lexyndo hakim menjadi pemimpin perbasi dki ...                      0   \n",
       "3  \\- tim voli putra indonesia memastikan tiket k...                      1   \n",
       "4  \\- atlet tenis meja nasional yon mardiono suda...                      0   \n",
       "5  \\- akhir pekan ini motogp jerman 2022 akan dig...                      1   \n",
       "\n",
       "   tingkat_nasional  tingkat_provkot tingkat_kejuaraan  \n",
       "1                 1                0          Nasional  \n",
       "2                 0                1          Provkota  \n",
       "3                 0                0     Internasional  \n",
       "4                 1                0          Nasional  \n",
       "5                 0                0     Internasional  "
      ]
     },
     "execution_count": 20,
     "metadata": {},
     "output_type": "execute_result"
    }
   ],
   "source": [
    "df_rest = df.drop(['No Document','title', 'kode'], axis=1)\n",
    "df_rest.head()"
   ]
  },
  {
   "cell_type": "code",
   "execution_count": 21,
   "metadata": {},
   "outputs": [],
   "source": [
    "# Declare feature vector and target variable\n",
    "X = df_rest.drop(['tingkat_kejuaraan'], axis=1)\n",
    "y = df_rest['tingkat_kejuaraan']"
   ]
  },
  {
   "cell_type": "code",
   "execution_count": 22,
   "metadata": {},
   "outputs": [],
   "source": [
    "from sklearn.model_selection import train_test_split\n",
    "\n",
    "X_train, X_test, y_train, y_test = train_test_split(X, y, test_size = 0.2, random_state = 0)\n"
   ]
  },
  {
   "cell_type": "code",
   "execution_count": 23,
   "metadata": {},
   "outputs": [
    {
     "data": {
      "text/html": [
       "<div>\n",
       "<style scoped>\n",
       "    .dataframe tbody tr th:only-of-type {\n",
       "        vertical-align: middle;\n",
       "    }\n",
       "\n",
       "    .dataframe tbody tr th {\n",
       "        vertical-align: top;\n",
       "    }\n",
       "\n",
       "    .dataframe thead th {\n",
       "        text-align: right;\n",
       "    }\n",
       "</style>\n",
       "<table border=\"1\" class=\"dataframe\">\n",
       "  <thead>\n",
       "    <tr style=\"text-align: right;\">\n",
       "      <th></th>\n",
       "      <th>Description</th>\n",
       "      <th>tingkat_internasional</th>\n",
       "      <th>tingkat_nasional</th>\n",
       "      <th>tingkat_provkot</th>\n",
       "    </tr>\n",
       "  </thead>\n",
       "  <tbody>\n",
       "    <tr>\n",
       "      <th>1</th>\n",
       "      <td>\\- pelatih persebaya surabaya aji santoso meng...</td>\n",
       "      <td>0</td>\n",
       "      <td>1</td>\n",
       "      <td>0</td>\n",
       "    </tr>\n",
       "    <tr>\n",
       "      <th>2</th>\n",
       "      <td>\\- lexyndo hakim menjadi pemimpin perbasi dki ...</td>\n",
       "      <td>0</td>\n",
       "      <td>0</td>\n",
       "      <td>1</td>\n",
       "    </tr>\n",
       "    <tr>\n",
       "      <th>3</th>\n",
       "      <td>\\- tim voli putra indonesia memastikan tiket k...</td>\n",
       "      <td>1</td>\n",
       "      <td>0</td>\n",
       "      <td>0</td>\n",
       "    </tr>\n",
       "    <tr>\n",
       "      <th>4</th>\n",
       "      <td>\\- atlet tenis meja nasional yon mardiono suda...</td>\n",
       "      <td>0</td>\n",
       "      <td>1</td>\n",
       "      <td>0</td>\n",
       "    </tr>\n",
       "    <tr>\n",
       "      <th>5</th>\n",
       "      <td>\\- akhir pekan ini motogp jerman 2022 akan dig...</td>\n",
       "      <td>1</td>\n",
       "      <td>0</td>\n",
       "      <td>0</td>\n",
       "    </tr>\n",
       "    <tr>\n",
       "      <th>...</th>\n",
       "      <td>...</td>\n",
       "      <td>...</td>\n",
       "      <td>...</td>\n",
       "      <td>...</td>\n",
       "    </tr>\n",
       "    <tr>\n",
       "      <th>142</th>\n",
       "      <td>\\- hampir pada semua film olahraga cerita dari...</td>\n",
       "      <td>0</td>\n",
       "      <td>1</td>\n",
       "      <td>0</td>\n",
       "    </tr>\n",
       "    <tr>\n",
       "      <th>143</th>\n",
       "      <td>\\- aldila sutjiadi, 22 tahun, harus berhemat s...</td>\n",
       "      <td>1</td>\n",
       "      <td>0</td>\n",
       "      <td>0</td>\n",
       "    </tr>\n",
       "    <tr>\n",
       "      <th>144</th>\n",
       "      <td>\\- federasi bulutangkis dunia (bwf) mendapat s...</td>\n",
       "      <td>1</td>\n",
       "      <td>0</td>\n",
       "      <td>0</td>\n",
       "    </tr>\n",
       "    <tr>\n",
       "      <th>145</th>\n",
       "      <td>\\- lionel messi memberikan respek besar kepada...</td>\n",
       "      <td>1</td>\n",
       "      <td>0</td>\n",
       "      <td>0</td>\n",
       "    </tr>\n",
       "    <tr>\n",
       "      <th>146</th>\n",
       "      <td>\\- badminton world federation (bwf) merilis ja...</td>\n",
       "      <td>1</td>\n",
       "      <td>0</td>\n",
       "      <td>0</td>\n",
       "    </tr>\n",
       "  </tbody>\n",
       "</table>\n",
       "<p>146 rows × 4 columns</p>\n",
       "</div>"
      ],
      "text/plain": [
       "                                           Description  tingkat_internasional  \\\n",
       "1    \\- pelatih persebaya surabaya aji santoso meng...                      0   \n",
       "2    \\- lexyndo hakim menjadi pemimpin perbasi dki ...                      0   \n",
       "3    \\- tim voli putra indonesia memastikan tiket k...                      1   \n",
       "4    \\- atlet tenis meja nasional yon mardiono suda...                      0   \n",
       "5    \\- akhir pekan ini motogp jerman 2022 akan dig...                      1   \n",
       "..                                                 ...                    ...   \n",
       "142  \\- hampir pada semua film olahraga cerita dari...                      0   \n",
       "143  \\- aldila sutjiadi, 22 tahun, harus berhemat s...                      1   \n",
       "144  \\- federasi bulutangkis dunia (bwf) mendapat s...                      1   \n",
       "145  \\- lionel messi memberikan respek besar kepada...                      1   \n",
       "146  \\- badminton world federation (bwf) merilis ja...                      1   \n",
       "\n",
       "     tingkat_nasional  tingkat_provkot  \n",
       "1                   1                0  \n",
       "2                   0                1  \n",
       "3                   0                0  \n",
       "4                   1                0  \n",
       "5                   0                0  \n",
       "..                ...              ...  \n",
       "142                 1                0  \n",
       "143                 0                0  \n",
       "144                 0                0  \n",
       "145                 0                0  \n",
       "146                 0                0  \n",
       "\n",
       "[146 rows x 4 columns]"
      ]
     },
     "execution_count": 23,
     "metadata": {},
     "output_type": "execute_result"
    }
   ],
   "source": [
    "X"
   ]
  },
  {
   "cell_type": "code",
   "execution_count": 24,
   "metadata": {},
   "outputs": [
    {
     "data": {
      "text/plain": [
       "((116, 4), (30, 4))"
      ]
     },
     "execution_count": 24,
     "metadata": {},
     "output_type": "execute_result"
    }
   ],
   "source": [
    "# check the shape of X_train and X_test\n",
    "\n",
    "X_train.shape, X_test.shape"
   ]
  },
  {
   "cell_type": "code",
   "execution_count": 25,
   "metadata": {},
   "outputs": [
    {
     "ename": "ValueError",
     "evalue": "could not convert string to float: '\\\\- kompetisi bola voli proliga sudah lama tidak digelar di jakarta. pengurus pusat persatuan bola voli seluruh indonesia (pp pbvsi) membeberkan alasan proliga tak singgahi ibu kota. proliga tak mampir ke jakarta sejak 2017. alasannya, ada renovasi besar- besaran di beberapa venue di kawasan gelora bung karno, senayan, untuk asian games 2018. dua tahun berlalu, jakarta ternyata masih belum menjadi pilihan tuan rumah yang tepat untuk menyelenggarakan kompetisi kasta tertinggi voli nasional tersebut. bahkan, sampai proliga 2020. direktur proliga, hanny sukartty, menjelaskan sebenarnya pada proliga tahun ini sempat mewacanakan untuk memasukkan kembali ibu kota sebagai salah satu kota tuan rumah. tetapi, biaya penyewaan yang luar biasa besar jadi kendalanya. advertisement scroll to resume content \"kemarin sudah ada wacana tahun ini kembali ke jakarta tapi ternyata harga sewa gor masih mahal,\" kata hanny di kantor pb pbvsi, pancoran, jakarta selatan, rabu (16/10/2019). \"jadi perbandingan di jakarta dengan daerah serta kondisi gor di daerah yang lebih besar, antusiasme besar, dan penontonnya sudah pasti penuh. bisa dibilang itu perbandingannya 1: 10 untuk biasa sewanya,\" dia menjelaskan. hanny mengungkapkan, untuk harga sewa hall di tennis indoor senayan bisa mencapai rp 400 juta selama tiga hari. harga itu belum termasuk untuk biaya sewa lainnya seperti ruangan dan kebutuhan lainnya. \"sedangkan di daerah mereka itu kalau sudah sewa gor, ketika kami pasang e-board sudah tak kena pajak lagi. sudah termasuk semua, kecuali di luar ya. tapi kalau di senayan di hitunglagi per meter, per hari. saya bingung ya, padahal pemerintah membuat senayan untuk olahraga tapi sekarang?\" kata dia. \"sepertinya juga pengelola lebih mementingnya yang komersil. itu pun katanya kami sudah didiskon (tapi tetap mahal). kalau di jakarta kemungkinannya pakai istora atau tennis indoor, tapi mahal.\" dia pun mencontohkan kota kediri yang pemerintah daerahnya sangat mendukung pelaksanaan proliga. \"mereka sampai meminta diadakan di daerahnya, sehingga walikotanya mempersiapkan kebutuhan kami. sampai satu tahun sebelumnya, mereka renovasi dulu. mereka berpikir dengan adanya proliga di sana maka ekonominya bergerak. sebab, sekali proliga digelar di satu daerah, perpindahan orangnya bisa sampai 500 orang. itu kan hotel, makan, sewa mobil, serta pemberitaan bagus. itu bagus buat daerahnya,\" ujar dia. \"artinya, daerah saja berpikir seperti itu dan menganggap olahraga sebagai bagian dari promosi mereka,\" dia melanjutkan. \"jadi, saya bilang kalau ke istora itu bukan kami yang harus mohon. tetapi merupakan suatu kebijakan yang dibuat untuk merangkul pb-pb untuk membuat acara di sana,\" ujar dia. \"maksudnya kemenpora dan setneg harus bersinergi. bukan pb-pb memohon. itu kan kewajiban mereka. komersilnya kan mereka sudah dapat dari plaza senayan, senayan city, lalu hotel mulia, masa yang seperti ini dikomersil juga. jadi bukan kami tak ingin digelar di jakarta,\" ujar dia. [gambas:video 20detik]'",
     "output_type": "error",
     "traceback": [
      "\u001b[1;31m---------------------------------------------------------------------------\u001b[0m",
      "\u001b[1;31mValueError\u001b[0m                                Traceback (most recent call last)",
      "\u001b[1;32mc:\\Users\\Your PC\\TA\\tingkat_keparahan-main\\svm.ipynb Cell 24\u001b[0m in \u001b[0;36m<module>\u001b[1;34m\u001b[0m\n\u001b[0;32m      <a href='vscode-notebook-cell:/c%3A/Users/Your%20PC/TA/tingkat_keparahan-main/svm.ipynb#ch0000023?line=0'>1</a>\u001b[0m \u001b[39mfrom\u001b[39;00m \u001b[39msklearn\u001b[39;00m\u001b[39m.\u001b[39;00m\u001b[39mpreprocessing\u001b[39;00m \u001b[39mimport\u001b[39;00m RobustScaler\n\u001b[0;32m      <a href='vscode-notebook-cell:/c%3A/Users/Your%20PC/TA/tingkat_keparahan-main/svm.ipynb#ch0000023?line=2'>3</a>\u001b[0m scaler \u001b[39m=\u001b[39m RobustScaler()\n\u001b[1;32m----> <a href='vscode-notebook-cell:/c%3A/Users/Your%20PC/TA/tingkat_keparahan-main/svm.ipynb#ch0000023?line=4'>5</a>\u001b[0m X_train \u001b[39m=\u001b[39m scaler\u001b[39m.\u001b[39;49mfit_transform(X_train)\n\u001b[0;32m      <a href='vscode-notebook-cell:/c%3A/Users/Your%20PC/TA/tingkat_keparahan-main/svm.ipynb#ch0000023?line=5'>6</a>\u001b[0m X_test \u001b[39m=\u001b[39m scaler\u001b[39m.\u001b[39mtransform(X_test)\n",
      "File \u001b[1;32mc:\\Users\\Your PC\\AppData\\Local\\Programs\\Python\\Python39\\lib\\site-packages\\sklearn\\base.py:867\u001b[0m, in \u001b[0;36mTransformerMixin.fit_transform\u001b[1;34m(self, X, y, **fit_params)\u001b[0m\n\u001b[0;32m    863\u001b[0m \u001b[39m# non-optimized default implementation; override when a better\u001b[39;00m\n\u001b[0;32m    864\u001b[0m \u001b[39m# method is possible for a given clustering algorithm\u001b[39;00m\n\u001b[0;32m    865\u001b[0m \u001b[39mif\u001b[39;00m y \u001b[39mis\u001b[39;00m \u001b[39mNone\u001b[39;00m:\n\u001b[0;32m    866\u001b[0m     \u001b[39m# fit method of arity 1 (unsupervised transformation)\u001b[39;00m\n\u001b[1;32m--> 867\u001b[0m     \u001b[39mreturn\u001b[39;00m \u001b[39mself\u001b[39m\u001b[39m.\u001b[39mfit(X, \u001b[39m*\u001b[39m\u001b[39m*\u001b[39mfit_params)\u001b[39m.\u001b[39mtransform(X)\n\u001b[0;32m    868\u001b[0m \u001b[39melse\u001b[39;00m:\n\u001b[0;32m    869\u001b[0m     \u001b[39m# fit method of arity 2 (supervised transformation)\u001b[39;00m\n\u001b[0;32m    870\u001b[0m     \u001b[39mreturn\u001b[39;00m \u001b[39mself\u001b[39m\u001b[39m.\u001b[39mfit(X, y, \u001b[39m*\u001b[39m\u001b[39m*\u001b[39mfit_params)\u001b[39m.\u001b[39mtransform(X)\n",
      "File \u001b[1;32mc:\\Users\\Your PC\\AppData\\Local\\Programs\\Python\\Python39\\lib\\site-packages\\sklearn\\preprocessing\\_data.py:1485\u001b[0m, in \u001b[0;36mRobustScaler.fit\u001b[1;34m(self, X, y)\u001b[0m\n\u001b[0;32m   1467\u001b[0m \u001b[39m\"\"\"Compute the median and quantiles to be used for scaling.\u001b[39;00m\n\u001b[0;32m   1468\u001b[0m \n\u001b[0;32m   1469\u001b[0m \u001b[39mParameters\u001b[39;00m\n\u001b[1;32m   (...)\u001b[0m\n\u001b[0;32m   1481\u001b[0m \u001b[39m    Fitted scaler.\u001b[39;00m\n\u001b[0;32m   1482\u001b[0m \u001b[39m\"\"\"\u001b[39;00m\n\u001b[0;32m   1483\u001b[0m \u001b[39m# at fit, convert sparse matrices to csc for optimized computation of\u001b[39;00m\n\u001b[0;32m   1484\u001b[0m \u001b[39m# the quantiles\u001b[39;00m\n\u001b[1;32m-> 1485\u001b[0m X \u001b[39m=\u001b[39m \u001b[39mself\u001b[39;49m\u001b[39m.\u001b[39;49m_validate_data(\n\u001b[0;32m   1486\u001b[0m     X,\n\u001b[0;32m   1487\u001b[0m     accept_sparse\u001b[39m=\u001b[39;49m\u001b[39m\"\u001b[39;49m\u001b[39mcsc\u001b[39;49m\u001b[39m\"\u001b[39;49m,\n\u001b[0;32m   1488\u001b[0m     dtype\u001b[39m=\u001b[39;49mFLOAT_DTYPES,\n\u001b[0;32m   1489\u001b[0m     force_all_finite\u001b[39m=\u001b[39;49m\u001b[39m\"\u001b[39;49m\u001b[39mallow-nan\u001b[39;49m\u001b[39m\"\u001b[39;49m,\n\u001b[0;32m   1490\u001b[0m )\n\u001b[0;32m   1492\u001b[0m q_min, q_max \u001b[39m=\u001b[39m \u001b[39mself\u001b[39m\u001b[39m.\u001b[39mquantile_range\n\u001b[0;32m   1493\u001b[0m \u001b[39mif\u001b[39;00m \u001b[39mnot\u001b[39;00m \u001b[39m0\u001b[39m \u001b[39m<\u001b[39m\u001b[39m=\u001b[39m q_min \u001b[39m<\u001b[39m\u001b[39m=\u001b[39m q_max \u001b[39m<\u001b[39m\u001b[39m=\u001b[39m \u001b[39m100\u001b[39m:\n",
      "File \u001b[1;32mc:\\Users\\Your PC\\AppData\\Local\\Programs\\Python\\Python39\\lib\\site-packages\\sklearn\\base.py:577\u001b[0m, in \u001b[0;36mBaseEstimator._validate_data\u001b[1;34m(self, X, y, reset, validate_separately, **check_params)\u001b[0m\n\u001b[0;32m    575\u001b[0m     \u001b[39mraise\u001b[39;00m \u001b[39mValueError\u001b[39;00m(\u001b[39m\"\u001b[39m\u001b[39mValidation should be done on X, y or both.\u001b[39m\u001b[39m\"\u001b[39m)\n\u001b[0;32m    576\u001b[0m \u001b[39melif\u001b[39;00m \u001b[39mnot\u001b[39;00m no_val_X \u001b[39mand\u001b[39;00m no_val_y:\n\u001b[1;32m--> 577\u001b[0m     X \u001b[39m=\u001b[39m check_array(X, input_name\u001b[39m=\u001b[39m\u001b[39m\"\u001b[39m\u001b[39mX\u001b[39m\u001b[39m\"\u001b[39m, \u001b[39m*\u001b[39m\u001b[39m*\u001b[39mcheck_params)\n\u001b[0;32m    578\u001b[0m     out \u001b[39m=\u001b[39m X\n\u001b[0;32m    579\u001b[0m \u001b[39melif\u001b[39;00m no_val_X \u001b[39mand\u001b[39;00m \u001b[39mnot\u001b[39;00m no_val_y:\n",
      "File \u001b[1;32mc:\\Users\\Your PC\\AppData\\Local\\Programs\\Python\\Python39\\lib\\site-packages\\sklearn\\utils\\validation.py:856\u001b[0m, in \u001b[0;36mcheck_array\u001b[1;34m(array, accept_sparse, accept_large_sparse, dtype, order, copy, force_all_finite, ensure_2d, allow_nd, ensure_min_samples, ensure_min_features, estimator, input_name)\u001b[0m\n\u001b[0;32m    854\u001b[0m         array \u001b[39m=\u001b[39m array\u001b[39m.\u001b[39mastype(dtype, casting\u001b[39m=\u001b[39m\u001b[39m\"\u001b[39m\u001b[39munsafe\u001b[39m\u001b[39m\"\u001b[39m, copy\u001b[39m=\u001b[39m\u001b[39mFalse\u001b[39;00m)\n\u001b[0;32m    855\u001b[0m     \u001b[39melse\u001b[39;00m:\n\u001b[1;32m--> 856\u001b[0m         array \u001b[39m=\u001b[39m np\u001b[39m.\u001b[39;49masarray(array, order\u001b[39m=\u001b[39;49morder, dtype\u001b[39m=\u001b[39;49mdtype)\n\u001b[0;32m    857\u001b[0m \u001b[39mexcept\u001b[39;00m ComplexWarning \u001b[39mas\u001b[39;00m complex_warning:\n\u001b[0;32m    858\u001b[0m     \u001b[39mraise\u001b[39;00m \u001b[39mValueError\u001b[39;00m(\n\u001b[0;32m    859\u001b[0m         \u001b[39m\"\u001b[39m\u001b[39mComplex data not supported\u001b[39m\u001b[39m\\n\u001b[39;00m\u001b[39m{}\u001b[39;00m\u001b[39m\\n\u001b[39;00m\u001b[39m\"\u001b[39m\u001b[39m.\u001b[39mformat(array)\n\u001b[0;32m    860\u001b[0m     ) \u001b[39mfrom\u001b[39;00m \u001b[39mcomplex_warning\u001b[39;00m\n",
      "File \u001b[1;32mc:\\Users\\Your PC\\AppData\\Local\\Programs\\Python\\Python39\\lib\\site-packages\\pandas\\core\\generic.py:2072\u001b[0m, in \u001b[0;36mNDFrame.__array__\u001b[1;34m(self, dtype)\u001b[0m\n\u001b[0;32m   2071\u001b[0m \u001b[39mdef\u001b[39;00m \u001b[39m__array__\u001b[39m(\u001b[39mself\u001b[39m, dtype: npt\u001b[39m.\u001b[39mDTypeLike \u001b[39m|\u001b[39m \u001b[39mNone\u001b[39;00m \u001b[39m=\u001b[39m \u001b[39mNone\u001b[39;00m) \u001b[39m-\u001b[39m\u001b[39m>\u001b[39m np\u001b[39m.\u001b[39mndarray:\n\u001b[1;32m-> 2072\u001b[0m     \u001b[39mreturn\u001b[39;00m np\u001b[39m.\u001b[39;49masarray(\u001b[39mself\u001b[39;49m\u001b[39m.\u001b[39;49m_values, dtype\u001b[39m=\u001b[39;49mdtype)\n",
      "\u001b[1;31mValueError\u001b[0m: could not convert string to float: '\\\\- kompetisi bola voli proliga sudah lama tidak digelar di jakarta. pengurus pusat persatuan bola voli seluruh indonesia (pp pbvsi) membeberkan alasan proliga tak singgahi ibu kota. proliga tak mampir ke jakarta sejak 2017. alasannya, ada renovasi besar- besaran di beberapa venue di kawasan gelora bung karno, senayan, untuk asian games 2018. dua tahun berlalu, jakarta ternyata masih belum menjadi pilihan tuan rumah yang tepat untuk menyelenggarakan kompetisi kasta tertinggi voli nasional tersebut. bahkan, sampai proliga 2020. direktur proliga, hanny sukartty, menjelaskan sebenarnya pada proliga tahun ini sempat mewacanakan untuk memasukkan kembali ibu kota sebagai salah satu kota tuan rumah. tetapi, biaya penyewaan yang luar biasa besar jadi kendalanya. advertisement scroll to resume content \"kemarin sudah ada wacana tahun ini kembali ke jakarta tapi ternyata harga sewa gor masih mahal,\" kata hanny di kantor pb pbvsi, pancoran, jakarta selatan, rabu (16/10/2019). \"jadi perbandingan di jakarta dengan daerah serta kondisi gor di daerah yang lebih besar, antusiasme besar, dan penontonnya sudah pasti penuh. bisa dibilang itu perbandingannya 1: 10 untuk biasa sewanya,\" dia menjelaskan. hanny mengungkapkan, untuk harga sewa hall di tennis indoor senayan bisa mencapai rp 400 juta selama tiga hari. harga itu belum termasuk untuk biaya sewa lainnya seperti ruangan dan kebutuhan lainnya. \"sedangkan di daerah mereka itu kalau sudah sewa gor, ketika kami pasang e-board sudah tak kena pajak lagi. sudah termasuk semua, kecuali di luar ya. tapi kalau di senayan di hitunglagi per meter, per hari. saya bingung ya, padahal pemerintah membuat senayan untuk olahraga tapi sekarang?\" kata dia. \"sepertinya juga pengelola lebih mementingnya yang komersil. itu pun katanya kami sudah didiskon (tapi tetap mahal). kalau di jakarta kemungkinannya pakai istora atau tennis indoor, tapi mahal.\" dia pun mencontohkan kota kediri yang pemerintah daerahnya sangat mendukung pelaksanaan proliga. \"mereka sampai meminta diadakan di daerahnya, sehingga walikotanya mempersiapkan kebutuhan kami. sampai satu tahun sebelumnya, mereka renovasi dulu. mereka berpikir dengan adanya proliga di sana maka ekonominya bergerak. sebab, sekali proliga digelar di satu daerah, perpindahan orangnya bisa sampai 500 orang. itu kan hotel, makan, sewa mobil, serta pemberitaan bagus. itu bagus buat daerahnya,\" ujar dia. \"artinya, daerah saja berpikir seperti itu dan menganggap olahraga sebagai bagian dari promosi mereka,\" dia melanjutkan. \"jadi, saya bilang kalau ke istora itu bukan kami yang harus mohon. tetapi merupakan suatu kebijakan yang dibuat untuk merangkul pb-pb untuk membuat acara di sana,\" ujar dia. \"maksudnya kemenpora dan setneg harus bersinergi. bukan pb-pb memohon. itu kan kewajiban mereka. komersilnya kan mereka sudah dapat dari plaza senayan, senayan city, lalu hotel mulia, masa yang seperti ini dikomersil juga. jadi bukan kami tak ingin digelar di jakarta,\" ujar dia. [gambas:video 20detik]'"
     ]
    }
   ],
   "source": [
    "from sklearn.preprocessing import RobustScaler\n",
    "\n",
    "scaler = RobustScaler()\n",
    "\n",
    "X_train = scaler.fit_transform(X_train)\n",
    "X_test = scaler.transform(X_test)"
   ]
  },
  {
   "cell_type": "code",
   "execution_count": null,
   "metadata": {},
   "outputs": [],
   "source": [
    "cols = X_train.columns \n"
   ]
  },
  {
   "cell_type": "code",
   "execution_count": 26,
   "metadata": {},
   "outputs": [
    {
     "data": {
      "text/html": [
       "<div>\n",
       "<style scoped>\n",
       "    .dataframe tbody tr th:only-of-type {\n",
       "        vertical-align: middle;\n",
       "    }\n",
       "\n",
       "    .dataframe tbody tr th {\n",
       "        vertical-align: top;\n",
       "    }\n",
       "\n",
       "    .dataframe thead th {\n",
       "        text-align: right;\n",
       "    }\n",
       "</style>\n",
       "<table border=\"1\" class=\"dataframe\">\n",
       "  <thead>\n",
       "    <tr style=\"text-align: right;\">\n",
       "      <th></th>\n",
       "      <th>No Document</th>\n",
       "      <th>title</th>\n",
       "      <th>Description</th>\n",
       "      <th>tingkat_internasional</th>\n",
       "      <th>tingkat_nasional</th>\n",
       "      <th>tingkat_provkot</th>\n",
       "      <th>tingkat_kejuaraan</th>\n",
       "      <th>kode</th>\n",
       "    </tr>\n",
       "  </thead>\n",
       "  <tbody>\n",
       "    <tr>\n",
       "      <th>1</th>\n",
       "      <td>1</td>\n",
       "      <td>Kebanggaan Aji Santoso Meski Persebaya Dikalah...</td>\n",
       "      <td>\\- pelatih persebaya surabaya aji santoso meng...</td>\n",
       "      <td>0</td>\n",
       "      <td>1</td>\n",
       "      <td>0</td>\n",
       "      <td>Nasional</td>\n",
       "      <td>1</td>\n",
       "    </tr>\n",
       "    <tr>\n",
       "      <th>2</th>\n",
       "      <td>2</td>\n",
       "      <td>Jadi Ketum Perbasi DKI, Lexyndo Hakim Buktikan...</td>\n",
       "      <td>\\- lexyndo hakim menjadi pemimpin perbasi dki ...</td>\n",
       "      <td>0</td>\n",
       "      <td>0</td>\n",
       "      <td>1</td>\n",
       "      <td>Provkota</td>\n",
       "      <td>0</td>\n",
       "    </tr>\n",
       "    <tr>\n",
       "      <th>3</th>\n",
       "      <td>3</td>\n",
       "      <td>Tim Voli Putra Indonesia Lolos ke Semifinal SE...</td>\n",
       "      <td>\\- tim voli putra indonesia memastikan tiket k...</td>\n",
       "      <td>1</td>\n",
       "      <td>0</td>\n",
       "      <td>0</td>\n",
       "      <td>Internasional</td>\n",
       "      <td>2</td>\n",
       "    </tr>\n",
       "    <tr>\n",
       "      <th>4</th>\n",
       "      <td>4</td>\n",
       "      <td>Berharap pada Menpora Baru dalam Penyelesaian ...</td>\n",
       "      <td>\\- atlet tenis meja nasional yon mardiono suda...</td>\n",
       "      <td>0</td>\n",
       "      <td>1</td>\n",
       "      <td>0</td>\n",
       "      <td>Nasional</td>\n",
       "      <td>1</td>\n",
       "    </tr>\n",
       "    <tr>\n",
       "      <th>5</th>\n",
       "      <td>5</td>\n",
       "      <td>Mampukah Honda Pertahankan Takhta di Sachsenri...</td>\n",
       "      <td>\\- akhir pekan ini motogp jerman 2022 akan dig...</td>\n",
       "      <td>1</td>\n",
       "      <td>0</td>\n",
       "      <td>0</td>\n",
       "      <td>Internasional</td>\n",
       "      <td>2</td>\n",
       "    </tr>\n",
       "  </tbody>\n",
       "</table>\n",
       "</div>"
      ],
      "text/plain": [
       "   No Document                                              title  \\\n",
       "1            1  Kebanggaan Aji Santoso Meski Persebaya Dikalah...   \n",
       "2            2  Jadi Ketum Perbasi DKI, Lexyndo Hakim Buktikan...   \n",
       "3            3  Tim Voli Putra Indonesia Lolos ke Semifinal SE...   \n",
       "4            4  Berharap pada Menpora Baru dalam Penyelesaian ...   \n",
       "5            5  Mampukah Honda Pertahankan Takhta di Sachsenri...   \n",
       "\n",
       "                                         Description  tingkat_internasional  \\\n",
       "1  \\- pelatih persebaya surabaya aji santoso meng...                      0   \n",
       "2  \\- lexyndo hakim menjadi pemimpin perbasi dki ...                      0   \n",
       "3  \\- tim voli putra indonesia memastikan tiket k...                      1   \n",
       "4  \\- atlet tenis meja nasional yon mardiono suda...                      0   \n",
       "5  \\- akhir pekan ini motogp jerman 2022 akan dig...                      1   \n",
       "\n",
       "   tingkat_nasional  tingkat_provkot tingkat_kejuaraan  kode  \n",
       "1                 1                0          Nasional     1  \n",
       "2                 0                1          Provkota     0  \n",
       "3                 0                0     Internasional     2  \n",
       "4                 1                0          Nasional     1  \n",
       "5                 0                0     Internasional     2  "
      ]
     },
     "execution_count": 26,
     "metadata": {},
     "output_type": "execute_result"
    }
   ],
   "source": [
    "df.head()"
   ]
  },
  {
   "cell_type": "code",
   "execution_count": null,
   "metadata": {},
   "outputs": [],
   "source": [
    "import re\n",
    "def cleantext(text):\n",
    "    text = re.sub(r'[\\w\\s]','',text,re.UNICODE)\n",
    "    text.lower()\n",
    "    text = \" \".join(text)\n",
    "    return text"
   ]
  },
  {
   "cell_type": "code",
   "execution_count": 27,
   "metadata": {},
   "outputs": [],
   "source": [
    "internasional_indeks= ['motogp','asian games','aff','olimpiade','piala asia','bwf','nba','sea games','indonesia open','indonesia masters']\n",
    "nasional_indeks= ['pon','piala presiden','liga 2','liga 1','liga 3','ibl','proliga','liga mahasiswa','liga mahasiswa','turnamen pramusim','pp pbsi','dbl','fiba']\n",
    "provkota_indeks= ['airlangga challenge','tiga pilar']"
   ]
  },
  {
   "cell_type": "code",
   "execution_count": 28,
   "metadata": {},
   "outputs": [],
   "source": [
    "clean = [internasional_indeks] + [nasional_indeks] + [provkota_indeks]"
   ]
  },
  {
   "cell_type": "code",
   "execution_count": 30,
   "metadata": {},
   "outputs": [
    {
     "data": {
      "text/plain": [
       "[['motogp',\n",
       "  'asian games',\n",
       "  'aff',\n",
       "  'olimpiade',\n",
       "  'piala asia',\n",
       "  'bwf',\n",
       "  'nba',\n",
       "  'sea games',\n",
       "  'indonesia open',\n",
       "  'indonesia masters'],\n",
       " ['pon',\n",
       "  'piala presiden',\n",
       "  'liga 2',\n",
       "  'liga 1',\n",
       "  'liga 3',\n",
       "  'ibl',\n",
       "  'proliga',\n",
       "  'liga mahasiswa',\n",
       "  'liga mahasiswa',\n",
       "  'turnamen pramusim',\n",
       "  'pp pbsi',\n",
       "  'dbl',\n",
       "  'fiba'],\n",
       " ['airlangga challenge', 'tiga pilar']]"
      ]
     },
     "execution_count": 30,
     "metadata": {},
     "output_type": "execute_result"
    }
   ],
   "source": [
    "clean"
   ]
  },
  {
   "cell_type": "code",
   "execution_count": 43,
   "metadata": {},
   "outputs": [],
   "source": [
    "inter = 0\n",
    "nasional = 0\n",
    "provkot = 0\n",
    "def clean_text(text) :\n",
    "    text = [word for word in text if word in internasional_indeks]"
   ]
  },
  {
   "cell_type": "code",
   "execution_count": 44,
   "metadata": {},
   "outputs": [],
   "source": [
    "x = df.iloc[:,2:3].values\n",
    "x =x.tolist()"
   ]
  },
  {
   "cell_type": "code",
   "execution_count": 58,
   "metadata": {},
   "outputs": [
    {
     "ename": "TypeError",
     "evalue": "'int' object is not subscriptable",
     "output_type": "error",
     "traceback": [
      "\u001b[1;31m---------------------------------------------------------------------------\u001b[0m",
      "\u001b[1;31mTypeError\u001b[0m                                 Traceback (most recent call last)",
      "\u001b[1;32mc:\\Users\\Your PC\\TA\\tingkat_keparahan-main\\svm.ipynb Cell 32\u001b[0m in \u001b[0;36m<module>\u001b[1;34m\u001b[0m\n\u001b[1;32m----> <a href='vscode-notebook-cell:/c%3A/Users/Your%20PC/TA/tingkat_keparahan-main/svm.ipynb#ch0000032?line=0'>1</a>\u001b[0m text \u001b[39m=\u001b[39m x[\u001b[39m0\u001b[39;49m][\u001b[39m0\u001b[39m]\n\u001b[0;32m      <a href='vscode-notebook-cell:/c%3A/Users/Your%20PC/TA/tingkat_keparahan-main/svm.ipynb#ch0000032?line=1'>2</a>\u001b[0m text\n",
      "\u001b[1;31mTypeError\u001b[0m: 'int' object is not subscriptable"
     ]
    }
   ],
   "source": [
    "text = x[0][0]\n",
    "text"
   ]
  },
  {
   "cell_type": "code",
   "execution_count": 35,
   "metadata": {},
   "outputs": [],
   "source": [
    "import re"
   ]
  },
  {
   "cell_type": "code",
   "execution_count": 56,
   "metadata": {},
   "outputs": [
    {
     "ename": "TypeError",
     "evalue": "'int' object is not subscriptable",
     "output_type": "error",
     "traceback": [
      "\u001b[1;31m---------------------------------------------------------------------------\u001b[0m",
      "\u001b[1;31mTypeError\u001b[0m                                 Traceback (most recent call last)",
      "\u001b[1;32mc:\\Users\\Your PC\\TA\\tingkat_keparahan-main\\svm.ipynb Cell 34\u001b[0m in \u001b[0;36m<module>\u001b[1;34m\u001b[0m\n\u001b[1;32m----> <a href='vscode-notebook-cell:/c%3A/Users/Your%20PC/TA/tingkat_keparahan-main/svm.ipynb#ch0000033?line=0'>1</a>\u001b[0m text \u001b[39m=\u001b[39m re\u001b[39m.\u001b[39msub(\u001b[39m'\u001b[39m\u001b[39m[^A-Za-z0-9]+\u001b[39m\u001b[39m'\u001b[39m,\u001b[39m'\u001b[39m\u001b[39m \u001b[39m\u001b[39m'\u001b[39m,x[\u001b[39m0\u001b[39;49m][\u001b[39m0\u001b[39m])\n",
      "\u001b[1;31mTypeError\u001b[0m: 'int' object is not subscriptable"
     ]
    }
   ],
   "source": [
    "text = re.sub('[^A-Za-z0-9]+',' ',x[0][0])"
   ]
  },
  {
   "cell_type": "code",
   "execution_count": 46,
   "metadata": {},
   "outputs": [
    {
     "name": "stdout",
     "output_type": "stream",
     "text": [
      "0\n",
      "0\n",
      "0\n",
      "1\n",
      "0\n",
      "5\n",
      "0\n",
      "0\n",
      "1\n",
      "0\n"
     ]
    }
   ],
   "source": [
    "for j in range(0,len(internasional_indeks)):\n",
    "    print(text.count(internasional_indeks[j]))"
   ]
  },
  {
   "cell_type": "code",
   "execution_count": 57,
   "metadata": {},
   "outputs": [
    {
     "data": {
      "text/plain": [
       "'\\\\- , yang didaulat masuk bwf hall of fame, mendapat pujian setinggi langit dari presiden badminton world federation (bwf) poul-erik hoyer. legenda bulutangkis indonesia liliyana natsir mendapat kehormatan masuk bwf hall of fame sebagai bentuk pengakuan terhadap kariernya di dunia badminton. ada seremoni yang bakal digelar pada akhir pekan ini, sabtu (18/6). \"merupakan kehormatan yang langka bagi seorang atlet masuk dalam bwf hall of fame, dan liliyana natsir sangat layak menerima penghargaan ini \" kata hoyer dalam laman resmi federasi bulutangkis dunia. advertisement scroll to resume content menurut poul-erik hoyer, liliyana merupakan salah satu pemain ganda campuran terbaik yang pernah dimiliki bulutangkis dunia sejauh ini. \"dia adalah salah satu pemain ganda campuran terbaik sepanjang kariernya. dengan medali emas dan medali perak olimpiade, serta empat medali emas kejuaraan dunia, liliyana membangun rekor bintangnya,\" ujarnya. tak hanya mengapresiasi rentetan gelar yang diraih liliyana semasa menjadi atlet, poul erik hoyer juga memuji cara bermain liliyana yang menghibur penonton bulutangkis. \"dia menyenangkan untuk ditonton karena dia entah bagaimana membuat seni yang sangat sulit terlihat mudah.\" \"saya mengucapkan selamat kepadanya dan saya yakin dia akan terus menginspirasi lebih banyak generasi,\" harap poul-erik hoyer. liliyana akan secara resmi menerima penghargaan bwf hall of fame itu di istora gelora bung karno (gbk) pada 18 juni mendatang. jadwal yang bertepatan dengan indonesia open 2022 digelar. [gambas:video 20detik]'"
      ]
     },
     "execution_count": 57,
     "metadata": {},
     "output_type": "execute_result"
    }
   ],
   "source": [
    "text"
   ]
  },
  {
   "cell_type": "code",
   "execution_count": 52,
   "metadata": {},
   "outputs": [],
   "source": [
    "index=[]\n",
    "for x in range(0,len(text)):\n",
    "     word = text[x]\n",
    "     inte = 0\n",
    "     nasional = 0\n",
    "     prov = 0\n",
    "     for n in range (0,len(clean)):\n",
    "          for co in range(0,len(clean[n])):\n",
    "               if n == 0 :\n",
    "                    jumlah = word.count(internasional_indeks[co])\n",
    "                    inte = inte + jumlah\n",
    "               if n == 1:\n",
    "                    jumlah = word.count(nasional_indeks[co])\n",
    "                    nasional = nasional + jumlah\n",
    "               if n == 2:\n",
    "                    jumlah = word.count(provkota_indeks[co])\n",
    "                    prov = prov + jumlah\n",
    "     # data.iloc[:,0:1].append(inte)\n",
    "     # data.iloc[:,1:2].append(nasional)\n",
    "     # data.iloc[:,2:3].append(prov)\n",
    "     index.append([inte,nasional,prov])"
   ]
  },
  {
   "cell_type": "code",
   "execution_count": 53,
   "metadata": {},
   "outputs": [],
   "source": [
    "interr =[]\n",
    "nass =[]\n",
    "prvv = []\n",
    "for m in range(0,len(index)):\n",
    "    interr.append(index[m][0])\n",
    "    nass.append(index[m][1])\n",
    "    prvv.append(index[m][2])"
   ]
  },
  {
   "cell_type": "code",
   "execution_count": 50,
   "metadata": {},
   "outputs": [
    {
     "data": {
      "text/html": [
       "<div>\n",
       "<style scoped>\n",
       "    .dataframe tbody tr th:only-of-type {\n",
       "        vertical-align: middle;\n",
       "    }\n",
       "\n",
       "    .dataframe tbody tr th {\n",
       "        vertical-align: top;\n",
       "    }\n",
       "\n",
       "    .dataframe thead th {\n",
       "        text-align: right;\n",
       "    }\n",
       "</style>\n",
       "<table border=\"1\" class=\"dataframe\">\n",
       "  <thead>\n",
       "    <tr style=\"text-align: right;\">\n",
       "      <th></th>\n",
       "      <th>internasional_indeks</th>\n",
       "      <th>nasional_indeks</th>\n",
       "      <th>provkota_indeks</th>\n",
       "    </tr>\n",
       "  </thead>\n",
       "  <tbody>\n",
       "    <tr>\n",
       "      <th>0</th>\n",
       "      <td>0</td>\n",
       "      <td>0</td>\n",
       "      <td>0</td>\n",
       "    </tr>\n",
       "    <tr>\n",
       "      <th>1</th>\n",
       "      <td>0</td>\n",
       "      <td>0</td>\n",
       "      <td>0</td>\n",
       "    </tr>\n",
       "    <tr>\n",
       "      <th>2</th>\n",
       "      <td>0</td>\n",
       "      <td>0</td>\n",
       "      <td>0</td>\n",
       "    </tr>\n",
       "    <tr>\n",
       "      <th>3</th>\n",
       "      <td>0</td>\n",
       "      <td>0</td>\n",
       "      <td>0</td>\n",
       "    </tr>\n",
       "    <tr>\n",
       "      <th>4</th>\n",
       "      <td>0</td>\n",
       "      <td>0</td>\n",
       "      <td>0</td>\n",
       "    </tr>\n",
       "    <tr>\n",
       "      <th>...</th>\n",
       "      <td>...</td>\n",
       "      <td>...</td>\n",
       "      <td>...</td>\n",
       "    </tr>\n",
       "    <tr>\n",
       "      <th>1551</th>\n",
       "      <td>0</td>\n",
       "      <td>0</td>\n",
       "      <td>0</td>\n",
       "    </tr>\n",
       "    <tr>\n",
       "      <th>1552</th>\n",
       "      <td>0</td>\n",
       "      <td>0</td>\n",
       "      <td>0</td>\n",
       "    </tr>\n",
       "    <tr>\n",
       "      <th>1553</th>\n",
       "      <td>0</td>\n",
       "      <td>0</td>\n",
       "      <td>0</td>\n",
       "    </tr>\n",
       "    <tr>\n",
       "      <th>1554</th>\n",
       "      <td>0</td>\n",
       "      <td>0</td>\n",
       "      <td>0</td>\n",
       "    </tr>\n",
       "    <tr>\n",
       "      <th>1555</th>\n",
       "      <td>0</td>\n",
       "      <td>0</td>\n",
       "      <td>0</td>\n",
       "    </tr>\n",
       "  </tbody>\n",
       "</table>\n",
       "<p>1556 rows × 3 columns</p>\n",
       "</div>"
      ],
      "text/plain": [
       "      internasional_indeks  nasional_indeks  provkota_indeks\n",
       "0                        0                0                0\n",
       "1                        0                0                0\n",
       "2                        0                0                0\n",
       "3                        0                0                0\n",
       "4                        0                0                0\n",
       "...                    ...              ...              ...\n",
       "1551                     0                0                0\n",
       "1552                     0                0                0\n",
       "1553                     0                0                0\n",
       "1554                     0                0                0\n",
       "1555                     0                0                0\n",
       "\n",
       "[1556 rows x 3 columns]"
      ]
     },
     "execution_count": 50,
     "metadata": {},
     "output_type": "execute_result"
    }
   ],
   "source": [
    "Data = {'internasional_indeks' : interr ,\n",
    "        'nasional_indeks' : nass,\n",
    "        'provkota_indeks': prvv}\n",
    "\n",
    "Data = pd.DataFrame(Data)\n",
    "Data"
   ]
  },
  {
   "cell_type": "code",
   "execution_count": null,
   "metadata": {},
   "outputs": [
    {
     "ename": "TypeError",
     "evalue": "sub() missing 3 required positional arguments: 'pattern', 'repl', and 'string'",
     "output_type": "error",
     "traceback": [
      "\u001b[1;31m---------------------------------------------------------------------------\u001b[0m",
      "\u001b[1;31mTypeError\u001b[0m                                 Traceback (most recent call last)",
      "\u001b[1;32mc:\\Users\\Your PC\\TA\\tingkat_keparahan-main\\svm.ipynb Cell 40\u001b[0m in \u001b[0;36m<module>\u001b[1;34m\u001b[0m\n\u001b[1;32m----> <a href='vscode-notebook-cell:/c%3A/Users/Your%20PC/TA/tingkat_keparahan-main/svm.ipynb#ch0000037?line=0'>1</a>\u001b[0m x[\u001b[39m0\u001b[39m][\u001b[39m0\u001b[39m] \u001b[39m=\u001b[39m re\u001b[39m.\u001b[39;49msub()\n",
      "\u001b[1;31mTypeError\u001b[0m: sub() missing 3 required positional arguments: 'pattern', 'repl', and 'string'"
     ]
    }
   ],
   "source": [
    "x[0][0] = re.sub()\n"
   ]
  },
  {
   "cell_type": "code",
   "execution_count": null,
   "metadata": {},
   "outputs": [
    {
     "ename": "NameError",
     "evalue": "name 'lst' is not defined",
     "output_type": "error",
     "traceback": [
      "\u001b[1;31m---------------------------------------------------------------------------\u001b[0m",
      "\u001b[1;31mNameError\u001b[0m                                 Traceback (most recent call last)",
      "\u001b[1;32mc:\\Users\\Your PC\\TA\\tingkat_keparahan-main\\svm.ipynb Cell 41\u001b[0m in \u001b[0;36m<module>\u001b[1;34m\u001b[0m\n\u001b[1;32m----> <a href='vscode-notebook-cell:/c%3A/Users/Your%20PC/TA/tingkat_keparahan-main/svm.ipynb#ch0000038?line=0'>1</a>\u001b[0m y \u001b[39m=\u001b[39m ([i \u001b[39mfor\u001b[39;00m item \u001b[39min\u001b[39;00m lst \u001b[39mfor\u001b[39;00m i \u001b[39min\u001b[39;00m x[\u001b[39m1\u001b[39m]\u001b[39m.\u001b[39msplit()])\n",
      "\u001b[1;31mNameError\u001b[0m: name 'lst' is not defined"
     ]
    }
   ],
   "source": [
    "y = ([i for item in lst for i in x[1].split()])"
   ]
  },
  {
   "cell_type": "code",
   "execution_count": null,
   "metadata": {},
   "outputs": [
    {
     "ename": "ValueError",
     "evalue": "could not convert string to float: '\\\\- kompetisi bola voli proliga sudah lama tidak digelar di jakarta. pengurus pusat persatuan bola voli seluruh indonesia (pp pbvsi) membeberkan alasan proliga tak singgahi ibu kota. proliga tak mampir ke jakarta sejak 2017. alasannya, ada renovasi besar- besaran di beberapa venue di kawasan gelora bung karno, senayan, untuk asian games 2018. dua tahun berlalu, jakarta ternyata masih belum menjadi pilihan tuan rumah yang tepat untuk menyelenggarakan kompetisi kasta tertinggi voli nasional tersebut. bahkan, sampai proliga 2020. direktur proliga, hanny sukartty, menjelaskan sebenarnya pada proliga tahun ini sempat mewacanakan untuk memasukkan kembali ibu kota sebagai salah satu kota tuan rumah. tetapi, biaya penyewaan yang luar biasa besar jadi kendalanya. advertisement scroll to resume content \"kemarin sudah ada wacana tahun ini kembali ke jakarta tapi ternyata harga sewa gor masih mahal,\" kata hanny di kantor pb pbvsi, pancoran, jakarta selatan, rabu (16/10/2019). \"jadi perbandingan di jakarta dengan daerah serta kondisi gor di daerah yang lebih besar, antusiasme besar, dan penontonnya sudah pasti penuh. bisa dibilang itu perbandingannya 1: 10 untuk biasa sewanya,\" dia menjelaskan. hanny mengungkapkan, untuk harga sewa hall di tennis indoor senayan bisa mencapai rp 400 juta selama tiga hari. harga itu belum termasuk untuk biaya sewa lainnya seperti ruangan dan kebutuhan lainnya. \"sedangkan di daerah mereka itu kalau sudah sewa gor, ketika kami pasang e-board sudah tak kena pajak lagi. sudah termasuk semua, kecuali di luar ya. tapi kalau di senayan di hitunglagi per meter, per hari. saya bingung ya, padahal pemerintah membuat senayan untuk olahraga tapi sekarang?\" kata dia. \"sepertinya juga pengelola lebih mementingnya yang komersil. itu pun katanya kami sudah didiskon (tapi tetap mahal). kalau di jakarta kemungkinannya pakai istora atau tennis indoor, tapi mahal.\" dia pun mencontohkan kota kediri yang pemerintah daerahnya sangat mendukung pelaksanaan proliga. \"mereka sampai meminta diadakan di daerahnya, sehingga walikotanya mempersiapkan kebutuhan kami. sampai satu tahun sebelumnya, mereka renovasi dulu. mereka berpikir dengan adanya proliga di sana maka ekonominya bergerak. sebab, sekali proliga digelar di satu daerah, perpindahan orangnya bisa sampai 500 orang. itu kan hotel, makan, sewa mobil, serta pemberitaan bagus. itu bagus buat daerahnya,\" ujar dia. \"artinya, daerah saja berpikir seperti itu dan menganggap olahraga sebagai bagian dari promosi mereka,\" dia melanjutkan. \"jadi, saya bilang kalau ke istora itu bukan kami yang harus mohon. tetapi merupakan suatu kebijakan yang dibuat untuk merangkul pb-pb untuk membuat acara di sana,\" ujar dia. \"maksudnya kemenpora dan setneg harus bersinergi. bukan pb-pb memohon. itu kan kewajiban mereka. komersilnya kan mereka sudah dapat dari plaza senayan, senayan city, lalu hotel mulia, masa yang seperti ini dikomersil juga. jadi bukan kami tak ingin digelar di jakarta,\" ujar dia. [gambas:video 20detik]'",
     "output_type": "error",
     "traceback": [
      "\u001b[1;31m---------------------------------------------------------------------------\u001b[0m",
      "\u001b[1;31mValueError\u001b[0m                                Traceback (most recent call last)",
      "\u001b[1;32mc:\\Users\\Your PC\\TA\\tingkat_keparahan-main\\svm.ipynb Cell 42\u001b[0m in \u001b[0;36m<module>\u001b[1;34m\u001b[0m\n\u001b[0;32m      <a href='vscode-notebook-cell:/c%3A/Users/Your%20PC/TA/tingkat_keparahan-main/svm.ipynb#ch0000039?line=0'>1</a>\u001b[0m \u001b[39mfrom\u001b[39;00m \u001b[39msklearn\u001b[39;00m\u001b[39m.\u001b[39;00m\u001b[39mpreprocessing\u001b[39;00m \u001b[39mimport\u001b[39;00m StandardScaler\n\u001b[0;32m      <a href='vscode-notebook-cell:/c%3A/Users/Your%20PC/TA/tingkat_keparahan-main/svm.ipynb#ch0000039?line=2'>3</a>\u001b[0m scaler \u001b[39m=\u001b[39m StandardScaler()\n\u001b[1;32m----> <a href='vscode-notebook-cell:/c%3A/Users/Your%20PC/TA/tingkat_keparahan-main/svm.ipynb#ch0000039?line=4'>5</a>\u001b[0m X_train \u001b[39m=\u001b[39m scaler\u001b[39m.\u001b[39;49mfit_transform(X_train)\n",
      "File \u001b[1;32mc:\\Users\\Your PC\\AppData\\Local\\Programs\\Python\\Python39\\lib\\site-packages\\sklearn\\base.py:867\u001b[0m, in \u001b[0;36mTransformerMixin.fit_transform\u001b[1;34m(self, X, y, **fit_params)\u001b[0m\n\u001b[0;32m    863\u001b[0m \u001b[39m# non-optimized default implementation; override when a better\u001b[39;00m\n\u001b[0;32m    864\u001b[0m \u001b[39m# method is possible for a given clustering algorithm\u001b[39;00m\n\u001b[0;32m    865\u001b[0m \u001b[39mif\u001b[39;00m y \u001b[39mis\u001b[39;00m \u001b[39mNone\u001b[39;00m:\n\u001b[0;32m    866\u001b[0m     \u001b[39m# fit method of arity 1 (unsupervised transformation)\u001b[39;00m\n\u001b[1;32m--> 867\u001b[0m     \u001b[39mreturn\u001b[39;00m \u001b[39mself\u001b[39m\u001b[39m.\u001b[39mfit(X, \u001b[39m*\u001b[39m\u001b[39m*\u001b[39mfit_params)\u001b[39m.\u001b[39mtransform(X)\n\u001b[0;32m    868\u001b[0m \u001b[39melse\u001b[39;00m:\n\u001b[0;32m    869\u001b[0m     \u001b[39m# fit method of arity 2 (supervised transformation)\u001b[39;00m\n\u001b[0;32m    870\u001b[0m     \u001b[39mreturn\u001b[39;00m \u001b[39mself\u001b[39m\u001b[39m.\u001b[39mfit(X, y, \u001b[39m*\u001b[39m\u001b[39m*\u001b[39mfit_params)\u001b[39m.\u001b[39mtransform(X)\n",
      "File \u001b[1;32mc:\\Users\\Your PC\\AppData\\Local\\Programs\\Python\\Python39\\lib\\site-packages\\sklearn\\preprocessing\\_data.py:809\u001b[0m, in \u001b[0;36mStandardScaler.fit\u001b[1;34m(self, X, y, sample_weight)\u001b[0m\n\u001b[0;32m    807\u001b[0m \u001b[39m# Reset internal state before fitting\u001b[39;00m\n\u001b[0;32m    808\u001b[0m \u001b[39mself\u001b[39m\u001b[39m.\u001b[39m_reset()\n\u001b[1;32m--> 809\u001b[0m \u001b[39mreturn\u001b[39;00m \u001b[39mself\u001b[39;49m\u001b[39m.\u001b[39;49mpartial_fit(X, y, sample_weight)\n",
      "File \u001b[1;32mc:\\Users\\Your PC\\AppData\\Local\\Programs\\Python\\Python39\\lib\\site-packages\\sklearn\\preprocessing\\_data.py:844\u001b[0m, in \u001b[0;36mStandardScaler.partial_fit\u001b[1;34m(self, X, y, sample_weight)\u001b[0m\n\u001b[0;32m    812\u001b[0m \u001b[39m\"\"\"Online computation of mean and std on X for later scaling.\u001b[39;00m\n\u001b[0;32m    813\u001b[0m \n\u001b[0;32m    814\u001b[0m \u001b[39mAll of X is processed as a single batch. This is intended for cases\u001b[39;00m\n\u001b[1;32m   (...)\u001b[0m\n\u001b[0;32m    841\u001b[0m \u001b[39m    Fitted scaler.\u001b[39;00m\n\u001b[0;32m    842\u001b[0m \u001b[39m\"\"\"\u001b[39;00m\n\u001b[0;32m    843\u001b[0m first_call \u001b[39m=\u001b[39m \u001b[39mnot\u001b[39;00m \u001b[39mhasattr\u001b[39m(\u001b[39mself\u001b[39m, \u001b[39m\"\u001b[39m\u001b[39mn_samples_seen_\u001b[39m\u001b[39m\"\u001b[39m)\n\u001b[1;32m--> 844\u001b[0m X \u001b[39m=\u001b[39m \u001b[39mself\u001b[39;49m\u001b[39m.\u001b[39;49m_validate_data(\n\u001b[0;32m    845\u001b[0m     X,\n\u001b[0;32m    846\u001b[0m     accept_sparse\u001b[39m=\u001b[39;49m(\u001b[39m\"\u001b[39;49m\u001b[39mcsr\u001b[39;49m\u001b[39m\"\u001b[39;49m, \u001b[39m\"\u001b[39;49m\u001b[39mcsc\u001b[39;49m\u001b[39m\"\u001b[39;49m),\n\u001b[0;32m    847\u001b[0m     dtype\u001b[39m=\u001b[39;49mFLOAT_DTYPES,\n\u001b[0;32m    848\u001b[0m     force_all_finite\u001b[39m=\u001b[39;49m\u001b[39m\"\u001b[39;49m\u001b[39mallow-nan\u001b[39;49m\u001b[39m\"\u001b[39;49m,\n\u001b[0;32m    849\u001b[0m     reset\u001b[39m=\u001b[39;49mfirst_call,\n\u001b[0;32m    850\u001b[0m )\n\u001b[0;32m    851\u001b[0m n_features \u001b[39m=\u001b[39m X\u001b[39m.\u001b[39mshape[\u001b[39m1\u001b[39m]\n\u001b[0;32m    853\u001b[0m \u001b[39mif\u001b[39;00m sample_weight \u001b[39mis\u001b[39;00m \u001b[39mnot\u001b[39;00m \u001b[39mNone\u001b[39;00m:\n",
      "File \u001b[1;32mc:\\Users\\Your PC\\AppData\\Local\\Programs\\Python\\Python39\\lib\\site-packages\\sklearn\\base.py:577\u001b[0m, in \u001b[0;36mBaseEstimator._validate_data\u001b[1;34m(self, X, y, reset, validate_separately, **check_params)\u001b[0m\n\u001b[0;32m    575\u001b[0m     \u001b[39mraise\u001b[39;00m \u001b[39mValueError\u001b[39;00m(\u001b[39m\"\u001b[39m\u001b[39mValidation should be done on X, y or both.\u001b[39m\u001b[39m\"\u001b[39m)\n\u001b[0;32m    576\u001b[0m \u001b[39melif\u001b[39;00m \u001b[39mnot\u001b[39;00m no_val_X \u001b[39mand\u001b[39;00m no_val_y:\n\u001b[1;32m--> 577\u001b[0m     X \u001b[39m=\u001b[39m check_array(X, input_name\u001b[39m=\u001b[39m\u001b[39m\"\u001b[39m\u001b[39mX\u001b[39m\u001b[39m\"\u001b[39m, \u001b[39m*\u001b[39m\u001b[39m*\u001b[39mcheck_params)\n\u001b[0;32m    578\u001b[0m     out \u001b[39m=\u001b[39m X\n\u001b[0;32m    579\u001b[0m \u001b[39melif\u001b[39;00m no_val_X \u001b[39mand\u001b[39;00m \u001b[39mnot\u001b[39;00m no_val_y:\n",
      "File \u001b[1;32mc:\\Users\\Your PC\\AppData\\Local\\Programs\\Python\\Python39\\lib\\site-packages\\sklearn\\utils\\validation.py:856\u001b[0m, in \u001b[0;36mcheck_array\u001b[1;34m(array, accept_sparse, accept_large_sparse, dtype, order, copy, force_all_finite, ensure_2d, allow_nd, ensure_min_samples, ensure_min_features, estimator, input_name)\u001b[0m\n\u001b[0;32m    854\u001b[0m         array \u001b[39m=\u001b[39m array\u001b[39m.\u001b[39mastype(dtype, casting\u001b[39m=\u001b[39m\u001b[39m\"\u001b[39m\u001b[39munsafe\u001b[39m\u001b[39m\"\u001b[39m, copy\u001b[39m=\u001b[39m\u001b[39mFalse\u001b[39;00m)\n\u001b[0;32m    855\u001b[0m     \u001b[39melse\u001b[39;00m:\n\u001b[1;32m--> 856\u001b[0m         array \u001b[39m=\u001b[39m np\u001b[39m.\u001b[39;49masarray(array, order\u001b[39m=\u001b[39;49morder, dtype\u001b[39m=\u001b[39;49mdtype)\n\u001b[0;32m    857\u001b[0m \u001b[39mexcept\u001b[39;00m ComplexWarning \u001b[39mas\u001b[39;00m complex_warning:\n\u001b[0;32m    858\u001b[0m     \u001b[39mraise\u001b[39;00m \u001b[39mValueError\u001b[39;00m(\n\u001b[0;32m    859\u001b[0m         \u001b[39m\"\u001b[39m\u001b[39mComplex data not supported\u001b[39m\u001b[39m\\n\u001b[39;00m\u001b[39m{}\u001b[39;00m\u001b[39m\\n\u001b[39;00m\u001b[39m\"\u001b[39m\u001b[39m.\u001b[39mformat(array)\n\u001b[0;32m    860\u001b[0m     ) \u001b[39mfrom\u001b[39;00m \u001b[39mcomplex_warning\u001b[39;00m\n",
      "File \u001b[1;32mc:\\Users\\Your PC\\AppData\\Local\\Programs\\Python\\Python39\\lib\\site-packages\\pandas\\core\\generic.py:2072\u001b[0m, in \u001b[0;36mNDFrame.__array__\u001b[1;34m(self, dtype)\u001b[0m\n\u001b[0;32m   2071\u001b[0m \u001b[39mdef\u001b[39;00m \u001b[39m__array__\u001b[39m(\u001b[39mself\u001b[39m, dtype: npt\u001b[39m.\u001b[39mDTypeLike \u001b[39m|\u001b[39m \u001b[39mNone\u001b[39;00m \u001b[39m=\u001b[39m \u001b[39mNone\u001b[39;00m) \u001b[39m-\u001b[39m\u001b[39m>\u001b[39m np\u001b[39m.\u001b[39mndarray:\n\u001b[1;32m-> 2072\u001b[0m     \u001b[39mreturn\u001b[39;00m np\u001b[39m.\u001b[39;49masarray(\u001b[39mself\u001b[39;49m\u001b[39m.\u001b[39;49m_values, dtype\u001b[39m=\u001b[39;49mdtype)\n",
      "\u001b[1;31mValueError\u001b[0m: could not convert string to float: '\\\\- kompetisi bola voli proliga sudah lama tidak digelar di jakarta. pengurus pusat persatuan bola voli seluruh indonesia (pp pbvsi) membeberkan alasan proliga tak singgahi ibu kota. proliga tak mampir ke jakarta sejak 2017. alasannya, ada renovasi besar- besaran di beberapa venue di kawasan gelora bung karno, senayan, untuk asian games 2018. dua tahun berlalu, jakarta ternyata masih belum menjadi pilihan tuan rumah yang tepat untuk menyelenggarakan kompetisi kasta tertinggi voli nasional tersebut. bahkan, sampai proliga 2020. direktur proliga, hanny sukartty, menjelaskan sebenarnya pada proliga tahun ini sempat mewacanakan untuk memasukkan kembali ibu kota sebagai salah satu kota tuan rumah. tetapi, biaya penyewaan yang luar biasa besar jadi kendalanya. advertisement scroll to resume content \"kemarin sudah ada wacana tahun ini kembali ke jakarta tapi ternyata harga sewa gor masih mahal,\" kata hanny di kantor pb pbvsi, pancoran, jakarta selatan, rabu (16/10/2019). \"jadi perbandingan di jakarta dengan daerah serta kondisi gor di daerah yang lebih besar, antusiasme besar, dan penontonnya sudah pasti penuh. bisa dibilang itu perbandingannya 1: 10 untuk biasa sewanya,\" dia menjelaskan. hanny mengungkapkan, untuk harga sewa hall di tennis indoor senayan bisa mencapai rp 400 juta selama tiga hari. harga itu belum termasuk untuk biaya sewa lainnya seperti ruangan dan kebutuhan lainnya. \"sedangkan di daerah mereka itu kalau sudah sewa gor, ketika kami pasang e-board sudah tak kena pajak lagi. sudah termasuk semua, kecuali di luar ya. tapi kalau di senayan di hitunglagi per meter, per hari. saya bingung ya, padahal pemerintah membuat senayan untuk olahraga tapi sekarang?\" kata dia. \"sepertinya juga pengelola lebih mementingnya yang komersil. itu pun katanya kami sudah didiskon (tapi tetap mahal). kalau di jakarta kemungkinannya pakai istora atau tennis indoor, tapi mahal.\" dia pun mencontohkan kota kediri yang pemerintah daerahnya sangat mendukung pelaksanaan proliga. \"mereka sampai meminta diadakan di daerahnya, sehingga walikotanya mempersiapkan kebutuhan kami. sampai satu tahun sebelumnya, mereka renovasi dulu. mereka berpikir dengan adanya proliga di sana maka ekonominya bergerak. sebab, sekali proliga digelar di satu daerah, perpindahan orangnya bisa sampai 500 orang. itu kan hotel, makan, sewa mobil, serta pemberitaan bagus. itu bagus buat daerahnya,\" ujar dia. \"artinya, daerah saja berpikir seperti itu dan menganggap olahraga sebagai bagian dari promosi mereka,\" dia melanjutkan. \"jadi, saya bilang kalau ke istora itu bukan kami yang harus mohon. tetapi merupakan suatu kebijakan yang dibuat untuk merangkul pb-pb untuk membuat acara di sana,\" ujar dia. \"maksudnya kemenpora dan setneg harus bersinergi. bukan pb-pb memohon. itu kan kewajiban mereka. komersilnya kan mereka sudah dapat dari plaza senayan, senayan city, lalu hotel mulia, masa yang seperti ini dikomersil juga. jadi bukan kami tak ingin digelar di jakarta,\" ujar dia. [gambas:video 20detik]'"
     ]
    }
   ],
   "source": [
    "from sklearn.preprocessing import StandardScaler\n",
    "\n",
    "scaler = StandardScaler()\n",
    "\n",
    "X_train = scaler.fit_transform(X_train)\n",
    "# X_test = scaler.transform(X_test)"
   ]
  },
  {
   "cell_type": "code",
   "execution_count": null,
   "metadata": {},
   "outputs": [
    {
     "ename": "ValueError",
     "evalue": "could not convert string to float: '\\\\- kompetisi bola voli proliga sudah lama tidak digelar di jakarta. pengurus pusat persatuan bola voli seluruh indonesia (pp pbvsi) membeberkan alasan proliga tak singgahi ibu kota. proliga tak mampir ke jakarta sejak 2017. alasannya, ada renovasi besar- besaran di beberapa venue di kawasan gelora bung karno, senayan, untuk asian games 2018. dua tahun berlalu, jakarta ternyata masih belum menjadi pilihan tuan rumah yang tepat untuk menyelenggarakan kompetisi kasta tertinggi voli nasional tersebut. bahkan, sampai proliga 2020. direktur proliga, hanny sukartty, menjelaskan sebenarnya pada proliga tahun ini sempat mewacanakan untuk memasukkan kembali ibu kota sebagai salah satu kota tuan rumah. tetapi, biaya penyewaan yang luar biasa besar jadi kendalanya. advertisement scroll to resume content \"kemarin sudah ada wacana tahun ini kembali ke jakarta tapi ternyata harga sewa gor masih mahal,\" kata hanny di kantor pb pbvsi, pancoran, jakarta selatan, rabu (16/10/2019). \"jadi perbandingan di jakarta dengan daerah serta kondisi gor di daerah yang lebih besar, antusiasme besar, dan penontonnya sudah pasti penuh. bisa dibilang itu perbandingannya 1: 10 untuk biasa sewanya,\" dia menjelaskan. hanny mengungkapkan, untuk harga sewa hall di tennis indoor senayan bisa mencapai rp 400 juta selama tiga hari. harga itu belum termasuk untuk biaya sewa lainnya seperti ruangan dan kebutuhan lainnya. \"sedangkan di daerah mereka itu kalau sudah sewa gor, ketika kami pasang e-board sudah tak kena pajak lagi. sudah termasuk semua, kecuali di luar ya. tapi kalau di senayan di hitunglagi per meter, per hari. saya bingung ya, padahal pemerintah membuat senayan untuk olahraga tapi sekarang?\" kata dia. \"sepertinya juga pengelola lebih mementingnya yang komersil. itu pun katanya kami sudah didiskon (tapi tetap mahal). kalau di jakarta kemungkinannya pakai istora atau tennis indoor, tapi mahal.\" dia pun mencontohkan kota kediri yang pemerintah daerahnya sangat mendukung pelaksanaan proliga. \"mereka sampai meminta diadakan di daerahnya, sehingga walikotanya mempersiapkan kebutuhan kami. sampai satu tahun sebelumnya, mereka renovasi dulu. mereka berpikir dengan adanya proliga di sana maka ekonominya bergerak. sebab, sekali proliga digelar di satu daerah, perpindahan orangnya bisa sampai 500 orang. itu kan hotel, makan, sewa mobil, serta pemberitaan bagus. itu bagus buat daerahnya,\" ujar dia. \"artinya, daerah saja berpikir seperti itu dan menganggap olahraga sebagai bagian dari promosi mereka,\" dia melanjutkan. \"jadi, saya bilang kalau ke istora itu bukan kami yang harus mohon. tetapi merupakan suatu kebijakan yang dibuat untuk merangkul pb-pb untuk membuat acara di sana,\" ujar dia. \"maksudnya kemenpora dan setneg harus bersinergi. bukan pb-pb memohon. itu kan kewajiban mereka. komersilnya kan mereka sudah dapat dari plaza senayan, senayan city, lalu hotel mulia, masa yang seperti ini dikomersil juga. jadi bukan kami tak ingin digelar di jakarta,\" ujar dia. [gambas:video 20detik]'",
     "output_type": "error",
     "traceback": [
      "\u001b[1;31m---------------------------------------------------------------------------\u001b[0m",
      "\u001b[1;31mValueError\u001b[0m                                Traceback (most recent call last)",
      "\u001b[1;32mc:\\Users\\Your PC\\TA\\tingkat_keparahan-main\\svm.ipynb Cell 43\u001b[0m in \u001b[0;36m<module>\u001b[1;34m\u001b[0m\n\u001b[0;32m      <a href='vscode-notebook-cell:/c%3A/Users/Your%20PC/TA/tingkat_keparahan-main/svm.ipynb#ch0000040?line=3'>4</a>\u001b[0m svc\u001b[39m=\u001b[39mSVC() \n\u001b[0;32m      <a href='vscode-notebook-cell:/c%3A/Users/Your%20PC/TA/tingkat_keparahan-main/svm.ipynb#ch0000040?line=5'>6</a>\u001b[0m \u001b[39m## Fit the model\u001b[39;00m\n\u001b[1;32m----> <a href='vscode-notebook-cell:/c%3A/Users/Your%20PC/TA/tingkat_keparahan-main/svm.ipynb#ch0000040?line=6'>7</a>\u001b[0m svc\u001b[39m.\u001b[39;49mfit(X_train,y_train)\n",
      "File \u001b[1;32mc:\\Users\\Your PC\\AppData\\Local\\Programs\\Python\\Python39\\lib\\site-packages\\sklearn\\svm\\_base.py:173\u001b[0m, in \u001b[0;36mBaseLibSVM.fit\u001b[1;34m(self, X, y, sample_weight)\u001b[0m\n\u001b[0;32m    171\u001b[0m     check_consistent_length(X, y)\n\u001b[0;32m    172\u001b[0m \u001b[39melse\u001b[39;00m:\n\u001b[1;32m--> 173\u001b[0m     X, y \u001b[39m=\u001b[39m \u001b[39mself\u001b[39;49m\u001b[39m.\u001b[39;49m_validate_data(\n\u001b[0;32m    174\u001b[0m         X,\n\u001b[0;32m    175\u001b[0m         y,\n\u001b[0;32m    176\u001b[0m         dtype\u001b[39m=\u001b[39;49mnp\u001b[39m.\u001b[39;49mfloat64,\n\u001b[0;32m    177\u001b[0m         order\u001b[39m=\u001b[39;49m\u001b[39m\"\u001b[39;49m\u001b[39mC\u001b[39;49m\u001b[39m\"\u001b[39;49m,\n\u001b[0;32m    178\u001b[0m         accept_sparse\u001b[39m=\u001b[39;49m\u001b[39m\"\u001b[39;49m\u001b[39mcsr\u001b[39;49m\u001b[39m\"\u001b[39;49m,\n\u001b[0;32m    179\u001b[0m         accept_large_sparse\u001b[39m=\u001b[39;49m\u001b[39mFalse\u001b[39;49;00m,\n\u001b[0;32m    180\u001b[0m     )\n\u001b[0;32m    182\u001b[0m y \u001b[39m=\u001b[39m \u001b[39mself\u001b[39m\u001b[39m.\u001b[39m_validate_targets(y)\n\u001b[0;32m    184\u001b[0m sample_weight \u001b[39m=\u001b[39m np\u001b[39m.\u001b[39masarray(\n\u001b[0;32m    185\u001b[0m     [] \u001b[39mif\u001b[39;00m sample_weight \u001b[39mis\u001b[39;00m \u001b[39mNone\u001b[39;00m \u001b[39melse\u001b[39;00m sample_weight, dtype\u001b[39m=\u001b[39mnp\u001b[39m.\u001b[39mfloat64\n\u001b[0;32m    186\u001b[0m )\n",
      "File \u001b[1;32mc:\\Users\\Your PC\\AppData\\Local\\Programs\\Python\\Python39\\lib\\site-packages\\sklearn\\base.py:596\u001b[0m, in \u001b[0;36mBaseEstimator._validate_data\u001b[1;34m(self, X, y, reset, validate_separately, **check_params)\u001b[0m\n\u001b[0;32m    594\u001b[0m         y \u001b[39m=\u001b[39m check_array(y, input_name\u001b[39m=\u001b[39m\u001b[39m\"\u001b[39m\u001b[39my\u001b[39m\u001b[39m\"\u001b[39m, \u001b[39m*\u001b[39m\u001b[39m*\u001b[39mcheck_y_params)\n\u001b[0;32m    595\u001b[0m     \u001b[39melse\u001b[39;00m:\n\u001b[1;32m--> 596\u001b[0m         X, y \u001b[39m=\u001b[39m check_X_y(X, y, \u001b[39m*\u001b[39m\u001b[39m*\u001b[39mcheck_params)\n\u001b[0;32m    597\u001b[0m     out \u001b[39m=\u001b[39m X, y\n\u001b[0;32m    599\u001b[0m \u001b[39mif\u001b[39;00m \u001b[39mnot\u001b[39;00m no_val_X \u001b[39mand\u001b[39;00m check_params\u001b[39m.\u001b[39mget(\u001b[39m\"\u001b[39m\u001b[39mensure_2d\u001b[39m\u001b[39m\"\u001b[39m, \u001b[39mTrue\u001b[39;00m):\n",
      "File \u001b[1;32mc:\\Users\\Your PC\\AppData\\Local\\Programs\\Python\\Python39\\lib\\site-packages\\sklearn\\utils\\validation.py:1074\u001b[0m, in \u001b[0;36mcheck_X_y\u001b[1;34m(X, y, accept_sparse, accept_large_sparse, dtype, order, copy, force_all_finite, ensure_2d, allow_nd, multi_output, ensure_min_samples, ensure_min_features, y_numeric, estimator)\u001b[0m\n\u001b[0;32m   1069\u001b[0m         estimator_name \u001b[39m=\u001b[39m _check_estimator_name(estimator)\n\u001b[0;32m   1070\u001b[0m     \u001b[39mraise\u001b[39;00m \u001b[39mValueError\u001b[39;00m(\n\u001b[0;32m   1071\u001b[0m         \u001b[39mf\u001b[39m\u001b[39m\"\u001b[39m\u001b[39m{\u001b[39;00mestimator_name\u001b[39m}\u001b[39;00m\u001b[39m requires y to be passed, but the target y is None\u001b[39m\u001b[39m\"\u001b[39m\n\u001b[0;32m   1072\u001b[0m     )\n\u001b[1;32m-> 1074\u001b[0m X \u001b[39m=\u001b[39m check_array(\n\u001b[0;32m   1075\u001b[0m     X,\n\u001b[0;32m   1076\u001b[0m     accept_sparse\u001b[39m=\u001b[39;49maccept_sparse,\n\u001b[0;32m   1077\u001b[0m     accept_large_sparse\u001b[39m=\u001b[39;49maccept_large_sparse,\n\u001b[0;32m   1078\u001b[0m     dtype\u001b[39m=\u001b[39;49mdtype,\n\u001b[0;32m   1079\u001b[0m     order\u001b[39m=\u001b[39;49morder,\n\u001b[0;32m   1080\u001b[0m     copy\u001b[39m=\u001b[39;49mcopy,\n\u001b[0;32m   1081\u001b[0m     force_all_finite\u001b[39m=\u001b[39;49mforce_all_finite,\n\u001b[0;32m   1082\u001b[0m     ensure_2d\u001b[39m=\u001b[39;49mensure_2d,\n\u001b[0;32m   1083\u001b[0m     allow_nd\u001b[39m=\u001b[39;49mallow_nd,\n\u001b[0;32m   1084\u001b[0m     ensure_min_samples\u001b[39m=\u001b[39;49mensure_min_samples,\n\u001b[0;32m   1085\u001b[0m     ensure_min_features\u001b[39m=\u001b[39;49mensure_min_features,\n\u001b[0;32m   1086\u001b[0m     estimator\u001b[39m=\u001b[39;49mestimator,\n\u001b[0;32m   1087\u001b[0m     input_name\u001b[39m=\u001b[39;49m\u001b[39m\"\u001b[39;49m\u001b[39mX\u001b[39;49m\u001b[39m\"\u001b[39;49m,\n\u001b[0;32m   1088\u001b[0m )\n\u001b[0;32m   1090\u001b[0m y \u001b[39m=\u001b[39m _check_y(y, multi_output\u001b[39m=\u001b[39mmulti_output, y_numeric\u001b[39m=\u001b[39my_numeric, estimator\u001b[39m=\u001b[39mestimator)\n\u001b[0;32m   1092\u001b[0m check_consistent_length(X, y)\n",
      "File \u001b[1;32mc:\\Users\\Your PC\\AppData\\Local\\Programs\\Python\\Python39\\lib\\site-packages\\sklearn\\utils\\validation.py:856\u001b[0m, in \u001b[0;36mcheck_array\u001b[1;34m(array, accept_sparse, accept_large_sparse, dtype, order, copy, force_all_finite, ensure_2d, allow_nd, ensure_min_samples, ensure_min_features, estimator, input_name)\u001b[0m\n\u001b[0;32m    854\u001b[0m         array \u001b[39m=\u001b[39m array\u001b[39m.\u001b[39mastype(dtype, casting\u001b[39m=\u001b[39m\u001b[39m\"\u001b[39m\u001b[39munsafe\u001b[39m\u001b[39m\"\u001b[39m, copy\u001b[39m=\u001b[39m\u001b[39mFalse\u001b[39;00m)\n\u001b[0;32m    855\u001b[0m     \u001b[39melse\u001b[39;00m:\n\u001b[1;32m--> 856\u001b[0m         array \u001b[39m=\u001b[39m np\u001b[39m.\u001b[39;49masarray(array, order\u001b[39m=\u001b[39;49morder, dtype\u001b[39m=\u001b[39;49mdtype)\n\u001b[0;32m    857\u001b[0m \u001b[39mexcept\u001b[39;00m ComplexWarning \u001b[39mas\u001b[39;00m complex_warning:\n\u001b[0;32m    858\u001b[0m     \u001b[39mraise\u001b[39;00m \u001b[39mValueError\u001b[39;00m(\n\u001b[0;32m    859\u001b[0m         \u001b[39m\"\u001b[39m\u001b[39mComplex data not supported\u001b[39m\u001b[39m\\n\u001b[39;00m\u001b[39m{}\u001b[39;00m\u001b[39m\\n\u001b[39;00m\u001b[39m\"\u001b[39m\u001b[39m.\u001b[39mformat(array)\n\u001b[0;32m    860\u001b[0m     ) \u001b[39mfrom\u001b[39;00m \u001b[39mcomplex_warning\u001b[39;00m\n",
      "File \u001b[1;32mc:\\Users\\Your PC\\AppData\\Local\\Programs\\Python\\Python39\\lib\\site-packages\\pandas\\core\\generic.py:2072\u001b[0m, in \u001b[0;36mNDFrame.__array__\u001b[1;34m(self, dtype)\u001b[0m\n\u001b[0;32m   2071\u001b[0m \u001b[39mdef\u001b[39;00m \u001b[39m__array__\u001b[39m(\u001b[39mself\u001b[39m, dtype: npt\u001b[39m.\u001b[39mDTypeLike \u001b[39m|\u001b[39m \u001b[39mNone\u001b[39;00m \u001b[39m=\u001b[39m \u001b[39mNone\u001b[39;00m) \u001b[39m-\u001b[39m\u001b[39m>\u001b[39m np\u001b[39m.\u001b[39mndarray:\n\u001b[1;32m-> 2072\u001b[0m     \u001b[39mreturn\u001b[39;00m np\u001b[39m.\u001b[39;49masarray(\u001b[39mself\u001b[39;49m\u001b[39m.\u001b[39;49m_values, dtype\u001b[39m=\u001b[39;49mdtype)\n",
      "\u001b[1;31mValueError\u001b[0m: could not convert string to float: '\\\\- kompetisi bola voli proliga sudah lama tidak digelar di jakarta. pengurus pusat persatuan bola voli seluruh indonesia (pp pbvsi) membeberkan alasan proliga tak singgahi ibu kota. proliga tak mampir ke jakarta sejak 2017. alasannya, ada renovasi besar- besaran di beberapa venue di kawasan gelora bung karno, senayan, untuk asian games 2018. dua tahun berlalu, jakarta ternyata masih belum menjadi pilihan tuan rumah yang tepat untuk menyelenggarakan kompetisi kasta tertinggi voli nasional tersebut. bahkan, sampai proliga 2020. direktur proliga, hanny sukartty, menjelaskan sebenarnya pada proliga tahun ini sempat mewacanakan untuk memasukkan kembali ibu kota sebagai salah satu kota tuan rumah. tetapi, biaya penyewaan yang luar biasa besar jadi kendalanya. advertisement scroll to resume content \"kemarin sudah ada wacana tahun ini kembali ke jakarta tapi ternyata harga sewa gor masih mahal,\" kata hanny di kantor pb pbvsi, pancoran, jakarta selatan, rabu (16/10/2019). \"jadi perbandingan di jakarta dengan daerah serta kondisi gor di daerah yang lebih besar, antusiasme besar, dan penontonnya sudah pasti penuh. bisa dibilang itu perbandingannya 1: 10 untuk biasa sewanya,\" dia menjelaskan. hanny mengungkapkan, untuk harga sewa hall di tennis indoor senayan bisa mencapai rp 400 juta selama tiga hari. harga itu belum termasuk untuk biaya sewa lainnya seperti ruangan dan kebutuhan lainnya. \"sedangkan di daerah mereka itu kalau sudah sewa gor, ketika kami pasang e-board sudah tak kena pajak lagi. sudah termasuk semua, kecuali di luar ya. tapi kalau di senayan di hitunglagi per meter, per hari. saya bingung ya, padahal pemerintah membuat senayan untuk olahraga tapi sekarang?\" kata dia. \"sepertinya juga pengelola lebih mementingnya yang komersil. itu pun katanya kami sudah didiskon (tapi tetap mahal). kalau di jakarta kemungkinannya pakai istora atau tennis indoor, tapi mahal.\" dia pun mencontohkan kota kediri yang pemerintah daerahnya sangat mendukung pelaksanaan proliga. \"mereka sampai meminta diadakan di daerahnya, sehingga walikotanya mempersiapkan kebutuhan kami. sampai satu tahun sebelumnya, mereka renovasi dulu. mereka berpikir dengan adanya proliga di sana maka ekonominya bergerak. sebab, sekali proliga digelar di satu daerah, perpindahan orangnya bisa sampai 500 orang. itu kan hotel, makan, sewa mobil, serta pemberitaan bagus. itu bagus buat daerahnya,\" ujar dia. \"artinya, daerah saja berpikir seperti itu dan menganggap olahraga sebagai bagian dari promosi mereka,\" dia melanjutkan. \"jadi, saya bilang kalau ke istora itu bukan kami yang harus mohon. tetapi merupakan suatu kebijakan yang dibuat untuk merangkul pb-pb untuk membuat acara di sana,\" ujar dia. \"maksudnya kemenpora dan setneg harus bersinergi. bukan pb-pb memohon. itu kan kewajiban mereka. komersilnya kan mereka sudah dapat dari plaza senayan, senayan city, lalu hotel mulia, masa yang seperti ini dikomersil juga. jadi bukan kami tak ingin digelar di jakarta,\" ujar dia. [gambas:video 20detik]'"
     ]
    }
   ],
   "source": [
    "from sklearn.svm import SVC\n",
    "\n",
    "## Instantiate the model\n",
    "svc=SVC() \n",
    "\n",
    "## Fit the model\n",
    "svc.fit(X_train,y_train)"
   ]
  },
  {
   "cell_type": "code",
   "execution_count": null,
   "metadata": {},
   "outputs": [
    {
     "ename": "ValueError",
     "evalue": "could not convert string to float: '\\\\- petenis putra indonesia, christopher rungkat, telah menjajal lapangan di sea games 2019 filipina. dia mampu beradaptasi dengan lapangan yang lebih lambat. tim tenis indonesia menjajal lapangan pada jumat (29/11/2019) pagi waktu manila. latihan sekaligus pemanasan berlangsung satu setengah jam. venue tenis di rizal memorial sports complex bukan venue yang asing bagi christopher. tapi, lapangan tenis menjadi berbeda setelah direnovasi. advertisement scroll to resume content \"ini tantangannya, baru direnovasi jadi (bola) sedikit lebih lambat, permukaannya kasar, di bawahnya cepat mekar, cepat habis,\" kata christo. \"tapi 1,5 jam latihan sudah merasa nyaman dengan lapangannya, tidak ada masalah. kami mencoba semaksimal mungkin,\" dia menegaskan. sebelumnya, christo sudah bermain di rizal memorial tennis center, dalam turnamen manila atp challenger 2016. christo menjadi salah satu tumpuan indonesia untuk menjadi salah satu penyumbang medali emas dari dua yang ditargetkan di sea games 2019. selain christo, tenis putra diperkuat oleh ari fahresi, anthony susanto, david agung, dan muhammad rifqy fitriadi. sementara itu, tenis putri diperkuat aldila sutjiadi, beatrice gumulya, jessy rompies, priska madelyn nugroho dan rifanty kahfiani. pertandingan tenis sea games 2019 digelar mulai minggu (1/12). ![christopher rungkat adaptasi dengan bola lambat di rizal memorial ](https://akcdn.detik.net.id/community/media/visual/2019/11/28/9c93cfd8-b78a-4b11-88c3-49d780813101.jpeg?a=1) --- [gambas:video 20detik]'",
     "output_type": "error",
     "traceback": [
      "\u001b[1;31m---------------------------------------------------------------------------\u001b[0m",
      "\u001b[1;31mValueError\u001b[0m                                Traceback (most recent call last)",
      "\u001b[1;32mc:\\Users\\Your PC\\TA\\tingkat_keparahan-main\\svm.ipynb Cell 44\u001b[0m in \u001b[0;36m<module>\u001b[1;34m\u001b[0m\n\u001b[1;32m----> <a href='vscode-notebook-cell:/c%3A/Users/Your%20PC/TA/tingkat_keparahan-main/svm.ipynb#ch0000041?line=0'>1</a>\u001b[0m y_pred\u001b[39m=\u001b[39msvc\u001b[39m.\u001b[39;49mpredict(X_test)\n\u001b[0;32m      <a href='vscode-notebook-cell:/c%3A/Users/Your%20PC/TA/tingkat_keparahan-main/svm.ipynb#ch0000041?line=2'>3</a>\u001b[0m y_pred\n",
      "File \u001b[1;32mc:\\Users\\Your PC\\AppData\\Local\\Programs\\Python\\Python39\\lib\\site-packages\\sklearn\\svm\\_base.py:810\u001b[0m, in \u001b[0;36mBaseSVC.predict\u001b[1;34m(self, X)\u001b[0m\n\u001b[0;32m    808\u001b[0m     y \u001b[39m=\u001b[39m np\u001b[39m.\u001b[39margmax(\u001b[39mself\u001b[39m\u001b[39m.\u001b[39mdecision_function(X), axis\u001b[39m=\u001b[39m\u001b[39m1\u001b[39m)\n\u001b[0;32m    809\u001b[0m \u001b[39melse\u001b[39;00m:\n\u001b[1;32m--> 810\u001b[0m     y \u001b[39m=\u001b[39m \u001b[39msuper\u001b[39;49m()\u001b[39m.\u001b[39;49mpredict(X)\n\u001b[0;32m    811\u001b[0m \u001b[39mreturn\u001b[39;00m \u001b[39mself\u001b[39m\u001b[39m.\u001b[39mclasses_\u001b[39m.\u001b[39mtake(np\u001b[39m.\u001b[39masarray(y, dtype\u001b[39m=\u001b[39mnp\u001b[39m.\u001b[39mintp))\n",
      "File \u001b[1;32mc:\\Users\\Your PC\\AppData\\Local\\Programs\\Python\\Python39\\lib\\site-packages\\sklearn\\svm\\_base.py:433\u001b[0m, in \u001b[0;36mBaseLibSVM.predict\u001b[1;34m(self, X)\u001b[0m\n\u001b[0;32m    417\u001b[0m \u001b[39mdef\u001b[39;00m \u001b[39mpredict\u001b[39m(\u001b[39mself\u001b[39m, X):\n\u001b[0;32m    418\u001b[0m     \u001b[39m\"\"\"Perform regression on samples in X.\u001b[39;00m\n\u001b[0;32m    419\u001b[0m \n\u001b[0;32m    420\u001b[0m \u001b[39m    For an one-class model, +1 (inlier) or -1 (outlier) is returned.\u001b[39;00m\n\u001b[1;32m   (...)\u001b[0m\n\u001b[0;32m    431\u001b[0m \u001b[39m        The predicted values.\u001b[39;00m\n\u001b[0;32m    432\u001b[0m \u001b[39m    \"\"\"\u001b[39;00m\n\u001b[1;32m--> 433\u001b[0m     X \u001b[39m=\u001b[39m \u001b[39mself\u001b[39;49m\u001b[39m.\u001b[39;49m_validate_for_predict(X)\n\u001b[0;32m    434\u001b[0m     predict \u001b[39m=\u001b[39m \u001b[39mself\u001b[39m\u001b[39m.\u001b[39m_sparse_predict \u001b[39mif\u001b[39;00m \u001b[39mself\u001b[39m\u001b[39m.\u001b[39m_sparse \u001b[39melse\u001b[39;00m \u001b[39mself\u001b[39m\u001b[39m.\u001b[39m_dense_predict\n\u001b[0;32m    435\u001b[0m     \u001b[39mreturn\u001b[39;00m predict(X)\n",
      "File \u001b[1;32mc:\\Users\\Your PC\\AppData\\Local\\Programs\\Python\\Python39\\lib\\site-packages\\sklearn\\svm\\_base.py:611\u001b[0m, in \u001b[0;36mBaseLibSVM._validate_for_predict\u001b[1;34m(self, X)\u001b[0m\n\u001b[0;32m    608\u001b[0m check_is_fitted(\u001b[39mself\u001b[39m)\n\u001b[0;32m    610\u001b[0m \u001b[39mif\u001b[39;00m \u001b[39mnot\u001b[39;00m callable(\u001b[39mself\u001b[39m\u001b[39m.\u001b[39mkernel):\n\u001b[1;32m--> 611\u001b[0m     X \u001b[39m=\u001b[39m \u001b[39mself\u001b[39;49m\u001b[39m.\u001b[39;49m_validate_data(\n\u001b[0;32m    612\u001b[0m         X,\n\u001b[0;32m    613\u001b[0m         accept_sparse\u001b[39m=\u001b[39;49m\u001b[39m\"\u001b[39;49m\u001b[39mcsr\u001b[39;49m\u001b[39m\"\u001b[39;49m,\n\u001b[0;32m    614\u001b[0m         dtype\u001b[39m=\u001b[39;49mnp\u001b[39m.\u001b[39;49mfloat64,\n\u001b[0;32m    615\u001b[0m         order\u001b[39m=\u001b[39;49m\u001b[39m\"\u001b[39;49m\u001b[39mC\u001b[39;49m\u001b[39m\"\u001b[39;49m,\n\u001b[0;32m    616\u001b[0m         accept_large_sparse\u001b[39m=\u001b[39;49m\u001b[39mFalse\u001b[39;49;00m,\n\u001b[0;32m    617\u001b[0m         reset\u001b[39m=\u001b[39;49m\u001b[39mFalse\u001b[39;49;00m,\n\u001b[0;32m    618\u001b[0m     )\n\u001b[0;32m    620\u001b[0m \u001b[39mif\u001b[39;00m \u001b[39mself\u001b[39m\u001b[39m.\u001b[39m_sparse \u001b[39mand\u001b[39;00m \u001b[39mnot\u001b[39;00m sp\u001b[39m.\u001b[39misspmatrix(X):\n\u001b[0;32m    621\u001b[0m     X \u001b[39m=\u001b[39m sp\u001b[39m.\u001b[39mcsr_matrix(X)\n",
      "File \u001b[1;32mc:\\Users\\Your PC\\AppData\\Local\\Programs\\Python\\Python39\\lib\\site-packages\\sklearn\\base.py:577\u001b[0m, in \u001b[0;36mBaseEstimator._validate_data\u001b[1;34m(self, X, y, reset, validate_separately, **check_params)\u001b[0m\n\u001b[0;32m    575\u001b[0m     \u001b[39mraise\u001b[39;00m \u001b[39mValueError\u001b[39;00m(\u001b[39m\"\u001b[39m\u001b[39mValidation should be done on X, y or both.\u001b[39m\u001b[39m\"\u001b[39m)\n\u001b[0;32m    576\u001b[0m \u001b[39melif\u001b[39;00m \u001b[39mnot\u001b[39;00m no_val_X \u001b[39mand\u001b[39;00m no_val_y:\n\u001b[1;32m--> 577\u001b[0m     X \u001b[39m=\u001b[39m check_array(X, input_name\u001b[39m=\u001b[39m\u001b[39m\"\u001b[39m\u001b[39mX\u001b[39m\u001b[39m\"\u001b[39m, \u001b[39m*\u001b[39m\u001b[39m*\u001b[39mcheck_params)\n\u001b[0;32m    578\u001b[0m     out \u001b[39m=\u001b[39m X\n\u001b[0;32m    579\u001b[0m \u001b[39melif\u001b[39;00m no_val_X \u001b[39mand\u001b[39;00m \u001b[39mnot\u001b[39;00m no_val_y:\n",
      "File \u001b[1;32mc:\\Users\\Your PC\\AppData\\Local\\Programs\\Python\\Python39\\lib\\site-packages\\sklearn\\utils\\validation.py:856\u001b[0m, in \u001b[0;36mcheck_array\u001b[1;34m(array, accept_sparse, accept_large_sparse, dtype, order, copy, force_all_finite, ensure_2d, allow_nd, ensure_min_samples, ensure_min_features, estimator, input_name)\u001b[0m\n\u001b[0;32m    854\u001b[0m         array \u001b[39m=\u001b[39m array\u001b[39m.\u001b[39mastype(dtype, casting\u001b[39m=\u001b[39m\u001b[39m\"\u001b[39m\u001b[39munsafe\u001b[39m\u001b[39m\"\u001b[39m, copy\u001b[39m=\u001b[39m\u001b[39mFalse\u001b[39;00m)\n\u001b[0;32m    855\u001b[0m     \u001b[39melse\u001b[39;00m:\n\u001b[1;32m--> 856\u001b[0m         array \u001b[39m=\u001b[39m np\u001b[39m.\u001b[39;49masarray(array, order\u001b[39m=\u001b[39;49morder, dtype\u001b[39m=\u001b[39;49mdtype)\n\u001b[0;32m    857\u001b[0m \u001b[39mexcept\u001b[39;00m ComplexWarning \u001b[39mas\u001b[39;00m complex_warning:\n\u001b[0;32m    858\u001b[0m     \u001b[39mraise\u001b[39;00m \u001b[39mValueError\u001b[39;00m(\n\u001b[0;32m    859\u001b[0m         \u001b[39m\"\u001b[39m\u001b[39mComplex data not supported\u001b[39m\u001b[39m\\n\u001b[39;00m\u001b[39m{}\u001b[39;00m\u001b[39m\\n\u001b[39;00m\u001b[39m\"\u001b[39m\u001b[39m.\u001b[39mformat(array)\n\u001b[0;32m    860\u001b[0m     ) \u001b[39mfrom\u001b[39;00m \u001b[39mcomplex_warning\u001b[39;00m\n",
      "File \u001b[1;32mc:\\Users\\Your PC\\AppData\\Local\\Programs\\Python\\Python39\\lib\\site-packages\\pandas\\core\\generic.py:2072\u001b[0m, in \u001b[0;36mNDFrame.__array__\u001b[1;34m(self, dtype)\u001b[0m\n\u001b[0;32m   2071\u001b[0m \u001b[39mdef\u001b[39;00m \u001b[39m__array__\u001b[39m(\u001b[39mself\u001b[39m, dtype: npt\u001b[39m.\u001b[39mDTypeLike \u001b[39m|\u001b[39m \u001b[39mNone\u001b[39;00m \u001b[39m=\u001b[39m \u001b[39mNone\u001b[39;00m) \u001b[39m-\u001b[39m\u001b[39m>\u001b[39m np\u001b[39m.\u001b[39mndarray:\n\u001b[1;32m-> 2072\u001b[0m     \u001b[39mreturn\u001b[39;00m np\u001b[39m.\u001b[39;49masarray(\u001b[39mself\u001b[39;49m\u001b[39m.\u001b[39;49m_values, dtype\u001b[39m=\u001b[39;49mdtype)\n",
      "\u001b[1;31mValueError\u001b[0m: could not convert string to float: '\\\\- petenis putra indonesia, christopher rungkat, telah menjajal lapangan di sea games 2019 filipina. dia mampu beradaptasi dengan lapangan yang lebih lambat. tim tenis indonesia menjajal lapangan pada jumat (29/11/2019) pagi waktu manila. latihan sekaligus pemanasan berlangsung satu setengah jam. venue tenis di rizal memorial sports complex bukan venue yang asing bagi christopher. tapi, lapangan tenis menjadi berbeda setelah direnovasi. advertisement scroll to resume content \"ini tantangannya, baru direnovasi jadi (bola) sedikit lebih lambat, permukaannya kasar, di bawahnya cepat mekar, cepat habis,\" kata christo. \"tapi 1,5 jam latihan sudah merasa nyaman dengan lapangannya, tidak ada masalah. kami mencoba semaksimal mungkin,\" dia menegaskan. sebelumnya, christo sudah bermain di rizal memorial tennis center, dalam turnamen manila atp challenger 2016. christo menjadi salah satu tumpuan indonesia untuk menjadi salah satu penyumbang medali emas dari dua yang ditargetkan di sea games 2019. selain christo, tenis putra diperkuat oleh ari fahresi, anthony susanto, david agung, dan muhammad rifqy fitriadi. sementara itu, tenis putri diperkuat aldila sutjiadi, beatrice gumulya, jessy rompies, priska madelyn nugroho dan rifanty kahfiani. pertandingan tenis sea games 2019 digelar mulai minggu (1/12). ![christopher rungkat adaptasi dengan bola lambat di rizal memorial ](https://akcdn.detik.net.id/community/media/visual/2019/11/28/9c93cfd8-b78a-4b11-88c3-49d780813101.jpeg?a=1) --- [gambas:video 20detik]'"
     ]
    }
   ],
   "source": [
    "y_pred=svc.predict(X_test)\n",
    "\n",
    "y_pred"
   ]
  },
  {
   "cell_type": "code",
   "execution_count": null,
   "metadata": {},
   "outputs": [],
   "source": [
    "# Check accuracy score\n",
    "from sklearn.metrics import accuracy_score\n",
    "\n",
    "print('Model accuracy score : {0:0.4f}'.format(accuracy_score(y_test, y_pred)))"
   ]
  },
  {
   "cell_type": "code",
   "execution_count": null,
   "metadata": {},
   "outputs": [],
   "source": [
    "X_test = pd.DataFrame(X_test, columns=[cols])"
   ]
  },
  {
   "cell_type": "code",
   "execution_count": null,
   "metadata": {},
   "outputs": [],
   "source": [
    "X_train.describe()"
   ]
  },
  {
   "cell_type": "code",
   "execution_count": null,
   "metadata": {},
   "outputs": [],
   "source": [
    "# import SVC classifier\n",
    "from sklearn.svm import SVC\n",
    "\n",
    "\n",
    "# import metrics to compute accuracy\n",
    "from sklearn.metrics import accuracy_score\n",
    "\n",
    "\n",
    "# instantiate classifier with default hyperparameters\n",
    "svc=SVC() \n",
    "\n",
    "\n",
    "# fit classifier to training set\n",
    "svc.fit(X_train,y_train)\n",
    "\n",
    "\n",
    "# make predictions on test set\n",
    "y_pred=svc.predict(X_test)\n",
    "\n",
    "\n",
    "# compute and print accuracy score\n",
    "print('Model accuracy score with default hyperparameters: {0:0.4f}'. format(accuracy_score(y_test, y_pred)))"
   ]
  },
  {
   "cell_type": "code",
   "execution_count": null,
   "metadata": {},
   "outputs": [],
   "source": [
    "# instantiate classifier with rbf kernel and C=1000\n",
    "svc=SVC(C=1000.0) \n",
    "\n",
    "\n",
    "# fit classifier to training set\n",
    "svc.fit(X_train,y_train)\n",
    "\n",
    "\n",
    "# make predictions on test set\n",
    "y_pred=svc.predict(X_test)\n",
    "\n",
    "\n",
    "# compute and print accuracy score\n",
    "print('Model accuracy score with rbf kernel and C=1000.0 : {0:0.4f}'. format(accuracy_score(y_test, y_pred)))"
   ]
  },
  {
   "cell_type": "code",
   "execution_count": null,
   "metadata": {},
   "outputs": [],
   "source": [
    "# instantiate classifier with linear kernel and C=1.0\n",
    "linear_svc=SVC(kernel='linear', C=1.0) \n",
    "\n",
    "\n",
    "# fit classifier to training set\n",
    "linear_svc.fit(X_train,y_train)\n",
    "\n",
    "\n",
    "# make predictions on test set\n",
    "y_pred_test=linear_svc.predict(X_test)\n",
    "\n",
    "\n",
    "# compute and print accuracy score\n",
    "print('Model accuracy score with linear kernel and C=1.0 : {0:0.4f}'. format(accuracy_score(y_test, y_pred_test)))"
   ]
  }
 ],
 "metadata": {
  "kernelspec": {
   "display_name": "venv",
   "language": "python",
   "name": "python3"
  },
  "language_info": {
   "codemirror_mode": {
    "name": "ipython",
    "version": 3
   },
   "file_extension": ".py",
   "mimetype": "text/x-python",
   "name": "python",
   "nbconvert_exporter": "python",
   "pygments_lexer": "ipython3",
   "version": "3.9.13 (tags/v3.9.13:6de2ca5, May 17 2022, 16:36:42) [MSC v.1929 64 bit (AMD64)]"
  },
  "orig_nbformat": 4,
  "vscode": {
   "interpreter": {
    "hash": "093b9d557581ce29561acba53b2cf141460dd8f631dbd8ca67c8f5fc3af0cff9"
   }
  }
 },
 "nbformat": 4,
 "nbformat_minor": 2
}
