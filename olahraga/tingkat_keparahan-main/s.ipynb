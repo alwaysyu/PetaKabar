{
 "cells": [
  {
   "cell_type": "code",
   "execution_count": 1,
   "metadata": {},
   "outputs": [],
   "source": [
    "# from nltk.tag import CRFTagger\n",
    "import pandas as pd\n",
    "from nltk import word_tokenize\n",
    "import re\n",
    "import random\n",
    "from sklearn.preprocessing import LabelEncoder\n",
    "from sklearn.pipeline import make_pipeline\n",
    "from sklearn.preprocessing import StandardScaler, RobustScaler\n",
    "\n",
    "from sklearn import preprocessing\n"
   ]
  },
  {
   "cell_type": "code",
   "execution_count": 2,
   "metadata": {},
   "outputs": [
    {
     "data": {
      "text/html": [
       "<div>\n",
       "<style scoped>\n",
       "    .dataframe tbody tr th:only-of-type {\n",
       "        vertical-align: middle;\n",
       "    }\n",
       "\n",
       "    .dataframe tbody tr th {\n",
       "        vertical-align: top;\n",
       "    }\n",
       "\n",
       "    .dataframe thead th {\n",
       "        text-align: right;\n",
       "    }\n",
       "</style>\n",
       "<table border=\"1\" class=\"dataframe\">\n",
       "  <thead>\n",
       "    <tr style=\"text-align: right;\">\n",
       "      <th></th>\n",
       "      <th>title</th>\n",
       "      <th>date</th>\n",
       "      <th>description</th>\n",
       "      <th>source</th>\n",
       "    </tr>\n",
       "  </thead>\n",
       "  <tbody>\n",
       "    <tr>\n",
       "      <th>0</th>\n",
       "      <td>Presiden BWF: Liliyana Natsir Bikin yang Susah...</td>\n",
       "      <td>Kamis, 16 Jun 2022 13:17 WIB</td>\n",
       "      <td>\\- , yang didaulat masuk bwf hall of fame, men...</td>\n",
       "      <td>www.detik.com</td>\n",
       "    </tr>\n",
       "    <tr>\n",
       "      <th>1</th>\n",
       "      <td>Kebanggaan Aji Santoso Meski Persebaya Dikalah...</td>\n",
       "      <td>Minggu, 19 Jun 2022 14:53 WIB</td>\n",
       "      <td>\\- pelatih persebaya surabaya aji santoso meng...</td>\n",
       "      <td>www.detik.com</td>\n",
       "    </tr>\n",
       "    <tr>\n",
       "      <th>2</th>\n",
       "      <td>Jadi Ketum Perbasi DKI, Lexyndo Hakim Buktikan...</td>\n",
       "      <td>Senin, 17 Jan 2022 23:40 WIB</td>\n",
       "      <td>\\- lexyndo hakim menjadi pemimpin perbasi dki ...</td>\n",
       "      <td>www.detik.com</td>\n",
       "    </tr>\n",
       "    <tr>\n",
       "      <th>3</th>\n",
       "      <td>Tim Voli Putra Indonesia Lolos ke Semifinal SE...</td>\n",
       "      <td>Selasa, 17 Mei  2022 16:23 WIB</td>\n",
       "      <td>\\- tim voli putra indonesia memastikan tiket k...</td>\n",
       "      <td>www.detik.com</td>\n",
       "    </tr>\n",
       "    <tr>\n",
       "      <th>4</th>\n",
       "      <td>Berharap pada Menpora Baru dalam Penyelesaian ...</td>\n",
       "      <td>Minggu, 27 Okt 2019 05:46 WIB</td>\n",
       "      <td>\\- atlet tenis meja nasional yon mardiono suda...</td>\n",
       "      <td>www.detik.com</td>\n",
       "    </tr>\n",
       "  </tbody>\n",
       "</table>\n",
       "</div>"
      ],
      "text/plain": [
       "                                               title  \\\n",
       "0  Presiden BWF: Liliyana Natsir Bikin yang Susah...   \n",
       "1  Kebanggaan Aji Santoso Meski Persebaya Dikalah...   \n",
       "2  Jadi Ketum Perbasi DKI, Lexyndo Hakim Buktikan...   \n",
       "3  Tim Voli Putra Indonesia Lolos ke Semifinal SE...   \n",
       "4  Berharap pada Menpora Baru dalam Penyelesaian ...   \n",
       "\n",
       "                             date  \\\n",
       "0    Kamis, 16 Jun 2022 13:17 WIB   \n",
       "1   Minggu, 19 Jun 2022 14:53 WIB   \n",
       "2    Senin, 17 Jan 2022 23:40 WIB   \n",
       "3  Selasa, 17 Mei  2022 16:23 WIB   \n",
       "4   Minggu, 27 Okt 2019 05:46 WIB   \n",
       "\n",
       "                                         description         source  \n",
       "0  \\- , yang didaulat masuk bwf hall of fame, men...  www.detik.com  \n",
       "1  \\- pelatih persebaya surabaya aji santoso meng...  www.detik.com  \n",
       "2  \\- lexyndo hakim menjadi pemimpin perbasi dki ...  www.detik.com  \n",
       "3  \\- tim voli putra indonesia memastikan tiket k...  www.detik.com  \n",
       "4  \\- atlet tenis meja nasional yon mardiono suda...  www.detik.com  "
      ]
     },
     "execution_count": 2,
     "metadata": {},
     "output_type": "execute_result"
    }
   ],
   "source": [
    "df = pd.read_csv('df_test_lower.csv')\n",
    "df.head()"
   ]
  },
  {
   "cell_type": "code",
   "execution_count": 3,
   "metadata": {},
   "outputs": [],
   "source": [
    "internasional_indeks= ['motogp','asian games','aff','olimpiade','piala asia','bwf','nba','sea games','indonesia open','indonesia masters']\n",
    "nasional_indeks= ['pon','piala presiden','liga 2','liga 1','liga 3','ibl','proliga','liga mahasiswa','liga mahasiswa','turnamen pramusim','pp pbsi','dbl','fiba']\n",
    "provkota_indeks= ['airlangga challenge','tiga pilar']"
   ]
  },
  {
   "cell_type": "code",
   "execution_count": 4,
   "metadata": {},
   "outputs": [],
   "source": [
    "kejuaraans = [internasional_indeks] + [nasional_indeks] + [provkota_indeks]"
   ]
  },
  {
   "cell_type": "code",
   "execution_count": 5,
   "metadata": {},
   "outputs": [],
   "source": [
    "description = df.iloc[:,2:3].values\n",
    "# print(description)\n",
    "description =description.tolist()"
   ]
  },
  {
   "cell_type": "code",
   "execution_count": 6,
   "metadata": {},
   "outputs": [
    {
     "data": {
      "text/plain": [
       "'\\\\- , yang didaulat masuk bwf hall of fame, mendapat pujian setinggi langit dari presiden badminton world federation (bwf) poul-erik hoyer. legenda bulutangkis indonesia liliyana natsir mendapat kehormatan masuk bwf hall of fame sebagai bentuk pengakuan terhadap kariernya di dunia badminton. ada seremoni yang bakal digelar pada akhir pekan ini, sabtu (18/6). \"merupakan kehormatan yang langka bagi seorang atlet masuk dalam bwf hall of fame, dan liliyana natsir sangat layak menerima penghargaan ini \" kata hoyer dalam laman resmi federasi bulutangkis dunia. advertisement scroll to resume content menurut poul-erik hoyer, liliyana merupakan salah satu pemain ganda campuran terbaik yang pernah dimiliki bulutangkis dunia sejauh ini. \"dia adalah salah satu pemain ganda campuran terbaik sepanjang kariernya. dengan medali emas dan medali perak olimpiade, serta empat medali emas kejuaraan dunia, liliyana membangun rekor bintangnya,\" ujarnya. tak hanya mengapresiasi rentetan gelar yang diraih liliyana semasa menjadi atlet, poul erik hoyer juga memuji cara bermain liliyana yang menghibur penonton bulutangkis. \"dia menyenangkan untuk ditonton karena dia entah bagaimana membuat seni yang sangat sulit terlihat mudah.\" \"saya mengucapkan selamat kepadanya dan saya yakin dia akan terus menginspirasi lebih banyak generasi,\" harap poul-erik hoyer. liliyana akan secara resmi menerima penghargaan bwf hall of fame itu di istora gelora bung karno (gbk) pada 18 juni mendatang. jadwal yang bertepatan dengan indonesia open 2022 digelar. [gambas:video 20detik]'"
      ]
     },
     "execution_count": 6,
     "metadata": {},
     "output_type": "execute_result"
    }
   ],
   "source": [
    "description[0][0]"
   ]
  },
  {
   "cell_type": "code",
   "execution_count": 7,
   "metadata": {},
   "outputs": [],
   "source": [
    "ct = []\n",
    "for i in range(0,len(description)) : \n",
    "    text = re.sub('[^A-Za-z0-9]+',' ',description[i][0])\n",
    "    ct.append(text)"
   ]
  },
  {
   "cell_type": "code",
   "execution_count": null,
   "metadata": {},
   "outputs": [],
   "source": [
    "# gg = 0 \n",
    "# for i in range(0,len(internasional_indeks)):\n",
    "#     jumlah = ct[0].count(internasional_indeks[i])\n",
    "#     gg = gg +jumlah"
   ]
  },
  {
   "cell_type": "code",
   "execution_count": null,
   "metadata": {},
   "outputs": [],
   "source": [
    "# inte = 0\n",
    "# nasional = 0\n",
    "# prov = 0\n",
    "# jumlah = ct[0].count(internasional_indeks[0])\n",
    "# inte = inte + jumlah"
   ]
  },
  {
   "cell_type": "code",
   "execution_count": null,
   "metadata": {},
   "outputs": [],
   "source": [
    "# g = ct[0].count(internasional_indeks[0])\n",
    "# g"
   ]
  },
  {
   "cell_type": "code",
   "execution_count": 8,
   "metadata": {},
   "outputs": [],
   "source": [
    "index=[]\n",
    "for x in range(0,len(ct)):\n",
    "     word = ct[x]\n",
    "     inte = 0\n",
    "     nasional = 0\n",
    "     prov = 0\n",
    "     for n in range (0,len(kejuaraans)):\n",
    "          for co in range(0,len(kejuaraans[n])):\n",
    "               if n == 0 :\n",
    "                    jumlah = word.count(internasional_indeks[co])\n",
    "                    inte = inte + jumlah\n",
    "               if n == 1:\n",
    "                    jumlah = word.count(nasional_indeks[co])\n",
    "                    nasional = nasional + jumlah\n",
    "               if n == 2:\n",
    "                    jumlah = word.count(provkota_indeks[co])\n",
    "                    prov = prov + jumlah\n",
    "     index.append([inte,nasional,prov])"
   ]
  },
  {
   "cell_type": "code",
   "execution_count": 9,
   "metadata": {},
   "outputs": [],
   "source": [
    "judul=[]\n",
    "deskripsi=[]\n",
    "internasional =[]\n",
    "nasional =[]\n",
    "provkota = []\n",
    "for m in range(0,len(index)):\n",
    "    judul.append(df.iloc[m,0])\n",
    "    deskripsi.append(df.iloc[m,2])\n",
    "    internasional.append(index[m][0])\n",
    "    nasional.append(index[m][1])\n",
    "    provkota.append(index[m][2])"
   ]
  },
  {
   "cell_type": "code",
   "execution_count": 10,
   "metadata": {},
   "outputs": [],
   "source": [
    "tingkat_kejuaraan=[]\n",
    "label = []\n",
    "for i in range(0,len(index)):\n",
    "    if internasional[i] > nasional[i] and internasional[i] > provkota[i] :\n",
    "        tingkat_kejuaraan.append('internasional')\n",
    "        label.append(0)\n",
    "    elif nasional[i] > provkota[i] and nasional[i] > internasional[i] :\n",
    "        tingkat_kejuaraan.append('nasional')\n",
    "        label.append(1)\n",
    "    elif internasional[i] < nasional[i] and nasional[i] == provkota[i] :\n",
    "        tingkat_kejuaraan.append('nasional')\n",
    "        label.append(1)\n",
    "    elif nasional[i] > provkota[i]:\n",
    "        tingkat_kejuaraan.append('nasional')\n",
    "        label.append(1)\n",
    "    else : \n",
    "        tingkat_kejuaraan.append('provkota')\n",
    "        label.append(2)"
   ]
  },
  {
   "cell_type": "code",
   "execution_count": 11,
   "metadata": {},
   "outputs": [
    {
     "data": {
      "text/html": [
       "<div>\n",
       "<style scoped>\n",
       "    .dataframe tbody tr th:only-of-type {\n",
       "        vertical-align: middle;\n",
       "    }\n",
       "\n",
       "    .dataframe tbody tr th {\n",
       "        vertical-align: top;\n",
       "    }\n",
       "\n",
       "    .dataframe thead th {\n",
       "        text-align: right;\n",
       "    }\n",
       "</style>\n",
       "<table border=\"1\" class=\"dataframe\">\n",
       "  <thead>\n",
       "    <tr style=\"text-align: right;\">\n",
       "      <th></th>\n",
       "      <th>judul</th>\n",
       "      <th>deskripsi</th>\n",
       "      <th>internasional_indeks</th>\n",
       "      <th>nasional_indeks</th>\n",
       "      <th>provkota_indeks</th>\n",
       "      <th>tingkat_kejuaraan</th>\n",
       "      <th>label</th>\n",
       "    </tr>\n",
       "  </thead>\n",
       "  <tbody>\n",
       "    <tr>\n",
       "      <th>0</th>\n",
       "      <td>Presiden BWF: Liliyana Natsir Bikin yang Susah...</td>\n",
       "      <td>\\- , yang didaulat masuk bwf hall of fame, men...</td>\n",
       "      <td>7</td>\n",
       "      <td>0</td>\n",
       "      <td>0</td>\n",
       "      <td>internasional</td>\n",
       "      <td>0</td>\n",
       "    </tr>\n",
       "    <tr>\n",
       "      <th>1</th>\n",
       "      <td>Kebanggaan Aji Santoso Meski Persebaya Dikalah...</td>\n",
       "      <td>\\- pelatih persebaya surabaya aji santoso meng...</td>\n",
       "      <td>0</td>\n",
       "      <td>2</td>\n",
       "      <td>0</td>\n",
       "      <td>nasional</td>\n",
       "      <td>1</td>\n",
       "    </tr>\n",
       "    <tr>\n",
       "      <th>2</th>\n",
       "      <td>Jadi Ketum Perbasi DKI, Lexyndo Hakim Buktikan...</td>\n",
       "      <td>\\- lexyndo hakim menjadi pemimpin perbasi dki ...</td>\n",
       "      <td>0</td>\n",
       "      <td>0</td>\n",
       "      <td>0</td>\n",
       "      <td>provkota</td>\n",
       "      <td>2</td>\n",
       "    </tr>\n",
       "    <tr>\n",
       "      <th>3</th>\n",
       "      <td>Tim Voli Putra Indonesia Lolos ke Semifinal SE...</td>\n",
       "      <td>\\- tim voli putra indonesia memastikan tiket k...</td>\n",
       "      <td>1</td>\n",
       "      <td>0</td>\n",
       "      <td>0</td>\n",
       "      <td>internasional</td>\n",
       "      <td>0</td>\n",
       "    </tr>\n",
       "    <tr>\n",
       "      <th>4</th>\n",
       "      <td>Berharap pada Menpora Baru dalam Penyelesaian ...</td>\n",
       "      <td>\\- atlet tenis meja nasional yon mardiono suda...</td>\n",
       "      <td>4</td>\n",
       "      <td>2</td>\n",
       "      <td>0</td>\n",
       "      <td>internasional</td>\n",
       "      <td>0</td>\n",
       "    </tr>\n",
       "    <tr>\n",
       "      <th>...</th>\n",
       "      <td>...</td>\n",
       "      <td>...</td>\n",
       "      <td>...</td>\n",
       "      <td>...</td>\n",
       "      <td>...</td>\n",
       "      <td>...</td>\n",
       "      <td>...</td>\n",
       "    </tr>\n",
       "    <tr>\n",
       "      <th>143</th>\n",
       "      <td>Mens Sana In Corpore Sano! 5 Film Bertemakan O...</td>\n",
       "      <td>\\- hampir pada semua film olahraga cerita dari...</td>\n",
       "      <td>1</td>\n",
       "      <td>1</td>\n",
       "      <td>0</td>\n",
       "      <td>nasional</td>\n",
       "      <td>1</td>\n",
       "    </tr>\n",
       "    <tr>\n",
       "      <th>144</th>\n",
       "      <td>Aldila Sutjiadi Cemburu Saat Lihat Lawan Didam...</td>\n",
       "      <td>\\- aldila sutjiadi, 22 tahun, harus berhemat s...</td>\n",
       "      <td>1</td>\n",
       "      <td>0</td>\n",
       "      <td>0</td>\n",
       "      <td>internasional</td>\n",
       "      <td>0</td>\n",
       "    </tr>\n",
       "    <tr>\n",
       "      <th>145</th>\n",
       "      <td>BWF Dapat Sponsor Baru, Kontraknya Tiga Tahun</td>\n",
       "      <td>\\- federasi bulutangkis dunia (bwf) mendapat s...</td>\n",
       "      <td>13</td>\n",
       "      <td>2</td>\n",
       "      <td>0</td>\n",
       "      <td>internasional</td>\n",
       "      <td>0</td>\n",
       "    </tr>\n",
       "    <tr>\n",
       "      <th>146</th>\n",
       "      <td>Lionel Messi: Terima Kasih, Luis Scola!</td>\n",
       "      <td>\\- lionel messi memberikan respek besar kepada...</td>\n",
       "      <td>9</td>\n",
       "      <td>0</td>\n",
       "      <td>0</td>\n",
       "      <td>internasional</td>\n",
       "      <td>0</td>\n",
       "    </tr>\n",
       "    <tr>\n",
       "      <th>147</th>\n",
       "      <td>BWF Rilis Jadwal Turnamen Bulutangkis 2022</td>\n",
       "      <td>\\- badminton world federation (bwf) merilis ja...</td>\n",
       "      <td>15</td>\n",
       "      <td>0</td>\n",
       "      <td>0</td>\n",
       "      <td>internasional</td>\n",
       "      <td>0</td>\n",
       "    </tr>\n",
       "  </tbody>\n",
       "</table>\n",
       "<p>148 rows × 7 columns</p>\n",
       "</div>"
      ],
      "text/plain": [
       "                                                 judul  \\\n",
       "0    Presiden BWF: Liliyana Natsir Bikin yang Susah...   \n",
       "1    Kebanggaan Aji Santoso Meski Persebaya Dikalah...   \n",
       "2    Jadi Ketum Perbasi DKI, Lexyndo Hakim Buktikan...   \n",
       "3    Tim Voli Putra Indonesia Lolos ke Semifinal SE...   \n",
       "4    Berharap pada Menpora Baru dalam Penyelesaian ...   \n",
       "..                                                 ...   \n",
       "143  Mens Sana In Corpore Sano! 5 Film Bertemakan O...   \n",
       "144  Aldila Sutjiadi Cemburu Saat Lihat Lawan Didam...   \n",
       "145      BWF Dapat Sponsor Baru, Kontraknya Tiga Tahun   \n",
       "146            Lionel Messi: Terima Kasih, Luis Scola!   \n",
       "147         BWF Rilis Jadwal Turnamen Bulutangkis 2022   \n",
       "\n",
       "                                             deskripsi  internasional_indeks  \\\n",
       "0    \\- , yang didaulat masuk bwf hall of fame, men...                     7   \n",
       "1    \\- pelatih persebaya surabaya aji santoso meng...                     0   \n",
       "2    \\- lexyndo hakim menjadi pemimpin perbasi dki ...                     0   \n",
       "3    \\- tim voli putra indonesia memastikan tiket k...                     1   \n",
       "4    \\- atlet tenis meja nasional yon mardiono suda...                     4   \n",
       "..                                                 ...                   ...   \n",
       "143  \\- hampir pada semua film olahraga cerita dari...                     1   \n",
       "144  \\- aldila sutjiadi, 22 tahun, harus berhemat s...                     1   \n",
       "145  \\- federasi bulutangkis dunia (bwf) mendapat s...                    13   \n",
       "146  \\- lionel messi memberikan respek besar kepada...                     9   \n",
       "147  \\- badminton world federation (bwf) merilis ja...                    15   \n",
       "\n",
       "     nasional_indeks  provkota_indeks tingkat_kejuaraan  label  \n",
       "0                  0                0     internasional      0  \n",
       "1                  2                0          nasional      1  \n",
       "2                  0                0          provkota      2  \n",
       "3                  0                0     internasional      0  \n",
       "4                  2                0     internasional      0  \n",
       "..               ...              ...               ...    ...  \n",
       "143                1                0          nasional      1  \n",
       "144                0                0     internasional      0  \n",
       "145                2                0     internasional      0  \n",
       "146                0                0     internasional      0  \n",
       "147                0                0     internasional      0  \n",
       "\n",
       "[148 rows x 7 columns]"
      ]
     },
     "execution_count": 11,
     "metadata": {},
     "output_type": "execute_result"
    }
   ],
   "source": [
    "Data = {\n",
    "    'judul' : judul,\n",
    "    'deskripsi': deskripsi,  \n",
    "    'internasional_indeks' : internasional,\n",
    "    'nasional_indeks' : nasional,\n",
    "    'provkota_indeks' : provkota,\n",
    "    'tingkat_kejuaraan' : tingkat_kejuaraan,\n",
    "    'label' : label\n",
    "}\n",
    "\n",
    "Data = pd.DataFrame(Data)\n",
    "Data"
   ]
  },
  {
   "cell_type": "code",
   "execution_count": 12,
   "metadata": {},
   "outputs": [],
   "source": [
    "Data.to_csv('Olahraga_KejuaraanX2.csv', index=False) "
   ]
  },
  {
   "cell_type": "code",
   "execution_count": null,
   "metadata": {},
   "outputs": [],
   "source": [
    "# Declare feature vector and target variable\n",
    "X = Data.drop(['tingkat_kejuaraan'], axis=1)\n",
    "y = Data['label']"
   ]
  },
  {
   "cell_type": "code",
   "execution_count": null,
   "metadata": {},
   "outputs": [],
   "source": [
    "X"
   ]
  },
  {
   "cell_type": "code",
   "execution_count": null,
   "metadata": {},
   "outputs": [],
   "source": [
    "y"
   ]
  },
  {
   "cell_type": "code",
   "execution_count": null,
   "metadata": {},
   "outputs": [],
   "source": [
    "from sklearn.model_selection import train_test_split\n",
    "\n",
    "X_train, X_test, y_train, y_test = train_test_split(X, y, test_size = 0.3, random_state = 0)"
   ]
  },
  {
   "cell_type": "code",
   "execution_count": null,
   "metadata": {},
   "outputs": [],
   "source": [
    "y_train"
   ]
  },
  {
   "cell_type": "code",
   "execution_count": null,
   "metadata": {},
   "outputs": [],
   "source": [
    "X_train"
   ]
  },
  {
   "cell_type": "code",
   "execution_count": null,
   "metadata": {},
   "outputs": [],
   "source": [
    "X_test"
   ]
  },
  {
   "cell_type": "code",
   "execution_count": null,
   "metadata": {},
   "outputs": [],
   "source": [
    "y_train"
   ]
  },
  {
   "cell_type": "code",
   "execution_count": null,
   "metadata": {},
   "outputs": [],
   "source": [
    "y_test"
   ]
  },
  {
   "cell_type": "code",
   "execution_count": null,
   "metadata": {},
   "outputs": [],
   "source": [
    "# from sklearn.preprocessing import StandardScaler\n",
    "scaler = RobustScaler()\n",
    "# scaler =StandardScaler()\n",
    "\n",
    "X_train = scaler.fit_transform(X_train)\n",
    "# X_test = scaler.transform(X_test)"
   ]
  },
  {
   "cell_type": "code",
   "execution_count": null,
   "metadata": {},
   "outputs": [],
   "source": [
    "# import SVC classifier\n",
    "from sklearn.svm import SVC\n",
    "\n",
    "# import metrics to compute accuracy\n",
    "from sklearn.metrics import accuracy_score\n",
    "\n",
    "# instantiate classifier with default hyperparameters\n",
    "svc=SVC() \n",
    "\n",
    "# fit classifier to training set\n",
    "svc.fit(X_train,y_train)\n",
    "\n",
    "# make predictions on test set\n",
    "y_pred=svc.predict(X_test)\n",
    "\n",
    "# compute and print accuracy score\n",
    "print('Model accuracy score with default hyperparameters: {0:0.4f}'. format(accuracy_score(y_test, y_pred)))"
   ]
  },
  {
   "cell_type": "code",
   "execution_count": null,
   "metadata": {},
   "outputs": [],
   "source": [
    "# Check class distribution in test set\n",
    "y_test.value_counts()"
   ]
  },
  {
   "cell_type": "code",
   "execution_count": null,
   "metadata": {},
   "outputs": [],
   "source": [
    "# Print the Confusion Matrix and slice it into four pieces\n",
    "from sklearn.svm import SVC\n",
    "from sklearn.metrics import confusion_matrix\n",
    "import matplotlib.pyplot as plt # for data visualization purposes\n",
    "import seaborn as sns # for statistical data visualization\n",
    "%matplotlib inline"
   ]
  },
  {
   "cell_type": "code",
   "execution_count": null,
   "metadata": {},
   "outputs": [],
   "source": [
    "clf = SVC(kernel = 'linear').fit(X_train,y_train)\n",
    "clf.predict(X_train)\n",
    "\n",
    "y_pred = clf.predict(X_test)\n",
    "\n",
    "cm = confusion_matrix(y_test, y_pred)\n",
    "cm_df = pd.DataFrame(cm,\n",
    "                     index = ['internasional','nasional','provkota'], \n",
    "                     columns = ['internasional','nasional','provkota'])"
   ]
  },
  {
   "cell_type": "code",
   "execution_count": null,
   "metadata": {},
   "outputs": [],
   "source": [
    "plt.figure(figsize=(10,8))\n",
    "sns.heatmap(cm_df, annot=True)\n",
    "plt.title('Confusion Matrix')\n",
    "plt.ylabel('Actal Values')\n",
    "plt.xlabel('Predicted Values')\n",
    "plt.show()"
   ]
  },
  {
   "cell_type": "code",
   "execution_count": null,
   "metadata": {},
   "outputs": [],
   "source": []
  },
  {
   "cell_type": "code",
   "execution_count": null,
   "metadata": {},
   "outputs": [],
   "source": [
    "from sklearn.metrics import classification_report\n",
    "\n",
    "print(classification_report(y_test, y_pred))"
   ]
  },
  {
   "cell_type": "code",
   "execution_count": null,
   "metadata": {},
   "outputs": [],
   "source": [
    "# Applying 10-Fold Cross Validation\n",
    "\n",
    "from sklearn.model_selection import cross_val_score\n",
    "\n",
    "scores = cross_val_score(svc, X_train, y_train, cv = 10, scoring='accuracy')\n",
    "\n",
    "print('Cross-validation scores:{}'.format(scores))"
   ]
  },
  {
   "cell_type": "code",
   "execution_count": null,
   "metadata": {},
   "outputs": [],
   "source": [
    "# compute Average cross-validation score\n",
    "\n",
    "print('Average cross-validation score: {:.4f}'.format(scores.mean()))"
   ]
  },
  {
   "cell_type": "code",
   "execution_count": null,
   "metadata": {},
   "outputs": [],
   "source": []
  }
 ],
 "metadata": {
  "kernelspec": {
   "display_name": "Python 3.9.2 64-bit",
   "language": "python",
   "name": "python3"
  },
  "language_info": {
   "codemirror_mode": {
    "name": "ipython",
    "version": 3
   },
   "file_extension": ".py",
   "mimetype": "text/x-python",
   "name": "python",
   "nbconvert_exporter": "python",
   "pygments_lexer": "ipython3",
   "version": "3.9.2"
  },
  "orig_nbformat": 4,
  "vscode": {
   "interpreter": {
    "hash": "8bdfea54da123554ae8de26dfd6f82f5e618f21e95a99e1f098116d55dccdb1a"
   }
  }
 },
 "nbformat": 4,
 "nbformat_minor": 2
}
