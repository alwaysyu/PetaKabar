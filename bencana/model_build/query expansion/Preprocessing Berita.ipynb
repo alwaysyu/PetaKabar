{
 "cells": [
  {
   "cell_type": "code",
   "execution_count": 2,
   "metadata": {},
   "outputs": [
    {
     "name": "stderr",
     "output_type": "stream",
     "text": [
      "[nltk_data] Downloading package stopwords to\n",
      "[nltk_data]     C:\\Users\\RayRoyy\\AppData\\Roaming\\nltk_data...\n",
      "[nltk_data]   Package stopwords is already up-to-date!\n"
     ]
    }
   ],
   "source": [
    "# Import library-library\n",
    "import os\n",
    "import glob\n",
    "import string\n",
    "\n",
    "# Data Preparation and Preprocessing\n",
    "import pandas as pd\n",
    "import re\n",
    "import nltk\n",
    "nltk.download('stopwords')\n",
    "from nltk.corpus import stopwords\n",
    "\n",
    "# Word Embedding\n",
    "import joblib\n",
    "from sklearn.feature_extraction.text import TfidfVectorizer\n",
    "import scipy.sparse\n",
    "\n",
    "from sklearn.metrics.pairwise import cosine_similarity\n",
    "\n",
    "# Input and Expansion Query\n",
    "from textblob import TextBlob\n",
    "from nltk.tokenize import wordpunct_tokenize\n",
    "#from googletrans import Translator\n",
    "\n",
    "#Split to train and test\n",
    "from sklearn.model_selection import train_test_split\n",
    "\n",
    "import mysql.connector\n",
    "from mysql.connector import errorcode"
   ]
  },
  {
   "cell_type": "code",
   "execution_count": 3,
   "metadata": {},
   "outputs": [],
   "source": [
    "excluded_words = [\"tempat\", \"waktu\", \"gempa\", \"banjir\"]\n",
    "\n",
    "NLTK_StopWords = stopwords.words('indonesian')\n",
    "NLTK_StopWords.extend([\"detik\", \"detikjatim\", \"detikjateng\", \"detikjabar\", \"detiksulsel\", \"detiksumbar\", \"detikbali\", \"detikpapua\", \"detiksulteng\", \"detikmaluku\", \"detjatim\", \"detikcom\", \"allahumma\", \"aamiin\", \"aamiin\", \"allah\", \"bismillah\"])\n",
    "NLTK_StopWords.extend([\"yg\", \"dg\", \"rt\", \"dgn\", \"ny\", \"d\", 'klo', \n",
    "                       'kalo', 'amp', 'biar', 'bikin', 'bilang', \n",
    "                       'gak', 'ga', 'krn', 'nya', 'nih', 'sih', \n",
    "                       'si', 'tau', 'tdk', 'tuh', 'utk', 'ya', \n",
    "                       'jd', 'jgn', 'sdh', 'aja', 'n', 't', \n",
    "                       'nyg', 'hehe', 'pen', 'u', 'nan', 'loh', 'rt',\n",
    "                       '&amp', 'yah'])\n",
    "txt_stopword = pd.read_csv(\"stopwords.txt\", names= [\"stopwords\"], header = None)\n",
    "\n",
    "# convert stopword string to list & append additional stopword\n",
    "NLTK_StopWords.extend(txt_stopword[\"stopwords\"][0].split(' '))\n",
    "NLTK_StopWords = set(NLTK_StopWords)"
   ]
  },
  {
   "cell_type": "code",
   "execution_count": 4,
   "metadata": {},
   "outputs": [],
   "source": [
    "def preprocessing(berita):\n",
    "    # Preprocessing\n",
    "    s = str(berita)\n",
    "    s = s.lower()\n",
    "    s = s.replace('\\n', ' ')\n",
    "    s = s.replace('\\r', ' ')\n",
    "    s = re.sub(r'[^a-zA-Z0-9\\s]', ' ', s)\n",
    "    tokens = [token for token in s.split(\" \") if token != \"\"]\n",
    "\n",
    "    # Stopwords checking\n",
    "    T = [t for t in tokens if ((t in excluded_words) or (t not in NLTK_StopWords))]\n",
    "    return T"
   ]
  },
  {
   "cell_type": "code",
   "execution_count": 8,
   "metadata": {},
   "outputs": [],
   "source": [
    "# df =pd.read_csv(\"news.csv\")\n",
    "# df.info()\n",
    "# df.head()\n",
    "dataframe = []\n",
    "\n",
    "try:\n",
    "        cnx = mysql.connector.connect(user = 'root', password='Password', database = 'Petakabar')\n",
    "        cursor = cnx.cursor()\n",
    "\n",
    "        ambildata = (\"SELECT berita_title, berita_date, berita_desc, berita_source FROM berita where berita_topik_id = 1\")\n",
    "        cursor.execute(ambildata)\n",
    "        dataa = cursor.fetchall()\n",
    "        for row in dataa:\n",
    "            dataframe.append(row)\n",
    "        \n",
    "except mysql.connector.Error as err:\n",
    "        if err.errno == errorcode.ER_ACCESS_DENIED_ERROR:\n",
    "            print(\"Something is wrong with your user name or password\")\n",
    "        elif err.errno == errorcode.ER_BAD_DB_ERROR:\n",
    "            print(\"Database does not exist\")\n",
    "        else:\n",
    "            print(err)\n",
    "else:\n",
    "    cursor.close()\n",
    "    cnx.close()"
   ]
  },
  {
   "cell_type": "code",
   "execution_count": 9,
   "metadata": {},
   "outputs": [],
   "source": [
    "import pandas as pd\n",
    "writer = pd.DataFrame(dataframe, columns=[\n",
    "                    'Title','Date','Description', 'Source'], index=None)\n",
    "writer.to_csv('news.csv', index=False, sep=',')"
   ]
  },
  {
   "cell_type": "code",
   "execution_count": 10,
   "metadata": {},
   "outputs": [
    {
     "name": "stdout",
     "output_type": "stream",
     "text": [
      "<class 'pandas.core.frame.DataFrame'>\n",
      "RangeIndex: 1870 entries, 0 to 1869\n",
      "Data columns (total 4 columns):\n",
      " #   Column       Non-Null Count  Dtype \n",
      "---  ------       --------------  ----- \n",
      " 0   Title        1870 non-null   object\n",
      " 1   Date         1870 non-null   object\n",
      " 2   Description  1870 non-null   object\n",
      " 3   Source       1870 non-null   object\n",
      "dtypes: object(4)\n",
      "memory usage: 58.6+ KB\n"
     ]
    },
    {
     "data": {
      "text/html": [
       "<div>\n",
       "<style scoped>\n",
       "    .dataframe tbody tr th:only-of-type {\n",
       "        vertical-align: middle;\n",
       "    }\n",
       "\n",
       "    .dataframe tbody tr th {\n",
       "        vertical-align: top;\n",
       "    }\n",
       "\n",
       "    .dataframe thead th {\n",
       "        text-align: right;\n",
       "    }\n",
       "</style>\n",
       "<table border=\"1\" class=\"dataframe\">\n",
       "  <thead>\n",
       "    <tr style=\"text-align: right;\">\n",
       "      <th></th>\n",
       "      <th>Title</th>\n",
       "      <th>Date</th>\n",
       "      <th>Description</th>\n",
       "      <th>Source</th>\n",
       "    </tr>\n",
       "  </thead>\n",
       "  <tbody>\n",
       "    <tr>\n",
       "      <th>0</th>\n",
       "      <td>Perbarindo Peduli Beri Bantuan kepada Korban G...</td>\n",
       "      <td>Sabtu, 10 Des 2022 22:39 WIB</td>\n",
       "      <td>Gempa yang melanda Kabupaten Cianjur terjadi p...</td>\n",
       "      <td>www.tribunnews.com</td>\n",
       "    </tr>\n",
       "    <tr>\n",
       "      <th>1</th>\n",
       "      <td>15 Jenazah Korban Gempa Cianjur Belum Terident...</td>\n",
       "      <td>Senin, 12 Des 2022 19:36 WIB</td>\n",
       "      <td>15 jenazah korban gempa Cianjur, Jawa Barat, b...</td>\n",
       "      <td>www.tribunnews.com</td>\n",
       "    </tr>\n",
       "    <tr>\n",
       "      <th>2</th>\n",
       "      <td>Gempa Bali M 5,2, Analisis BMKG Gempa Dipicu S...</td>\n",
       "      <td>Rabu, 14 Des 2022 08:02 WIB</td>\n",
       "      <td>Gempa bumi mengguncang wilayah Karangasem, Bal...</td>\n",
       "      <td>www.kompas.com</td>\n",
       "    </tr>\n",
       "    <tr>\n",
       "      <th>3</th>\n",
       "      <td>Banyuwangi Bakal Punya Wisata Baru, Namanya Sa...</td>\n",
       "      <td>Jumat, 02 Des 2022 18:24 WIB</td>\n",
       "      <td>\\-\\n\\nDalam waktu dekat Banyuwangi akan memili...</td>\n",
       "      <td>www.detik.com</td>\n",
       "    </tr>\n",
       "    <tr>\n",
       "      <th>4</th>\n",
       "      <td>Cegah Abrasi, Bibir Pantai Karangsong Indramay...</td>\n",
       "      <td>Senin, 05 Des 2022 00:30 WIB</td>\n",
       "      <td>\\-\\n\\nBeberapa pantai di Kabupaten Indramayu d...</td>\n",
       "      <td>www.detik.com</td>\n",
       "    </tr>\n",
       "  </tbody>\n",
       "</table>\n",
       "</div>"
      ],
      "text/plain": [
       "                                               Title  \\\n",
       "0  Perbarindo Peduli Beri Bantuan kepada Korban G...   \n",
       "1  15 Jenazah Korban Gempa Cianjur Belum Terident...   \n",
       "2  Gempa Bali M 5,2, Analisis BMKG Gempa Dipicu S...   \n",
       "3  Banyuwangi Bakal Punya Wisata Baru, Namanya Sa...   \n",
       "4  Cegah Abrasi, Bibir Pantai Karangsong Indramay...   \n",
       "\n",
       "                           Date  \\\n",
       "0  Sabtu, 10 Des 2022 22:39 WIB   \n",
       "1  Senin, 12 Des 2022 19:36 WIB   \n",
       "2   Rabu, 14 Des 2022 08:02 WIB   \n",
       "3  Jumat, 02 Des 2022 18:24 WIB   \n",
       "4  Senin, 05 Des 2022 00:30 WIB   \n",
       "\n",
       "                                         Description              Source  \n",
       "0  Gempa yang melanda Kabupaten Cianjur terjadi p...  www.tribunnews.com  \n",
       "1  15 jenazah korban gempa Cianjur, Jawa Barat, b...  www.tribunnews.com  \n",
       "2  Gempa bumi mengguncang wilayah Karangasem, Bal...      www.kompas.com  \n",
       "3  \\-\\n\\nDalam waktu dekat Banyuwangi akan memili...       www.detik.com  \n",
       "4  \\-\\n\\nBeberapa pantai di Kabupaten Indramayu d...       www.detik.com  "
      ]
     },
     "execution_count": 10,
     "metadata": {},
     "output_type": "execute_result"
    }
   ],
   "source": [
    "df =pd.read_csv(\"news.csv\")\n",
    "df.info()\n",
    "df.head()"
   ]
  },
  {
   "cell_type": "code",
   "execution_count": 12,
   "metadata": {},
   "outputs": [],
   "source": [
    "column = ['Title', 'Date', 'Description', 'Source']\n",
    "df_total = pd.DataFrame()\n",
    "\n",
    "df = pd.read_csv(\"news.csv\")\n",
    "df = df.dropna(subset=['Description'], axis=0)\n",
    "df.sort_values(\"Description\", inplace = True)\n",
    "df.drop_duplicates(subset =\"Description\", keep = False, inplace = True)\n",
    "\n",
    "df.head()\n",
    "df_train_unprocessed, df_test_unprocessed = train_test_split(df,test_size=0.1)"
   ]
  },
  {
   "cell_type": "code",
   "execution_count": 13,
   "metadata": {},
   "outputs": [
    {
     "data": {
      "text/plain": [
       "1683"
      ]
     },
     "execution_count": 13,
     "metadata": {},
     "output_type": "execute_result"
    }
   ],
   "source": [
    "# df_first_1000 = df.head(1000)\n",
    "# len(df_first_1000)\n",
    "df_train, df_test = train_test_split(df,test_size=0.1)\n",
    "len(df_train)\n"
   ]
  },
  {
   "cell_type": "code",
   "execution_count": 14,
   "metadata": {},
   "outputs": [],
   "source": [
    "df_train.to_csv(\"corpus/df_train_unprerocessed.csv\" , index = None, header=True)\n",
    "df_test.to_csv(\"corpus/df_test_unprerocessed.csv\" , index = None, header=True)"
   ]
  },
  {
   "cell_type": "code",
   "execution_count": 15,
   "metadata": {},
   "outputs": [
    {
     "data": {
      "text/plain": [
       "['corpus/model/desc_text_test_unprocessed.pkl']"
      ]
     },
     "execution_count": 15,
     "metadata": {},
     "output_type": "execute_result"
    }
   ],
   "source": [
    "desc_text_test_unprocessed = []\n",
    "\n",
    "for x in range(0, df_test_unprocessed.shape[0]):\n",
    "  desc_text_test_unprocessed.append(df_test_unprocessed.iloc[x, -2])\n",
    "\n",
    "joblib.dump(desc_text_test_unprocessed, \"corpus/model/desc_text_test_unprocessed.pkl\")"
   ]
  },
  {
   "cell_type": "code",
   "execution_count": 16,
   "metadata": {},
   "outputs": [],
   "source": [
    "# for x in range(0, df.shape[0]):\n",
    "#     text = preprocessing(df.iloc[x, -2])\n",
    "#     df.iloc[x, -2] = (' '.join(text)) \n",
    "\n",
    "desc_text_train_unpreprocessed = []\n",
    "desc_text_test_unpreprocessed = []\n",
    "\n",
    "for x in range(0, df_train.shape[0]):\n",
    "  desc_text_train_unpreprocessed.append(df_train.iloc[x, -2])\n",
    "\n",
    "for x in range(0, df_test.shape[0]):\n",
    "  desc_text_test_unpreprocessed.append(df_test.iloc[x, -2])"
   ]
  },
  {
   "cell_type": "code",
   "execution_count": 17,
   "metadata": {},
   "outputs": [],
   "source": [
    "# Simpan teks asli dokumen\n",
    "joblib.dump(desc_text_test_unpreprocessed, \"corpus/model/desc_text_test_unpreprocessed.pkl\")\n",
    "joblib.dump(desc_text_train_unpreprocessed, \"corpus/model/desc_text_train_unpreprocessed.pkl\")\n",
    "\n",
    "# Simpan dataframe hasil text processing sebelum TF-IDF Vectorizer\n",
    "df.to_csv('corpus/dataset/df_total_unpreprocessed.csv', index=False)\n",
    "df_test.to_csv('corpus/dataset/df_test_unpreprocessed.csv', index=False)\n",
    "df_train.to_csv('corpus/dataset/df_train_unpreprocessed.csv', index=False)\n"
   ]
  },
  {
   "cell_type": "code",
   "execution_count": 18,
   "metadata": {},
   "outputs": [],
   "source": [
    "for x in range(0, df.shape[0]):\n",
    "    text = preprocessing(df.iloc[x, -2])\n",
    "    df.iloc[x, -2] = (' '.join(text)) "
   ]
  },
  {
   "cell_type": "code",
   "execution_count": 19,
   "metadata": {},
   "outputs": [],
   "source": [
    "desc_text_train = []\n",
    "desc_text_test = []\n",
    "\n",
    "for x in range(0, df_train.shape[0]):\n",
    "  desc_text_train.append(df_train.iloc[x, -2])\n",
    "\n",
    "for x in range(0, df_test.shape[0]):\n",
    "  desc_text_test.append(df_test.iloc[x, -2])"
   ]
  },
  {
   "cell_type": "code",
   "execution_count": 20,
   "metadata": {},
   "outputs": [
    {
     "name": "stdout",
     "output_type": "stream",
     "text": [
      "Panjang Dokumen Test :  187\n",
      "------------------------------------------------------------------------------------------\n",
      "Panjang Dokumen Train :  1683\n"
     ]
    }
   ],
   "source": [
    "# print(df_test.info())\n",
    "print(\"Panjang Dokumen Test : \", len(desc_text_test))\n",
    "\n",
    "print ('-'*90)\n",
    "\n",
    "# print(df_train.info())\n",
    "print(\"Panjang Dokumen Train : \", len(desc_text_train))"
   ]
  },
  {
   "cell_type": "code",
   "execution_count": 21,
   "metadata": {},
   "outputs": [],
   "source": [
    "# Simpan teks asli dokumen\n",
    "joblib.dump(desc_text_test, \"corpus/model/desc_text_test.pkl\")\n",
    "joblib.dump(desc_text_train, \"corpus/model/desc_text_train_new.pkl\") #INI\n",
    "\n",
    "# Simpan dataframe hasil text processing sebelum TF-IDF Vectorizer\n",
    "df.to_csv('corpus/dataset/df_total_new.csv', index=False) #INI\n",
    "df_test.to_csv('corpus/dataset/df_test.csv', index=False)\n",
    "df_train.to_csv('corpus/dataset/df_train.csv', index=False)\n"
   ]
  },
  {
   "cell_type": "code",
   "execution_count": 22,
   "metadata": {},
   "outputs": [
    {
     "name": "stdout",
     "output_type": "stream",
     "text": [
      "tfidf_test_matrix\n",
      "(187, 7420)\n",
      "tfidf_train_matrix\n",
      "(1683, 22607)\n"
     ]
    }
   ],
   "source": [
    "# Fit transform menggunakan TF-IDF Vectorizer\n",
    "tfidf_vectorizer = TfidfVectorizer()\n",
    "tfidf_test_matrix = tfidf_vectorizer.fit_transform(desc_text_test)\n",
    "tfidf_train_matrix = tfidf_vectorizer.fit_transform(desc_text_train)\n",
    "\n",
    "print('tfidf_test_matrix')\n",
    "print(tfidf_test_matrix.shape)\n",
    "print('tfidf_train_matrix')\n",
    "print(tfidf_train_matrix.shape)"
   ]
  },
  {
   "cell_type": "code",
   "execution_count": 23,
   "metadata": {},
   "outputs": [
    {
     "data": {
      "text/plain": [
       "['corpus/matrix/tfidf_train_new.pkl']"
      ]
     },
     "execution_count": 23,
     "metadata": {},
     "output_type": "execute_result"
    }
   ],
   "source": [
    "joblib.dump(tfidf_vectorizer, \"corpus/vectorizer/vectorizer_new.pkl\") #INI\n",
    "joblib.dump(tfidf_test_matrix, \"corpus/matrix/tfidf_test.pkl\")\n",
    "joblib.dump(tfidf_train_matrix, \"corpus/matrix/tfidf_train_new.pkl\") #INI"
   ]
  },
  {
   "cell_type": "markdown",
   "metadata": {},
   "source": [
    "### Pencarian "
   ]
  },
  {
   "cell_type": "code",
   "execution_count": 25,
   "metadata": {},
   "outputs": [
    {
     "name": "stdout",
     "output_type": "stream",
     "text": [
      "<class 'pandas.core.frame.DataFrame'>\n",
      "Int64Index: 1870 entries, 0 to 1869\n",
      "Data columns (total 4 columns):\n",
      " #   Column       Non-Null Count  Dtype \n",
      "---  ------       --------------  ----- \n",
      " 0   Title        1870 non-null   object\n",
      " 1   Date         1870 non-null   object\n",
      " 2   Description  1870 non-null   object\n",
      " 3   Source       1870 non-null   object\n",
      "dtypes: object(4)\n",
      "memory usage: 73.0+ KB\n",
      "None\n",
      "------------------------------------------------------------------------------------------\n",
      "187\n",
      "1683\n"
     ]
    }
   ],
   "source": [
    "df_total = pd.read_csv('corpus/dataset/df_total_new.csv')\n",
    "df_total = df_total[pd.notnull(df_total['Description'])]\n",
    "print(df_total.info())\n",
    "print ('-'*90)\n",
    "\n",
    "document_text_train= joblib.load('corpus/model/desc_text_train_new.pkl')\n",
    "document_text_test= joblib.load('corpus/model/desc_text_test.pkl')\n",
    "print(len(document_text_test))\n",
    "print(len(document_text_train))"
   ]
  },
  {
   "cell_type": "code",
   "execution_count": 26,
   "metadata": {},
   "outputs": [
    {
     "name": "stdout",
     "output_type": "stream",
     "text": [
      "['gempa']\n",
      "\n",
      "======================\n",
      "\n",
      "Top 10 most similar documents in corpus:\n",
      "No ID Dokumen  :  6\n",
      "Tanggal        :  Kamis, 01 Des 2022 18:10 WIB\n",
      "Isi berita     :  dai ambassador dompet dhuafa uztadz genry nuswantoro menerima amanah south east asia group agency menyerahkan bantuan korban bencana gempa bumi cianjur kamis 1 12 2022 bantuan diserahkan li direktur south east asia group agency disaksikan budi santoso kepala kantor cabang dagang ekonomi indonesia kdei taiwan kepala bidang tenaga kdei taiwan purwanti uta draja bantuan uang tunai 100 000 new taiwan dollar ntd rp 50 juta direktur south east asia group agency li berharap bantuan meringankan beban korban gempa bumi cianjur berharap bantuan meringankan beban korban gempa bumi cianjur agama kemanusiaan li keterangan pers diterima kompas com kamis 1 12 2022 senada kepala kantor dagang ekonomi indonesia kdei taiwan budi santoso berharap bantuan berguna penyintas gempa cianjur corps dai dompet dhuada cordofa menggelar pelepasan dai ambassador diberangkatkan taiwan hong kong jumat 11 11 2022 keberangkatan genry taiwan hong kong berdakwah mempererat hubungan dompet dhuafa indonesia negara taiwan semangat meretas dakwah melintas batas kolaboraksi dompet dhuafa digaungkan membutuhkan\n",
      "(Score: 0.5429) \n",
      "No ID Dokumen  :  1234\n",
      "Tanggal        :  Senin, 14 Nov 2022 10:52 WIB\n",
      "Isi berita     :  perumahan villa tomang tangerang terendam banjir akibat tembok tanggul jebol perumahan terendam air 60 sentimeter pantauan lokasi senin 14 11 2022 10 10 wib banjir menggenangi perumahan kawasan rw 15 villa tomang pasar kemis warga menetap rumahnya mengungsi warga mengeringkan pakaian terendam banjir warga membersihkan rumahnya sisa lumpur menggenang warga bernama nursalam 67 banjir malam 1 meter banjir kian surut pagi semalam banjir segini 1 meter tinggal segini air rumah nursalam villa tomang senin 14 11 air membanjiri kawasan rumahnya malam hujan deras kawasan rumahnya banjir malam jam 8 waktu hujan deras sore diberitakan tembok tanggul berbatasan perumahan villa tomang tangerang jebol akibatnya aliran sungai cirarab situ gelam meluap rumah warga berdasarkan data badan penanggulangan bencana daerah bpbd kabupaten tangerang sabtu 12 11 tercatat 120 keluarga 400 jiwa 07 rw 15 perumahan vila tomang desa gelam jaya kecamatan pasar kemis terdampak banjir ketinggian 1 meter banjir meluap 01 rw 17 40 kk ketinggian 1 5 meter kepala bpbd kabupaten tangerang ujat sudrajat meninjau lokasi kemarin laporan korban jiwa evakuasi musala mujahidin laporan korban jiwa pimpin mengerahkan tim mako curug pos pasar kemis tim logistik perahu karet bantuan logistik siapkan ujat sudrajat keterangannya minggu 13 11 gambas video 20detik\n",
      "(Score: 0.4674) \n",
      "No ID Dokumen  :  587\n",
      "Tanggal        :  Rabu, 23 Nov 2022 11:50 WIB\n",
      "Isi berita     :  gempa bumi 5 6 mengguncang kabupaten cianjur jawa barat kisah menarik selamat berlindung ruang sempit berbentuk segitiga dilansir ruangan sempit tersusun reruntuhan bangunan dafa santri berusia 15 bogor terjebak ruang sempit berbentuk segitiga kejadian dafa minimarket lingkungan pondok pesantrennya santri laki laki tertimbun reruntuhan dafa bertahan ruang sempit sadarkan dafa dievakuasi pondok pesantren kaget menyadari santri data pengurus fokus mengamankan menenangkan santri lingkungan ponpes kabar santri tertimbun reruntuhan bangunan minimarket nggak santri didata 1 santri jajan ismail 22 wakil rois ponpes nurul hidayah selasa 22 11 2022 pengurus membantu menyelamatkan santri tertimpa reruntuhan kasir perempuan ismail izin doa santri berhasil selamat baca berita selengkapnya\n",
      "(Score: 0.4670) \n",
      "No ID Dokumen  :  409\n",
      "Tanggal        :  Kamis, 24 Nov 2022 20:39 WIB\n",
      "Isi berita     :  bencana tanah longsor menimbun jalur antardesa kecamatan tugu trenggalek akibatnya akses masyarakat arah tertutup total kapolsek tugu akp anwar tanah longsor dusun sooko desa prambon kecamatan tugu 16 30 wib tanah longsor wilayah diguyur hujan intensitas 2 5 jam 14 00 wib 16 30 wib akibat hujan lereng 10 meter pinggir jalan longsor materialnya menutup total badan jalan anwar kamis 24 11 2022 akibat tertutupnya jalan akses masyarakat dusun candi dusun glagah ombo terputus akses jalan jalur alternatif desa prambon desa sengon kecamatan bendungan kondisinya turun proses pembersihan dikhawatirkan longsor susulan imbuhnya rencananya anwar proses pembersihan kondisi cuaca dinilai aman gambas video 20detik\n",
      "(Score: 0.4459) \n",
      "No ID Dokumen  :  1\n",
      "Tanggal        :  Jumat, 02 Des 2022 09:04 WIB\n",
      "Isi berita     :  banjir menggenangi daerah kota tangerang selatan provinsi banten jumat 2 12 2022 pagi kepala bidang kabid kedaruratan logistik bpbd tangerang selatan faridzal gumay 10 kawasan tergenang banjir kemarin pagi 10 kawasan surut malam kawasan jurangmangu permai pondok safari perumahan lebak pinus kampung gunung tol kunciran bintaro surut pagi daftar titik banjir wilayah kota tangerang selatan pagi banjir menggenangi perumahan warga puri bintaro indah rw 22 kelurahan jombang kecamatan ciputat kawasan tergenangi air ketinggian 90 sentimeter 23 00 wib genangan air puri bintaro indah perlahan berangsur surut 20 sentimeter 260 kepala keluarga terdampak banjir daerah terendam banjir kisaran 80 sentimeter pagi kampung batas indah gang aren 03 04 rw 01 kelurahan pondok betung kecamatan pondok aren 400 kepala keluarga 20 mengungsi kemarin bpbd kota tangerang selatan melaporkan ketinggian genangan air kawasan berangsur surut pagi perumahan pondok maharta kelurahan pondok kacang timur kecamatan pondok aren 400 kepala keluarga terdampak banjir ketinggian air berkisar 50 70 sentimeter berangsur surut perlahan kawasan banjir pagi villa bintaro regency rw 12 kelurahan pobdok kacang timur kecamatan pondok aren ketinggian genangan air berkisar 35 60 sentimeter berdampak 300 kepala keluarga 12 mengungsi berbeda kawasan berangsur surut air kavling kampung bulak 04 rw 02 kelurahan pondok kacang timur kecamatan pondok aren terkini peningkatan debit air 60 sentimeter kemarin ketinggian air banjir 35 sentimeter\n",
      "(Score: 0.4407) \n",
      "No ID Dokumen  :  949\n",
      "Tanggal        :  Minggu, 20 Nov 2022 16:27 WIB\n",
      "Isi berita     :  pelajar mahasiswa familiar karya tulis ilmiah karya ilmiah terkandung data fakta solusi didukung teori teori ahli penelitian penulisannya sembarangan runtut sistematis penulisan karya ilmiah identik waktu pengerjaan halaman tebal teknik analisis rumit penelitian habisnya karya tulis ilmiah sesulit dibayangkan mengerti pedomannya kebingungan merangkum contoh karya tulis ilmiah baca artikel habis pengertian contoh karya ilmiah kbbi karya ilmiah karya tulis prinsip prinsip ilmiah berdasarkan data fakta observasi eksperimen kajian pustaka jenis karya ilmiah makalah artikel laporan naskah publikasi skripsi tesis disertasi laporan penelitian karya ilmiah berbeda meliputi perbedaan penyajian halaman tingkat keilmiahan kedalaman analisis keragaman variabelnya fungsi karya tulis ilmiah mengutip dwi budiyanto makalah berjudul mengenal karya ilmiah manfaat fungsi penulisan karya ilmiah 1 sarana menyimpan gagasan penulis pemikiran gagasan berguna sulit manusia memiliki kemampuan terbatas menulis efektif menjabarkan pemikiran informasi gagasan mudah dicari hubungannya 2 sarana pengembangan pemikiran karya tulis ilmiah ditulis berdasarkan sumber akurat teori teori ahli penelitian penulis karya ilmiah eksplorasi mendalam sumber tahap eksplorasi penulis mengembangkan ide pemikirannya perspektif teori peneliti 3 sarana komunikasi menulis karya ilmiah dibutuhkan keterampilan menyusun menjabarkan penulis menulis mudah dimengerti ketelitian penulis dilatih menyatukan konsep sumber berserakan 4 sarana menyikapi penulis sebisa bersikap bias sepatutnya menyikapi karya tulis objektif terbuka menerima perspektif berbeda beda pandangan objektif solusi terbaik menyelesaikan 5 sarana menemukan kesenjangan pemahaman kesenjangan pemahaman kurangnya pengetahuan riset penulisan karya ilmiah penulis mengisi kesenjangan kesulitan penulis memahami konsep teori struktur karya ilmiah struktur karya tulis ilmiah memiliki aturan baku tergantung jenis karya ilmiah ditulis mengutip buku penulisan karya ilmiah disusun dra zulmiyetri struktur karya ilmiah 1 halaman judul halaman judul halaman karya tulis ilmiah meliputi judul logo nama penyusun identitas nama instansi nama kota instansi penyusunan 2 abstrak abstrak ringkasan karya tulis ilmiah memiliki 250 400 isinya latar metode penelitian hasil penelitian 3 pendahuluan pendahulan bab 1 karya tulis ilmiah mencakup latar tujuan penelitian manfaat penelitian latar uraian alur pikir kesenjangan permasalahan penelitian latar penulis memikirkan urgensi fenomena berdasarkan latar dirumuskan dipecahkan mempertimbangkan keterbatasan dana tenaga waktu pembatasan diteliti berdasarkan rumusan barulah tujuan penelitian singkatnya tujuan penelitian kalimat pernyataan rumusan manfaat penelitian sudut pandang manfaat penulis instansi terkait pengembangan ilmu 4 kerangka teori kerangka teori berisi deskripsi teori telaah penelitian kerangka berpikir hipotesis penelitian 5 metode penelitian metode penelitian rinci penelitian metode penelitian terbagi sub bab dov menentukan variabel bebas variabel terikat tambahkan sub variabel indikator teori mendukung menentukan populasi cakupan populasi penelitian ditentukan terhingga sampel populasi dicari teknik pengambilan sampel data penelitian observasi wawancara kuisioner dokumentasi rinci teknik analisis analisis deskriptif analisis inferensial 6 hasil pembahasan gambaran topik lokasi penelitian detail temuan diperoleh hasil observasi wawancara kuisioner uji hipotesis langkah menguji pernyataan statistik menarik kesimpulan pernyataan diterima ditolak 7 penutup penutup karya tulis ilmiah meliputi dasarnya simpulan ringkasan hasil penelitian simpulan selaras rumusan tujuan penelitian saran rekomendasi peneliti memperbaiki penelitian ciri ciri karya ilmiah strukturnya karya ilmiah jua memiliki ciri ciri ciri karya ilmiah 1 penulisannya sistematis terstruktur 2 ditulis berdasarkan penalaran logis 3 didukung data objektif teruji kebenarannya 4 argumentasi teori relevan 5 mengaitkan argumentasi empiris teoretis contoh karya ilmiah populer tema mengerti contoh karya ilmiah tema rangkum sumber 1 contoh karya ilmiah pendidikan bab pendahuluan latar pembelajaran online tantangan dunia pendidikan indonesia perihal akses internet alat elektronik rumusan solusi kesulitan belajar online dunia pendidikan tujuan penelitian solusi kesulitan belajar online dunia pendidikan manfaat penelitian diharapkan solusi menyelesaikan kesulitan belajar online dunia pendidikan bab pembahasan pembelajaran online pembelajaran online daring unggul fleksibilitas waktu tempat belajar online faktor penghambat belajara online faktor menghambat belajar online jaringan lambat kuota mahal device tersedia bab iii penutup tantangan pembelajaran online keterbatasan sinyal harga kuota internet mahal minim sarana prasaran disarankan pemerintah sekolah solusi proses belajar offline 2 contoh karya ilmiah kesehatan bab pendahuluan latar virus corona jenis virus menggemparkan dunia masyarakat memiliki peran memutus rantai penularan covid 19 menimbulkan sumber penularan pasar berdasarkan latar diatas peneliti tertarik penelitian pasar tradisional rumusan upaya pencegahan penularan covid 19 pasar tradisional tujuan penelitian upaya pencegahan penularan covid 19 pasar tradisional manfaat penelitian diharapkan informasi pencegahan covid 19 pasar tradisional bab kerangka teori pengertian pasar pasar proses melaluinya pembeli penjual pandemi covid 19 covid 19 penyakit disebabkan virus severe actuate respiratory syndrome coronavirus 2 sars cov 2 bab iii metode penelitian populasi sampel populasi penelitian pedagang pasar badung 332 sampel 75 ditentukan rumus notoadmojo jenis sumber data data primer observasi wawancara kuisioner data sekunder petugas pasar bab iv hasil pembahasan gambaran pasar badung pasar tradisional terbesar bali konsep modern pasar menjual makanan ringan daging olahan sembako hasil penelitian hasil penelitian menunjukan 60 75 pedagang menaati protokol kesehatan covid 19 memakai masker uji hipotesis berdasarkan data tabel upaya mencegah penularan covid 19 pasar badung adala menjag ajarak toko bab penutup hasil penelitian mencegah penularan covid 19 pasar badung memakai masker mencuci tangan menjaga jarak 3 contoh karya ilmiah covid 19 bab pendahuluan latar virus corona jenis virus menggemparkan dunia masyarakat memiliki peran memutus rantai penularan covid 19 menimbulkan sumber penularan pasar penerapan 4m upaya pencegahan penularan covid 19 berdasarkan latar diatas peneliti tertarik penelitian pasar tradisional rumusan upaya pencegahan penularan covid 19 pasar tradisional tujuan penelitian upaya pencegahan penularan covid 19 pasar tradisional manfaat penelitian diharapkan informasi pencegahan covid 19 pasar tradisional bab kerangka teori pengertian pasar pasar proses melaluinya pembeli penjual pandemi covid 19 covid 19 penyakit disebabkan virus severe actuate respiratory syndrome coronavirus 2 sars cov 2 bab iii metode penelitian populasi sampel populasi penelitian pedagang pasar badung 332 sampel 75 ditentukan rumus notoadmojo jenis sumber data data primer observasi wawancara kuisioner data sekunder petugas pasar bab iv hasil pembahasan gambaran pasar badung pasar tradisional terbesar bali konsep modern pasar menjual makanan ringan daging olahan sembako hasil penelitian hasil penelitian menunjukan 60 75 pedagang menaati protokol kesehatan covid 19 memakai masker uji hipotesis berdasarkan data tabel upaya mencegah penularan covid 19 pasar badung adala menjaga jarak toko bab penutup hasil penelitian mencegah penularan covid 19 pasar badung memakai masker mencuci tangan menjaga jarak 4 contoh karya ilmiah lingkungan bab pendahuluan latar bangunan andal bangunan tahan gempa bangunan memenuhi kriteria rumusan mengurangi kerusakan bangunan bencana manfaat penelitian mengurangi kerusakan bangunan bencana bab kajian teori bangunan andal pesyaratan teknis dipenuhi bangunan gedung meliputi aspek keselamatan kesehatan kenyamanan kemudahan bab iii pembahasan bangunan tahan gempa gempa bumi prediksi potensi kerusakan diakibatkan gempa bumi mempelajari bentuk gempa bumi bangunan siaga kebakaran bangunan siaga kebakaran dilengkapi material siaga kebakaran alat semprot bab iv penutup penjelasan memperhatikan lingkungan didirikan bangunan 5 contoh karya ilmiah sosial bab pendahuluan latar kondisi ekonomi tua siswa memudahkan siswa menjalani pendidikan penyediaan sarana prasarana belajar memudahkan membantu sekolah peningkatan proses belajar mengajar rumusan adakah pengaruh kondisi sosial ekonomi tua hasil belajar siswa tujuan penelitian pengaruh kondisi sosial ekonomi tua hasil belajar siswa bab pembahasan peranan keluarga perkembangan anak peranan keluarga angat tumbuh kembang anak segi materiil kasih sayang kondisi ekonomi keluarga sosial ekonomi keluarga memiliki peranan perkembangan anak keluarga ekonomi memiliki kesempatan mengembangkan bakatnya bab iii simpulan hasil belajar siswa ditingkatkan melengkapi failitas sarana belajar 6 contoh karya ilmiah ekonomi bab pendahuluan latar kondisi ekonomi keluarga berpengarh tumbuh kembang anak status gizi balita keluarga ekonomi mapan memenuhi kebutuhan pangan anak rumusan pengaruh status ekonomi keluarga gizi balita tujuan penelitian pengaruh status ekonomi keluarga gizi balita bab pembahasan hubungan status ekonomi keluarga gizi balita kebutuhan mahal makanan balita keluarga mengurangi porsi menu makanan balita orangtua edukasi gizi anak bab iii penutup diharapkan pemerintah pengurus daerah memperhatikan keluarga memenuhi kebutuhan anak anaknya generasi muda 7 contoh karya ilmiah bahasa indonesia bab pendahuluan latar bahasa nasional bahasa indonesia identitas masyarakat indonesia pendidikan karakter pembelajaran bahasa indonesia diterapkan bab pembahasan hubungan pendidikan karakter bahasa indonesia pembelajaran bahasa indonesia nilai nilai pendidikan karakter kejujuran sopan santun sikap rasional bab iii penutup perencanaan pengajaran bahasa terpadu sinergis diupayakan kanak kanak pembelajaran nilai nilai maksimal 8 contoh karya ilmiah teknologi bab pendahuluan latar upaya dilakuakan mengantisipasi kemacetan salah fasilitas dikembangkan fungsinya running text diharapkan informasi pengendara menghindari kemacetan rumusan pengaruh running text mengatasi kemacetan lintas tujuan penelitian pengaruh running text mengatasi kemacetan lintas bab pembahasan running text salah alternatif mengantisipasi kemacetan biaya murah memanfaatkan sarana bab iii penutup kerjasama pemerintah menerapkan solusi bertambah parah 9 contoh karya ilmiah pendidikan sd bab pendahuluan latar bullying sekolah dasar terlepas sifat anak anak mengerti guru orangtua murid sekolah wajib memiliki pengetahuan bullying rumusan hubungan pengetahuan guru bullying tingkat bullying sekolah tujuan penlitian hubungan pengetahuan guru bullying tingkat bullying sekolah bab tinjauan pustaka konsep bullying anak bullying bentuk penindasan kekerasan sengaja sekelompok bentuk verbal fisik bab iii metode penelitian populasi sampel populasi penelitian guru sd angkasa 52 populasi dijadikan sampel penelitian jenis sumber data data primer observasi wawancara kuisioner data sekunder salah siswa bab iv hasil pembahasan hasil penelitian hasil penelitian menunjukan 50 52 guru bahaya bullying anak sekolah dasar uji hipotesis berdasarkan data tabel upaya mencegah bullying diadakan konseling dimana anak bercerita permasalahannya sekolah rumah bab penutup hasil penelitian guru berperan menghentikan pertegkaran perundungan siswa diharapkan kedepannya guru memperhatikan gerak gerik siswa 10 contoh karya ilmiah kemerdekaan bab pendahuluan latar masyarakat indonesia proklamasi memiliki kebebasan rakyat indonesia belenggu penjajahan perbedaan sikap golongan tua muda perbedaan pejuang nasionalis indonesia keras rumusan perjuangan tokoh proklamator kemerdekaan indonesia tujuan penelitian perjuangan tokoh proklamator kemerdekaan indonesia bab pembahasan peristiwa rengasdengklok peristiwa rengasdengklok kemerdekaan peristiwa bersejarah masyarakat indonesia peristiwa perbedaan pendapat golongan muda tua bab iii penutup penjelasan kemerdekaan indonesia usaha pahlawan pemberian jepang rakyat menghargai perjuangan pahlawan 11 contoh karya ilmiah sekolah bab pendahuluan latar kondisi lingkungan hidup sma angkasa menurun kualitasnya salah penyebabnya keterbatasan pegawai kualitas lingkungan hidup salah tanggungjawab duta lingkungan rumusan peran duta lingkungan sekolah tujuan penelitian peran duta lingkungan sekolah bab kajian pustaka duta lingkungan duta lingkungan relawan dibentuk permasalahan sekolah duta lingkungan berasal siswa perwakilan kelas memotivasi siswa peduli lingkungan hidup bab iii metode penelitian populasi sampel populasi penelitian 60 anggota duta lingkungan sampel 30 siswa jenis sumber data data primer observasi wawancara kuisioner data sekunder salah siswa bab iv hasil pembahasan hasil penelitian hasil penelitian menunjukan 50 60 duta linkungan menjalani tugas tugasnya uji hipotesis berdasarkan data tabel program bersih bersih sekolah diminati siswa sekolah bab penutup hasil penelitian disimpulkan duta sekolah berpengaruh kebersihan lingkungan sekolah meningkatkan skill sekolah pelatihan duta duta sekolah merencanakan program menarik 12 contoh karya ilmiah remaja bab pendahuluan latar globalisasi budaya pop berhasil mempengaruhi kehidupan masyarakat dunia remaja indonesia budaya korea populer memiliki dampak dampak buruk rumusan dampak musik korea pop remaja tujuan penelitian dampak musik korea pop remaja bab pembahasan dampak positif pop remaja remaja mempelajari budaya korea termotivasi sukses bertemu idola ceria bersemangat memiliki tokoh inspiratif dampak negatif pop remaja mengurangi konsentrasi belajar ketagihan menonton lupa waktu ketergantungan gadget menyukai budaya budaya bab iii penutup menyukai budaya negara pengawasan tua pop mengongtrol hidup anak 13 contoh karya ilmiah psikologi bab pendahuluan latar anak korban terluka orangtuanya berpisah perceraian orangtua berpengaruh prestasi anak sekolah anak senang menyendiri rumusan dampak perceraian orangtua psikologi anak tujuan penelitian dampak perceraian orangtua psikologi anak bab pembahasan pengaruh keutuhan keluarga anak keutuhan keluarga berpengaruh terhadapa percaya kepercayaan anak wwalaupun disamaratakan anak keluarga stabil dikhawatirkan mudah terjerumus negatif bab iii penutup perceraian memiliki pengaruh psikologis anak hubungan orangtua bercerai anak kekurangan aman kasih sayang ayah ibunya 14 contoh karya ilmiah pariwisata bab pendahuluan latar 2021 tempat wisata dibuka salah satunya garuda wisnu kencana dikunjungi turis asing pandemi covid 19 mempengaruhi motivasi wisatawan berwistaa bali rumusan pengaruh pandemi covid 19 motivasi wistawan berkunjung gwk tujuan penelitian pengaruh pandemi covid 19 motivasi wistawan berkunjung gwk bab pembahasan pengaruh pandemi motivasi berkunjung berwisata waktu motivasi turis asing berkunjung gwk escape melarikan rutinitas sehari bab iii penutup bertambahnya turis asing lokal berkunjung gwk gwk diharapkan meningkatkan fasilitas sarana prasarana 15 contoh karya ilmiah marketing bab pendahuluan latar permintaan bali semaki meningkat tingginya kunjungan wisatawan toko erlangga denpasar bersaing toko bali salah satunya menerapkan 4p marketing mix rumusan pengaruh marketing mix keputusan pembelian toko erlangga tujuan penelitian pengaruh marketing mix keputusan pembelian toko erlangga bab tinjauan pustaka marketing mix marketing mix dikenal istilah bauran pemasaran mengacu serangkaian strategi perusahaan mempromosikan jasa produk jual pasar bab iii metode penelitian hasil penelitian hasil wawancara menunjukan toko erlangga inovasi produk diskon harga pengunjung tertarik membeli uji hipotesis berdasarkan data tabel produk variabel berpengaruh keputusan pembelian produk erlangga menarik inovatif bab iv penutup penjelasan marketing mix 4p berpengaruh positif signifikan keputusan pembelian variabel berpengaruh produk karya tulis ilmiah sulit bahan inspirasi contoh karya tulis ilmiah semoga artikel bermanfaat gambas video 20detik\n",
      "(Score: 0.4362) \n",
      "No ID Dokumen  :  1668\n",
      "Tanggal        :  Minggu, 04 Des 2022 16:00 WIB\n",
      "Isi berita     :  qur menceritakan riwayat musnahnya umat akibat beriman swt mengikuti petunjuk utusan kisah ditugaskan kaum madyan buku tafsir ayat ayat iqtishady dony burhan noor hasan nama asli nabi syuaib syuaib bin mikeil bin yasyjar keturunan nabi ibrahim putranya madyan anak cucu madyan nama bani berdiam pantai laut merah tenggara gurun sinai wilayah hijaz tepatnya tabuk teluk aqabah pendapat buku situs situs qur syahruddin el fikri kabilah madyan berlokasi wilayah yordania palestina didukung bukti makam nabi syuaib terletak yordania tepatnya kota salt berjarak 30 kilometer kota amman riwayat nabi syuaib buku kisah kisah terbaik qur kamal sayyid mengajak kaum madyan mengikutinya swt tuhan esa disembah suku madyan diceritakan bangsa madyan menjalani kehidupan sejahtera berkat tanahnya subur aktivitas pasar berdagang madyan wilayah bernama aika kehidupan masyarakatnya kaum madyan sayangnya penduduk madyan kaum beriman swt penyembah berhala terbuat batu menganggap berhala berhala kehidupan berkah masyarakat desa memiliki kebiasan curang perniagaan mengurangi timbangan melaksanakan transaksi jual beli suku madyan saleh bernama nabi syuaib berkeyakinan swt pencipta beliau sedih kaumnya sadar penciptaan alam semesta swt mengangkatnya nabi diamanahkan mengajak bangsa madyan jalan lurus dakwah nabi syuaib swt mengutus nabi syuaib pandai berkhutbah memiliki pendirian kuat beliau berbicara nama kebenaran keadilan beliau misinya menyeru kaum madyan ketauhidan menyembah meninggalkan sesembahan berhala beliau bersikap amanah bermasyarakat mengurangi takaran timbangan berdagang nabi syuaib berdakwah kabilah madyan mengecam mengganggunya mengancam membunuh nabi syuaib beserta mengikutinya beriman swt syuaib paham katamu kau lemah suku membunuh mengusir madyan nabi syuaib murka swt kaumku berbuatlah sekehendak berbuat keyakinanku terhukum dipermalukan engkau pembohong engkau biarlah tuhanmu menghukum nabi syuaib berbohong azab swt kaum madyan menerus menyeru kaum madyan mendengarkan nabi syuaib nabi syuaib mengusirmu pengikutmu pengikut nabi syuaib buruk zalim memaksa mengikuti agama nabi syuaib membenci agama kaum mengikuti agama swt menerangi hati keimanan mengangkat tangannya berdoa swt tahan perilaku kaumnya berfirman nabi syuaib menurunkan azab memberitahu nabi syuaib menyelematkanmya beserta pengikutnya beriman datanglah dijanjikan menghukum penduduk madyan enggan mengikuti utusan kaum kafir beraktivitas menyembah berhala pasar pasar berbuat curang harta uang matahari terbenam gelap tanah berguncang hebat akibat gempa bumi diiringi petir menyambar mengerikan rumah madyan runtuh membinasakan kaum madyan sesuai janji swt menyelamatkan kaum beriman azab gambas video 20detik\n",
      "(Score: 0.4285) \n",
      "No ID Dokumen  :  695\n",
      "Tanggal        :  Kamis, 08 Des 2022 12:24 WIB\n",
      "Isi berita     :  gempa bumi magnitudo 5 1 kabupaten sarmi papua badan meteorologi klimatologi geofisika bmkg gempa berpotensi tsunami berpotensi tsunami tulis bmkg akun twitternya infobmkg gempa dilaporkan kedalaman 11 kilometer titik koordinat gempa koordinat 2 47 derajat lintang selatan 139 33 derajat bujur timur 14 tenggara sarmi papua bmkg informasi terkait dampak gempa gambas video 20detik\n",
      "(Score: 0.4281) \n",
      "No ID Dokumen  :  988\n",
      "Tanggal        :  Kamis, 15 Des 2022 18:39 WIB\n",
      "Isi berita     :  kebakaran dilaporkan kompleks kementerian negeri kemendagri jakarta pusat api menyala percikan api blower ac tangga darurat percikan api blower outdoor ac angin menimbulkan asap kapuspen kemendagri benny irawan kamis 15 12 2022 titik kebakaran gedung kemendagri dipasang garis polisi titik kebakaran tangga kantin beni menyebut tangga akses lantai 2 gedung lokasi ruang rapat tangga darurat gedung lantai 2 ruang rapat 3 ruang rapat situ imbuhnya penyalaan api berhasil dipadamkan alat pemadam api ringan apar petugas pemadam kebakaran pendinginan titik kebakaran 16 05 wib apinya jam 16 20 wib padam dipadamkan padal apar pas percikan api padam mobil pemadam menyiram pendinginan pantauan lokasi tembok lokasi kebakaran menghitam abu air bekas pemadaman kebakaran tercium bau gosong percikan api ac outdoor tumpukan kardus terbakar benny dokumen terbakar lokasi nggak dokumen terbakar tangga nggak kerusakan tembok hitam asap\n",
      "(Score: 0.4231) \n",
      "No ID Dokumen  :  1401\n",
      "Tanggal        :  Jumat, 25 Nov 2022 11:31 WIB\n",
      "Isi berita     :  4 jenazah ditemukan mobil lokasi longsor jalan raya cianjur puncak tepatnya desa cijedil kecamatan cugenang kabupaten cianjur korban diduga rombongan guru pulang acara sarongge valley dilansir jumat 25 11 2022 diduga 8 kendaraan milik azhar proses pencarian tim gabungan mertua mobil beliau undangan acara pkbm dihadiri bupati cianjur angkot mobil azhar zaenal abidin 37 menantu salah korban mobil jumat 25 11 nama nama korban mobil 1 jubaedah warga kelurahan bojongherang 2 hj yayah warga kelurahan solokpandan 3 yanti mandasari warga desa benjot 4 qinanti warga desa benjot 5 ilis nurhaeni warga desa cikaroya 6 andika sulaiman warga desa karangtengah 7 yeni siti rubaeni warga kp selakopi kelurahan pamoyanan 8 tati rohayati warga gg bali 39 kelurahan bojongherang ktp tempat tinggal btn bumi zaenal mertuanya bernama tati rohayati kejadian gempa zaenal menghubungi mertuanya 14 00 wib ponsel aktif tim berhasil mengevakuasi 4 jasad korban longsor pasca gempa cianjur informasi dihimpun penemuan jasad korban mobil azhar simak selengkapnya\n",
      "(Score: 0.4203) \n"
     ]
    }
   ],
   "source": [
    "kueri='gempa'\n",
    "kueri=preprocessing(kueri)\n",
    "kueri= [\" \".join (kueri)]\n",
    "print (kueri)\n",
    "\n",
    "tfidf_matrix =joblib.load( \"corpus/matrix/tfidf_train_new.pkl\" )\n",
    "tfidf_vectorizer = joblib.load( \"corpus/vectorizer/vectorizer_new.pkl\" ) \n",
    "query_vec= tfidf_vectorizer.transform(kueri)\n",
    "results=cosine_similarity(tfidf_matrix, query_vec).reshape((-1))\n",
    "#print (results)\n",
    "print(\"\\n======================\\n\")\n",
    "print(\"Top 10 most similar documents in corpus:\")\n",
    "\n",
    "j = 1\n",
    "\n",
    "for i in results.argsort()[-10:][::-1]:\n",
    "    print(\"No ID Dokumen  : \", i)\n",
    "    print(\"Tanggal        : \", df_total.iloc[i,1])\n",
    "    print(\"Isi berita     : \", df_total.iloc[i,2])\n",
    "    print(\"(Score: %.4f) \" % results[i])"
   ]
  }
 ],
 "metadata": {
  "kernelspec": {
   "display_name": "Python 3",
   "language": "python",
   "name": "python3"
  },
  "language_info": {
   "codemirror_mode": {
    "name": "ipython",
    "version": 3
   },
   "file_extension": ".py",
   "mimetype": "text/x-python",
   "name": "python",
   "nbconvert_exporter": "python",
   "pygments_lexer": "ipython3",
   "version": "3.9.13 (tags/v3.9.13:6de2ca5, May 17 2022, 16:36:42) [MSC v.1929 64 bit (AMD64)]"
  },
  "vscode": {
   "interpreter": {
    "hash": "52634da84371cba311ea128a5ea7cdc41ff074b781779e754b270ff9f8153cee"
   }
  }
 },
 "nbformat": 4,
 "nbformat_minor": 2
}
