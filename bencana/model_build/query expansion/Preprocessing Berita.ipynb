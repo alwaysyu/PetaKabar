{
 "cells": [
  {
   "cell_type": "code",
   "execution_count": 2,
   "metadata": {},
   "outputs": [
    {
     "name": "stderr",
     "output_type": "stream",
     "text": [
      "[nltk_data] Downloading package stopwords to\n",
      "[nltk_data]     C:\\Users\\ASUS\\AppData\\Roaming\\nltk_data...\n",
      "[nltk_data]   Package stopwords is already up-to-date!\n"
     ]
    }
   ],
   "source": [
    "# Import library-library\n",
    "import os\n",
    "import glob\n",
    "import string\n",
    "\n",
    "# Data Preparation and Preprocessing\n",
    "import pandas as pd\n",
    "import re\n",
    "import nltk\n",
    "nltk.download('stopwords')\n",
    "from nltk.corpus import stopwords\n",
    "\n",
    "# Word Embedding\n",
    "import joblib\n",
    "from sklearn.feature_extraction.text import TfidfVectorizer\n",
    "import scipy.sparse\n",
    "\n",
    "from sklearn.metrics.pairwise import cosine_similarity\n",
    "\n",
    "# Input and Expansion Query\n",
    "from textblob import TextBlob\n",
    "from nltk.tokenize import wordpunct_tokenize\n",
    "#from googletrans import Translator\n",
    "\n",
    "#Split to train and test\n",
    "from sklearn.model_selection import train_test_split\n",
    "\n",
    "import mysql.connector\n",
    "from mysql.connector import errorcode"
   ]
  },
  {
   "cell_type": "code",
   "execution_count": 3,
   "metadata": {},
   "outputs": [],
   "source": [
    "excluded_words = [\"tempat\", \"waktu\", \"gempa\", \"banjir\"]\n",
    "\n",
    "NLTK_StopWords = stopwords.words('indonesian')\n",
    "NLTK_StopWords.extend([\"detik\", \"detikjatim\", \"detikjateng\", \"detikjabar\", \"detiksulsel\", \"detiksumbar\", \"detikbali\", \"detikpapua\", \"detiksulteng\", \"detikmaluku\", \"detjatim\", \"detikcom\", \"allahumma\", \"aamiin\", \"aamiin\", \"allah\", \"bismillah\"])\n",
    "NLTK_StopWords.extend([\"yg\", \"dg\", \"rt\", \"dgn\", \"ny\", \"d\", 'klo', \n",
    "                       'kalo', 'amp', 'biar', 'bikin', 'bilang', \n",
    "                       'gak', 'ga', 'krn', 'nya', 'nih', 'sih', \n",
    "                       'si', 'tau', 'tdk', 'tuh', 'utk', 'ya', \n",
    "                       'jd', 'jgn', 'sdh', 'aja', 'n', 't', \n",
    "                       'nyg', 'hehe', 'pen', 'u', 'nan', 'loh', 'rt',\n",
    "                       '&amp', 'yah'])\n",
    "txt_stopword = pd.read_csv(\"stopwords.txt\", names= [\"stopwords\"], header = None)\n",
    "\n",
    "# convert stopword string to list & append additional stopword\n",
    "NLTK_StopWords.extend(txt_stopword[\"stopwords\"][0].split(' '))\n",
    "NLTK_StopWords = set(NLTK_StopWords)"
   ]
  },
  {
   "cell_type": "code",
   "execution_count": 4,
   "metadata": {},
   "outputs": [],
   "source": [
    "def preprocessing(berita):\n",
    "    # Preprocessing\n",
    "    s = str(berita)\n",
    "    s = s.lower()\n",
    "    s = s.replace('\\n', ' ')\n",
    "    s = s.replace('\\r', ' ')\n",
    "    s = re.sub(r'[^a-zA-Z0-9\\s]', ' ', s)\n",
    "    tokens = [token for token in s.split(\" \") if token != \"\"]\n",
    "\n",
    "    # Stopwords checking\n",
    "    T = [t for t in tokens if ((t in excluded_words) or (t not in NLTK_StopWords))]\n",
    "    return T"
   ]
  },
  {
   "cell_type": "code",
   "execution_count": 5,
   "metadata": {},
   "outputs": [],
   "source": [
    "# df =pd.read_csv(\"news.csv\")\n",
    "# df.info()\n",
    "# df.head()\n",
    "dataframe = []\n",
    "\n",
    "try:\n",
    "        cnx = mysql.connector.connect(user='admin', password='admin', database = 'Petakabar')\n",
    "        cursor = cnx.cursor()\n",
    "\n",
    "        ambildata = (\"SELECT berita_title, berita_date, berita_desc, berita_source FROM berita where berita_topik_id = 1\")\n",
    "        cursor.execute(ambildata)\n",
    "        dataa = cursor.fetchall()\n",
    "        for row in dataa:\n",
    "            dataframe.append(row)\n",
    "        \n",
    "except mysql.connector.Error as err:\n",
    "        if err.errno == errorcode.ER_ACCESS_DENIED_ERROR:\n",
    "            print(\"Something is wrong with your user name or password\")\n",
    "        elif err.errno == errorcode.ER_BAD_DB_ERROR:\n",
    "            print(\"Database does not exist\")\n",
    "        else:\n",
    "            print(err)\n",
    "else:\n",
    "    cursor.close()\n",
    "    cnx.close()"
   ]
  },
  {
   "cell_type": "code",
   "execution_count": 6,
   "metadata": {},
   "outputs": [],
   "source": [
    "import pandas as pd\n",
    "writer = pd.DataFrame(dataframe, columns=[\n",
    "                    'Title','Date','Description', 'Source'], index=None)\n",
    "writer.to_csv('news.csv', index=False, sep=',')"
   ]
  },
  {
   "cell_type": "code",
   "execution_count": 7,
   "metadata": {},
   "outputs": [
    {
     "name": "stdout",
     "output_type": "stream",
     "text": [
      "<class 'pandas.core.frame.DataFrame'>\n",
      "RangeIndex: 2773 entries, 0 to 2772\n",
      "Data columns (total 4 columns):\n",
      " #   Column       Non-Null Count  Dtype \n",
      "---  ------       --------------  ----- \n",
      " 0   Title        2773 non-null   object\n",
      " 1   Date         2773 non-null   object\n",
      " 2   Description  2773 non-null   object\n",
      " 3   Source       2773 non-null   object\n",
      "dtypes: object(4)\n",
      "memory usage: 86.8+ KB\n"
     ]
    },
    {
     "data": {
      "text/html": [
       "<div>\n",
       "<style scoped>\n",
       "    .dataframe tbody tr th:only-of-type {\n",
       "        vertical-align: middle;\n",
       "    }\n",
       "\n",
       "    .dataframe tbody tr th {\n",
       "        vertical-align: top;\n",
       "    }\n",
       "\n",
       "    .dataframe thead th {\n",
       "        text-align: right;\n",
       "    }\n",
       "</style>\n",
       "<table border=\"1\" class=\"dataframe\">\n",
       "  <thead>\n",
       "    <tr style=\"text-align: right;\">\n",
       "      <th></th>\n",
       "      <th>Title</th>\n",
       "      <th>Date</th>\n",
       "      <th>Description</th>\n",
       "      <th>Source</th>\n",
       "    </tr>\n",
       "  </thead>\n",
       "  <tbody>\n",
       "    <tr>\n",
       "      <th>0</th>\n",
       "      <td>Bagaimana Proses Terjadinya Gempa Bumi?</td>\n",
       "      <td>Kamis, 15 Des 2022 17:02 WIB</td>\n",
       "      <td>\\- Saat gempa bumi terjadi, tanah dan apa saja...</td>\n",
       "      <td>www.kompas.com</td>\n",
       "    </tr>\n",
       "    <tr>\n",
       "      <th>1</th>\n",
       "      <td>Rumah Tinggal di Bangka Jaksel Terbakar, 3 Uni...</td>\n",
       "      <td>Senin, 26 Des 2022 22:01 WIB</td>\n",
       "      <td>\\- Kebakaran melanda rumah tinggal Jalan Bangk...</td>\n",
       "      <td>www.kompas.com</td>\n",
       "    </tr>\n",
       "    <tr>\n",
       "      <th>2</th>\n",
       "      <td>Tim SAR Ungkap Cara Temukan Korban Gempa Cianj...</td>\n",
       "      <td>Minggu, 27 Nov 2022 15:52 WIB</td>\n",
       "      <td>\\- Tim SAR (search and rescue) masih terus mel...</td>\n",
       "      <td>www.kompas.com</td>\n",
       "    </tr>\n",
       "    <tr>\n",
       "      <th>3</th>\n",
       "      <td>Jalan Nasional Cibadak-Palabuhanratu Tertimbun...</td>\n",
       "      <td>Selasa, 13 Des 2022 08:17 WIB</td>\n",
       "      <td>Hujan deras yang mengguyur wilayah Sukabumi se...</td>\n",
       "      <td>www.kompas.com</td>\n",
       "    </tr>\n",
       "    <tr>\n",
       "      <th>4</th>\n",
       "      <td>Ketika Petir Menyambar Meteran Listrik, Puluha...</td>\n",
       "      <td>Senin, 19 Des 2022 06:05 WIB</td>\n",
       "      <td>\\- Kebakaran melanda 25 unit rumah kontrakan d...</td>\n",
       "      <td>www.kompas.com</td>\n",
       "    </tr>\n",
       "  </tbody>\n",
       "</table>\n",
       "</div>"
      ],
      "text/plain": [
       "                                               Title  \\\n",
       "0            Bagaimana Proses Terjadinya Gempa Bumi?   \n",
       "1  Rumah Tinggal di Bangka Jaksel Terbakar, 3 Uni...   \n",
       "2  Tim SAR Ungkap Cara Temukan Korban Gempa Cianj...   \n",
       "3  Jalan Nasional Cibadak-Palabuhanratu Tertimbun...   \n",
       "4  Ketika Petir Menyambar Meteran Listrik, Puluha...   \n",
       "\n",
       "                            Date  \\\n",
       "0   Kamis, 15 Des 2022 17:02 WIB   \n",
       "1   Senin, 26 Des 2022 22:01 WIB   \n",
       "2  Minggu, 27 Nov 2022 15:52 WIB   \n",
       "3  Selasa, 13 Des 2022 08:17 WIB   \n",
       "4   Senin, 19 Des 2022 06:05 WIB   \n",
       "\n",
       "                                         Description          Source  \n",
       "0  \\- Saat gempa bumi terjadi, tanah dan apa saja...  www.kompas.com  \n",
       "1  \\- Kebakaran melanda rumah tinggal Jalan Bangk...  www.kompas.com  \n",
       "2  \\- Tim SAR (search and rescue) masih terus mel...  www.kompas.com  \n",
       "3  Hujan deras yang mengguyur wilayah Sukabumi se...  www.kompas.com  \n",
       "4  \\- Kebakaran melanda 25 unit rumah kontrakan d...  www.kompas.com  "
      ]
     },
     "execution_count": 7,
     "metadata": {},
     "output_type": "execute_result"
    }
   ],
   "source": [
    "df =pd.read_csv(\"news.csv\")\n",
    "df.info()\n",
    "df.head()"
   ]
  },
  {
   "cell_type": "code",
   "execution_count": 8,
   "metadata": {},
   "outputs": [],
   "source": [
    "column = ['Title', 'Date', 'Description', 'Source']\n",
    "df_total = pd.DataFrame()\n",
    "\n",
    "df = pd.read_csv(\"news.csv\")\n",
    "df = df.dropna(subset=['Description'], axis=0)\n",
    "df.sort_values(\"Description\", inplace = True)\n",
    "df.drop_duplicates(subset =\"Description\", keep = False, inplace = True)\n",
    "\n",
    "df.head()\n",
    "df_train_unprocessed, df_test_unprocessed = train_test_split(df,test_size=0.1)"
   ]
  },
  {
   "cell_type": "code",
   "execution_count": 9,
   "metadata": {},
   "outputs": [
    {
     "data": {
      "text/plain": [
       "2495"
      ]
     },
     "execution_count": 9,
     "metadata": {},
     "output_type": "execute_result"
    }
   ],
   "source": [
    "# df_first_1000 = df.head(1000)\n",
    "# len(df_first_1000)\n",
    "df_train, df_test = train_test_split(df,test_size=0.1)\n",
    "len(df_train)\n"
   ]
  },
  {
   "cell_type": "code",
   "execution_count": 10,
   "metadata": {},
   "outputs": [],
   "source": [
    "df_train.to_csv(\"corpus/df_train_unprerocessed.csv\" , index = None, header=True)\n",
    "df_test.to_csv(\"corpus/df_test_unprerocessed.csv\" , index = None, header=True)"
   ]
  },
  {
   "cell_type": "code",
   "execution_count": 11,
   "metadata": {},
   "outputs": [
    {
     "data": {
      "text/plain": [
       "['corpus/model/desc_text_test_unprocessed.pkl']"
      ]
     },
     "execution_count": 11,
     "metadata": {},
     "output_type": "execute_result"
    }
   ],
   "source": [
    "desc_text_test_unprocessed = []\n",
    "\n",
    "for x in range(0, df_test_unprocessed.shape[0]):\n",
    "  desc_text_test_unprocessed.append(df_test_unprocessed.iloc[x, -2])\n",
    "\n",
    "joblib.dump(desc_text_test_unprocessed, \"corpus/model/desc_text_test_unprocessed.pkl\")"
   ]
  },
  {
   "cell_type": "code",
   "execution_count": 12,
   "metadata": {},
   "outputs": [],
   "source": [
    "# for x in range(0, df.shape[0]):\n",
    "#     text = preprocessing(df.iloc[x, -2])\n",
    "#     df.iloc[x, -2] = (' '.join(text)) \n",
    "\n",
    "desc_text_train_unpreprocessed = []\n",
    "desc_text_test_unpreprocessed = []\n",
    "\n",
    "for x in range(0, df_train.shape[0]):\n",
    "  desc_text_train_unpreprocessed.append(df_train.iloc[x, -2])\n",
    "\n",
    "for x in range(0, df_test.shape[0]):\n",
    "  desc_text_test_unpreprocessed.append(df_test.iloc[x, -2])"
   ]
  },
  {
   "cell_type": "code",
   "execution_count": 13,
   "metadata": {},
   "outputs": [],
   "source": [
    "# Simpan teks asli dokumen\n",
    "joblib.dump(desc_text_test_unpreprocessed, \"corpus/model/desc_text_test_unpreprocessed.pkl\")\n",
    "joblib.dump(desc_text_train_unpreprocessed, \"corpus/model/desc_text_train_unpreprocessed.pkl\")\n",
    "\n",
    "# Simpan dataframe hasil text processing sebelum TF-IDF Vectorizer\n",
    "df.to_csv('corpus/dataset/df_total_unpreprocessed.csv', index=False)\n",
    "df_test.to_csv('corpus/dataset/df_test_unpreprocessed.csv', index=False)\n",
    "df_train.to_csv('corpus/dataset/df_train_unpreprocessed.csv', index=False)\n"
   ]
  },
  {
   "cell_type": "code",
   "execution_count": 14,
   "metadata": {},
   "outputs": [],
   "source": [
    "for x in range(0, df.shape[0]):\n",
    "    text = preprocessing(df.iloc[x, -2])\n",
    "    df.iloc[x, -2] = (' '.join(text)) "
   ]
  },
  {
   "cell_type": "code",
   "execution_count": 15,
   "metadata": {},
   "outputs": [],
   "source": [
    "desc_text_train = []\n",
    "desc_text_test = []\n",
    "\n",
    "for x in range(0, df_train.shape[0]):\n",
    "  desc_text_train.append(df_train.iloc[x, -2])\n",
    "\n",
    "for x in range(0, df_test.shape[0]):\n",
    "  desc_text_test.append(df_test.iloc[x, -2])"
   ]
  },
  {
   "cell_type": "code",
   "execution_count": 16,
   "metadata": {},
   "outputs": [
    {
     "name": "stdout",
     "output_type": "stream",
     "text": [
      "Panjang Dokumen Test :  278\n",
      "------------------------------------------------------------------------------------------\n",
      "Panjang Dokumen Train :  2495\n"
     ]
    }
   ],
   "source": [
    "# print(df_test.info())\n",
    "print(\"Panjang Dokumen Test : \", len(desc_text_test))\n",
    "\n",
    "print ('-'*90)\n",
    "\n",
    "# print(df_train.info())\n",
    "print(\"Panjang Dokumen Train : \", len(desc_text_train))"
   ]
  },
  {
   "cell_type": "code",
   "execution_count": 17,
   "metadata": {},
   "outputs": [],
   "source": [
    "# Simpan teks asli dokumen\n",
    "joblib.dump(desc_text_test, \"corpus/model/desc_text_test.pkl\")\n",
    "joblib.dump(desc_text_train, \"corpus/model/desc_text_train_new.pkl\") #INI\n",
    "\n",
    "# Simpan dataframe hasil text processing sebelum TF-IDF Vectorizer\n",
    "df.to_csv('corpus/dataset/df_total_new.csv', index=False) #INI\n",
    "df_test.to_csv('corpus/dataset/df_test.csv', index=False)\n",
    "df_train.to_csv('corpus/dataset/df_train.csv', index=False)\n"
   ]
  },
  {
   "cell_type": "code",
   "execution_count": 18,
   "metadata": {},
   "outputs": [
    {
     "name": "stdout",
     "output_type": "stream",
     "text": [
      "tfidf_test_matrix\n",
      "(278, 8741)\n",
      "tfidf_train_matrix\n",
      "(2495, 29671)\n"
     ]
    }
   ],
   "source": [
    "# Fit transform menggunakan TF-IDF Vectorizer\n",
    "tfidf_vectorizer = TfidfVectorizer()\n",
    "tfidf_test_matrix = tfidf_vectorizer.fit_transform(desc_text_test)\n",
    "tfidf_train_matrix = tfidf_vectorizer.fit_transform(desc_text_train)\n",
    "\n",
    "print('tfidf_test_matrix')\n",
    "print(tfidf_test_matrix.shape)\n",
    "print('tfidf_train_matrix')\n",
    "print(tfidf_train_matrix.shape)"
   ]
  },
  {
   "cell_type": "code",
   "execution_count": 19,
   "metadata": {},
   "outputs": [
    {
     "data": {
      "text/plain": [
       "['corpus/matrix/tfidf_train_new.pkl']"
      ]
     },
     "execution_count": 19,
     "metadata": {},
     "output_type": "execute_result"
    }
   ],
   "source": [
    "joblib.dump(tfidf_vectorizer, \"corpus/vectorizer/vectorizer_new.pkl\") #INI\n",
    "joblib.dump(tfidf_test_matrix, \"corpus/matrix/tfidf_test.pkl\")\n",
    "joblib.dump(tfidf_train_matrix, \"corpus/matrix/tfidf_train_new.pkl\") #INI"
   ]
  },
  {
   "cell_type": "markdown",
   "metadata": {},
   "source": [
    "### Pencarian "
   ]
  },
  {
   "cell_type": "code",
   "execution_count": 20,
   "metadata": {},
   "outputs": [
    {
     "name": "stdout",
     "output_type": "stream",
     "text": [
      "<class 'pandas.core.frame.DataFrame'>\n",
      "Int64Index: 2773 entries, 0 to 2772\n",
      "Data columns (total 4 columns):\n",
      " #   Column       Non-Null Count  Dtype \n",
      "---  ------       --------------  ----- \n",
      " 0   Title        2773 non-null   object\n",
      " 1   Date         2773 non-null   object\n",
      " 2   Description  2773 non-null   object\n",
      " 3   Source       2773 non-null   object\n",
      "dtypes: object(4)\n",
      "memory usage: 108.3+ KB\n",
      "None\n",
      "------------------------------------------------------------------------------------------\n",
      "278\n",
      "2495\n"
     ]
    }
   ],
   "source": [
    "df_total = pd.read_csv('corpus/dataset/df_total_new.csv')\n",
    "df_total = df_total[pd.notnull(df_total['Description'])]\n",
    "print(df_total.info())\n",
    "print ('-'*90)\n",
    "\n",
    "document_text_train= joblib.load('corpus/model/desc_text_train_new.pkl')\n",
    "document_text_test= joblib.load('corpus/model/desc_text_test.pkl')\n",
    "print(len(document_text_test))\n",
    "print(len(document_text_train))"
   ]
  },
  {
   "cell_type": "code",
   "execution_count": 21,
   "metadata": {},
   "outputs": [
    {
     "name": "stdout",
     "output_type": "stream",
     "text": [
      "['gempa']\n",
      "\n",
      "======================\n",
      "\n",
      "Top 10 most similar documents in corpus:\n",
      "No ID Dokumen  :  2310\n",
      "Tanggal        :  Selasa, 29 Nov 2022 08:26 WIB\n",
      "Isi berita     :  tim gabungan pencarian sembilan korban gempa bumi cianjur pencarian kesembilan dinyatakan hilang pencarian selasa 29 11 2022 pencarian difokuskan wilayah kecamatan cugenang tim gabungan melanjutkan pencarian korban gempa bumi cianjur korban pencarian 9 kepala kantor bandung jumaril keterangan tertulis diterima jumaril pencarian kesembilan dibagi tim meliputi worksite 1 warung sate sinta 36 personil 5 anjing pelacak 4 life detector worksite 2 03 rw 01 desa cijendil 74 personil 4 anjing pelacak 4 life detector worksite 3 kampung cicadas 81 personil 2 anjing pelacak 4 life detector mengimbau aparatur desa wilayah terdampak gempa bumi pendataan warga warganya aman korban menghimbau aparat desa warga kehilangan anggota keluarga kerabatnya melaporkan nomor layanan pengaduan 0 813 1616 3355 kegiatan dropping dukungan logistik terpal paket keluarga paket balita beras air mineral 2 unit helly dauphin 3604 ats kp talaga ats aw139 1301 ats sarongge ats\n",
      "(Score: 0.5960) \n",
      "No ID Dokumen  :  2093\n",
      "Tanggal        :  Sabtu, 03 Des 2022 23:09 WIB\n",
      "Isi berita     :  truk pengangkut alat las terseret banjir sungai bomo gembleng dusun krajan dadapan desa parijatah kulon kecamatan srono banyuwangi beruntung sopir diselamatkan ekskavator tambang pasir sungai peristiwa 16 30 wib sabtu 3 12 2022 ekskavator bergerak truk terendam air sungai video berdurasi 2 49 menit mengambil gambar momen truk terseret banjir berteriak sopir truk mobil metuo teriak pria video saksi menyarankan sopir atap truk menyesalkan sopir sigap separuh badan truk terendam banjir arus sungai kuat kerungu sopir iku dengar sopir pria video munggaho nduwur truk barulah sopir truk atap truk lengan alat berat atap truk sopir melompat lengan alat berat tubuhnya dibawa daratan kapolsek srono akp junaidi membenarkan truk terseret banjir beruntung sopir menyelamatkan bantuan ekskavator untung ekskavator sopir hanyut truknya wilayah singojuruh perbatasan srono petugas polsek srono melaporkan menyerahkan penanganan polsek singojuruh mengaku truk terjebak banjir hanyut terseret banjir perbaikan ekskavator perbaikan ekskavator perbaikan sungai perbaikan junaidi truk sedianya pulang rute pulang sesuai jalur kedatangan truk melintasi sungai nahas pulang air sungai meningkat ditambah melintas sungai roda truk terganjal batu waktu pulang air berangkat macet beruntung peristiwa sopir truk diselamatkan batuan ekskavator diperbaiki sopir selamat penanganan polsek singojuruh lokasi pungkasnya gambas video 20detik\n",
      "(Score: 0.5932) \n",
      "No ID Dokumen  :  2097\n",
      "Tanggal        :  Senin, 05 Des 2022 13:15 WIB\n",
      "Isi berita     :  truk trailer terbakar tol ancol arah bandara soekarno hatta soetta korban jiwa peristiwa jam 10 trailer petugas call center citra marga nusaphala persada rizky senin 5 12 2022 13 04 wib insiden 23 tol ancol arah bandara soetta lintas macet lancar penanganan truk dievakuasi rizky rizky pemadaman 45 menit korban terluka peristiwa info petugas penyebab kebakaran korsleting listrik rizky gambas video 20detik\n",
      "(Score: 0.5853) \n",
      "No ID Dokumen  :  2249\n",
      "Tanggal        :  Rabu, 14 Des 2022 19:30 WIB\n",
      "Isi berita     :  surat cinta bandung beredar media sosial twitter surat berisikan keluhan banjir macet infrastruktur kota bandung keluhan keamanan salah satunya geng motor begal terkait keamanan kejahatan kerap kejahatan kejahatan jalanan kota bandung menimpa pria bernama azka korban begal jalan cikawao 26 01 rw 04 kecamatan lengkong ponsel milik korban dirampas korban mendapatakan luka tusuk selasa 14 12 penyiar radio prfm dhona dhameria korban penjambretan simpang kota bandung rabu 14 12 2022 05 00 wib kekhawatiran keamanan kejahatan malam kota bandung dikhawatirkan warga bandung salah satunya sabila rahsa 31 berprofesi make up artist mua kerap tempat acara merias calon pengantin kliennya dapatkan pengalaman seram seram cerita mua mua ngalamin subuh subuh salah satunya ketemu bawa samurai cibiru mua begal kircon ditahan begal begal bawa tas koper make up nodongin senjata tajam dibilang tas isi make up mua kerjanya nangis pinggir jalan salsa rabu 18 12 2022 mengkhawatirkan bandung malam subuh polisi patroli salah satunya jalan jalan sepi bandung pengennya malam subuh jam jam rawan sepi patroli sepi sepi perhatian subuh subuh sepi sepi rame titik titik titik sepi jarang salsa mengaku takut media sosial bandung diramaikan kejahatan begal semoga aparat aparat perhatian waktu subuh ketja subuh was was marak banget berita subuh subuh begal was was banget pergi harapnya berangkat ditemani suaminya mengaku was was pagi jam 2 kota bandung berangkat motor diantar suami salsa mua perempuan berangkat berdua teman mua perempuan dikhawatirkan mua bandung mua mua perempuan berangkat berangkat perempuan kasihan subuh subuh pungkasnya\n",
      "(Score: 0.5723) \n",
      "No ID Dokumen  :  153\n",
      "Tanggal        :  Senin, 19 Des 2022 14:54 WIB\n",
      "Isi berita     :  daftar isi struktur teks laporan hasil observasi pernyataan aspek dilaporkan contoh teks laporan hasil observasi 1 wayang 2 pohon kelapa 3 komodo 4 sampah 5 alat pemadam kebakaran 6 pantai 7 jeruk 8 suku badui 9 makhluk bumi 10 topeng museum angkut contoh teks laporan hasil observasi membantu memahami teks laporan hasil observasi teks laporan observasi teks klasifikasi memuat klasifikasi jenis jenis berdasarkan kriteria modul bahasa indonesia kelas dra ipa ratna mutiara mpd teks laporan hasil observasi teks berisi penjabaran melaporkan hasil pengamatan observasi struktur teks laporan hasil observasi pernyataan klasifikasi paragraf anggota aspek dilaporkan struktur teks laporan hasil observasi penjelasan struktur laporan hasil observasi pernyataan pernyataan berisi informasi pengertian dibahas hasil pengamatan diartikan pembuka karangan klasifikasi objek dilaporkan benda tumbuhan lingkungan organisme hewan fenomena social fenomena alam objek diklasifikasikan berdasarkan persamaan perbedaannya kriteria membedakan kelas subkelas rincian mendetail aspek dilaporkan berisi penjelasan rinci informasi berdasarkan hasil pengamatan diuraikan klasifikasi runtut kelas subkelas penggolongan diikuti rincian aspek perilaku genetik lingkungan fungsi peran fisik kepribadiannya contoh teks laporan hasil observasi memahami pengertian strukturnya 10 contoh teks laporan hasil observasi dipelajari paham 1 wayang wayang seni pertunjukan ditetapkan warisan budaya asli indonesia unesco badan pbb bertanggung kebudayaan menetapkan wayang 7 november 2003 boneka terkenal indonesia wayang mahakarya tradisi lisan manusia tergantikan walisongo penyebar islam jawa membagi wayang wayang kulit timur wayang jawa wayang golek jawa barat pembagian disesuaikan penggunaan bahan boneka wayang kulit terbuat kulit hewan ternak kulit kerbau sapi kambing wayang boneka dimainkan pertunjukan wayang kulit pertunjukan wayang menampilkan wayang kulit kayu seniman mengembangkan wayang bahan wayang sket motekar mendukung dicintai budaya wayang wayang kulit gaya permainannya dibagi jenis jenis terkenal wayang purwa tertua purwa berasal bahasa jawa boneka terbuat kulit kerbau diwarnai aturan penampilan dalang wayang tuding celah pola tanduk kerbau putih diperlakukan cempurit wayang wayang salah pertunjukan wayang rakyat wayang dikenal banjar wayang senjata terkenal jawa wayang topeng perkembangan wayang beragam acara seremonial acara hiburan wayang jenis wayang golek menampilkan boneka kayu wayang golek berasal sunda wayang kulit berbentuk wayang kulit cerita diangkat cerita panji damaluran perkembangan terkini dunia wayang menciptakan kreasi wayang suket boneka terbuat rumput menyerupai wayang kulit wayang kulit dijadikan mainan mengajari anak anak desa jawa cerita wayang versi modern boneka motekar boneka plastik berwarna wayang motekar sejenis wayang kulit wayang kulit wayang kulit memiliki bayangan hitam boneka motekar teknologi terbaru bayangan ditampilkan penuh warna boneka bahan plastik berwarna sistem pencahayaan teater canggih layar jenis wayang bentuk ekspresi budaya kehidupan media pendidikan media informasi media hiburan wayang berfungsi media pendidikan isinya pelajaran hidup masyarakat zaman modern wayang media informasi pagelaran wayang informasi program program pembangunan keluarga berencana kb pemilihan wayang langka media hiburan 2 pohon kelapa pohon kelapa cocos nucifera pohon nyiur tumbuhan palem berbatang mencapai meter buahnya tertutup sabut tempurung keras dalamnya daging mengandung santan air kelapa sebutan nama buah dihasilkan tumbuhan kelapa tumbuhan serbaguna dimanfaatkan bagiannya manusia banyaknya manfaat menjadikan tunas kelapa dijadikan lambang pramuka indonesia tumbuhan berasal pesisir samudra hindia sisi asia menyebar luas pantai tropika dunia tumbuhan buah kelapa batang pelepah akar buah kelapa kulit sabut tempurung kulit daging daging buah air kelapa lembaga pohon kelapa pohon nyiur tepi pantai berdasarkan penelitian kelapa diyakini bermanfaat menyembuhkan penyakit tbc luka bernanah wasir disentri kolera buah kelapa bagus mengobati keracunan buah menetralkan racun tubuh dijadikan makanan minuman dokter gigi kelapa mencegah gigi berlubang batang pohonnya bermanfaat pembuatan janur pembungkus ketupat 3 komodo komodo hewan sejenis reptil berkaki wujudnya menyerupai kadal kadal bedanya ukuran hewan komodo hewan langka kategori dilindungi komodo dicanangkan satwa nasional negeri sekilas komodo biawak perhatikan saksama binatang ukurannya biawak tubuhnya mencapai indonesia 165 ekornya setara badannya total hewan meter komodo memiliki badan kepalanya kepalanya memanjang reptil matanya berwarna mulutnya memanjang giginya menyelimuti rahang sekujur rahangnya gigi komodo tajam lidahnya berwarna kuning menjulur bercabang tepiannya kulitnya bersisik keras memiliki pola indah warna kulitnya cokelat kehitam hitaman bias kuning keemasan leher lipatan lipatan kulitnya bersisik lipatan ditemukan ketiak lipatan paha punggung ekornya bersisik menyerupai gergaji arah miring cakar komodo tajam menukik bentuknya cakar burung elang warnanya hitam legam bertarung melawan mangsanya binatang dibilang hewan menyeramkan memiliki sisik indah bertubuh kekar gagah komodo satwa nasional dipertahankan salah bukti kekayaan negeri 4 sampah sampah residu proses selesai sampah berasal alam manusia konsumsi tenaga nuklir industri pertambangan aktivitas alam manusia sampah bumi bertambah sampah dihasilkan indonesia mencapai 11 330 ton sampah dibedakan jenis bentuknya sampah dibedakan sampah organik sampah anorganik jenisnya sampah organik sampah terurai terurai contoh sampah organik sisa makanan sayuran daun kering sampah mudah terurai sampah diolah kompos sampah anorganik sampah mudah terurai terurai contoh sampah anorganik sampah mudah rusak plastik kayu kaca kaleng sampah anorganik didaur ulang industri rumahan mengurangi sampah dijadikan peluang bisnis sampah diklasifikasikan sampah padat cair alam konsumen manusia radioaktif morfologinya sampah padat sampah padat sampah padat sampah rumah tangga sampah dapur sampah kebun plastik logam kaca sampah organik anorganik sampah padat sampah sampah padat biodegradable sampah terurai proses biologis sampah padat non biodegradable terurai proses biologis berdasarkan sifatnya spontan biodegradable diklasifikasikan sampah jenis sampah padat terurai hayati didaur ulang didaur ulang sampah cair sampah cair dihasilkan kegiatan industri sampah cair dibedakan sampah hitam sampah rumah tangga sampah hitam sampah cair mengandung patogen berbahaya toilet sampah rumah tangga sampah cair dihasilkan dapur kamar mandi ruang cuci sampah alam sampah dihasilkan alam terurai proses daur ulang alami contoh sampah alam daun daun kering hutan terurai tanah kotoran istilah produk pencernaan manusia feses urin kotoran manusia merugikan kesehatan manusia sarana berkembangnya penyakit disebabkan virus bakteri sampah konsumsi sampah dihasilkan kegiatan konsumsi manusia dibuang tempat sampah sampah konsumen melebihi sampah industri sampah radioaktif hasil fusi fisi menghasilkan uranium thorium sampah radioaktif berbahaya lingkungan kehidupan manusia menghasilkan radiasi berdampak buruk kesehatan manusia sampah radioaktif dibuang tempat tempat aktif dibuang bekas tambang garam dasar laut 5 alat pemadam kebakaran asing tabung berwarna merah ditemukan gedung gedung pom bensin tabung berwarna merah alat memadamkan api muncul ruangan penggunaan alat tempat tempat rawan kebakaran api terkontrol cepat merambat tempat alat pemadam kebakaran jenis memiliki karakteristik salah jenisnya berisi air dicampur nitrogen karbondioksida alat pemadam kebakaran memadamkan api mengeluarkan serbuk kering bertujuan memadamkan api berasal bahan kimia jenis alat pemadam kebakaran memiliki busa karbondioksida api suplai oksigen dibutuhkan menyala alat pemadam kebakaran cocok memadamkan api ditimbulkan material api membutuhkan hidup bahan bakar oksigen panas ketiga segitiga api memadamkan api mengeliminasi salah aspek ketiga memadamkan api air menambah suplai oksigen air mengandung oksigen penggunaan alat pemadam kebakaran efektif mencegah api terbakar alat pemadam kebakaran mengeluarkan bahan bahan menggantikan suplai oksigen proses pembakaran api terhenti potensi kebakaran diatasi cepat 6 pantai pantai diartikan batasan daratan lautan batas zona laut kedalaman 200 garis isobath 200 sifat sifat pantai daratan bentuknya pantai pantai landai pantai curam pantai bertebing pantai karang pantai landai memiliki ciri permukaan relatif datar pantai jenis pantai mangrove pantai bukit pasir pantai delta pantai estuari pantai curam identik tekstur topografi bergunung gunung disebabkan retakan memanjang sejajar pantai terkikis ombak tebing tebing curam laut contohnya pantai selatan pulau jawa barat pulau sumatera pantai bertebing flaise pantai curam muka tebing pegunungan melintang tegak lurus pantai pantai dijumpai laut dangkal flaise penimbunan hasil perusakan tebing pantai disebabkan abrasi erosi pantai karang dasar laut pantai terumbu karang pantai pulau sulawesi maluku nusa tenggara pantai dijadikan objek wisata laut taman bunaken manado pantai tempat wisata populer dinikmati keluarga pantai memiliki ekosistem kaya komponen biotik komponen abiotik komponen biotik pantai tumbuhan hewan hidup daerah pantai komponen abiotik pantai gelombang arus angin pasir batuan komponen pantai manfaatkan kehidupan pasir dicampur air laut diolah garam manfaat manfaat pasir kesehatan manusia pantai jenis komponen biotik abiotik pantai mengandung manfaat indah pantai memiliki manfaat kesehatan nutrisi 7 jeruk jeruk buah spesies citrus buah jeruk berasal daerah cina selatan india myanmar tumbuhan jeruk tumbuhan dibudidayakan dunia brazil produsen terbesar buah jeruk diikuti cina india konsumsi jeruk belahan dunia mendorong produksinya jeruk memiliki jenis jenis memiliki karakteristik tersendiri berbeda buah jeruk berbeda bentuk buah warnanya buah jeruk memiliki segmen dipisahkan dipisahkan berasal negara negara asia perkembangannya jeruk dibudidayakan penjuru dunia permintaannya jenis spesies jeruk memiliki kandungan vitamin vitamin mendukung kesehatan gusi mempertahankan daya tahan tubuh kuat jeruk memiliki vitamin kandungan antioksidan dikonsumsi manfaat kesehatan jeruk makanan minuman menyegarkan heran buah dijadikan bahan pembuatan makanan minuman 8 suku badui kanekes baduy badui kelompok masyarakat adat sub etnis sunda wilayah kabupaten lebak banten masyarakat suku badui banten salah suku menerapkan isolasi dunia salah keunikan suku badui wajar menjaga pikukuh ajaran kepercayaan kebudayaan badui mengenal budaya terletak hutan pedalaman mengenal kebudayaan suku badui memiliki budaya asli dikenal taat mempertahankan adat istiadat warisan nenek moyangnya memakai pakaian berwarna putih ikat kepala putih membawa golok pakaian suku badui berkancing kerah uniknya dipakai suku badui hasil produksi perempuan bertugas membuatnya dilarang memakai pakaian modern bepergian memakai kendaraan memakai alas kaki kelompok 3 5 dilarang perangkat teknologi hp tv suku memiliki kepercayaan dikenal sunda wiwitan sunda berasal suku sunda wiwitan asli kepercayaan memuja arwah nenek moyang animisme kepercayaan pengaruh budha hindu kepercayaan suku refleksi kepercayaan masyarakat sunda agama islam suku badui mengenal budaya baca tulis aksara hanacaraka aksara sunda anak anak suku badui bersekolah kegiatannya sawah kebun melestarikan adat leluhurnya pemerintahan soeharto diadakan upaya membujuk mengizinkan pembangunan sekolah menolak cerita sejarah ingatan cerita lisan badui adat wilayah badui menyebabkan dikeluarkanya warga badui badui dasarnya peraturan badui badui ddalam badui mengenal teknologi dibanding badui 9 makhluk bumi makhluk bumi dikelompokkan persamaan perbedaannya pengelompokan membuatnya mudah dipelajari benda dunia dibagi kelompok hidup mati makhluk hidup berbagi karakteristik bergerak bernapas tumbuh memiliki keturunan kera ikan bunga contoh makhluk hidup sisi kaca plastik baja oksigen contoh benda mati makhluk hidup dibagi bintang tumbuhan pengelompokan berbeda tumbuhan berpindah tempat tempat memiliki otak memiliki jantung memiliki paru paru memiliki darah hidup tumbuhan hewan menghasilkan makanan hewan rumput gandum tanaman keras spesies tanaman hewan dibagi vertebrata invertebrata vertebrata memiliki duri manusia burung anjing katak invertebrata memiliki duri ubur ubur kupu kupu laba laba kelompok vertebrata mamalia burung amfibi reptil ikan 10 topeng museum angkut topeng salah tempat wisata terletak kota batu jawa timur keberadaan topeng dipisahkan museum angkut tempat tempat tempat wisata seringkali museum topeng berisi topeng model bentuk topeng berisi topeng berisi pameran benda benda barang tradisional barang antik topeng barang tradisional barang antik museum dikelompokkan jenis berdasarkan bahan pembuatannya berbahan kayu batu logam kain keramik benda diminati pengunjung diamati mendominasi tempat topeng beragam jenis topeng museum topeng topeng dikelompokkan berdasarkan bahan dasarnya berbahan dasar kayu batu topeng berbahan kayu berasal daerah bali jawa timur jawa yogyakarta jakarta jawa barat topeng berbahan batu berasal daerah sulawesi maluku topeng barang barang tradisional dipamerkan topeng barang barang tradisional mengisi etalase etalase museum senjata tradisional perhiasan wanita zaman berbahan dasar logam batik batik motif hiasan rumah kuno berdasarkan bahan dasarnya barang barang dikelompokkan berbahan dasar kayu hiasan rumah kepala kerbau toraja berbahan dasar batu alat penusuk jeruk batak berbahan dasar logam pisau sunat perhiasan logam sumba berbahan dasar kain batik motif yogyakarta jawa benda mengisi museum barang kuno dianggap bernilai seni barang antik barang barang antik guci tua kursi antik bantal arwah uang zaman kerajaan kerajaan benda benda dijumpai museum topeng barang barang digolongkan jenis berdasarkan bahan pembuatannya keramik logam barang antik berbahan dasar keramik museum guci guci tua peninggalan salah dinasti tiongkok bantal bangsawan dinasti yuan tiongkok meninggal barang antik berbahan dasar logam jinggaran coin kerajaan gowa uang kerajaan majapahit koin voc kursi antik jawa dipamerkan benda benda topeng dimanfaatkan media pelestarian budaya topeng berfungsi museum konservasi benda benda langka terhindar perdagangan ilegal gambas video 20detik\n",
      "(Score: 0.5719) \n",
      "No ID Dokumen  :  106\n",
      "Tanggal        :  Senin, 28 Nov 2022 14:19 WIB\n",
      "Isi berita     :  badan meteorologi klimatologi geofisika bmkg stasiun geofisika kupang nusa tenggara timur ntt mencatat gempa bumi magnitudo 4 4 kabupaten sumba barat daya senin 28 11 2022 gempa bumi kecamatan kodi kabupaten sumba barat daya 14 21 wita kepala bmkg stasiun geofisika kupang margiono kompas com senin siang margiono lokasi gempa bumi terletak 9 64 derajat ls 117 89 derajat bt pusat gempa bumi 121 kilometer arah barat daya kecamatan kodi kabupaten sumba barat daya kedalaman 10 kilometer margiono gempa berpotensi tsunami laporan kerusakan akibat gempa bumi kategori gempa dangkal guncangannya kuat kerusakan rumah bangunan informasikan perkembangannya pungkas\n",
      "(Score: 0.5670) \n",
      "No ID Dokumen  :  587\n",
      "Tanggal        :  Jumat, 06 Jan 2023 18:20 WIB\n",
      "Isi berita     :  banjir bandang menerjang perumahan dinar indah kecamatan tembalang semarang petugas mengevakuasi warga menyelamatkan atap bangunan pantauan 17 00 wib air menggenang dada dewasa warga menyelamatkan atap dievakuasi tim gabungan warga dievakuasi balita kendaraan motor mobil terendam warga panik berusaha tolong tim penyelamat bolak perahu tim evakuasi membawa warga pantauan warga ditandu tim medis kandang berisi kucing mati dievakuasi warga menyelamatkan mengungsi masjid terdekat penyebab banjir luapan sungai babon tanggul jebol kondisi kota semarang hujan intensitas informasi daerah kabupaten semarang hujan deras tanggul jebol warga dievakuasi danton linmas sambiroto subur ditemui lokasi jumat 6 1 2023 diberitakan banjir bandang menerjang perumahan dinar indah kecamatan tembalang kota semarang warga berupaya menyelamatkan atap rumahnya dievakuasi salah warga ana basuki air cepat sisi 15 00 wib ana rumahnya 06 rw 26 kelurahan meteseh tembalang rumah air arah menyelamatkan anak anak lantai ana lokasi jumat 6 1 ana air cepat lantai rumahnya terendam sepenuhnya air mencapai lantai bertahan genteng lantai jam bertahan dievakuasi pakai ban gambas video 20detik\n",
      "(Score: 0.5658) \n",
      "No ID Dokumen  :  1469\n",
      "Tanggal        :  Senin, 05 Des 2022 18:44 WIB\n",
      "Isi berita     :  ketua partai kebangkitan bangsa pkb abdul muhaimin iskandar blak blakan menyuruhnya mundur calon presiden capres berani cak imin sapaan akrab muhaimin pengamat politik universitas trunojoyo madura utm surokim abdussalam menilai cak imin publik bentuk strategi politik cak imin dianggap meniru dipakai susilo bambang yudhoyono sby meraih simpati publik cak imin mencari penguatan 2024 cak imin menakar kuat respons publik pendukungnya istikamah mendukungnya maju capres 2024 surokim senin 5 12 2022 surokim menyebut cak imin memosisikan mellow alias terzalimi kontestasi dipakai susilo bambang yudhoyono sby 2004 silam menyuruhnya mundur proses pencapresan beliau persisnya pencapresan isu sensitif angin situ kencang kandidat paham sadar mellow berpengalaman politik urusan capres cak imin efek mellow dipakai sby salah strategi maju capres waktu efektif sambungnya surokim menjelang politik figur berpotensi maju capres simpati publik politik kadang unik jurus melempar batu sembunyi tangan dipakai politisi menjelang pilpres efek mellow terkesan terzalimi mendongkrak elektabilitas bebernya surokim peluang cak imin capres berat penentu koalisi cak imin pengalaman mumpuni peluang cak imin capres pikir terbuka berat elektabilitas beliau survei cak imin mahir urusan dukung mendukung pembentukan koalisi pilpres teruji kontestan pilpres diberitakan cak imin mengaku memintanya mundur capres gus muhaimin mundur nggak nyapres tantangan peluang sulit muhaimin sambutannya membuka grand final gus muhaimin festival banjari kantor dpw pkb jatim sabtu 3 12 cak imin mengaku bocoran serangan berat depannya bisikin awas serangan kenceng sambungnya gambas video 20detik\n",
      "(Score: 0.5525) \n",
      "No ID Dokumen  :  954\n",
      "Tanggal        :  Sabtu, 10 Des 2022 19:05 WIB\n",
      "Isi berita     :  gempa berkekuatan magnitudo 4 9 jember jawa timur jatim gempa berpusat laut badan meteorologi klimatologi geofisika bmkg melaporkan gempa sabtu 10 12 2022 18 53 wib gempa kedalaman 10 kilometer 276 barat daya jember jatim tulis infobmkg titik koordinat gempa tercatat 10 67 lintang selatan ls 113 42 bujur timur bt dampak gempa gambas video 20detik\n",
      "(Score: 0.5474) \n",
      "No ID Dokumen  :  2060\n",
      "Tanggal        :  Rabu, 30 Nov 2022 13:29 WIB\n",
      "Isi berita     :  jembatan apung dibangun sungai wulan jembatan menghubungkan desa kedungwaru kidul kabupaten demak desa setrokalangan kabupaten kudus jembatan apung menggantikan jembatan kayu terendam banjir pantauan rabu 30 11 2022 pengerjaan jembatan apung jembatan panjangnya 70 meter lebar 2 5 meter kayu mahoni ditopang drum bawahnya jembatan kelak dilewati sepeda motor pengelola jembatan suwarno 44 dibangun jembatan apung sungai wulan jembatan kayu jembatan penghubung demak kudus akses buruh demak kudus musim penghujan jembatan kayu terendam banjir imbasnya warga memutar jalur pantura kudus 15 kilometer suwarno menyediakan perahu aktivitas penyeberangan musim hujan jembatan apung mingguan jembatan kayunya diterjang banjir suwarno ditemui lokasi rabu 30 11 menurutnya jembatan apung investor jakarta jembatan kayu diterjang banjir viral investor menemui suwarno jakarta waktu ketemu jembatan apung membantu rakyat kedungwaru kidul kudus kerjaan buruh kudus suwarno suwarno jembatan apung selesai pekan rencananya melintas dikenai tarif bayar rp 2 ribu pulang pergi anak sekolah gratis senin dilewati suwarno sekda kudus intakoris mengaku bersyukur investor membangun jembatan sungai wulan jembatan apung maksimal dilintasi sepeda motor nyeberang rp 2 ribu pulang pergi harapkan mahal mahal mengembalikan modal anak sekolah gratis mengecek jembatan pembangunan jembatan layak dilaporkan bupati kudus melapor bupati usulan menteri pu dibuatkan minimal jembatan gantung panjangnya tanggul 150 meter usul pembiayaan provinsi pusat mengimbuhkan gambas video 20detik\n",
      "(Score: 0.5469) \n"
     ]
    }
   ],
   "source": [
    "kueri='gempa'\n",
    "kueri=preprocessing(kueri)\n",
    "kueri= [\" \".join (kueri)]\n",
    "print (kueri)\n",
    "\n",
    "tfidf_matrix =joblib.load( \"corpus/matrix/tfidf_train_new.pkl\" )\n",
    "tfidf_vectorizer = joblib.load( \"corpus/vectorizer/vectorizer_new.pkl\" ) \n",
    "query_vec= tfidf_vectorizer.transform(kueri)\n",
    "results=cosine_similarity(tfidf_matrix, query_vec).reshape((-1))\n",
    "#print (results)\n",
    "print(\"\\n======================\\n\")\n",
    "print(\"Top 10 most similar documents in corpus:\")\n",
    "\n",
    "j = 1\n",
    "\n",
    "for i in results.argsort()[-10:][::-1]:\n",
    "    print(\"No ID Dokumen  : \", i)\n",
    "    print(\"Tanggal        : \", df_total.iloc[i,1])\n",
    "    print(\"Isi berita     : \", df_total.iloc[i,2])\n",
    "    print(\"(Score: %.4f) \" % results[i])"
   ]
  }
 ],
 "metadata": {
  "kernelspec": {
   "display_name": "Python 3",
   "language": "python",
   "name": "python3"
  },
  "language_info": {
   "codemirror_mode": {
    "name": "ipython",
    "version": 3
   },
   "file_extension": ".py",
   "mimetype": "text/x-python",
   "name": "python",
   "nbconvert_exporter": "python",
   "pygments_lexer": "ipython3",
   "version": "3.10.2"
  },
  "vscode": {
   "interpreter": {
    "hash": "52634da84371cba311ea128a5ea7cdc41ff074b781779e754b270ff9f8153cee"
   }
  }
 },
 "nbformat": 4,
 "nbformat_minor": 2
}
