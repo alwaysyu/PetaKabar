{
 "cells": [
  {
   "cell_type": "code",
   "execution_count": 1,
   "id": "ee76d196",
   "metadata": {},
   "outputs": [],
   "source": [
    "import re\n",
    "import pandas as pd\n",
    "import numpy as np\n",
    "import joblib"
   ]
  },
  {
   "cell_type": "code",
   "execution_count": 8,
   "id": "d984fd0d",
   "metadata": {},
   "outputs": [
    {
     "data": {
      "text/html": [
       "<div>\n",
       "<style scoped>\n",
       "    .dataframe tbody tr th:only-of-type {\n",
       "        vertical-align: middle;\n",
       "    }\n",
       "\n",
       "    .dataframe tbody tr th {\n",
       "        vertical-align: top;\n",
       "    }\n",
       "\n",
       "    .dataframe thead th {\n",
       "        text-align: right;\n",
       "    }\n",
       "</style>\n",
       "<table border=\"1\" class=\"dataframe\">\n",
       "  <thead>\n",
       "    <tr style=\"text-align: right;\">\n",
       "      <th></th>\n",
       "      <th>0</th>\n",
       "      <th>1</th>\n",
       "      <th>2</th>\n",
       "      <th>3</th>\n",
       "      <th>4</th>\n",
       "      <th>5</th>\n",
       "    </tr>\n",
       "  </thead>\n",
       "  <tbody>\n",
       "    <tr>\n",
       "      <th>0</th>\n",
       "      <td>5 Gempa Guncang Jatim Hari Ini</td>\n",
       "      <td>\\-\\n\\nGempa di Jawa Timur terjadi 5 kali hari ...</td>\n",
       "      <td>0</td>\n",
       "      <td>0.0</td>\n",
       "      <td>0</td>\n",
       "      <td>0</td>\n",
       "    </tr>\n",
       "    <tr>\n",
       "      <th>1</th>\n",
       "      <td>Kekeringan, 'Jokowi' Pun Ditanam di Dasar Sung...</td>\n",
       "      <td>\\- Kemarau panjang membuat air Sungai Citarum ...</td>\n",
       "      <td>0</td>\n",
       "      <td>0.0</td>\n",
       "      <td>0</td>\n",
       "      <td>0</td>\n",
       "    </tr>\n",
       "    <tr>\n",
       "      <th>2</th>\n",
       "      <td>Selain Terjang SPBU, Angin Kencang juga Rusak ...</td>\n",
       "      <td>\\-\\n\\nAngin kencang yang merusak SPBU di Ambar...</td>\n",
       "      <td>0</td>\n",
       "      <td>1.0</td>\n",
       "      <td>15</td>\n",
       "      <td>0</td>\n",
       "    </tr>\n",
       "    <tr>\n",
       "      <th>3</th>\n",
       "      <td>Belasan Rumah dan 1 Merajan di Buleleng Rusak ...</td>\n",
       "      <td>\\-\\n\\nHujan deras disertai dengan angin kencan...</td>\n",
       "      <td>0</td>\n",
       "      <td>0.0</td>\n",
       "      <td>18</td>\n",
       "      <td>1</td>\n",
       "    </tr>\n",
       "    <tr>\n",
       "      <th>4</th>\n",
       "      <td>Gempa M 5,2 Guncang Bolsel Sulut, Tidak Berpot...</td>\n",
       "      <td>\\-\\n\\nGempa bumi berkekuatan magnitudo (M) 5,2...</td>\n",
       "      <td>0</td>\n",
       "      <td>0.0</td>\n",
       "      <td>0</td>\n",
       "      <td>0</td>\n",
       "    </tr>\n",
       "  </tbody>\n",
       "</table>\n",
       "</div>"
      ],
      "text/plain": [
       "                                                   0  \\\n",
       "0                     5 Gempa Guncang Jatim Hari Ini   \n",
       "1  Kekeringan, 'Jokowi' Pun Ditanam di Dasar Sung...   \n",
       "2  Selain Terjang SPBU, Angin Kencang juga Rusak ...   \n",
       "3  Belasan Rumah dan 1 Merajan di Buleleng Rusak ...   \n",
       "4  Gempa M 5,2 Guncang Bolsel Sulut, Tidak Berpot...   \n",
       "\n",
       "                                                   1  2    3   4  5  \n",
       "0  \\-\\n\\nGempa di Jawa Timur terjadi 5 kali hari ...  0  0.0   0  0  \n",
       "1  \\- Kemarau panjang membuat air Sungai Citarum ...  0  0.0   0  0  \n",
       "2  \\-\\n\\nAngin kencang yang merusak SPBU di Ambar...  0  1.0  15  0  \n",
       "3  \\-\\n\\nHujan deras disertai dengan angin kencan...  0  0.0  18  1  \n",
       "4  \\-\\n\\nGempa bumi berkekuatan magnitudo (M) 5,2...  0  0.0   0  0  "
      ]
     },
     "execution_count": 8,
     "metadata": {},
     "output_type": "execute_result"
    }
   ],
   "source": [
    "# Dataset load (CSV)\n",
    "\n",
    "dataset_path = './dataset/disaster.csv'\n",
    "df = pd.read_csv(dataset_path)\n",
    "\n",
    "df.head()"
   ]
  },
  {
   "cell_type": "code",
   "execution_count": 9,
   "id": "9f5bf838",
   "metadata": {},
   "outputs": [
    {
     "data": {
      "text/html": [
       "<div>\n",
       "<style scoped>\n",
       "    .dataframe tbody tr th:only-of-type {\n",
       "        vertical-align: middle;\n",
       "    }\n",
       "\n",
       "    .dataframe tbody tr th {\n",
       "        vertical-align: top;\n",
       "    }\n",
       "\n",
       "    .dataframe thead th {\n",
       "        text-align: right;\n",
       "    }\n",
       "</style>\n",
       "<table border=\"1\" class=\"dataframe\">\n",
       "  <thead>\n",
       "    <tr style=\"text-align: right;\">\n",
       "      <th></th>\n",
       "      <th>title</th>\n",
       "      <th>description</th>\n",
       "      <th>mati</th>\n",
       "      <th>luka</th>\n",
       "      <th>rumah</th>\n",
       "      <th>orang</th>\n",
       "    </tr>\n",
       "  </thead>\n",
       "  <tbody>\n",
       "    <tr>\n",
       "      <th>1</th>\n",
       "      <td>Kekeringan, 'Jokowi' Pun Ditanam di Dasar Sung...</td>\n",
       "      <td>\\- Kemarau panjang membuat air Sungai Citarum ...</td>\n",
       "      <td>0</td>\n",
       "      <td>0.0</td>\n",
       "      <td>0</td>\n",
       "      <td>0</td>\n",
       "    </tr>\n",
       "    <tr>\n",
       "      <th>2</th>\n",
       "      <td>Selain Terjang SPBU, Angin Kencang juga Rusak ...</td>\n",
       "      <td>\\-\\n\\nAngin kencang yang merusak SPBU di Ambar...</td>\n",
       "      <td>0</td>\n",
       "      <td>1.0</td>\n",
       "      <td>15</td>\n",
       "      <td>0</td>\n",
       "    </tr>\n",
       "    <tr>\n",
       "      <th>3</th>\n",
       "      <td>Belasan Rumah dan 1 Merajan di Buleleng Rusak ...</td>\n",
       "      <td>\\-\\n\\nHujan deras disertai dengan angin kencan...</td>\n",
       "      <td>0</td>\n",
       "      <td>0.0</td>\n",
       "      <td>18</td>\n",
       "      <td>1</td>\n",
       "    </tr>\n",
       "    <tr>\n",
       "      <th>4</th>\n",
       "      <td>Gempa M 5,2 Guncang Bolsel Sulut, Tidak Berpot...</td>\n",
       "      <td>\\-\\n\\nGempa bumi berkekuatan magnitudo (M) 5,2...</td>\n",
       "      <td>0</td>\n",
       "      <td>0.0</td>\n",
       "      <td>0</td>\n",
       "      <td>0</td>\n",
       "    </tr>\n",
       "    <tr>\n",
       "      <th>5</th>\n",
       "      <td>Longsor dan Pergerakan Tanah di Cianjur, Sawah...</td>\n",
       "      <td>\\-\\n\\nLongsor dan pergerakan tanah terjadi di ...</td>\n",
       "      <td>0</td>\n",
       "      <td>0.0</td>\n",
       "      <td>6</td>\n",
       "      <td>31</td>\n",
       "    </tr>\n",
       "  </tbody>\n",
       "</table>\n",
       "</div>"
      ],
      "text/plain": [
       "                                               title  \\\n",
       "1  Kekeringan, 'Jokowi' Pun Ditanam di Dasar Sung...   \n",
       "2  Selain Terjang SPBU, Angin Kencang juga Rusak ...   \n",
       "3  Belasan Rumah dan 1 Merajan di Buleleng Rusak ...   \n",
       "4  Gempa M 5,2 Guncang Bolsel Sulut, Tidak Berpot...   \n",
       "5  Longsor dan Pergerakan Tanah di Cianjur, Sawah...   \n",
       "\n",
       "                                         description mati  luka rumah orang  \n",
       "1  \\- Kemarau panjang membuat air Sungai Citarum ...    0   0.0     0     0  \n",
       "2  \\-\\n\\nAngin kencang yang merusak SPBU di Ambar...    0   1.0    15     0  \n",
       "3  \\-\\n\\nHujan deras disertai dengan angin kencan...    0   0.0    18     1  \n",
       "4  \\-\\n\\nGempa bumi berkekuatan magnitudo (M) 5,2...    0   0.0     0     0  \n",
       "5  \\-\\n\\nLongsor dan pergerakan tanah terjadi di ...    0   0.0     6    31  "
      ]
     },
     "execution_count": 9,
     "metadata": {},
     "output_type": "execute_result"
    }
   ],
   "source": [
    "df = df.iloc[1: , :]\n",
    "col_names = ['title','description', 'mati', 'luka', 'rumah', 'orang']\n",
    "df.columns = col_names\n",
    "\n",
    "df.head()"
   ]
  },
  {
   "cell_type": "code",
   "execution_count": 10,
   "id": "d68fed5f",
   "metadata": {},
   "outputs": [
    {
     "name": "stdout",
     "output_type": "stream",
     "text": [
      "<class 'pandas.core.frame.DataFrame'>\n",
      "RangeIndex: 1447 entries, 1 to 1447\n",
      "Data columns (total 6 columns):\n",
      " #   Column       Non-Null Count  Dtype  \n",
      "---  ------       --------------  -----  \n",
      " 0   title        1447 non-null   object \n",
      " 1   description  1447 non-null   object \n",
      " 2   mati         1447 non-null   object \n",
      " 3   luka         1447 non-null   float64\n",
      " 4   rumah        1447 non-null   object \n",
      " 5   orang        1447 non-null   object \n",
      "dtypes: float64(1), object(5)\n",
      "memory usage: 68.0+ KB\n"
     ]
    }
   ],
   "source": [
    "# View summary of dataset\n",
    "df.info()"
   ]
  },
  {
   "cell_type": "code",
   "execution_count": 11,
   "id": "0f57d651",
   "metadata": {},
   "outputs": [
    {
     "data": {
      "text/html": [
       "<div>\n",
       "<style scoped>\n",
       "    .dataframe tbody tr th:only-of-type {\n",
       "        vertical-align: middle;\n",
       "    }\n",
       "\n",
       "    .dataframe tbody tr th {\n",
       "        vertical-align: top;\n",
       "    }\n",
       "\n",
       "    .dataframe thead th {\n",
       "        text-align: right;\n",
       "    }\n",
       "</style>\n",
       "<table border=\"1\" class=\"dataframe\">\n",
       "  <thead>\n",
       "    <tr style=\"text-align: right;\">\n",
       "      <th></th>\n",
       "      <th>title</th>\n",
       "      <th>description</th>\n",
       "      <th>mati</th>\n",
       "      <th>luka</th>\n",
       "      <th>rumah</th>\n",
       "      <th>orang</th>\n",
       "    </tr>\n",
       "  </thead>\n",
       "  <tbody>\n",
       "    <tr>\n",
       "      <th>1</th>\n",
       "      <td>Kekeringan, 'Jokowi' Pun Ditanam di Dasar Sung...</td>\n",
       "      <td>\\- Kemarau panjang membuat air Sungai Citarum ...</td>\n",
       "      <td>0</td>\n",
       "      <td>0.0</td>\n",
       "      <td>0</td>\n",
       "      <td>0</td>\n",
       "    </tr>\n",
       "    <tr>\n",
       "      <th>2</th>\n",
       "      <td>Selain Terjang SPBU, Angin Kencang juga Rusak ...</td>\n",
       "      <td>\\-\\n\\nAngin kencang yang merusak SPBU di Ambar...</td>\n",
       "      <td>0</td>\n",
       "      <td>1.0</td>\n",
       "      <td>15</td>\n",
       "      <td>0</td>\n",
       "    </tr>\n",
       "    <tr>\n",
       "      <th>3</th>\n",
       "      <td>Belasan Rumah dan 1 Merajan di Buleleng Rusak ...</td>\n",
       "      <td>\\-\\n\\nHujan deras disertai dengan angin kencan...</td>\n",
       "      <td>0</td>\n",
       "      <td>0.0</td>\n",
       "      <td>18</td>\n",
       "      <td>1</td>\n",
       "    </tr>\n",
       "    <tr>\n",
       "      <th>4</th>\n",
       "      <td>Gempa M 5,2 Guncang Bolsel Sulut, Tidak Berpot...</td>\n",
       "      <td>\\-\\n\\nGempa bumi berkekuatan magnitudo (M) 5,2...</td>\n",
       "      <td>0</td>\n",
       "      <td>0.0</td>\n",
       "      <td>0</td>\n",
       "      <td>0</td>\n",
       "    </tr>\n",
       "    <tr>\n",
       "      <th>5</th>\n",
       "      <td>Longsor dan Pergerakan Tanah di Cianjur, Sawah...</td>\n",
       "      <td>\\-\\n\\nLongsor dan pergerakan tanah terjadi di ...</td>\n",
       "      <td>0</td>\n",
       "      <td>0.0</td>\n",
       "      <td>6</td>\n",
       "      <td>31</td>\n",
       "    </tr>\n",
       "  </tbody>\n",
       "</table>\n",
       "</div>"
      ],
      "text/plain": [
       "                                               title  \\\n",
       "1  Kekeringan, 'Jokowi' Pun Ditanam di Dasar Sung...   \n",
       "2  Selain Terjang SPBU, Angin Kencang juga Rusak ...   \n",
       "3  Belasan Rumah dan 1 Merajan di Buleleng Rusak ...   \n",
       "4  Gempa M 5,2 Guncang Bolsel Sulut, Tidak Berpot...   \n",
       "5  Longsor dan Pergerakan Tanah di Cianjur, Sawah...   \n",
       "\n",
       "                                         description mati  luka rumah orang  \n",
       "1  \\- Kemarau panjang membuat air Sungai Citarum ...    0   0.0     0     0  \n",
       "2  \\-\\n\\nAngin kencang yang merusak SPBU di Ambar...    0   1.0    15     0  \n",
       "3  \\-\\n\\nHujan deras disertai dengan angin kencan...    0   0.0    18     1  \n",
       "4  \\-\\n\\nGempa bumi berkekuatan magnitudo (M) 5,2...    0   0.0     0     0  \n",
       "5  \\-\\n\\nLongsor dan pergerakan tanah terjadi di ...    0   0.0     6    31  "
      ]
     },
     "execution_count": 11,
     "metadata": {},
     "output_type": "execute_result"
    }
   ],
   "source": [
    "# df_rest = df.drop(['title', 'description'], axis=1)\n",
    "df_rest = df\n",
    "df_rest.head()"
   ]
  },
  {
   "cell_type": "code",
   "execution_count": 12,
   "id": "f108ccce",
   "metadata": {},
   "outputs": [
    {
     "data": {
      "text/html": [
       "<div>\n",
       "<style scoped>\n",
       "    .dataframe tbody tr th:only-of-type {\n",
       "        vertical-align: middle;\n",
       "    }\n",
       "\n",
       "    .dataframe tbody tr th {\n",
       "        vertical-align: top;\n",
       "    }\n",
       "\n",
       "    .dataframe thead th {\n",
       "        text-align: right;\n",
       "    }\n",
       "</style>\n",
       "<table border=\"1\" class=\"dataframe\">\n",
       "  <thead>\n",
       "    <tr style=\"text-align: right;\">\n",
       "      <th></th>\n",
       "      <th>title</th>\n",
       "      <th>description</th>\n",
       "      <th>mati</th>\n",
       "      <th>luka</th>\n",
       "      <th>rumah</th>\n",
       "      <th>orang</th>\n",
       "    </tr>\n",
       "  </thead>\n",
       "  <tbody>\n",
       "    <tr>\n",
       "      <th>1</th>\n",
       "      <td>Kekeringan, 'Jokowi' Pun Ditanam di Dasar Sung...</td>\n",
       "      <td>\\- Kemarau panjang membuat air Sungai Citarum ...</td>\n",
       "      <td>0</td>\n",
       "      <td>0</td>\n",
       "      <td>0</td>\n",
       "      <td>0</td>\n",
       "    </tr>\n",
       "    <tr>\n",
       "      <th>2</th>\n",
       "      <td>Selain Terjang SPBU, Angin Kencang juga Rusak ...</td>\n",
       "      <td>\\-\\n\\nAngin kencang yang merusak SPBU di Ambar...</td>\n",
       "      <td>0</td>\n",
       "      <td>10</td>\n",
       "      <td>15</td>\n",
       "      <td>0</td>\n",
       "    </tr>\n",
       "    <tr>\n",
       "      <th>3</th>\n",
       "      <td>Belasan Rumah dan 1 Merajan di Buleleng Rusak ...</td>\n",
       "      <td>\\-\\n\\nHujan deras disertai dengan angin kencan...</td>\n",
       "      <td>0</td>\n",
       "      <td>0</td>\n",
       "      <td>18</td>\n",
       "      <td>1</td>\n",
       "    </tr>\n",
       "    <tr>\n",
       "      <th>4</th>\n",
       "      <td>Gempa M 5,2 Guncang Bolsel Sulut, Tidak Berpot...</td>\n",
       "      <td>\\-\\n\\nGempa bumi berkekuatan magnitudo (M) 5,2...</td>\n",
       "      <td>0</td>\n",
       "      <td>0</td>\n",
       "      <td>0</td>\n",
       "      <td>0</td>\n",
       "    </tr>\n",
       "    <tr>\n",
       "      <th>5</th>\n",
       "      <td>Longsor dan Pergerakan Tanah di Cianjur, Sawah...</td>\n",
       "      <td>\\-\\n\\nLongsor dan pergerakan tanah terjadi di ...</td>\n",
       "      <td>0</td>\n",
       "      <td>0</td>\n",
       "      <td>6</td>\n",
       "      <td>31</td>\n",
       "    </tr>\n",
       "  </tbody>\n",
       "</table>\n",
       "</div>"
      ],
      "text/plain": [
       "                                               title  \\\n",
       "1  Kekeringan, 'Jokowi' Pun Ditanam di Dasar Sung...   \n",
       "2  Selain Terjang SPBU, Angin Kencang juga Rusak ...   \n",
       "3  Belasan Rumah dan 1 Merajan di Buleleng Rusak ...   \n",
       "4  Gempa M 5,2 Guncang Bolsel Sulut, Tidak Berpot...   \n",
       "5  Longsor dan Pergerakan Tanah di Cianjur, Sawah...   \n",
       "\n",
       "                                         description  mati  luka  rumah  orang  \n",
       "1  \\- Kemarau panjang membuat air Sungai Citarum ...     0     0      0      0  \n",
       "2  \\-\\n\\nAngin kencang yang merusak SPBU di Ambar...     0    10     15      0  \n",
       "3  \\-\\n\\nHujan deras disertai dengan angin kencan...     0     0     18      1  \n",
       "4  \\-\\n\\nGempa bumi berkekuatan magnitudo (M) 5,2...     0     0      0      0  \n",
       "5  \\-\\n\\nLongsor dan pergerakan tanah terjadi di ...     0     0      6     31  "
      ]
     },
     "execution_count": 12,
     "metadata": {},
     "output_type": "execute_result"
    }
   ],
   "source": [
    "# Data Cleansing\n",
    "df_rest['mati'] = [re.sub(\"[^0-9]\", \"\", str(mati)) if (re.sub(\"[^0-9]\", \"\", str(mati)) != '') else 1 for mati in df_rest['mati']]\n",
    "df['mati'] = df['mati'].astype(int)\n",
    "\n",
    "df_rest['luka'] = [re.sub(\"[^0-9]\", \"\", str(luka)) if (re.sub(\"[^0-9]\", \"\", str(luka)) != '') else 1 for luka in df_rest['luka']]\n",
    "df['luka'] = df['luka'].astype(int)\n",
    "\n",
    "df_rest['rumah'] = [re.sub(\"[^0-9]\", \"\", str(rumah)) if (re.sub(\"[^0-9]\", \"\", str(rumah)) != '') else 1 for rumah in df_rest['rumah']]\n",
    "df['rumah'] = df['rumah'].astype(int)\n",
    "\n",
    "df_rest['orang'] = [re.sub(\"[^0-9]\", \"\", str(orang)) if (re.sub(\"[^0-9]\", \"\", str(orang)) != '') else 1 for orang in df_rest['orang']]\n",
    "df['orang'] = df['orang'].astype(int)\n",
    "# df_rest = df_rest.replace({',': '.'}, regex=True)\n",
    "\n",
    "df_rest.head()\n",
    "# df_rest.to_csv('coba.csv')\n",
    "# df_rest.to_excel('coba.xlsx', index=None)"
   ]
  },
  {
   "cell_type": "code",
   "execution_count": 13,
   "id": "34ebb2e4",
   "metadata": {},
   "outputs": [],
   "source": [
    "def matiScale(matiCount: int) -> int:\n",
    "  if matiCount < 3:\n",
    "    return 1\n",
    "  elif matiCount >= 3 and matiCount < 15:\n",
    "    return 2\n",
    "  return 3\n",
    "\n",
    "def lukaScale(lukaCount: int) -> int:\n",
    "  if lukaCount < 10:\n",
    "    return 1\n",
    "  elif lukaCount >= 10 and lukaCount < 20:\n",
    "    return 2\n",
    "  return 3\n",
    "\n",
    "def rumahScale(rumahCount: int) -> int:\n",
    "  if rumahCount < 4:\n",
    "    return 1\n",
    "  elif rumahCount >= 4 and rumahCount <= 20:\n",
    "    return 2\n",
    "  return 3\n",
    "\n",
    "def orangScale(orangCount: int) -> int:\n",
    "  if orangCount < 10:\n",
    "    return 1\n",
    "  elif orangCount >= 10 and orangCount <= 100:\n",
    "    return 2\n",
    "  return 3\n",
    "\n",
    "def calculate(mati: int, luka: int, rumah: int, orang: int):\n",
    "  subtractor = 0\n",
    "  total = 0\n",
    "  fiturCount = 4\n",
    "\n",
    "  if (mati > 0):\n",
    "    total += matiScale(matiCount=mati)\n",
    "  else:\n",
    "    subtractor += 1\n",
    "\n",
    "  if (luka > 0):\n",
    "    total += lukaScale(lukaCount=luka)\n",
    "  else:\n",
    "    subtractor += 1\n",
    "\n",
    "  if (rumah > 0):\n",
    "    total += rumahScale(rumahCount=rumah)\n",
    "  else:\n",
    "    subtractor += 1\n",
    "  \n",
    "  if (orang > 0):\n",
    "    total += orangScale(orangCount=orang)\n",
    "  else:\n",
    "    subtractor += 1\n",
    "          \n",
    "\n",
    "  divider = (fiturCount - subtractor)\n",
    "  severityMean = 0\n",
    "\n",
    "  if (divider > 0):\n",
    "    severityMean = total / divider\n",
    "\n",
    "  if severityMean <= 1:\n",
    "    return 'rendah'\n",
    "  elif severityMean > 1 and severityMean <= 2:\n",
    "    return 'sedang'\n",
    "  else:\n",
    "    return 'parah'"
   ]
  },
  {
   "cell_type": "code",
   "execution_count": 14,
   "id": "75883965",
   "metadata": {},
   "outputs": [],
   "source": [
    "keparahanValues = []\n",
    "\n",
    "for index, row in df_rest.iterrows():\n",
    "  result = calculate(orang=int(row['orang']), \\\n",
    "      luka=int(row['luka']), \\\n",
    "        rumah=int(row['rumah']), \\\n",
    "          mati=int(row['mati']))\n",
    "  \n",
    "  keparahanValues.append(result)"
   ]
  },
  {
   "cell_type": "code",
   "execution_count": 15,
   "id": "31694382",
   "metadata": {},
   "outputs": [
    {
     "data": {
      "text/html": [
       "<div>\n",
       "<style scoped>\n",
       "    .dataframe tbody tr th:only-of-type {\n",
       "        vertical-align: middle;\n",
       "    }\n",
       "\n",
       "    .dataframe tbody tr th {\n",
       "        vertical-align: top;\n",
       "    }\n",
       "\n",
       "    .dataframe thead th {\n",
       "        text-align: right;\n",
       "    }\n",
       "</style>\n",
       "<table border=\"1\" class=\"dataframe\">\n",
       "  <thead>\n",
       "    <tr style=\"text-align: right;\">\n",
       "      <th></th>\n",
       "      <th>title</th>\n",
       "      <th>description</th>\n",
       "      <th>mati</th>\n",
       "      <th>luka</th>\n",
       "      <th>rumah</th>\n",
       "      <th>orang</th>\n",
       "      <th>keparahan</th>\n",
       "    </tr>\n",
       "  </thead>\n",
       "  <tbody>\n",
       "    <tr>\n",
       "      <th>1</th>\n",
       "      <td>Kekeringan, 'Jokowi' Pun Ditanam di Dasar Sung...</td>\n",
       "      <td>\\- Kemarau panjang membuat air Sungai Citarum ...</td>\n",
       "      <td>0</td>\n",
       "      <td>0</td>\n",
       "      <td>0</td>\n",
       "      <td>0</td>\n",
       "      <td>rendah</td>\n",
       "    </tr>\n",
       "    <tr>\n",
       "      <th>2</th>\n",
       "      <td>Selain Terjang SPBU, Angin Kencang juga Rusak ...</td>\n",
       "      <td>\\-\\n\\nAngin kencang yang merusak SPBU di Ambar...</td>\n",
       "      <td>0</td>\n",
       "      <td>10</td>\n",
       "      <td>15</td>\n",
       "      <td>0</td>\n",
       "      <td>sedang</td>\n",
       "    </tr>\n",
       "    <tr>\n",
       "      <th>3</th>\n",
       "      <td>Belasan Rumah dan 1 Merajan di Buleleng Rusak ...</td>\n",
       "      <td>\\-\\n\\nHujan deras disertai dengan angin kencan...</td>\n",
       "      <td>0</td>\n",
       "      <td>0</td>\n",
       "      <td>18</td>\n",
       "      <td>1</td>\n",
       "      <td>sedang</td>\n",
       "    </tr>\n",
       "    <tr>\n",
       "      <th>4</th>\n",
       "      <td>Gempa M 5,2 Guncang Bolsel Sulut, Tidak Berpot...</td>\n",
       "      <td>\\-\\n\\nGempa bumi berkekuatan magnitudo (M) 5,2...</td>\n",
       "      <td>0</td>\n",
       "      <td>0</td>\n",
       "      <td>0</td>\n",
       "      <td>0</td>\n",
       "      <td>rendah</td>\n",
       "    </tr>\n",
       "    <tr>\n",
       "      <th>5</th>\n",
       "      <td>Longsor dan Pergerakan Tanah di Cianjur, Sawah...</td>\n",
       "      <td>\\-\\n\\nLongsor dan pergerakan tanah terjadi di ...</td>\n",
       "      <td>0</td>\n",
       "      <td>0</td>\n",
       "      <td>6</td>\n",
       "      <td>31</td>\n",
       "      <td>sedang</td>\n",
       "    </tr>\n",
       "  </tbody>\n",
       "</table>\n",
       "</div>"
      ],
      "text/plain": [
       "                                               title  \\\n",
       "1  Kekeringan, 'Jokowi' Pun Ditanam di Dasar Sung...   \n",
       "2  Selain Terjang SPBU, Angin Kencang juga Rusak ...   \n",
       "3  Belasan Rumah dan 1 Merajan di Buleleng Rusak ...   \n",
       "4  Gempa M 5,2 Guncang Bolsel Sulut, Tidak Berpot...   \n",
       "5  Longsor dan Pergerakan Tanah di Cianjur, Sawah...   \n",
       "\n",
       "                                         description  mati  luka  rumah  \\\n",
       "1  \\- Kemarau panjang membuat air Sungai Citarum ...     0     0      0   \n",
       "2  \\-\\n\\nAngin kencang yang merusak SPBU di Ambar...     0    10     15   \n",
       "3  \\-\\n\\nHujan deras disertai dengan angin kencan...     0     0     18   \n",
       "4  \\-\\n\\nGempa bumi berkekuatan magnitudo (M) 5,2...     0     0      0   \n",
       "5  \\-\\n\\nLongsor dan pergerakan tanah terjadi di ...     0     0      6   \n",
       "\n",
       "   orang keparahan  \n",
       "1      0    rendah  \n",
       "2      0    sedang  \n",
       "3      1    sedang  \n",
       "4      0    rendah  \n",
       "5     31    sedang  "
      ]
     },
     "execution_count": 15,
     "metadata": {},
     "output_type": "execute_result"
    }
   ],
   "source": [
    "df_rest['keparahan'] = keparahanValues\n",
    "df_rest.head()"
   ]
  },
  {
   "cell_type": "code",
   "execution_count": 16,
   "id": "827f0a6b",
   "metadata": {},
   "outputs": [],
   "source": [
    "df_rest.to_csv('./dataset/hasil_keparahan.csv', index=False)\n",
    "# df_rest.to_excel('hasil_keparahan.xlsx')"
   ]
  },
  {
   "cell_type": "code",
   "execution_count": 17,
   "id": "3c29b52e",
   "metadata": {},
   "outputs": [
    {
     "data": {
      "text/html": [
       "<div>\n",
       "<style scoped>\n",
       "    .dataframe tbody tr th:only-of-type {\n",
       "        vertical-align: middle;\n",
       "    }\n",
       "\n",
       "    .dataframe tbody tr th {\n",
       "        vertical-align: top;\n",
       "    }\n",
       "\n",
       "    .dataframe thead th {\n",
       "        text-align: right;\n",
       "    }\n",
       "</style>\n",
       "<table border=\"1\" class=\"dataframe\">\n",
       "  <thead>\n",
       "    <tr style=\"text-align: right;\">\n",
       "      <th></th>\n",
       "      <th>title</th>\n",
       "      <th>description</th>\n",
       "      <th>mati</th>\n",
       "      <th>luka</th>\n",
       "      <th>rumah</th>\n",
       "      <th>orang</th>\n",
       "      <th>keparahan</th>\n",
       "    </tr>\n",
       "  </thead>\n",
       "  <tbody>\n",
       "    <tr>\n",
       "      <th>0</th>\n",
       "      <td>Kekeringan, 'Jokowi' Pun Ditanam di Dasar Sung...</td>\n",
       "      <td>\\- Kemarau panjang membuat air Sungai Citarum ...</td>\n",
       "      <td>0</td>\n",
       "      <td>0</td>\n",
       "      <td>0</td>\n",
       "      <td>0</td>\n",
       "      <td>rendah</td>\n",
       "    </tr>\n",
       "    <tr>\n",
       "      <th>1</th>\n",
       "      <td>Selain Terjang SPBU, Angin Kencang juga Rusak ...</td>\n",
       "      <td>\\-\\n\\nAngin kencang yang merusak SPBU di Ambar...</td>\n",
       "      <td>0</td>\n",
       "      <td>10</td>\n",
       "      <td>15</td>\n",
       "      <td>0</td>\n",
       "      <td>sedang</td>\n",
       "    </tr>\n",
       "    <tr>\n",
       "      <th>2</th>\n",
       "      <td>Belasan Rumah dan 1 Merajan di Buleleng Rusak ...</td>\n",
       "      <td>\\-\\n\\nHujan deras disertai dengan angin kencan...</td>\n",
       "      <td>0</td>\n",
       "      <td>0</td>\n",
       "      <td>18</td>\n",
       "      <td>1</td>\n",
       "      <td>sedang</td>\n",
       "    </tr>\n",
       "    <tr>\n",
       "      <th>3</th>\n",
       "      <td>Gempa M 5,2 Guncang Bolsel Sulut, Tidak Berpot...</td>\n",
       "      <td>\\-\\n\\nGempa bumi berkekuatan magnitudo (M) 5,2...</td>\n",
       "      <td>0</td>\n",
       "      <td>0</td>\n",
       "      <td>0</td>\n",
       "      <td>0</td>\n",
       "      <td>rendah</td>\n",
       "    </tr>\n",
       "    <tr>\n",
       "      <th>4</th>\n",
       "      <td>Longsor dan Pergerakan Tanah di Cianjur, Sawah...</td>\n",
       "      <td>\\-\\n\\nLongsor dan pergerakan tanah terjadi di ...</td>\n",
       "      <td>0</td>\n",
       "      <td>0</td>\n",
       "      <td>6</td>\n",
       "      <td>31</td>\n",
       "      <td>sedang</td>\n",
       "    </tr>\n",
       "  </tbody>\n",
       "</table>\n",
       "</div>"
      ],
      "text/plain": [
       "                                               title  \\\n",
       "0  Kekeringan, 'Jokowi' Pun Ditanam di Dasar Sung...   \n",
       "1  Selain Terjang SPBU, Angin Kencang juga Rusak ...   \n",
       "2  Belasan Rumah dan 1 Merajan di Buleleng Rusak ...   \n",
       "3  Gempa M 5,2 Guncang Bolsel Sulut, Tidak Berpot...   \n",
       "4  Longsor dan Pergerakan Tanah di Cianjur, Sawah...   \n",
       "\n",
       "                                         description  mati  luka  rumah  \\\n",
       "0  \\- Kemarau panjang membuat air Sungai Citarum ...     0     0      0   \n",
       "1  \\-\\n\\nAngin kencang yang merusak SPBU di Ambar...     0    10     15   \n",
       "2  \\-\\n\\nHujan deras disertai dengan angin kencan...     0     0     18   \n",
       "3  \\-\\n\\nGempa bumi berkekuatan magnitudo (M) 5,2...     0     0      0   \n",
       "4  \\-\\n\\nLongsor dan pergerakan tanah terjadi di ...     0     0      6   \n",
       "\n",
       "   orang keparahan  \n",
       "0      0    rendah  \n",
       "1      0    sedang  \n",
       "2      1    sedang  \n",
       "3      0    rendah  \n",
       "4     31    sedang  "
      ]
     },
     "execution_count": 17,
     "metadata": {},
     "output_type": "execute_result"
    }
   ],
   "source": [
    "# Dataset load\n",
    "dataset_path = './dataset/hasil_keparahan.csv'\n",
    "df = pd.read_csv(dataset_path)\n",
    "\n",
    "df.head()"
   ]
  },
  {
   "cell_type": "code",
   "execution_count": 18,
   "id": "7dac754e",
   "metadata": {},
   "outputs": [
    {
     "data": {
      "text/html": [
       "<div>\n",
       "<style scoped>\n",
       "    .dataframe tbody tr th:only-of-type {\n",
       "        vertical-align: middle;\n",
       "    }\n",
       "\n",
       "    .dataframe tbody tr th {\n",
       "        vertical-align: top;\n",
       "    }\n",
       "\n",
       "    .dataframe thead th {\n",
       "        text-align: right;\n",
       "    }\n",
       "</style>\n",
       "<table border=\"1\" class=\"dataframe\">\n",
       "  <thead>\n",
       "    <tr style=\"text-align: right;\">\n",
       "      <th></th>\n",
       "      <th>mati</th>\n",
       "      <th>luka</th>\n",
       "      <th>rumah</th>\n",
       "      <th>orang</th>\n",
       "      <th>keparahan</th>\n",
       "    </tr>\n",
       "  </thead>\n",
       "  <tbody>\n",
       "    <tr>\n",
       "      <th>0</th>\n",
       "      <td>0</td>\n",
       "      <td>0</td>\n",
       "      <td>0</td>\n",
       "      <td>0</td>\n",
       "      <td>rendah</td>\n",
       "    </tr>\n",
       "    <tr>\n",
       "      <th>1</th>\n",
       "      <td>0</td>\n",
       "      <td>10</td>\n",
       "      <td>15</td>\n",
       "      <td>0</td>\n",
       "      <td>sedang</td>\n",
       "    </tr>\n",
       "    <tr>\n",
       "      <th>2</th>\n",
       "      <td>0</td>\n",
       "      <td>0</td>\n",
       "      <td>18</td>\n",
       "      <td>1</td>\n",
       "      <td>sedang</td>\n",
       "    </tr>\n",
       "    <tr>\n",
       "      <th>3</th>\n",
       "      <td>0</td>\n",
       "      <td>0</td>\n",
       "      <td>0</td>\n",
       "      <td>0</td>\n",
       "      <td>rendah</td>\n",
       "    </tr>\n",
       "    <tr>\n",
       "      <th>4</th>\n",
       "      <td>0</td>\n",
       "      <td>0</td>\n",
       "      <td>6</td>\n",
       "      <td>31</td>\n",
       "      <td>sedang</td>\n",
       "    </tr>\n",
       "  </tbody>\n",
       "</table>\n",
       "</div>"
      ],
      "text/plain": [
       "   mati  luka  rumah  orang keparahan\n",
       "0     0     0      0      0    rendah\n",
       "1     0    10     15      0    sedang\n",
       "2     0     0     18      1    sedang\n",
       "3     0     0      0      0    rendah\n",
       "4     0     0      6     31    sedang"
      ]
     },
     "execution_count": 18,
     "metadata": {},
     "output_type": "execute_result"
    }
   ],
   "source": [
    "df_rest = df.drop(['title', 'description'], axis=1)\n",
    "df_rest.head()"
   ]
  },
  {
   "cell_type": "code",
   "execution_count": 7,
   "id": "9df0eb94",
   "metadata": {},
   "outputs": [],
   "source": [
    "# Declare feature vector and target variable\n",
    "X = df_rest.drop(['keparahan'], axis=1)\n",
    "y = df_rest['keparahan']"
   ]
  },
  {
   "cell_type": "code",
   "execution_count": 19,
   "id": "2edb6239",
   "metadata": {},
   "outputs": [
    {
     "data": {
      "text/html": [
       "<div>\n",
       "<style scoped>\n",
       "    .dataframe tbody tr th:only-of-type {\n",
       "        vertical-align: middle;\n",
       "    }\n",
       "\n",
       "    .dataframe tbody tr th {\n",
       "        vertical-align: top;\n",
       "    }\n",
       "\n",
       "    .dataframe thead th {\n",
       "        text-align: right;\n",
       "    }\n",
       "</style>\n",
       "<table border=\"1\" class=\"dataframe\">\n",
       "  <thead>\n",
       "    <tr style=\"text-align: right;\">\n",
       "      <th></th>\n",
       "      <th>mati</th>\n",
       "      <th>luka</th>\n",
       "      <th>rumah</th>\n",
       "      <th>orang</th>\n",
       "    </tr>\n",
       "  </thead>\n",
       "  <tbody>\n",
       "    <tr>\n",
       "      <th>count</th>\n",
       "      <td>1447.000000</td>\n",
       "      <td>1447.000000</td>\n",
       "      <td>1447.000000</td>\n",
       "      <td>1447.000000</td>\n",
       "    </tr>\n",
       "    <tr>\n",
       "      <th>mean</th>\n",
       "      <td>1.873531</td>\n",
       "      <td>89.246026</td>\n",
       "      <td>113.234969</td>\n",
       "      <td>206.154112</td>\n",
       "    </tr>\n",
       "    <tr>\n",
       "      <th>std</th>\n",
       "      <td>22.840445</td>\n",
       "      <td>2641.820933</td>\n",
       "      <td>2852.496117</td>\n",
       "      <td>3188.113715</td>\n",
       "    </tr>\n",
       "    <tr>\n",
       "      <th>min</th>\n",
       "      <td>0.000000</td>\n",
       "      <td>0.000000</td>\n",
       "      <td>0.000000</td>\n",
       "      <td>0.000000</td>\n",
       "    </tr>\n",
       "    <tr>\n",
       "      <th>25%</th>\n",
       "      <td>0.000000</td>\n",
       "      <td>0.000000</td>\n",
       "      <td>0.000000</td>\n",
       "      <td>0.000000</td>\n",
       "    </tr>\n",
       "    <tr>\n",
       "      <th>50%</th>\n",
       "      <td>0.000000</td>\n",
       "      <td>0.000000</td>\n",
       "      <td>0.000000</td>\n",
       "      <td>0.000000</td>\n",
       "    </tr>\n",
       "    <tr>\n",
       "      <th>75%</th>\n",
       "      <td>0.000000</td>\n",
       "      <td>0.000000</td>\n",
       "      <td>1.000000</td>\n",
       "      <td>1.000000</td>\n",
       "    </tr>\n",
       "    <tr>\n",
       "      <th>max</th>\n",
       "      <td>443.000000</td>\n",
       "      <td>100000.000000</td>\n",
       "      <td>103539.000000</td>\n",
       "      <td>99559.000000</td>\n",
       "    </tr>\n",
       "  </tbody>\n",
       "</table>\n",
       "</div>"
      ],
      "text/plain": [
       "              mati           luka          rumah         orang\n",
       "count  1447.000000    1447.000000    1447.000000   1447.000000\n",
       "mean      1.873531      89.246026     113.234969    206.154112\n",
       "std      22.840445    2641.820933    2852.496117   3188.113715\n",
       "min       0.000000       0.000000       0.000000      0.000000\n",
       "25%       0.000000       0.000000       0.000000      0.000000\n",
       "50%       0.000000       0.000000       0.000000      0.000000\n",
       "75%       0.000000       0.000000       1.000000      1.000000\n",
       "max     443.000000  100000.000000  103539.000000  99559.000000"
      ]
     },
     "execution_count": 19,
     "metadata": {},
     "output_type": "execute_result"
    }
   ],
   "source": [
    "X.describe()"
   ]
  },
  {
   "cell_type": "code",
   "execution_count": 20,
   "id": "a2ab3387",
   "metadata": {},
   "outputs": [],
   "source": [
    "# Split X and y into training and testing sets\n",
    "\n",
    "from sklearn.model_selection import train_test_split\n",
    "\n",
    "X_train, X_test, y_train, y_test = train_test_split(X, y, test_size = 0.1, random_state = 0)"
   ]
  },
  {
   "cell_type": "code",
   "execution_count": 34,
   "id": "6a66d1fc",
   "metadata": {},
   "outputs": [
    {
     "data": {
      "text/plain": [
       "1302"
      ]
     },
     "execution_count": 34,
     "metadata": {},
     "output_type": "execute_result"
    }
   ],
   "source": [
    "len(X_train)"
   ]
  },
  {
   "cell_type": "code",
   "execution_count": 35,
   "id": "a2d47855",
   "metadata": {},
   "outputs": [
    {
     "data": {
      "text/plain": [
       "145"
      ]
     },
     "execution_count": 35,
     "metadata": {},
     "output_type": "execute_result"
    }
   ],
   "source": [
    "len(X_test)"
   ]
  },
  {
   "cell_type": "code",
   "execution_count": 29,
   "id": "04673ea6",
   "metadata": {},
   "outputs": [
    {
     "ename": "AttributeError",
     "evalue": "'numpy.ndarray' object has no attribute 'info'",
     "output_type": "error",
     "traceback": [
      "\u001b[0;31m---------------------------------------------------------------------------\u001b[0m",
      "\u001b[0;31mAttributeError\u001b[0m                            Traceback (most recent call last)",
      "\u001b[1;32m/Users/syubbanfakhriya/Desktop/Repository/news_classification/classification/naive_bayes.ipynb Cell 17\u001b[0m in \u001b[0;36m<cell line: 1>\u001b[0;34m()\u001b[0m\n\u001b[0;32m----> <a href='vscode-notebook-cell:/Users/syubbanfakhriya/Desktop/Repository/news_classification/classification/naive_bayes.ipynb#ch0000032?line=0'>1</a>\u001b[0m X_train\u001b[39m.\u001b[39;49minfo()\n",
      "\u001b[0;31mAttributeError\u001b[0m: 'numpy.ndarray' object has no attribute 'info'"
     ]
    }
   ],
   "source": [
    "X_train"
   ]
  },
  {
   "cell_type": "code",
   "execution_count": 7,
   "id": "8cbfc2d0",
   "metadata": {},
   "outputs": [
    {
     "data": {
      "text/plain": [
       "((1012, 4), (435, 4))"
      ]
     },
     "execution_count": 7,
     "metadata": {},
     "output_type": "execute_result"
    }
   ],
   "source": [
    "# Check the shape of X_train and X_test\n",
    "\n",
    "X_train.shape, X_test.shape"
   ]
  },
  {
   "cell_type": "code",
   "execution_count": 22,
   "id": "dcb4ad71",
   "metadata": {},
   "outputs": [],
   "source": [
    "# Feature scaling\n",
    "from sklearn.preprocessing import StandardScaler\n",
    "\n",
    "scaler = StandardScaler()\n",
    "\n",
    "X_train = scaler.fit_transform(X_train)\n",
    "X_test = scaler.transform(X_test)"
   ]
  },
  {
   "cell_type": "code",
   "execution_count": 23,
   "id": "0db7d404",
   "metadata": {},
   "outputs": [
    {
     "data": {
      "text/html": [
       "<style>#sk-container-id-1 {color: black;background-color: white;}#sk-container-id-1 pre{padding: 0;}#sk-container-id-1 div.sk-toggleable {background-color: white;}#sk-container-id-1 label.sk-toggleable__label {cursor: pointer;display: block;width: 100%;margin-bottom: 0;padding: 0.3em;box-sizing: border-box;text-align: center;}#sk-container-id-1 label.sk-toggleable__label-arrow:before {content: \"▸\";float: left;margin-right: 0.25em;color: #696969;}#sk-container-id-1 label.sk-toggleable__label-arrow:hover:before {color: black;}#sk-container-id-1 div.sk-estimator:hover label.sk-toggleable__label-arrow:before {color: black;}#sk-container-id-1 div.sk-toggleable__content {max-height: 0;max-width: 0;overflow: hidden;text-align: left;background-color: #f0f8ff;}#sk-container-id-1 div.sk-toggleable__content pre {margin: 0.2em;color: black;border-radius: 0.25em;background-color: #f0f8ff;}#sk-container-id-1 input.sk-toggleable__control:checked~div.sk-toggleable__content {max-height: 200px;max-width: 100%;overflow: auto;}#sk-container-id-1 input.sk-toggleable__control:checked~label.sk-toggleable__label-arrow:before {content: \"▾\";}#sk-container-id-1 div.sk-estimator input.sk-toggleable__control:checked~label.sk-toggleable__label {background-color: #d4ebff;}#sk-container-id-1 div.sk-label input.sk-toggleable__control:checked~label.sk-toggleable__label {background-color: #d4ebff;}#sk-container-id-1 input.sk-hidden--visually {border: 0;clip: rect(1px 1px 1px 1px);clip: rect(1px, 1px, 1px, 1px);height: 1px;margin: -1px;overflow: hidden;padding: 0;position: absolute;width: 1px;}#sk-container-id-1 div.sk-estimator {font-family: monospace;background-color: #f0f8ff;border: 1px dotted black;border-radius: 0.25em;box-sizing: border-box;margin-bottom: 0.5em;}#sk-container-id-1 div.sk-estimator:hover {background-color: #d4ebff;}#sk-container-id-1 div.sk-parallel-item::after {content: \"\";width: 100%;border-bottom: 1px solid gray;flex-grow: 1;}#sk-container-id-1 div.sk-label:hover label.sk-toggleable__label {background-color: #d4ebff;}#sk-container-id-1 div.sk-serial::before {content: \"\";position: absolute;border-left: 1px solid gray;box-sizing: border-box;top: 0;bottom: 0;left: 50%;z-index: 0;}#sk-container-id-1 div.sk-serial {display: flex;flex-direction: column;align-items: center;background-color: white;padding-right: 0.2em;padding-left: 0.2em;position: relative;}#sk-container-id-1 div.sk-item {position: relative;z-index: 1;}#sk-container-id-1 div.sk-parallel {display: flex;align-items: stretch;justify-content: center;background-color: white;position: relative;}#sk-container-id-1 div.sk-item::before, #sk-container-id-1 div.sk-parallel-item::before {content: \"\";position: absolute;border-left: 1px solid gray;box-sizing: border-box;top: 0;bottom: 0;left: 50%;z-index: -1;}#sk-container-id-1 div.sk-parallel-item {display: flex;flex-direction: column;z-index: 1;position: relative;background-color: white;}#sk-container-id-1 div.sk-parallel-item:first-child::after {align-self: flex-end;width: 50%;}#sk-container-id-1 div.sk-parallel-item:last-child::after {align-self: flex-start;width: 50%;}#sk-container-id-1 div.sk-parallel-item:only-child::after {width: 0;}#sk-container-id-1 div.sk-dashed-wrapped {border: 1px dashed gray;margin: 0 0.4em 0.5em 0.4em;box-sizing: border-box;padding-bottom: 0.4em;background-color: white;}#sk-container-id-1 div.sk-label label {font-family: monospace;font-weight: bold;display: inline-block;line-height: 1.2em;}#sk-container-id-1 div.sk-label-container {text-align: center;}#sk-container-id-1 div.sk-container {/* jupyter's `normalize.less` sets `[hidden] { display: none; }` but bootstrap.min.css set `[hidden] { display: none !important; }` so we also need the `!important` here to be able to override the default hidden behavior on the sphinx rendered scikit-learn.org. See: https://github.com/scikit-learn/scikit-learn/issues/21755 */display: inline-block !important;position: relative;}#sk-container-id-1 div.sk-text-repr-fallback {display: none;}</style><div id=\"sk-container-id-1\" class=\"sk-top-container\"><div class=\"sk-text-repr-fallback\"><pre>GaussianNB()</pre><b>In a Jupyter environment, please rerun this cell to show the HTML representation or trust the notebook. <br />On GitHub, the HTML representation is unable to render, please try loading this page with nbviewer.org.</b></div><div class=\"sk-container\" hidden><div class=\"sk-item\"><div class=\"sk-estimator sk-toggleable\"><input class=\"sk-toggleable__control sk-hidden--visually\" id=\"sk-estimator-id-1\" type=\"checkbox\" checked><label for=\"sk-estimator-id-1\" class=\"sk-toggleable__label sk-toggleable__label-arrow\">GaussianNB</label><div class=\"sk-toggleable__content\"><pre>GaussianNB()</pre></div></div></div></div></div>"
      ],
      "text/plain": [
       "GaussianNB()"
      ]
     },
     "execution_count": 23,
     "metadata": {},
     "output_type": "execute_result"
    }
   ],
   "source": [
    "# Create model\n",
    "from sklearn.naive_bayes import GaussianNB\n",
    "## Instantiate the model\n",
    "gnb = GaussianNB()\n",
    "\n",
    "## Fit the model\n",
    "gnb.fit(X_train, y_train)"
   ]
  },
  {
   "cell_type": "code",
   "execution_count": 12,
   "id": "36a5027d",
   "metadata": {},
   "outputs": [
    {
     "data": {
      "text/plain": [
       "['model/naive_bayes.pkl']"
      ]
     },
     "execution_count": 12,
     "metadata": {},
     "output_type": "execute_result"
    }
   ],
   "source": [
    "joblib.dump(gnb, \"model/naive_bayes.pkl\")"
   ]
  },
  {
   "cell_type": "code",
   "execution_count": 37,
   "id": "48ac6f72",
   "metadata": {},
   "outputs": [
    {
     "data": {
      "text/plain": [
       "array(['sedang', 'rendah', 'sedang', 'rendah', 'rendah', 'sedang',\n",
       "       'sedang', 'rendah', 'sedang', 'rendah', 'rendah', 'rendah',\n",
       "       'sedang', 'sedang', 'rendah', 'rendah', 'rendah', 'rendah',\n",
       "       'rendah', 'sedang', 'rendah', 'rendah', 'rendah', 'rendah',\n",
       "       'rendah', 'rendah', 'rendah', 'rendah', 'parah', 'rendah',\n",
       "       'sedang', 'sedang', 'rendah', 'sedang', 'rendah', 'rendah',\n",
       "       'sedang', 'rendah', 'rendah', 'sedang', 'rendah', 'rendah',\n",
       "       'sedang', 'rendah', 'sedang', 'sedang', 'sedang', 'sedang',\n",
       "       'rendah', 'rendah', 'sedang', 'rendah', 'sedang', 'sedang',\n",
       "       'rendah', 'rendah', 'rendah', 'rendah', 'rendah', 'sedang',\n",
       "       'rendah', 'sedang', 'rendah', 'rendah', 'rendah', 'parah',\n",
       "       'sedang', 'rendah', 'rendah', 'rendah', 'rendah', 'rendah',\n",
       "       'rendah', 'rendah', 'sedang', 'rendah', 'rendah', 'rendah',\n",
       "       'rendah', 'rendah', 'rendah', 'sedang', 'rendah', 'rendah',\n",
       "       'rendah', 'sedang', 'sedang', 'rendah', 'rendah', 'rendah',\n",
       "       'rendah', 'rendah', 'rendah', 'sedang', 'parah', 'rendah',\n",
       "       'sedang', 'rendah', 'sedang', 'rendah', 'sedang', 'rendah',\n",
       "       'rendah', 'rendah', 'rendah', 'sedang', 'rendah', 'rendah',\n",
       "       'rendah', 'sedang', 'rendah', 'rendah', 'sedang', 'rendah',\n",
       "       'rendah', 'rendah', 'sedang', 'rendah', 'rendah', 'rendah',\n",
       "       'rendah', 'sedang', 'rendah', 'rendah', 'rendah', 'sedang',\n",
       "       'sedang', 'rendah', 'sedang', 'rendah', 'rendah', 'sedang',\n",
       "       'parah', 'rendah', 'rendah', 'sedang', 'sedang', 'sedang',\n",
       "       'rendah', 'rendah', 'sedang', 'rendah', 'rendah', 'rendah',\n",
       "       'rendah'], dtype='<U6')"
      ]
     },
     "execution_count": 37,
     "metadata": {},
     "output_type": "execute_result"
    }
   ],
   "source": [
    "y_pred = gnb.predict(X_test)\n",
    "\n",
    "y_pred"
   ]
  },
  {
   "cell_type": "code",
   "execution_count": 38,
   "id": "7fa1091a",
   "metadata": {},
   "outputs": [
    {
     "name": "stdout",
     "output_type": "stream",
     "text": [
      "Model accuracy score : 0.9310\n"
     ]
    }
   ],
   "source": [
    "# Check accuracy score\n",
    "from sklearn.metrics import accuracy_score\n",
    "\n",
    "print('Model accuracy score : {0:0.4f}'.format(accuracy_score(y_test, y_pred)))"
   ]
  },
  {
   "cell_type": "code",
   "execution_count": 12,
   "id": "8ea9cf7d",
   "metadata": {},
   "outputs": [
    {
     "data": {
      "text/plain": [
       "array(['rendah', 'rendah', 'rendah', ..., 'sedang', 'rendah', 'rendah'],\n",
       "      dtype='<U6')"
      ]
     },
     "execution_count": 12,
     "metadata": {},
     "output_type": "execute_result"
    }
   ],
   "source": [
    "y_pred_train = gnb.predict(X_train)\n",
    "\n",
    "y_pred_train"
   ]
  },
  {
   "cell_type": "code",
   "execution_count": 24,
   "id": "f54e5e70",
   "metadata": {},
   "outputs": [
    {
     "name": "stdout",
     "output_type": "stream",
     "text": [
      "Training set score: 0.9201\n",
      "Test set score: 0.9310\n"
     ]
    }
   ],
   "source": [
    "# Print the scores on training and test set\n",
    "print('Training set score: {:.4f}'.format(gnb.score(X_train, y_train)))\n",
    "print('Test set score: {:.4f}'.format(gnb.score(X_test, y_test)))"
   ]
  },
  {
   "cell_type": "code",
   "execution_count": 25,
   "id": "c56701f0",
   "metadata": {},
   "outputs": [
    {
     "name": "stdout",
     "output_type": "stream",
     "text": [
      "y_test: Class\n"
     ]
    },
    {
     "data": {
      "text/plain": [
       "rendah    95\n",
       "sedang    43\n",
       "parah      7\n",
       "Name: keparahan, dtype: int64"
      ]
     },
     "execution_count": 25,
     "metadata": {},
     "output_type": "execute_result"
    }
   ],
   "source": [
    "# Check class distribution in test set\n",
    "print(\"y_test: Class\")\n",
    "y_test.value_counts()"
   ]
  },
  {
   "cell_type": "code",
   "execution_count": 384,
   "id": "d8cdfb87",
   "metadata": {},
   "outputs": [
    {
     "name": "stdout",
     "output_type": "stream",
     "text": [
      "y_train: Class\n"
     ]
    },
    {
     "data": {
      "text/plain": [
       "rendah    685\n",
       "sedang    252\n",
       "parah      75\n",
       "Name: keparahan, dtype: int64"
      ]
     },
     "execution_count": 384,
     "metadata": {},
     "output_type": "execute_result"
    }
   ],
   "source": [
    "print(\"y_train: Class\")\n",
    "y_train.value_counts()"
   ]
  },
  {
   "cell_type": "code",
   "execution_count": 27,
   "id": "00ad6d80",
   "metadata": {},
   "outputs": [],
   "source": [
    "# Print the Confusion Matrix and slice it into four pieces\n",
    "from sklearn.svm import SVC\n",
    "from sklearn.metrics import confusion_matrix\n",
    "import matplotlib.pyplot as plt # for data visualization purposes\n",
    "import seaborn as sns # for statistical data visualization\n",
    "%matplotlib inline"
   ]
  },
  {
   "cell_type": "code",
   "execution_count": 394,
   "id": "26476ece",
   "metadata": {},
   "outputs": [],
   "source": [
    "clf = SVC(kernel = 'linear').fit(X_train,y_train)\n",
    "clf.predict(X_train)\n",
    "\n",
    "y_pred = clf.predict(X_test)\n",
    "\n",
    "cm = confusion_matrix(y_test, y_pred)\n",
    "cm_df = pd.DataFrame(cm,\n",
    "                     index = ['rendah','sedang','parah'], \n",
    "                     columns = ['rendah','sedang','parah'])"
   ]
  },
  {
   "cell_type": "code",
   "execution_count": 39,
   "id": "a391441b",
   "metadata": {},
   "outputs": [
    {
     "data": {
      "image/png": "[encoded data removed]",
      "text/plain": [
       "<Figure size 936x504 with 2 Axes>"
      ]
     },
     "metadata": {
      "needs_background": "light"
     },
     "output_type": "display_data"
    }
   ],
   "source": [
    "cm=confusion_matrix(y_test,y_pred)\n",
    "cm_df = pd.DataFrame(cm,\n",
    "                     index = ['rendah','sedang','parah'], \n",
    "                     columns = ['rendah','sedang','parah'])\n",
    "plt.figure(figsize=(13,7))\n",
    "plt.title(\"Confusion Matrix\")\n",
    "sns.heatmap(cm_df, annot=True,fmt='d', cmap='Blues')\n",
    "plt.ylabel(\"Actual Values\")\n",
    "plt.xlabel(\"Predicted Values\")\n",
    "plt.savefig('confusion_matrix.png')"
   ]
  },
  {
   "cell_type": "code",
   "execution_count": 22,
   "id": "4e4e0a67",
   "metadata": {},
   "outputs": [
    {
     "name": "stdout",
     "output_type": "stream",
     "text": [
      "              precision    recall  f1-score   support\n",
      "\n",
      "      rendah       0.70      0.27      0.39        26\n",
      "      sedang       0.99      0.99      0.99       294\n",
      "       parah       0.83      0.95      0.89       115\n",
      "\n",
      "    accuracy                           0.94       435\n",
      "   macro avg       0.84      0.74      0.75       435\n",
      "weighted avg       0.93      0.94      0.93       435\n",
      "\n"
     ]
    }
   ],
   "source": [
    "from sklearn.metrics import classification_report\n",
    "\n",
    "print(classification_report(y_test, y_pred, target_names=['rendah', 'sedang', 'parah']))"
   ]
  },
  {
   "cell_type": "code",
   "execution_count": 2,
   "id": "ba5c5525",
   "metadata": {},
   "outputs": [
    {
     "ename": "NameError",
     "evalue": "name 'gnb' is not defined",
     "output_type": "error",
     "traceback": [
      "\u001b[0;31m---------------------------------------------------------------------------\u001b[0m",
      "\u001b[0;31mNameError\u001b[0m                                 Traceback (most recent call last)",
      "\u001b[1;32m/Users/syubbanfakhriya/Desktop/Repository/news_classification/classification/naive_bayes.ipynb Cell 30\u001b[0m in \u001b[0;36m<cell line: 5>\u001b[0;34m()\u001b[0m\n\u001b[1;32m      <a href='vscode-notebook-cell:/Users/syubbanfakhriya/Desktop/Repository/news_classification/classification/naive_bayes.ipynb#ch0000029?line=0'>1</a>\u001b[0m \u001b[39m# Applying 10-Fold Cross Validation\u001b[39;00m\n\u001b[1;32m      <a href='vscode-notebook-cell:/Users/syubbanfakhriya/Desktop/Repository/news_classification/classification/naive_bayes.ipynb#ch0000029?line=2'>3</a>\u001b[0m \u001b[39mfrom\u001b[39;00m \u001b[39msklearn\u001b[39;00m\u001b[39m.\u001b[39;00m\u001b[39mmodel_selection\u001b[39;00m \u001b[39mimport\u001b[39;00m cross_val_score\n\u001b[0;32m----> <a href='vscode-notebook-cell:/Users/syubbanfakhriya/Desktop/Repository/news_classification/classification/naive_bayes.ipynb#ch0000029?line=4'>5</a>\u001b[0m scores \u001b[39m=\u001b[39m cross_val_score(gnb, X_train, y_train, cv \u001b[39m=\u001b[39m \u001b[39m10\u001b[39m, scoring\u001b[39m=\u001b[39m\u001b[39m'\u001b[39m\u001b[39maccuracy\u001b[39m\u001b[39m'\u001b[39m)\n\u001b[1;32m      <a href='vscode-notebook-cell:/Users/syubbanfakhriya/Desktop/Repository/news_classification/classification/naive_bayes.ipynb#ch0000029?line=6'>7</a>\u001b[0m \u001b[39mprint\u001b[39m(\u001b[39m'\u001b[39m\u001b[39mCross-validation scores:\u001b[39m\u001b[39m{}\u001b[39;00m\u001b[39m'\u001b[39m\u001b[39m.\u001b[39mformat(scores))\n",
      "\u001b[0;31mNameError\u001b[0m: name 'gnb' is not defined"
     ]
    }
   ],
   "source": [
    "# Applying 10-Fold Cross Validation\n",
    "\n",
    "from sklearn.model_selection import cross_val_score\n",
    "\n",
    "scores = cross_val_score(gnb, X_train, y_train, cv = 10, scoring='accuracy')\n",
    "\n",
    "print('Cross-validation scores:{}'.format(scores))"
   ]
  },
  {
   "cell_type": "code",
   "execution_count": 26,
   "id": "c06ab6ee",
   "metadata": {},
   "outputs": [
    {
     "name": "stdout",
     "output_type": "stream",
     "text": [
      "Average cross-validation score: 0.9121\n"
     ]
    }
   ],
   "source": [
    "# compute Average cross-validation score\n",
    "\n",
    "print('Average cross-validation score: {:.4f}'.format(scores.mean()))"
   ]
  },
  {
   "cell_type": "code",
   "execution_count": 392,
   "id": "4d6f9ae3",
   "metadata": {},
   "outputs": [
    {
     "data": {
      "text/plain": [
       "<seaborn.matrix.ClusterGrid at 0x28a899940>"
      ]
     },
     "execution_count": 392,
     "metadata": {},
     "output_type": "execute_result"
    },
    {
     "data": {
      "image/png": "[encoded data removed]",
      "text/plain": [
       "<Figure size 432x288 with 2 Axes>"
      ]
     },
     "metadata": {
      "needs_background": "light"
     },
     "output_type": "display_data"
    },
    {
     "data": {
      "image/png": "[encoded data removed]",
      "text/plain": [
       "<Figure size 720x720 with 4 Axes>"
      ]
     },
     "metadata": {
      "needs_background": "light"
     },
     "output_type": "display_data"
    }
   ],
   "source": [
    "# Model improvements\n",
    "import seaborn as sns\n",
    "\n",
    "# calculate the correlations\n",
    "correlations = df.corr()\n",
    "\n",
    "# plot the heatmap \n",
    "sns.heatmap(correlations, xticklabels=correlations.columns, yticklabels=correlations.columns, annot=True)\n",
    "\n",
    "# plot the clustermap \n",
    "sns.clustermap(correlations, xticklabels=correlations.columns, yticklabels=correlations.columns, annot=True)"
   ]
  }
 ],
 "metadata": {
  "kernelspec": {
   "display_name": "venv",
   "language": "python",
   "name": "python3"
  },
  "language_info": {
   "codemirror_mode": {
    "name": "ipython",
    "version": 3
   },
   "file_extension": ".py",
   "mimetype": "text/x-python",
   "name": "python",
   "nbconvert_exporter": "python",
   "pygments_lexer": "ipython3",
   "version": "3.9.13 (tags/v3.9.13:6de2ca5, May 17 2022, 16:36:42) [MSC v.1929 64 bit (AMD64)]"
  },
  "vscode": {
   "interpreter": {
    "hash": "905fc7ad738d4a245cabb3a2769a9f6f473849a63169dd5ebd94df3edb75ca90"
   }
  }
 },
 "nbformat": 4,
 "nbformat_minor": 5
}
