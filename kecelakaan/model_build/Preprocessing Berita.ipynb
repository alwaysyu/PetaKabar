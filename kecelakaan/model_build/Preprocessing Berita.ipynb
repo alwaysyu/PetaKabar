{
 "cells": [
  {
   "cell_type": "code",
   "execution_count": 1,
   "metadata": {},
   "outputs": [
    {
     "name": "stderr",
     "output_type": "stream",
     "text": [
      "[nltk_data] Downloading package stopwords to\n",
      "[nltk_data]     C:\\Users\\RayRoyy\\AppData\\Roaming\\nltk_data...\n",
      "[nltk_data]   Package stopwords is already up-to-date!\n"
     ]
    }
   ],
   "source": [
    "# Import library-library\n",
    "import os\n",
    "import glob\n",
    "import string\n",
    "\n",
    "# Data Preparation and Preprocessing\n",
    "import pandas as pd\n",
    "import re\n",
    "import nltk\n",
    "nltk.download('stopwords')\n",
    "from nltk.corpus import stopwords\n",
    "\n",
    "# Word Embedding\n",
    "import joblib\n",
    "from sklearn.feature_extraction.text import TfidfVectorizer\n",
    "import scipy.sparse\n",
    "\n",
    "from sklearn.metrics.pairwise import cosine_similarity\n",
    "\n",
    "# Input and Expansion Query\n",
    "from textblob import TextBlob\n",
    "from nltk.tokenize import wordpunct_tokenize\n",
    "#from googletrans import Translator\n",
    "\n",
    "#Split to train and test\n",
    "from sklearn.model_selection import train_test_split\n",
    "\n",
    "import mysql.connector\n",
    "from mysql.connector import errorcode"
   ]
  },
  {
   "cell_type": "code",
   "execution_count": 2,
   "metadata": {},
   "outputs": [],
   "source": [
    "excluded_words = []\n",
    "\n",
    "NLTK_StopWords = stopwords.words('indonesian')\n",
    "NLTK_StopWords.extend([\"detik\", \"detikjatim\", \"detikjateng\", \"detikjabar\", \"detiksulsel\", \"detiksumbar\", \"detikbali\", \"detikpapua\", \"detiksulteng\", \"detikmaluku\", \"detjatim\", \"detikcom\", \"allahumma\", \"aamiin\", \"aamiin\", \"allah\", \"bismillah\"])\n",
    "NLTK_StopWords.extend([\"yg\", \"dg\", \"rt\", \"dgn\", \"ny\", \"d\", 'klo', \n",
    "                       'kalo', 'amp', 'biar', 'bikin', 'bilang', \n",
    "                       'gak', 'ga', 'krn', 'nya', 'nih', 'sih', \n",
    "                       'si', 'tau', 'tdk', 'tuh', 'utk', 'ya', \n",
    "                       'jd', 'jgn', 'sdh', 'aja', 'n', 't', \n",
    "                       'nyg', 'hehe', 'pen', 'u', 'nan', 'loh', 'rt',\n",
    "                       '&amp', 'yah'])\n",
    "txt_stopword = pd.read_csv(\"stopwords.txt\", names= [\"stopwords\"], header = None)\n",
    "\n",
    "# convert stopword string to list & append additional stopword\n",
    "NLTK_StopWords.extend(txt_stopword[\"stopwords\"][0].split(' '))\n",
    "NLTK_StopWords = set(NLTK_StopWords)"
   ]
  },
  {
   "cell_type": "code",
   "execution_count": 3,
   "metadata": {},
   "outputs": [],
   "source": [
    "def preprocessing(berita):\n",
    "    # Preprocessing\n",
    "    s = str(berita)\n",
    "    s = s.lower()\n",
    "    s = s.replace('\\n', ' ')\n",
    "    s = s.replace('\\r', ' ')\n",
    "    s = re.sub(r'[^a-zA-Z0-9\\s]', ' ', s)\n",
    "    tokens = [token for token in s.split(\" \") if token != \"\"]\n",
    "\n",
    "    # Stopwords checking\n",
    "    T = [t for t in tokens if ((t in excluded_words) or (t not in NLTK_StopWords))]\n",
    "    return T"
   ]
  },
  {
   "cell_type": "code",
   "execution_count": 4,
   "metadata": {},
   "outputs": [],
   "source": [
    "# df =pd.read_csv(\"news.csv\")\n",
    "# df.info()\n",
    "# df.head()\n",
    "dataframe = []\n",
    "\n",
    "try:\n",
    "        cnx = mysql.connector.connect(user='admin', password='admin', database = 'Petakabar')\n",
    "        cursor = cnx.cursor()\n",
    "\n",
    "        ambildata = (\"SELECT berita_title, berita_date, berita_desc, berita_source FROM berita where berita_topik_id = 3 and class_classification is not null\")\n",
    "        cursor.execute(ambildata)\n",
    "        dataa = cursor.fetchall()\n",
    "        for row in dataa:\n",
    "            dataframe.append(row)\n",
    "        \n",
    "except mysql.connector.Error as err:\n",
    "        if err.errno == errorcode.ER_ACCESS_DENIED_ERROR:\n",
    "            print(\"Something is wrong with your user name or password\")\n",
    "        elif err.errno == errorcode.ER_BAD_DB_ERROR:\n",
    "            print(\"Database does not exist\")\n",
    "        else:\n",
    "            print(err)\n",
    "else:\n",
    "    cursor.close()\n",
    "    cnx.close()"
   ]
  },
  {
   "cell_type": "code",
   "execution_count": 5,
   "metadata": {},
   "outputs": [],
   "source": [
    "import pandas as pd\n",
    "writer = pd.DataFrame(dataframe, columns=[\n",
    "                    'Title','Date','Description', 'Source'], index=None)\n",
    "writer.to_csv('news.csv', index=False, sep=',')"
   ]
  },
  {
   "cell_type": "code",
   "execution_count": 6,
   "metadata": {},
   "outputs": [
    {
     "name": "stdout",
     "output_type": "stream",
     "text": [
      "<class 'pandas.core.frame.DataFrame'>\n",
      "RangeIndex: 922 entries, 0 to 921\n",
      "Data columns (total 4 columns):\n",
      " #   Column       Non-Null Count  Dtype \n",
      "---  ------       --------------  ----- \n",
      " 0   Title        922 non-null    object\n",
      " 1   Date         922 non-null    object\n",
      " 2   Description  922 non-null    object\n",
      " 3   Source       922 non-null    object\n",
      "dtypes: object(4)\n",
      "memory usage: 28.9+ KB\n"
     ]
    },
    {
     "data": {
      "text/html": [
       "<div>\n",
       "<style scoped>\n",
       "    .dataframe tbody tr th:only-of-type {\n",
       "        vertical-align: middle;\n",
       "    }\n",
       "\n",
       "    .dataframe tbody tr th {\n",
       "        vertical-align: top;\n",
       "    }\n",
       "\n",
       "    .dataframe thead th {\n",
       "        text-align: right;\n",
       "    }\n",
       "</style>\n",
       "<table border=\"1\" class=\"dataframe\">\n",
       "  <thead>\n",
       "    <tr style=\"text-align: right;\">\n",
       "      <th></th>\n",
       "      <th>Title</th>\n",
       "      <th>Date</th>\n",
       "      <th>Description</th>\n",
       "      <th>Source</th>\n",
       "    </tr>\n",
       "  </thead>\n",
       "  <tbody>\n",
       "    <tr>\n",
       "      <th>0</th>\n",
       "      <td>Bus Wisata Terjun ke Jurang Sedalam 30 Meter d...</td>\n",
       "      <td>Senin, 05 Des 2022 10:44 WIB</td>\n",
       "      <td>Bus wisata yang berangkat dari Semarang kecela...</td>\n",
       "      <td>www.tribunnews.com</td>\n",
       "    </tr>\n",
       "    <tr>\n",
       "      <th>1</th>\n",
       "      <td>Kronologi Minibus Rombongan Pelayat Masuk Jura...</td>\n",
       "      <td>Selasa, 29 Nov 2022 10:05 WIB</td>\n",
       "      <td>\\- Kecelakaan maut minibus rombongan pelayat m...</td>\n",
       "      <td>www.tribunnews.com</td>\n",
       "    </tr>\n",
       "    <tr>\n",
       "      <th>2</th>\n",
       "      <td>Kendaraan Pembawa Bantuan Gempa Cianjur Kecela...</td>\n",
       "      <td>Kamis, 08 Des 2022 10:30 WIB</td>\n",
       "      <td>Kecelakaan terjadi di Tol Cipali atau Cikopo-P...</td>\n",
       "      <td>www.tribunnews.com</td>\n",
       "    </tr>\n",
       "    <tr>\n",
       "      <th>3</th>\n",
       "      <td>Truk Boks Masuk Jurang Sedalam 100 Meter di Ga...</td>\n",
       "      <td>Selasa, 06 Des 2022 11:08 WIB</td>\n",
       "      <td>Satu unit truk boks terjun ke jurang sedalam 1...</td>\n",
       "      <td>www.tribunnews.com</td>\n",
       "    </tr>\n",
       "    <tr>\n",
       "      <th>4</th>\n",
       "      <td>Dugaan Penyebab Tabrakan Kapal Roro MV Serasi ...</td>\n",
       "      <td>Minggu, 04 Des 2022 09:32 WIB</td>\n",
       "      <td>Sebanyak 17 awak kapal roro MV Serasi I yang m...</td>\n",
       "      <td>www.kompas.com</td>\n",
       "    </tr>\n",
       "  </tbody>\n",
       "</table>\n",
       "</div>"
      ],
      "text/plain": [
       "                                               Title  \\\n",
       "0  Bus Wisata Terjun ke Jurang Sedalam 30 Meter d...   \n",
       "1  Kronologi Minibus Rombongan Pelayat Masuk Jura...   \n",
       "2  Kendaraan Pembawa Bantuan Gempa Cianjur Kecela...   \n",
       "3  Truk Boks Masuk Jurang Sedalam 100 Meter di Ga...   \n",
       "4  Dugaan Penyebab Tabrakan Kapal Roro MV Serasi ...   \n",
       "\n",
       "                            Date  \\\n",
       "0   Senin, 05 Des 2022 10:44 WIB   \n",
       "1  Selasa, 29 Nov 2022 10:05 WIB   \n",
       "2   Kamis, 08 Des 2022 10:30 WIB   \n",
       "3  Selasa, 06 Des 2022 11:08 WIB   \n",
       "4  Minggu, 04 Des 2022 09:32 WIB   \n",
       "\n",
       "                                         Description              Source  \n",
       "0  Bus wisata yang berangkat dari Semarang kecela...  www.tribunnews.com  \n",
       "1  \\- Kecelakaan maut minibus rombongan pelayat m...  www.tribunnews.com  \n",
       "2  Kecelakaan terjadi di Tol Cipali atau Cikopo-P...  www.tribunnews.com  \n",
       "3  Satu unit truk boks terjun ke jurang sedalam 1...  www.tribunnews.com  \n",
       "4  Sebanyak 17 awak kapal roro MV Serasi I yang m...      www.kompas.com  "
      ]
     },
     "execution_count": 6,
     "metadata": {},
     "output_type": "execute_result"
    }
   ],
   "source": [
    "df =pd.read_csv(\"news.csv\")\n",
    "df.info()\n",
    "df.head()"
   ]
  },
  {
   "cell_type": "code",
   "execution_count": 7,
   "metadata": {},
   "outputs": [],
   "source": [
    "column = ['Title', 'Date', 'Description', 'Source']\n",
    "df_total = pd.DataFrame()\n",
    "\n",
    "df = pd.read_csv(\"news.csv\")\n",
    "df = df.dropna(subset=['Description'], axis=0)\n",
    "df.sort_values(\"Description\", inplace = True)\n",
    "df.drop_duplicates(subset =\"Description\", keep = False, inplace = True)\n",
    "\n",
    "df.head()\n",
    "df_train_unprocessed, df_test_unprocessed = train_test_split(df,test_size=0.1)"
   ]
  },
  {
   "cell_type": "code",
   "execution_count": 8,
   "metadata": {},
   "outputs": [
    {
     "data": {
      "text/plain": [
       "829"
      ]
     },
     "execution_count": 8,
     "metadata": {},
     "output_type": "execute_result"
    }
   ],
   "source": [
    "# df_first_1000 = df.head(1000)\n",
    "# len(df_first_1000)\n",
    "df_train, df_test = train_test_split(df,test_size=0.1)\n",
    "len(df_train)\n"
   ]
  },
  {
   "cell_type": "code",
   "execution_count": 9,
   "metadata": {},
   "outputs": [],
   "source": [
    "df_train.to_csv(\"corpus/df_train_unprerocessed.csv\" , index = None, header=True)\n",
    "df_test.to_csv(\"corpus/df_test_unprerocessed.csv\" , index = None, header=True)"
   ]
  },
  {
   "cell_type": "code",
   "execution_count": 10,
   "metadata": {},
   "outputs": [
    {
     "data": {
      "text/plain": [
       "['corpus/model/desc_text_test_unprocessed.pkl']"
      ]
     },
     "execution_count": 10,
     "metadata": {},
     "output_type": "execute_result"
    }
   ],
   "source": [
    "desc_text_test_unprocessed = []\n",
    "\n",
    "for x in range(0, df_test_unprocessed.shape[0]):\n",
    "  desc_text_test_unprocessed.append(df_test_unprocessed.iloc[x, -2])\n",
    "\n",
    "joblib.dump(desc_text_test_unprocessed, \"corpus/model/desc_text_test_unprocessed.pkl\")"
   ]
  },
  {
   "cell_type": "code",
   "execution_count": 11,
   "metadata": {},
   "outputs": [],
   "source": [
    "# for x in range(0, df.shape[0]):\n",
    "#     text = preprocessing(df.iloc[x, -2])\n",
    "#     df.iloc[x, -2] = (' '.join(text)) \n",
    "\n",
    "desc_text_train_unpreprocessed = []\n",
    "desc_text_test_unpreprocessed = []\n",
    "\n",
    "for x in range(0, df_train.shape[0]):\n",
    "  desc_text_train_unpreprocessed.append(df_train.iloc[x, -2])\n",
    "\n",
    "for x in range(0, df_test.shape[0]):\n",
    "  desc_text_test_unpreprocessed.append(df_test.iloc[x, -2])"
   ]
  },
  {
   "cell_type": "code",
   "execution_count": 12,
   "metadata": {},
   "outputs": [],
   "source": [
    "# Simpan teks asli dokumen\n",
    "joblib.dump(desc_text_test_unpreprocessed, \"corpus/model/desc_text_test_unpreprocessed.pkl\")\n",
    "joblib.dump(desc_text_train_unpreprocessed, \"corpus/model/desc_text_train_unpreprocessed.pkl\")\n",
    "\n",
    "# Simpan dataframe hasil text processing sebelum TF-IDF Vectorizer\n",
    "df.to_csv('corpus/dataset/df_total_unpreprocessed.csv', index=False)\n",
    "df_test.to_csv('corpus/dataset/df_test_unpreprocessed.csv', index=False)\n",
    "df_train.to_csv('corpus/dataset/df_train_unpreprocessed.csv', index=False)\n"
   ]
  },
  {
   "cell_type": "code",
   "execution_count": 13,
   "metadata": {},
   "outputs": [],
   "source": [
    "for x in range(0, df.shape[0]):\n",
    "    text = preprocessing(df.iloc[x, -2])\n",
    "    df.iloc[x, -2] = (' '.join(text)) "
   ]
  },
  {
   "cell_type": "code",
   "execution_count": 14,
   "metadata": {},
   "outputs": [],
   "source": [
    "desc_text_train = []\n",
    "desc_text_test = []\n",
    "\n",
    "for x in range(0, df_train.shape[0]):\n",
    "  desc_text_train.append(df_train.iloc[x, -2])\n",
    "\n",
    "for x in range(0, df_test.shape[0]):\n",
    "  desc_text_test.append(df_test.iloc[x, -2])"
   ]
  },
  {
   "cell_type": "code",
   "execution_count": 15,
   "metadata": {},
   "outputs": [
    {
     "name": "stdout",
     "output_type": "stream",
     "text": [
      "Panjang Dokumen Test :  93\n",
      "------------------------------------------------------------------------------------------\n",
      "Panjang Dokumen Train :  829\n"
     ]
    }
   ],
   "source": [
    "# print(df_test.info())\n",
    "print(\"Panjang Dokumen Test : \", len(desc_text_test))\n",
    "\n",
    "print ('-'*90)\n",
    "\n",
    "# print(df_train.info())\n",
    "print(\"Panjang Dokumen Train : \", len(desc_text_train))"
   ]
  },
  {
   "cell_type": "code",
   "execution_count": 16,
   "metadata": {},
   "outputs": [],
   "source": [
    "# Simpan teks asli dokumen\n",
    "joblib.dump(desc_text_test, \"corpus/model/desc_text_test.pkl\")\n",
    "joblib.dump(desc_text_train, \"corpus/model/desc_text_train_new.pkl\") #INI\n",
    "\n",
    "# Simpan dataframe hasil text processing sebelum TF-IDF Vectorizer\n",
    "df.to_csv('corpus/dataset/df_total_new.csv', index=False) #INI\n",
    "df_test.to_csv('corpus/dataset/df_test.csv', index=False)\n",
    "df_train.to_csv('corpus/dataset/df_train.csv', index=False)\n"
   ]
  },
  {
   "cell_type": "code",
   "execution_count": 17,
   "metadata": {},
   "outputs": [
    {
     "name": "stdout",
     "output_type": "stream",
     "text": [
      "tfidf_test_matrix\n",
      "(93, 4103)\n",
      "tfidf_train_matrix\n",
      "(829, 16472)\n"
     ]
    }
   ],
   "source": [
    "# Fit transform menggunakan TF-IDF Vectorizer\n",
    "tfidf_vectorizer = TfidfVectorizer()\n",
    "tfidf_test_matrix = tfidf_vectorizer.fit_transform(desc_text_test)\n",
    "tfidf_train_matrix = tfidf_vectorizer.fit_transform(desc_text_train)\n",
    "\n",
    "print('tfidf_test_matrix')\n",
    "print(tfidf_test_matrix.shape)\n",
    "print('tfidf_train_matrix')\n",
    "print(tfidf_train_matrix.shape)"
   ]
  },
  {
   "cell_type": "code",
   "execution_count": 18,
   "metadata": {},
   "outputs": [
    {
     "data": {
      "text/plain": [
       "['corpus/matrix/tfidf_train_new.pkl']"
      ]
     },
     "execution_count": 18,
     "metadata": {},
     "output_type": "execute_result"
    }
   ],
   "source": [
    "joblib.dump(tfidf_vectorizer, \"corpus/vectorizer/vectorizer_new.pkl\") #INI\n",
    "joblib.dump(tfidf_test_matrix, \"corpus/matrix/tfidf_test.pkl\")\n",
    "joblib.dump(tfidf_train_matrix, \"corpus/matrix/tfidf_train_new.pkl\") #INI"
   ]
  },
  {
   "cell_type": "markdown",
   "metadata": {},
   "source": [
    "### Pencarian "
   ]
  },
  {
   "cell_type": "code",
   "execution_count": 19,
   "metadata": {},
   "outputs": [
    {
     "name": "stdout",
     "output_type": "stream",
     "text": [
      "<class 'pandas.core.frame.DataFrame'>\n",
      "Int64Index: 922 entries, 0 to 921\n",
      "Data columns (total 4 columns):\n",
      " #   Column       Non-Null Count  Dtype \n",
      "---  ------       --------------  ----- \n",
      " 0   Title        922 non-null    object\n",
      " 1   Date         922 non-null    object\n",
      " 2   Description  922 non-null    object\n",
      " 3   Source       922 non-null    object\n",
      "dtypes: object(4)\n",
      "memory usage: 36.0+ KB\n",
      "None\n",
      "------------------------------------------------------------------------------------------\n",
      "93\n",
      "829\n"
     ]
    }
   ],
   "source": [
    "df_total = pd.read_csv('corpus/dataset/df_total_new.csv')\n",
    "df_total = df_total[pd.notnull(df_total['Description'])]\n",
    "print(df_total.info())\n",
    "print ('-'*90)\n",
    "\n",
    "document_text_train= joblib.load('corpus/model/desc_text_train_new.pkl')\n",
    "document_text_test= joblib.load('corpus/model/desc_text_test.pkl')\n",
    "print(len(document_text_test))\n",
    "print(len(document_text_train))"
   ]
  },
  {
   "cell_type": "code",
   "execution_count": 23,
   "metadata": {},
   "outputs": [
    {
     "name": "stdout",
     "output_type": "stream",
     "text": [
      "['meninggal']\n",
      "\n",
      "======================\n",
      "\n",
      "Top 10 most similar documents in corpus:\n",
      "No ID Dokumen  :  595\n",
      "Tanggal        :  Kamis, 22 Des 2022 03:00 WIB\n",
      "Isi berita     :  ruas jalan nasional pantura karawang rusak dikeluhkan warga salah parah berlokasi jalan raya kosambi klari desa duren kecamatan klari kabupaten karawang ano 50 warga pengguna rutin jalan mengeluhkan kerusakan jalan pasalnya menyaksikan kecelakaan lintas akibat jalan rusak membahayakan kang pagi sepeda motor terguling terpepet lubang ruas jalan sebelah kanan ano diwawancara lokasi rabu 21 12 2022 kondisi jalan berlubang parah jalan nasional mayoritas berlokasi persimpangan jalan putar berlubang putar arah kaya deket putaran persimpangan rawan mobil ngrem kecelakaan menyaksikan kecelakaan kendaraan seputar jalan rusak kecelakaan mobil kenceng jalan berlubang ngerem mendadak sepeda motor nggak ngrem nabrak mobil terjadj dikonfirmasi terpisah kepala bidang jalan jembatan dinas pekerjaan penataan ruang pupr kabupaten karawang chris priyanto jalan nasional kewenangan pusat jalan nasional kang pemeliharaan jalan kewenangan pusat chris dihubungi jalan nasional pantura karawang 42 kilometer tanjungpura perbatasan kabupaten bekasi jatisari perbatasan subang kewenangan kementerian pupr chris mengaku melaporkan terkait jalan rusak berwenang satuan satker kementerian pupr wilayah cikampek perbaikan bertahap titik jalan nasional laporkan kang satker cikampek perbaikan bertahap kemarin wilayah jalan lingkar tanjungpura wilayah lamaran pungkasnya\n",
      "(Score: 0.1524) \n",
      "No ID Dokumen  :  171\n",
      "Tanggal        :  Sabtu, 24 Des 2022 09:49 WIB\n",
      "Isi berita     :  kurun tepatnya mei 2022 peristiwa menyedot pembaca salah satunya kecelakaan bus pariwisata ardiansyah menewaskan 14 kisah sejoli fenomenal gandi ranting kisah mempelai perempuan ranting delima ditinggal menghilang mempelai pria gandi pernikahannya peristiwa perosotan kenpark surabaya ambrol lukai 16 pengunjung detail berita berita menyedot pembaca mei 2022 1 kecelakaan bus tabrak fondasi tiang vms tol sumo tewaskan 14 kecelakaan bus pariwisata mengangkut rombongan wisatawan pulang kelurahan benowo pakal surabaya menabrak tiang vms 712 400 tol surabaya mojokerto sumo senin 16 5 2022 bus memuat rombongan warga jawa memuat rombongan warga sekampung rw kelurahan benowo kecamatan pakal surabaya 32 penumpang bus berwisata dieng wonosobo malioboro jogjakarta mengalami kecelakaan tunggal mengakibatkan 14 penumpang tewas kerasnya tabrakan mengakibatkan bus ardiansyah hancur bus terguling kanan sisi kiri jalan tol tiang vms ditabrak bus kondisi ambruk banyaknya warga benowo korban kecelakaan modin matazim masyarakat berupaya menenangkan keluarga korban menangis histeris mobil ambulans mengangkut jenazah korban kecelakaan benowo jenazah lantas disalatkan dimakamkan makam islam benowo warga bergotong royong menguburkan korban meninggal kasi keselamatan jalan dishub jatim arjani hia putra bus melaju kecepatan 90 jam menabrak fondasi tiang vms sesuai data terekam cctv bus melaju kecepatan konstan bekas pengereman menjelang lokasi kecelakaan halaman 1 2 3\n",
      "(Score: 0.1469) \n",
      "No ID Dokumen  :  62\n",
      "Tanggal        :  Senin, 19 Des 2022 08:49 WIB\n",
      "Isi berita     :  kereta teknis milik kereta cepat indonesia cina kcic mengalami kecelakaan area cipada cikalongwetan kabupaten bandung barat kbb jawa barat minggu 18 12 2022 sore kereta jalur mengakibatkan rangkaian lokomotif kereta terlempar aparat kepolisian pekerja proyek kcic berusaha mengevakuasi kereta teknis pengangkut material berwarna kuning lokomotif kereta cepat berwarna hijau corporate secretary kcic rahadian ratry kecelakaan tahap investigasi sehubungan beredarnya informasi kereta teknis jalur kcjb minggu 18 12 kcic kejadian investigasi terkait terangnya dikutip tribunjabar com terkait penyebab kecelakaan korban proses investigasi kejadian investigasi informasi tenaga terluka pekerja mengimplementasikan aspek safety security health environment sshe aktivitas kontraktor berkomitmen aspek keselamatan pekerja risiko kecelakaan dihindari direskrimum polda jabar kombes yani sudarto penyebab kecelakaan diselidiki tim tim puslabfor mabes polri kronologis penyebab kecelakaan lidik gelap minggu 18 12 2022 malam hasil investigasi kejadian perkara tkp korban jiwa kecelakaan proses identifikasi korban jiwa korban luka diidentifikasi rumah sakit santosa dikutip tribunjabar com tkp tergeletak kereta lokomotif berwarna hijau kereta teknis berwarna kuning garis polisi dipasang disekitar tkp proses penyelidikan berjalan yani sudarto mengungkap kronologi utuh proses penyelidikan diperiksa lidik keterangan terjunkan tim tim puslabfor mabes polri pungkasnya minggu 18 12 2022 malam dikutip kompas com\n",
      "(Score: 0.1432) \n",
      "No ID Dokumen  :  544\n",
      "Tanggal        :  Jumat, 02 Des 2022 21:38 WIB\n",
      "Isi berita     :  polisi menetapkan 4 tersangka kematian remaja latihan silat lamongan tersangka senior korban pelatih silat korban keempat tersangka 19 af 16 ar 16 mn 16 keempat tersangka diduga melatih fisik korban latihan silat tersangka ditahan kasi humas polres lamongan ipda anton krisbiantoro jumat 2 12 2022 tersangka umur ditangani unit perlindungan anak perempuan ppa 3 tersangka anak anak kasusnya ditangani unit ppa anton keempat tersangka melatih fisik korban memahami standar keempat tersangka melatih menganiaya korban korban meninggal latihan diduga keempat tersangka memahami standar melatih menyebabkan kecelakaan fatal anton anak usia 15 lamongan meninggal mengikuti latihan pencak silat korban miqdat rafa dafiqi desa tugu mantup korban berlatih silat teman temannya halaman sd negeri kamis 1 12 korban temannya pemanasan dilanjutkan latihan fisik dilanjut sabung latihan duel korban mengeluh merasakan sakit perut dada latihan diduga keluhan akibat tendangan fisik mendapati keluhan korban dibawa 4 temannya puskesmas perawatan 4 teman korban membawa puskesmas fiki 19 18 ar 16 mn 16 gambas video 20detik\n",
      "(Score: 0.1429) \n",
      "No ID Dokumen  :  289\n",
      "Tanggal        :  Sabtu, 24 Des 2022 18:26 WIB\n",
      "Isi berita     :  kecelakaan beruntun jalan raya cianjur sukabumi tepatnya desa ciwalen kecamatan warungkondang kabupaten cianjur sabtu 24 12 2022 15 00 wib diduga kecelakaan disebabkan truk boks mengalami rem blong informasi dihimpun kecelakaan truk boks bernomor polisi 8255 ek dikemudian melaju arah sukabumi cianjur wilayah ciwalen truk menabrak rangkaian kendaraan depannya berhenti akibat macet kondisi mobil berhenti total macet mobil mobil mobil seruduk mobil bumper mobil dadang kurniawan salah pemilik mobil diduga kecelakaan disebabkan truk boks mengalami rem blong rem blong kendaraan berhenti macet mobil maju menabrak mobil depannya kanit gakkum satlantas polres cianjur iptu hadi kurniawan korban jiwa kecelakaan unit kendaraan rusak truk boks menabrak minibus depannya total kendaraan terlibat kecelakaan beruntun hadi mengaku menyelidiki terkait penyebab kecelakaan beruntun penyebabnya dalami sopir truk mintai keterangan pungkasnya\n",
      "(Score: 0.1348) \n",
      "No ID Dokumen  :  481\n",
      "Tanggal        :  Jumat, 23 Des 2022 13:18 WIB\n",
      "Isi berita     :  transjakarta mitra operator membentuk safety agent bertugas pemeriksaan kelaikan armada sopir kepala divisi sekretaris perusahaan transjakarta anang rizkani noor safety agent karyawan operator dipercaya aspek keselamatan ditangani komprehensif menerus sesuai prosedur berlaku safety agent pengetahuan kegiatan workshop diselenggarakan 6 september 12 modul workshop penyusunan komitmen kebijakan keselamatan penyusunan hazard identification risk assesment determining control hiradc penyusunan prosedur keselamatan pramudi penyusunan prosedur kelayakan armada anang rizkani keterangan tertulis jumat 23 12 2022 total 18 operator selesai mengikuti kegiatan workshop operator 8 bus 10 bus operator mengirimkan perwakilannya ditugaskan safety agent safety agent perpanjangan transjakarta keselamatan operasi bertugas bekal diberian workshop penjabat pj gubernur dki jakarta heru budi hartono menyoroti kejadian kecelakaan melibatkan bus transjakarta heru memandang standarisasi kualitas pengemudi standarisasi pramudi pengemudi transjakarta operator heru budi balai kota dki jakarta jalan medan merdeka selatan jakarta pusat selasa 8 10 heru menekankan memprioritaskan keselamatan bertugas menghindari kejadian kecelakaan heru prioritas diterapkan direksi transjakarta mitra operator transjakarta membangun pola pikir mindset menerapkan safety first disetiap layanannya gambas video 20detik\n",
      "(Score: 0.1253) \n",
      "No ID Dokumen  :  34\n",
      "Tanggal        :  Senin, 05 Des 2022 18:35 WIB\n",
      "Isi berita     :  6 korban warga manyaran 5 rw 5 supir meninggal akibat kecelakaan bus terjun jurang sarangan magetan minggu 4 12 2022 petrus ignasius sugeng ayah korban meninggal bernama fitri suci raharti mertua sutarjo mengaku memiliki firasat buruk menimpa anaknya minggu mimpi ramai ramai pasang tenda mimpi beber sugeng rumah duka senin 5 12 2022 lantaran mimpinya istri sugeng takut diam menceritakan mimpi buruk dialami sempet ngasih fitri sebulan nggak pergi pergi sebulan ayah korban mendengar kabar kecelakaan bus ditumpangi anaknya bergegas rumah asalnya kendal rumah putri mendapati anak menantunya meninggal anaknya restu tata agenda pariwisata telaga sarangan selamat mengalami luka luka anak fitri lantaran fitri kreatif pekerja keras orangnya suka membantu terangnya hidupnya sugeng kesulitan memiliki uang fitri rajin menyayangi tuanya memakamkan putri teman berisak tangis terharu kebaikan fitri hidup 3 bertemu korban sugeng menceritakan semalaman tidur lelap lantaran memikirkan fitri almarhumah mimpinya berpesan mbah putune openono cucunya tolong dirawat sugeng menanggapi berencana menetap rumah fitri mengurus cucunya bersekolah bisnis laundry milik fitri dilanjutkan adik fitri dilanjutkan biaya anaknya depannya\n",
      "(Score: 0.1225) \n",
      "No ID Dokumen  :  97\n",
      "Tanggal        :  Senin, 26 Des 2022 12:22 WIB\n",
      "Isi berita     :  6 pelajar mengalami nasib nahas berziarah kompleks makam sunan giri gresik tergencet mobil bus terparkir dinyatakan tewas peristiwa kejadiannya 09 30 wib enam korbannya meninggal kanit laka lantas ipda wiji mulyono lokasi kejadian senin 26 12 2022 wiji korban luka meninggal tergencet mobil daihatsu ayla nopol 1481 jq bus bernopol 7588 ap kendaraan parkir wiji kecelakaan mobil innova hitam bernopol 1140 parkir lupa menetralkan persneling mobil dikendarai bambang suteja menyeruduk mobil ayla nahas mobil ayla enam pelajar tertabrak tergencet bus parkir pelajar dinyatakan meninggal lokasi mengalami luka keenam korban pelajar smp kediri berziarah ojek lokasi kompleks makam sunan giri lokasi mengalami kecelakaan bambang suteja pengemudi innova mengaku lupa menetralkan mobil dikendarainya menyeruduk mobil ayla depannya peziarah berasal bandung buka pintu kaki mobil melaju injak rem injak gas bambang\n",
      "(Score: 0.1182) \n",
      "No ID Dokumen  :  749\n",
      "Tanggal        :  Sabtu, 03 Des 2022 11:28 WIB\n",
      "Isi berita     :  surabaya dihantui teror geng motor gerombolan dihuni anak anak muda memakai jalan protokol kota pahlawan arena balap liar 2 juni 2015 menjelang azan subuh disjoki dj pulang kerjanya korban kebrutalan geng motor kehilangan nyawa dj aditya wahyu budi artanto berdasar arsip dikumpulkan peristiwa jalan ngagel jaya selatan arah jalan tomo surabaya 04 20 wib dj aditya perjalanan rumahnya kawasan sawotratap sidoarjo dj aditya mengendarai mobil suzuki over bernopol 1233 rg jalan ngagel jaya selatan dilintasinya dipakai balap liar puluhan motor berjajar jalan mobil berwarna oranye berjalan pelan melipir kiri belakangnya taksi membuntuti minggir motor balapan cerita arif sopir taksi mobil dj aditya motor melaju kencang perjalanan salah motor hilang keseimbangan oleng menyerempet mobil dj aditya dj aditya membuka kaca mobilnya melambaikan tangan mencoba pertanggungjawaban joki balap liar motor melaju kencang berusaha dikejar dj aditya aksi memantik geng motor menyaksikan balap liar dj aditya menabrak temannya puluhan motor mengejar mobil dj aditya kejar kejaran jalan tomo kecepatan mobil dj aditya melayang sepersekian melewati perlintasan rel kereta api tomo posisinya menanjak mobil mencium aspal malang dj aditya menguasai kemudinya mobil terbang oleng menabrak pohon jalan tomo cerita irfan salah pengendara motor melintas mobil dj aditya celaka dj aditya bergerak tabrak pohon baca halaman halaman 1 2 gambas video 20detik\n",
      "(Score: 0.1078) \n",
      "No ID Dokumen  :  259\n",
      "Tanggal        :  Rabu, 30 Nov 2022 09:21 WIB\n",
      "Isi berita     :  kapolri jenderal listyo sigit prabowo memimpin upacara penyerahan 2 jenazah kru helikopter polri jatuh kabupaten belitung timur bangka belitung upacara dilaksanakan markas polairud bandara pondok cabe tangerang selatan upacara penerimaan jenazah dilaksanakan rabu 30 11 2022 08 10 wib pimpinan rombongan pengantar jenazah dikomandani kabid propam polda bangka belitung kombes julihan muntaha julihan melaporkan penyerahan jenazah kapolri inspektur upacara upacara penyerahan jenazah personel polri salat jenazah jenazah diserahkan keluarga briptu moch lasminto dimakamkan serang banten bripda khoirul anam dimakamkan magetan jawa timur jenazah dibawa pesawat 4501 milik polri pesawat membawa jenazah mendarat markas polairud bandara pondok cabe tanggerang selatan pagi diberitakan korban ditemukan bripda khoirul anam senin 28 11 anam ditemukan nelayan pantai burung mandi belitung timur jenazah briptu moch lasminto pilot helikopter ditemukan selasa 29 11 9 50 wib 1 jenazah kru helikopter polri ditemukan selasa 29 11 malam 23 00 dibawa jakarta helikopter dikabarkan hilang kontak perairan desa buku limau kecamatan manggar kabupaten belitung timur minggu 27 11 total kru pilot pilot helikopter terbang pangkalan kalimantan bandara hanandjoeddin tanjungpandan belitung timur\n",
      "(Score: 0.1052) \n"
     ]
    }
   ],
   "source": [
    "kueri='meninggal'\n",
    "kueri=preprocessing(kueri)\n",
    "kueri= [\" \".join (kueri)]\n",
    "print (kueri)\n",
    "\n",
    "tfidf_matrix =joblib.load( \"corpus/matrix/tfidf_train_new.pkl\" )\n",
    "tfidf_vectorizer = joblib.load( \"corpus/vectorizer/vectorizer_new.pkl\" ) \n",
    "query_vec= tfidf_vectorizer.transform(kueri)\n",
    "results=cosine_similarity(tfidf_matrix, query_vec).reshape((-1))\n",
    "#print (results)\n",
    "print(\"\\n======================\\n\")\n",
    "print(\"Top 10 most similar documents in corpus:\")\n",
    "\n",
    "j = 1\n",
    "\n",
    "for i in results.argsort()[-10:][::-1]:\n",
    "    print(\"No ID Dokumen  : \", i)\n",
    "    print(\"Tanggal        : \", df_total.iloc[i,1])\n",
    "    print(\"Isi berita     : \", df_total.iloc[i,2])\n",
    "    print(\"(Score: %.4f) \" % results[i])"
   ]
  }
 ],
 "metadata": {
  "kernelspec": {
   "display_name": "Python 3",
   "language": "python",
   "name": "python3"
  },
  "language_info": {
   "codemirror_mode": {
    "name": "ipython",
    "version": 3
   },
   "file_extension": ".py",
   "mimetype": "text/x-python",
   "name": "python",
   "nbconvert_exporter": "python",
   "pygments_lexer": "ipython3",
   "version": "3.9.13"
  },
  "vscode": {
   "interpreter": {
    "hash": "52634da84371cba311ea128a5ea7cdc41ff074b781779e754b270ff9f8153cee"
   }
  }
 },
 "nbformat": 4,
 "nbformat_minor": 2
}
