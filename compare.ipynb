{
 "cells": [
  {
   "cell_type": "code",
   "execution_count": 143,
   "metadata": {},
   "outputs": [],
   "source": [
    "import re\n",
    "import pandas as pd\n",
    "import numpy as np\n",
    "import joblib\n",
    "import nltk"
   ]
  },
  {
   "cell_type": "code",
   "execution_count": 144,
   "metadata": {},
   "outputs": [],
   "source": [
    "old = pd.read_csv('perbandingan/berita-24-5.csv')\n",
    "# print(old)\n",
    "new = pd.read_csv('perbandingan/berita-24-5.csv') # need changes\n",
    "# print(new)"
   ]
  },
  {
   "cell_type": "code",
   "execution_count": 145,
   "metadata": {},
   "outputs": [
    {
     "data": {
      "text/plain": [
       "Index(['ID', 'berita_title', 'berita_date', 'berita_qdate', 'berita_desc',\n",
       "       'berita_source', 'created_at', 'berita_topik_id', 'qe_what', 'ner_when',\n",
       "       'ner_who', 'ner_prov', 'ner_kab', 'ner_kec', 'ner_neg', 'sev_death',\n",
       "       'sev_injury', 'sev_lost', 'sev_sink', 'sev_plane', 'sev_moneyUSD',\n",
       "       'sev_moneyIDR', 'sev_persen', 'sev_inflasi', 'sev_internasional',\n",
       "       'sev_nasional', 'sev_provkota', 'sev_lost_items', 'sev_lost_money',\n",
       "       'sev_rape', 'sev_house', 'sev_person', 'class_classification',\n",
       "       'berita_summary'],\n",
       "      dtype='object')"
      ]
     },
     "execution_count": 145,
     "metadata": {},
     "output_type": "execute_result"
    }
   ],
   "source": [
    "# old.columns\n",
    "old.columns"
   ]
  },
  {
   "attachments": {},
   "cell_type": "markdown",
   "metadata": {},
   "source": [
    "# Comparing What"
   ]
  },
  {
   "cell_type": "code",
   "execution_count": 146,
   "metadata": {},
   "outputs": [],
   "source": [
    "qe_old = old[['ID', 'berita_title', 'berita_topik_id', 'qe_what']]\n",
    "# qe_old.head()\n",
    "qe_new = new[['ID', 'berita_title', 'berita_topik_id', 'qe_what']] # possibly need changes\n",
    "# qe_old.head()"
   ]
  },
  {
   "cell_type": "code",
   "execution_count": null,
   "metadata": {},
   "outputs": [],
   "source": []
  },
  {
   "attachments": {},
   "cell_type": "markdown",
   "metadata": {},
   "source": [
    "# Comparing Who"
   ]
  },
  {
   "attachments": {},
   "cell_type": "markdown",
   "metadata": {},
   "source": [
    "# Comparing When"
   ]
  },
  {
   "attachments": {},
   "cell_type": "markdown",
   "metadata": {},
   "source": [
    "# Comparing Where"
   ]
  },
  {
   "attachments": {},
   "cell_type": "markdown",
   "metadata": {},
   "source": [
    "# Comparing Classification "
   ]
  },
  {
   "cell_type": "code",
   "execution_count": 147,
   "metadata": {},
   "outputs": [],
   "source": [
    "# Create model\n",
    "from sklearn.naive_bayes import GaussianNB\n",
    "from sklearn.ensemble import RandomForestClassifier\n",
    "from sklearn.linear_model import LogisticRegression\n",
    "from sklearn.tree import DecisionTreeClassifier\n",
    "from sklearn.svm import SVC\n",
    "from sklearn.neighbors import KNeighborsClassifier\n",
    "from sklearn.neural_network import MLPClassifier\n",
    "\n",
    "# Check accuracy score\n",
    "from sklearn.metrics import accuracy_score\n",
    "\n",
    "# Applying 10-Fold Cross Validation\n",
    "from sklearn.model_selection import cross_val_score\n",
    "\n",
    "from sklearn.metrics import f1_score\n",
    "\n",
    "from sklearn.metrics import confusion_matrix, ConfusionMatrixDisplay\n",
    "import matplotlib.pyplot as plt # for data visualization purposes\n",
    "import seaborn as sns # for statistical data visualization\n",
    "%matplotlib inline\n",
    "\n",
    "from sklearn.metrics import classification_report\n",
    "\n",
    "from sklearn.preprocessing import StandardScaler\n",
    "\n",
    "from sklearn.preprocessing import LabelEncoder\n",
    "\n",
    "from nltk import word_tokenize\n",
    "\n",
    "import csv\n",
    "\n",
    "result_path = \"D://PetaKabar/perbandingan/classification_comparison.csv\""
   ]
  },
  {
   "cell_type": "code",
   "execution_count": 148,
   "metadata": {},
   "outputs": [],
   "source": [
    "res_cls = open(result_path, 'w', encoding='UTF8')\n",
    "res_writer = csv.writer(res_cls)\n",
    "res_writer.writerow(['topik', 'model','model-acs', 'cross-val','f1'])\n",
    "res_cls.close()"
   ]
  },
  {
   "cell_type": "code",
   "execution_count": 149,
   "metadata": {},
   "outputs": [],
   "source": [
    "def compare_cls(X_train, X_test, y_train, y_test, mode=\"Default\", topik=\"none\"):\n",
    "    if mode == 'olahraga':\n",
    "        cfm = ['internasional','nasional','provkota']\n",
    "    else:\n",
    "        cfm = ['rendah','sedang','parah']\n",
    "    \n",
    "    res_cls = open(result_path, 'a', encoding='UTF8', newline='')\n",
    "    res_writer = csv.writer(res_cls)\n",
    "\n",
    "    ## Instantiate the model\n",
    "    gnb = GaussianNB()\n",
    "    rf = RandomForestClassifier()\n",
    "    logreg = LogisticRegression(max_iter=3000, solver='lbfgs')\n",
    "    d_tree = DecisionTreeClassifier()\n",
    "    svc=SVC() \n",
    "    knn = KNeighborsClassifier() # default nilai k = 5\n",
    "    dl = MLPClassifier(solver='lbfgs', max_iter=3000)\n",
    "\n",
    "    scaler = StandardScaler()\n",
    "\n",
    "    X_train_ss = scaler.fit_transform(X_train)\n",
    "    X_test_ss = scaler.transform(X_test)\n",
    "\n",
    "    X_train_le = X_train[X_train.columns.values.tolist()].apply(LabelEncoder().fit_transform)\n",
    "    # X_test_le = X_train[X_train.columns.values.tolist()].apply(LabelEncoder().fit_transform)\n",
    "\n",
    "    ## Fit the model\n",
    "    gnb.fit(X_train, y_train)\n",
    "    rf.fit(X_train,y_train)\n",
    "    logreg.fit(X_train_le, y_train)\n",
    "    d_tree.fit(X_train, y_train)\n",
    "    svc.fit(X_train_ss,y_train)\n",
    "    knn.fit(X_train, y_train)\n",
    "    dl.fit(X_train_ss, y_train)\n",
    "\n",
    "    y_pred_gnb = gnb.predict(X_test)\n",
    "    y_pred_rf = rf.predict(X_test)\n",
    "    y_pred_logreg = logreg.predict(X_test)\n",
    "    y_pred_d_tree = d_tree.predict(X_test)\n",
    "    y_pred_svc = svc.predict(X_test_ss)\n",
    "    y_pred_knn = knn.predict(X_test)\n",
    "    y_pred_dl = dl.predict(X_test_ss)\n",
    "\n",
    "    print('Model accuracy score')\n",
    "    print('Naive Bayes : {0:0.4f}'.format(accuracy_score(y_test, y_pred_gnb)))\n",
    "    print('Random Forest : {0:0.4f}'.format(accuracy_score(y_test, y_pred_rf)))\n",
    "    print('Logistic Regression : {0:0.4f}'.format(accuracy_score(y_test, y_pred_logreg)))\n",
    "    print('Decision Tree : {0:0.4f}'.format(accuracy_score(y_test, y_pred_d_tree)))\n",
    "    print('SVM : {0:0.4f}'.format(accuracy_score(y_test, y_pred_svc)))\n",
    "    print('KNearestNeighbors : {0:0.4f}'.format(accuracy_score(y_test, y_pred_knn)))\n",
    "    print('Deep Learning (MLP) : {0:0.4f}'.format(accuracy_score(y_test, y_pred_dl)))\n",
    "\n",
    "    scores_gnb = cross_val_score(gnb, X_train, y_train, cv = 10, scoring='accuracy')\n",
    "    scores_rf = cross_val_score(rf, X_train, y_train, cv = 10, scoring='accuracy')\n",
    "    scores_logreg = cross_val_score(logreg, X_train_le, y_train, cv = 10, scoring='accuracy')\n",
    "    scores_d_tree = cross_val_score(d_tree, X_train, y_train, cv = 10, scoring='accuracy')\n",
    "    scores_svc = cross_val_score(svc, X_train_ss, y_train, cv = 10, scoring='accuracy')\n",
    "    scores_knn = cross_val_score(knn, X_train, y_train, cv = 10, scoring='accuracy')\n",
    "    scores_dl = cross_val_score(dl, X_train_ss, y_train, cv = 10, scoring='accuracy')\n",
    "\n",
    "    # print('Cross-validation scores:{}'.format(scores))\n",
    "\n",
    "    print('\\nAverage cross-validation score')\n",
    "    print('Naive Bayes: {:.4f}'.format(scores_gnb.mean()))\n",
    "    print('Random Forest: {:.4f}'.format(scores_rf.mean()))\n",
    "    print('Logistic Regression: {:.4f}'.format(scores_logreg.mean()))\n",
    "    print('Decision Tree: {:.4f}'.format(scores_d_tree.mean()))\n",
    "    print('SVM: {:.4f}'.format(scores_svc.mean()))\n",
    "    print('KNearestNeighbors: {:.4f}'.format(scores_knn.mean()))\n",
    "    print('Deep Learning (MLP): {:.4f}'.format(scores_dl.mean()))\n",
    "\n",
    "    # print('\\nTraining set score: {:.4f}'.format(rf.score(X_train, y_train)))\n",
    "    # print('Test set score: {:.4f}'.format(rf.score(X_test, y_test)))\n",
    "\n",
    "    print('\\nf1 score')\n",
    "    print('Naive Bayes: {:.4f}'.format(f1_score(y_test, y_pred_gnb, average='weighted')))\n",
    "    print('Random Forest: {:.4f}'.format(f1_score(y_test, y_pred_rf, average='weighted')))\n",
    "    print('Logistic Regression: {:.4f}'.format(f1_score(y_test, y_pred_logreg, average='weighted')))\n",
    "    print('Decision Tree: {:.4f}'.format(f1_score(y_test, y_pred_d_tree, average='weighted')))\n",
    "    print('SVM: {:.4f}'.format(f1_score(y_test, y_pred_svc, average='weighted')))\n",
    "    print('KNearestNeighbors: {:.4f}'.format(f1_score(y_test, y_pred_knn, average='weighted')))\n",
    "    print('Deep Learning (MLP): {:.4f}\\n'.format(f1_score(y_test, y_pred_dl, average='weighted')))\n",
    "\n",
    "    # print(classification_report(y_test, y_pred, target_names=['rendah', 'sedang']))\n",
    "    print(classification_report(y_test, y_pred_rf, target_names=['rendah', 'sedang', 'parah']))\n",
    "\n",
    "    cm=confusion_matrix(y_test,y_pred_rf)\n",
    "    cm_df = pd.DataFrame(cm,\n",
    "                        index = cfm, \n",
    "                        columns = cfm)\n",
    "    plt.figure(figsize=(6,3))\n",
    "    plt.title(\"Confusion Matrix Random Forest\")\n",
    "    sns.heatmap(cm_df, annot=True,fmt='d', cmap='Blues')\n",
    "    plt.ylabel(\"Actual Values\")\n",
    "    plt.xlabel(\"Predicted Values\")\n",
    "    # plt.savefig('confusion_matrix.png')\n",
    "\n",
    "    model = \"Naive Bayes\"\n",
    "    res_writer.writerow([topik, model, accuracy_score(y_test, y_pred_gnb), scores_gnb.mean(), f1_score(y_test, y_pred_gnb, average='weighted')])\n",
    "    model = \"Random Forest\"\n",
    "    res_writer.writerow([topik, model, accuracy_score(y_test, y_pred_rf), scores_gnb.mean(), f1_score(y_test, y_pred_rf, average='weighted')])\n",
    "    model = \"Logistic Regression\"\n",
    "    res_writer.writerow([topik, model, accuracy_score(y_test, y_pred_logreg), scores_gnb.mean(), f1_score(y_test, y_pred_logreg, average='weighted')])\n",
    "    model = \"Decision Tree\"\n",
    "    res_writer.writerow([topik, model, accuracy_score(y_test, y_pred_d_tree), scores_gnb.mean(), f1_score(y_test, y_pred_d_tree, average='weighted')])\n",
    "    model = \"SVM\"\n",
    "    res_writer.writerow([topik, model, accuracy_score(y_test, y_pred_svc), scores_gnb.mean(), f1_score(y_test, y_pred_svc, average='weighted')])\n",
    "    model = \"KNearestNeighbors\"\n",
    "    res_writer.writerow([topik, model, accuracy_score(y_test, y_pred_knn), scores_gnb.mean(), f1_score(y_test, y_pred_knn, average='weighted')])\n",
    "    model = \"Deep Learning(MLP)\"\n",
    "    res_writer.writerow([topik, model, accuracy_score(y_test, y_pred_dl), scores_gnb.mean(), f1_score(y_test, y_pred_dl, average='weighted')])\n",
    "    res_cls.close()"
   ]
  },
  {
   "cell_type": "code",
   "execution_count": 150,
   "metadata": {},
   "outputs": [],
   "source": [
    "cls_old = old[['ID', 'berita_title', 'berita_topik_id', 'berita_desc', 'sev_death', \\\n",
    "       'sev_injury', 'sev_lost', 'sev_sink', 'sev_plane', 'sev_moneyUSD', \\\n",
    "       'sev_moneyIDR', 'sev_persen', 'sev_inflasi', 'sev_internasional', \\\n",
    "       'sev_nasional', 'sev_provkota', 'sev_lost_items', 'sev_lost_money', \\\n",
    "       'sev_rape', 'sev_house', 'sev_person', 'class_classification']]"
   ]
  },
  {
   "cell_type": "code",
   "execution_count": 151,
   "metadata": {},
   "outputs": [
    {
     "data": {
      "text/html": [
       "<div>\n",
       "<style scoped>\n",
       "    .dataframe tbody tr th:only-of-type {\n",
       "        vertical-align: middle;\n",
       "    }\n",
       "\n",
       "    .dataframe tbody tr th {\n",
       "        vertical-align: top;\n",
       "    }\n",
       "\n",
       "    .dataframe thead th {\n",
       "        text-align: right;\n",
       "    }\n",
       "</style>\n",
       "<table border=\"1\" class=\"dataframe\">\n",
       "  <thead>\n",
       "    <tr style=\"text-align: right;\">\n",
       "      <th></th>\n",
       "      <th>ID</th>\n",
       "      <th>berita_title</th>\n",
       "      <th>berita_topik_id</th>\n",
       "      <th>berita_desc</th>\n",
       "      <th>sev_death</th>\n",
       "      <th>sev_injury</th>\n",
       "      <th>sev_lost</th>\n",
       "      <th>sev_sink</th>\n",
       "      <th>sev_plane</th>\n",
       "      <th>sev_moneyUSD</th>\n",
       "      <th>...</th>\n",
       "      <th>sev_inflasi</th>\n",
       "      <th>sev_internasional</th>\n",
       "      <th>sev_nasional</th>\n",
       "      <th>sev_provkota</th>\n",
       "      <th>sev_lost_items</th>\n",
       "      <th>sev_lost_money</th>\n",
       "      <th>sev_rape</th>\n",
       "      <th>sev_house</th>\n",
       "      <th>sev_person</th>\n",
       "      <th>class_classification</th>\n",
       "    </tr>\n",
       "  </thead>\n",
       "  <tbody>\n",
       "    <tr>\n",
       "      <th>0</th>\n",
       "      <td>1</td>\n",
       "      <td>Bagaimana Proses Terjadinya Gempa Bumi?</td>\n",
       "      <td>1</td>\n",
       "      <td>\\- Saat gempa bumi terjadi, tanah dan apa saja...</td>\n",
       "      <td>0.0</td>\n",
       "      <td>0.0</td>\n",
       "      <td>NaN</td>\n",
       "      <td>NaN</td>\n",
       "      <td>NaN</td>\n",
       "      <td>NaN</td>\n",
       "      <td>...</td>\n",
       "      <td>NaN</td>\n",
       "      <td>NaN</td>\n",
       "      <td>NaN</td>\n",
       "      <td>NaN</td>\n",
       "      <td>NaN</td>\n",
       "      <td>NaN</td>\n",
       "      <td>NaN</td>\n",
       "      <td>0.0</td>\n",
       "      <td>0.0</td>\n",
       "      <td>sedang</td>\n",
       "    </tr>\n",
       "  </tbody>\n",
       "</table>\n",
       "<p>1 rows × 22 columns</p>\n",
       "</div>"
      ],
      "text/plain": [
       "   ID                             berita_title  berita_topik_id  \\\n",
       "0   1  Bagaimana Proses Terjadinya Gempa Bumi?                1   \n",
       "\n",
       "                                         berita_desc  sev_death  sev_injury  \\\n",
       "0  \\- Saat gempa bumi terjadi, tanah dan apa saja...        0.0         0.0   \n",
       "\n",
       "   sev_lost  sev_sink  sev_plane  sev_moneyUSD  ...  sev_inflasi  \\\n",
       "0       NaN       NaN        NaN           NaN  ...          NaN   \n",
       "\n",
       "   sev_internasional  sev_nasional  sev_provkota  sev_lost_items  \\\n",
       "0                NaN           NaN           NaN             NaN   \n",
       "\n",
       "   sev_lost_money  sev_rape  sev_house  sev_person  class_classification  \n",
       "0             NaN       NaN        0.0         0.0                sedang  \n",
       "\n",
       "[1 rows x 22 columns]"
      ]
     },
     "execution_count": 151,
     "metadata": {},
     "output_type": "execute_result"
    }
   ],
   "source": [
    "cls_old.head(1)"
   ]
  },
  {
   "attachments": {},
   "cell_type": "markdown",
   "metadata": {},
   "source": [
    "## Bencana"
   ]
  },
  {
   "attachments": {},
   "cell_type": "markdown",
   "metadata": {},
   "source": [
    "### Preprocess"
   ]
  },
  {
   "cell_type": "code",
   "execution_count": 152,
   "metadata": {},
   "outputs": [
    {
     "data": {
      "text/plain": [
       "mati     float64\n",
       "luka     float64\n",
       "rumah    float64\n",
       "orang    float64\n",
       "dtype: object"
      ]
     },
     "execution_count": 152,
     "metadata": {},
     "output_type": "execute_result"
    }
   ],
   "source": [
    "# Bencana Section (Topic id = 1)\n",
    "cls_old_bencana = cls_old[cls_old['berita_topik_id'] == 1]\n",
    "cls_old_bencana = cls_old_bencana[['sev_death', 'sev_injury', 'sev_house', 'sev_person']]\n",
    "# print(len(cls_old_bencana))\n",
    "cls_old_bencana.rename(columns = {'sev_death':'mati', 'sev_injury':'luka', 'sev_house':'rumah', 'sev_person':'orang'}, inplace=True)\n",
    "cls_old_bencana.dtypes"
   ]
  },
  {
   "cell_type": "code",
   "execution_count": 153,
   "metadata": {},
   "outputs": [
    {
     "data": {
      "text/html": [
       "<div>\n",
       "<style scoped>\n",
       "    .dataframe tbody tr th:only-of-type {\n",
       "        vertical-align: middle;\n",
       "    }\n",
       "\n",
       "    .dataframe tbody tr th {\n",
       "        vertical-align: top;\n",
       "    }\n",
       "\n",
       "    .dataframe thead th {\n",
       "        text-align: right;\n",
       "    }\n",
       "</style>\n",
       "<table border=\"1\" class=\"dataframe\">\n",
       "  <thead>\n",
       "    <tr style=\"text-align: right;\">\n",
       "      <th></th>\n",
       "      <th>mati</th>\n",
       "      <th>luka</th>\n",
       "      <th>rumah</th>\n",
       "      <th>orang</th>\n",
       "    </tr>\n",
       "  </thead>\n",
       "  <tbody>\n",
       "    <tr>\n",
       "      <th>0</th>\n",
       "      <td>0</td>\n",
       "      <td>0</td>\n",
       "      <td>0</td>\n",
       "      <td>0</td>\n",
       "    </tr>\n",
       "    <tr>\n",
       "      <th>1</th>\n",
       "      <td>0</td>\n",
       "      <td>0</td>\n",
       "      <td>5</td>\n",
       "      <td>0</td>\n",
       "    </tr>\n",
       "    <tr>\n",
       "      <th>2</th>\n",
       "      <td>1</td>\n",
       "      <td>7729</td>\n",
       "      <td>1</td>\n",
       "      <td>318</td>\n",
       "    </tr>\n",
       "    <tr>\n",
       "      <th>3</th>\n",
       "      <td>0</td>\n",
       "      <td>1</td>\n",
       "      <td>0</td>\n",
       "      <td>1</td>\n",
       "    </tr>\n",
       "    <tr>\n",
       "      <th>4</th>\n",
       "      <td>0</td>\n",
       "      <td>0</td>\n",
       "      <td>25</td>\n",
       "      <td>230</td>\n",
       "    </tr>\n",
       "  </tbody>\n",
       "</table>\n",
       "</div>"
      ],
      "text/plain": [
       "   mati  luka  rumah  orang\n",
       "0     0     0      0      0\n",
       "1     0     0      5      0\n",
       "2     1  7729      1    318\n",
       "3     0     1      0      1\n",
       "4     0     0     25    230"
      ]
     },
     "execution_count": 153,
     "metadata": {},
     "output_type": "execute_result"
    }
   ],
   "source": [
    "# cls_old_bencana['mati'] = [re.sub(\"[^0-9]\", \"\", str(mati)) if (re.sub(\"[^0-9]\", \"\", str(mati)) != '') else 1 for mati in cls_old_bencana['mati']]\n",
    "cls_old_bencana['mati'] = cls_old_bencana['mati'].astype(int)\n",
    "\n",
    "# cls_old_bencana['luka'] = [re.sub(\"[^0-9]\", \"\", str(luka)) if (re.sub(\"[^0-9]\", \"\", str(luka)) != '') else 1 for luka in cls_old_bencana['luka']]\n",
    "cls_old_bencana['luka'] = cls_old_bencana['luka'].astype(int)\n",
    "\n",
    "# cls_old_bencana['rumah'] = [re.sub(\"[^0-9]\", \"\", str(rumah)) if (re.sub(\"[^0-9]\", \"\", str(rumah)) != '') else 1 for rumah in cls_old_bencana['rumah']]\n",
    "cls_old_bencana['rumah'] = cls_old_bencana['rumah'].astype(int)\n",
    "\n",
    "# cls_old_bencana['orang'] = [re.sub(\"[^0-9]\", \"\", str(orang)) if (re.sub(\"[^0-9]\", \"\", str(orang)) != '') else 1 for orang in cls_old_bencana['orang']]\n",
    "cls_old_bencana['orang'] = cls_old_bencana['orang'].astype(int)\n",
    "# cls_old_bencana = cls_old_bencana.replace({',': '.'}, regex=True)\n",
    "\n",
    "cls_old_bencana.head()"
   ]
  },
  {
   "attachments": {},
   "cell_type": "markdown",
   "metadata": {},
   "source": [
    "### Input Severity"
   ]
  },
  {
   "cell_type": "code",
   "execution_count": 154,
   "metadata": {},
   "outputs": [],
   "source": [
    "# naive_bayes_new.ipynb\n",
    "def matiScale(matiCount: int) -> int:\n",
    "  if matiCount < 3:\n",
    "    return 1\n",
    "  elif matiCount >= 3 and matiCount < 15:\n",
    "    return 2\n",
    "  return 3\n",
    "\n",
    "def lukaScale(lukaCount: int) -> int:\n",
    "  if lukaCount < 10:\n",
    "    return 1\n",
    "  elif lukaCount >= 10 and lukaCount < 20:\n",
    "    return 2\n",
    "  return 3\n",
    "\n",
    "def rumahScale(rumahCount: int) -> int:\n",
    "  if rumahCount < 4:\n",
    "    return 1\n",
    "  elif rumahCount >= 4 and rumahCount <= 20:\n",
    "    return 2\n",
    "  return 3\n",
    "\n",
    "def orangScale(orangCount: int) -> int:\n",
    "  if orangCount < 10:\n",
    "    return 1\n",
    "  elif orangCount >= 10 and orangCount <= 100:\n",
    "    return 2\n",
    "  return 3\n",
    "\n",
    "def calculate(mati: int, luka: int, rumah: int, orang: int):\n",
    "  subtractor = 0\n",
    "  total = 0\n",
    "  fiturCount = 4\n",
    "\n",
    "  if (mati > 0):\n",
    "    total += matiScale(matiCount=mati)\n",
    "  else:\n",
    "    subtractor += 1\n",
    "\n",
    "  if (luka > 0):\n",
    "    total += lukaScale(lukaCount=luka)\n",
    "  else:\n",
    "    subtractor += 1\n",
    "\n",
    "  if (rumah > 0):\n",
    "    total += rumahScale(rumahCount=rumah)\n",
    "  else:\n",
    "    subtractor += 1\n",
    "  \n",
    "  if (orang > 0):\n",
    "    total += orangScale(orangCount=orang)\n",
    "  else:\n",
    "    subtractor += 1\n",
    "          \n",
    "\n",
    "  divider = (fiturCount - subtractor)\n",
    "  severityMean = 0\n",
    "\n",
    "  if (divider > 0):\n",
    "    severityMean = total / divider\n",
    "\n",
    "  if severityMean <= 1:\n",
    "    return 1\n",
    "  elif severityMean > 1 and severityMean <= 2:\n",
    "    return 2\n",
    "  else:\n",
    "    return 3"
   ]
  },
  {
   "cell_type": "code",
   "execution_count": 155,
   "metadata": {},
   "outputs": [],
   "source": [
    "keparahanValues = []\n",
    "\n",
    "for index, row in cls_old_bencana.iterrows():\n",
    "  result = calculate(orang=int(row['orang']), \\\n",
    "      luka=int(row['luka']), \\\n",
    "        rumah=int(row['rumah']), \\\n",
    "          mati=int(row['mati']))\n",
    "  \n",
    "  keparahanValues.append(result)"
   ]
  },
  {
   "cell_type": "code",
   "execution_count": 156,
   "metadata": {},
   "outputs": [
    {
     "data": {
      "text/html": [
       "<div>\n",
       "<style scoped>\n",
       "    .dataframe tbody tr th:only-of-type {\n",
       "        vertical-align: middle;\n",
       "    }\n",
       "\n",
       "    .dataframe tbody tr th {\n",
       "        vertical-align: top;\n",
       "    }\n",
       "\n",
       "    .dataframe thead th {\n",
       "        text-align: right;\n",
       "    }\n",
       "</style>\n",
       "<table border=\"1\" class=\"dataframe\">\n",
       "  <thead>\n",
       "    <tr style=\"text-align: right;\">\n",
       "      <th></th>\n",
       "      <th>mati</th>\n",
       "      <th>luka</th>\n",
       "      <th>rumah</th>\n",
       "      <th>orang</th>\n",
       "      <th>keparahannew</th>\n",
       "    </tr>\n",
       "  </thead>\n",
       "  <tbody>\n",
       "    <tr>\n",
       "      <th>0</th>\n",
       "      <td>0</td>\n",
       "      <td>0</td>\n",
       "      <td>0</td>\n",
       "      <td>0</td>\n",
       "      <td>1</td>\n",
       "    </tr>\n",
       "    <tr>\n",
       "      <th>1</th>\n",
       "      <td>0</td>\n",
       "      <td>0</td>\n",
       "      <td>5</td>\n",
       "      <td>0</td>\n",
       "      <td>2</td>\n",
       "    </tr>\n",
       "    <tr>\n",
       "      <th>2</th>\n",
       "      <td>1</td>\n",
       "      <td>7729</td>\n",
       "      <td>1</td>\n",
       "      <td>318</td>\n",
       "      <td>2</td>\n",
       "    </tr>\n",
       "    <tr>\n",
       "      <th>3</th>\n",
       "      <td>0</td>\n",
       "      <td>1</td>\n",
       "      <td>0</td>\n",
       "      <td>1</td>\n",
       "      <td>1</td>\n",
       "    </tr>\n",
       "    <tr>\n",
       "      <th>4</th>\n",
       "      <td>0</td>\n",
       "      <td>0</td>\n",
       "      <td>25</td>\n",
       "      <td>230</td>\n",
       "      <td>3</td>\n",
       "    </tr>\n",
       "  </tbody>\n",
       "</table>\n",
       "</div>"
      ],
      "text/plain": [
       "   mati  luka  rumah  orang  keparahannew\n",
       "0     0     0      0      0             1\n",
       "1     0     0      5      0             2\n",
       "2     1  7729      1    318             2\n",
       "3     0     1      0      1             1\n",
       "4     0     0     25    230             3"
      ]
     },
     "execution_count": 156,
     "metadata": {},
     "output_type": "execute_result"
    }
   ],
   "source": [
    "cls_old_bencana['keparahannew'] = keparahanValues\n",
    "cls_old_bencana.head()"
   ]
  },
  {
   "attachments": {},
   "cell_type": "markdown",
   "metadata": {},
   "source": [
    "### Fit & Train"
   ]
  },
  {
   "cell_type": "code",
   "execution_count": 157,
   "metadata": {},
   "outputs": [
    {
     "data": {
      "text/html": [
       "<div>\n",
       "<style scoped>\n",
       "    .dataframe tbody tr th:only-of-type {\n",
       "        vertical-align: middle;\n",
       "    }\n",
       "\n",
       "    .dataframe tbody tr th {\n",
       "        vertical-align: top;\n",
       "    }\n",
       "\n",
       "    .dataframe thead th {\n",
       "        text-align: right;\n",
       "    }\n",
       "</style>\n",
       "<table border=\"1\" class=\"dataframe\">\n",
       "  <thead>\n",
       "    <tr style=\"text-align: right;\">\n",
       "      <th></th>\n",
       "      <th>mati</th>\n",
       "      <th>luka</th>\n",
       "      <th>rumah</th>\n",
       "      <th>orang</th>\n",
       "    </tr>\n",
       "  </thead>\n",
       "  <tbody>\n",
       "    <tr>\n",
       "      <th>count</th>\n",
       "      <td>2.773000e+03</td>\n",
       "      <td>2773.000000</td>\n",
       "      <td>2773.000000</td>\n",
       "      <td>2.773000e+03</td>\n",
       "    </tr>\n",
       "    <tr>\n",
       "      <th>mean</th>\n",
       "      <td>3.975754e+04</td>\n",
       "      <td>29.438154</td>\n",
       "      <td>1266.150379</td>\n",
       "      <td>2.666879e+04</td>\n",
       "    </tr>\n",
       "    <tr>\n",
       "      <th>std</th>\n",
       "      <td>2.088903e+06</td>\n",
       "      <td>457.328387</td>\n",
       "      <td>27543.185997</td>\n",
       "      <td>9.477396e+05</td>\n",
       "    </tr>\n",
       "    <tr>\n",
       "      <th>min</th>\n",
       "      <td>0.000000e+00</td>\n",
       "      <td>0.000000</td>\n",
       "      <td>0.000000</td>\n",
       "      <td>0.000000e+00</td>\n",
       "    </tr>\n",
       "    <tr>\n",
       "      <th>25%</th>\n",
       "      <td>0.000000e+00</td>\n",
       "      <td>0.000000</td>\n",
       "      <td>0.000000</td>\n",
       "      <td>0.000000e+00</td>\n",
       "    </tr>\n",
       "    <tr>\n",
       "      <th>50%</th>\n",
       "      <td>0.000000e+00</td>\n",
       "      <td>0.000000</td>\n",
       "      <td>0.000000</td>\n",
       "      <td>0.000000e+00</td>\n",
       "    </tr>\n",
       "    <tr>\n",
       "      <th>75%</th>\n",
       "      <td>0.000000e+00</td>\n",
       "      <td>0.000000</td>\n",
       "      <td>1.000000</td>\n",
       "      <td>1.000000e+00</td>\n",
       "    </tr>\n",
       "    <tr>\n",
       "      <th>max</th>\n",
       "      <td>1.100000e+08</td>\n",
       "      <td>8724.000000</td>\n",
       "      <td>1000000.000000</td>\n",
       "      <td>4.400000e+07</td>\n",
       "    </tr>\n",
       "  </tbody>\n",
       "</table>\n",
       "</div>"
      ],
      "text/plain": [
       "               mati         luka           rumah         orang\n",
       "count  2.773000e+03  2773.000000     2773.000000  2.773000e+03\n",
       "mean   3.975754e+04    29.438154     1266.150379  2.666879e+04\n",
       "std    2.088903e+06   457.328387    27543.185997  9.477396e+05\n",
       "min    0.000000e+00     0.000000        0.000000  0.000000e+00\n",
       "25%    0.000000e+00     0.000000        0.000000  0.000000e+00\n",
       "50%    0.000000e+00     0.000000        0.000000  0.000000e+00\n",
       "75%    0.000000e+00     0.000000        1.000000  1.000000e+00\n",
       "max    1.100000e+08  8724.000000  1000000.000000  4.400000e+07"
      ]
     },
     "execution_count": 157,
     "metadata": {},
     "output_type": "execute_result"
    }
   ],
   "source": [
    "# Declare feature vector and target variable\n",
    "X = cls_old_bencana.drop(['keparahannew'], axis=1)\n",
    "y = cls_old_bencana['keparahannew']\n",
    "X.describe()"
   ]
  },
  {
   "cell_type": "code",
   "execution_count": 158,
   "metadata": {},
   "outputs": [
    {
     "name": "stdout",
     "output_type": "stream",
     "text": [
      "2218\n",
      "555\n",
      "(2218, 4) (555, 4)\n"
     ]
    }
   ],
   "source": [
    "# Split X and y into training and testing sets\n",
    "\n",
    "from sklearn.model_selection import train_test_split\n",
    "\n",
    "X_train, X_test, y_train, y_test = train_test_split(X, y, test_size = 0.2, random_state = 0)\n",
    "print(len(X_train))\n",
    "print(len(X_test))\n",
    "print(X_train.shape, X_test.shape)"
   ]
  },
  {
   "cell_type": "code",
   "execution_count": 159,
   "metadata": {},
   "outputs": [
    {
     "data": {
      "text/html": [
       "<div>\n",
       "<style scoped>\n",
       "    .dataframe tbody tr th:only-of-type {\n",
       "        vertical-align: middle;\n",
       "    }\n",
       "\n",
       "    .dataframe tbody tr th {\n",
       "        vertical-align: top;\n",
       "    }\n",
       "\n",
       "    .dataframe thead th {\n",
       "        text-align: right;\n",
       "    }\n",
       "</style>\n",
       "<table border=\"1\" class=\"dataframe\">\n",
       "  <thead>\n",
       "    <tr style=\"text-align: right;\">\n",
       "      <th></th>\n",
       "      <th>mati</th>\n",
       "      <th>luka</th>\n",
       "      <th>rumah</th>\n",
       "      <th>orang</th>\n",
       "    </tr>\n",
       "  </thead>\n",
       "  <tbody>\n",
       "    <tr>\n",
       "      <th>1313</th>\n",
       "      <td>0</td>\n",
       "      <td>1</td>\n",
       "      <td>1</td>\n",
       "      <td>0</td>\n",
       "    </tr>\n",
       "    <tr>\n",
       "      <th>9069</th>\n",
       "      <td>0</td>\n",
       "      <td>0</td>\n",
       "      <td>1</td>\n",
       "      <td>0</td>\n",
       "    </tr>\n",
       "    <tr>\n",
       "      <th>9688</th>\n",
       "      <td>0</td>\n",
       "      <td>0</td>\n",
       "      <td>0</td>\n",
       "      <td>1</td>\n",
       "    </tr>\n",
       "    <tr>\n",
       "      <th>330</th>\n",
       "      <td>0</td>\n",
       "      <td>0</td>\n",
       "      <td>0</td>\n",
       "      <td>1</td>\n",
       "    </tr>\n",
       "    <tr>\n",
       "      <th>757</th>\n",
       "      <td>0</td>\n",
       "      <td>0</td>\n",
       "      <td>0</td>\n",
       "      <td>0</td>\n",
       "    </tr>\n",
       "    <tr>\n",
       "      <th>...</th>\n",
       "      <td>...</td>\n",
       "      <td>...</td>\n",
       "      <td>...</td>\n",
       "      <td>...</td>\n",
       "    </tr>\n",
       "    <tr>\n",
       "      <th>763</th>\n",
       "      <td>0</td>\n",
       "      <td>0</td>\n",
       "      <td>0</td>\n",
       "      <td>0</td>\n",
       "    </tr>\n",
       "    <tr>\n",
       "      <th>835</th>\n",
       "      <td>1</td>\n",
       "      <td>0</td>\n",
       "      <td>0</td>\n",
       "      <td>1</td>\n",
       "    </tr>\n",
       "    <tr>\n",
       "      <th>1653</th>\n",
       "      <td>1</td>\n",
       "      <td>0</td>\n",
       "      <td>1</td>\n",
       "      <td>1</td>\n",
       "    </tr>\n",
       "    <tr>\n",
       "      <th>9725</th>\n",
       "      <td>0</td>\n",
       "      <td>0</td>\n",
       "      <td>0</td>\n",
       "      <td>0</td>\n",
       "    </tr>\n",
       "    <tr>\n",
       "      <th>9850</th>\n",
       "      <td>0</td>\n",
       "      <td>0</td>\n",
       "      <td>0</td>\n",
       "      <td>0</td>\n",
       "    </tr>\n",
       "  </tbody>\n",
       "</table>\n",
       "<p>2218 rows × 4 columns</p>\n",
       "</div>"
      ],
      "text/plain": [
       "      mati  luka  rumah  orang\n",
       "1313     0     1      1      0\n",
       "9069     0     0      1      0\n",
       "9688     0     0      0      1\n",
       "330      0     0      0      1\n",
       "757      0     0      0      0\n",
       "...    ...   ...    ...    ...\n",
       "763      0     0      0      0\n",
       "835      1     0      0      1\n",
       "1653     1     0      1      1\n",
       "9725     0     0      0      0\n",
       "9850     0     0      0      0\n",
       "\n",
       "[2218 rows x 4 columns]"
      ]
     },
     "execution_count": 159,
     "metadata": {},
     "output_type": "execute_result"
    }
   ],
   "source": [
    "X_train"
   ]
  },
  {
   "cell_type": "code",
   "execution_count": 160,
   "metadata": {},
   "outputs": [
    {
     "name": "stderr",
     "output_type": "stream",
     "text": [
      "c:\\Users\\Archy\\AppData\\Local\\Programs\\Python\\Python310\\lib\\site-packages\\sklearn\\neural_network\\_multilayer_perceptron.py:541: ConvergenceWarning: lbfgs failed to converge (status=2):\n",
      "ABNORMAL_TERMINATION_IN_LNSRCH.\n",
      "\n",
      "Increase the number of iterations (max_iter) or scale the data as shown in:\n",
      "    https://scikit-learn.org/stable/modules/preprocessing.html\n",
      "  self.n_iter_ = _check_optimize_result(\"lbfgs\", opt_res, self.max_iter)\n"
     ]
    },
    {
     "name": "stdout",
     "output_type": "stream",
     "text": [
      "Model accuracy score\n",
      "Naive Bayes : 0.8288\n",
      "Random Forest : 0.9946\n",
      "Logistic Regression : 0.9441\n",
      "Decision Tree : 0.9910\n",
      "SVM : 0.8108\n",
      "KNearestNeighbors : 0.9658\n",
      "Deep Learning (MLP) : 0.8703\n",
      "\n",
      "Average cross-validation score\n",
      "Naive Bayes: 0.8107\n",
      "Random Forest: 0.9892\n",
      "Logistic Regression: 0.9463\n",
      "Decision Tree: 0.9860\n",
      "SVM: 0.7971\n",
      "KNearestNeighbors: 0.9522\n",
      "Deep Learning (MLP): 0.8494\n",
      "\n",
      "f1 score\n",
      "Naive Bayes: 0.7799\n",
      "Random Forest: 0.9946\n",
      "Logistic Regression: 0.9439\n",
      "Decision Tree: 0.9909\n",
      "SVM: 0.7332\n",
      "KNearestNeighbors: 0.9659\n",
      "Deep Learning (MLP): 0.8467\n",
      "\n",
      "              precision    recall  f1-score   support\n",
      "\n",
      "      rendah       1.00      1.00      1.00       445\n",
      "      sedang       0.97      0.99      0.98        76\n",
      "       parah       0.97      0.94      0.96        34\n",
      "\n",
      "    accuracy                           0.99       555\n",
      "   macro avg       0.98      0.98      0.98       555\n",
      "weighted avg       0.99      0.99      0.99       555\n",
      "\n"
     ]
    },
    {
     "data": {
      "image/png": "[encoded data removed]",
      "text/plain": [
       "<Figure size 600x300 with 2 Axes>"
      ]
     },
     "metadata": {},
     "output_type": "display_data"
    }
   ],
   "source": [
    "compare_cls(X_train, X_test, y_train, y_test, topik=\"bencana\")"
   ]
  },
  {
   "attachments": {},
   "cell_type": "markdown",
   "metadata": {},
   "source": [
    "## Ekonomi"
   ]
  },
  {
   "attachments": {},
   "cell_type": "markdown",
   "metadata": {},
   "source": [
    "### Preprocess"
   ]
  },
  {
   "cell_type": "code",
   "execution_count": 161,
   "metadata": {},
   "outputs": [
    {
     "name": "stdout",
     "output_type": "stream",
     "text": [
      "3141\n"
     ]
    },
    {
     "data": {
      "text/plain": [
       "USD        float64\n",
       "IDR        float64\n",
       "persen     float64\n",
       "inflasi    float64\n",
       "dtype: object"
      ]
     },
     "execution_count": 161,
     "metadata": {},
     "output_type": "execute_result"
    }
   ],
   "source": [
    "# Ekonomi Section (Topic id = 2)\n",
    "cls_old_ekonomi = cls_old[cls_old['berita_topik_id'] == 2]\n",
    "cls_old_ekonomi = cls_old_ekonomi[['sev_moneyUSD', 'sev_moneyIDR', 'sev_persen', 'sev_inflasi']]\n",
    "print(len(cls_old_ekonomi))\n",
    "cls_old_ekonomi.rename(columns = {'sev_moneyUSD':'USD', 'sev_moneyIDR':'IDR', 'sev_persen':'persen', 'sev_inflasi':'inflasi'}, inplace=True)\n",
    "cls_old_ekonomi.dtypes"
   ]
  },
  {
   "cell_type": "code",
   "execution_count": 162,
   "metadata": {},
   "outputs": [
    {
     "data": {
      "text/html": [
       "<div>\n",
       "<style scoped>\n",
       "    .dataframe tbody tr th:only-of-type {\n",
       "        vertical-align: middle;\n",
       "    }\n",
       "\n",
       "    .dataframe tbody tr th {\n",
       "        vertical-align: top;\n",
       "    }\n",
       "\n",
       "    .dataframe thead th {\n",
       "        text-align: right;\n",
       "    }\n",
       "</style>\n",
       "<table border=\"1\" class=\"dataframe\">\n",
       "  <thead>\n",
       "    <tr style=\"text-align: right;\">\n",
       "      <th></th>\n",
       "      <th>USD</th>\n",
       "      <th>IDR</th>\n",
       "      <th>persen</th>\n",
       "      <th>inflasi</th>\n",
       "    </tr>\n",
       "  </thead>\n",
       "  <tbody>\n",
       "    <tr>\n",
       "      <th>2005</th>\n",
       "      <td>0</td>\n",
       "      <td>0</td>\n",
       "      <td>0.0</td>\n",
       "      <td>0</td>\n",
       "    </tr>\n",
       "    <tr>\n",
       "      <th>2006</th>\n",
       "      <td>0</td>\n",
       "      <td>0</td>\n",
       "      <td>1.0</td>\n",
       "      <td>0</td>\n",
       "    </tr>\n",
       "    <tr>\n",
       "      <th>2007</th>\n",
       "      <td>0</td>\n",
       "      <td>2500000</td>\n",
       "      <td>0.0</td>\n",
       "      <td>0</td>\n",
       "    </tr>\n",
       "    <tr>\n",
       "      <th>2008</th>\n",
       "      <td>0</td>\n",
       "      <td>100</td>\n",
       "      <td>60.0</td>\n",
       "      <td>0</td>\n",
       "    </tr>\n",
       "    <tr>\n",
       "      <th>2009</th>\n",
       "      <td>0</td>\n",
       "      <td>0</td>\n",
       "      <td>0.0</td>\n",
       "      <td>0</td>\n",
       "    </tr>\n",
       "  </tbody>\n",
       "</table>\n",
       "</div>"
      ],
      "text/plain": [
       "      USD      IDR  persen  inflasi\n",
       "2005    0        0     0.0        0\n",
       "2006    0        0     1.0        0\n",
       "2007    0  2500000     0.0        0\n",
       "2008    0      100    60.0        0\n",
       "2009    0        0     0.0        0"
      ]
     },
     "execution_count": 162,
     "metadata": {},
     "output_type": "execute_result"
    }
   ],
   "source": [
    "# cls_old_ekonomi['mati'] = [re.sub(\"[^0-9]\", \"\", str(mati)) if (re.sub(\"[^0-9]\", \"\", str(mati)) != '') else 1 for mati in cls_old_ekonomi['mati']]\n",
    "cls_old_ekonomi['USD'] = cls_old_ekonomi['USD'].astype(int)\n",
    "\n",
    "# cls_old_ekonomi['luka'] = [re.sub(\"[^0-9]\", \"\", str(luka)) if (re.sub(\"[^0-9]\", \"\", str(luka)) != '') else 1 for luka in cls_old_ekonomi['luka']]\n",
    "cls_old_ekonomi['IDR'] = cls_old_ekonomi['IDR'].astype(int)\n",
    "\n",
    "# cls_old_ekonomi['rumah'] = [re.sub(\"[^0-9]\", \"\", str(rumah)) if (re.sub(\"[^0-9]\", \"\", str(rumah)) != '') else 1 for rumah in cls_old_ekonomi['rumah']]\n",
    "# cls_old_ekonomi['rumah'] = cls_old_ekonomi['rumah'].astype(int)\n",
    "\n",
    "# cls_old_ekonomi['orang'] = [re.sub(\"[^0-9]\", \"\", str(orang)) if (re.sub(\"[^0-9]\", \"\", str(orang)) != '') else 1 for orang in cls_old_ekonomi['orang']]\n",
    "cls_old_ekonomi['inflasi'] = cls_old_ekonomi['inflasi'].astype(int)\n",
    "# cls_old_ekonomi = cls_old_ekonomi.replace({',': '.'}, regex=True)\n",
    "\n",
    "cls_old_ekonomi.head()"
   ]
  },
  {
   "attachments": {},
   "cell_type": "markdown",
   "metadata": {},
   "source": [
    "### Input Severity"
   ]
  },
  {
   "cell_type": "code",
   "execution_count": 163,
   "metadata": {},
   "outputs": [],
   "source": [
    "# klasifikasi.ipynb ekonomi\n",
    "def calc_eko(df):\n",
    "  # Kondisi Gabungan \n",
    "  keparahanValues = []\n",
    "  for i in range (0,len(df)):\n",
    "\n",
    "    USD=df.iloc[i,0]\n",
    "    IDR=df.iloc[i,1]\n",
    "    persen=df.iloc[i,2]\n",
    "    inflasi=df.iloc[i,3]\n",
    "    # print(USD)\n",
    "\n",
    "    # USD\n",
    "    if(USD==0 or USD<=100000000 ):\n",
    "      keparahanUSD=1\n",
    "    \n",
    "    elif(USD>100000000 or USD<=1000000000 ):\n",
    "      keparahanUSD=2\n",
    "    \n",
    "    elif(USD>100000000 ):\n",
    "      keparahanUSD=3\n",
    "    \n",
    "    # IDR\n",
    "    if(IDR==0 or IDR<=100000000 ):\n",
    "      keparahanIDR=1\n",
    "    \n",
    "    elif(IDR>100000000 or IDR<=1000000000 ):\n",
    "      keparahanIDR=2\n",
    "    \n",
    "    elif(IDR>100000000 ):\n",
    "      keparahanIDR=3\n",
    "    \n",
    "    # PERSEN\n",
    "    if(persen==0 or persen<=5 ):\n",
    "      keparahanPERSEN=1\n",
    "    \n",
    "    elif(persen>5 or persen<=10 ):\n",
    "      keparahanPERSEN=2\n",
    "    \n",
    "    elif(persen>10 ):\n",
    "      keparahanPERSEN=3\n",
    "    \n",
    "    # INFLASI \n",
    "    if(inflasi==0 ):\n",
    "      keparahanINFLASI=1\n",
    "    else:\n",
    "      keparahanINFLASI=3\n",
    "\n",
    "\n",
    "    # gabung USD IDR PERSEN\n",
    "    if(keparahanUSD==1 and keparahanIDR==1 and keparahanPERSEN==1 ):\n",
    "      keparahan3=1 \n",
    "    if(keparahanUSD==2 and keparahanIDR==1 and keparahanPERSEN==1 ):\n",
    "      keparahan3=2\n",
    "    if(keparahanUSD==3 and keparahanIDR==1 and keparahanPERSEN==1 ):\n",
    "      keparahan3=3\n",
    "    if(keparahanUSD==1 and keparahanIDR==2 and keparahanPERSEN==1 ):\n",
    "      keparahan3=2\n",
    "    if(keparahanUSD==2 and keparahanIDR==2 and keparahanPERSEN==1 ):\n",
    "      keparahan3=2\n",
    "    if(keparahanUSD==3 and keparahanIDR==2 and keparahanPERSEN==1 ):\n",
    "      keparahan3=3\n",
    "    if(keparahanUSD==1 and keparahanIDR==3 and keparahanPERSEN==1 ):\n",
    "      keparahan3=3\n",
    "    if(keparahanUSD==2 and keparahanIDR==3 and keparahanPERSEN==1 ):\n",
    "      keparahan3=3\n",
    "    if(keparahanUSD==3 and keparahanIDR==3 and keparahanPERSEN==1 ):\n",
    "      keparahan3=3\n",
    "\n",
    "    if(keparahanUSD==1 and keparahanIDR==1 and keparahanPERSEN==2 ):\n",
    "      keparahan3=2\n",
    "    if(keparahanUSD==2 and keparahanIDR==1 and keparahanPERSEN==2 ):\n",
    "      keparahan3=2\n",
    "    if(keparahanUSD==3 and keparahanIDR==1 and keparahanPERSEN==2 ):\n",
    "      keparahan3=3\n",
    "    if(keparahanUSD==1 and keparahanIDR==2 and keparahanPERSEN==2 ):\n",
    "      keparahan3=2\n",
    "    if(keparahanUSD==2 and keparahanIDR==2 and keparahanPERSEN==2 ):\n",
    "      keparahan3=2\n",
    "    if(keparahanUSD==3 and keparahanIDR==2 and keparahanPERSEN==2 ):\n",
    "      keparahan3=3\n",
    "    if(keparahanUSD==1 and keparahanIDR==3 and keparahanPERSEN==2 ):\n",
    "      keparahan3=3\n",
    "    if(keparahanUSD==2 and keparahanIDR==3 and keparahanPERSEN==2 ):\n",
    "      keparahan3=3\n",
    "    if(keparahanUSD==3 and keparahanIDR==3 and keparahanPERSEN==2 ):\n",
    "      keparahan3=3\n",
    "\n",
    "    if(keparahanUSD==1 and keparahanIDR==1 and keparahanPERSEN==3 ):\n",
    "      keparahan3=3\n",
    "    if(keparahanUSD==2 and keparahanIDR==1 and keparahanPERSEN==3 ):\n",
    "      keparahan3=3\n",
    "    if(keparahanUSD==3 and keparahanIDR==1 and keparahanPERSEN==3 ):\n",
    "      keparahan3=3\n",
    "    if(keparahanUSD==1 and keparahanIDR==2 and keparahanPERSEN==3 ):\n",
    "      keparahan3=3\n",
    "    if(keparahanUSD==2 and keparahanIDR==2 and keparahanPERSEN==3 ):\n",
    "      keparahan3=3\n",
    "    if(keparahanUSD==3 and keparahanIDR==2 and keparahanPERSEN==3 ):\n",
    "      keparahan3=3\n",
    "    if(keparahanUSD==1 and keparahanIDR==3 and keparahanPERSEN==3 ):\n",
    "      keparahan3=3\n",
    "    if(keparahanUSD==2 and keparahanIDR==3 and keparahanPERSEN==3 ):\n",
    "      keparahan3=3\n",
    "    if(keparahanUSD==3 and keparahanIDR==3 and keparahanPERSEN==3 ):\n",
    "      keparahan3=3\n",
    "\n",
    "    # gabung USD IDR PERSEN\n",
    "    if(keparahan3==1 and keparahanINFLASI==1):\n",
    "      keparahanTotal=1    \n",
    "      # keparahanTotal=\"rendah\"  \n",
    "    if(keparahan3==1 and keparahanINFLASI==3):\n",
    "      keparahanTotal=3\n",
    "      # keparahanTotal=\"parah\"\n",
    "    if(keparahan3==2 and keparahanINFLASI==1):\n",
    "      keparahanTotal=2    \n",
    "      # keparahanTotal=\"sedang\"  \n",
    "    if(keparahan3==2 and keparahanINFLASI==3):\n",
    "      keparahanTotal=3\n",
    "      # keparahanTotal=\"parah\"\n",
    "    if(keparahan3==3 and keparahanINFLASI==1):\n",
    "      keparahanTotal=3    \n",
    "      # keparahanTotal=\"parah\"    \n",
    "    if(keparahan3==3 and keparahanINFLASI==3):\n",
    "      keparahanTotal=3\n",
    "      # keparahanTotal=\"parah\"\n",
    "    \n",
    "    keparahanValues.append(keparahanTotal)\n",
    "  return keparahanValues"
   ]
  },
  {
   "cell_type": "code",
   "execution_count": 164,
   "metadata": {},
   "outputs": [
    {
     "data": {
      "text/html": [
       "<div>\n",
       "<style scoped>\n",
       "    .dataframe tbody tr th:only-of-type {\n",
       "        vertical-align: middle;\n",
       "    }\n",
       "\n",
       "    .dataframe tbody tr th {\n",
       "        vertical-align: top;\n",
       "    }\n",
       "\n",
       "    .dataframe thead th {\n",
       "        text-align: right;\n",
       "    }\n",
       "</style>\n",
       "<table border=\"1\" class=\"dataframe\">\n",
       "  <thead>\n",
       "    <tr style=\"text-align: right;\">\n",
       "      <th></th>\n",
       "      <th>USD</th>\n",
       "      <th>IDR</th>\n",
       "      <th>persen</th>\n",
       "      <th>inflasi</th>\n",
       "      <th>keparahannew</th>\n",
       "    </tr>\n",
       "  </thead>\n",
       "  <tbody>\n",
       "    <tr>\n",
       "      <th>2005</th>\n",
       "      <td>0</td>\n",
       "      <td>0</td>\n",
       "      <td>0.0</td>\n",
       "      <td>0</td>\n",
       "      <td>1</td>\n",
       "    </tr>\n",
       "    <tr>\n",
       "      <th>2006</th>\n",
       "      <td>0</td>\n",
       "      <td>0</td>\n",
       "      <td>1.0</td>\n",
       "      <td>0</td>\n",
       "      <td>1</td>\n",
       "    </tr>\n",
       "    <tr>\n",
       "      <th>2007</th>\n",
       "      <td>0</td>\n",
       "      <td>2500000</td>\n",
       "      <td>0.0</td>\n",
       "      <td>0</td>\n",
       "      <td>1</td>\n",
       "    </tr>\n",
       "    <tr>\n",
       "      <th>2008</th>\n",
       "      <td>0</td>\n",
       "      <td>100</td>\n",
       "      <td>60.0</td>\n",
       "      <td>0</td>\n",
       "      <td>2</td>\n",
       "    </tr>\n",
       "    <tr>\n",
       "      <th>2009</th>\n",
       "      <td>0</td>\n",
       "      <td>0</td>\n",
       "      <td>0.0</td>\n",
       "      <td>0</td>\n",
       "      <td>1</td>\n",
       "    </tr>\n",
       "  </tbody>\n",
       "</table>\n",
       "</div>"
      ],
      "text/plain": [
       "      USD      IDR  persen  inflasi  keparahannew\n",
       "2005    0        0     0.0        0             1\n",
       "2006    0        0     1.0        0             1\n",
       "2007    0  2500000     0.0        0             1\n",
       "2008    0      100    60.0        0             2\n",
       "2009    0        0     0.0        0             1"
      ]
     },
     "execution_count": 164,
     "metadata": {},
     "output_type": "execute_result"
    }
   ],
   "source": [
    "cls_old_ekonomi['keparahannew'] = calc_eko(cls_old_ekonomi)\n",
    "cls_old_ekonomi.head()"
   ]
  },
  {
   "attachments": {},
   "cell_type": "markdown",
   "metadata": {},
   "source": [
    "### Fit & Train"
   ]
  },
  {
   "cell_type": "code",
   "execution_count": 165,
   "metadata": {},
   "outputs": [],
   "source": [
    "# Declare feature vector and target variable\n",
    "X = cls_old_ekonomi.drop(['keparahannew'], axis=1)\n",
    "y = cls_old_ekonomi['keparahannew']"
   ]
  },
  {
   "cell_type": "code",
   "execution_count": 166,
   "metadata": {},
   "outputs": [
    {
     "name": "stdout",
     "output_type": "stream",
     "text": [
      "2512\n",
      "629\n",
      "(2512, 4) (629, 4)\n"
     ]
    }
   ],
   "source": [
    "# Split X and y into training and testing sets\n",
    "\n",
    "from sklearn.model_selection import train_test_split\n",
    "\n",
    "X_train, X_test, y_train, y_test = train_test_split(X, y, test_size = 0.2, random_state = 0)\n",
    "print(len(X_train))\n",
    "print(len(X_test))\n",
    "print(X_train.shape, X_test.shape)"
   ]
  },
  {
   "cell_type": "code",
   "execution_count": 167,
   "metadata": {},
   "outputs": [
    {
     "data": {
      "text/html": [
       "<div>\n",
       "<style scoped>\n",
       "    .dataframe tbody tr th:only-of-type {\n",
       "        vertical-align: middle;\n",
       "    }\n",
       "\n",
       "    .dataframe tbody tr th {\n",
       "        vertical-align: top;\n",
       "    }\n",
       "\n",
       "    .dataframe thead th {\n",
       "        text-align: right;\n",
       "    }\n",
       "</style>\n",
       "<table border=\"1\" class=\"dataframe\">\n",
       "  <thead>\n",
       "    <tr style=\"text-align: right;\">\n",
       "      <th></th>\n",
       "      <th>USD</th>\n",
       "      <th>IDR</th>\n",
       "      <th>persen</th>\n",
       "      <th>inflasi</th>\n",
       "    </tr>\n",
       "  </thead>\n",
       "  <tbody>\n",
       "    <tr>\n",
       "      <th>3298</th>\n",
       "      <td>0</td>\n",
       "      <td>0</td>\n",
       "      <td>0.0</td>\n",
       "      <td>0</td>\n",
       "    </tr>\n",
       "    <tr>\n",
       "      <th>2118</th>\n",
       "      <td>0</td>\n",
       "      <td>0</td>\n",
       "      <td>29.2</td>\n",
       "      <td>1</td>\n",
       "    </tr>\n",
       "    <tr>\n",
       "      <th>3429</th>\n",
       "      <td>0</td>\n",
       "      <td>0</td>\n",
       "      <td>0.0</td>\n",
       "      <td>0</td>\n",
       "    </tr>\n",
       "    <tr>\n",
       "      <th>3508</th>\n",
       "      <td>0</td>\n",
       "      <td>1</td>\n",
       "      <td>5.6</td>\n",
       "      <td>1</td>\n",
       "    </tr>\n",
       "    <tr>\n",
       "      <th>3917</th>\n",
       "      <td>1</td>\n",
       "      <td>1</td>\n",
       "      <td>0.0</td>\n",
       "      <td>1</td>\n",
       "    </tr>\n",
       "    <tr>\n",
       "      <th>...</th>\n",
       "      <td>...</td>\n",
       "      <td>...</td>\n",
       "      <td>...</td>\n",
       "      <td>...</td>\n",
       "    </tr>\n",
       "    <tr>\n",
       "      <th>2768</th>\n",
       "      <td>0</td>\n",
       "      <td>0</td>\n",
       "      <td>0.0</td>\n",
       "      <td>0</td>\n",
       "    </tr>\n",
       "    <tr>\n",
       "      <th>2840</th>\n",
       "      <td>0</td>\n",
       "      <td>0</td>\n",
       "      <td>5.0</td>\n",
       "      <td>0</td>\n",
       "    </tr>\n",
       "    <tr>\n",
       "      <th>3658</th>\n",
       "      <td>0</td>\n",
       "      <td>0</td>\n",
       "      <td>100.0</td>\n",
       "      <td>0</td>\n",
       "    </tr>\n",
       "    <tr>\n",
       "      <th>10108</th>\n",
       "      <td>0</td>\n",
       "      <td>0</td>\n",
       "      <td>0.0</td>\n",
       "      <td>0</td>\n",
       "    </tr>\n",
       "    <tr>\n",
       "      <th>10233</th>\n",
       "      <td>0</td>\n",
       "      <td>0</td>\n",
       "      <td>0.0</td>\n",
       "      <td>1</td>\n",
       "    </tr>\n",
       "  </tbody>\n",
       "</table>\n",
       "<p>2512 rows × 4 columns</p>\n",
       "</div>"
      ],
      "text/plain": [
       "       USD  IDR  persen  inflasi\n",
       "3298     0    0     0.0        0\n",
       "2118     0    0    29.2        1\n",
       "3429     0    0     0.0        0\n",
       "3508     0    1     5.6        1\n",
       "3917     1    1     0.0        1\n",
       "...    ...  ...     ...      ...\n",
       "2768     0    0     0.0        0\n",
       "2840     0    0     5.0        0\n",
       "3658     0    0   100.0        0\n",
       "10108    0    0     0.0        0\n",
       "10233    0    0     0.0        1\n",
       "\n",
       "[2512 rows x 4 columns]"
      ]
     },
     "execution_count": 167,
     "metadata": {},
     "output_type": "execute_result"
    }
   ],
   "source": [
    "X_train"
   ]
  },
  {
   "cell_type": "code",
   "execution_count": 168,
   "metadata": {},
   "outputs": [
    {
     "name": "stdout",
     "output_type": "stream",
     "text": [
      "Model accuracy score\n",
      "Naive Bayes : 0.6359\n",
      "Random Forest : 0.9984\n",
      "Logistic Regression : 0.7663\n",
      "Decision Tree : 0.9984\n",
      "SVM : 0.8903\n",
      "KNearestNeighbors : 0.9348\n",
      "Deep Learning (MLP) : 0.9936\n",
      "\n",
      "Average cross-validation score\n",
      "Naive Bayes: 0.6449\n",
      "Random Forest: 0.9992\n",
      "Logistic Regression: 0.9881\n",
      "Decision Tree: 1.0000\n",
      "SVM: 0.8742\n",
      "KNearestNeighbors: 0.9407\n",
      "Deep Learning (MLP): 0.9968\n",
      "\n",
      "f1 score\n",
      "Naive Bayes: 0.5708\n",
      "Random Forest: 0.9984\n",
      "Logistic Regression: 0.7586\n",
      "Decision Tree: 0.9984\n",
      "SVM: 0.8733\n",
      "KNearestNeighbors: 0.9340\n",
      "Deep Learning (MLP): 0.9936\n",
      "\n",
      "              precision    recall  f1-score   support\n",
      "\n",
      "      rendah       1.00      1.00      1.00       423\n",
      "      sedang       1.00      0.99      1.00       124\n",
      "       parah       1.00      1.00      1.00        82\n",
      "\n",
      "    accuracy                           1.00       629\n",
      "   macro avg       1.00      1.00      1.00       629\n",
      "weighted avg       1.00      1.00      1.00       629\n",
      "\n"
     ]
    },
    {
     "data": {
      "image/png": "[encoded data removed]",
      "text/plain": [
       "<Figure size 600x300 with 2 Axes>"
      ]
     },
     "metadata": {},
     "output_type": "display_data"
    }
   ],
   "source": [
    "compare_cls(X_train, X_test, y_train, y_test, topik=\"ekonomi\")"
   ]
  },
  {
   "attachments": {},
   "cell_type": "markdown",
   "metadata": {},
   "source": [
    "## Kecelakaan"
   ]
  },
  {
   "attachments": {},
   "cell_type": "markdown",
   "metadata": {},
   "source": [
    "### Preprocess"
   ]
  },
  {
   "cell_type": "code",
   "execution_count": 169,
   "metadata": {},
   "outputs": [
    {
     "name": "stdout",
     "output_type": "stream",
     "text": [
      "2102\n"
     ]
    },
    {
     "data": {
      "text/plain": [
       "mati         float64\n",
       "luka         float64\n",
       "hilang       float64\n",
       "tenggelam    float64\n",
       "pesawat      float64\n",
       "dtype: object"
      ]
     },
     "execution_count": 169,
     "metadata": {},
     "output_type": "execute_result"
    }
   ],
   "source": [
    "# Kecelakaan Section (Topic id = 3)\n",
    "cls_old_kecelakaan = cls_old[cls_old['berita_topik_id'] == 3]\n",
    "cls_old_kecelakaan = cls_old_kecelakaan[['sev_death', 'sev_injury', 'sev_lost', 'sev_sink', 'sev_plane']]\n",
    "print(len(cls_old_kecelakaan))\n",
    "cls_old_kecelakaan.rename(columns = {'sev_death':'mati', 'sev_injury':'luka', 'sev_lost':'hilang', 'sev_sink':'tenggelam', 'sev_plane':'pesawat'}, inplace=True)\n",
    "cls_old_kecelakaan.dtypes"
   ]
  },
  {
   "cell_type": "code",
   "execution_count": 170,
   "metadata": {},
   "outputs": [
    {
     "data": {
      "text/html": [
       "<div>\n",
       "<style scoped>\n",
       "    .dataframe tbody tr th:only-of-type {\n",
       "        vertical-align: middle;\n",
       "    }\n",
       "\n",
       "    .dataframe tbody tr th {\n",
       "        vertical-align: top;\n",
       "    }\n",
       "\n",
       "    .dataframe thead th {\n",
       "        text-align: right;\n",
       "    }\n",
       "</style>\n",
       "<table border=\"1\" class=\"dataframe\">\n",
       "  <thead>\n",
       "    <tr style=\"text-align: right;\">\n",
       "      <th></th>\n",
       "      <th>mati</th>\n",
       "      <th>luka</th>\n",
       "      <th>hilang</th>\n",
       "      <th>tenggelam</th>\n",
       "      <th>pesawat</th>\n",
       "    </tr>\n",
       "  </thead>\n",
       "  <tbody>\n",
       "    <tr>\n",
       "      <th>4333</th>\n",
       "      <td>7</td>\n",
       "      <td>1</td>\n",
       "      <td>0</td>\n",
       "      <td>0</td>\n",
       "      <td>0</td>\n",
       "    </tr>\n",
       "    <tr>\n",
       "      <th>4334</th>\n",
       "      <td>5</td>\n",
       "      <td>12</td>\n",
       "      <td>1</td>\n",
       "      <td>0</td>\n",
       "      <td>0</td>\n",
       "    </tr>\n",
       "    <tr>\n",
       "      <th>4335</th>\n",
       "      <td>1</td>\n",
       "      <td>1</td>\n",
       "      <td>0</td>\n",
       "      <td>0</td>\n",
       "      <td>0</td>\n",
       "    </tr>\n",
       "    <tr>\n",
       "      <th>4336</th>\n",
       "      <td>3</td>\n",
       "      <td>0</td>\n",
       "      <td>1</td>\n",
       "      <td>0</td>\n",
       "      <td>0</td>\n",
       "    </tr>\n",
       "    <tr>\n",
       "      <th>4337</th>\n",
       "      <td>0</td>\n",
       "      <td>5</td>\n",
       "      <td>0</td>\n",
       "      <td>0</td>\n",
       "      <td>0</td>\n",
       "    </tr>\n",
       "  </tbody>\n",
       "</table>\n",
       "</div>"
      ],
      "text/plain": [
       "      mati  luka  hilang  tenggelam  pesawat\n",
       "4333     7     1       0          0        0\n",
       "4334     5    12       1          0        0\n",
       "4335     1     1       0          0        0\n",
       "4336     3     0       1          0        0\n",
       "4337     0     5       0          0        0"
      ]
     },
     "execution_count": 170,
     "metadata": {},
     "output_type": "execute_result"
    }
   ],
   "source": [
    "cls_old_kecelakaan['mati'] = cls_old_kecelakaan['mati'].astype(int)\n",
    "cls_old_kecelakaan['luka'] = cls_old_kecelakaan['luka'].astype(int)\n",
    "cls_old_kecelakaan['hilang'] = cls_old_kecelakaan['hilang'].astype(int)\n",
    "cls_old_kecelakaan['tenggelam'] = cls_old_kecelakaan['tenggelam'].astype(int)\n",
    "cls_old_kecelakaan['pesawat'] = cls_old_kecelakaan['pesawat'].astype(int)\n",
    "\n",
    "cls_old_kecelakaan.head()"
   ]
  },
  {
   "attachments": {},
   "cell_type": "markdown",
   "metadata": {},
   "source": [
    "### Input Severity"
   ]
  },
  {
   "cell_type": "code",
   "execution_count": 171,
   "metadata": {},
   "outputs": [],
   "source": [
    "def calc_kec(df):\n",
    "    keparahanValues = []\n",
    "    for i in range (0,len(df)):\n",
    "        mati=df.iloc[i,0]\n",
    "        luka=df.iloc[i,1]\n",
    "        hilang=df.iloc[i,2]\n",
    "        tenggelam=df.iloc[i,3]\n",
    "        pesawat=df.iloc[i,4]\n",
    "\n",
    "        keparahan = 1\n",
    "\n",
    "        if mati>0 or luka>=6 or hilang>=4 or tenggelam>=4:\n",
    "            keparahan = 2\n",
    "        \n",
    "        if mati>3 or luka>10 or hilang>10 or tenggelam>10 or pesawat != 0:\n",
    "            keparahan = 3\n",
    "\n",
    "        keparahanValues.append(keparahan)\n",
    "    return keparahanValues"
   ]
  },
  {
   "cell_type": "code",
   "execution_count": 172,
   "metadata": {},
   "outputs": [
    {
     "data": {
      "text/html": [
       "<div>\n",
       "<style scoped>\n",
       "    .dataframe tbody tr th:only-of-type {\n",
       "        vertical-align: middle;\n",
       "    }\n",
       "\n",
       "    .dataframe tbody tr th {\n",
       "        vertical-align: top;\n",
       "    }\n",
       "\n",
       "    .dataframe thead th {\n",
       "        text-align: right;\n",
       "    }\n",
       "</style>\n",
       "<table border=\"1\" class=\"dataframe\">\n",
       "  <thead>\n",
       "    <tr style=\"text-align: right;\">\n",
       "      <th></th>\n",
       "      <th>mati</th>\n",
       "      <th>luka</th>\n",
       "      <th>hilang</th>\n",
       "      <th>tenggelam</th>\n",
       "      <th>pesawat</th>\n",
       "      <th>keparahannew</th>\n",
       "    </tr>\n",
       "  </thead>\n",
       "  <tbody>\n",
       "    <tr>\n",
       "      <th>4333</th>\n",
       "      <td>7</td>\n",
       "      <td>1</td>\n",
       "      <td>0</td>\n",
       "      <td>0</td>\n",
       "      <td>0</td>\n",
       "      <td>3</td>\n",
       "    </tr>\n",
       "    <tr>\n",
       "      <th>4334</th>\n",
       "      <td>5</td>\n",
       "      <td>12</td>\n",
       "      <td>1</td>\n",
       "      <td>0</td>\n",
       "      <td>0</td>\n",
       "      <td>3</td>\n",
       "    </tr>\n",
       "    <tr>\n",
       "      <th>4335</th>\n",
       "      <td>1</td>\n",
       "      <td>1</td>\n",
       "      <td>0</td>\n",
       "      <td>0</td>\n",
       "      <td>0</td>\n",
       "      <td>2</td>\n",
       "    </tr>\n",
       "    <tr>\n",
       "      <th>4336</th>\n",
       "      <td>3</td>\n",
       "      <td>0</td>\n",
       "      <td>1</td>\n",
       "      <td>0</td>\n",
       "      <td>0</td>\n",
       "      <td>2</td>\n",
       "    </tr>\n",
       "    <tr>\n",
       "      <th>4337</th>\n",
       "      <td>0</td>\n",
       "      <td>5</td>\n",
       "      <td>0</td>\n",
       "      <td>0</td>\n",
       "      <td>0</td>\n",
       "      <td>1</td>\n",
       "    </tr>\n",
       "  </tbody>\n",
       "</table>\n",
       "</div>"
      ],
      "text/plain": [
       "      mati  luka  hilang  tenggelam  pesawat  keparahannew\n",
       "4333     7     1       0          0        0             3\n",
       "4334     5    12       1          0        0             3\n",
       "4335     1     1       0          0        0             2\n",
       "4336     3     0       1          0        0             2\n",
       "4337     0     5       0          0        0             1"
      ]
     },
     "execution_count": 172,
     "metadata": {},
     "output_type": "execute_result"
    }
   ],
   "source": [
    "cls_old_kecelakaan['keparahannew']=calc_kec(cls_old_kecelakaan)\n",
    "cls_old_kecelakaan.head()"
   ]
  },
  {
   "attachments": {},
   "cell_type": "markdown",
   "metadata": {},
   "source": [
    "### Fit & Train"
   ]
  },
  {
   "cell_type": "code",
   "execution_count": 173,
   "metadata": {},
   "outputs": [],
   "source": [
    "X = cls_old_kecelakaan.drop(['keparahannew'], axis=1)\n",
    "y = cls_old_kecelakaan['keparahannew']"
   ]
  },
  {
   "cell_type": "code",
   "execution_count": 174,
   "metadata": {},
   "outputs": [
    {
     "name": "stdout",
     "output_type": "stream",
     "text": [
      "1681\n",
      "421\n",
      "(1681, 5) (421, 5) (1681,) (421,)\n"
     ]
    }
   ],
   "source": [
    "# Split X and y into training and testing sets\n",
    "\n",
    "from sklearn.model_selection import train_test_split\n",
    "\n",
    "X_train, X_test, y_train, y_test = train_test_split(X, y, test_size = 0.2, random_state = 0)\n",
    "print(len(X_train))\n",
    "print(len(X_test))\n",
    "print(X_train.shape, X_test.shape, y_train.shape, y_test.shape)"
   ]
  },
  {
   "cell_type": "code",
   "execution_count": 175,
   "metadata": {},
   "outputs": [
    {
     "name": "stdout",
     "output_type": "stream",
     "text": [
      "Model accuracy score\n",
      "Naive Bayes : 0.4584\n",
      "Random Forest : 0.9952\n",
      "Logistic Regression : 0.9881\n",
      "Decision Tree : 0.9976\n",
      "SVM : 0.4917\n",
      "KNearestNeighbors : 0.9952\n",
      "Deep Learning (MLP) : 0.4893\n",
      "\n",
      "Average cross-validation score\n",
      "Naive Bayes: 0.5069\n",
      "Random Forest: 0.9976\n",
      "Logistic Regression: 0.9869\n",
      "Decision Tree: 0.9982\n",
      "SVM: 0.4985\n",
      "KNearestNeighbors: 0.9893\n",
      "Deep Learning (MLP): 0.4961\n",
      "\n",
      "f1 score\n",
      "Naive Bayes: 0.2933\n",
      "Random Forest: 0.9952\n",
      "Logistic Regression: 0.9882\n",
      "Decision Tree: 0.9976\n",
      "SVM: 0.3494\n",
      "KNearestNeighbors: 0.9952\n",
      "Deep Learning (MLP): 0.3476\n",
      "\n",
      "              precision    recall  f1-score   support\n",
      "\n",
      "      rendah       1.00      1.00      1.00       176\n",
      "      sedang       0.99      1.00      0.99       191\n",
      "       parah       1.00      0.96      0.98        54\n",
      "\n",
      "    accuracy                           1.00       421\n",
      "   macro avg       1.00      0.99      0.99       421\n",
      "weighted avg       1.00      1.00      1.00       421\n",
      "\n"
     ]
    },
    {
     "data": {
      "image/png": "[encoded data removed]",
      "text/plain": [
       "<Figure size 600x300 with 2 Axes>"
      ]
     },
     "metadata": {},
     "output_type": "display_data"
    }
   ],
   "source": [
    "compare_cls(X_train, X_test, y_train, y_test, topik=\"kecelakaan\")"
   ]
  },
  {
   "attachments": {},
   "cell_type": "markdown",
   "metadata": {},
   "source": [
    "## Kesehatan"
   ]
  },
  {
   "attachments": {},
   "cell_type": "markdown",
   "metadata": {},
   "source": [
    "### Preprocess"
   ]
  },
  {
   "cell_type": "code",
   "execution_count": 176,
   "metadata": {},
   "outputs": [
    {
     "name": "stdout",
     "output_type": "stream",
     "text": [
      "1309\n"
     ]
    },
    {
     "data": {
      "text/plain": [
       "mati    float64\n",
       "luka    float64\n",
       "dtype: object"
      ]
     },
     "execution_count": 176,
     "metadata": {},
     "output_type": "execute_result"
    }
   ],
   "source": [
    "# Kesehatan Section (Topic id = 4)\n",
    "cls_old_kesehatan = cls_old[cls_old['berita_topik_id'] == 4]\n",
    "cls_old_kesehatan = cls_old_kesehatan[['sev_death', 'sev_injury']]\n",
    "print(len(cls_old_kesehatan))\n",
    "cls_old_kesehatan.rename(columns = {'sev_death':'mati', 'sev_injury':'luka'}, inplace=True)\n",
    "cls_old_kesehatan.dtypes"
   ]
  },
  {
   "cell_type": "code",
   "execution_count": 177,
   "metadata": {},
   "outputs": [
    {
     "data": {
      "text/html": [
       "<div>\n",
       "<style scoped>\n",
       "    .dataframe tbody tr th:only-of-type {\n",
       "        vertical-align: middle;\n",
       "    }\n",
       "\n",
       "    .dataframe tbody tr th {\n",
       "        vertical-align: top;\n",
       "    }\n",
       "\n",
       "    .dataframe thead th {\n",
       "        text-align: right;\n",
       "    }\n",
       "</style>\n",
       "<table border=\"1\" class=\"dataframe\">\n",
       "  <thead>\n",
       "    <tr style=\"text-align: right;\">\n",
       "      <th></th>\n",
       "      <th>mati</th>\n",
       "      <th>luka</th>\n",
       "    </tr>\n",
       "  </thead>\n",
       "  <tbody>\n",
       "    <tr>\n",
       "      <th>5250</th>\n",
       "      <td>0</td>\n",
       "      <td>1</td>\n",
       "    </tr>\n",
       "    <tr>\n",
       "      <th>5251</th>\n",
       "      <td>0</td>\n",
       "      <td>0</td>\n",
       "    </tr>\n",
       "    <tr>\n",
       "      <th>5252</th>\n",
       "      <td>0</td>\n",
       "      <td>0</td>\n",
       "    </tr>\n",
       "    <tr>\n",
       "      <th>5253</th>\n",
       "      <td>0</td>\n",
       "      <td>1</td>\n",
       "    </tr>\n",
       "    <tr>\n",
       "      <th>5254</th>\n",
       "      <td>0</td>\n",
       "      <td>1</td>\n",
       "    </tr>\n",
       "  </tbody>\n",
       "</table>\n",
       "</div>"
      ],
      "text/plain": [
       "      mati  luka\n",
       "5250     0     1\n",
       "5251     0     0\n",
       "5252     0     0\n",
       "5253     0     1\n",
       "5254     0     1"
      ]
     },
     "execution_count": 177,
     "metadata": {},
     "output_type": "execute_result"
    }
   ],
   "source": [
    "cls_old_kesehatan['mati'] = cls_old_kesehatan['mati'].astype(int)\n",
    "cls_old_kesehatan['luka'] = cls_old_kesehatan['luka'].astype(int)\n",
    "\n",
    "cls_old_kesehatan.head()"
   ]
  },
  {
   "attachments": {},
   "cell_type": "markdown",
   "metadata": {},
   "source": [
    "### Input Severity"
   ]
  },
  {
   "cell_type": "code",
   "execution_count": 178,
   "metadata": {},
   "outputs": [],
   "source": [
    "def calc_kes(df):\n",
    "    keparahanValues = []\n",
    "    for i in range (0,len(df)):\n",
    "        mati=df.iloc[i,0]\n",
    "        luka=df.iloc[i,1]\n",
    "\n",
    "        keparahan = 1\n",
    "\n",
    "        if mati>=4 or luka>=11:\n",
    "            keparahan = 2\n",
    "        \n",
    "        if mati>10 or luka>25:\n",
    "            keparahan = 3\n",
    "\n",
    "        keparahanValues.append(keparahan)\n",
    "    return keparahanValues"
   ]
  },
  {
   "cell_type": "code",
   "execution_count": 179,
   "metadata": {},
   "outputs": [
    {
     "data": {
      "text/html": [
       "<div>\n",
       "<style scoped>\n",
       "    .dataframe tbody tr th:only-of-type {\n",
       "        vertical-align: middle;\n",
       "    }\n",
       "\n",
       "    .dataframe tbody tr th {\n",
       "        vertical-align: top;\n",
       "    }\n",
       "\n",
       "    .dataframe thead th {\n",
       "        text-align: right;\n",
       "    }\n",
       "</style>\n",
       "<table border=\"1\" class=\"dataframe\">\n",
       "  <thead>\n",
       "    <tr style=\"text-align: right;\">\n",
       "      <th></th>\n",
       "      <th>mati</th>\n",
       "      <th>luka</th>\n",
       "      <th>keparahannew</th>\n",
       "    </tr>\n",
       "  </thead>\n",
       "  <tbody>\n",
       "    <tr>\n",
       "      <th>5250</th>\n",
       "      <td>0</td>\n",
       "      <td>1</td>\n",
       "      <td>1</td>\n",
       "    </tr>\n",
       "    <tr>\n",
       "      <th>5251</th>\n",
       "      <td>0</td>\n",
       "      <td>0</td>\n",
       "      <td>1</td>\n",
       "    </tr>\n",
       "    <tr>\n",
       "      <th>5252</th>\n",
       "      <td>0</td>\n",
       "      <td>0</td>\n",
       "      <td>1</td>\n",
       "    </tr>\n",
       "    <tr>\n",
       "      <th>5253</th>\n",
       "      <td>0</td>\n",
       "      <td>1</td>\n",
       "      <td>1</td>\n",
       "    </tr>\n",
       "    <tr>\n",
       "      <th>5254</th>\n",
       "      <td>0</td>\n",
       "      <td>1</td>\n",
       "      <td>1</td>\n",
       "    </tr>\n",
       "  </tbody>\n",
       "</table>\n",
       "</div>"
      ],
      "text/plain": [
       "      mati  luka  keparahannew\n",
       "5250     0     1             1\n",
       "5251     0     0             1\n",
       "5252     0     0             1\n",
       "5253     0     1             1\n",
       "5254     0     1             1"
      ]
     },
     "execution_count": 179,
     "metadata": {},
     "output_type": "execute_result"
    }
   ],
   "source": [
    "cls_old_kesehatan['keparahannew']=calc_kes(cls_old_kesehatan)\n",
    "cls_old_kesehatan.head()"
   ]
  },
  {
   "attachments": {},
   "cell_type": "markdown",
   "metadata": {},
   "source": [
    "### Fit & Train"
   ]
  },
  {
   "cell_type": "code",
   "execution_count": 180,
   "metadata": {},
   "outputs": [],
   "source": [
    "X = cls_old_kesehatan.drop(['keparahannew'], axis=1)\n",
    "y = cls_old_kesehatan['keparahannew']"
   ]
  },
  {
   "cell_type": "code",
   "execution_count": 181,
   "metadata": {},
   "outputs": [
    {
     "name": "stdout",
     "output_type": "stream",
     "text": [
      "981\n",
      "328\n",
      "(981, 2) (328, 2) (981,) (328,)\n"
     ]
    }
   ],
   "source": [
    "# Split X and y into training and testing sets\n",
    "\n",
    "from sklearn.model_selection import train_test_split\n",
    "\n",
    "X_train, X_test, y_train, y_test = train_test_split(X, y, test_size = 0.25, random_state = 0)\n",
    "print(len(X_train))\n",
    "print(len(X_test))\n",
    "print(X_train.shape, X_test.shape, y_train.shape, y_test.shape)"
   ]
  },
  {
   "cell_type": "code",
   "execution_count": 182,
   "metadata": {},
   "outputs": [
    {
     "name": "stdout",
     "output_type": "stream",
     "text": [
      "Model accuracy score\n",
      "Naive Bayes : 0.0457\n",
      "Random Forest : 0.9970\n",
      "Logistic Regression : 0.9817\n",
      "Decision Tree : 1.0000\n",
      "SVM : 0.9116\n",
      "KNearestNeighbors : 0.9970\n",
      "Deep Learning (MLP) : 0.9482\n",
      "\n",
      "Average cross-validation score\n",
      "Naive Bayes: 0.1204\n",
      "Random Forest: 0.9939\n",
      "Logistic Regression: 0.9959\n",
      "Decision Tree: 0.9959\n",
      "SVM: 0.8971\n",
      "KNearestNeighbors: 0.9918\n",
      "Deep Learning (MLP): 0.9368\n",
      "\n",
      "f1 score\n",
      "Naive Bayes: 0.0260\n",
      "Random Forest: 0.9969\n",
      "Logistic Regression: 0.9784\n",
      "Decision Tree: 1.0000\n",
      "SVM: 0.8694\n",
      "KNearestNeighbors: 0.9969\n",
      "Deep Learning (MLP): 0.9312\n",
      "\n",
      "              precision    recall  f1-score   support\n",
      "\n",
      "      rendah       1.00      1.00      1.00       299\n",
      "      sedang       1.00      0.90      0.95        10\n",
      "       parah       1.00      1.00      1.00        19\n",
      "\n",
      "    accuracy                           1.00       328\n",
      "   macro avg       1.00      0.97      0.98       328\n",
      "weighted avg       1.00      1.00      1.00       328\n",
      "\n"
     ]
    },
    {
     "data": {
      "image/png": "[encoded data removed]",
      "text/plain": [
       "<Figure size 600x300 with 2 Axes>"
      ]
     },
     "metadata": {},
     "output_type": "display_data"
    }
   ],
   "source": [
    "compare_cls(X_train, X_test, y_train, y_test, topik=\"kesehatan\")"
   ]
  },
  {
   "attachments": {},
   "cell_type": "markdown",
   "metadata": {},
   "source": [
    "## Kriminalitas"
   ]
  },
  {
   "attachments": {},
   "cell_type": "markdown",
   "metadata": {},
   "source": [
    "### Preprocess"
   ]
  },
  {
   "cell_type": "code",
   "execution_count": 183,
   "metadata": {},
   "outputs": [
    {
     "name": "stdout",
     "output_type": "stream",
     "text": [
      "2479\n"
     ]
    },
    {
     "data": {
      "text/plain": [
       "mati              float64\n",
       "luka              float64\n",
       "kerugianbarang    float64\n",
       "kerugianuang      float64\n",
       "pemerkosaan       float64\n",
       "dtype: object"
      ]
     },
     "execution_count": 183,
     "metadata": {},
     "output_type": "execute_result"
    }
   ],
   "source": [
    "# Kriminalitas Section (Topic id = 5)\n",
    "cls_old_kriminalitas = cls_old[cls_old['berita_topik_id'] == 5]\n",
    "cls_old_kriminalitas = cls_old_kriminalitas[['sev_death', 'sev_injury', 'sev_lost_items', 'sev_lost_money', 'sev_rape']]\n",
    "print(len(cls_old_kriminalitas))\n",
    "cls_old_kriminalitas.rename(columns = {'sev_death':'mati', 'sev_injury':'luka', 'sev_lost_items':'kerugianbarang', 'sev_lost_money':'kerugianuang', 'sev_rape':'pemerkosaan'}, inplace=True)\n",
    "cls_old_kriminalitas.dtypes"
   ]
  },
  {
   "cell_type": "code",
   "execution_count": 184,
   "metadata": {},
   "outputs": [
    {
     "data": {
      "text/html": [
       "<div>\n",
       "<style scoped>\n",
       "    .dataframe tbody tr th:only-of-type {\n",
       "        vertical-align: middle;\n",
       "    }\n",
       "\n",
       "    .dataframe tbody tr th {\n",
       "        vertical-align: top;\n",
       "    }\n",
       "\n",
       "    .dataframe thead th {\n",
       "        text-align: right;\n",
       "    }\n",
       "</style>\n",
       "<table border=\"1\" class=\"dataframe\">\n",
       "  <thead>\n",
       "    <tr style=\"text-align: right;\">\n",
       "      <th></th>\n",
       "      <th>mati</th>\n",
       "      <th>luka</th>\n",
       "      <th>kerugianbarang</th>\n",
       "      <th>kerugianuang</th>\n",
       "      <th>pemerkosaan</th>\n",
       "    </tr>\n",
       "  </thead>\n",
       "  <tbody>\n",
       "    <tr>\n",
       "      <th>6469</th>\n",
       "      <td>0</td>\n",
       "      <td>0</td>\n",
       "      <td>1</td>\n",
       "      <td>400000000</td>\n",
       "      <td>0</td>\n",
       "    </tr>\n",
       "    <tr>\n",
       "      <th>6470</th>\n",
       "      <td>0</td>\n",
       "      <td>0</td>\n",
       "      <td>1</td>\n",
       "      <td>0</td>\n",
       "      <td>0</td>\n",
       "    </tr>\n",
       "    <tr>\n",
       "      <th>6471</th>\n",
       "      <td>0</td>\n",
       "      <td>1</td>\n",
       "      <td>1</td>\n",
       "      <td>400000000</td>\n",
       "      <td>0</td>\n",
       "    </tr>\n",
       "    <tr>\n",
       "      <th>6472</th>\n",
       "      <td>0</td>\n",
       "      <td>1</td>\n",
       "      <td>400000000</td>\n",
       "      <td>400000000</td>\n",
       "      <td>0</td>\n",
       "    </tr>\n",
       "    <tr>\n",
       "      <th>6473</th>\n",
       "      <td>0</td>\n",
       "      <td>1</td>\n",
       "      <td>1</td>\n",
       "      <td>1</td>\n",
       "      <td>0</td>\n",
       "    </tr>\n",
       "  </tbody>\n",
       "</table>\n",
       "</div>"
      ],
      "text/plain": [
       "      mati  luka  kerugianbarang  kerugianuang  pemerkosaan\n",
       "6469     0     0               1     400000000            0\n",
       "6470     0     0               1             0            0\n",
       "6471     0     1               1     400000000            0\n",
       "6472     0     1       400000000     400000000            0\n",
       "6473     0     1               1             1            0"
      ]
     },
     "execution_count": 184,
     "metadata": {},
     "output_type": "execute_result"
    }
   ],
   "source": [
    "cls_old_kriminalitas['mati'] = cls_old_kriminalitas['mati'].astype(int)\n",
    "cls_old_kriminalitas['luka'] = cls_old_kriminalitas['luka'].astype(int)\n",
    "cls_old_kriminalitas['kerugianbarang'] = cls_old_kriminalitas['kerugianbarang'].astype(int)\n",
    "cls_old_kriminalitas['kerugianuang'] = cls_old_kriminalitas['kerugianuang'].astype(int)\n",
    "cls_old_kriminalitas['pemerkosaan'] = cls_old_kriminalitas['pemerkosaan'].astype(int)\n",
    "\n",
    "cls_old_kriminalitas.head()"
   ]
  },
  {
   "attachments": {},
   "cell_type": "markdown",
   "metadata": {},
   "source": [
    "### Input Severity"
   ]
  },
  {
   "cell_type": "code",
   "execution_count": 185,
   "metadata": {},
   "outputs": [],
   "source": [
    "def calc_kri(df):\n",
    "    keparahanValues = []\n",
    "    for i in range (0,len(df)):\n",
    "        mati=df.iloc[i,0]\n",
    "        luka=df.iloc[i,1]\n",
    "        kerugianbarang=df.iloc[i,2]\n",
    "        kerugianuang=df.iloc[i,3]\n",
    "        pemerkosaan=df.iloc[i,4]\n",
    "\n",
    "        keparahan = 1\n",
    "\n",
    "        if luka>=2 or kerugianbarang>=3 or kerugianuang>5000000:\n",
    "            keparahan = 2\n",
    "\n",
    "        if mati>0 or luka>3 or kerugianbarang>4 or kerugianuang>4000000 or pemerkosaan>0 or (luka>0 and kerugianbarang>0) \\\n",
    "        or (luka>0 and kerugianuang>0) or (kerugianuang>0 and kerugianbarang>0):\n",
    "            keparahan = 3\n",
    "\n",
    "        if (kerugianbarang==1 and luka==1) or (kerugianuang>0 and luka==1) or (kerugianuang>0 and kerugianbarang==1):\n",
    "            keparahan = 2\n",
    "            \n",
    "        if luka>0 and kerugianbarang>0 and kerugianuang>0:\n",
    "            keparahan = 3\n",
    "\n",
    "        keparahanValues.append(keparahan)\n",
    "    return keparahanValues"
   ]
  },
  {
   "cell_type": "code",
   "execution_count": 186,
   "metadata": {},
   "outputs": [
    {
     "data": {
      "text/html": [
       "<div>\n",
       "<style scoped>\n",
       "    .dataframe tbody tr th:only-of-type {\n",
       "        vertical-align: middle;\n",
       "    }\n",
       "\n",
       "    .dataframe tbody tr th {\n",
       "        vertical-align: top;\n",
       "    }\n",
       "\n",
       "    .dataframe thead th {\n",
       "        text-align: right;\n",
       "    }\n",
       "</style>\n",
       "<table border=\"1\" class=\"dataframe\">\n",
       "  <thead>\n",
       "    <tr style=\"text-align: right;\">\n",
       "      <th></th>\n",
       "      <th>mati</th>\n",
       "      <th>luka</th>\n",
       "      <th>kerugianbarang</th>\n",
       "      <th>kerugianuang</th>\n",
       "      <th>pemerkosaan</th>\n",
       "      <th>keparahannew</th>\n",
       "    </tr>\n",
       "  </thead>\n",
       "  <tbody>\n",
       "    <tr>\n",
       "      <th>6469</th>\n",
       "      <td>0</td>\n",
       "      <td>0</td>\n",
       "      <td>1</td>\n",
       "      <td>400000000</td>\n",
       "      <td>0</td>\n",
       "      <td>2</td>\n",
       "    </tr>\n",
       "    <tr>\n",
       "      <th>6470</th>\n",
       "      <td>0</td>\n",
       "      <td>0</td>\n",
       "      <td>1</td>\n",
       "      <td>0</td>\n",
       "      <td>0</td>\n",
       "      <td>1</td>\n",
       "    </tr>\n",
       "    <tr>\n",
       "      <th>6471</th>\n",
       "      <td>0</td>\n",
       "      <td>1</td>\n",
       "      <td>1</td>\n",
       "      <td>400000000</td>\n",
       "      <td>0</td>\n",
       "      <td>3</td>\n",
       "    </tr>\n",
       "    <tr>\n",
       "      <th>6472</th>\n",
       "      <td>0</td>\n",
       "      <td>1</td>\n",
       "      <td>400000000</td>\n",
       "      <td>400000000</td>\n",
       "      <td>0</td>\n",
       "      <td>3</td>\n",
       "    </tr>\n",
       "    <tr>\n",
       "      <th>6473</th>\n",
       "      <td>0</td>\n",
       "      <td>1</td>\n",
       "      <td>1</td>\n",
       "      <td>1</td>\n",
       "      <td>0</td>\n",
       "      <td>3</td>\n",
       "    </tr>\n",
       "  </tbody>\n",
       "</table>\n",
       "</div>"
      ],
      "text/plain": [
       "      mati  luka  kerugianbarang  kerugianuang  pemerkosaan  keparahannew\n",
       "6469     0     0               1     400000000            0             2\n",
       "6470     0     0               1             0            0             1\n",
       "6471     0     1               1     400000000            0             3\n",
       "6472     0     1       400000000     400000000            0             3\n",
       "6473     0     1               1             1            0             3"
      ]
     },
     "execution_count": 186,
     "metadata": {},
     "output_type": "execute_result"
    }
   ],
   "source": [
    "cls_old_kriminalitas['keparahannew']=calc_kri(cls_old_kriminalitas)\n",
    "cls_old_kriminalitas.head()"
   ]
  },
  {
   "attachments": {},
   "cell_type": "markdown",
   "metadata": {},
   "source": [
    "### Fit & Train"
   ]
  },
  {
   "cell_type": "code",
   "execution_count": 187,
   "metadata": {},
   "outputs": [],
   "source": [
    "X = cls_old_kriminalitas.drop(['keparahannew'], axis=1)\n",
    "y = cls_old_kriminalitas['keparahannew']"
   ]
  },
  {
   "cell_type": "code",
   "execution_count": 188,
   "metadata": {},
   "outputs": [
    {
     "name": "stdout",
     "output_type": "stream",
     "text": [
      "1983\n",
      "496\n",
      "(1983, 5) (496, 5) (1983,) (496,)\n"
     ]
    }
   ],
   "source": [
    "# Split X and y into training and testing sets\n",
    "\n",
    "from sklearn.model_selection import train_test_split\n",
    "\n",
    "X_train, X_test, y_train, y_test = train_test_split(X, y, test_size = 0.2, random_state = 42)\n",
    "print(len(X_train))\n",
    "print(len(X_test))\n",
    "print(X_train.shape, X_test.shape, y_train.shape, y_test.shape)"
   ]
  },
  {
   "cell_type": "code",
   "execution_count": 189,
   "metadata": {},
   "outputs": [
    {
     "name": "stdout",
     "output_type": "stream",
     "text": [
      "Model accuracy score\n",
      "Naive Bayes : 0.1875\n",
      "Random Forest : 0.9980\n",
      "Logistic Regression : 0.8972\n",
      "Decision Tree : 0.9960\n",
      "SVM : 0.7137\n",
      "KNearestNeighbors : 0.9637\n",
      "Deep Learning (MLP) : 0.7238\n",
      "\n",
      "Average cross-validation score\n",
      "Naive Bayes: 0.1896\n",
      "Random Forest: 0.9939\n",
      "Logistic Regression: 0.8749\n",
      "Decision Tree: 0.9950\n",
      "SVM: 0.7141\n",
      "KNearestNeighbors: 0.9536\n",
      "Deep Learning (MLP): 0.7252\n",
      "\n",
      "f1 score\n",
      "Naive Bayes: 0.0794\n",
      "Random Forest: 0.9980\n",
      "Logistic Regression: 0.8865\n",
      "Decision Tree: 0.9960\n",
      "SVM: 0.6087\n",
      "KNearestNeighbors: 0.9633\n",
      "Deep Learning (MLP): 0.6381\n",
      "\n",
      "              precision    recall  f1-score   support\n",
      "\n",
      "      rendah       1.00      1.00      1.00        87\n",
      "      sedang       0.98      1.00      0.99        60\n",
      "       parah       1.00      1.00      1.00       349\n",
      "\n",
      "    accuracy                           1.00       496\n",
      "   macro avg       0.99      1.00      1.00       496\n",
      "weighted avg       1.00      1.00      1.00       496\n",
      "\n"
     ]
    },
    {
     "data": {
      "image/png": "[encoded data removed]",
      "text/plain": [
       "<Figure size 600x300 with 2 Axes>"
      ]
     },
     "metadata": {},
     "output_type": "display_data"
    }
   ],
   "source": [
    "compare_cls(X_train, X_test, y_train, y_test, topik=\"kriminalitas\")"
   ]
  },
  {
   "attachments": {},
   "cell_type": "markdown",
   "metadata": {},
   "source": [
    "## Olahraga"
   ]
  },
  {
   "attachments": {},
   "cell_type": "markdown",
   "metadata": {},
   "source": [
    "### Preprocess"
   ]
  },
  {
   "cell_type": "code",
   "execution_count": 190,
   "metadata": {},
   "outputs": [
    {
     "name": "stdout",
     "output_type": "stream",
     "text": [
      "489\n"
     ]
    },
    {
     "data": {
      "text/plain": [
       "ID                 int64\n",
       "berita            object\n",
       "internasional    float64\n",
       "nasional         float64\n",
       "provkota         float64\n",
       "cls               object\n",
       "dtype: object"
      ]
     },
     "execution_count": 190,
     "metadata": {},
     "output_type": "execute_result"
    }
   ],
   "source": [
    "# Kriminalitas Section (Topic id = 6)\n",
    "cls_old_olahraga = cls_old[cls_old['berita_topik_id'] == 6]\n",
    "cls_old_olahraga = cls_old_olahraga[['ID', 'berita_desc','sev_internasional', 'sev_nasional', 'sev_provkota', 'class_classification']]\n",
    "print(len(cls_old_olahraga))\n",
    "cls_old_olahraga.rename(columns = {'berita_desc':'berita', 'sev_internasional':'internasional', 'sev_nasional':'nasional', 'sev_provkota':'provkota', 'class_classification':'cls'}, inplace=True)\n",
    "cls_old_olahraga.dtypes"
   ]
  },
  {
   "cell_type": "code",
   "execution_count": 191,
   "metadata": {},
   "outputs": [
    {
     "data": {
      "text/html": [
       "<div>\n",
       "<style scoped>\n",
       "    .dataframe tbody tr th:only-of-type {\n",
       "        vertical-align: middle;\n",
       "    }\n",
       "\n",
       "    .dataframe tbody tr th {\n",
       "        vertical-align: top;\n",
       "    }\n",
       "\n",
       "    .dataframe thead th {\n",
       "        text-align: right;\n",
       "    }\n",
       "</style>\n",
       "<table border=\"1\" class=\"dataframe\">\n",
       "  <thead>\n",
       "    <tr style=\"text-align: right;\">\n",
       "      <th></th>\n",
       "      <th>ID</th>\n",
       "      <th>berita</th>\n",
       "      <th>internasional</th>\n",
       "      <th>nasional</th>\n",
       "      <th>provkota</th>\n",
       "      <th>cls</th>\n",
       "      <th>n_internasional</th>\n",
       "      <th>n_nasional</th>\n",
       "      <th>n_provkota</th>\n",
       "    </tr>\n",
       "  </thead>\n",
       "  <tbody>\n",
       "    <tr>\n",
       "      <th>8660</th>\n",
       "      <td>9105</td>\n",
       "      <td>_KlubDewa United Basketball Resmi Pindah Kanda...</td>\n",
       "      <td>0</td>\n",
       "      <td>0</td>\n",
       "      <td>0</td>\n",
       "      <td>provkota</td>\n",
       "      <td>0</td>\n",
       "      <td>0</td>\n",
       "      <td>0</td>\n",
       "    </tr>\n",
       "    <tr>\n",
       "      <th>8661</th>\n",
       "      <td>9106</td>\n",
       "      <td>Simak jadwal lengkap perhelatan BWF World Tour...</td>\n",
       "      <td>0</td>\n",
       "      <td>0</td>\n",
       "      <td>0</td>\n",
       "      <td>provkota</td>\n",
       "      <td>0</td>\n",
       "      <td>0</td>\n",
       "      <td>0</td>\n",
       "    </tr>\n",
       "    <tr>\n",
       "      <th>8662</th>\n",
       "      <td>9107</td>\n",
       "      <td>Berikut jadwal badminton 2023 yang dirilis ole...</td>\n",
       "      <td>0</td>\n",
       "      <td>0</td>\n",
       "      <td>0</td>\n",
       "      <td>provkota</td>\n",
       "      <td>0</td>\n",
       "      <td>0</td>\n",
       "      <td>0</td>\n",
       "    </tr>\n",
       "    <tr>\n",
       "      <th>8663</th>\n",
       "      <td>9108</td>\n",
       "      <td>Fajar Alfian/Muhammad Rian Ardianto lolos ke b...</td>\n",
       "      <td>0</td>\n",
       "      <td>0</td>\n",
       "      <td>0</td>\n",
       "      <td>provkota</td>\n",
       "      <td>0</td>\n",
       "      <td>0</td>\n",
       "      <td>0</td>\n",
       "    </tr>\n",
       "    <tr>\n",
       "      <th>8664</th>\n",
       "      <td>9109</td>\n",
       "      <td>\\- Indonesian Basketball League (IBL) 2023 aka...</td>\n",
       "      <td>0</td>\n",
       "      <td>0</td>\n",
       "      <td>0</td>\n",
       "      <td>provkota</td>\n",
       "      <td>0</td>\n",
       "      <td>0</td>\n",
       "      <td>0</td>\n",
       "    </tr>\n",
       "  </tbody>\n",
       "</table>\n",
       "</div>"
      ],
      "text/plain": [
       "        ID                                             berita  internasional  \\\n",
       "8660  9105  _KlubDewa United Basketball Resmi Pindah Kanda...              0   \n",
       "8661  9106  Simak jadwal lengkap perhelatan BWF World Tour...              0   \n",
       "8662  9107  Berikut jadwal badminton 2023 yang dirilis ole...              0   \n",
       "8663  9108  Fajar Alfian/Muhammad Rian Ardianto lolos ke b...              0   \n",
       "8664  9109  \\- Indonesian Basketball League (IBL) 2023 aka...              0   \n",
       "\n",
       "      nasional  provkota       cls  n_internasional  n_nasional  n_provkota  \n",
       "8660         0         0  provkota                0           0           0  \n",
       "8661         0         0  provkota                0           0           0  \n",
       "8662         0         0  provkota                0           0           0  \n",
       "8663         0         0  provkota                0           0           0  \n",
       "8664         0         0  provkota                0           0           0  "
      ]
     },
     "execution_count": 191,
     "metadata": {},
     "output_type": "execute_result"
    }
   ],
   "source": [
    "internasional_indeks = ['motogp', 'asian games', 'aff', 'olimpiade',\n",
    "                        'piala asia', 'bwf', 'nba', 'sea games', 'indonesia open', 'indonesia masters']\n",
    "nasional_indeks = ['pon', 'piala presiden', 'liga 2', 'liga 1', 'liga 3', 'ibl', 'proliga',\n",
    "                    'liga mahasiswa', 'liga mahasiswa', 'turnamen pramusim', 'pp pbsi', 'dbl', 'fiba']\n",
    "provkota_indeks = ['airlangga challenge', 'tiga pilar']\n",
    "kejuaraans = [internasional_indeks] + [nasional_indeks] + [provkota_indeks]\n",
    "\n",
    "num_inter = []\n",
    "num_nas = []\n",
    "num_prov = []\n",
    "\n",
    "for i in range(len(cls_old_olahraga)):\n",
    "    s = cls_old_olahraga['berita'].iloc[i]\n",
    "    s = s.replace('\\n', ' ')\n",
    "    s = s.replace('\\r', ' ')\n",
    "    s = re.sub(\"\\(.*?\\)\", \"\", s)\n",
    "    # s = s.lower()\n",
    "    tokens = word_tokenize(s)\n",
    "    word = (' ').join(tokens)\n",
    "\n",
    "    inte = 0\n",
    "    nasional = 0\n",
    "    prov = 0\n",
    "\n",
    "    for n in range(0, len(kejuaraans)):\n",
    "        for co in range(0, len(kejuaraans[n])):\n",
    "            if n == 0:\n",
    "                jumlah = word.count(internasional_indeks[co])\n",
    "                inte = inte + jumlah\n",
    "            if n == 1:\n",
    "                jumlah = word.count(nasional_indeks[co])\n",
    "                nasional = nasional + jumlah\n",
    "            if n == 2:\n",
    "                jumlah = word.count(provkota_indeks[co])\n",
    "                prov = prov + jumlah\n",
    "    num_inter.append(inte)\n",
    "    num_nas.append(nasional)\n",
    "    num_prov.append(prov)\n",
    "\n",
    "cls_old_olahraga['n_internasional'] = pd.Series(num_inter).values\n",
    "cls_old_olahraga['n_nasional'] = pd.Series(num_nas).values\n",
    "cls_old_olahraga['n_provkota'] = pd.Series(num_prov).values\n",
    "\n",
    "cls_old_olahraga['internasional'] = cls_old_olahraga['internasional'].astype(int)\n",
    "cls_old_olahraga['nasional'] = cls_old_olahraga['nasional'].astype(int)\n",
    "cls_old_olahraga['provkota'] = cls_old_olahraga['provkota'].astype(int)\n",
    "# cls_old_olahraga['cls'] = cls_old_olahraga['cls'].astype(int)\n",
    "\n",
    "cls_old_olahraga.head()"
   ]
  },
  {
   "attachments": {},
   "cell_type": "markdown",
   "metadata": {},
   "source": [
    "### Input Severity"
   ]
  },
  {
   "cell_type": "code",
   "execution_count": 192,
   "metadata": {},
   "outputs": [],
   "source": [
    "# sanity check\n",
    "# cls_old_olahraga[cls_old_olahraga['internasional'] != cls_old_olahraga['n_internasional']]\n",
    "# cls_old_olahraga[cls_old_olahraga['nasional'] != cls_old_olahraga['n_nasional']]\n",
    "# cls_old_olahraga[cls_old_olahraga['provkota'] != cls_old_olahraga['n_provkota']]\n",
    "# cls_old_olahraga[['provkota', 'nasional', 'internasional', 'cls']].value_counts()\n",
    "# cls_old_olahraga[cls_old_olahraga['nasional'] == 36]"
   ]
  },
  {
   "attachments": {},
   "cell_type": "markdown",
   "metadata": {},
   "source": [
    "### Fit & Train"
   ]
  },
  {
   "cell_type": "code",
   "execution_count": 193,
   "metadata": {},
   "outputs": [],
   "source": [
    "X = cls_old_olahraga.drop(['cls', 'nasional', 'internasional', 'provkota', 'ID', 'berita'], axis=1)\n",
    "y = cls_old_olahraga['cls']"
   ]
  },
  {
   "cell_type": "code",
   "execution_count": 194,
   "metadata": {},
   "outputs": [
    {
     "name": "stdout",
     "output_type": "stream",
     "text": [
      "366\n",
      "123\n",
      "(366, 3) (123, 3) (366,) (123,)\n"
     ]
    }
   ],
   "source": [
    "# Split X and y into training and testing sets\n",
    "\n",
    "from sklearn.model_selection import train_test_split\n",
    "\n",
    "X_train, X_test, y_train, y_test = train_test_split(X, y, test_size = 0.25, random_state = 42)\n",
    "print(len(X_train))\n",
    "print(len(X_test))\n",
    "print(X_train.shape, X_test.shape, y_train.shape, y_test.shape)"
   ]
  },
  {
   "cell_type": "code",
   "execution_count": 195,
   "metadata": {},
   "outputs": [
    {
     "name": "stdout",
     "output_type": "stream",
     "text": [
      "Model accuracy score\n",
      "Naive Bayes : 0.9756\n",
      "Random Forest : 1.0000\n",
      "Logistic Regression : 0.9756\n",
      "Decision Tree : 1.0000\n",
      "SVM : 1.0000\n",
      "KNearestNeighbors : 1.0000\n",
      "Deep Learning (MLP) : 1.0000\n",
      "\n",
      "Average cross-validation score\n",
      "Naive Bayes: 0.9890\n",
      "Random Forest: 0.9972\n",
      "Logistic Regression: 0.9727\n",
      "Decision Tree: 0.9972\n",
      "SVM: 0.9917\n",
      "KNearestNeighbors: 0.9972\n",
      "Deep Learning (MLP): 0.9944\n",
      "\n",
      "f1 score\n",
      "Naive Bayes: 0.9789\n",
      "Random Forest: 1.0000\n",
      "Logistic Regression: 0.9636\n",
      "Decision Tree: 1.0000\n",
      "SVM: 1.0000\n",
      "KNearestNeighbors: 1.0000\n",
      "Deep Learning (MLP): 1.0000\n",
      "\n",
      "              precision    recall  f1-score   support\n",
      "\n",
      "      rendah       1.00      1.00      1.00         3\n",
      "      sedang       1.00      1.00      1.00        24\n",
      "       parah       1.00      1.00      1.00        96\n",
      "\n",
      "    accuracy                           1.00       123\n",
      "   macro avg       1.00      1.00      1.00       123\n",
      "weighted avg       1.00      1.00      1.00       123\n",
      "\n"
     ]
    },
    {
     "data": {
      "image/png": "[encoded data removed]",
      "text/plain": [
       "<Figure size 600x300 with 2 Axes>"
      ]
     },
     "metadata": {},
     "output_type": "display_data"
    }
   ],
   "source": [
    "compare_cls(X_train, X_test, y_train, y_test, mode='olahraga', topik=\"olahraga\")"
   ]
  }
 ],
 "metadata": {
  "kernelspec": {
   "display_name": "Python 3",
   "language": "python",
   "name": "python3"
  },
  "language_info": {
   "codemirror_mode": {
    "name": "ipython",
    "version": 3
   },
   "file_extension": ".py",
   "mimetype": "text/x-python",
   "name": "python",
   "nbconvert_exporter": "python",
   "pygments_lexer": "ipython3",
   "version": "3.10.2"
  },
  "orig_nbformat": 4
 },
 "nbformat": 4,
 "nbformat_minor": 2
}
