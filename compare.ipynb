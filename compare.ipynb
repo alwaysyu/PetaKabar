{
 "cells": [
  {
   "cell_type": "code",
   "execution_count": 1,
   "metadata": {},
   "outputs": [],
   "source": [
    "import re\n",
    "import pandas as pd\n",
    "import numpy as np\n",
    "import joblib"
   ]
  },
  {
   "cell_type": "code",
   "execution_count": 2,
   "metadata": {},
   "outputs": [],
   "source": [
    "old = pd.read_csv('perbandingan/berita-24-5.csv')\n",
    "# print(old)\n",
    "new = pd.read_csv('perbandingan/berita-24-5.csv') # need changes\n",
    "# print(new)"
   ]
  },
  {
   "cell_type": "code",
   "execution_count": 3,
   "metadata": {},
   "outputs": [
    {
     "data": {
      "text/plain": [
       "Index(['ID', 'berita_title', 'berita_date', 'berita_qdate', 'berita_desc',\n",
       "       'berita_source', 'created_at', 'berita_topik_id', 'qe_what', 'ner_when',\n",
       "       'ner_who', 'ner_prov', 'ner_kab', 'ner_kec', 'ner_neg', 'sev_death',\n",
       "       'sev_injury', 'sev_lost', 'sev_sink', 'sev_plane', 'sev_moneyUSD',\n",
       "       'sev_moneyIDR', 'sev_persen', 'sev_inflasi', 'sev_internasional',\n",
       "       'sev_nasional', 'sev_provkota', 'sev_lost_items', 'sev_lost_money',\n",
       "       'sev_rape', 'sev_house', 'sev_person', 'class_classification',\n",
       "       'berita_summary'],\n",
       "      dtype='object')"
      ]
     },
     "execution_count": 3,
     "metadata": {},
     "output_type": "execute_result"
    }
   ],
   "source": [
    "# old.columns\n",
    "old.columns"
   ]
  },
  {
   "attachments": {},
   "cell_type": "markdown",
   "metadata": {},
   "source": [
    "# Comparing What"
   ]
  },
  {
   "cell_type": "code",
   "execution_count": 4,
   "metadata": {},
   "outputs": [],
   "source": [
    "qe_old = old[['ID', 'berita_title', 'berita_topik_id', 'qe_what']]\n",
    "# qe_old.head()\n",
    "qe_new = new[['ID', 'berita_title', 'berita_topik_id', 'qe_what']] # possibly need changes\n",
    "# qe_old.head()"
   ]
  },
  {
   "cell_type": "code",
   "execution_count": null,
   "metadata": {},
   "outputs": [],
   "source": []
  },
  {
   "attachments": {},
   "cell_type": "markdown",
   "metadata": {},
   "source": [
    "# Comparing Who"
   ]
  },
  {
   "attachments": {},
   "cell_type": "markdown",
   "metadata": {},
   "source": [
    "# Comparing When"
   ]
  },
  {
   "attachments": {},
   "cell_type": "markdown",
   "metadata": {},
   "source": [
    "# Comparing Where"
   ]
  },
  {
   "attachments": {},
   "cell_type": "markdown",
   "metadata": {},
   "source": [
    "# Comparing Classification "
   ]
  },
  {
   "cell_type": "code",
   "execution_count": 27,
   "metadata": {},
   "outputs": [],
   "source": [
    "# Create model\n",
    "from sklearn.naive_bayes import GaussianNB\n",
    "from sklearn.ensemble import RandomForestClassifier\n",
    "from sklearn.linear_model import LogisticRegression\n",
    "from sklearn.tree import DecisionTreeClassifier\n",
    "from sklearn.svm import SVC\n",
    "from sklearn.neighbors import KNeighborsClassifier\n",
    "from sklearn.neural_network import MLPClassifier\n",
    "\n",
    "# Check accuracy score\n",
    "from sklearn.metrics import accuracy_score\n",
    "\n",
    "# Applying 10-Fold Cross Validation\n",
    "from sklearn.model_selection import cross_val_score\n",
    "\n",
    "from sklearn.metrics import f1_score\n",
    "\n",
    "from sklearn.metrics import confusion_matrix\n",
    "import matplotlib.pyplot as plt # for data visualization purposes\n",
    "import seaborn as sns # for statistical data visualization\n",
    "%matplotlib inline\n",
    "\n",
    "from sklearn.metrics import classification_report"
   ]
  },
  {
   "cell_type": "code",
   "execution_count": 43,
   "metadata": {},
   "outputs": [],
   "source": [
    "def compare_cls(X_train, X_test, y_train, y_test):\n",
    "    ## Instantiate the model\n",
    "    gnb = GaussianNB()\n",
    "    rf = RandomForestClassifier()\n",
    "    logreg = LogisticRegression(max_iter=3000, solver='lbfgs')\n",
    "    d_tree = DecisionTreeClassifier()\n",
    "    svc=SVC() \n",
    "    knn = KNeighborsClassifier() # default nilai k = 5\n",
    "    dl = MLPClassifier(solver='lbfgs', max_iter=3000)\n",
    "\n",
    "    ## Fit the model\n",
    "    gnb.fit(X_train, y_train)\n",
    "    rf.fit(X_train,y_train)\n",
    "    logreg.fit(X_train, y_train)\n",
    "    d_tree.fit(X_train, y_train)\n",
    "    svc.fit(X_train,y_train)\n",
    "    knn.fit(X_train, y_train)\n",
    "    dl.fit(X_train, y_train)\n",
    "\n",
    "    y_pred_gnb = gnb.predict(X_test)\n",
    "    y_pred_rf = rf.predict(X_test)\n",
    "    y_pred_logreg = logreg.predict(X_test)\n",
    "    y_pred_d_tree = d_tree.predict(X_test)\n",
    "    y_pred_svc = svc.predict(X_test)\n",
    "    y_pred_knn = knn.predict(X_test)\n",
    "    y_pred_dl = dl.predict(X_test)\n",
    "\n",
    "    print('Model accuracy score')\n",
    "    print('Naive Bayes : {0:0.4f}'.format(accuracy_score(y_test, y_pred_gnb)))\n",
    "    print('Random Forest : {0:0.4f}'.format(accuracy_score(y_test, y_pred_rf)))\n",
    "    print('Logistic Regression : {0:0.4f}'.format(accuracy_score(y_test, y_pred_logreg)))\n",
    "    print('Decision Tree : {0:0.4f}'.format(accuracy_score(y_test, y_pred_d_tree)))\n",
    "    print('SVM : {0:0.4f}'.format(accuracy_score(y_test, y_pred_svc)))\n",
    "    print('KNearestNeighbors : {0:0.4f}'.format(accuracy_score(y_test, y_pred_knn)))\n",
    "    print('Deep Learning (MLP) : {0:0.4f}'.format(accuracy_score(y_test, y_pred_dl)))\n",
    "\n",
    "    scores_gnb = cross_val_score(gnb, X_train, y_train, cv = 10, scoring='accuracy')\n",
    "    scores_rf = cross_val_score(rf, X_train, y_train, cv = 10, scoring='accuracy')\n",
    "    scores_logreg = cross_val_score(logreg, X_train, y_train, cv = 10, scoring='accuracy')\n",
    "    scores_d_tree = cross_val_score(d_tree, X_train, y_train, cv = 10, scoring='accuracy')\n",
    "    scores_svc = cross_val_score(svc, X_train, y_train, cv = 10, scoring='accuracy')\n",
    "    scores_knn = cross_val_score(knn, X_train, y_train, cv = 10, scoring='accuracy')\n",
    "    scores_dl = cross_val_score(dl, X_test, y_test, cv = 10, scoring='accuracy')\n",
    "\n",
    "    # print('Cross-validation scores:{}'.format(scores))\n",
    "\n",
    "    print('\\nAverage cross-validation score')\n",
    "    print('Naive Bayes: {:.4f}'.format(scores_gnb.mean()))\n",
    "    print('Random Forest: {:.4f}'.format(scores_rf.mean()))\n",
    "    print('Logistic Regression: {:.4f}'.format(scores_logreg.mean()))\n",
    "    print('Decision Tree: {:.4f}'.format(scores_d_tree.mean()))\n",
    "    print('SVM: {:.4f}'.format(scores_svc.mean()))\n",
    "    print('KNearestNeighbors: {:.4f}'.format(scores_knn.mean()))\n",
    "    print('Deep Learning (MLP): {:.4f}'.format(scores_dl.mean()))\n",
    "\n",
    "    print('\\nTraining set score: {:.4f}'.format(rf.score(X_train, y_train)))\n",
    "    print('Test set score: {:.4f}'.format(rf.score(X_test, y_test)))\n",
    "\n",
    "    print('\\nf1 score')\n",
    "    print('Naive Bayes: {:.4f}'.format(f1_score(y_test, y_pred_gnb, average='weighted')))\n",
    "    print('Random Forest: {:.4f}'.format(f1_score(y_test, y_pred_rf, average='weighted')))\n",
    "    print('Logistic Regression: {:.4f}'.format(f1_score(y_test, y_pred_logreg, average='weighted')))\n",
    "    print('Decision Tree: {:.4f}'.format(f1_score(y_test, y_pred_d_tree, average='weighted')))\n",
    "    print('SVM: {:.4f}'.format(f1_score(y_test, y_pred_svc, average='weighted')))\n",
    "    print('KNearestNeighbors: {:.4f}'.format(f1_score(y_test, y_pred_knn, average='weighted')))\n",
    "    print('Deep Learning (MLP): {:.4f}\\n'.format(f1_score(y_test, y_pred_dl, average='weighted')))\n",
    "\n",
    "    # print(classification_report(y_test, y_pred, target_names=['rendah', 'sedang']))\n",
    "    print(classification_report(y_test, y_pred_rf, target_names=['rendah', 'sedang', 'parah']))\n",
    "\n",
    "    cm=confusion_matrix(y_test,y_pred_rf)\n",
    "    cm_df = pd.DataFrame(cm,\n",
    "                        index = ['rendah','sedang','parah'], \n",
    "                        columns = ['rendah','sedang','parah'])\n",
    "    plt.figure(figsize=(6,3))\n",
    "    plt.title(\"Confusion Matrix Random Forest\")\n",
    "    sns.heatmap(cm_df, annot=True,fmt='d', cmap='Blues')\n",
    "    plt.ylabel(\"Actual Values\")\n",
    "    plt.xlabel(\"Predicted Values\")\n",
    "    # plt.savefig('confusion_matrix.png')"
   ]
  },
  {
   "cell_type": "code",
   "execution_count": 5,
   "metadata": {},
   "outputs": [],
   "source": [
    "cls_old = old[['ID', 'berita_title', 'berita_topik_id', 'sev_death', \\\n",
    "       'sev_injury', 'sev_lost', 'sev_sink', 'sev_plane', 'sev_moneyUSD', \\\n",
    "       'sev_moneyIDR', 'sev_persen', 'sev_inflasi', 'sev_internasional', \\\n",
    "       'sev_nasional', 'sev_provkota', 'sev_lost_items', 'sev_lost_money', \\\n",
    "       'sev_rape', 'sev_house', 'sev_person', 'class_classification']]"
   ]
  },
  {
   "cell_type": "code",
   "execution_count": 6,
   "metadata": {},
   "outputs": [
    {
     "data": {
      "text/html": [
       "<div>\n",
       "<style scoped>\n",
       "    .dataframe tbody tr th:only-of-type {\n",
       "        vertical-align: middle;\n",
       "    }\n",
       "\n",
       "    .dataframe tbody tr th {\n",
       "        vertical-align: top;\n",
       "    }\n",
       "\n",
       "    .dataframe thead th {\n",
       "        text-align: right;\n",
       "    }\n",
       "</style>\n",
       "<table border=\"1\" class=\"dataframe\">\n",
       "  <thead>\n",
       "    <tr style=\"text-align: right;\">\n",
       "      <th></th>\n",
       "      <th>ID</th>\n",
       "      <th>berita_title</th>\n",
       "      <th>berita_topik_id</th>\n",
       "      <th>sev_death</th>\n",
       "      <th>sev_injury</th>\n",
       "      <th>sev_lost</th>\n",
       "      <th>sev_sink</th>\n",
       "      <th>sev_plane</th>\n",
       "      <th>sev_moneyUSD</th>\n",
       "      <th>sev_moneyIDR</th>\n",
       "      <th>...</th>\n",
       "      <th>sev_inflasi</th>\n",
       "      <th>sev_internasional</th>\n",
       "      <th>sev_nasional</th>\n",
       "      <th>sev_provkota</th>\n",
       "      <th>sev_lost_items</th>\n",
       "      <th>sev_lost_money</th>\n",
       "      <th>sev_rape</th>\n",
       "      <th>sev_house</th>\n",
       "      <th>sev_person</th>\n",
       "      <th>class_classification</th>\n",
       "    </tr>\n",
       "  </thead>\n",
       "  <tbody>\n",
       "    <tr>\n",
       "      <th>0</th>\n",
       "      <td>1</td>\n",
       "      <td>Bagaimana Proses Terjadinya Gempa Bumi?</td>\n",
       "      <td>1</td>\n",
       "      <td>0.0</td>\n",
       "      <td>0.0</td>\n",
       "      <td>NaN</td>\n",
       "      <td>NaN</td>\n",
       "      <td>NaN</td>\n",
       "      <td>NaN</td>\n",
       "      <td>NaN</td>\n",
       "      <td>...</td>\n",
       "      <td>NaN</td>\n",
       "      <td>NaN</td>\n",
       "      <td>NaN</td>\n",
       "      <td>NaN</td>\n",
       "      <td>NaN</td>\n",
       "      <td>NaN</td>\n",
       "      <td>NaN</td>\n",
       "      <td>0.0</td>\n",
       "      <td>0.0</td>\n",
       "      <td>sedang</td>\n",
       "    </tr>\n",
       "  </tbody>\n",
       "</table>\n",
       "<p>1 rows × 21 columns</p>\n",
       "</div>"
      ],
      "text/plain": [
       "   ID                             berita_title  berita_topik_id  sev_death  \\\n",
       "0   1  Bagaimana Proses Terjadinya Gempa Bumi?                1        0.0   \n",
       "\n",
       "   sev_injury  sev_lost  sev_sink  sev_plane  sev_moneyUSD  sev_moneyIDR  ...  \\\n",
       "0         0.0       NaN       NaN        NaN           NaN           NaN  ...   \n",
       "\n",
       "   sev_inflasi  sev_internasional  sev_nasional  sev_provkota  sev_lost_items  \\\n",
       "0          NaN                NaN           NaN           NaN             NaN   \n",
       "\n",
       "   sev_lost_money  sev_rape  sev_house  sev_person  class_classification  \n",
       "0             NaN       NaN        0.0         0.0                sedang  \n",
       "\n",
       "[1 rows x 21 columns]"
      ]
     },
     "execution_count": 6,
     "metadata": {},
     "output_type": "execute_result"
    }
   ],
   "source": [
    "cls_old.head(1)"
   ]
  },
  {
   "attachments": {},
   "cell_type": "markdown",
   "metadata": {},
   "source": [
    "## Bencana"
   ]
  },
  {
   "attachments": {},
   "cell_type": "markdown",
   "metadata": {},
   "source": [
    "### Preprocess"
   ]
  },
  {
   "cell_type": "code",
   "execution_count": 29,
   "metadata": {},
   "outputs": [
    {
     "data": {
      "text/plain": [
       "mati     float64\n",
       "luka     float64\n",
       "rumah    float64\n",
       "orang    float64\n",
       "dtype: object"
      ]
     },
     "execution_count": 29,
     "metadata": {},
     "output_type": "execute_result"
    }
   ],
   "source": [
    "# Bencana Section (Topic id = 1)\n",
    "cls_old_bencana = cls_old[cls_old['berita_topik_id'] == 1]\n",
    "cls_old_bencana = cls_old_bencana[['sev_death', 'sev_injury', 'sev_house', 'sev_person']]\n",
    "# print(len(cls_old_bencana))\n",
    "cls_old_bencana.rename(columns = {'sev_death':'mati', 'sev_injury':'luka', 'sev_house':'rumah', 'sev_person':'orang'}, inplace=True)\n",
    "cls_old_bencana.dtypes"
   ]
  },
  {
   "cell_type": "code",
   "execution_count": 30,
   "metadata": {},
   "outputs": [
    {
     "data": {
      "text/html": [
       "<div>\n",
       "<style scoped>\n",
       "    .dataframe tbody tr th:only-of-type {\n",
       "        vertical-align: middle;\n",
       "    }\n",
       "\n",
       "    .dataframe tbody tr th {\n",
       "        vertical-align: top;\n",
       "    }\n",
       "\n",
       "    .dataframe thead th {\n",
       "        text-align: right;\n",
       "    }\n",
       "</style>\n",
       "<table border=\"1\" class=\"dataframe\">\n",
       "  <thead>\n",
       "    <tr style=\"text-align: right;\">\n",
       "      <th></th>\n",
       "      <th>mati</th>\n",
       "      <th>luka</th>\n",
       "      <th>rumah</th>\n",
       "      <th>orang</th>\n",
       "    </tr>\n",
       "  </thead>\n",
       "  <tbody>\n",
       "    <tr>\n",
       "      <th>0</th>\n",
       "      <td>0</td>\n",
       "      <td>0</td>\n",
       "      <td>0</td>\n",
       "      <td>0</td>\n",
       "    </tr>\n",
       "    <tr>\n",
       "      <th>1</th>\n",
       "      <td>0</td>\n",
       "      <td>0</td>\n",
       "      <td>5</td>\n",
       "      <td>0</td>\n",
       "    </tr>\n",
       "    <tr>\n",
       "      <th>2</th>\n",
       "      <td>1</td>\n",
       "      <td>7729</td>\n",
       "      <td>1</td>\n",
       "      <td>318</td>\n",
       "    </tr>\n",
       "    <tr>\n",
       "      <th>3</th>\n",
       "      <td>0</td>\n",
       "      <td>1</td>\n",
       "      <td>0</td>\n",
       "      <td>1</td>\n",
       "    </tr>\n",
       "    <tr>\n",
       "      <th>4</th>\n",
       "      <td>0</td>\n",
       "      <td>0</td>\n",
       "      <td>25</td>\n",
       "      <td>230</td>\n",
       "    </tr>\n",
       "  </tbody>\n",
       "</table>\n",
       "</div>"
      ],
      "text/plain": [
       "   mati  luka  rumah  orang\n",
       "0     0     0      0      0\n",
       "1     0     0      5      0\n",
       "2     1  7729      1    318\n",
       "3     0     1      0      1\n",
       "4     0     0     25    230"
      ]
     },
     "execution_count": 30,
     "metadata": {},
     "output_type": "execute_result"
    }
   ],
   "source": [
    "# cls_old_bencana['mati'] = [re.sub(\"[^0-9]\", \"\", str(mati)) if (re.sub(\"[^0-9]\", \"\", str(mati)) != '') else 1 for mati in cls_old_bencana['mati']]\n",
    "cls_old_bencana['mati'] = cls_old_bencana['mati'].astype(int)\n",
    "\n",
    "# cls_old_bencana['luka'] = [re.sub(\"[^0-9]\", \"\", str(luka)) if (re.sub(\"[^0-9]\", \"\", str(luka)) != '') else 1 for luka in cls_old_bencana['luka']]\n",
    "cls_old_bencana['luka'] = cls_old_bencana['luka'].astype(int)\n",
    "\n",
    "# cls_old_bencana['rumah'] = [re.sub(\"[^0-9]\", \"\", str(rumah)) if (re.sub(\"[^0-9]\", \"\", str(rumah)) != '') else 1 for rumah in cls_old_bencana['rumah']]\n",
    "cls_old_bencana['rumah'] = cls_old_bencana['rumah'].astype(int)\n",
    "\n",
    "# cls_old_bencana['orang'] = [re.sub(\"[^0-9]\", \"\", str(orang)) if (re.sub(\"[^0-9]\", \"\", str(orang)) != '') else 1 for orang in cls_old_bencana['orang']]\n",
    "cls_old_bencana['orang'] = cls_old_bencana['orang'].astype(int)\n",
    "# cls_old_bencana = cls_old_bencana.replace({',': '.'}, regex=True)\n",
    "\n",
    "cls_old_bencana.head()"
   ]
  },
  {
   "attachments": {},
   "cell_type": "markdown",
   "metadata": {},
   "source": [
    "### Input Severity"
   ]
  },
  {
   "cell_type": "code",
   "execution_count": 31,
   "metadata": {},
   "outputs": [],
   "source": [
    "# naive_bayes_new.ipynb\n",
    "def matiScale(matiCount: int) -> int:\n",
    "  if matiCount < 3:\n",
    "    return 1\n",
    "  elif matiCount >= 3 and matiCount < 15:\n",
    "    return 2\n",
    "  return 3\n",
    "\n",
    "def lukaScale(lukaCount: int) -> int:\n",
    "  if lukaCount < 10:\n",
    "    return 1\n",
    "  elif lukaCount >= 10 and lukaCount < 20:\n",
    "    return 2\n",
    "  return 3\n",
    "\n",
    "def rumahScale(rumahCount: int) -> int:\n",
    "  if rumahCount < 4:\n",
    "    return 1\n",
    "  elif rumahCount >= 4 and rumahCount <= 20:\n",
    "    return 2\n",
    "  return 3\n",
    "\n",
    "def orangScale(orangCount: int) -> int:\n",
    "  if orangCount < 10:\n",
    "    return 1\n",
    "  elif orangCount >= 10 and orangCount <= 100:\n",
    "    return 2\n",
    "  return 3\n",
    "\n",
    "def calculate(mati: int, luka: int, rumah: int, orang: int):\n",
    "  subtractor = 0\n",
    "  total = 0\n",
    "  fiturCount = 4\n",
    "\n",
    "  if (mati > 0):\n",
    "    total += matiScale(matiCount=mati)\n",
    "  else:\n",
    "    subtractor += 1\n",
    "\n",
    "  if (luka > 0):\n",
    "    total += lukaScale(lukaCount=luka)\n",
    "  else:\n",
    "    subtractor += 1\n",
    "\n",
    "  if (rumah > 0):\n",
    "    total += rumahScale(rumahCount=rumah)\n",
    "  else:\n",
    "    subtractor += 1\n",
    "  \n",
    "  if (orang > 0):\n",
    "    total += orangScale(orangCount=orang)\n",
    "  else:\n",
    "    subtractor += 1\n",
    "          \n",
    "\n",
    "  divider = (fiturCount - subtractor)\n",
    "  severityMean = 0\n",
    "\n",
    "  if (divider > 0):\n",
    "    severityMean = total / divider\n",
    "\n",
    "  if severityMean <= 1:\n",
    "    return 1\n",
    "  elif severityMean > 1 and severityMean <= 2:\n",
    "    return 2\n",
    "  else:\n",
    "    return 3"
   ]
  },
  {
   "cell_type": "code",
   "execution_count": 32,
   "metadata": {},
   "outputs": [],
   "source": [
    "keparahanValues = []\n",
    "\n",
    "for index, row in cls_old_bencana.iterrows():\n",
    "  result = calculate(orang=int(row['orang']), \\\n",
    "      luka=int(row['luka']), \\\n",
    "        rumah=int(row['rumah']), \\\n",
    "          mati=int(row['mati']))\n",
    "  \n",
    "  keparahanValues.append(result)"
   ]
  },
  {
   "cell_type": "code",
   "execution_count": 33,
   "metadata": {},
   "outputs": [
    {
     "data": {
      "text/html": [
       "<div>\n",
       "<style scoped>\n",
       "    .dataframe tbody tr th:only-of-type {\n",
       "        vertical-align: middle;\n",
       "    }\n",
       "\n",
       "    .dataframe tbody tr th {\n",
       "        vertical-align: top;\n",
       "    }\n",
       "\n",
       "    .dataframe thead th {\n",
       "        text-align: right;\n",
       "    }\n",
       "</style>\n",
       "<table border=\"1\" class=\"dataframe\">\n",
       "  <thead>\n",
       "    <tr style=\"text-align: right;\">\n",
       "      <th></th>\n",
       "      <th>mati</th>\n",
       "      <th>luka</th>\n",
       "      <th>rumah</th>\n",
       "      <th>orang</th>\n",
       "      <th>keparahannew</th>\n",
       "    </tr>\n",
       "  </thead>\n",
       "  <tbody>\n",
       "    <tr>\n",
       "      <th>0</th>\n",
       "      <td>0</td>\n",
       "      <td>0</td>\n",
       "      <td>0</td>\n",
       "      <td>0</td>\n",
       "      <td>1</td>\n",
       "    </tr>\n",
       "    <tr>\n",
       "      <th>1</th>\n",
       "      <td>0</td>\n",
       "      <td>0</td>\n",
       "      <td>5</td>\n",
       "      <td>0</td>\n",
       "      <td>2</td>\n",
       "    </tr>\n",
       "    <tr>\n",
       "      <th>2</th>\n",
       "      <td>1</td>\n",
       "      <td>7729</td>\n",
       "      <td>1</td>\n",
       "      <td>318</td>\n",
       "      <td>2</td>\n",
       "    </tr>\n",
       "    <tr>\n",
       "      <th>3</th>\n",
       "      <td>0</td>\n",
       "      <td>1</td>\n",
       "      <td>0</td>\n",
       "      <td>1</td>\n",
       "      <td>1</td>\n",
       "    </tr>\n",
       "    <tr>\n",
       "      <th>4</th>\n",
       "      <td>0</td>\n",
       "      <td>0</td>\n",
       "      <td>25</td>\n",
       "      <td>230</td>\n",
       "      <td>3</td>\n",
       "    </tr>\n",
       "  </tbody>\n",
       "</table>\n",
       "</div>"
      ],
      "text/plain": [
       "   mati  luka  rumah  orang  keparahannew\n",
       "0     0     0      0      0             1\n",
       "1     0     0      5      0             2\n",
       "2     1  7729      1    318             2\n",
       "3     0     1      0      1             1\n",
       "4     0     0     25    230             3"
      ]
     },
     "execution_count": 33,
     "metadata": {},
     "output_type": "execute_result"
    }
   ],
   "source": [
    "cls_old_bencana['keparahannew'] = keparahanValues\n",
    "cls_old_bencana.head()"
   ]
  },
  {
   "attachments": {},
   "cell_type": "markdown",
   "metadata": {},
   "source": [
    "### Fit & Train"
   ]
  },
  {
   "cell_type": "code",
   "execution_count": 45,
   "metadata": {},
   "outputs": [
    {
     "data": {
      "text/html": [
       "<div>\n",
       "<style scoped>\n",
       "    .dataframe tbody tr th:only-of-type {\n",
       "        vertical-align: middle;\n",
       "    }\n",
       "\n",
       "    .dataframe tbody tr th {\n",
       "        vertical-align: top;\n",
       "    }\n",
       "\n",
       "    .dataframe thead th {\n",
       "        text-align: right;\n",
       "    }\n",
       "</style>\n",
       "<table border=\"1\" class=\"dataframe\">\n",
       "  <thead>\n",
       "    <tr style=\"text-align: right;\">\n",
       "      <th></th>\n",
       "      <th>mati</th>\n",
       "      <th>luka</th>\n",
       "      <th>rumah</th>\n",
       "      <th>orang</th>\n",
       "    </tr>\n",
       "  </thead>\n",
       "  <tbody>\n",
       "    <tr>\n",
       "      <th>count</th>\n",
       "      <td>2.773000e+03</td>\n",
       "      <td>2773.000000</td>\n",
       "      <td>2773.000000</td>\n",
       "      <td>2.773000e+03</td>\n",
       "    </tr>\n",
       "    <tr>\n",
       "      <th>mean</th>\n",
       "      <td>3.975754e+04</td>\n",
       "      <td>29.438154</td>\n",
       "      <td>1266.150379</td>\n",
       "      <td>2.666879e+04</td>\n",
       "    </tr>\n",
       "    <tr>\n",
       "      <th>std</th>\n",
       "      <td>2.088903e+06</td>\n",
       "      <td>457.328387</td>\n",
       "      <td>27543.185997</td>\n",
       "      <td>9.477396e+05</td>\n",
       "    </tr>\n",
       "    <tr>\n",
       "      <th>min</th>\n",
       "      <td>0.000000e+00</td>\n",
       "      <td>0.000000</td>\n",
       "      <td>0.000000</td>\n",
       "      <td>0.000000e+00</td>\n",
       "    </tr>\n",
       "    <tr>\n",
       "      <th>25%</th>\n",
       "      <td>0.000000e+00</td>\n",
       "      <td>0.000000</td>\n",
       "      <td>0.000000</td>\n",
       "      <td>0.000000e+00</td>\n",
       "    </tr>\n",
       "    <tr>\n",
       "      <th>50%</th>\n",
       "      <td>0.000000e+00</td>\n",
       "      <td>0.000000</td>\n",
       "      <td>0.000000</td>\n",
       "      <td>0.000000e+00</td>\n",
       "    </tr>\n",
       "    <tr>\n",
       "      <th>75%</th>\n",
       "      <td>0.000000e+00</td>\n",
       "      <td>0.000000</td>\n",
       "      <td>1.000000</td>\n",
       "      <td>1.000000e+00</td>\n",
       "    </tr>\n",
       "    <tr>\n",
       "      <th>max</th>\n",
       "      <td>1.100000e+08</td>\n",
       "      <td>8724.000000</td>\n",
       "      <td>1000000.000000</td>\n",
       "      <td>4.400000e+07</td>\n",
       "    </tr>\n",
       "  </tbody>\n",
       "</table>\n",
       "</div>"
      ],
      "text/plain": [
       "               mati         luka           rumah         orang\n",
       "count  2.773000e+03  2773.000000     2773.000000  2.773000e+03\n",
       "mean   3.975754e+04    29.438154     1266.150379  2.666879e+04\n",
       "std    2.088903e+06   457.328387    27543.185997  9.477396e+05\n",
       "min    0.000000e+00     0.000000        0.000000  0.000000e+00\n",
       "25%    0.000000e+00     0.000000        0.000000  0.000000e+00\n",
       "50%    0.000000e+00     0.000000        0.000000  0.000000e+00\n",
       "75%    0.000000e+00     0.000000        1.000000  1.000000e+00\n",
       "max    1.100000e+08  8724.000000  1000000.000000  4.400000e+07"
      ]
     },
     "execution_count": 45,
     "metadata": {},
     "output_type": "execute_result"
    }
   ],
   "source": [
    "# Declare feature vector and target variable\n",
    "X = cls_old_bencana.drop(['keparahannew'], axis=1)\n",
    "y = cls_old_bencana['keparahannew']\n",
    "X.describe()"
   ]
  },
  {
   "cell_type": "code",
   "execution_count": 47,
   "metadata": {},
   "outputs": [
    {
     "name": "stdout",
     "output_type": "stream",
     "text": [
      "2218\n",
      "555\n",
      "(2218, 4) (555, 4)\n"
     ]
    }
   ],
   "source": [
    "# Split X and y into training and testing sets\n",
    "\n",
    "from sklearn.model_selection import train_test_split\n",
    "\n",
    "X_train, X_test, y_train, y_test = train_test_split(X, y, test_size = 0.2, random_state = 0)\n",
    "print(len(X_train))\n",
    "print(len(X_test))\n",
    "print(X_train.shape, X_test.shape)"
   ]
  },
  {
   "cell_type": "code",
   "execution_count": 39,
   "metadata": {},
   "outputs": [
    {
     "data": {
      "text/html": [
       "<div>\n",
       "<style scoped>\n",
       "    .dataframe tbody tr th:only-of-type {\n",
       "        vertical-align: middle;\n",
       "    }\n",
       "\n",
       "    .dataframe tbody tr th {\n",
       "        vertical-align: top;\n",
       "    }\n",
       "\n",
       "    .dataframe thead th {\n",
       "        text-align: right;\n",
       "    }\n",
       "</style>\n",
       "<table border=\"1\" class=\"dataframe\">\n",
       "  <thead>\n",
       "    <tr style=\"text-align: right;\">\n",
       "      <th></th>\n",
       "      <th>mati</th>\n",
       "      <th>luka</th>\n",
       "      <th>rumah</th>\n",
       "      <th>orang</th>\n",
       "    </tr>\n",
       "  </thead>\n",
       "  <tbody>\n",
       "    <tr>\n",
       "      <th>1313</th>\n",
       "      <td>0</td>\n",
       "      <td>1</td>\n",
       "      <td>1</td>\n",
       "      <td>0</td>\n",
       "    </tr>\n",
       "    <tr>\n",
       "      <th>9069</th>\n",
       "      <td>0</td>\n",
       "      <td>0</td>\n",
       "      <td>1</td>\n",
       "      <td>0</td>\n",
       "    </tr>\n",
       "    <tr>\n",
       "      <th>9688</th>\n",
       "      <td>0</td>\n",
       "      <td>0</td>\n",
       "      <td>0</td>\n",
       "      <td>1</td>\n",
       "    </tr>\n",
       "    <tr>\n",
       "      <th>330</th>\n",
       "      <td>0</td>\n",
       "      <td>0</td>\n",
       "      <td>0</td>\n",
       "      <td>1</td>\n",
       "    </tr>\n",
       "    <tr>\n",
       "      <th>757</th>\n",
       "      <td>0</td>\n",
       "      <td>0</td>\n",
       "      <td>0</td>\n",
       "      <td>0</td>\n",
       "    </tr>\n",
       "    <tr>\n",
       "      <th>...</th>\n",
       "      <td>...</td>\n",
       "      <td>...</td>\n",
       "      <td>...</td>\n",
       "      <td>...</td>\n",
       "    </tr>\n",
       "    <tr>\n",
       "      <th>763</th>\n",
       "      <td>0</td>\n",
       "      <td>0</td>\n",
       "      <td>0</td>\n",
       "      <td>0</td>\n",
       "    </tr>\n",
       "    <tr>\n",
       "      <th>835</th>\n",
       "      <td>1</td>\n",
       "      <td>0</td>\n",
       "      <td>0</td>\n",
       "      <td>1</td>\n",
       "    </tr>\n",
       "    <tr>\n",
       "      <th>1653</th>\n",
       "      <td>1</td>\n",
       "      <td>0</td>\n",
       "      <td>1</td>\n",
       "      <td>1</td>\n",
       "    </tr>\n",
       "    <tr>\n",
       "      <th>9725</th>\n",
       "      <td>0</td>\n",
       "      <td>0</td>\n",
       "      <td>0</td>\n",
       "      <td>0</td>\n",
       "    </tr>\n",
       "    <tr>\n",
       "      <th>9850</th>\n",
       "      <td>0</td>\n",
       "      <td>0</td>\n",
       "      <td>0</td>\n",
       "      <td>0</td>\n",
       "    </tr>\n",
       "  </tbody>\n",
       "</table>\n",
       "<p>2218 rows × 4 columns</p>\n",
       "</div>"
      ],
      "text/plain": [
       "      mati  luka  rumah  orang\n",
       "1313     0     1      1      0\n",
       "9069     0     0      1      0\n",
       "9688     0     0      0      1\n",
       "330      0     0      0      1\n",
       "757      0     0      0      0\n",
       "...    ...   ...    ...    ...\n",
       "763      0     0      0      0\n",
       "835      1     0      0      1\n",
       "1653     1     0      1      1\n",
       "9725     0     0      0      0\n",
       "9850     0     0      0      0\n",
       "\n",
       "[2218 rows x 4 columns]"
      ]
     },
     "execution_count": 39,
     "metadata": {},
     "output_type": "execute_result"
    }
   ],
   "source": [
    "X_train"
   ]
  },
  {
   "cell_type": "code",
   "execution_count": 48,
   "metadata": {},
   "outputs": [],
   "source": [
    "# Feature scaling\n",
    "from sklearn.preprocessing import StandardScaler\n",
    "\n",
    "scaler = StandardScaler()\n",
    "\n",
    "X_train = scaler.fit_transform(X_train)\n",
    "X_test = scaler.transform(X_test)"
   ]
  },
  {
   "cell_type": "code",
   "execution_count": 49,
   "metadata": {},
   "outputs": [
    {
     "name": "stdout",
     "output_type": "stream",
     "text": [
      "Model accuracy score\n",
      "Naive Bayes : 0.8667\n",
      "Random Forest : 0.9946\n",
      "Logistic Regression : 0.8090\n",
      "Decision Tree : 0.9892\n",
      "SVM : 0.8108\n",
      "KNearestNeighbors : 0.9550\n",
      "Deep Learning (MLP) : 0.9171\n",
      "\n",
      "Average cross-validation score\n",
      "Naive Bayes: 0.8571\n",
      "Random Forest: 0.9892\n",
      "Logistic Regression: 0.7958\n",
      "Decision Tree: 0.9856\n",
      "SVM: 0.7971\n",
      "KNearestNeighbors: 0.9391\n",
      "Deep Learning (MLP): 0.8972\n",
      "\n",
      "Training set score: 1.0000\n",
      "Test set score: 0.9946\n",
      "\n",
      "f1 score bencana\n",
      "Naive Bayes: 0.8395\n",
      "Random Forest: 0.9946\n",
      "Logistic Regression: 0.7318\n",
      "Decision Tree: 0.9891\n",
      "SVM: 0.7332\n",
      "KNearestNeighbors: 0.9540\n",
      "Deep Learning (MLP): 0.9087\n",
      "\n",
      "              precision    recall  f1-score   support\n",
      "\n",
      "      rendah       1.00      1.00      1.00       445\n",
      "      sedang       0.97      0.99      0.98        76\n",
      "       parah       0.97      0.94      0.96        34\n",
      "\n",
      "    accuracy                           0.99       555\n",
      "   macro avg       0.98      0.98      0.98       555\n",
      "weighted avg       0.99      0.99      0.99       555\n",
      "\n"
     ]
    },
    {
     "data": {
      "image/png": "[encoded data removed]",
      "text/plain": [
       "<Figure size 432x216 with 2 Axes>"
      ]
     },
     "metadata": {
      "needs_background": "light"
     },
     "output_type": "display_data"
    }
   ],
   "source": [
    "compare_cls(X_train, X_test, y_train, y_test)"
   ]
  },
  {
   "attachments": {},
   "cell_type": "markdown",
   "metadata": {},
   "source": [
    "## Ekonomi"
   ]
  },
  {
   "attachments": {},
   "cell_type": "markdown",
   "metadata": {},
   "source": [
    "### Preprocess"
   ]
  },
  {
   "cell_type": "code",
   "execution_count": 11,
   "metadata": {},
   "outputs": [
    {
     "name": "stdout",
     "output_type": "stream",
     "text": [
      "3141\n"
     ]
    },
    {
     "data": {
      "text/plain": [
       "USD        float64\n",
       "IDR        float64\n",
       "persen     float64\n",
       "inflasi    float64\n",
       "dtype: object"
      ]
     },
     "execution_count": 11,
     "metadata": {},
     "output_type": "execute_result"
    }
   ],
   "source": [
    "# Ekonomi Section (Topic id = 2)\n",
    "cls_old_ekonomi = cls_old[cls_old['berita_topik_id'] == 2]\n",
    "cls_old_ekonomi = cls_old_ekonomi[['sev_moneyUSD', 'sev_moneyIDR', 'sev_persen', 'sev_inflasi']]\n",
    "print(len(cls_old_ekonomi))\n",
    "cls_old_ekonomi.rename(columns = {'sev_moneyUSD':'USD', 'sev_moneyIDR':'IDR', 'sev_persen':'persen', 'sev_inflasi':'inflasi'}, inplace=True)\n",
    "cls_old_ekonomi.dtypes"
   ]
  },
  {
   "cell_type": "code",
   "execution_count": 13,
   "metadata": {},
   "outputs": [
    {
     "data": {
      "text/html": [
       "<div>\n",
       "<style scoped>\n",
       "    .dataframe tbody tr th:only-of-type {\n",
       "        vertical-align: middle;\n",
       "    }\n",
       "\n",
       "    .dataframe tbody tr th {\n",
       "        vertical-align: top;\n",
       "    }\n",
       "\n",
       "    .dataframe thead th {\n",
       "        text-align: right;\n",
       "    }\n",
       "</style>\n",
       "<table border=\"1\" class=\"dataframe\">\n",
       "  <thead>\n",
       "    <tr style=\"text-align: right;\">\n",
       "      <th></th>\n",
       "      <th>USD</th>\n",
       "      <th>IDR</th>\n",
       "      <th>persen</th>\n",
       "      <th>inflasi</th>\n",
       "    </tr>\n",
       "  </thead>\n",
       "  <tbody>\n",
       "    <tr>\n",
       "      <th>2005</th>\n",
       "      <td>0</td>\n",
       "      <td>0</td>\n",
       "      <td>0.0</td>\n",
       "      <td>0</td>\n",
       "    </tr>\n",
       "    <tr>\n",
       "      <th>2006</th>\n",
       "      <td>0</td>\n",
       "      <td>0</td>\n",
       "      <td>1.0</td>\n",
       "      <td>0</td>\n",
       "    </tr>\n",
       "    <tr>\n",
       "      <th>2007</th>\n",
       "      <td>0</td>\n",
       "      <td>2500000</td>\n",
       "      <td>0.0</td>\n",
       "      <td>0</td>\n",
       "    </tr>\n",
       "    <tr>\n",
       "      <th>2008</th>\n",
       "      <td>0</td>\n",
       "      <td>100</td>\n",
       "      <td>60.0</td>\n",
       "      <td>0</td>\n",
       "    </tr>\n",
       "    <tr>\n",
       "      <th>2009</th>\n",
       "      <td>0</td>\n",
       "      <td>0</td>\n",
       "      <td>0.0</td>\n",
       "      <td>0</td>\n",
       "    </tr>\n",
       "  </tbody>\n",
       "</table>\n",
       "</div>"
      ],
      "text/plain": [
       "      USD      IDR  persen  inflasi\n",
       "2005    0        0     0.0        0\n",
       "2006    0        0     1.0        0\n",
       "2007    0  2500000     0.0        0\n",
       "2008    0      100    60.0        0\n",
       "2009    0        0     0.0        0"
      ]
     },
     "execution_count": 13,
     "metadata": {},
     "output_type": "execute_result"
    }
   ],
   "source": [
    "# cls_old_ekonomi['mati'] = [re.sub(\"[^0-9]\", \"\", str(mati)) if (re.sub(\"[^0-9]\", \"\", str(mati)) != '') else 1 for mati in cls_old_ekonomi['mati']]\n",
    "cls_old_ekonomi['USD'] = cls_old_ekonomi['USD'].astype(int)\n",
    "\n",
    "# cls_old_ekonomi['luka'] = [re.sub(\"[^0-9]\", \"\", str(luka)) if (re.sub(\"[^0-9]\", \"\", str(luka)) != '') else 1 for luka in cls_old_ekonomi['luka']]\n",
    "cls_old_ekonomi['IDR'] = cls_old_ekonomi['IDR'].astype(int)\n",
    "\n",
    "# cls_old_ekonomi['rumah'] = [re.sub(\"[^0-9]\", \"\", str(rumah)) if (re.sub(\"[^0-9]\", \"\", str(rumah)) != '') else 1 for rumah in cls_old_ekonomi['rumah']]\n",
    "# cls_old_ekonomi['rumah'] = cls_old_ekonomi['rumah'].astype(int)\n",
    "\n",
    "# cls_old_ekonomi['orang'] = [re.sub(\"[^0-9]\", \"\", str(orang)) if (re.sub(\"[^0-9]\", \"\", str(orang)) != '') else 1 for orang in cls_old_ekonomi['orang']]\n",
    "cls_old_ekonomi['inflasi'] = cls_old_ekonomi['inflasi'].astype(int)\n",
    "# cls_old_ekonomi = cls_old_ekonomi.replace({',': '.'}, regex=True)\n",
    "\n",
    "cls_old_ekonomi.head()"
   ]
  },
  {
   "attachments": {},
   "cell_type": "markdown",
   "metadata": {},
   "source": [
    "### Input Severity"
   ]
  },
  {
   "cell_type": "code",
   "execution_count": 50,
   "metadata": {},
   "outputs": [],
   "source": [
    "# klasifikasi.ipynb ekonomi\n",
    "def calc_eko(df):\n",
    "  # Kondisi Gabungan \n",
    "  keparahanValues = []\n",
    "  for i in range (0,len(df)):\n",
    "\n",
    "    USD=df.iloc[i,0]\n",
    "    IDR=df.iloc[i,1]\n",
    "    persen=df.iloc[i,2]\n",
    "    inflasi=df.iloc[i,3]\n",
    "    # print(USD)\n",
    "\n",
    "    # USD\n",
    "    if(USD==0 or USD<=100000000 ):\n",
    "      keparahanUSD=1\n",
    "    \n",
    "    elif(USD>100000000 or USD<=1000000000 ):\n",
    "      keparahanUSD=2\n",
    "    \n",
    "    elif(USD>100000000 ):\n",
    "      keparahanUSD=3\n",
    "    \n",
    "    # IDR\n",
    "    if(IDR==0 or IDR<=100000000 ):\n",
    "      keparahanIDR=1\n",
    "    \n",
    "    elif(IDR>100000000 or IDR<=1000000000 ):\n",
    "      keparahanIDR=2\n",
    "    \n",
    "    elif(IDR>100000000 ):\n",
    "      keparahanIDR=3\n",
    "    \n",
    "    # PERSEN\n",
    "    if(persen==0 or persen<=5 ):\n",
    "      keparahanPERSEN=1\n",
    "    \n",
    "    elif(persen>5 or persen<=10 ):\n",
    "      keparahanPERSEN=2\n",
    "    \n",
    "    elif(persen>10 ):\n",
    "      keparahanPERSEN=3\n",
    "    \n",
    "    # INFLASI \n",
    "    if(inflasi==0 ):\n",
    "      keparahanINFLASI=1\n",
    "    else:\n",
    "      keparahanINFLASI=3\n",
    "\n",
    "\n",
    "    # gabung USD IDR PERSEN\n",
    "    if(keparahanUSD==1 and keparahanIDR==1 and keparahanPERSEN==1 ):\n",
    "      keparahan3=1 \n",
    "    if(keparahanUSD==2 and keparahanIDR==1 and keparahanPERSEN==1 ):\n",
    "      keparahan3=2\n",
    "    if(keparahanUSD==3 and keparahanIDR==1 and keparahanPERSEN==1 ):\n",
    "      keparahan3=3\n",
    "    if(keparahanUSD==1 and keparahanIDR==2 and keparahanPERSEN==1 ):\n",
    "      keparahan3=2\n",
    "    if(keparahanUSD==2 and keparahanIDR==2 and keparahanPERSEN==1 ):\n",
    "      keparahan3=2\n",
    "    if(keparahanUSD==3 and keparahanIDR==2 and keparahanPERSEN==1 ):\n",
    "      keparahan3=3\n",
    "    if(keparahanUSD==1 and keparahanIDR==3 and keparahanPERSEN==1 ):\n",
    "      keparahan3=3\n",
    "    if(keparahanUSD==2 and keparahanIDR==3 and keparahanPERSEN==1 ):\n",
    "      keparahan3=3\n",
    "    if(keparahanUSD==3 and keparahanIDR==3 and keparahanPERSEN==1 ):\n",
    "      keparahan3=3\n",
    "\n",
    "    if(keparahanUSD==1 and keparahanIDR==1 and keparahanPERSEN==2 ):\n",
    "      keparahan3=2\n",
    "    if(keparahanUSD==2 and keparahanIDR==1 and keparahanPERSEN==2 ):\n",
    "      keparahan3=2\n",
    "    if(keparahanUSD==3 and keparahanIDR==1 and keparahanPERSEN==2 ):\n",
    "      keparahan3=3\n",
    "    if(keparahanUSD==1 and keparahanIDR==2 and keparahanPERSEN==2 ):\n",
    "      keparahan3=2\n",
    "    if(keparahanUSD==2 and keparahanIDR==2 and keparahanPERSEN==2 ):\n",
    "      keparahan3=2\n",
    "    if(keparahanUSD==3 and keparahanIDR==2 and keparahanPERSEN==2 ):\n",
    "      keparahan3=3\n",
    "    if(keparahanUSD==1 and keparahanIDR==3 and keparahanPERSEN==2 ):\n",
    "      keparahan3=3\n",
    "    if(keparahanUSD==2 and keparahanIDR==3 and keparahanPERSEN==2 ):\n",
    "      keparahan3=3\n",
    "    if(keparahanUSD==3 and keparahanIDR==3 and keparahanPERSEN==2 ):\n",
    "      keparahan3=3\n",
    "\n",
    "    if(keparahanUSD==1 and keparahanIDR==1 and keparahanPERSEN==3 ):\n",
    "      keparahan3=3\n",
    "    if(keparahanUSD==2 and keparahanIDR==1 and keparahanPERSEN==3 ):\n",
    "      keparahan3=3\n",
    "    if(keparahanUSD==3 and keparahanIDR==1 and keparahanPERSEN==3 ):\n",
    "      keparahan3=3\n",
    "    if(keparahanUSD==1 and keparahanIDR==2 and keparahanPERSEN==3 ):\n",
    "      keparahan3=3\n",
    "    if(keparahanUSD==2 and keparahanIDR==2 and keparahanPERSEN==3 ):\n",
    "      keparahan3=3\n",
    "    if(keparahanUSD==3 and keparahanIDR==2 and keparahanPERSEN==3 ):\n",
    "      keparahan3=3\n",
    "    if(keparahanUSD==1 and keparahanIDR==3 and keparahanPERSEN==3 ):\n",
    "      keparahan3=3\n",
    "    if(keparahanUSD==2 and keparahanIDR==3 and keparahanPERSEN==3 ):\n",
    "      keparahan3=3\n",
    "    if(keparahanUSD==3 and keparahanIDR==3 and keparahanPERSEN==3 ):\n",
    "      keparahan3=3\n",
    "\n",
    "    # gabung USD IDR PERSEN\n",
    "    if(keparahan3==1 and keparahanINFLASI==1):\n",
    "      keparahanTotal=1    \n",
    "      # keparahanTotal=\"rendah\"  \n",
    "    if(keparahan3==1 and keparahanINFLASI==3):\n",
    "      keparahanTotal=3\n",
    "      # keparahanTotal=\"parah\"\n",
    "    if(keparahan3==2 and keparahanINFLASI==1):\n",
    "      keparahanTotal=2    \n",
    "      # keparahanTotal=\"sedang\"  \n",
    "    if(keparahan3==2 and keparahanINFLASI==3):\n",
    "      keparahanTotal=3\n",
    "      # keparahanTotal=\"parah\"\n",
    "    if(keparahan3==3 and keparahanINFLASI==1):\n",
    "      keparahanTotal=3    \n",
    "      # keparahanTotal=\"parah\"    \n",
    "    if(keparahan3==3 and keparahanINFLASI==3):\n",
    "      keparahanTotal=3\n",
    "      # keparahanTotal=\"parah\"\n",
    "    \n",
    "    keparahanValues.append(keparahanTotal)\n",
    "  return keparahanValues"
   ]
  },
  {
   "cell_type": "code",
   "execution_count": 20,
   "metadata": {},
   "outputs": [
    {
     "data": {
      "text/html": [
       "<div>\n",
       "<style scoped>\n",
       "    .dataframe tbody tr th:only-of-type {\n",
       "        vertical-align: middle;\n",
       "    }\n",
       "\n",
       "    .dataframe tbody tr th {\n",
       "        vertical-align: top;\n",
       "    }\n",
       "\n",
       "    .dataframe thead th {\n",
       "        text-align: right;\n",
       "    }\n",
       "</style>\n",
       "<table border=\"1\" class=\"dataframe\">\n",
       "  <thead>\n",
       "    <tr style=\"text-align: right;\">\n",
       "      <th></th>\n",
       "      <th>USD</th>\n",
       "      <th>IDR</th>\n",
       "      <th>persen</th>\n",
       "      <th>inflasi</th>\n",
       "      <th>keparahannew</th>\n",
       "    </tr>\n",
       "  </thead>\n",
       "  <tbody>\n",
       "    <tr>\n",
       "      <th>2005</th>\n",
       "      <td>0</td>\n",
       "      <td>0</td>\n",
       "      <td>0.0</td>\n",
       "      <td>0</td>\n",
       "      <td>1</td>\n",
       "    </tr>\n",
       "    <tr>\n",
       "      <th>2006</th>\n",
       "      <td>0</td>\n",
       "      <td>0</td>\n",
       "      <td>1.0</td>\n",
       "      <td>0</td>\n",
       "      <td>1</td>\n",
       "    </tr>\n",
       "    <tr>\n",
       "      <th>2007</th>\n",
       "      <td>0</td>\n",
       "      <td>2500000</td>\n",
       "      <td>0.0</td>\n",
       "      <td>0</td>\n",
       "      <td>1</td>\n",
       "    </tr>\n",
       "    <tr>\n",
       "      <th>2008</th>\n",
       "      <td>0</td>\n",
       "      <td>100</td>\n",
       "      <td>60.0</td>\n",
       "      <td>0</td>\n",
       "      <td>2</td>\n",
       "    </tr>\n",
       "    <tr>\n",
       "      <th>2009</th>\n",
       "      <td>0</td>\n",
       "      <td>0</td>\n",
       "      <td>0.0</td>\n",
       "      <td>0</td>\n",
       "      <td>1</td>\n",
       "    </tr>\n",
       "  </tbody>\n",
       "</table>\n",
       "</div>"
      ],
      "text/plain": [
       "      USD      IDR  persen  inflasi  keparahannew\n",
       "2005    0        0     0.0        0             1\n",
       "2006    0        0     1.0        0             1\n",
       "2007    0  2500000     0.0        0             1\n",
       "2008    0      100    60.0        0             2\n",
       "2009    0        0     0.0        0             1"
      ]
     },
     "execution_count": 20,
     "metadata": {},
     "output_type": "execute_result"
    }
   ],
   "source": [
    "cls_old_ekonomi['keparahannew'] = calc_eko(cls_old_ekonomi)\n",
    "cls_old_ekonomi.head()"
   ]
  },
  {
   "attachments": {},
   "cell_type": "markdown",
   "metadata": {},
   "source": [
    "### Fit & Train"
   ]
  },
  {
   "cell_type": "code",
   "execution_count": 51,
   "metadata": {},
   "outputs": [],
   "source": [
    "# Declare feature vector and target variable\n",
    "X = cls_old_ekonomi.drop(['keparahannew'], axis=1)\n",
    "y = cls_old_ekonomi['keparahannew']"
   ]
  },
  {
   "cell_type": "code",
   "execution_count": 52,
   "metadata": {},
   "outputs": [
    {
     "name": "stdout",
     "output_type": "stream",
     "text": [
      "2512\n",
      "629\n",
      "(2512, 4) (629, 4)\n"
     ]
    }
   ],
   "source": [
    "# Split X and y into training and testing sets\n",
    "\n",
    "from sklearn.model_selection import train_test_split\n",
    "\n",
    "X_train, X_test, y_train, y_test = train_test_split(X, y, test_size = 0.2, random_state = 0)\n",
    "print(len(X_train))\n",
    "print(len(X_test))\n",
    "print(X_train.shape, X_test.shape)"
   ]
  },
  {
   "cell_type": "code",
   "execution_count": 53,
   "metadata": {},
   "outputs": [
    {
     "data": {
      "text/html": [
       "<div>\n",
       "<style scoped>\n",
       "    .dataframe tbody tr th:only-of-type {\n",
       "        vertical-align: middle;\n",
       "    }\n",
       "\n",
       "    .dataframe tbody tr th {\n",
       "        vertical-align: top;\n",
       "    }\n",
       "\n",
       "    .dataframe thead th {\n",
       "        text-align: right;\n",
       "    }\n",
       "</style>\n",
       "<table border=\"1\" class=\"dataframe\">\n",
       "  <thead>\n",
       "    <tr style=\"text-align: right;\">\n",
       "      <th></th>\n",
       "      <th>USD</th>\n",
       "      <th>IDR</th>\n",
       "      <th>persen</th>\n",
       "      <th>inflasi</th>\n",
       "    </tr>\n",
       "  </thead>\n",
       "  <tbody>\n",
       "    <tr>\n",
       "      <th>3298</th>\n",
       "      <td>0</td>\n",
       "      <td>0</td>\n",
       "      <td>0.0</td>\n",
       "      <td>0</td>\n",
       "    </tr>\n",
       "    <tr>\n",
       "      <th>2118</th>\n",
       "      <td>0</td>\n",
       "      <td>0</td>\n",
       "      <td>29.2</td>\n",
       "      <td>1</td>\n",
       "    </tr>\n",
       "    <tr>\n",
       "      <th>3429</th>\n",
       "      <td>0</td>\n",
       "      <td>0</td>\n",
       "      <td>0.0</td>\n",
       "      <td>0</td>\n",
       "    </tr>\n",
       "    <tr>\n",
       "      <th>3508</th>\n",
       "      <td>0</td>\n",
       "      <td>1</td>\n",
       "      <td>5.6</td>\n",
       "      <td>1</td>\n",
       "    </tr>\n",
       "    <tr>\n",
       "      <th>3917</th>\n",
       "      <td>1</td>\n",
       "      <td>1</td>\n",
       "      <td>0.0</td>\n",
       "      <td>1</td>\n",
       "    </tr>\n",
       "    <tr>\n",
       "      <th>...</th>\n",
       "      <td>...</td>\n",
       "      <td>...</td>\n",
       "      <td>...</td>\n",
       "      <td>...</td>\n",
       "    </tr>\n",
       "    <tr>\n",
       "      <th>2768</th>\n",
       "      <td>0</td>\n",
       "      <td>0</td>\n",
       "      <td>0.0</td>\n",
       "      <td>0</td>\n",
       "    </tr>\n",
       "    <tr>\n",
       "      <th>2840</th>\n",
       "      <td>0</td>\n",
       "      <td>0</td>\n",
       "      <td>5.0</td>\n",
       "      <td>0</td>\n",
       "    </tr>\n",
       "    <tr>\n",
       "      <th>3658</th>\n",
       "      <td>0</td>\n",
       "      <td>0</td>\n",
       "      <td>100.0</td>\n",
       "      <td>0</td>\n",
       "    </tr>\n",
       "    <tr>\n",
       "      <th>10108</th>\n",
       "      <td>0</td>\n",
       "      <td>0</td>\n",
       "      <td>0.0</td>\n",
       "      <td>0</td>\n",
       "    </tr>\n",
       "    <tr>\n",
       "      <th>10233</th>\n",
       "      <td>0</td>\n",
       "      <td>0</td>\n",
       "      <td>0.0</td>\n",
       "      <td>1</td>\n",
       "    </tr>\n",
       "  </tbody>\n",
       "</table>\n",
       "<p>2512 rows × 4 columns</p>\n",
       "</div>"
      ],
      "text/plain": [
       "       USD  IDR  persen  inflasi\n",
       "3298     0    0     0.0        0\n",
       "2118     0    0    29.2        1\n",
       "3429     0    0     0.0        0\n",
       "3508     0    1     5.6        1\n",
       "3917     1    1     0.0        1\n",
       "...    ...  ...     ...      ...\n",
       "2768     0    0     0.0        0\n",
       "2840     0    0     5.0        0\n",
       "3658     0    0   100.0        0\n",
       "10108    0    0     0.0        0\n",
       "10233    0    0     0.0        1\n",
       "\n",
       "[2512 rows x 4 columns]"
      ]
     },
     "execution_count": 53,
     "metadata": {},
     "output_type": "execute_result"
    }
   ],
   "source": [
    "X_train"
   ]
  },
  {
   "cell_type": "code",
   "execution_count": 54,
   "metadata": {},
   "outputs": [],
   "source": [
    "# Feature scaling\n",
    "from sklearn.preprocessing import StandardScaler\n",
    "\n",
    "scaler = StandardScaler()\n",
    "\n",
    "X_train = scaler.fit_transform(X_train)\n",
    "X_test = scaler.transform(X_test)"
   ]
  },
  {
   "cell_type": "code",
   "execution_count": 55,
   "metadata": {},
   "outputs": [
    {
     "name": "stdout",
     "output_type": "stream",
     "text": [
      "Model accuracy score\n",
      "Naive Bayes : 0.9571\n",
      "Random Forest : 0.9984\n",
      "Logistic Regression : 0.8998\n",
      "Decision Tree : 0.9984\n",
      "SVM : 0.8903\n",
      "KNearestNeighbors : 0.9936\n",
      "Deep Learning (MLP) : 0.9936\n",
      "\n",
      "Average cross-validation score\n",
      "Naive Bayes: 0.9506\n",
      "Random Forest: 0.9992\n",
      "Logistic Regression: 0.8762\n",
      "Decision Tree: 1.0000\n",
      "SVM: 0.8742\n",
      "KNearestNeighbors: 0.9956\n",
      "Deep Learning (MLP): 0.9857\n",
      "\n",
      "Training set score: 1.0000\n",
      "Test set score: 0.9984\n",
      "\n",
      "f1 score bencana\n",
      "Naive Bayes: 0.9579\n",
      "Random Forest: 0.9984\n",
      "Logistic Regression: 0.8863\n",
      "Decision Tree: 0.9984\n",
      "SVM: 0.8733\n",
      "KNearestNeighbors: 0.9936\n",
      "Deep Learning (MLP): 0.9936\n",
      "\n",
      "              precision    recall  f1-score   support\n",
      "\n",
      "      rendah       1.00      1.00      1.00       423\n",
      "      sedang       1.00      0.99      1.00       124\n",
      "       parah       1.00      1.00      1.00        82\n",
      "\n",
      "    accuracy                           1.00       629\n",
      "   macro avg       1.00      1.00      1.00       629\n",
      "weighted avg       1.00      1.00      1.00       629\n",
      "\n"
     ]
    },
    {
     "data": {
      "image/png": "[encoded data removed]",
      "text/plain": [
       "<Figure size 432x216 with 2 Axes>"
      ]
     },
     "metadata": {
      "needs_background": "light"
     },
     "output_type": "display_data"
    }
   ],
   "source": [
    "compare_cls(X_train, X_test, y_train, y_test)"
   ]
  },
  {
   "attachments": {},
   "cell_type": "markdown",
   "metadata": {},
   "source": [
    "## Kecelakaan"
   ]
  },
  {
   "attachments": {},
   "cell_type": "markdown",
   "metadata": {},
   "source": [
    "### Preprocess"
   ]
  },
  {
   "cell_type": "code",
   "execution_count": null,
   "metadata": {},
   "outputs": [],
   "source": [
    "# Kecelakaan Section (Topic id = 3)\n",
    "cls_old_kecelakaan = cls_old[cls_old['berita_topik_id'] == 3]\n",
    "cls_old_kecelakaan = cls_old_kecelakaan[['sev_death', 'sev_injury', 'sev_lost', 'sev_sink', 'sev_plane']]\n",
    "print(len(cls_old_kecelakaan))\n",
    "cls_old_kecelakaan.rename(columns = {'sev_death':'USD', 'sev_injury':'IDR', 'sev_lost':'persen', 'sev_sink':'inflasi', 'sev_plane':'inflasi'}, inplace=True)\n",
    "cls_old_kecelakaan.dtypes"
   ]
  },
  {
   "attachments": {},
   "cell_type": "markdown",
   "metadata": {},
   "source": [
    "### Input Severity"
   ]
  },
  {
   "attachments": {},
   "cell_type": "markdown",
   "metadata": {},
   "source": [
    "### Fit & Train"
   ]
  },
  {
   "attachments": {},
   "cell_type": "markdown",
   "metadata": {},
   "source": [
    "## Kesehatan"
   ]
  },
  {
   "attachments": {},
   "cell_type": "markdown",
   "metadata": {},
   "source": [
    "### Preprocess"
   ]
  },
  {
   "attachments": {},
   "cell_type": "markdown",
   "metadata": {},
   "source": [
    "### Input Severity"
   ]
  },
  {
   "attachments": {},
   "cell_type": "markdown",
   "metadata": {},
   "source": [
    "### Fit & Train"
   ]
  },
  {
   "attachments": {},
   "cell_type": "markdown",
   "metadata": {},
   "source": [
    "## Kriminalitas"
   ]
  },
  {
   "attachments": {},
   "cell_type": "markdown",
   "metadata": {},
   "source": [
    "### Preprocess"
   ]
  },
  {
   "attachments": {},
   "cell_type": "markdown",
   "metadata": {},
   "source": [
    "### Input Severity"
   ]
  },
  {
   "attachments": {},
   "cell_type": "markdown",
   "metadata": {},
   "source": [
    "### Fit & Train"
   ]
  },
  {
   "attachments": {},
   "cell_type": "markdown",
   "metadata": {},
   "source": [
    "## Olahraga"
   ]
  },
  {
   "attachments": {},
   "cell_type": "markdown",
   "metadata": {},
   "source": [
    "### Preprocess"
   ]
  },
  {
   "attachments": {},
   "cell_type": "markdown",
   "metadata": {},
   "source": [
    "### Input Severity"
   ]
  },
  {
   "attachments": {},
   "cell_type": "markdown",
   "metadata": {},
   "source": [
    "### Fit & Train"
   ]
  }
 ],
 "metadata": {
  "kernelspec": {
   "display_name": "Python 3",
   "language": "python",
   "name": "python3"
  },
  "language_info": {
   "codemirror_mode": {
    "name": "ipython",
    "version": 3
   },
   "file_extension": ".py",
   "mimetype": "text/x-python",
   "name": "python",
   "nbconvert_exporter": "python",
   "pygments_lexer": "ipython3",
   "version": "3.10.2"
  },
  "orig_nbformat": 4
 },
 "nbformat": 4,
 "nbformat_minor": 2
}
