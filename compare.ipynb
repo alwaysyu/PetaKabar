{
 "cells": [
  {
   "cell_type": "code",
   "execution_count": 3,
   "metadata": {},
   "outputs": [],
   "source": [
    "import re\n",
    "import pandas as pd\n",
    "import numpy as np\n",
    "import joblib"
   ]
  },
  {
   "cell_type": "code",
   "execution_count": 4,
   "metadata": {},
   "outputs": [],
   "source": [
    "old = pd.read_csv('perbandingan/berita-24-5.csv')\n",
    "# print(old)\n",
    "new = pd.read_csv('perbandingan/berita-24-5.csv') # need changes\n",
    "# print(new)"
   ]
  },
  {
   "cell_type": "code",
   "execution_count": 5,
   "metadata": {},
   "outputs": [
    {
     "data": {
      "text/plain": [
       "Index(['ID', 'berita_title', 'berita_date', 'berita_qdate', 'berita_desc',\n",
       "       'berita_source', 'created_at', 'berita_topik_id', 'qe_what', 'ner_when',\n",
       "       'ner_who', 'ner_prov', 'ner_kab', 'ner_kec', 'ner_neg', 'sev_death',\n",
       "       'sev_injury', 'sev_lost', 'sev_sink', 'sev_plane', 'sev_moneyUSD',\n",
       "       'sev_moneyIDR', 'sev_persen', 'sev_inflasi', 'sev_internasional',\n",
       "       'sev_nasional', 'sev_provkota', 'sev_lost_items', 'sev_lost_money',\n",
       "       'sev_rape', 'sev_house', 'sev_person', 'class_classification',\n",
       "       'berita_summary'],\n",
       "      dtype='object')"
      ]
     },
     "execution_count": 5,
     "metadata": {},
     "output_type": "execute_result"
    }
   ],
   "source": [
    "# old.columns\n",
    "old.columns"
   ]
  },
  {
   "attachments": {},
   "cell_type": "markdown",
   "metadata": {},
   "source": [
    "# Comparing What"
   ]
  },
  {
   "cell_type": "code",
   "execution_count": 6,
   "metadata": {},
   "outputs": [],
   "source": [
    "qe_old = old[['ID', 'berita_title', 'berita_topik_id', 'qe_what']]\n",
    "# qe_old.head()\n",
    "qe_new = new[['ID', 'berita_title', 'berita_topik_id', 'qe_what']] # possibly need changes\n",
    "# qe_old.head()"
   ]
  },
  {
   "cell_type": "code",
   "execution_count": null,
   "metadata": {},
   "outputs": [],
   "source": []
  },
  {
   "attachments": {},
   "cell_type": "markdown",
   "metadata": {},
   "source": [
    "# Comparing Who"
   ]
  },
  {
   "attachments": {},
   "cell_type": "markdown",
   "metadata": {},
   "source": [
    "# Comparing When"
   ]
  },
  {
   "attachments": {},
   "cell_type": "markdown",
   "metadata": {},
   "source": [
    "# Comparing Where"
   ]
  },
  {
   "attachments": {},
   "cell_type": "markdown",
   "metadata": {},
   "source": [
    "# Comparing Classification "
   ]
  },
  {
   "cell_type": "code",
   "execution_count": 7,
   "metadata": {},
   "outputs": [],
   "source": [
    "cls_old = old[['ID', 'berita_title', 'berita_topik_id', 'sev_death', \\\n",
    "       'sev_injury', 'sev_lost', 'sev_sink', 'sev_plane', 'sev_moneyUSD', \\\n",
    "       'sev_moneyIDR', 'sev_persen', 'sev_inflasi', 'sev_internasional', \\\n",
    "       'sev_nasional', 'sev_provkota', 'sev_lost_items', 'sev_lost_money', \\\n",
    "       'sev_rape', 'sev_house', 'sev_person', 'class_classification']]"
   ]
  },
  {
   "cell_type": "code",
   "execution_count": 8,
   "metadata": {},
   "outputs": [
    {
     "data": {
      "text/html": [
       "<div>\n",
       "<style scoped>\n",
       "    .dataframe tbody tr th:only-of-type {\n",
       "        vertical-align: middle;\n",
       "    }\n",
       "\n",
       "    .dataframe tbody tr th {\n",
       "        vertical-align: top;\n",
       "    }\n",
       "\n",
       "    .dataframe thead th {\n",
       "        text-align: right;\n",
       "    }\n",
       "</style>\n",
       "<table border=\"1\" class=\"dataframe\">\n",
       "  <thead>\n",
       "    <tr style=\"text-align: right;\">\n",
       "      <th></th>\n",
       "      <th>ID</th>\n",
       "      <th>berita_title</th>\n",
       "      <th>berita_topik_id</th>\n",
       "      <th>sev_death</th>\n",
       "      <th>sev_injury</th>\n",
       "      <th>sev_lost</th>\n",
       "      <th>sev_sink</th>\n",
       "      <th>sev_plane</th>\n",
       "      <th>sev_moneyUSD</th>\n",
       "      <th>sev_moneyIDR</th>\n",
       "      <th>...</th>\n",
       "      <th>sev_inflasi</th>\n",
       "      <th>sev_internasional</th>\n",
       "      <th>sev_nasional</th>\n",
       "      <th>sev_provkota</th>\n",
       "      <th>sev_lost_items</th>\n",
       "      <th>sev_lost_money</th>\n",
       "      <th>sev_rape</th>\n",
       "      <th>sev_house</th>\n",
       "      <th>sev_person</th>\n",
       "      <th>class_classification</th>\n",
       "    </tr>\n",
       "  </thead>\n",
       "  <tbody>\n",
       "    <tr>\n",
       "      <th>0</th>\n",
       "      <td>1</td>\n",
       "      <td>Bagaimana Proses Terjadinya Gempa Bumi?</td>\n",
       "      <td>1</td>\n",
       "      <td>0.0</td>\n",
       "      <td>0.0</td>\n",
       "      <td>NaN</td>\n",
       "      <td>NaN</td>\n",
       "      <td>NaN</td>\n",
       "      <td>NaN</td>\n",
       "      <td>NaN</td>\n",
       "      <td>...</td>\n",
       "      <td>NaN</td>\n",
       "      <td>NaN</td>\n",
       "      <td>NaN</td>\n",
       "      <td>NaN</td>\n",
       "      <td>NaN</td>\n",
       "      <td>NaN</td>\n",
       "      <td>NaN</td>\n",
       "      <td>0.0</td>\n",
       "      <td>0.0</td>\n",
       "      <td>sedang</td>\n",
       "    </tr>\n",
       "  </tbody>\n",
       "</table>\n",
       "<p>1 rows × 21 columns</p>\n",
       "</div>"
      ],
      "text/plain": [
       "   ID                             berita_title  berita_topik_id  sev_death  \\\n",
       "0   1  Bagaimana Proses Terjadinya Gempa Bumi?                1        0.0   \n",
       "\n",
       "   sev_injury  sev_lost  sev_sink  sev_plane  sev_moneyUSD  sev_moneyIDR  ...  \\\n",
       "0         0.0       NaN       NaN        NaN           NaN           NaN  ...   \n",
       "\n",
       "   sev_inflasi  sev_internasional  sev_nasional  sev_provkota  sev_lost_items  \\\n",
       "0          NaN                NaN           NaN           NaN             NaN   \n",
       "\n",
       "   sev_lost_money  sev_rape  sev_house  sev_person  class_classification  \n",
       "0             NaN       NaN        0.0         0.0                sedang  \n",
       "\n",
       "[1 rows x 21 columns]"
      ]
     },
     "execution_count": 8,
     "metadata": {},
     "output_type": "execute_result"
    }
   ],
   "source": [
    "cls_old.head(1)"
   ]
  },
  {
   "attachments": {},
   "cell_type": "markdown",
   "metadata": {},
   "source": [
    "## Bencana"
   ]
  },
  {
   "cell_type": "code",
   "execution_count": 9,
   "metadata": {},
   "outputs": [
    {
     "data": {
      "text/plain": [
       "mati     float64\n",
       "luka     float64\n",
       "rumah    float64\n",
       "orang    float64\n",
       "dtype: object"
      ]
     },
     "execution_count": 9,
     "metadata": {},
     "output_type": "execute_result"
    }
   ],
   "source": [
    "# Bencana Section (Topic id = 1)\n",
    "cls_old_bencana = cls_old[cls_old['berita_topik_id'] == 1]\n",
    "cls_old_bencana = cls_old_bencana[['sev_death', 'sev_injury', 'sev_house', 'sev_person']]\n",
    "# print(len(cls_old_bencana))\n",
    "cls_old_bencana.rename(columns = {'sev_death':'mati', 'sev_injury':'luka', 'sev_house':'rumah', 'sev_person':'orang'}, inplace=True)\n",
    "cls_old_bencana.dtypes"
   ]
  },
  {
   "cell_type": "code",
   "execution_count": 10,
   "metadata": {},
   "outputs": [
    {
     "data": {
      "text/html": [
       "<div>\n",
       "<style scoped>\n",
       "    .dataframe tbody tr th:only-of-type {\n",
       "        vertical-align: middle;\n",
       "    }\n",
       "\n",
       "    .dataframe tbody tr th {\n",
       "        vertical-align: top;\n",
       "    }\n",
       "\n",
       "    .dataframe thead th {\n",
       "        text-align: right;\n",
       "    }\n",
       "</style>\n",
       "<table border=\"1\" class=\"dataframe\">\n",
       "  <thead>\n",
       "    <tr style=\"text-align: right;\">\n",
       "      <th></th>\n",
       "      <th>mati</th>\n",
       "      <th>luka</th>\n",
       "      <th>rumah</th>\n",
       "      <th>orang</th>\n",
       "    </tr>\n",
       "  </thead>\n",
       "  <tbody>\n",
       "    <tr>\n",
       "      <th>0</th>\n",
       "      <td>0</td>\n",
       "      <td>0</td>\n",
       "      <td>0</td>\n",
       "      <td>0</td>\n",
       "    </tr>\n",
       "    <tr>\n",
       "      <th>1</th>\n",
       "      <td>0</td>\n",
       "      <td>0</td>\n",
       "      <td>5</td>\n",
       "      <td>0</td>\n",
       "    </tr>\n",
       "    <tr>\n",
       "      <th>2</th>\n",
       "      <td>1</td>\n",
       "      <td>7729</td>\n",
       "      <td>1</td>\n",
       "      <td>318</td>\n",
       "    </tr>\n",
       "    <tr>\n",
       "      <th>3</th>\n",
       "      <td>0</td>\n",
       "      <td>1</td>\n",
       "      <td>0</td>\n",
       "      <td>1</td>\n",
       "    </tr>\n",
       "    <tr>\n",
       "      <th>4</th>\n",
       "      <td>0</td>\n",
       "      <td>0</td>\n",
       "      <td>25</td>\n",
       "      <td>230</td>\n",
       "    </tr>\n",
       "  </tbody>\n",
       "</table>\n",
       "</div>"
      ],
      "text/plain": [
       "   mati  luka  rumah  orang\n",
       "0     0     0      0      0\n",
       "1     0     0      5      0\n",
       "2     1  7729      1    318\n",
       "3     0     1      0      1\n",
       "4     0     0     25    230"
      ]
     },
     "execution_count": 10,
     "metadata": {},
     "output_type": "execute_result"
    }
   ],
   "source": [
    "# cls_old_bencana['mati'] = [re.sub(\"[^0-9]\", \"\", str(mati)) if (re.sub(\"[^0-9]\", \"\", str(mati)) != '') else 1 for mati in cls_old_bencana['mati']]\n",
    "cls_old_bencana['mati'] = cls_old_bencana['mati'].astype(int)\n",
    "\n",
    "# cls_old_bencana['luka'] = [re.sub(\"[^0-9]\", \"\", str(luka)) if (re.sub(\"[^0-9]\", \"\", str(luka)) != '') else 1 for luka in cls_old_bencana['luka']]\n",
    "cls_old_bencana['luka'] = cls_old_bencana['luka'].astype(int)\n",
    "\n",
    "# cls_old_bencana['rumah'] = [re.sub(\"[^0-9]\", \"\", str(rumah)) if (re.sub(\"[^0-9]\", \"\", str(rumah)) != '') else 1 for rumah in cls_old_bencana['rumah']]\n",
    "cls_old_bencana['rumah'] = cls_old_bencana['rumah'].astype(int)\n",
    "\n",
    "# cls_old_bencana['orang'] = [re.sub(\"[^0-9]\", \"\", str(orang)) if (re.sub(\"[^0-9]\", \"\", str(orang)) != '') else 1 for orang in cls_old_bencana['orang']]\n",
    "cls_old_bencana['orang'] = cls_old_bencana['orang'].astype(int)\n",
    "# cls_old_bencana = cls_old_bencana.replace({',': '.'}, regex=True)\n",
    "\n",
    "cls_old_bencana.head()"
   ]
  },
  {
   "cell_type": "code",
   "execution_count": 11,
   "metadata": {},
   "outputs": [],
   "source": [
    "# naive_bayes_new.ipynb\n",
    "def matiScale(matiCount: int) -> int:\n",
    "  if matiCount < 3:\n",
    "    return 1\n",
    "  elif matiCount >= 3 and matiCount < 15:\n",
    "    return 2\n",
    "  return 3\n",
    "\n",
    "def lukaScale(lukaCount: int) -> int:\n",
    "  if lukaCount < 10:\n",
    "    return 1\n",
    "  elif lukaCount >= 10 and lukaCount < 20:\n",
    "    return 2\n",
    "  return 3\n",
    "\n",
    "def rumahScale(rumahCount: int) -> int:\n",
    "  if rumahCount < 4:\n",
    "    return 1\n",
    "  elif rumahCount >= 4 and rumahCount <= 20:\n",
    "    return 2\n",
    "  return 3\n",
    "\n",
    "def orangScale(orangCount: int) -> int:\n",
    "  if orangCount < 10:\n",
    "    return 1\n",
    "  elif orangCount >= 10 and orangCount <= 100:\n",
    "    return 2\n",
    "  return 3\n",
    "\n",
    "def calculate(mati: int, luka: int, rumah: int, orang: int):\n",
    "  subtractor = 0\n",
    "  total = 0\n",
    "  fiturCount = 4\n",
    "\n",
    "  if (mati > 0):\n",
    "    total += matiScale(matiCount=mati)\n",
    "  else:\n",
    "    subtractor += 1\n",
    "\n",
    "  if (luka > 0):\n",
    "    total += lukaScale(lukaCount=luka)\n",
    "  else:\n",
    "    subtractor += 1\n",
    "\n",
    "  if (rumah > 0):\n",
    "    total += rumahScale(rumahCount=rumah)\n",
    "  else:\n",
    "    subtractor += 1\n",
    "  \n",
    "  if (orang > 0):\n",
    "    total += orangScale(orangCount=orang)\n",
    "  else:\n",
    "    subtractor += 1\n",
    "          \n",
    "\n",
    "  divider = (fiturCount - subtractor)\n",
    "  severityMean = 0\n",
    "\n",
    "  if (divider > 0):\n",
    "    severityMean = total / divider\n",
    "\n",
    "  if severityMean <= 1:\n",
    "    return 'rendah'\n",
    "  elif severityMean > 1 and severityMean <= 2:\n",
    "    return 'sedang'\n",
    "  else:\n",
    "    return 'parah'"
   ]
  },
  {
   "cell_type": "code",
   "execution_count": 12,
   "metadata": {},
   "outputs": [],
   "source": [
    "keparahanValues = []\n",
    "\n",
    "for index, row in cls_old_bencana.iterrows():\n",
    "  result = calculate(orang=int(row['orang']), \\\n",
    "      luka=int(row['luka']), \\\n",
    "        rumah=int(row['rumah']), \\\n",
    "          mati=int(row['mati']))\n",
    "  \n",
    "  keparahanValues.append(result)"
   ]
  },
  {
   "cell_type": "code",
   "execution_count": 13,
   "metadata": {},
   "outputs": [
    {
     "data": {
      "text/html": [
       "<div>\n",
       "<style scoped>\n",
       "    .dataframe tbody tr th:only-of-type {\n",
       "        vertical-align: middle;\n",
       "    }\n",
       "\n",
       "    .dataframe tbody tr th {\n",
       "        vertical-align: top;\n",
       "    }\n",
       "\n",
       "    .dataframe thead th {\n",
       "        text-align: right;\n",
       "    }\n",
       "</style>\n",
       "<table border=\"1\" class=\"dataframe\">\n",
       "  <thead>\n",
       "    <tr style=\"text-align: right;\">\n",
       "      <th></th>\n",
       "      <th>mati</th>\n",
       "      <th>luka</th>\n",
       "      <th>rumah</th>\n",
       "      <th>orang</th>\n",
       "      <th>keparahannew</th>\n",
       "    </tr>\n",
       "  </thead>\n",
       "  <tbody>\n",
       "    <tr>\n",
       "      <th>0</th>\n",
       "      <td>0</td>\n",
       "      <td>0</td>\n",
       "      <td>0</td>\n",
       "      <td>0</td>\n",
       "      <td>rendah</td>\n",
       "    </tr>\n",
       "    <tr>\n",
       "      <th>1</th>\n",
       "      <td>0</td>\n",
       "      <td>0</td>\n",
       "      <td>5</td>\n",
       "      <td>0</td>\n",
       "      <td>sedang</td>\n",
       "    </tr>\n",
       "    <tr>\n",
       "      <th>2</th>\n",
       "      <td>1</td>\n",
       "      <td>7729</td>\n",
       "      <td>1</td>\n",
       "      <td>318</td>\n",
       "      <td>sedang</td>\n",
       "    </tr>\n",
       "    <tr>\n",
       "      <th>3</th>\n",
       "      <td>0</td>\n",
       "      <td>1</td>\n",
       "      <td>0</td>\n",
       "      <td>1</td>\n",
       "      <td>rendah</td>\n",
       "    </tr>\n",
       "    <tr>\n",
       "      <th>4</th>\n",
       "      <td>0</td>\n",
       "      <td>0</td>\n",
       "      <td>25</td>\n",
       "      <td>230</td>\n",
       "      <td>parah</td>\n",
       "    </tr>\n",
       "  </tbody>\n",
       "</table>\n",
       "</div>"
      ],
      "text/plain": [
       "   mati  luka  rumah  orang keparahannew\n",
       "0     0     0      0      0       rendah\n",
       "1     0     0      5      0       sedang\n",
       "2     1  7729      1    318       sedang\n",
       "3     0     1      0      1       rendah\n",
       "4     0     0     25    230        parah"
      ]
     },
     "execution_count": 13,
     "metadata": {},
     "output_type": "execute_result"
    }
   ],
   "source": [
    "cls_old_bencana['keparahannew'] = keparahanValues\n",
    "cls_old_bencana.head()"
   ]
  },
  {
   "cell_type": "code",
   "execution_count": 14,
   "metadata": {},
   "outputs": [],
   "source": [
    "# Declare feature vector and target variable\n",
    "X = cls_old_bencana.drop(['keparahannew'], axis=1)\n",
    "y = cls_old_bencana['keparahannew']"
   ]
  },
  {
   "cell_type": "code",
   "execution_count": 15,
   "metadata": {},
   "outputs": [
    {
     "data": {
      "text/html": [
       "<div>\n",
       "<style scoped>\n",
       "    .dataframe tbody tr th:only-of-type {\n",
       "        vertical-align: middle;\n",
       "    }\n",
       "\n",
       "    .dataframe tbody tr th {\n",
       "        vertical-align: top;\n",
       "    }\n",
       "\n",
       "    .dataframe thead th {\n",
       "        text-align: right;\n",
       "    }\n",
       "</style>\n",
       "<table border=\"1\" class=\"dataframe\">\n",
       "  <thead>\n",
       "    <tr style=\"text-align: right;\">\n",
       "      <th></th>\n",
       "      <th>mati</th>\n",
       "      <th>luka</th>\n",
       "      <th>rumah</th>\n",
       "      <th>orang</th>\n",
       "    </tr>\n",
       "  </thead>\n",
       "  <tbody>\n",
       "    <tr>\n",
       "      <th>count</th>\n",
       "      <td>2.773000e+03</td>\n",
       "      <td>2773.000000</td>\n",
       "      <td>2773.000000</td>\n",
       "      <td>2.773000e+03</td>\n",
       "    </tr>\n",
       "    <tr>\n",
       "      <th>mean</th>\n",
       "      <td>3.975754e+04</td>\n",
       "      <td>29.438154</td>\n",
       "      <td>1266.150379</td>\n",
       "      <td>2.666879e+04</td>\n",
       "    </tr>\n",
       "    <tr>\n",
       "      <th>std</th>\n",
       "      <td>2.088903e+06</td>\n",
       "      <td>457.328387</td>\n",
       "      <td>27543.185997</td>\n",
       "      <td>9.477396e+05</td>\n",
       "    </tr>\n",
       "    <tr>\n",
       "      <th>min</th>\n",
       "      <td>0.000000e+00</td>\n",
       "      <td>0.000000</td>\n",
       "      <td>0.000000</td>\n",
       "      <td>0.000000e+00</td>\n",
       "    </tr>\n",
       "    <tr>\n",
       "      <th>25%</th>\n",
       "      <td>0.000000e+00</td>\n",
       "      <td>0.000000</td>\n",
       "      <td>0.000000</td>\n",
       "      <td>0.000000e+00</td>\n",
       "    </tr>\n",
       "    <tr>\n",
       "      <th>50%</th>\n",
       "      <td>0.000000e+00</td>\n",
       "      <td>0.000000</td>\n",
       "      <td>0.000000</td>\n",
       "      <td>0.000000e+00</td>\n",
       "    </tr>\n",
       "    <tr>\n",
       "      <th>75%</th>\n",
       "      <td>0.000000e+00</td>\n",
       "      <td>0.000000</td>\n",
       "      <td>1.000000</td>\n",
       "      <td>1.000000e+00</td>\n",
       "    </tr>\n",
       "    <tr>\n",
       "      <th>max</th>\n",
       "      <td>1.100000e+08</td>\n",
       "      <td>8724.000000</td>\n",
       "      <td>1000000.000000</td>\n",
       "      <td>4.400000e+07</td>\n",
       "    </tr>\n",
       "  </tbody>\n",
       "</table>\n",
       "</div>"
      ],
      "text/plain": [
       "               mati         luka           rumah         orang\n",
       "count  2.773000e+03  2773.000000     2773.000000  2.773000e+03\n",
       "mean   3.975754e+04    29.438154     1266.150379  2.666879e+04\n",
       "std    2.088903e+06   457.328387    27543.185997  9.477396e+05\n",
       "min    0.000000e+00     0.000000        0.000000  0.000000e+00\n",
       "25%    0.000000e+00     0.000000        0.000000  0.000000e+00\n",
       "50%    0.000000e+00     0.000000        0.000000  0.000000e+00\n",
       "75%    0.000000e+00     0.000000        1.000000  1.000000e+00\n",
       "max    1.100000e+08  8724.000000  1000000.000000  4.400000e+07"
      ]
     },
     "execution_count": 15,
     "metadata": {},
     "output_type": "execute_result"
    }
   ],
   "source": [
    "X.describe()"
   ]
  },
  {
   "cell_type": "code",
   "execution_count": 16,
   "metadata": {},
   "outputs": [],
   "source": [
    "# Split X and y into training and testing sets\n",
    "\n",
    "from sklearn.model_selection import train_test_split\n",
    "\n",
    "X_train, X_test, y_train, y_test = train_test_split(X, y, test_size = 0.2, random_state = 0)"
   ]
  },
  {
   "cell_type": "code",
   "execution_count": 17,
   "metadata": {},
   "outputs": [
    {
     "data": {
      "text/plain": [
       "2218"
      ]
     },
     "execution_count": 17,
     "metadata": {},
     "output_type": "execute_result"
    }
   ],
   "source": [
    "len(X_train)"
   ]
  },
  {
   "cell_type": "code",
   "execution_count": 18,
   "metadata": {},
   "outputs": [
    {
     "data": {
      "text/plain": [
       "555"
      ]
     },
     "execution_count": 18,
     "metadata": {},
     "output_type": "execute_result"
    }
   ],
   "source": [
    "len(X_test)"
   ]
  },
  {
   "cell_type": "code",
   "execution_count": 19,
   "metadata": {},
   "outputs": [
    {
     "data": {
      "text/html": [
       "<div>\n",
       "<style scoped>\n",
       "    .dataframe tbody tr th:only-of-type {\n",
       "        vertical-align: middle;\n",
       "    }\n",
       "\n",
       "    .dataframe tbody tr th {\n",
       "        vertical-align: top;\n",
       "    }\n",
       "\n",
       "    .dataframe thead th {\n",
       "        text-align: right;\n",
       "    }\n",
       "</style>\n",
       "<table border=\"1\" class=\"dataframe\">\n",
       "  <thead>\n",
       "    <tr style=\"text-align: right;\">\n",
       "      <th></th>\n",
       "      <th>mati</th>\n",
       "      <th>luka</th>\n",
       "      <th>rumah</th>\n",
       "      <th>orang</th>\n",
       "    </tr>\n",
       "  </thead>\n",
       "  <tbody>\n",
       "    <tr>\n",
       "      <th>1313</th>\n",
       "      <td>0</td>\n",
       "      <td>1</td>\n",
       "      <td>1</td>\n",
       "      <td>0</td>\n",
       "    </tr>\n",
       "    <tr>\n",
       "      <th>9069</th>\n",
       "      <td>0</td>\n",
       "      <td>0</td>\n",
       "      <td>1</td>\n",
       "      <td>0</td>\n",
       "    </tr>\n",
       "    <tr>\n",
       "      <th>9688</th>\n",
       "      <td>0</td>\n",
       "      <td>0</td>\n",
       "      <td>0</td>\n",
       "      <td>1</td>\n",
       "    </tr>\n",
       "    <tr>\n",
       "      <th>330</th>\n",
       "      <td>0</td>\n",
       "      <td>0</td>\n",
       "      <td>0</td>\n",
       "      <td>1</td>\n",
       "    </tr>\n",
       "    <tr>\n",
       "      <th>757</th>\n",
       "      <td>0</td>\n",
       "      <td>0</td>\n",
       "      <td>0</td>\n",
       "      <td>0</td>\n",
       "    </tr>\n",
       "    <tr>\n",
       "      <th>...</th>\n",
       "      <td>...</td>\n",
       "      <td>...</td>\n",
       "      <td>...</td>\n",
       "      <td>...</td>\n",
       "    </tr>\n",
       "    <tr>\n",
       "      <th>763</th>\n",
       "      <td>0</td>\n",
       "      <td>0</td>\n",
       "      <td>0</td>\n",
       "      <td>0</td>\n",
       "    </tr>\n",
       "    <tr>\n",
       "      <th>835</th>\n",
       "      <td>1</td>\n",
       "      <td>0</td>\n",
       "      <td>0</td>\n",
       "      <td>1</td>\n",
       "    </tr>\n",
       "    <tr>\n",
       "      <th>1653</th>\n",
       "      <td>1</td>\n",
       "      <td>0</td>\n",
       "      <td>1</td>\n",
       "      <td>1</td>\n",
       "    </tr>\n",
       "    <tr>\n",
       "      <th>9725</th>\n",
       "      <td>0</td>\n",
       "      <td>0</td>\n",
       "      <td>0</td>\n",
       "      <td>0</td>\n",
       "    </tr>\n",
       "    <tr>\n",
       "      <th>9850</th>\n",
       "      <td>0</td>\n",
       "      <td>0</td>\n",
       "      <td>0</td>\n",
       "      <td>0</td>\n",
       "    </tr>\n",
       "  </tbody>\n",
       "</table>\n",
       "<p>2218 rows × 4 columns</p>\n",
       "</div>"
      ],
      "text/plain": [
       "      mati  luka  rumah  orang\n",
       "1313     0     1      1      0\n",
       "9069     0     0      1      0\n",
       "9688     0     0      0      1\n",
       "330      0     0      0      1\n",
       "757      0     0      0      0\n",
       "...    ...   ...    ...    ...\n",
       "763      0     0      0      0\n",
       "835      1     0      0      1\n",
       "1653     1     0      1      1\n",
       "9725     0     0      0      0\n",
       "9850     0     0      0      0\n",
       "\n",
       "[2218 rows x 4 columns]"
      ]
     },
     "execution_count": 19,
     "metadata": {},
     "output_type": "execute_result"
    }
   ],
   "source": [
    "X_train"
   ]
  },
  {
   "cell_type": "code",
   "execution_count": 20,
   "metadata": {},
   "outputs": [
    {
     "data": {
      "text/plain": [
       "((2218, 4), (555, 4))"
      ]
     },
     "execution_count": 20,
     "metadata": {},
     "output_type": "execute_result"
    }
   ],
   "source": [
    "# Check the shape of X_train and X_test\n",
    "\n",
    "X_train.shape, X_test.shape"
   ]
  },
  {
   "cell_type": "code",
   "execution_count": 21,
   "metadata": {},
   "outputs": [],
   "source": [
    "# Feature scaling\n",
    "from sklearn.preprocessing import StandardScaler\n",
    "\n",
    "scaler = StandardScaler()\n",
    "\n",
    "X_train = scaler.fit_transform(X_train)\n",
    "X_test = scaler.transform(X_test)"
   ]
  },
  {
   "cell_type": "code",
   "execution_count": 76,
   "metadata": {},
   "outputs": [
    {
     "data": {
      "text/html": [
       "<style>#sk-container-id-10 {color: black;background-color: white;}#sk-container-id-10 pre{padding: 0;}#sk-container-id-10 div.sk-toggleable {background-color: white;}#sk-container-id-10 label.sk-toggleable__label {cursor: pointer;display: block;width: 100%;margin-bottom: 0;padding: 0.3em;box-sizing: border-box;text-align: center;}#sk-container-id-10 label.sk-toggleable__label-arrow:before {content: \"▸\";float: left;margin-right: 0.25em;color: #696969;}#sk-container-id-10 label.sk-toggleable__label-arrow:hover:before {color: black;}#sk-container-id-10 div.sk-estimator:hover label.sk-toggleable__label-arrow:before {color: black;}#sk-container-id-10 div.sk-toggleable__content {max-height: 0;max-width: 0;overflow: hidden;text-align: left;background-color: #f0f8ff;}#sk-container-id-10 div.sk-toggleable__content pre {margin: 0.2em;color: black;border-radius: 0.25em;background-color: #f0f8ff;}#sk-container-id-10 input.sk-toggleable__control:checked~div.sk-toggleable__content {max-height: 200px;max-width: 100%;overflow: auto;}#sk-container-id-10 input.sk-toggleable__control:checked~label.sk-toggleable__label-arrow:before {content: \"▾\";}#sk-container-id-10 div.sk-estimator input.sk-toggleable__control:checked~label.sk-toggleable__label {background-color: #d4ebff;}#sk-container-id-10 div.sk-label input.sk-toggleable__control:checked~label.sk-toggleable__label {background-color: #d4ebff;}#sk-container-id-10 input.sk-hidden--visually {border: 0;clip: rect(1px 1px 1px 1px);clip: rect(1px, 1px, 1px, 1px);height: 1px;margin: -1px;overflow: hidden;padding: 0;position: absolute;width: 1px;}#sk-container-id-10 div.sk-estimator {font-family: monospace;background-color: #f0f8ff;border: 1px dotted black;border-radius: 0.25em;box-sizing: border-box;margin-bottom: 0.5em;}#sk-container-id-10 div.sk-estimator:hover {background-color: #d4ebff;}#sk-container-id-10 div.sk-parallel-item::after {content: \"\";width: 100%;border-bottom: 1px solid gray;flex-grow: 1;}#sk-container-id-10 div.sk-label:hover label.sk-toggleable__label {background-color: #d4ebff;}#sk-container-id-10 div.sk-serial::before {content: \"\";position: absolute;border-left: 1px solid gray;box-sizing: border-box;top: 0;bottom: 0;left: 50%;z-index: 0;}#sk-container-id-10 div.sk-serial {display: flex;flex-direction: column;align-items: center;background-color: white;padding-right: 0.2em;padding-left: 0.2em;position: relative;}#sk-container-id-10 div.sk-item {position: relative;z-index: 1;}#sk-container-id-10 div.sk-parallel {display: flex;align-items: stretch;justify-content: center;background-color: white;position: relative;}#sk-container-id-10 div.sk-item::before, #sk-container-id-10 div.sk-parallel-item::before {content: \"\";position: absolute;border-left: 1px solid gray;box-sizing: border-box;top: 0;bottom: 0;left: 50%;z-index: -1;}#sk-container-id-10 div.sk-parallel-item {display: flex;flex-direction: column;z-index: 1;position: relative;background-color: white;}#sk-container-id-10 div.sk-parallel-item:first-child::after {align-self: flex-end;width: 50%;}#sk-container-id-10 div.sk-parallel-item:last-child::after {align-self: flex-start;width: 50%;}#sk-container-id-10 div.sk-parallel-item:only-child::after {width: 0;}#sk-container-id-10 div.sk-dashed-wrapped {border: 1px dashed gray;margin: 0 0.4em 0.5em 0.4em;box-sizing: border-box;padding-bottom: 0.4em;background-color: white;}#sk-container-id-10 div.sk-label label {font-family: monospace;font-weight: bold;display: inline-block;line-height: 1.2em;}#sk-container-id-10 div.sk-label-container {text-align: center;}#sk-container-id-10 div.sk-container {/* jupyter's `normalize.less` sets `[hidden] { display: none; }` but bootstrap.min.css set `[hidden] { display: none !important; }` so we also need the `!important` here to be able to override the default hidden behavior on the sphinx rendered scikit-learn.org. See: https://github.com/scikit-learn/scikit-learn/issues/21755 */display: inline-block !important;position: relative;}#sk-container-id-10 div.sk-text-repr-fallback {display: none;}</style><div id=\"sk-container-id-10\" class=\"sk-top-container\"><div class=\"sk-text-repr-fallback\"><pre>MLPClassifier(max_iter=3000, solver=&#x27;lbfgs&#x27;)</pre><b>In a Jupyter environment, please rerun this cell to show the HTML representation or trust the notebook. <br />On GitHub, the HTML representation is unable to render, please try loading this page with nbviewer.org.</b></div><div class=\"sk-container\" hidden><div class=\"sk-item\"><div class=\"sk-estimator sk-toggleable\"><input class=\"sk-toggleable__control sk-hidden--visually\" id=\"sk-estimator-id-10\" type=\"checkbox\" checked><label for=\"sk-estimator-id-10\" class=\"sk-toggleable__label sk-toggleable__label-arrow\">MLPClassifier</label><div class=\"sk-toggleable__content\"><pre>MLPClassifier(max_iter=3000, solver=&#x27;lbfgs&#x27;)</pre></div></div></div></div></div>"
      ],
      "text/plain": [
       "MLPClassifier(max_iter=3000, solver='lbfgs')"
      ]
     },
     "execution_count": 76,
     "metadata": {},
     "output_type": "execute_result"
    }
   ],
   "source": [
    "# Create model\n",
    "from sklearn.naive_bayes import GaussianNB\n",
    "from sklearn.ensemble import RandomForestClassifier\n",
    "from sklearn.linear_model import LogisticRegression\n",
    "from sklearn.tree import DecisionTreeClassifier\n",
    "from sklearn.svm import SVC\n",
    "from sklearn.neighbors import KNeighborsClassifier\n",
    "from sklearn.neural_network import MLPClassifier\n",
    "\n",
    "## Instantiate the model\n",
    "gnb = GaussianNB()\n",
    "rf = RandomForestClassifier()\n",
    "logreg = LogisticRegression(max_iter=3000, solver='lbfgs')\n",
    "d_tree = DecisionTreeClassifier()\n",
    "svc=SVC() \n",
    "knn = KNeighborsClassifier() # default nilai k = 5\n",
    "dl = MLPClassifier(solver='lbfgs', max_iter=3000)\n",
    "\n",
    "## Fit the model\n",
    "gnb.fit(X_train, y_train)\n",
    "rf.fit(X_train,y_train)\n",
    "logreg.fit(X_train, y_train)\n",
    "d_tree.fit(X_train, y_train)\n",
    "svc.fit(X_train,y_train)\n",
    "knn.fit(X_train, y_train)\n",
    "dl.fit(X_train, y_train)"
   ]
  },
  {
   "cell_type": "code",
   "execution_count": 81,
   "metadata": {},
   "outputs": [],
   "source": [
    "y_pred_gnb = gnb.predict(X_test)\n",
    "y_pred_rf = rf.predict(X_test)\n",
    "y_pred_logreg = logreg.predict(X_test)\n",
    "y_pred_d_tree = d_tree.predict(X_test)\n",
    "y_pred_svc = svc.predict(X_test)\n",
    "y_pred_knn = knn.predict(X_test)\n",
    "y_pred_dl = dl.predict(X_test)"
   ]
  },
  {
   "cell_type": "code",
   "execution_count": 82,
   "metadata": {},
   "outputs": [
    {
     "name": "stdout",
     "output_type": "stream",
     "text": [
      "Model accuracy score\n",
      "Naive Bayes : 0.8667\n",
      "Random Forest : 0.9946\n",
      "Logistic Regression : 0.8090\n",
      "Decision Tree : 0.9856\n",
      "SVM : 0.8108\n",
      "KNearestNeighbors : 0.9550\n",
      "Deep Learning (MLP) : 0.8468\n"
     ]
    }
   ],
   "source": [
    "# Check accuracy score\n",
    "from sklearn.metrics import accuracy_score\n",
    "\n",
    "print('Model accuracy score')\n",
    "print('Naive Bayes : {0:0.4f}'.format(accuracy_score(y_test, y_pred_gnb)))\n",
    "print('Random Forest : {0:0.4f}'.format(accuracy_score(y_test, y_pred_rf)))\n",
    "print('Logistic Regression : {0:0.4f}'.format(accuracy_score(y_test, y_pred_logreg)))\n",
    "print('Decision Tree : {0:0.4f}'.format(accuracy_score(y_test, y_pred_d_tree)))\n",
    "print('SVM : {0:0.4f}'.format(accuracy_score(y_test, y_pred_svc)))\n",
    "print('KNearestNeighbors : {0:0.4f}'.format(accuracy_score(y_test, y_pred_knn)))\n",
    "print('Deep Learning (MLP) : {0:0.4f}'.format(accuracy_score(y_test, y_pred_dl)))"
   ]
  },
  {
   "cell_type": "code",
   "execution_count": 83,
   "metadata": {},
   "outputs": [
    {
     "name": "stdout",
     "output_type": "stream",
     "text": [
      "Average cross-validation score\n",
      "Naive Bayes: 0.8571\n",
      "Random Forest: 0.9901\n",
      "Logistic Regression: 0.7958\n",
      "Decision Tree: 0.9856\n",
      "SVM: 0.7971\n",
      "KNearestNeighbors: 0.9396\n",
      "Deep Learning (MLP): 0.8937\n"
     ]
    }
   ],
   "source": [
    "# Applying 10-Fold Cross Validation\n",
    "\n",
    "from sklearn.model_selection import cross_val_score\n",
    "\n",
    "scores_gnb = cross_val_score(gnb, X_train, y_train, cv = 10, scoring='accuracy')\n",
    "scores_rf = cross_val_score(rf, X_train, y_train, cv = 10, scoring='accuracy')\n",
    "scores_logreg = cross_val_score(logreg, X_train, y_train, cv = 10, scoring='accuracy')\n",
    "scores_d_tree = cross_val_score(d_tree, X_train, y_train, cv = 10, scoring='accuracy')\n",
    "scores_svc = cross_val_score(svc, X_train, y_train, cv = 10, scoring='accuracy')\n",
    "scores_knn = cross_val_score(knn, X_train, y_train, cv = 10, scoring='accuracy')\n",
    "scores_dl = cross_val_score(dl, X_test, y_test, cv = 10, scoring='accuracy')\n",
    "\n",
    "# print('Cross-validation scores:{}'.format(scores))\n",
    "\n",
    "print('Average cross-validation score')\n",
    "print('Naive Bayes: {:.4f}'.format(scores_gnb.mean()))\n",
    "print('Random Forest: {:.4f}'.format(scores_rf.mean()))\n",
    "print('Logistic Regression: {:.4f}'.format(scores_logreg.mean()))\n",
    "print('Decision Tree: {:.4f}'.format(scores_d_tree.mean()))\n",
    "print('SVM: {:.4f}'.format(scores_svc.mean()))\n",
    "print('KNearestNeighbors: {:.4f}'.format(scores_knn.mean()))\n",
    "print('Deep Learning (MLP): {:.4f}'.format(scores_dl.mean()))"
   ]
  },
  {
   "cell_type": "code",
   "execution_count": 84,
   "metadata": {},
   "outputs": [
    {
     "name": "stdout",
     "output_type": "stream",
     "text": [
      "Training set score: 1.0000\n",
      "Test set score: 0.9946\n"
     ]
    }
   ],
   "source": [
    "print('Training set score: {:.4f}'.format(rf.score(X_train, y_train)))\n",
    "print('Test set score: {:.4f}'.format(rf.score(X_test, y_test)))"
   ]
  },
  {
   "cell_type": "code",
   "execution_count": 39,
   "metadata": {},
   "outputs": [],
   "source": [
    "from sklearn.metrics import confusion_matrix\n",
    "import matplotlib.pyplot as plt # for data visualization purposes\n",
    "import seaborn as sns # for statistical data visualization\n",
    "%matplotlib inline"
   ]
  },
  {
   "cell_type": "code",
   "execution_count": 57,
   "metadata": {},
   "outputs": [
    {
     "data": {
      "text/plain": [
       "Text(0.5, 6.0, 'Predicted Values')"
      ]
     },
     "execution_count": 57,
     "metadata": {},
     "output_type": "execute_result"
    },
    {
     "data": {
      "image/png": "[encoded data removed]",
      "text/plain": [
       "<Figure size 432x216 with 2 Axes>"
      ]
     },
     "metadata": {
      "needs_background": "light"
     },
     "output_type": "display_data"
    }
   ],
   "source": [
    "cm=confusion_matrix(y_test,y_pred_rf)\n",
    "cm_df = pd.DataFrame(cm,\n",
    "                    index = ['rendah','sedang','parah'], \n",
    "                     columns = ['rendah','sedang','parah'])\n",
    "plt.figure(figsize=(6,3))\n",
    "plt.title(\"Confusion Matrix Random Forest\")\n",
    "sns.heatmap(cm_df, annot=True,fmt='d', cmap='Blues')\n",
    "plt.ylabel(\"Actual Values\")\n",
    "plt.xlabel(\"Predicted Values\")\n",
    "# plt.savefig('confusion_matrix.png')"
   ]
  },
  {
   "cell_type": "code",
   "execution_count": 52,
   "metadata": {},
   "outputs": [
    {
     "name": "stdout",
     "output_type": "stream",
     "text": [
      "f1 score\n",
      "Naive Bayes: 0.8395\n",
      "Random Forest: 0.9946\n",
      "Logistic Regression: 0.7318\n",
      "Decision Tree: 0.9891\n",
      "SVM: 0.7332\n",
      "KNearestNeighbors: 0.9540\n",
      "Deep Learning (MLP): 0.7903\n"
     ]
    }
   ],
   "source": [
    "from sklearn.metrics import f1_score\n",
    "\n",
    "print('f1 score bencana')\n",
    "print('Naive Bayes: {:.4f}'.format(f1_score(y_test, y_pred_gnb, average='weighted')))\n",
    "print('Random Forest: {:.4f}'.format(f1_score(y_test, y_pred_rf, average='weighted')))\n",
    "print('Logistic Regression: {:.4f}'.format(f1_score(y_test, y_pred_logreg, average='weighted')))\n",
    "print('Decision Tree: {:.4f}'.format(f1_score(y_test, y_pred_d_tree, average='weighted')))\n",
    "print('SVM: {:.4f}'.format(f1_score(y_test, y_pred_svc, average='weighted')))\n",
    "print('KNearestNeighbors: {:.4f}'.format(f1_score(y_test, y_pred_knn, average='weighted')))\n",
    "print('Deep Learning (MLP): {:.4f}'.format(f1_score(y_test, y_pred_dl, average='weighted')))\n",
    "# f1_score(y_test, y_pred_rf, average='weighted')"
   ]
  },
  {
   "cell_type": "code",
   "execution_count": 55,
   "metadata": {},
   "outputs": [
    {
     "name": "stdout",
     "output_type": "stream",
     "text": [
      "              precision    recall  f1-score   support\n",
      "\n",
      "      rendah       0.97      0.94      0.96        34\n",
      "      sedang       1.00      1.00      1.00       445\n",
      "       parah       0.97      0.99      0.98        76\n",
      "\n",
      "    accuracy                           0.99       555\n",
      "   macro avg       0.98      0.98      0.98       555\n",
      "weighted avg       0.99      0.99      0.99       555\n",
      "\n"
     ]
    }
   ],
   "source": [
    "from sklearn.metrics import classification_report\n",
    "\n",
    "# print(classification_report(y_test, y_pred, target_names=['rendah', 'sedang']))\n",
    "print(classification_report(y_test, y_pred_rf, target_names=['rendah', 'sedang', 'parah']))"
   ]
  },
  {
   "attachments": {},
   "cell_type": "markdown",
   "metadata": {},
   "source": [
    "## Ekonomi"
   ]
  },
  {
   "cell_type": "code",
   "execution_count": null,
   "metadata": {},
   "outputs": [],
   "source": [
    "# Ekonomi Section (Topic id = 2)\n",
    "cls_old_ekonomi = cls_old[cls_old['berita_topik_id'] == 2]\n",
    "cls_old_ekonomi = cls_old_ekonomi[['sev_moneyUSD', 'sev_moneyIDR', 'sev_persen', 'sev_inflasi']]\n",
    "# print(len(cls_old_bencana))\n",
    "cls_old_ekonomi.rename(columns = {'sev_death':'mati', 'sev_injury':'luka', 'sev_house':'rumah', 'sev_person':'orang'}, inplace=True)\n",
    "cls_old_ekonomi.dtypes"
   ]
  },
  {
   "attachments": {},
   "cell_type": "markdown",
   "metadata": {},
   "source": [
    "## Kecelakaan"
   ]
  },
  {
   "attachments": {},
   "cell_type": "markdown",
   "metadata": {},
   "source": [
    "## Kesehatan"
   ]
  },
  {
   "attachments": {},
   "cell_type": "markdown",
   "metadata": {},
   "source": [
    "## Kriminalitas"
   ]
  },
  {
   "attachments": {},
   "cell_type": "markdown",
   "metadata": {},
   "source": [
    "## Olahraga"
   ]
  }
 ],
 "metadata": {
  "kernelspec": {
   "display_name": "Python 3",
   "language": "python",
   "name": "python3"
  },
  "language_info": {
   "codemirror_mode": {
    "name": "ipython",
    "version": 3
   },
   "file_extension": ".py",
   "mimetype": "text/x-python",
   "name": "python",
   "nbconvert_exporter": "python",
   "pygments_lexer": "ipython3",
   "version": "3.10.2"
  },
  "orig_nbformat": 4
 },
 "nbformat": 4,
 "nbformat_minor": 2
}
