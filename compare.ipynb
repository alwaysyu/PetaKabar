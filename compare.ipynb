{
 "cells": [
  {
   "cell_type": "code",
   "execution_count": 35,
   "metadata": {},
   "outputs": [],
   "source": [
    "import re\n",
    "import pandas as pd\n",
    "import numpy as np\n",
    "import joblib"
   ]
  },
  {
   "cell_type": "code",
   "execution_count": 2,
   "metadata": {},
   "outputs": [],
   "source": [
    "old = pd.read_csv('perbandingan/berita-24-5.csv')\n",
    "# print(old)\n",
    "new = pd.read_csv('perbandingan/berita-24-5.csv') # need changes\n",
    "# print(new)"
   ]
  },
  {
   "cell_type": "code",
   "execution_count": 4,
   "metadata": {},
   "outputs": [
    {
     "data": {
      "text/plain": [
       "Index(['ID', 'berita_title', 'berita_date', 'berita_qdate', 'berita_desc',\n",
       "       'berita_source', 'created_at', 'berita_topik_id', 'qe_what', 'ner_when',\n",
       "       'ner_who', 'ner_prov', 'ner_kab', 'ner_kec', 'ner_neg', 'sev_death',\n",
       "       'sev_injury', 'sev_lost', 'sev_sink', 'sev_plane', 'sev_moneyUSD',\n",
       "       'sev_moneyIDR', 'sev_persen', 'sev_inflasi', 'sev_internasional',\n",
       "       'sev_nasional', 'sev_provkota', 'sev_lost_items', 'sev_lost_money',\n",
       "       'sev_rape', 'sev_house', 'sev_person', 'class_classification',\n",
       "       'berita_summary'],\n",
       "      dtype='object')"
      ]
     },
     "execution_count": 4,
     "metadata": {},
     "output_type": "execute_result"
    }
   ],
   "source": [
    "# old.columns\n",
    "old.columns"
   ]
  },
  {
   "attachments": {},
   "cell_type": "markdown",
   "metadata": {},
   "source": [
    "# Comparing What"
   ]
  },
  {
   "cell_type": "code",
   "execution_count": 13,
   "metadata": {},
   "outputs": [],
   "source": [
    "qe_old = old[['ID', 'berita_title', 'berita_topik_id', 'qe_what']]\n",
    "# qe_old.head()\n",
    "qe_new = new[['ID', 'berita_title', 'berita_topik_id', 'qe_what']] # possibly need changes\n",
    "# qe_old.head()"
   ]
  },
  {
   "cell_type": "code",
   "execution_count": null,
   "metadata": {},
   "outputs": [],
   "source": []
  },
  {
   "attachments": {},
   "cell_type": "markdown",
   "metadata": {},
   "source": [
    "# Comparing Who"
   ]
  },
  {
   "attachments": {},
   "cell_type": "markdown",
   "metadata": {},
   "source": [
    "# Comparing When"
   ]
  },
  {
   "attachments": {},
   "cell_type": "markdown",
   "metadata": {},
   "source": [
    "# Comparing Where"
   ]
  },
  {
   "attachments": {},
   "cell_type": "markdown",
   "metadata": {},
   "source": [
    "# Comparing Classification "
   ]
  },
  {
   "cell_type": "code",
   "execution_count": 9,
   "metadata": {},
   "outputs": [],
   "source": [
    "cls_old = old[['ID', 'berita_title', 'berita_topik_id', 'sev_death', \\\n",
    "       'sev_injury', 'sev_lost', 'sev_sink', 'sev_plane', 'sev_moneyUSD', \\\n",
    "       'sev_moneyIDR', 'sev_persen', 'sev_inflasi', 'sev_internasional', \\\n",
    "       'sev_nasional', 'sev_provkota', 'sev_lost_items', 'sev_lost_money', \\\n",
    "       'sev_rape', 'sev_house', 'sev_person', 'class_classification']]"
   ]
  },
  {
   "cell_type": "code",
   "execution_count": 10,
   "metadata": {},
   "outputs": [
    {
     "data": {
      "text/html": [
       "<div>\n",
       "<style scoped>\n",
       "    .dataframe tbody tr th:only-of-type {\n",
       "        vertical-align: middle;\n",
       "    }\n",
       "\n",
       "    .dataframe tbody tr th {\n",
       "        vertical-align: top;\n",
       "    }\n",
       "\n",
       "    .dataframe thead th {\n",
       "        text-align: right;\n",
       "    }\n",
       "</style>\n",
       "<table border=\"1\" class=\"dataframe\">\n",
       "  <thead>\n",
       "    <tr style=\"text-align: right;\">\n",
       "      <th></th>\n",
       "      <th>ID</th>\n",
       "      <th>berita_title</th>\n",
       "      <th>berita_topik_id</th>\n",
       "      <th>sev_death</th>\n",
       "      <th>sev_injury</th>\n",
       "      <th>sev_lost</th>\n",
       "      <th>sev_sink</th>\n",
       "      <th>sev_plane</th>\n",
       "      <th>sev_moneyUSD</th>\n",
       "      <th>sev_moneyIDR</th>\n",
       "      <th>...</th>\n",
       "      <th>sev_inflasi</th>\n",
       "      <th>sev_internasional</th>\n",
       "      <th>sev_nasional</th>\n",
       "      <th>sev_provkota</th>\n",
       "      <th>sev_lost_items</th>\n",
       "      <th>sev_lost_money</th>\n",
       "      <th>sev_rape</th>\n",
       "      <th>sev_house</th>\n",
       "      <th>sev_person</th>\n",
       "      <th>class_classification</th>\n",
       "    </tr>\n",
       "  </thead>\n",
       "  <tbody>\n",
       "    <tr>\n",
       "      <th>0</th>\n",
       "      <td>1</td>\n",
       "      <td>Bagaimana Proses Terjadinya Gempa Bumi?</td>\n",
       "      <td>1</td>\n",
       "      <td>0.0</td>\n",
       "      <td>0.0</td>\n",
       "      <td>NaN</td>\n",
       "      <td>NaN</td>\n",
       "      <td>NaN</td>\n",
       "      <td>NaN</td>\n",
       "      <td>NaN</td>\n",
       "      <td>...</td>\n",
       "      <td>NaN</td>\n",
       "      <td>NaN</td>\n",
       "      <td>NaN</td>\n",
       "      <td>NaN</td>\n",
       "      <td>NaN</td>\n",
       "      <td>NaN</td>\n",
       "      <td>NaN</td>\n",
       "      <td>0.0</td>\n",
       "      <td>0.0</td>\n",
       "      <td>sedang</td>\n",
       "    </tr>\n",
       "  </tbody>\n",
       "</table>\n",
       "<p>1 rows × 21 columns</p>\n",
       "</div>"
      ],
      "text/plain": [
       "   ID                             berita_title  berita_topik_id  sev_death  \\\n",
       "0   1  Bagaimana Proses Terjadinya Gempa Bumi?                1        0.0   \n",
       "\n",
       "   sev_injury  sev_lost  sev_sink  sev_plane  sev_moneyUSD  sev_moneyIDR  ...  \\\n",
       "0         0.0       NaN       NaN        NaN           NaN           NaN  ...   \n",
       "\n",
       "   sev_inflasi  sev_internasional  sev_nasional  sev_provkota  sev_lost_items  \\\n",
       "0          NaN                NaN           NaN           NaN             NaN   \n",
       "\n",
       "   sev_lost_money  sev_rape  sev_house  sev_person  class_classification  \n",
       "0             NaN       NaN        0.0         0.0                sedang  \n",
       "\n",
       "[1 rows x 21 columns]"
      ]
     },
     "execution_count": 10,
     "metadata": {},
     "output_type": "execute_result"
    }
   ],
   "source": [
    "cls_old.head(1)"
   ]
  },
  {
   "cell_type": "code",
   "execution_count": 40,
   "metadata": {},
   "outputs": [
    {
     "data": {
      "text/plain": [
       "mati     float64\n",
       "luka     float64\n",
       "rumah    float64\n",
       "orang    float64\n",
       "dtype: object"
      ]
     },
     "execution_count": 40,
     "metadata": {},
     "output_type": "execute_result"
    }
   ],
   "source": [
    "# Bencana Section (Topic id = 1)\n",
    "cls_old_bencana = cls_old[cls_old['berita_topik_id'] == 1]\n",
    "cls_old_bencana = cls_old_bencana[['sev_death', 'sev_injury', 'sev_house', 'sev_person']]\n",
    "# print(len(cls_old_bencana))\n",
    "cls_old_bencana.rename(columns = {'sev_death':'mati', 'sev_injury':'luka', 'sev_house':'rumah', 'sev_person':'orang'}, inplace=True)\n",
    "cls_old_bencana.dtypes"
   ]
  },
  {
   "cell_type": "code",
   "execution_count": 41,
   "metadata": {},
   "outputs": [
    {
     "data": {
      "text/html": [
       "<div>\n",
       "<style scoped>\n",
       "    .dataframe tbody tr th:only-of-type {\n",
       "        vertical-align: middle;\n",
       "    }\n",
       "\n",
       "    .dataframe tbody tr th {\n",
       "        vertical-align: top;\n",
       "    }\n",
       "\n",
       "    .dataframe thead th {\n",
       "        text-align: right;\n",
       "    }\n",
       "</style>\n",
       "<table border=\"1\" class=\"dataframe\">\n",
       "  <thead>\n",
       "    <tr style=\"text-align: right;\">\n",
       "      <th></th>\n",
       "      <th>mati</th>\n",
       "      <th>luka</th>\n",
       "      <th>rumah</th>\n",
       "      <th>orang</th>\n",
       "    </tr>\n",
       "  </thead>\n",
       "  <tbody>\n",
       "    <tr>\n",
       "      <th>0</th>\n",
       "      <td>0</td>\n",
       "      <td>0</td>\n",
       "      <td>0</td>\n",
       "      <td>0</td>\n",
       "    </tr>\n",
       "    <tr>\n",
       "      <th>1</th>\n",
       "      <td>0</td>\n",
       "      <td>0</td>\n",
       "      <td>5</td>\n",
       "      <td>0</td>\n",
       "    </tr>\n",
       "    <tr>\n",
       "      <th>2</th>\n",
       "      <td>1</td>\n",
       "      <td>7729</td>\n",
       "      <td>1</td>\n",
       "      <td>318</td>\n",
       "    </tr>\n",
       "    <tr>\n",
       "      <th>3</th>\n",
       "      <td>0</td>\n",
       "      <td>1</td>\n",
       "      <td>0</td>\n",
       "      <td>1</td>\n",
       "    </tr>\n",
       "    <tr>\n",
       "      <th>4</th>\n",
       "      <td>0</td>\n",
       "      <td>0</td>\n",
       "      <td>25</td>\n",
       "      <td>230</td>\n",
       "    </tr>\n",
       "  </tbody>\n",
       "</table>\n",
       "</div>"
      ],
      "text/plain": [
       "   mati  luka  rumah  orang\n",
       "0     0     0      0      0\n",
       "1     0     0      5      0\n",
       "2     1  7729      1    318\n",
       "3     0     1      0      1\n",
       "4     0     0     25    230"
      ]
     },
     "execution_count": 41,
     "metadata": {},
     "output_type": "execute_result"
    }
   ],
   "source": [
    "# cls_old_bencana['mati'] = [re.sub(\"[^0-9]\", \"\", str(mati)) if (re.sub(\"[^0-9]\", \"\", str(mati)) != '') else 1 for mati in cls_old_bencana['mati']]\n",
    "cls_old_bencana['mati'] = cls_old_bencana['mati'].astype(int)\n",
    "\n",
    "# cls_old_bencana['luka'] = [re.sub(\"[^0-9]\", \"\", str(luka)) if (re.sub(\"[^0-9]\", \"\", str(luka)) != '') else 1 for luka in cls_old_bencana['luka']]\n",
    "cls_old_bencana['luka'] = cls_old_bencana['luka'].astype(int)\n",
    "\n",
    "# cls_old_bencana['rumah'] = [re.sub(\"[^0-9]\", \"\", str(rumah)) if (re.sub(\"[^0-9]\", \"\", str(rumah)) != '') else 1 for rumah in cls_old_bencana['rumah']]\n",
    "cls_old_bencana['rumah'] = cls_old_bencana['rumah'].astype(int)\n",
    "\n",
    "# cls_old_bencana['orang'] = [re.sub(\"[^0-9]\", \"\", str(orang)) if (re.sub(\"[^0-9]\", \"\", str(orang)) != '') else 1 for orang in cls_old_bencana['orang']]\n",
    "cls_old_bencana['orang'] = cls_old_bencana['orang'].astype(int)\n",
    "# cls_old_bencana = cls_old_bencana.replace({',': '.'}, regex=True)\n",
    "\n",
    "cls_old_bencana.head()"
   ]
  },
  {
   "cell_type": "code",
   "execution_count": 30,
   "metadata": {},
   "outputs": [
    {
     "data": {
      "text/plain": [
       "class_classification\n",
       "sedang                  1968\n",
       "parah                    805\n",
       "dtype: int64"
      ]
     },
     "execution_count": 30,
     "metadata": {},
     "output_type": "execute_result"
    }
   ],
   "source": [
    "cls_old_bencana[['class_classification']].value_counts()"
   ]
  }
 ],
 "metadata": {
  "kernelspec": {
   "display_name": "Python 3",
   "language": "python",
   "name": "python3"
  },
  "language_info": {
   "codemirror_mode": {
    "name": "ipython",
    "version": 3
   },
   "file_extension": ".py",
   "mimetype": "text/x-python",
   "name": "python",
   "nbconvert_exporter": "python",
   "pygments_lexer": "ipython3",
   "version": "3.10.2"
  },
  "orig_nbformat": 4
 },
 "nbformat": 4,
 "nbformat_minor": 2
}
