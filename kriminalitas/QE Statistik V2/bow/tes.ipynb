{
 "cells": [
  {
   "cell_type": "code",
   "execution_count": 1,
   "metadata": {},
   "outputs": [],
   "source": [
    "import pandas as pd\n",
    "# df = pd.read_csv(\"bow_where_b.csv\")\n",
    "# df2 = pd.read_csv(\"bow_where_daerah.csv\")\n",
    "\n",
    "# df2.head()\n",
    "# frames = [df, df2]\n",
    "# result = pd.concat(frames)\n",
    "# result.info()\n",
    "\n",
    "# result.to_csv('bow_where_concat.csv', index=False)\n",
    "\n",
    "df_new = pd.read_csv('bow_what_filter.csv')\n",
    "# df_new = pd.read_csv('bow_who_new.csv', usecols=['Skimming News'])\n",
    "# df_new = df_new.loc[:, ~df_new.columns.str.contains('^Unnamed')]\n",
    "# df_new.drop_duplicates(subset=\"parent\", keep=\"first\", inplace=True)\n",
    "# df_new.duplicated()\n",
    "# df_new.head()\n",
    "# pd.set_option('display.max_rows', df_new.shape[0]+1)\n",
    "# df_tes = df_new.rename(columns={'1': 'Tingkat setelah parent', 'pengungsi': 'Parent', \"[('imigran', 0.7085716128349304), ('migran', 0.6820387244224548), ('pemukim', 0.6161231994628906), ('peziarah', 0.599764347076416), ('gerilyawan', 0.5981399416923523), ('pengungsian', 0.5808784365653992), ('tahanan', 0.5777778029441833), ('transmigran', 0.5736098885536194), ('tawanan', 0.5661312937736511), ('sukarelawan', 0.5596505403518677)]\": 'Similarity'})\n",
    "# df_tes\n",
    "# df_new.to_csv('tes_new.csv', index=False)"
   ]
  },
  {
   "cell_type": "code",
   "execution_count": 2,
   "metadata": {},
   "outputs": [
    {
     "name": "stdout",
     "output_type": "stream",
     "text": [
      "<class 'pandas.core.frame.DataFrame'>\n",
      "RangeIndex: 6995 entries, 0 to 6994\n",
      "Data columns (total 3 columns):\n",
      " #   Column                  Non-Null Count  Dtype \n",
      "---  ------                  --------------  ----- \n",
      " 0   tingkat setelah parent  6995 non-null   int64 \n",
      " 1   parent                  6995 non-null   object\n",
      " 2   similarity              6995 non-null   object\n",
      "dtypes: int64(1), object(2)\n",
      "memory usage: 164.1+ KB\n"
     ]
    }
   ],
   "source": [
    "df_new.info()"
   ]
  }
 ],
 "metadata": {
  "kernelspec": {
   "display_name": "Python 3.9.7 ('base')",
   "language": "python",
   "name": "python3"
  },
  "language_info": {
   "codemirror_mode": {
    "name": "ipython",
    "version": 3
   },
   "file_extension": ".py",
   "mimetype": "text/x-python",
   "name": "python",
   "nbconvert_exporter": "python",
   "pygments_lexer": "ipython3",
   "version": "3.9.7"
  },
  "orig_nbformat": 4,
  "vscode": {
   "interpreter": {
    "hash": "14d135845b4420f182ac77ee6b5c0deec044b592a80e9353f0df39bb07f4e36b"
   }
  }
 },
 "nbformat": 4,
 "nbformat_minor": 2
}
