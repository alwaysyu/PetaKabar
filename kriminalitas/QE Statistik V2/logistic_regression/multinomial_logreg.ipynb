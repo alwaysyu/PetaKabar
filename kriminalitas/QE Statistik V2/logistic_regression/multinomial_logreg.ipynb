{
 "cells": [
  {
   "cell_type": "code",
   "execution_count": 27,
   "metadata": {},
   "outputs": [
    {
     "name": "stderr",
     "output_type": "stream",
     "text": [
      "/var/folders/tl/qtfjbsjd2f3f54prw95dl_5m0000gn/T/ipykernel_83476/21832333.py:4: FutureWarning: Dropping of nuisance columns in DataFrame reductions (with 'numeric_only=None') is deprecated; in a future version this will raise TypeError.  Select only valid columns before calling the reduction.\n",
      "  dataset.fillna(dataset.mean(), inplace = True)\n"
     ]
    }
   ],
   "source": [
    "import pandas as pd\n",
    "import joblib\n",
    "dataset = pd.read_csv('/Users/adi/Desktop/TA_Adi_V2/QE Statistik V2/logistic_regression/dataset/keparahan13juli.csv')\n",
    "dataset.fillna(dataset.mean(), inplace = True)"
   ]
  },
  {
   "cell_type": "code",
   "execution_count": 28,
   "metadata": {},
   "outputs": [
    {
     "data": {
      "text/html": [
       "<div>\n",
       "<style scoped>\n",
       "    .dataframe tbody tr th:only-of-type {\n",
       "        vertical-align: middle;\n",
       "    }\n",
       "\n",
       "    .dataframe tbody tr th {\n",
       "        vertical-align: top;\n",
       "    }\n",
       "\n",
       "    .dataframe thead th {\n",
       "        text-align: right;\n",
       "    }\n",
       "</style>\n",
       "<table border=\"1\" class=\"dataframe\">\n",
       "  <thead>\n",
       "    <tr style=\"text-align: right;\">\n",
       "      <th></th>\n",
       "      <th>No Document</th>\n",
       "      <th>title</th>\n",
       "      <th>Description</th>\n",
       "      <th>Mati</th>\n",
       "      <th>Luka</th>\n",
       "      <th>KerugianBarang</th>\n",
       "      <th>KerugianUang</th>\n",
       "      <th>Pemerkosaan</th>\n",
       "      <th>Keparahan</th>\n",
       "    </tr>\n",
       "  </thead>\n",
       "  <tbody>\n",
       "    <tr>\n",
       "      <th>0</th>\n",
       "      <td>0</td>\n",
       "      <td>Mamih Juju Tewas di Musala Ruko, Polisi: Didug...</td>\n",
       "      <td>\\-\\n\\nJuju Juariyah alias Mamih Juju ditemukan...</td>\n",
       "      <td>1</td>\n",
       "      <td>1</td>\n",
       "      <td>0</td>\n",
       "      <td>0</td>\n",
       "      <td>0</td>\n",
       "      <td>Tinggi</td>\n",
       "    </tr>\n",
       "    <tr>\n",
       "      <th>1</th>\n",
       "      <td>1</td>\n",
       "      <td>Remaja Korban Pemerkosaan Ayah Tiri di Cianjur...</td>\n",
       "      <td>\\-\\n\\nRemaja di Kabupaten Cianjur menjadi korb...</td>\n",
       "      <td>0</td>\n",
       "      <td>0</td>\n",
       "      <td>0</td>\n",
       "      <td>0</td>\n",
       "      <td>1</td>\n",
       "      <td>Tinggi</td>\n",
       "    </tr>\n",
       "    <tr>\n",
       "      <th>2</th>\n",
       "      <td>2</td>\n",
       "      <td>Pria di Gunungkidul Diduga Perkosa Anak Tiri, ...</td>\n",
       "      <td>\\-\\n\\nSeorang pria di Kabupaten Gunungkidul di...</td>\n",
       "      <td>0</td>\n",
       "      <td>0</td>\n",
       "      <td>0</td>\n",
       "      <td>0</td>\n",
       "      <td>1</td>\n",
       "      <td>Tinggi</td>\n",
       "    </tr>\n",
       "    <tr>\n",
       "      <th>3</th>\n",
       "      <td>3</td>\n",
       "      <td>Polisi: Massa HMI Demo Depan Istana Bawa Bensi...</td>\n",
       "      <td>\\-\\n\\nPolisi menyatakan demo massa Himpunan Ma...</td>\n",
       "      <td>0</td>\n",
       "      <td>0</td>\n",
       "      <td>0</td>\n",
       "      <td>0</td>\n",
       "      <td>0</td>\n",
       "      <td>Rendah</td>\n",
       "    </tr>\n",
       "    <tr>\n",
       "      <th>4</th>\n",
       "      <td>4</td>\n",
       "      <td>Cerita Ngenas Petugas PPSU Korban Begal di Jak...</td>\n",
       "      <td>\\-\\n\\nPetugas Penanganan Prasarana dan Sarana ...</td>\n",
       "      <td>0</td>\n",
       "      <td>1</td>\n",
       "      <td>1</td>\n",
       "      <td>1</td>\n",
       "      <td>0</td>\n",
       "      <td>Tinggi</td>\n",
       "    </tr>\n",
       "    <tr>\n",
       "      <th>...</th>\n",
       "      <td>...</td>\n",
       "      <td>...</td>\n",
       "      <td>...</td>\n",
       "      <td>...</td>\n",
       "      <td>...</td>\n",
       "      <td>...</td>\n",
       "      <td>...</td>\n",
       "      <td>...</td>\n",
       "      <td>...</td>\n",
       "    </tr>\n",
       "    <tr>\n",
       "      <th>1202</th>\n",
       "      <td>1202</td>\n",
       "      <td>Sekeluarga di Jaktim Ngungsi Usai Dikeroyok, R...</td>\n",
       "      <td>\\-\\n\\nSatu keluarga di Jakarta Timur (Jaktim) ...</td>\n",
       "      <td>0</td>\n",
       "      <td>0</td>\n",
       "      <td>1</td>\n",
       "      <td>0</td>\n",
       "      <td>0</td>\n",
       "      <td>Rendah</td>\n",
       "    </tr>\n",
       "    <tr>\n",
       "      <th>1203</th>\n",
       "      <td>1203</td>\n",
       "      <td>Pembobolan Toko Aksesori HP di Bogor, Pelaku k...</td>\n",
       "      <td>\\-\\n\\nPolisi melakukan olah tempat kejadian pe...</td>\n",
       "      <td>0</td>\n",
       "      <td>0</td>\n",
       "      <td>1</td>\n",
       "      <td>129000000</td>\n",
       "      <td>0</td>\n",
       "      <td>Tinggi</td>\n",
       "    </tr>\n",
       "    <tr>\n",
       "      <th>1204</th>\n",
       "      <td>1204</td>\n",
       "      <td>KPAI Duga Gadis yang Diperkosa Ayah Tiri di Ri...</td>\n",
       "      <td>\\-\\n\\nKomisi Perlindungan Anak Indonesia (KPAI...</td>\n",
       "      <td>0</td>\n",
       "      <td>1</td>\n",
       "      <td>0</td>\n",
       "      <td>0</td>\n",
       "      <td>0</td>\n",
       "      <td>Rendah</td>\n",
       "    </tr>\n",
       "    <tr>\n",
       "      <th>1205</th>\n",
       "      <td>1205</td>\n",
       "      <td>Komnas PA Soroti Nasib Anak Pelaku Pembunuhan ...</td>\n",
       "      <td>\\-\\n\\nKomisi Nasional Perlindungan Anak (Komna...</td>\n",
       "      <td>1</td>\n",
       "      <td>0</td>\n",
       "      <td>0</td>\n",
       "      <td>0</td>\n",
       "      <td>0</td>\n",
       "      <td>Tinggi</td>\n",
       "    </tr>\n",
       "    <tr>\n",
       "      <th>1206</th>\n",
       "      <td>1206</td>\n",
       "      <td>Perampokan Sadis di Semarang, Bunuh Sekuriti-G...</td>\n",
       "      <td>\\-\\n\\nKasus perampokan berdarah terjadi di Sem...</td>\n",
       "      <td>1</td>\n",
       "      <td>0</td>\n",
       "      <td>0</td>\n",
       "      <td>0</td>\n",
       "      <td>0</td>\n",
       "      <td>Tinggi</td>\n",
       "    </tr>\n",
       "  </tbody>\n",
       "</table>\n",
       "<p>1207 rows × 9 columns</p>\n",
       "</div>"
      ],
      "text/plain": [
       "      No Document                                              title  \\\n",
       "0               0  Mamih Juju Tewas di Musala Ruko, Polisi: Didug...   \n",
       "1               1  Remaja Korban Pemerkosaan Ayah Tiri di Cianjur...   \n",
       "2               2  Pria di Gunungkidul Diduga Perkosa Anak Tiri, ...   \n",
       "3               3  Polisi: Massa HMI Demo Depan Istana Bawa Bensi...   \n",
       "4               4  Cerita Ngenas Petugas PPSU Korban Begal di Jak...   \n",
       "...           ...                                                ...   \n",
       "1202         1202  Sekeluarga di Jaktim Ngungsi Usai Dikeroyok, R...   \n",
       "1203         1203  Pembobolan Toko Aksesori HP di Bogor, Pelaku k...   \n",
       "1204         1204  KPAI Duga Gadis yang Diperkosa Ayah Tiri di Ri...   \n",
       "1205         1205  Komnas PA Soroti Nasib Anak Pelaku Pembunuhan ...   \n",
       "1206         1206  Perampokan Sadis di Semarang, Bunuh Sekuriti-G...   \n",
       "\n",
       "                                            Description Mati Luka  \\\n",
       "0     \\-\\n\\nJuju Juariyah alias Mamih Juju ditemukan...    1    1   \n",
       "1     \\-\\n\\nRemaja di Kabupaten Cianjur menjadi korb...    0    0   \n",
       "2     \\-\\n\\nSeorang pria di Kabupaten Gunungkidul di...    0    0   \n",
       "3     \\-\\n\\nPolisi menyatakan demo massa Himpunan Ma...    0    0   \n",
       "4     \\-\\n\\nPetugas Penanganan Prasarana dan Sarana ...    0    1   \n",
       "...                                                 ...  ...  ...   \n",
       "1202  \\-\\n\\nSatu keluarga di Jakarta Timur (Jaktim) ...    0    0   \n",
       "1203  \\-\\n\\nPolisi melakukan olah tempat kejadian pe...    0    0   \n",
       "1204  \\-\\n\\nKomisi Perlindungan Anak Indonesia (KPAI...    0    1   \n",
       "1205  \\-\\n\\nKomisi Nasional Perlindungan Anak (Komna...    1    0   \n",
       "1206  \\-\\n\\nKasus perampokan berdarah terjadi di Sem...    1    0   \n",
       "\n",
       "     KerugianBarang KerugianUang Pemerkosaan Keparahan  \n",
       "0                 0            0           0    Tinggi  \n",
       "1                 0            0           1    Tinggi  \n",
       "2                 0            0           1    Tinggi  \n",
       "3                 0            0           0    Rendah  \n",
       "4                 1            1           0    Tinggi  \n",
       "...             ...          ...         ...       ...  \n",
       "1202              1            0           0    Rendah  \n",
       "1203              1    129000000           0    Tinggi  \n",
       "1204              0            0           0    Rendah  \n",
       "1205              0            0           0    Tinggi  \n",
       "1206              0            0           0    Tinggi  \n",
       "\n",
       "[1207 rows x 9 columns]"
      ]
     },
     "execution_count": 28,
     "metadata": {},
     "output_type": "execute_result"
    }
   ],
   "source": [
    "dataset"
   ]
  },
  {
   "cell_type": "code",
   "execution_count": 29,
   "metadata": {},
   "outputs": [],
   "source": [
    "dataset.drop('No Document', axis=1, inplace=True)\n",
    "dataset.drop('title', axis=1, inplace=True)\n",
    "dataset.drop('Description', axis=1, inplace=True)\n",
    "dataset=dataset.dropna(axis=0)"
   ]
  },
  {
   "cell_type": "code",
   "execution_count": 30,
   "metadata": {},
   "outputs": [
    {
     "name": "stdout",
     "output_type": "stream",
     "text": [
      "<class 'pandas.core.frame.DataFrame'>\n",
      "Int64Index: 1129 entries, 0 to 1206\n",
      "Data columns (total 6 columns):\n",
      " #   Column          Non-Null Count  Dtype \n",
      "---  ------          --------------  ----- \n",
      " 0   Mati            1129 non-null   object\n",
      " 1   Luka            1129 non-null   object\n",
      " 2   KerugianBarang  1129 non-null   object\n",
      " 3   KerugianUang    1129 non-null   object\n",
      " 4   Pemerkosaan     1129 non-null   object\n",
      " 5   Keparahan       1129 non-null   object\n",
      "dtypes: object(6)\n",
      "memory usage: 61.7+ KB\n"
     ]
    }
   ],
   "source": [
    "dataset.info()"
   ]
  },
  {
   "cell_type": "code",
   "execution_count": 31,
   "metadata": {},
   "outputs": [
    {
     "name": "stderr",
     "output_type": "stream",
     "text": [
      "/var/folders/tl/qtfjbsjd2f3f54prw95dl_5m0000gn/T/ipykernel_83476/3724931876.py:3: SettingWithCopyWarning: \n",
      "A value is trying to be set on a copy of a slice from a DataFrame.\n",
      "Try using .loc[row_indexer,col_indexer] = value instead\n",
      "\n",
      "See the caveats in the documentation: https://pandas.pydata.org/pandas-docs/stable/user_guide/indexing.html#returning-a-view-versus-a-copy\n",
      "  dataset['Mati'] = LE.fit_transform(dataset['Mati'])\n",
      "/var/folders/tl/qtfjbsjd2f3f54prw95dl_5m0000gn/T/ipykernel_83476/3724931876.py:5: SettingWithCopyWarning: \n",
      "A value is trying to be set on a copy of a slice from a DataFrame.\n",
      "Try using .loc[row_indexer,col_indexer] = value instead\n",
      "\n",
      "See the caveats in the documentation: https://pandas.pydata.org/pandas-docs/stable/user_guide/indexing.html#returning-a-view-versus-a-copy\n",
      "  dataset['Luka'] = LE.fit_transform(dataset['Luka'])\n",
      "/var/folders/tl/qtfjbsjd2f3f54prw95dl_5m0000gn/T/ipykernel_83476/3724931876.py:7: SettingWithCopyWarning: \n",
      "A value is trying to be set on a copy of a slice from a DataFrame.\n",
      "Try using .loc[row_indexer,col_indexer] = value instead\n",
      "\n",
      "See the caveats in the documentation: https://pandas.pydata.org/pandas-docs/stable/user_guide/indexing.html#returning-a-view-versus-a-copy\n",
      "  dataset['KerugianBarang'] = LE.fit_transform(dataset['KerugianBarang'])\n",
      "/var/folders/tl/qtfjbsjd2f3f54prw95dl_5m0000gn/T/ipykernel_83476/3724931876.py:9: SettingWithCopyWarning: \n",
      "A value is trying to be set on a copy of a slice from a DataFrame.\n",
      "Try using .loc[row_indexer,col_indexer] = value instead\n",
      "\n",
      "See the caveats in the documentation: https://pandas.pydata.org/pandas-docs/stable/user_guide/indexing.html#returning-a-view-versus-a-copy\n",
      "  dataset['KerugianUang'] = LE.fit_transform(dataset['KerugianUang'])\n",
      "/var/folders/tl/qtfjbsjd2f3f54prw95dl_5m0000gn/T/ipykernel_83476/3724931876.py:11: SettingWithCopyWarning: \n",
      "A value is trying to be set on a copy of a slice from a DataFrame.\n",
      "Try using .loc[row_indexer,col_indexer] = value instead\n",
      "\n",
      "See the caveats in the documentation: https://pandas.pydata.org/pandas-docs/stable/user_guide/indexing.html#returning-a-view-versus-a-copy\n",
      "  dataset['Pemerkosaan'] = LE.fit_transform(dataset['Pemerkosaan'])\n"
     ]
    }
   ],
   "source": [
    "from sklearn.preprocessing import LabelEncoder\n",
    "LE = LabelEncoder()\n",
    "dataset['Mati'] = LE.fit_transform(dataset['Mati'])\n",
    "LE = LabelEncoder()\n",
    "dataset['Luka'] = LE.fit_transform(dataset['Luka'])\n",
    "LE = LabelEncoder()\n",
    "dataset['KerugianBarang'] = LE.fit_transform(dataset['KerugianBarang'])\n",
    "LE = LabelEncoder()\n",
    "dataset['KerugianUang'] = LE.fit_transform(dataset['KerugianUang'])\n",
    "LE = LabelEncoder()\n",
    "dataset['Pemerkosaan'] = LE.fit_transform(dataset['Pemerkosaan'])\n",
    "X = dataset.drop(['Keparahan'], axis = 1)\n",
    "y = dataset['Keparahan']\n",
    "from sklearn.model_selection import train_test_split\n",
    "X_train, X_test, y_train, y_test = train_test_split(X, y, test_size = 0.2, random_state = 0)"
   ]
  },
  {
   "cell_type": "code",
   "execution_count": 32,
   "metadata": {},
   "outputs": [],
   "source": [
    "from sklearn.linear_model import LogisticRegression\n",
    "from sklearn.metrics import confusion_matrix, classification_report"
   ]
  },
  {
   "cell_type": "code",
   "execution_count": 33,
   "metadata": {},
   "outputs": [],
   "source": [
    "logreg = LogisticRegression(max_iter=3000, solver='lbfgs')\n",
    "logreg = logreg.fit(X_train, y_train)\n",
    "y_pred = logreg.predict(X_test)"
   ]
  },
  {
   "cell_type": "code",
   "execution_count": 34,
   "metadata": {},
   "outputs": [
    {
     "name": "stdout",
     "output_type": "stream",
     "text": [
      "<class 'pandas.core.frame.DataFrame'>\n",
      "Int64Index: 903 entries, 340 to 729\n",
      "Data columns (total 5 columns):\n",
      " #   Column          Non-Null Count  Dtype\n",
      "---  ------          --------------  -----\n",
      " 0   Mati            903 non-null    int64\n",
      " 1   Luka            903 non-null    int64\n",
      " 2   KerugianBarang  903 non-null    int64\n",
      " 3   KerugianUang    903 non-null    int64\n",
      " 4   Pemerkosaan     903 non-null    int64\n",
      "dtypes: int64(5)\n",
      "memory usage: 42.3 KB\n",
      "<class 'pandas.core.frame.DataFrame'>\n",
      "Int64Index: 226 entries, 930 to 960\n",
      "Data columns (total 5 columns):\n",
      " #   Column          Non-Null Count  Dtype\n",
      "---  ------          --------------  -----\n",
      " 0   Mati            226 non-null    int64\n",
      " 1   Luka            226 non-null    int64\n",
      " 2   KerugianBarang  226 non-null    int64\n",
      " 3   KerugianUang    226 non-null    int64\n",
      " 4   Pemerkosaan     226 non-null    int64\n",
      "dtypes: int64(5)\n",
      "memory usage: 10.6 KB\n"
     ]
    }
   ],
   "source": [
    "X_train.info()\n",
    "X_test.info()"
   ]
  },
  {
   "cell_type": "code",
   "execution_count": 35,
   "metadata": {},
   "outputs": [
    {
     "name": "stdout",
     "output_type": "stream",
     "text": [
      "Train acccuracy:  0.875968992248062\n",
      "Test acccuracy:  0.8849557522123894\n"
     ]
    }
   ],
   "source": [
    "print(\"Train acccuracy: \",logreg.score(X_train,y_train))\n",
    "print(\"Test acccuracy: \",logreg.score(X_test,y_test))"
   ]
  },
  {
   "cell_type": "code",
   "execution_count": 36,
   "metadata": {},
   "outputs": [
    {
     "name": "stdout",
     "output_type": "stream",
     "text": [
      "[[ 62   3   1]\n",
      " [  8  10   5]\n",
      " [  6   3 128]]\n"
     ]
    }
   ],
   "source": [
    "cm = confusion_matrix(y_test, y_pred)\n",
    "print(cm)"
   ]
  },
  {
   "cell_type": "code",
   "execution_count": 37,
   "metadata": {},
   "outputs": [
    {
     "name": "stdout",
     "output_type": "stream",
     "text": [
      "              precision    recall  f1-score   support\n",
      "\n",
      "      Rendah       0.82      0.94      0.87        66\n",
      "      Sedang       0.62      0.43      0.51        23\n",
      "      Tinggi       0.96      0.93      0.94       137\n",
      "\n",
      "    accuracy                           0.88       226\n",
      "   macro avg       0.80      0.77      0.78       226\n",
      "weighted avg       0.88      0.88      0.88       226\n",
      "\n"
     ]
    }
   ],
   "source": [
    "cr = classification_report(y_test, y_pred)\n",
    "print(cr)"
   ]
  },
  {
   "cell_type": "code",
   "execution_count": 24,
   "metadata": {},
   "outputs": [],
   "source": [
    "from sklearn.feature_extraction.text import TfidfVectorizer\n"
   ]
  },
  {
   "cell_type": "code",
   "execution_count": 25,
   "metadata": {},
   "outputs": [
    {
     "data": {
      "text/plain": [
       "['logreg.pkl']"
      ]
     },
     "execution_count": 25,
     "metadata": {},
     "output_type": "execute_result"
    }
   ],
   "source": [
    "joblib.dump(logreg, \"logreg.pkl\")"
   ]
  },
  {
   "cell_type": "code",
   "execution_count": 13,
   "metadata": {},
   "outputs": [
    {
     "data": {
      "image/png": "[encoded data removed]",
      "text/plain": [
       "<Figure size 2736x1152 with 2 Axes>"
      ]
     },
     "metadata": {
      "needs_background": "light"
     },
     "output_type": "display_data"
    }
   ],
   "source": [
    "from matplotlib import pyplot as plt\n",
    "import seaborn as sns\n",
    "\n",
    "plt.figure(figsize = (38,16))\n",
    "sns.heatmap(dataset.corr(), annot = True)\n",
    "plt.savefig('heatmap.png')\n",
    "plt.show()"
   ]
  },
  {
   "cell_type": "code",
   "execution_count": 14,
   "metadata": {},
   "outputs": [
    {
     "data": {
      "image/png": "[encoded data removed]",
      "text/plain": [
       "<Figure size 936x504 with 2 Axes>"
      ]
     },
     "metadata": {
      "needs_background": "light"
     },
     "output_type": "display_data"
    }
   ],
   "source": [
    "cm=confusion_matrix(y_test,y_pred)\n",
    "cm_df = pd.DataFrame(cm,\n",
    "                     index = ['rendah','sedang','parah'], \n",
    "                     columns = ['rendah','sedang','parah'])\n",
    "plt.figure(figsize=(13,7))\n",
    "plt.title(\"Confusion Matrix\")\n",
    "sns.heatmap(cm_df, annot=True,fmt='d', cmap='Blues')\n",
    "plt.ylabel(\"Actual Values\")\n",
    "plt.xlabel(\"Predicted Values\")\n",
    "plt.savefig('confusion_matrix.png')"
   ]
  }
 ],
 "metadata": {
  "kernelspec": {
   "display_name": "venv",
   "language": "python",
   "name": "python3"
  },
  "language_info": {
   "codemirror_mode": {
    "name": "ipython",
    "version": 3
   },
   "file_extension": ".py",
   "mimetype": "text/x-python",
   "name": "python",
   "nbconvert_exporter": "python",
   "pygments_lexer": "ipython3",
   "version": "3.9.13 (tags/v3.9.13:6de2ca5, May 17 2022, 16:36:42) [MSC v.1929 64 bit (AMD64)]"
  },
  "orig_nbformat": 4,
  "vscode": {
   "interpreter": {
    "hash": "c7cb72992fa111b49088d973746c596c095576b97e2245f77591e410872a362f"
   }
  }
 },
 "nbformat": 4,
 "nbformat_minor": 2
}
