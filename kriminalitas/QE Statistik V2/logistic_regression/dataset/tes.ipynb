{
 "cells": [
  {
   "cell_type": "code",
   "execution_count": 1,
   "metadata": {},
   "outputs": [],
   "source": [
    "import pandas as pd\n",
    "dataset = pd.read_csv('/Users/adi/Desktop/TA_Adi_V2/QE Statistik V2/logistic_regression/dataset/dataset_keparahan.csv')"
   ]
  },
  {
   "cell_type": "code",
   "execution_count": 2,
   "metadata": {},
   "outputs": [
    {
     "name": "stdout",
     "output_type": "stream",
     "text": [
      "<class 'pandas.core.frame.DataFrame'>\n",
      "RangeIndex: 1127 entries, 0 to 1126\n",
      "Data columns (total 9 columns):\n",
      " #   Column          Non-Null Count  Dtype \n",
      "---  ------          --------------  ----- \n",
      " 0   No Document     1127 non-null   int64 \n",
      " 1   title           1127 non-null   object\n",
      " 2   Description     1127 non-null   object\n",
      " 3   Mati            1127 non-null   int64 \n",
      " 4   Luka            1127 non-null   int64 \n",
      " 5   KerugianBarang  1127 non-null   int64 \n",
      " 6   KerugianUang    1127 non-null   int64 \n",
      " 7   Pemerkosaan     1127 non-null   int64 \n",
      " 8   Keparahan       1127 non-null   int64 \n",
      "dtypes: int64(7), object(2)\n",
      "memory usage: 79.4+ KB\n"
     ]
    }
   ],
   "source": [
    "dataset.info()"
   ]
  }
 ],
 "metadata": {
  "kernelspec": {
   "display_name": "Python 3.9.7 ('base')",
   "language": "python",
   "name": "python3"
  },
  "language_info": {
   "codemirror_mode": {
    "name": "ipython",
    "version": 3
   },
   "file_extension": ".py",
   "mimetype": "text/x-python",
   "name": "python",
   "nbconvert_exporter": "python",
   "pygments_lexer": "ipython3",
   "version": "3.9.7"
  },
  "orig_nbformat": 4,
  "vscode": {
   "interpreter": {
    "hash": "14d135845b4420f182ac77ee6b5c0deec044b592a80e9353f0df39bb07f4e36b"
   }
  }
 },
 "nbformat": 4,
 "nbformat_minor": 2
}
