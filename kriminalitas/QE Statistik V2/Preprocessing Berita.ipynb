{
 "cells": [
  {
   "cell_type": "code",
   "execution_count": 1,
   "metadata": {},
   "outputs": [
    {
     "name": "stderr",
     "output_type": "stream",
     "text": [
      "[nltk_data] Downloading package stopwords to\n",
      "[nltk_data]     C:\\Users\\RayRoyy\\AppData\\Roaming\\nltk_data...\n",
      "[nltk_data]   Package stopwords is already up-to-date!\n"
     ]
    }
   ],
   "source": [
    "# Import library-library\n",
    "import os\n",
    "import glob\n",
    "import string\n",
    "\n",
    "# Data Preparation and Preprocessing\n",
    "import pandas as pd\n",
    "import re\n",
    "import nltk\n",
    "nltk.download('stopwords')\n",
    "from nltk.corpus import stopwords\n",
    "\n",
    "# Word Embedding\n",
    "import joblib\n",
    "from sklearn.feature_extraction.text import TfidfVectorizer\n",
    "import scipy.sparse\n",
    "\n",
    "from sklearn.metrics.pairwise import cosine_similarity\n",
    "\n",
    "# Input and Expansion Query\n",
    "from textblob import TextBlob\n",
    "from nltk.tokenize import wordpunct_tokenize\n",
    "#from googletrans import Translator\n",
    "\n",
    "#Split to train and test\n",
    "from sklearn.model_selection import train_test_split\n",
    "\n",
    "import mysql.connector\n",
    "from mysql.connector import errorcode"
   ]
  },
  {
   "cell_type": "code",
   "execution_count": 2,
   "metadata": {},
   "outputs": [],
   "source": [
    "excluded_words = [\"tempat\", \"waktu\", \"mencuri\", \"rampok\"]\n",
    "\n",
    "NLTK_StopWords = stopwords.words('indonesian')\n",
    "NLTK_StopWords.extend([\"detik\", \"detikjatim\", \"detikjateng\", \"detikjabar\", \"detiksulsel\", \"detiksumbar\", \"detikbali\", \"detikpapua\", \"detiksulteng\", \"detikmaluku\", \"detjatim\", \"detikcom\", \"allahumma\", \"aamiin\", \"aamiin\", \"allah\", \"bismillah\"])\n",
    "NLTK_StopWords.extend([\"yg\", \"dg\", \"rt\", \"dgn\", \"ny\", \"d\", 'klo', \n",
    "                       'kalo', 'amp', 'biar', 'bikin', 'bilang', \n",
    "                       'gak', 'ga', 'krn', 'nya', 'nih', 'sih', \n",
    "                       'si', 'tau', 'tdk', 'tuh', 'utk', 'ya', \n",
    "                       'jd', 'jgn', 'sdh', 'aja', 'n', 't', \n",
    "                       'nyg', 'hehe', 'pen', 'u', 'nan', 'loh', 'rt',\n",
    "                       '&amp', 'yah'])\n",
    "txt_stopword = pd.read_csv(\"stopwords.txt\", names= [\"stopwords\"], header = None)\n",
    "\n",
    "# convert stopword string to list & append additional stopword\n",
    "NLTK_StopWords.extend(txt_stopword[\"stopwords\"][0].split(' '))\n",
    "NLTK_StopWords = set(NLTK_StopWords)"
   ]
  },
  {
   "cell_type": "code",
   "execution_count": 3,
   "metadata": {},
   "outputs": [],
   "source": [
    "def preprocessing(berita):\n",
    "    # Preprocessing\n",
    "    s = berita.lower()\n",
    "    s = s.replace('\\\\t',\" \").replace('\\\\n',\" \").replace('\\\\u',\" \").replace('\\\\',\"\")\n",
    "    s = s.encode('ascii', 'replace').decode('ascii')\n",
    "    ' '.join(re.sub(\"([@#][A-Za-z0-9]+)|(\\w+:\\/\\/\\S+)\",\" \", s).split())\n",
    "    s.replace(\"http://\", \" \").replace(\"https://\", \" \")\n",
    "    s = re.sub('\\s+', ' ', s)\n",
    "    s = s.strip()\n",
    "    s = s.translate(str.maketrans(\"\",\"\", string.punctuation))\n",
    "    s = re.sub(r'[^a-zA-Z0-9\\s]', ' ', s)\n",
    "    s = re.sub(r'\\b\\w{1,1}\\b', '', s)\n",
    "    tokens = [token for token in s.split(\" \") if token != \"\"]\n",
    "\n",
    "    # Stopwords checking\n",
    "    T = [t for t in tokens if ((t in excluded_words) or (t not in NLTK_StopWords))]\n",
    "    return T"
   ]
  },
  {
   "cell_type": "code",
   "execution_count": 4,
   "metadata": {},
   "outputs": [],
   "source": [
    "# df =pd.read_csv(\"scrapped_news/scrapped_news.csv\")\n",
    "# df.info()\n",
    "# df.head()\n",
    "dataframe = []\n",
    "\n",
    "try:\n",
    "        cnx = mysql.connector.connect(user = 'root', password='', database = 'Petakabar')\n",
    "        cursor = cnx.cursor()\n",
    "\n",
    "        ambildata = (\"SELECT berita_title, berita_date, berita_desc, berita_source FROM berita where class_classification is not null and berita_topik_id = 5\")\n",
    "        cursor.execute(ambildata)\n",
    "        dataa = cursor.fetchall()\n",
    "        for row in dataa:\n",
    "            dataframe.append(row)\n",
    "        \n",
    "except mysql.connector.Error as err:\n",
    "        if err.errno == errorcode.ER_ACCESS_DENIED_ERROR:\n",
    "            print(\"Something is wrong with your user name or password\")\n",
    "        elif err.errno == errorcode.ER_BAD_DB_ERROR:\n",
    "            print(\"Database does not exist\")\n",
    "        else:\n",
    "            print(err)\n",
    "else:\n",
    "    cursor.close()\n",
    "    cnx.close()"
   ]
  },
  {
   "cell_type": "code",
   "execution_count": 6,
   "metadata": {},
   "outputs": [],
   "source": [
    "import pandas as pd\n",
    "writer = pd.DataFrame(dataframe, columns=[\n",
    "                    'Title','Date','Description', 'Source'], index=None)\n",
    "writer.to_csv('news.csv', index=False, sep=',')"
   ]
  },
  {
   "cell_type": "code",
   "execution_count": 7,
   "metadata": {},
   "outputs": [
    {
     "name": "stdout",
     "output_type": "stream",
     "text": [
      "<class 'pandas.core.frame.DataFrame'>\n",
      "RangeIndex: 2218 entries, 0 to 2217\n",
      "Data columns (total 4 columns):\n",
      " #   Column       Non-Null Count  Dtype \n",
      "---  ------       --------------  ----- \n",
      " 0   Title        2218 non-null   object\n",
      " 1   Date         2218 non-null   object\n",
      " 2   Description  2218 non-null   object\n",
      " 3   Source       2218 non-null   object\n",
      "dtypes: object(4)\n",
      "memory usage: 69.4+ KB\n"
     ]
    },
    {
     "data": {
      "text/html": [
       "<div>\n",
       "<style scoped>\n",
       "    .dataframe tbody tr th:only-of-type {\n",
       "        vertical-align: middle;\n",
       "    }\n",
       "\n",
       "    .dataframe tbody tr th {\n",
       "        vertical-align: top;\n",
       "    }\n",
       "\n",
       "    .dataframe thead th {\n",
       "        text-align: right;\n",
       "    }\n",
       "</style>\n",
       "<table border=\"1\" class=\"dataframe\">\n",
       "  <thead>\n",
       "    <tr style=\"text-align: right;\">\n",
       "      <th></th>\n",
       "      <th>Title</th>\n",
       "      <th>Date</th>\n",
       "      <th>Description</th>\n",
       "      <th>Source</th>\n",
       "    </tr>\n",
       "  </thead>\n",
       "  <tbody>\n",
       "    <tr>\n",
       "      <th>0</th>\n",
       "      <td>Wali Kota Blitar Ungkap Sumber Uang Rp 400 Jut...</td>\n",
       "      <td>Rabu, 14 Des 2022 13:20 WIB</td>\n",
       "      <td>Perampok menggondol uang Rp 400 juta dari ruma...</td>\n",
       "      <td>www.tribunnews.com</td>\n",
       "    </tr>\n",
       "    <tr>\n",
       "      <th>1</th>\n",
       "      <td>Saat Mobil Perampok Masuk ke Rumah Dinas Wali ...</td>\n",
       "      <td>Rabu, 14 Des 2022 12:47 WIB</td>\n",
       "      <td>Seorang pria membukakan pintu gerbang utama Ru...</td>\n",
       "      <td>www.tribunnews.com</td>\n",
       "    </tr>\n",
       "    <tr>\n",
       "      <th>2</th>\n",
       "      <td>UPDATE Perampokan di Rumah Wali Kota Blitar: P...</td>\n",
       "      <td>Kamis, 15 Des 2022 16:38 WIB</td>\n",
       "      <td>\\- Kamera CCTV merekam sebuah mobil berplat me...</td>\n",
       "      <td>www.tribunnews.com</td>\n",
       "    </tr>\n",
       "    <tr>\n",
       "      <th>3</th>\n",
       "      <td>Terungkap Asal Uang Rp 400 Juta yang Dirampok ...</td>\n",
       "      <td>Rabu, 14 Des 2022 14:41 WIB</td>\n",
       "      <td>Wali Kota Blitar, Jawa Timur, Santoso menjelas...</td>\n",
       "      <td>www.tribunnews.com</td>\n",
       "    </tr>\n",
       "    <tr>\n",
       "      <th>4</th>\n",
       "      <td>Wali Kota Blitar Terpaksa Tunjukkan Brankas, P...</td>\n",
       "      <td>Rabu, 14 Des 2022 08:22 WIB</td>\n",
       "      <td>Wali Kota Blitar, Santoso mengungkapkan detik-...</td>\n",
       "      <td>www.tribunnews.com</td>\n",
       "    </tr>\n",
       "  </tbody>\n",
       "</table>\n",
       "</div>"
      ],
      "text/plain": [
       "                                               Title  \\\n",
       "0  Wali Kota Blitar Ungkap Sumber Uang Rp 400 Jut...   \n",
       "1  Saat Mobil Perampok Masuk ke Rumah Dinas Wali ...   \n",
       "2  UPDATE Perampokan di Rumah Wali Kota Blitar: P...   \n",
       "3  Terungkap Asal Uang Rp 400 Juta yang Dirampok ...   \n",
       "4  Wali Kota Blitar Terpaksa Tunjukkan Brankas, P...   \n",
       "\n",
       "                           Date  \\\n",
       "0   Rabu, 14 Des 2022 13:20 WIB   \n",
       "1   Rabu, 14 Des 2022 12:47 WIB   \n",
       "2  Kamis, 15 Des 2022 16:38 WIB   \n",
       "3   Rabu, 14 Des 2022 14:41 WIB   \n",
       "4   Rabu, 14 Des 2022 08:22 WIB   \n",
       "\n",
       "                                         Description              Source  \n",
       "0  Perampok menggondol uang Rp 400 juta dari ruma...  www.tribunnews.com  \n",
       "1  Seorang pria membukakan pintu gerbang utama Ru...  www.tribunnews.com  \n",
       "2  \\- Kamera CCTV merekam sebuah mobil berplat me...  www.tribunnews.com  \n",
       "3  Wali Kota Blitar, Jawa Timur, Santoso menjelas...  www.tribunnews.com  \n",
       "4  Wali Kota Blitar, Santoso mengungkapkan detik-...  www.tribunnews.com  "
      ]
     },
     "execution_count": 7,
     "metadata": {},
     "output_type": "execute_result"
    }
   ],
   "source": [
    "df =pd.read_csv(\"news.csv\")\n",
    "df.info()\n",
    "df.head()"
   ]
  },
  {
   "cell_type": "code",
   "execution_count": 8,
   "metadata": {},
   "outputs": [],
   "source": [
    "column = ['Title', 'Date', 'Description', 'Source']\n",
    "df_total = pd.DataFrame()\n",
    "\n",
    "# df = pd.read_csv(\"scrapped_news/scrapped_news.csv\")\n",
    "df = pd.read_csv(\"news.csv\")\n",
    "df = df.dropna(subset=['Description'], axis=0)\n",
    "df.sort_values(\"Description\", inplace = True)\n",
    "df.drop_duplicates(subset =\"Description\", keep = False, inplace = True)\n",
    "\n",
    "df.head()\n",
    "df_train_unprocessed, df_test_unprocessed = train_test_split(df,test_size=0.1)"
   ]
  },
  {
   "cell_type": "code",
   "execution_count": 9,
   "metadata": {},
   "outputs": [],
   "source": [
    "for x in range(0, df.shape[0]):\n",
    "    text = preprocessing(df.iloc[x, -2])\n",
    "    df.iloc[x, -2] = (' '.join(text)) "
   ]
  },
  {
   "cell_type": "code",
   "execution_count": 10,
   "metadata": {},
   "outputs": [
    {
     "data": {
      "text/html": [
       "<div>\n",
       "<style scoped>\n",
       "    .dataframe tbody tr th:only-of-type {\n",
       "        vertical-align: middle;\n",
       "    }\n",
       "\n",
       "    .dataframe tbody tr th {\n",
       "        vertical-align: top;\n",
       "    }\n",
       "\n",
       "    .dataframe thead th {\n",
       "        text-align: right;\n",
       "    }\n",
       "</style>\n",
       "<table border=\"1\" class=\"dataframe\">\n",
       "  <thead>\n",
       "    <tr style=\"text-align: right;\">\n",
       "      <th></th>\n",
       "      <th>Title</th>\n",
       "      <th>Date</th>\n",
       "      <th>Description</th>\n",
       "      <th>Source</th>\n",
       "    </tr>\n",
       "  </thead>\n",
       "  <tbody>\n",
       "    <tr>\n",
       "      <th>251</th>\n",
       "      <td>Bharada E Sempat Cerita Momen Dinas Bareng Bri...</td>\n",
       "      <td>Rabu, 14 Des 2022 10:23 WIB</td>\n",
       "      <td>kekasih richard eliezer bharada angelin krista...</td>\n",
       "      <td>www.kompas.com</td>\n",
       "    </tr>\n",
       "    <tr>\n",
       "      <th>1905</th>\n",
       "      <td>Akhir Pelarian Pembobol Rumah Berakhir Saat Da...</td>\n",
       "      <td>Jumat, 02 Des 2022 07:37 WIB</td>\n",
       "      <td>polisi perjalanan komplotan spesialis pembobol...</td>\n",
       "      <td>www.detik.com</td>\n",
       "    </tr>\n",
       "    <tr>\n",
       "      <th>397</th>\n",
       "      <td>BERITA FOTO: JPU Hadirkan 5 Orang Saksi Ahli d...</td>\n",
       "      <td>Senin, 19 Des 2022 11:58 WIB</td>\n",
       "      <td>sidang pembunuhan berencana nofriansyah yosua ...</td>\n",
       "      <td>www.kompas.com</td>\n",
       "    </tr>\n",
       "    <tr>\n",
       "      <th>51</th>\n",
       "      <td>Pria Dirampok Usai Borong 300 iPhone 13</td>\n",
       "      <td>Kamis, 01 Des 2022 14:00 WIB</td>\n",
       "      <td>pria 27 memborong 300 iphone 13 dirampok new y...</td>\n",
       "      <td>www.kompas.com</td>\n",
       "    </tr>\n",
       "    <tr>\n",
       "      <th>1625</th>\n",
       "      <td>Tampang Pria Penganiaya Anak Kekasih hingga Te...</td>\n",
       "      <td>Selasa, 06 Des 2022 17:48 WIB</td>\n",
       "      <td>polisi menangkap 31 pelaku pembunuhan balita b...</td>\n",
       "      <td>www.detik.com</td>\n",
       "    </tr>\n",
       "  </tbody>\n",
       "</table>\n",
       "</div>"
      ],
      "text/plain": [
       "                                                  Title  \\\n",
       "251   Bharada E Sempat Cerita Momen Dinas Bareng Bri...   \n",
       "1905  Akhir Pelarian Pembobol Rumah Berakhir Saat Da...   \n",
       "397   BERITA FOTO: JPU Hadirkan 5 Orang Saksi Ahli d...   \n",
       "51              Pria Dirampok Usai Borong 300 iPhone 13   \n",
       "1625  Tampang Pria Penganiaya Anak Kekasih hingga Te...   \n",
       "\n",
       "                               Date  \\\n",
       "251     Rabu, 14 Des 2022 10:23 WIB   \n",
       "1905   Jumat, 02 Des 2022 07:37 WIB   \n",
       "397    Senin, 19 Des 2022 11:58 WIB   \n",
       "51     Kamis, 01 Des 2022 14:00 WIB   \n",
       "1625  Selasa, 06 Des 2022 17:48 WIB   \n",
       "\n",
       "                                            Description          Source  \n",
       "251   kekasih richard eliezer bharada angelin krista...  www.kompas.com  \n",
       "1905  polisi perjalanan komplotan spesialis pembobol...   www.detik.com  \n",
       "397   sidang pembunuhan berencana nofriansyah yosua ...  www.kompas.com  \n",
       "51    pria 27 memborong 300 iphone 13 dirampok new y...  www.kompas.com  \n",
       "1625  polisi menangkap 31 pelaku pembunuhan balita b...   www.detik.com  "
      ]
     },
     "execution_count": 10,
     "metadata": {},
     "output_type": "execute_result"
    }
   ],
   "source": [
    "df.head()\n",
    "df_train, df_test = train_test_split(df,test_size=0.1)\n",
    "df_train.head()"
   ]
  },
  {
   "cell_type": "code",
   "execution_count": 11,
   "metadata": {},
   "outputs": [
    {
     "data": {
      "text/plain": [
       "['corpus/model/desc_text_test_unprocessed.pkl']"
      ]
     },
     "execution_count": 11,
     "metadata": {},
     "output_type": "execute_result"
    }
   ],
   "source": [
    "desc_text_test_unprocessed = []\n",
    "\n",
    "for x in range(0, df_test_unprocessed.shape[0]):\n",
    "  desc_text_test_unprocessed.append(df_test_unprocessed.iloc[x, -2])\n",
    "\n",
    "joblib.dump(desc_text_test_unprocessed, \"corpus/model/desc_text_test_unprocessed.pkl\")"
   ]
  },
  {
   "cell_type": "code",
   "execution_count": 12,
   "metadata": {},
   "outputs": [],
   "source": [
    "desc_text_train = []\n",
    "desc_text_test = []\n",
    "\n",
    "for x in range(0, df_train.shape[0]):\n",
    "  desc_text_train.append(df_train.iloc[x, -2])\n",
    "\n",
    "for x in range(0, df_test.shape[0]):\n",
    "  desc_text_test.append(df_test.iloc[x, -2])"
   ]
  },
  {
   "cell_type": "code",
   "execution_count": 13,
   "metadata": {},
   "outputs": [
    {
     "name": "stdout",
     "output_type": "stream",
     "text": [
      "Panjang Dokumen Test :  222\n",
      "------------------------------------------------------------------------------------------\n",
      "Panjang Dokumen Train :  1996\n"
     ]
    }
   ],
   "source": [
    "# print(df_test.info())\n",
    "print(\"Panjang Dokumen Test : \", len(desc_text_test))\n",
    "\n",
    "print ('-'*90)\n",
    "\n",
    "# print(df_train.info())\n",
    "print(\"Panjang Dokumen Train : \", len(desc_text_train))"
   ]
  },
  {
   "cell_type": "code",
   "execution_count": 14,
   "metadata": {},
   "outputs": [],
   "source": [
    "# Simpan teks asli dokumen\n",
    "joblib.dump(desc_text_test, \"corpus/model/desc_text_test_new.pkl\")\n",
    "joblib.dump(desc_text_train, \"corpus/model/desc_text_train_new.pkl\")\n",
    "\n",
    "# Simpan dataframe hasil text processing sebelum TF-IDF Vectorizer\n",
    "df.to_csv('corpus/dataset/df_total_new.csv', index=False)\n",
    "df_test.to_csv('corpus/dataset/df_test.csv', index=False)\n",
    "df_train.to_csv('corpus/dataset/df_train.csv', index=False)\n"
   ]
  },
  {
   "cell_type": "code",
   "execution_count": 15,
   "metadata": {},
   "outputs": [
    {
     "name": "stdout",
     "output_type": "stream",
     "text": [
      "tfidf_test_matrix\n",
      "(222, 6379)\n",
      "tfidf_train_matrix\n",
      "(1996, 17537)\n"
     ]
    }
   ],
   "source": [
    "# Fit transform menggunakan TF-IDF Vectorizer\n",
    "tfidf_vectorizer = TfidfVectorizer()\n",
    "tfidf_test_matrix = tfidf_vectorizer.fit_transform(desc_text_test)\n",
    "tfidf_train_matrix = tfidf_vectorizer.fit_transform(desc_text_train)\n",
    "\n",
    "print('tfidf_test_matrix')\n",
    "print(tfidf_test_matrix.shape)\n",
    "print('tfidf_train_matrix')\n",
    "print(tfidf_train_matrix.shape)"
   ]
  },
  {
   "cell_type": "code",
   "execution_count": 16,
   "metadata": {},
   "outputs": [
    {
     "data": {
      "text/plain": [
       "['corpus/matrix/tfidf_train_new.pkl']"
      ]
     },
     "execution_count": 16,
     "metadata": {},
     "output_type": "execute_result"
    }
   ],
   "source": [
    "joblib.dump(tfidf_vectorizer, \"corpus/vectorizer/vectorizer_new.pkl\")\n",
    "joblib.dump(tfidf_test_matrix, \"corpus/matrix/tfidf_test.pkl\")\n",
    "joblib.dump(tfidf_train_matrix, \"corpus/matrix/tfidf_train_new.pkl\")"
   ]
  },
  {
   "cell_type": "markdown",
   "metadata": {},
   "source": [
    "### Pencarian "
   ]
  },
  {
   "cell_type": "code",
   "execution_count": 19,
   "metadata": {},
   "outputs": [
    {
     "name": "stdout",
     "output_type": "stream",
     "text": [
      "<class 'pandas.core.frame.DataFrame'>\n",
      "Int64Index: 2218 entries, 0 to 2217\n",
      "Data columns (total 4 columns):\n",
      " #   Column       Non-Null Count  Dtype \n",
      "---  ------       --------------  ----- \n",
      " 0   Title        2218 non-null   object\n",
      " 1   Date         2218 non-null   object\n",
      " 2   Description  2218 non-null   object\n",
      " 3   Source       2218 non-null   object\n",
      "dtypes: object(4)\n",
      "memory usage: 86.6+ KB\n",
      "None\n",
      "------------------------------------------------------------------------------------------\n",
      "222\n",
      "1996\n"
     ]
    }
   ],
   "source": [
    "df_total = pd.read_csv('corpus/dataset/df_total_new.csv')\n",
    "df_total = df_total[pd.notnull(df_total['Description'])]\n",
    "print(df_total.info())\n",
    "print ('-'*90)\n",
    "\n",
    "document_text_train= joblib.load('corpus/model/desc_text_train_new.pkl')\n",
    "document_text_test= joblib.load('corpus/model/desc_text_test_new.pkl')\n",
    "print(len(document_text_test))\n",
    "print(len(document_text_train))"
   ]
  },
  {
   "cell_type": "code",
   "execution_count": 20,
   "metadata": {},
   "outputs": [
    {
     "name": "stdout",
     "output_type": "stream",
     "text": [
      "['curi']\n",
      "\n",
      "======================\n",
      "\n",
      "Top 10 most similar documents in corpus:\n",
      "No ID Dokumen  :  538\n",
      "Tanggal        :  Selasa, 27 Des 2022 13:02 WIB\n",
      "Isi berita     :  gadis berusia 14 kabupaten kutai timur kutim kalimantan timur kaltim tewas diperkosa kakeknya pa 38 tubuh korban dibuang busana kolam ditemukan warga kasat reskrim polres kutim iptu made jata wiranegara pelaku pa menenggak miras jumat 2312 malam pelaku mengembalikan sepeda motor pinjam ketemulah korban dirayu ngembaliin motor iptu jata selasa 27122022 melintasi wilayah semaksemak pelaku pengaruh miras menepikan kendaraannya korban curiga memberontak pelaku menangkapnya berontak melawan dipaksa tindak pidana jata korban kuasa melawan tubuh kekar pelaku melawan berteriak teriakan korban pelaku panik kalap menghabisi nyawa korban tersangka panik dicekiklah meninggal jata jata jasad korban dibuang danau terhubung kolam jenazah korban ditemukan kolam warga sabtu 2412 danau nyambung kolam subuh mengapung mayat ditemukan warga telepon polsek dilaporkan jata korban serangan kekerasan seksual tercermin hasil visum hasil visum bekas luka kelamin korban robekan jata diberitakan jenazah korban ditemukan kolam kecamatan muara ancalong sabtu 2412 0800 wita ditemukan kondisi terapung mengenakan busana jasad korban ditemukan luka lebam leher diduga akibat penganiayaan jata dicekik korban ditinju hidung korban mengeluarkan darah pelaku pa berstatus kakek korban menikah nenek korban siri gambasvideo 20detik\n",
      "(Score: 0.0763) \n",
      "No ID Dokumen  :  688\n",
      "Tanggal        :  Jumat, 09 Des 2022 07:38 WIB\n",
      "Isi berita     :  mayor paspampres perwira komando wanita ad kowad kostrad memasuki babak heboh aduan pemerkosaan terungkap anggota tni diduga tindakan asusila suka suka informasi terbaru hasil pemeriksaan panglima tni jenderal andika perkasa dikutip jumat 9122022 hasil pemeriksaan pengembangan mengindikasikan paksaan suka suka jenderal andika andika laporan mayor paspampres perwira kowad kostrad pemerkosaan mengusut menemukan unsur dugaan sesuai laporan diduga korban tindak pidana pemerkosaan memeriksa mayor bfh dugaan pasal 285 kuhp pemerkosaan andika pemeriksaan belah dianggap korban melaporkan perkembangannya berbeda korban duaduanya pelaku tersangka sambung pemeriksaan pasal pemerkosaan gugur menerapkan pasal asusila pasal 285 pemerkosaan pasal 281 asusila andika fakta perwira kowad kostrad ditahan perwira kowad kostrad terancam pidana asusila baca berita selengkapnya gambasvideo 20detik\n",
      "(Score: 0.0752) \n",
      "No ID Dokumen  :  457\n",
      "Tanggal        :  Jumat, 23 Des 2022 15:25 WIB\n",
      "Isi berita     :  eks kasubbagriksa baggaketika rowabprof divisi propam polri baiquni wibowo dicecar penyalinan file rekaman cctv kompleks rumah dinas ferdy sambo peristiwa penembakan brigadir yosua hutabarat hakim heran baiquni menyalin rekaman cctv jam baiquni hadir saksi sidang perusakan cctv menyebabkan terhambatnya penyidikan pembunuhan brigadir yosua terdakwa akp irfan widyanto hakim baiquni menyalin rekaman cctv dvr chuck putranto peng copy hakim pengadilan negeri jakarta selatan jumat 23122022 mulia chuck tolongnya baiquni saudara copy dvr hakim merapat kantor ruang rapat spri propam coba hubungkan laptop coba hubungkan tampilan baiquni baiquni mengaku dvr diterimanya chuck dvr memunculkan gambar rekaman cctv kompleks polri duren saudara coba tigatiganya hakim baiquni timpal hakim baiquni baiquni mengaku menyalin rekaman cctv juli 1600 1800 wib hakim menyalin rekaman rentang waktu spesifik chuck copy jam hakim baiquni saudara pilih tentukan jamnya jam 1600 jam hakim terima dvr chuck paham dvr buka pemikiran tampilan cctv kompleks kompleks baiquni hakim memotong baiquni hakim baiquni menyalin rekaman cctv kompleks polri duren rentang waktu perintah bertahan mingguan saudara pilih tanggal juli rentang waktu jam 1600 1800 hakim izin buka tampilan cctv kompleks nalar copy terkait kejadian baiquni gambasvideo 20detik halaman\n",
      "(Score: 0.0681) \n",
      "No ID Dokumen  :  104\n",
      "Tanggal        :  Kamis, 15 Des 2022 11:00 WIB\n",
      "Isi berita     :  rumah dinas wali kota blitar jalan sodanco supriyadi kota blitar jawa timur jatim dirampok senin 12122022 wali kota blitar santoso beserta istrinya feti wulandari anggota satuan polisi pamong praja satpol bertugas menjaga rumah dinas disekap pelaku perampok rumah dinas wali kota blitar kepala bidang kabid humas kepolisian daerah polda jatim kombes dirmanto membeberkan ciriciri perampok ciriciri berdasarkan keterangan saksi dirmanto berdasarkan pemeriksaan saksi pelaku saksi pelaku memakai topi berwarna hijau berambut cepak memakai bahasa indonesia berkomunikasi saksi salah pelaku jaket warna krem lambang bendera indonesia senin saksi kelompok pelaku mengendarai mobil berwarna hitam berpelat merah tim gabungan satuan reserse kriminal satreskrim kepolisian resor polres blitar kota dibantu jatanras direktorat reserse kriminal ditreskrimum polda jatim menyelidiki selidiki direktur ditreskrimum polda jatim kombes totok suharyanto polisi tahapan profiling perampok rumah dinas wali kota blitar rumah dinas wali kota blitar polisi olah tempat kejadian perkara tkp titik diduga tempat kejahatan polisi pendeteksian sidik jari titik olah tkp olah tkp pengambilan sidik jari dna teknis hasil olah tkp decoder cctv dibawa pelaku koordinasi diskominfo menggantinya totok senin dikutip tribun jatim kronologi perampokan rumah dinas wali kota blitar suasana rumah dinas wali kota blitar jalan sodanco supriyadi nomor 18 kota blitar disatroni kawanan perampok selasa 13122022httpsassetkompascomcropsnrp3etdwen5dyzgskgc6gv8uhw0x00x0750x500dataphoto2022121363980304e67d2jpgkompascomasip hasani suasana rumah dinas wali kota blitar jalan sodanco supriyadi nomor 18 kota blitar disatroni kawanan perampok selasa 13122022 wali kota blitar santoso menerangkan perampokan rumah dinasnya 0300 wib istrinya shalat tahajud mendengar pintu kamarnya digedorgedor feti lantas membangunkan santoso berselang menyergap kamar salah nyergap istri disuruh tengkurap mulut dilakban selasa 13122022 feti diperlakukan suaminya disuruh tengkurap lantai didudukkan ranjang salah pelaku santoso lokasi brankas santoso memiliki brankas perampok percaya pelaku lantas menendang tubuh santoso sepatu boots tendangan bertubitubi tubuhnya santoso mengaku bertahan lokasi penyimpanan uang barang berharga santoso tas lemari menyimpan uang mengaku terpaksa perampok mengancam menelanjangi feti istrinya berpikir keselamatan istri halhal kasihan perampok mengambil tas berisi uang tunai rp 400 juta jam tangan telepon pintar perhiasan milik feti pelaku mempreteli perhiasan dipakai feti kalung gelang cincin menggondol harta pelaku letak kamar anakanak santoso santoso anaknya tinggal rumah dinas meninggalkan kamar santoso perampok lokasi ruang cctv mengambil decoder menyimpan rekaman kamera cctv terpasang rumah dinas perampokan rumah dinas wali kota blitar penjaga rumah berteriak tolong warga\n",
      "(Score: 0.0584) \n",
      "No ID Dokumen  :  148\n",
      "Tanggal        :  Senin, 26 Des 2022 21:23 WIB\n",
      "Isi berita     :  alias ir 49 sopir angkot bogor pembunuh wanita jasadnya ditemukan raya jakartabogor sukaraja kabupaten bogor ditangkap satreskrim polres bogor upaya ir menutupi jejaknya membuang pisau sungai mencuci angkot berlumur darah pelaku berusaha menghilangkan jejak buang pisau sungai sekitaran jakartabogor kasat reskrim polres bogor akp yohanes redhoi sigiro senin 26122022 tersangka ir mencuci angkot membersihkan lumuran darah aksinya pemilik angkot menghabisi nyawa korban membuang jasadnya pangkalan pasir pinggir jalan raya jakartabogor desa cimandala kecamatan sukaraja kabupaten bogor dicuci ir mengembalikan angkot pemiliknya tersangka sopir tembakan sopir cadangan yohanes aksinya yohanes tersangka ir kerap berpindahpindah kontrakan keberadaannya terlacak pekan senin 2612 ir berhasil ditangkap menarik angkot pindahpindah kontrakan identitasnya pindahpindah tempat tinggal pagi bersangkutan tangkap terang yohanes pembunuhan angkot 08 jurusan pasar anyarcitereup rabu 1411 malam ir sadis menusuk korban 17 melawan diperkosa angkot korban penumpang angkot pelaku sopir angkot ditumpangi korban situ angkot korban berdiam memainkan hpnya situlah pelaku niat memiliki hp harta benda korban niat memperkosa korban yohanes melancarkan aksinya korban perlawanan menggigit tangan pelaku situlah pelaku mengambil pisau disiapkan tasnya penusukan tubuh korban 17 tusukan gambasvideo 20detik\n",
      "(Score: 0.0562) \n",
      "No ID Dokumen  :  597\n",
      "Tanggal        :  Minggu, 25 Des 2022 08:55 WIB\n",
      "Isi berita     :  muda berinisial sb 24 sinjai sulawesi selatan sulsel dibacok pria inisial tg tewas pelaku membunuh sb lantaran tersinggung suami korban gebergeber motor insiden pembunuhan dusun coddong desa bonto katute kecamatan sinjai borong jumat 2312 0900 wita sb suaminya inisial 40 mengendarai motor boncengan anaknya kapolsek sinjai borong iptu sasmito sabtu 24122022 sasmito ketiganya pulang menjenguk keluarganya kecamatan sinjai barat perjalanan pulang berpapasan pelaku menurutnya mengendarai motor sadar tg muncul sampingnya tibatiba menggebergeber motornya tindakan menyinggung tg pelaku mengeluarkan senjata tajam parang membacok sb dibonceng suaminya pelaku muncul diparangi istrinya sasmito sasmito lari membawa anaknya perlawanan pelaku lantas mengejarnya pelariannya berteriak tolong warga bertemu warga pelaku lantas kabur kampung suami korban istri ditebas warga istrinya meninggal tempat pelaku lari bebernya dilaporkan warga polisi menerima laporan polisi pengejaran warga menelpon melintas rumahnya bawa parang pelaku awasi lari ambil tindakan sasmito polisi koordinasi polsek sinjai 1230 wita pelaku diamankan berselang 35 jam pelaku diamankan diamankan dibawa mapolres sinjai imbuhnya pelaku residivis pembunuhan kapolsek sinjai borong iptu sasmito pelaku dikenal sosok ditakuti warga kampungnya pelaku menyombongkan pelaku jago takut sasmito kasat reskrim polres sinjai akp syahruddin pelaku residivis pembunuhan tg bebas penjara mantan napi pembunuhan pelaku syahruddin syahruddin membenarkan insiden penganiayaan akibat pelaku tersinggung korban tewas tempat luka bacok tubuhnya ketersinggungan pelaku korban dibonceng motor suaminya pelaku menganggap digasgaskan gebergeber motor korban memiliki luka tebasan punggung luka leher luka tangan kanan korban meninggal dunia tempat pungkasnya gambasvideo 20detik\n",
      "(Score: 0.0449) \n",
      "No ID Dokumen  :  398\n",
      "Tanggal        :  Rabu, 30 Nov 2022 17:45 WIB\n",
      "Isi berita     :  cerita tragis korban pembunuhan desa eretan kulon kecamatan kandanghaur kabupaten indramayu terungkap oktober 2022 malam korban mencari ular rumah pelaku membacok mengubur mayatnya hadapan polisi murtado 27 mengaku bertekad membunuh ayah kandungnya berdalih bantuan korban mencari ular rumahnya memakai alat disiapkan pelaku berpurapura menemani mencari ular korban lengah pelaku memukul membacok leher korban sebilah golok malam pancing purapuranya tolong ular kobra rumah murtado rabu 30112022 ayahnya menyarankan korban memukul ular bambu murtado mengaku takut pertolongan ayahnya ayah mencari ular murtado menghabisinya dipukul meninggal pakai golok lukman kapolres indramayu akbp lukman syarif pelaku menganiaya korban benda tumpul golok korban dikuburkan pelaku pelaku menaruh tanaman kuburan menghilangkan jejak korban luka pukulan benda keras golok cek ulang pelaku hasil pengecekan forensik mayatnya bawa rumah sakit bhayangkara mayatnya rusak tandatanda penganiayaan lukman\n",
      "(Score: 0.0000) \n",
      "No ID Dokumen  :  399\n",
      "Tanggal        :  Minggu, 11 Des 2022 04:30 WIB\n",
      "Isi berita     :  chad mason 36 aksi nalar memperkosa anjing milik temannya lantas merusak hiasan gereja permukiman clearwater amerika serikat dikutip kejadian chad mengajak anjing milik temannya jalanjalan taman merasukinya tibatiba chad memperkosa anjing dibawanya aksi chad pengunjung taman anakanak sontak dewasa taman menghampiri chad menghentikan aksinya chad lari kabur arah northwood presbyterian church gereja chad merusak hiasan natal dipasang memecahkan pot tanaman hiasan gereja dikonfrontasi warga lari kekacauan otoritas dikutip fox news jumat 9122022 lari gereja mason merusak kotak pos milik warga mencoba mencuri mobil salah warga melarikan warga melaporkan chad polisi saluran 911 polisi terdekat pengejaran chad berhasil diringkus dibawa tahanan mempertanggungjawabkan perbuatannya terungkap chad mabuk terpengaruh narkoba didalami polisi chad terancam hukuman penjara perusakan properti tindakan asusila pemerkosaan anjing temannya chad diadili desember\n",
      "(Score: 0.0000) \n",
      "No ID Dokumen  :  400\n",
      "Tanggal        :  Rabu, 07 Des 2022 11:59 WIB\n",
      "Isi berita     :  christian rudolf tobing 36 membunuh temannya yunia rizabani icha apartemen pramuka jakarta pusat membunuh icha memindahkan jasadnya kamar mobil troli berwarna merah proses diperagakan ulang rekonstruksi digelar halaman parkir polda metro jaya polisi menghadirkan troli merah berisikan tiruan jasad icha terbungkus plastik hitam pantauan lokasi selasa 7122022 jasad tas berwarna biru tas laptop rudolf tobing memindahkan tas pintu penumpang diikuti tas laptop setelahnya membuka bagasi mobil xenia berwarna silver troli plastik hitam membungkus jasad icha rudolf perlahan mengangkat troli merah rodanya seolaholah menuangkan troli berisi jasad icha bagasi mobil pemindahan rudolf mobil mengendarai mobil membuang jasad icha bekasi rudolf mengeksekusi icha senin 1710 salah kamar apartemen daerah cempaka putih jakarta pusat polisi menyebut icha tewas lantaran ditampar rudolf berkalikali dicekik icha tewas rudolf memasukkan jenazah icha troli kantong plastik hitam menutupi plastik bantal tas menutup kecurigaan motif dendam kesumat penangkapan rudolf mengungkap tabir pembunuhan icha motif mantan pendeta muda membunuh temannya terungkap hasil pemeriksaan mengungkap dendam kesumat disimpan rudolf icha motif dendam mendorong tersangka tega membunuh temannya hasil pemeriksaan tersangka mengaku sakit hati tersangka menyimpan dendam terkait circle pertemanan dirkrimum polda metro jaya kombes hengki haryadi wartawan mapolda metro jaya jumat 2110 gambasvideo 20detik\n",
      "(Score: 0.0000) \n",
      "No ID Dokumen  :  401\n",
      "Tanggal        :  Rabu, 07 Des 2022 16:56 WIB\n",
      "Isi berita     :  christian rudolf tobing 36 ngeprank yunia rizabani alias icha membunuhnya apartemen pramuka jakarta pusat rudolf tobing mengajak icha apartemen seolaholah podcast kalung energi rekonstruksi digelar lantai 18 tower pino apartemen pramuka jakarta pusat rabu 7122022 rudolf tobing memperagakan adegan pembunuhan salah satunya mengikat icha dalih purapura kekuatan kalung energi tersangka berbincang video promosi kalung energi video icha diikat tali penyidik ditreskrimum polda metro jaya membacakan adegan rekonstruksi lokasi rabu 712 rekonstruksi terungkap rudolf tertawa hadapan icha menceritakan skenario isi podcast icha rudolf seolahseolah icha melepaskan ikatan berkat kalung energi upayanya membunuh icha rudolf tertawa icha melepas tali berkat kalung energi gunting diselipkan buka tali penyidik mencontohkan skenario rudolf tangan icha diikat rudolf icha kamar latihan icha disuruh duduk kasur diikat tersangka mengikat tangan icha tali ties baca selengkapnya halaman halaman\n",
      "(Score: 0.0000) \n"
     ]
    },
    {
     "name": "stderr",
     "output_type": "stream",
     "text": [
      "c:\\Python\\lib\\site-packages\\sklearn\\base.py:329: UserWarning: Trying to unpickle estimator TfidfTransformer from version 0.24.2 when using version 1.1.3. This might lead to breaking code or invalid results. Use at your own risk. For more info please refer to:\n",
      "https://scikit-learn.org/stable/model_persistence.html#security-maintainability-limitations\n",
      "  warnings.warn(\n",
      "c:\\Python\\lib\\site-packages\\sklearn\\base.py:329: UserWarning: Trying to unpickle estimator TfidfVectorizer from version 0.24.2 when using version 1.1.3. This might lead to breaking code or invalid results. Use at your own risk. For more info please refer to:\n",
      "https://scikit-learn.org/stable/model_persistence.html#security-maintainability-limitations\n",
      "  warnings.warn(\n"
     ]
    }
   ],
   "source": [
    "kueri='curi'\n",
    "kueri=preprocessing(kueri)\n",
    "kueri= [\" \".join (kueri)]\n",
    "print (kueri)\n",
    "\n",
    "tfidf_matrix =joblib.load( \"corpus/matrix/tfidf_train.pkl\" )\n",
    "tfidf_vectorizer = joblib.load( \"corpus/vectorizer/vectorizer.pkl\" ) \n",
    "query_vec= tfidf_vectorizer.transform(kueri)\n",
    "results=cosine_similarity(tfidf_matrix, query_vec).reshape((-1))\n",
    "#print (results)\n",
    "print(\"\\n======================\\n\")\n",
    "print(\"Top 10 most similar documents in corpus:\")\n",
    "\n",
    "j = 1\n",
    "\n",
    "for i in results.argsort()[-10:][::-1]:\n",
    "    print(\"No ID Dokumen  : \", i)\n",
    "    print(\"Tanggal        : \", df_total.iloc[i,1])\n",
    "    print(\"Isi berita     : \", df_total.iloc[i,2])\n",
    "    print(\"(Score: %.4f) \" % results[i])"
   ]
  }
 ],
 "metadata": {
  "kernelspec": {
   "display_name": "Python 3",
   "language": "python",
   "name": "python3"
  },
  "language_info": {
   "codemirror_mode": {
    "name": "ipython",
    "version": 3
   },
   "file_extension": ".py",
   "mimetype": "text/x-python",
   "name": "python",
   "nbconvert_exporter": "python",
   "pygments_lexer": "ipython3",
   "version": "3.9.13 (tags/v3.9.13:6de2ca5, May 17 2022, 16:36:42) [MSC v.1929 64 bit (AMD64)]"
  },
  "vscode": {
   "interpreter": {
    "hash": "52634da84371cba311ea128a5ea7cdc41ff074b781779e754b270ff9f8153cee"
   }
  }
 },
 "nbformat": 4,
 "nbformat_minor": 2
}
