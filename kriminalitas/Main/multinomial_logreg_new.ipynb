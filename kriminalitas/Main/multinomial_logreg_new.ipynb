{
 "cells": [
  {
   "cell_type": "code",
   "execution_count": 1,
   "metadata": {},
   "outputs": [
    {
     "name": "stderr",
     "output_type": "stream",
     "text": [
      "C:\\Users\\RayRoyy\\AppData\\Local\\Temp\\ipykernel_15048\\3572185158.py:4: FutureWarning: The default value of numeric_only in DataFrame.mean is deprecated. In a future version, it will default to False. In addition, specifying 'numeric_only=None' is deprecated. Select only valid columns or specify the value of numeric_only to silence this warning.\n",
      "  dataset.fillna(dataset.mean(), inplace = True)\n"
     ]
    }
   ],
   "source": [
    "import pandas as pd\n",
    "import joblib\n",
    "dataset = pd.read_csv('result/manual.csv')\n",
    "dataset.fillna(dataset.mean(), inplace = True)"
   ]
  },
  {
   "cell_type": "code",
   "execution_count": 2,
   "metadata": {},
   "outputs": [
    {
     "data": {
      "text/html": [
       "<div>\n",
       "<style scoped>\n",
       "    .dataframe tbody tr th:only-of-type {\n",
       "        vertical-align: middle;\n",
       "    }\n",
       "\n",
       "    .dataframe tbody tr th {\n",
       "        vertical-align: top;\n",
       "    }\n",
       "\n",
       "    .dataframe thead th {\n",
       "        text-align: right;\n",
       "    }\n",
       "</style>\n",
       "<table border=\"1\" class=\"dataframe\">\n",
       "  <thead>\n",
       "    <tr style=\"text-align: right;\">\n",
       "      <th></th>\n",
       "      <th>Mati</th>\n",
       "      <th>Luka</th>\n",
       "      <th>KerugianBarang</th>\n",
       "      <th>KerugianUang</th>\n",
       "      <th>Pemerkosaan</th>\n",
       "      <th>Keparahan</th>\n",
       "    </tr>\n",
       "  </thead>\n",
       "  <tbody>\n",
       "    <tr>\n",
       "      <th>0</th>\n",
       "      <td>0.0</td>\n",
       "      <td>0</td>\n",
       "      <td>1.0</td>\n",
       "      <td>4.000000e+08</td>\n",
       "      <td>0</td>\n",
       "      <td>parah</td>\n",
       "    </tr>\n",
       "    <tr>\n",
       "      <th>1</th>\n",
       "      <td>0.0</td>\n",
       "      <td>0</td>\n",
       "      <td>1.0</td>\n",
       "      <td>0.000000e+00</td>\n",
       "      <td>0</td>\n",
       "      <td>rendah</td>\n",
       "    </tr>\n",
       "    <tr>\n",
       "      <th>2</th>\n",
       "      <td>0.0</td>\n",
       "      <td>1</td>\n",
       "      <td>1.0</td>\n",
       "      <td>4.000000e+08</td>\n",
       "      <td>0</td>\n",
       "      <td>parah</td>\n",
       "    </tr>\n",
       "    <tr>\n",
       "      <th>3</th>\n",
       "      <td>0.0</td>\n",
       "      <td>1</td>\n",
       "      <td>400000000.0</td>\n",
       "      <td>4.000000e+08</td>\n",
       "      <td>0</td>\n",
       "      <td>parah</td>\n",
       "    </tr>\n",
       "    <tr>\n",
       "      <th>4</th>\n",
       "      <td>0.0</td>\n",
       "      <td>1</td>\n",
       "      <td>1.0</td>\n",
       "      <td>1.000000e+00</td>\n",
       "      <td>0</td>\n",
       "      <td>parah</td>\n",
       "    </tr>\n",
       "    <tr>\n",
       "      <th>...</th>\n",
       "      <td>...</td>\n",
       "      <td>...</td>\n",
       "      <td>...</td>\n",
       "      <td>...</td>\n",
       "      <td>...</td>\n",
       "      <td>...</td>\n",
       "    </tr>\n",
       "    <tr>\n",
       "      <th>2213</th>\n",
       "      <td>8.0</td>\n",
       "      <td>1</td>\n",
       "      <td>0.0</td>\n",
       "      <td>1.000000e+09</td>\n",
       "      <td>0</td>\n",
       "      <td>parah</td>\n",
       "    </tr>\n",
       "    <tr>\n",
       "      <th>2214</th>\n",
       "      <td>1.0</td>\n",
       "      <td>0</td>\n",
       "      <td>0.0</td>\n",
       "      <td>0.000000e+00</td>\n",
       "      <td>0</td>\n",
       "      <td>parah</td>\n",
       "    </tr>\n",
       "    <tr>\n",
       "      <th>2215</th>\n",
       "      <td>1.0</td>\n",
       "      <td>0</td>\n",
       "      <td>0.0</td>\n",
       "      <td>0.000000e+00</td>\n",
       "      <td>0</td>\n",
       "      <td>parah</td>\n",
       "    </tr>\n",
       "    <tr>\n",
       "      <th>2216</th>\n",
       "      <td>1.0</td>\n",
       "      <td>0</td>\n",
       "      <td>0.0</td>\n",
       "      <td>0.000000e+00</td>\n",
       "      <td>0</td>\n",
       "      <td>parah</td>\n",
       "    </tr>\n",
       "    <tr>\n",
       "      <th>2217</th>\n",
       "      <td>0.0</td>\n",
       "      <td>4</td>\n",
       "      <td>0.0</td>\n",
       "      <td>4.000000e+00</td>\n",
       "      <td>0</td>\n",
       "      <td>parah</td>\n",
       "    </tr>\n",
       "  </tbody>\n",
       "</table>\n",
       "<p>2218 rows × 6 columns</p>\n",
       "</div>"
      ],
      "text/plain": [
       "      Mati  Luka  KerugianBarang  KerugianUang  Pemerkosaan Keparahan\n",
       "0      0.0     0             1.0  4.000000e+08            0     parah\n",
       "1      0.0     0             1.0  0.000000e+00            0    rendah\n",
       "2      0.0     1             1.0  4.000000e+08            0     parah\n",
       "3      0.0     1     400000000.0  4.000000e+08            0     parah\n",
       "4      0.0     1             1.0  1.000000e+00            0     parah\n",
       "...    ...   ...             ...           ...          ...       ...\n",
       "2213   8.0     1             0.0  1.000000e+09            0     parah\n",
       "2214   1.0     0             0.0  0.000000e+00            0     parah\n",
       "2215   1.0     0             0.0  0.000000e+00            0     parah\n",
       "2216   1.0     0             0.0  0.000000e+00            0     parah\n",
       "2217   0.0     4             0.0  4.000000e+00            0     parah\n",
       "\n",
       "[2218 rows x 6 columns]"
      ]
     },
     "execution_count": 2,
     "metadata": {},
     "output_type": "execute_result"
    }
   ],
   "source": [
    "dataset"
   ]
  },
  {
   "cell_type": "code",
   "execution_count": 3,
   "metadata": {},
   "outputs": [],
   "source": [
    "dataset=dataset.dropna(axis=0)"
   ]
  },
  {
   "cell_type": "code",
   "execution_count": 4,
   "metadata": {},
   "outputs": [
    {
     "name": "stdout",
     "output_type": "stream",
     "text": [
      "<class 'pandas.core.frame.DataFrame'>\n",
      "RangeIndex: 2218 entries, 0 to 2217\n",
      "Data columns (total 6 columns):\n",
      " #   Column          Non-Null Count  Dtype  \n",
      "---  ------          --------------  -----  \n",
      " 0   Mati            2218 non-null   float64\n",
      " 1   Luka            2218 non-null   int64  \n",
      " 2   KerugianBarang  2218 non-null   float64\n",
      " 3   KerugianUang    2218 non-null   float64\n",
      " 4   Pemerkosaan     2218 non-null   int64  \n",
      " 5   Keparahan       2218 non-null   object \n",
      "dtypes: float64(3), int64(2), object(1)\n",
      "memory usage: 104.1+ KB\n"
     ]
    }
   ],
   "source": [
    "dataset.info()"
   ]
  },
  {
   "cell_type": "code",
   "execution_count": 5,
   "metadata": {},
   "outputs": [],
   "source": [
    "from sklearn.preprocessing import LabelEncoder\n",
    "LE = LabelEncoder()\n",
    "dataset['Mati'] = LE.fit_transform(dataset['Mati'])\n",
    "LE = LabelEncoder()\n",
    "dataset['Luka'] = LE.fit_transform(dataset['Luka'])\n",
    "LE = LabelEncoder()\n",
    "dataset['KerugianBarang'] = LE.fit_transform(dataset['KerugianBarang'])\n",
    "LE = LabelEncoder()\n",
    "dataset['KerugianUang'] = LE.fit_transform(dataset['KerugianUang'])\n",
    "LE = LabelEncoder()\n",
    "dataset['Pemerkosaan'] = LE.fit_transform(dataset['Pemerkosaan'])\n",
    "X = dataset.drop(['Keparahan'], axis = 1)\n",
    "y = dataset['Keparahan']\n",
    "from sklearn.model_selection import train_test_split\n",
    "X_train, X_test, y_train, y_test = train_test_split(X, y, test_size = 0.2, random_state = 0)"
   ]
  },
  {
   "cell_type": "code",
   "execution_count": 6,
   "metadata": {},
   "outputs": [],
   "source": [
    "from sklearn.linear_model import LogisticRegression\n",
    "from sklearn.metrics import confusion_matrix, classification_report"
   ]
  },
  {
   "cell_type": "code",
   "execution_count": 7,
   "metadata": {},
   "outputs": [],
   "source": [
    "logreg = LogisticRegression(max_iter=3000, solver='lbfgs')\n",
    "logreg = logreg.fit(X_train, y_train)\n",
    "y_pred = logreg.predict(X_test)"
   ]
  },
  {
   "cell_type": "code",
   "execution_count": 8,
   "metadata": {},
   "outputs": [
    {
     "name": "stdout",
     "output_type": "stream",
     "text": [
      "<class 'pandas.core.frame.DataFrame'>\n",
      "Int64Index: 1774 entries, 1945 to 1653\n",
      "Data columns (total 5 columns):\n",
      " #   Column          Non-Null Count  Dtype\n",
      "---  ------          --------------  -----\n",
      " 0   Mati            1774 non-null   int64\n",
      " 1   Luka            1774 non-null   int64\n",
      " 2   KerugianBarang  1774 non-null   int64\n",
      " 3   KerugianUang    1774 non-null   int64\n",
      " 4   Pemerkosaan     1774 non-null   int64\n",
      "dtypes: int64(5)\n",
      "memory usage: 83.2 KB\n",
      "<class 'pandas.core.frame.DataFrame'>\n",
      "Int64Index: 444 entries, 1444 to 2111\n",
      "Data columns (total 5 columns):\n",
      " #   Column          Non-Null Count  Dtype\n",
      "---  ------          --------------  -----\n",
      " 0   Mati            444 non-null    int64\n",
      " 1   Luka            444 non-null    int64\n",
      " 2   KerugianBarang  444 non-null    int64\n",
      " 3   KerugianUang    444 non-null    int64\n",
      " 4   Pemerkosaan     444 non-null    int64\n",
      "dtypes: int64(5)\n",
      "memory usage: 20.8 KB\n"
     ]
    }
   ],
   "source": [
    "X_train.info()\n",
    "X_test.info()"
   ]
  },
  {
   "cell_type": "code",
   "execution_count": 9,
   "metadata": {},
   "outputs": [
    {
     "name": "stdout",
     "output_type": "stream",
     "text": [
      "Train acccuracy:  0.9470124013528749\n",
      "Test acccuracy:  0.9617117117117117\n"
     ]
    }
   ],
   "source": [
    "print(\"Train acccuracy: \",logreg.score(X_train,y_train))\n",
    "print(\"Test acccuracy: \",logreg.score(X_test,y_test))"
   ]
  },
  {
   "cell_type": "code",
   "execution_count": 10,
   "metadata": {},
   "outputs": [
    {
     "name": "stdout",
     "output_type": "stream",
     "text": [
      "[[360   0   1]\n",
      " [  0  60   0]\n",
      " [  2  14   7]]\n"
     ]
    }
   ],
   "source": [
    "cm = confusion_matrix(y_test, y_pred)\n",
    "print(cm)"
   ]
  },
  {
   "cell_type": "code",
   "execution_count": 11,
   "metadata": {},
   "outputs": [
    {
     "name": "stdout",
     "output_type": "stream",
     "text": [
      "              precision    recall  f1-score   support\n",
      "\n",
      "       parah       0.99      1.00      1.00       361\n",
      "      rendah       0.81      1.00      0.90        60\n",
      "      sedang       0.88      0.30      0.45        23\n",
      "\n",
      "    accuracy                           0.96       444\n",
      "   macro avg       0.89      0.77      0.78       444\n",
      "weighted avg       0.96      0.96      0.95       444\n",
      "\n"
     ]
    }
   ],
   "source": [
    "cr = classification_report(y_test, y_pred)\n",
    "print(cr)"
   ]
  }
 ],
 "metadata": {
  "kernelspec": {
   "display_name": "Python 3",
   "language": "python",
   "name": "python3"
  },
  "language_info": {
   "codemirror_mode": {
    "name": "ipython",
    "version": 3
   },
   "file_extension": ".py",
   "mimetype": "text/x-python",
   "name": "python",
   "nbconvert_exporter": "python",
   "pygments_lexer": "ipython3",
   "version": "3.9.13"
  },
  "orig_nbformat": 4,
  "vscode": {
   "interpreter": {
    "hash": "52634da84371cba311ea128a5ea7cdc41ff074b781779e754b270ff9f8153cee"
   }
  }
 },
 "nbformat": 4,
 "nbformat_minor": 2
}
