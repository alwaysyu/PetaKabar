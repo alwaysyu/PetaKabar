{
 "cells": [
  {
   "cell_type": "code",
   "execution_count": 1,
   "metadata": {},
   "outputs": [],
   "source": [
    "import pandas as pd\n",
    "\n",
    "bencana_what = pd.read_excel(\"D://Petakabar/what/bencana/df_result_lda_evaluated.xlsx\")\n",
    "ekonomi_what = pd.read_excel(\"D://Petakabar/what/ekonomi/df_result_lda_evaluated.xlsx\")\n",
    "kecelakaan_what = pd.read_excel(\"D://Petakabar/what/kecelakaan/df_result_lda_evaluated.xlsx\")\n",
    "kesehatan_what = pd.read_excel(\"D://Petakabar/what/kesehatan/df_result_lda_evaluated.xlsx\")\n",
    "kriminalitas_what = pd.read_excel(\"D://Petakabar/what/kriminalitas/df_result_lda_evaluated.xlsx\")\n",
    "olahraga_what = pd.read_excel(\"D://Petakabar/what/olahraga/df_result_lda_evaluated.xlsx\")\n",
    "\n",
    "whats = [bencana_what, ekonomi_what, kecelakaan_what, kesehatan_what, kriminalitas_what, olahraga_what]\n",
    "\n",
    "bencana_keyword = (\"bencana\", \"gempa\", \"gempa bumi\", \"tsunami\", \"meletus\", \"getaran\", \"vulkanik\", \"meledak\", \"ledakan\", \"kebakaran\", \"terbakar\", \"banjir\", \"abrasi\", \"amblas\", \"kekeringan\", \"puting\", \"beliung\", \"angin\", \"anjlok\", \"pergerakan\", \"tumbang\", \"kencang\", \"angin kencang\", \"petir\", \"lebat\", \"hujan\", \"longsor\", \"genangan\", \"meteor\", \"meluap\")\n",
    "ekonomi_keyword = (\"dagang\", \"berita\", \"neraca perdagangan\", \"ekonomi\", \"Indonesia resmi\", \"miliar\", \"kuartal iii\", \"pertumbuhan ekonomi\", \"neraca perdagangan\", \"neraca dagang\", \"perdagangan indonesia\", \"neraca\", \"dagang tekor\", \"krisis ekonomi\", \"resmi resesi\", \"impor\", \"resesi\", \"kepala bps\", \"persen\", \"ekonomi\", \"perekonomian\", \"keuangan\", \"sosio\", \"makro\", \"bisnis\", \"moneter\", \"makroekonomi\", \"perekonomiannya\", \"kesejahteraan\", \"pertumbuhan\", \"inflasi\", \"industrialisasi\", \"produktivitas\", \"infrastruktur\", \"pasar\", \"produk\", \"pembangunan\", \"usaha\", \"saham\", \"ukm\", \"ekspor\", \"dieskpor\", \"diimpor\", \"mengekspor\", \"mengimpor\", \"pertumbuhan\")\n",
    "kecelakaan_keyword = (\"kecelakaan\", \"tertabrak\", \"tabrakan\", \"menabrak\", \"ditabrak\", \"tenggelam\", \"pesawat\")\n",
    "kesehatan_keyword = (\"simtoma\", \"penyakit\", \"kesehatan\", \"covid\", \"korban\", \"pasien\", \"terjangkit\", \"tuberkulosis\", \"dbd\", \"hiv\", \"diabetes\", \"hipertensi\", \"ginjal\", \"jantung\", \"melitus\", \"infeksi\", \"terinfeksi\", \"bakteri\", \"virus\", \"vaksin\", \"polio\", \"imunisasi\", \"meningitis\", \"aids\", \"diare\", \"pneumonia\", \"radang\", \"pandemi\", \"corona\", \"malaria\", \"muntah\", \"kejang\", \"batuk\", \"hipertensi\", \"obesitas\", \"gizi\", \"sars\", \"darah\", \"pasien\", \"influenza\", \"flu\", \"kanker\", \"anemia\", \"hepatitis\", \"liver\", \"iritasi\", \"pengobatan\", \"obat\", \"alergi\", \"gatal\", \"ruam\", \"kelainan\")\n",
    "kriminalitas_keyword = (\"bunuh\", \"pembunuhan\", \"membunuh\", \"dibunuh\", \"pencurian\", \"curi\", \"mencuri\", \"dicuri\", \"pemerkosaan\", \"memperkosa\", \"diperkosa\", \"perkosa\", \"rampok\", \"perampokan\", \"merampok\", \"dirampok\", \"begal\", \"pembegalan\", \"membegal\", \"dibegal\", \"pembacokan\", \"bacok\", \"membacok\", \"dibacok\", \"penusukan\", \"tusuk\", \"ditusuk\", \"menusuk\", \"pukul\", \"pemukulan\", \"memukul\", \"dipukul\", \"luka\", \"melukai\", \"dilukai\")\n",
    "olahraga_keyword = (\"sepakbola\", \"sepak bola\", \"bola\", \"bulutangkis\", \"basket\", \"raket\", \"voli\", \"futsal\", \"tenis\", \"tenis meja\", \"turnamen\", \"motogp\", \"pertandingan\", \"pekan olahraga nasional\", \"pon\")\n",
    "\n",
    "keywords = [bencana_keyword, ekonomi_keyword, kecelakaan_keyword, kesehatan_keyword, kriminalitas_keyword, olahraga_keyword]\n"
   ]
  },
  {
   "cell_type": "code",
   "execution_count": 2,
   "metadata": {},
   "outputs": [
    {
     "name": "stdout",
     "output_type": "stream",
     "text": [
      "0.7493058601054435\n",
      "0.7446134645365514\n",
      "0.879719480766261\n",
      "0.7907331396721855\n",
      "0.8971516688789775\n",
      "0.9127214184456106\n"
     ]
    }
   ],
   "source": [
    "for a in range(len(keywords)):\n",
    "    # word_set = set()\n",
    "    word_each = []\n",
    "    for n in range(len(whats[a])):\n",
    "        x = whats[a]['what_lda'].iloc[n][1:-1]\n",
    "        y = x.split(\"'\")\n",
    "        z = [y[i] for i in range(len(y)) if i % 2 == 1]\n",
    "        word_each.append(z)\n",
    "        # print(z)\n",
    "    # for n in range(len(bencana_what)):\n",
    "    #     for m in word_each[n]:\n",
    "    #         word_set.add(m)\n",
    "    # print(word_set)\n",
    "    # print(word_each[9])\n",
    "    result = []\n",
    "    for n in range(len(whats[a])):\n",
    "        in_result = []\n",
    "        trueC = 0\n",
    "        falseC = 0\n",
    "        for m in word_each[n]:\n",
    "            if m in keywords[a]:\n",
    "                trueC += 1\n",
    "            else:\n",
    "                falseC += 1\n",
    "        in_result.append(trueC)\n",
    "        in_result.append(falseC)\n",
    "        result.append(in_result)\n",
    "\n",
    "    avg = 1/len(result)\n",
    "    sum = 0\n",
    "    for n in range(len(result)):\n",
    "        sum += result[n][1]/(result[n][0]+result[n][1])\n",
    "        # print(sum)\n",
    "    hloss = avg * sum\n",
    "    # hloss = sum / len(result)\n",
    "    print(hloss)\n"
   ]
  },
  {
   "cell_type": "code",
   "execution_count": 4,
   "metadata": {},
   "outputs": [],
   "source": [
    "bencana_3w = pd.read_excel(\"D://Petakabar/whowherewhen/whowhenwhere_test_result_bencana_hl.xlsx\")\n",
    "ekonomi_3w = pd.read_excel(\"D://Petakabar/whowherewhen/whowhenwhere_test_result_ekonomi_hl.xlsx\")\n",
    "kecelakaan_3w = pd.read_excel(\"D://Petakabar/whowherewhen/whowhenwhere_test_result_kecelakaan_hl.xlsx\")\n",
    "kesehatan_3w = pd.read_excel(\"D://Petakabar/whowherewhen/whowhenwhere_test_result_kesehatan_hl.xlsx\")\n",
    "kriminalitas_3w = pd.read_excel(\"D://Petakabar/whowherewhen/whowhenwhere_test_result_kriminalitas_hl.xlsx\")\n",
    "olahraga_3w = pd.read_excel(\"D://Petakabar/whowherewhen/whowhenwhere_test_result_olahraga_hl.xlsx\")\n",
    "\n",
    "list_3w = [bencana_3w, ekonomi_3w, kecelakaan_3w, kesehatan_3w, kriminalitas_3w, olahraga_3w]"
   ]
  },
  {
   "cell_type": "code",
   "execution_count": 25,
   "metadata": {},
   "outputs": [
    {
     "name": "stdout",
     "output_type": "stream",
     "text": [
      "0.5394339691799583\n",
      "0.5809773381176412\n",
      "0.5969263897548848\n",
      "0.5558434963407181\n",
      "0.42092776688226907\n",
      "0.49126329880474334\n"
     ]
    }
   ],
   "source": [
    "import re\n",
    "import math\n",
    "\n",
    "for a in range(len(list_3w)):\n",
    "    word_each = []\n",
    "    for n in range(len(list_3w[a])):\n",
    "        if list_3w[a]['hl'].iloc[n] < 0:\n",
    "            word_each.append([])\n",
    "            continue\n",
    "        x = list_3w[a]['who_n'].iloc[n]\n",
    "        # print(x, type(x))\n",
    "        if len(x) != 0:\n",
    "            x = re.sub(\" \", \"\", x)\n",
    "        y = x.split(\",\")\n",
    "        tbr = []\n",
    "        for b in range(len(y)):\n",
    "            if y[b].isupper():\n",
    "                tbr.append(y[b])\n",
    "        for b in tbr:\n",
    "            y.remove(b)\n",
    "        # print(y)\n",
    "        z = y\n",
    "        word_each.append(z)\n",
    "\n",
    "    iter = 0\n",
    "    sum = 0\n",
    "    for n in range(len(list_3w[a])):\n",
    "        if list_3w[a]['hl'].iloc[n] < 0:\n",
    "            continue\n",
    "        # in_result = []\n",
    "        trueC = list_3w[a]['hl'].iloc[n]\n",
    "        falseC = len(word_each[n]) - trueC\n",
    "        if falseC < 0 :\n",
    "            print(\"this\")\n",
    "        # print(word_each[n], list_3w[a]['who_n'].iloc[n])\n",
    "        sum += falseC/(trueC+falseC)\n",
    "        iter += 1\n",
    "\n",
    "    print(sum/iter)"
   ]
  },
  {
   "cell_type": "code",
   "execution_count": 30,
   "metadata": {},
   "outputs": [
    {
     "name": "stdout",
     "output_type": "stream",
     "text": [
      "0.9899497487437185 0.9899497487437185 0.9899497487437185\n",
      "0.9893617021276596 0.96875 0.9789473684210527\n",
      "0.9914529914529915 0.9914529914529915 0.9914529914529915\n",
      "0.9880952380952381 0.9540229885057471 0.9707602339181287\n",
      "0.9956140350877193 0.9956140350877193 0.9956140350877193\n",
      "1.0 1.0 1.0\n"
     ]
    }
   ],
   "source": [
    "for a in range(len(list_3w)):\n",
    "    tp = 0\n",
    "    tn = 0\n",
    "    fp = 0\n",
    "    fn = 0\n",
    "    for n in range(len(list_3w[a])):\n",
    "        val = list_3w[a]['cm'].iloc[n]\n",
    "        if val == 1:\n",
    "            tp += 1\n",
    "        elif val == 2:\n",
    "            fp += 1\n",
    "        elif val == 3:\n",
    "            fn += 1\n",
    "        elif val == 4:\n",
    "            tn += 1\n",
    "    acc = (tp+tn)/(tp+tn+fp+fn)\n",
    "    precision = tp / (tp+fp)\n",
    "    recall = tp / (tp+fn)\n",
    "    f1 = 2/(((1/precision) + (1/recall)))\n",
    "    print(precision, recall, f1)\n",
    "    # print(tp, fp, fn, tn)"
   ]
  }
 ],
 "metadata": {
  "kernelspec": {
   "display_name": "Python 3",
   "language": "python",
   "name": "python3"
  },
  "language_info": {
   "codemirror_mode": {
    "name": "ipython",
    "version": 3
   },
   "file_extension": ".py",
   "mimetype": "text/x-python",
   "name": "python",
   "nbconvert_exporter": "python",
   "pygments_lexer": "ipython3",
   "version": "3.10.2"
  },
  "orig_nbformat": 4
 },
 "nbformat": 4,
 "nbformat_minor": 2
}
