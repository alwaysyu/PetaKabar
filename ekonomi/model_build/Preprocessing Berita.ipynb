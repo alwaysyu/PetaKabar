{
 "cells": [
  {
   "cell_type": "code",
   "execution_count": 1,
   "metadata": {},
   "outputs": [
    {
     "name": "stderr",
     "output_type": "stream",
     "text": [
      "[nltk_data] Downloading package stopwords to\n",
      "[nltk_data]     C:\\Users\\RayRoyy\\AppData\\Roaming\\nltk_data...\n",
      "[nltk_data]   Package stopwords is already up-to-date!\n"
     ]
    }
   ],
   "source": [
    "# Import library-library\n",
    "import os\n",
    "import glob\n",
    "import string\n",
    "\n",
    "# Data Preparation and Preprocessing\n",
    "import pandas as pd\n",
    "import re\n",
    "import nltk\n",
    "nltk.download('stopwords')\n",
    "from nltk.corpus import stopwords\n",
    "\n",
    "# Word Embedding\n",
    "import joblib\n",
    "from sklearn.feature_extraction.text import TfidfVectorizer\n",
    "import scipy.sparse\n",
    "\n",
    "from sklearn.metrics.pairwise import cosine_similarity\n",
    "\n",
    "# Input and Expansion Query\n",
    "from textblob import TextBlob\n",
    "from nltk.tokenize import wordpunct_tokenize\n",
    "#from googletrans import Translator\n",
    "\n",
    "#Split to train and test\n",
    "from sklearn.model_selection import train_test_split\n",
    "\n",
    "import mysql.connector\n",
    "from mysql.connector import errorcode"
   ]
  },
  {
   "cell_type": "code",
   "execution_count": 2,
   "metadata": {},
   "outputs": [],
   "source": [
    "excluded_words = []\n",
    "\n",
    "NLTK_StopWords = stopwords.words('indonesian')\n",
    "NLTK_StopWords.extend([\"detik\", \"detikjatim\", \"detikjateng\", \"detikjabar\", \"detiksulsel\", \"detiksumbar\", \"detikbali\", \"detikpapua\", \"detiksulteng\", \"detikmaluku\", \"detjatim\", \"detikcom\", \"allahumma\", \"aamiin\", \"aamiin\", \"allah\", \"bismillah\"])\n",
    "NLTK_StopWords.extend([\"yg\", \"dg\", \"rt\", \"dgn\", \"ny\", \"d\", 'klo', \n",
    "                       'kalo', 'amp', 'biar', 'bikin', 'bilang', \n",
    "                       'gak', 'ga', 'krn', 'nya', 'nih', 'sih', \n",
    "                       'si', 'tau', 'tdk', 'tuh', 'utk', 'ya', \n",
    "                       'jd', 'jgn', 'sdh', 'aja', 'n', 't', \n",
    "                       'nyg', 'hehe', 'pen', 'u', 'nan', 'loh', 'rt',\n",
    "                       '&amp', 'yah'])\n",
    "txt_stopword = pd.read_csv(\"stopwords.txt\", names= [\"stopwords\"], header = None)\n",
    "\n",
    "# convert stopword string to list & append additional stopword\n",
    "NLTK_StopWords.extend(txt_stopword[\"stopwords\"][0].split(' '))\n",
    "NLTK_StopWords = set(NLTK_StopWords)"
   ]
  },
  {
   "cell_type": "code",
   "execution_count": 3,
   "metadata": {},
   "outputs": [],
   "source": [
    "def preprocessing(berita):\n",
    "    # Preprocessing\n",
    "    s = str(berita)\n",
    "    s = s.lower()\n",
    "    s = s.replace('\\n', ' ')\n",
    "    s = s.replace('\\r', ' ')\n",
    "    s = re.sub(r'[^a-zA-Z0-9\\s]', ' ', s)\n",
    "    tokens = [token for token in s.split(\" \") if token != \"\"]\n",
    "\n",
    "    # Stopwords checking\n",
    "    T = [t for t in tokens if ((t in excluded_words) or (t not in NLTK_StopWords))]\n",
    "    return T"
   ]
  },
  {
   "cell_type": "code",
   "execution_count": 4,
   "metadata": {},
   "outputs": [],
   "source": [
    "# df =pd.read_csv(\"news.csv\")\n",
    "# df.info()\n",
    "# df.head()\n",
    "dataframe = []\n",
    "\n",
    "try:\n",
    "        cnx = mysql.connector.connect(user = 'root', password='Password', database = 'Petakabar')\n",
    "        cursor = cnx.cursor()\n",
    "\n",
    "        ambildata = (\"SELECT berita_title, berita_date, berita_desc, berita_source FROM berita where berita_topik_id = 2 and class_classification is not null\")\n",
    "        cursor.execute(ambildata)\n",
    "        dataa = cursor.fetchall()\n",
    "        for row in dataa:\n",
    "            dataframe.append(row)\n",
    "        \n",
    "except mysql.connector.Error as err:\n",
    "        if err.errno == errorcode.ER_ACCESS_DENIED_ERROR:\n",
    "            print(\"Something is wrong with your user name or password\")\n",
    "        elif err.errno == errorcode.ER_BAD_DB_ERROR:\n",
    "            print(\"Database does not exist\")\n",
    "        else:\n",
    "            print(err)\n",
    "else:\n",
    "    cursor.close()\n",
    "    cnx.close()"
   ]
  },
  {
   "cell_type": "code",
   "execution_count": 5,
   "metadata": {},
   "outputs": [],
   "source": [
    "import pandas as pd\n",
    "writer = pd.DataFrame(dataframe, columns=[\n",
    "                    'Title','Date','Description', 'Source'], index=None)\n",
    "writer.to_csv('news.csv', index=False, sep=',')"
   ]
  },
  {
   "cell_type": "code",
   "execution_count": 6,
   "metadata": {},
   "outputs": [
    {
     "name": "stdout",
     "output_type": "stream",
     "text": [
      "<class 'pandas.core.frame.DataFrame'>\n",
      "RangeIndex: 2358 entries, 0 to 2357\n",
      "Data columns (total 4 columns):\n",
      " #   Column       Non-Null Count  Dtype \n",
      "---  ------       --------------  ----- \n",
      " 0   Title        2358 non-null   object\n",
      " 1   Date         2358 non-null   object\n",
      " 2   Description  2358 non-null   object\n",
      " 3   Source       2358 non-null   object\n",
      "dtypes: object(4)\n",
      "memory usage: 73.8+ KB\n"
     ]
    },
    {
     "data": {
      "text/html": [
       "<div>\n",
       "<style scoped>\n",
       "    .dataframe tbody tr th:only-of-type {\n",
       "        vertical-align: middle;\n",
       "    }\n",
       "\n",
       "    .dataframe tbody tr th {\n",
       "        vertical-align: top;\n",
       "    }\n",
       "\n",
       "    .dataframe thead th {\n",
       "        text-align: right;\n",
       "    }\n",
       "</style>\n",
       "<table border=\"1\" class=\"dataframe\">\n",
       "  <thead>\n",
       "    <tr style=\"text-align: right;\">\n",
       "      <th></th>\n",
       "      <th>Title</th>\n",
       "      <th>Date</th>\n",
       "      <th>Description</th>\n",
       "      <th>Source</th>\n",
       "    </tr>\n",
       "  </thead>\n",
       "  <tbody>\n",
       "    <tr>\n",
       "      <th>0</th>\n",
       "      <td>UMKM Binaan BUMN Kolaborasi Beri Bantuan hingg...</td>\n",
       "      <td>Sabtu, 24 Des 2022 08:17 WIB</td>\n",
       "      <td>\\- Guna memperkenalkan pelayanan sosial berupa...</td>\n",
       "      <td>www.tribunnews.com</td>\n",
       "    </tr>\n",
       "    <tr>\n",
       "      <th>1</th>\n",
       "      <td>Program Desa Brilian Diharapkan Menjadi Inspir...</td>\n",
       "      <td>Kamis, 22 Des 2022 11:44 WIB</td>\n",
       "      <td>Pemberdayaan wilayah pedesaan menjadi isu yan...</td>\n",
       "      <td>www.tribunnews.com</td>\n",
       "    </tr>\n",
       "    <tr>\n",
       "      <th>2</th>\n",
       "      <td>Pegadaian Gelar Pelatihan UMKM untuk Mendukung...</td>\n",
       "      <td>Jumat, 23 Des 2022 16:38 WIB</td>\n",
       "      <td>Dalam rangka memperingati hari ibu yang jatuh ...</td>\n",
       "      <td>www.tribunnews.com</td>\n",
       "    </tr>\n",
       "    <tr>\n",
       "      <th>3</th>\n",
       "      <td>Hanya Memberi, Tak Harap Kembali: Inilah Kisah...</td>\n",
       "      <td>Kamis, 22 Des 2022 11:28 WIB</td>\n",
       "      <td>Di balik kesuksesan seorang anak, selalu ada c...</td>\n",
       "      <td>www.tribunnews.com</td>\n",
       "    </tr>\n",
       "    <tr>\n",
       "      <th>4</th>\n",
       "      <td>Ratusan Usaha Mikro dan Kecil Dilatih untuk Me...</td>\n",
       "      <td>Sabtu, 24 Des 2022 18:06 WIB</td>\n",
       "      <td>Sebanyak 722 peserta UMK Academy 2022 telah me...</td>\n",
       "      <td>www.tribunnews.com</td>\n",
       "    </tr>\n",
       "  </tbody>\n",
       "</table>\n",
       "</div>"
      ],
      "text/plain": [
       "                                               Title  \\\n",
       "0  UMKM Binaan BUMN Kolaborasi Beri Bantuan hingg...   \n",
       "1  Program Desa Brilian Diharapkan Menjadi Inspir...   \n",
       "2  Pegadaian Gelar Pelatihan UMKM untuk Mendukung...   \n",
       "3  Hanya Memberi, Tak Harap Kembali: Inilah Kisah...   \n",
       "4  Ratusan Usaha Mikro dan Kecil Dilatih untuk Me...   \n",
       "\n",
       "                           Date  \\\n",
       "0  Sabtu, 24 Des 2022 08:17 WIB   \n",
       "1  Kamis, 22 Des 2022 11:44 WIB   \n",
       "2  Jumat, 23 Des 2022 16:38 WIB   \n",
       "3  Kamis, 22 Des 2022 11:28 WIB   \n",
       "4  Sabtu, 24 Des 2022 18:06 WIB   \n",
       "\n",
       "                                         Description              Source  \n",
       "0  \\- Guna memperkenalkan pelayanan sosial berupa...  www.tribunnews.com  \n",
       "1   Pemberdayaan wilayah pedesaan menjadi isu yan...  www.tribunnews.com  \n",
       "2  Dalam rangka memperingati hari ibu yang jatuh ...  www.tribunnews.com  \n",
       "3  Di balik kesuksesan seorang anak, selalu ada c...  www.tribunnews.com  \n",
       "4  Sebanyak 722 peserta UMK Academy 2022 telah me...  www.tribunnews.com  "
      ]
     },
     "execution_count": 6,
     "metadata": {},
     "output_type": "execute_result"
    }
   ],
   "source": [
    "df =pd.read_csv(\"news.csv\")\n",
    "df.info()\n",
    "df.head()"
   ]
  },
  {
   "cell_type": "code",
   "execution_count": 7,
   "metadata": {},
   "outputs": [],
   "source": [
    "column = ['Title', 'Date', 'Description', 'Source']\n",
    "df_total = pd.DataFrame()\n",
    "\n",
    "df = pd.read_csv(\"news.csv\")\n",
    "df = df.dropna(subset=['Description'], axis=0)\n",
    "df.sort_values(\"Description\", inplace = True)\n",
    "df.drop_duplicates(subset =\"Description\", keep = False, inplace = True)\n",
    "\n",
    "df.head()\n",
    "df_train_unprocessed, df_test_unprocessed = train_test_split(df,test_size=0.1)"
   ]
  },
  {
   "cell_type": "code",
   "execution_count": 10,
   "metadata": {},
   "outputs": [
    {
     "data": {
      "text/plain": [
       "2122"
      ]
     },
     "execution_count": 10,
     "metadata": {},
     "output_type": "execute_result"
    }
   ],
   "source": [
    "# df_first_1000 = df.head(1000)\n",
    "# len(df_first_1000)\n",
    "df_train, df_test = train_test_split(df,test_size=0.1)\n",
    "len(df_train)\n"
   ]
  },
  {
   "cell_type": "code",
   "execution_count": 11,
   "metadata": {},
   "outputs": [
    {
     "data": {
      "text/plain": [
       "236"
      ]
     },
     "execution_count": 11,
     "metadata": {},
     "output_type": "execute_result"
    }
   ],
   "source": [
    "len(df_test)"
   ]
  },
  {
   "cell_type": "code",
   "execution_count": 12,
   "metadata": {},
   "outputs": [],
   "source": [
    "df_train.to_csv(\"corpus/df_train_unprerocessed.csv\" , index = None, header=True)\n",
    "df_test.to_csv(\"corpus/df_test_unprerocessed.csv\" , index = None, header=True)"
   ]
  },
  {
   "cell_type": "code",
   "execution_count": 13,
   "metadata": {},
   "outputs": [
    {
     "data": {
      "text/plain": [
       "['corpus/model/desc_text_test_unprocessed.pkl']"
      ]
     },
     "execution_count": 13,
     "metadata": {},
     "output_type": "execute_result"
    }
   ],
   "source": [
    "desc_text_test_unprocessed = []\n",
    "\n",
    "for x in range(0, df_test_unprocessed.shape[0]):\n",
    "  desc_text_test_unprocessed.append(df_test_unprocessed.iloc[x, -2])\n",
    "\n",
    "joblib.dump(desc_text_test_unprocessed, \"corpus/model/desc_text_test_unprocessed.pkl\")"
   ]
  },
  {
   "cell_type": "code",
   "execution_count": 14,
   "metadata": {},
   "outputs": [],
   "source": [
    "# for x in range(0, df.shape[0]):\n",
    "#     text = preprocessing(df.iloc[x, -2])\n",
    "#     df.iloc[x, -2] = (' '.join(text)) \n",
    "\n",
    "desc_text_train_unpreprocessed = []\n",
    "desc_text_test_unpreprocessed = []\n",
    "\n",
    "for x in range(0, df_train.shape[0]):\n",
    "  desc_text_train_unpreprocessed.append(df_train.iloc[x, -2])\n",
    "\n",
    "for x in range(0, df_test.shape[0]):\n",
    "  desc_text_test_unpreprocessed.append(df_test.iloc[x, -2])"
   ]
  },
  {
   "cell_type": "code",
   "execution_count": 15,
   "metadata": {},
   "outputs": [],
   "source": [
    "# Simpan teks asli dokumen\n",
    "joblib.dump(desc_text_test_unpreprocessed, \"corpus/model/desc_text_test_unpreprocessed.pkl\")\n",
    "joblib.dump(desc_text_train_unpreprocessed, \"corpus/model/desc_text_train_unpreprocessed.pkl\")\n",
    "\n",
    "# Simpan dataframe hasil text processing sebelum TF-IDF Vectorizer\n",
    "df.to_csv('corpus/dataset/df_total_unpreprocessed.csv', index=False)\n",
    "df_test.to_csv('corpus/dataset/df_test_unpreprocessed.csv', index=False)\n",
    "df_train.to_csv('corpus/dataset/df_train_unpreprocessed.csv', index=False)\n"
   ]
  },
  {
   "cell_type": "code",
   "execution_count": 16,
   "metadata": {},
   "outputs": [],
   "source": [
    "for x in range(0, df.shape[0]):\n",
    "    text = preprocessing(df.iloc[x, -2])\n",
    "    df.iloc[x, -2] = (' '.join(text)) "
   ]
  },
  {
   "cell_type": "code",
   "execution_count": 17,
   "metadata": {},
   "outputs": [],
   "source": [
    "desc_text_train = []\n",
    "desc_text_test = []\n",
    "\n",
    "for x in range(0, df_train.shape[0]):\n",
    "  desc_text_train.append(df_train.iloc[x, -2])\n",
    "\n",
    "for x in range(0, df_test.shape[0]):\n",
    "  desc_text_test.append(df_test.iloc[x, -2])"
   ]
  },
  {
   "cell_type": "code",
   "execution_count": 18,
   "metadata": {},
   "outputs": [
    {
     "name": "stdout",
     "output_type": "stream",
     "text": [
      "Panjang Dokumen Test :  236\n",
      "------------------------------------------------------------------------------------------\n",
      "Panjang Dokumen Train :  2122\n"
     ]
    }
   ],
   "source": [
    "# print(df_test.info())\n",
    "print(\"Panjang Dokumen Test : \", len(desc_text_test))\n",
    "\n",
    "print ('-'*90)\n",
    "\n",
    "# print(df_train.info())\n",
    "print(\"Panjang Dokumen Train : \", len(desc_text_train))"
   ]
  },
  {
   "cell_type": "code",
   "execution_count": 19,
   "metadata": {},
   "outputs": [],
   "source": [
    "# Simpan teks asli dokumen\n",
    "joblib.dump(desc_text_test, \"corpus/model/desc_text_test.pkl\")\n",
    "joblib.dump(desc_text_train, \"corpus/model/desc_text_train_new.pkl\") #INI\n",
    "\n",
    "# Simpan dataframe hasil text processing sebelum TF-IDF Vectorizer\n",
    "df.to_csv('corpus/dataset/df_total_new.csv', index=False) #INI\n",
    "df_test.to_csv('corpus/dataset/df_test.csv', index=False)\n",
    "df_train.to_csv('corpus/dataset/df_train.csv', index=False)\n"
   ]
  },
  {
   "cell_type": "code",
   "execution_count": 20,
   "metadata": {},
   "outputs": [
    {
     "name": "stdout",
     "output_type": "stream",
     "text": [
      "tfidf_test_matrix\n",
      "(236, 11007)\n",
      "tfidf_train_matrix\n",
      "(2122, 33744)\n"
     ]
    }
   ],
   "source": [
    "# Fit transform menggunakan TF-IDF Vectorizer\n",
    "tfidf_vectorizer = TfidfVectorizer()\n",
    "tfidf_test_matrix = tfidf_vectorizer.fit_transform(desc_text_test)\n",
    "tfidf_train_matrix = tfidf_vectorizer.fit_transform(desc_text_train)\n",
    "\n",
    "print('tfidf_test_matrix')\n",
    "print(tfidf_test_matrix.shape)\n",
    "print('tfidf_train_matrix')\n",
    "print(tfidf_train_matrix.shape)"
   ]
  },
  {
   "cell_type": "code",
   "execution_count": 21,
   "metadata": {},
   "outputs": [
    {
     "data": {
      "text/plain": [
       "['corpus/matrix/tfidf_train_new.pkl']"
      ]
     },
     "execution_count": 21,
     "metadata": {},
     "output_type": "execute_result"
    }
   ],
   "source": [
    "joblib.dump(tfidf_vectorizer, \"corpus/vectorizer/vectorizer_new.pkl\") #INI\n",
    "joblib.dump(tfidf_test_matrix, \"corpus/matrix/tfidf_test.pkl\")\n",
    "joblib.dump(tfidf_train_matrix, \"corpus/matrix/tfidf_train_new.pkl\") #INI"
   ]
  },
  {
   "cell_type": "markdown",
   "metadata": {},
   "source": [
    "### Pencarian "
   ]
  },
  {
   "cell_type": "code",
   "execution_count": 22,
   "metadata": {},
   "outputs": [
    {
     "name": "stdout",
     "output_type": "stream",
     "text": [
      "<class 'pandas.core.frame.DataFrame'>\n",
      "Int64Index: 2358 entries, 0 to 2357\n",
      "Data columns (total 4 columns):\n",
      " #   Column       Non-Null Count  Dtype \n",
      "---  ------       --------------  ----- \n",
      " 0   Title        2358 non-null   object\n",
      " 1   Date         2358 non-null   object\n",
      " 2   Description  2358 non-null   object\n",
      " 3   Source       2358 non-null   object\n",
      "dtypes: object(4)\n",
      "memory usage: 92.1+ KB\n",
      "None\n",
      "------------------------------------------------------------------------------------------\n",
      "236\n",
      "2122\n"
     ]
    }
   ],
   "source": [
    "df_total = pd.read_csv('corpus/dataset/df_total_new.csv')\n",
    "df_total = df_total[pd.notnull(df_total['Description'])]\n",
    "print(df_total.info())\n",
    "print ('-'*90)\n",
    "\n",
    "document_text_train= joblib.load('corpus/model/desc_text_train_new.pkl')\n",
    "document_text_test= joblib.load('corpus/model/desc_text_test.pkl')\n",
    "print(len(document_text_test))\n",
    "print(len(document_text_train))"
   ]
  },
  {
   "cell_type": "code",
   "execution_count": 23,
   "metadata": {},
   "outputs": [
    {
     "name": "stdout",
     "output_type": "stream",
     "text": [
      "['inflasi']\n",
      "\n",
      "======================\n",
      "\n",
      "Top 10 most similar documents in corpus:\n",
      "No ID Dokumen  :  998\n",
      "Tanggal        :  Senin, 28 Nov 2022 06:00 WIB\n",
      "Isi berita     :  korea selatan dinyatakan negara mengalami penurunan populasi benua asia korsel terancam terkena imbas resesi seks akibat banyaknya warga menolak keturunan dilansir detikhealth resesi seks mengacu risiko krisis demografis wanita berhenti melahirkan kondisi negara negara dunia 4 daftar negara asia dihantui resesi seks 1 korea selatan 2021 berdasarkan data pemerintah korea selatan mencatat tingkat kesuburan 0 81 persen idealnya negara memiliki tingkat kesuburan 2 1 persen menjaga populasi negeri ginseng anak muda menikah wanita menikah memilih hamil angka resmi warga korea selatan memilih menikah memiliki anak berdasarkan badan statistik nasional 2020 193 ribu pernikahan negara angka mengalami penurunan 1996 mencapai 430 ribu data bayi lahir 260 600 puncak kelahiran negara mencapai 1 juta 1971 singkatnya negara mudah ditinggali lee young pakar kebijakan kependudukan institut korea urusan kesehatan sosial korea selatan percaya anak anak memiliki kehidupan bersusah payah memiliki bayi 2 china negara populasi dunia 1 4 miliar mengalami resesi seks diprediksi angka kelahiran mencetak rekor terendahnya lantaran menurun 10 juta dibandingkan 10 6 juta anak lahir angka menurun 11 5 persen 2020 terkait presiden china jinping beragam meningkatkan angka kelahiran pengurangan pajak uang tambahan anak ketiga strategi angka kelahiran kian meningkat 2021 angka kesuburan 1 16 standar 2 1 presiden china menyebut faktor biaya pendidikan upah rendah jam bersamaan kebijakan covid 19 kekhawatiran pertumbuhan ekonomi 3 jepang krisis populasi negeri sakura lantaran tingkat perkawinan kelahiran negara tergolong terendah sejarah berdasarkan laporan terbaru angka pria wanita jepang menikah memecahkan rekor tertinggi sejarah data institut nasional kependudukan jaminan sosial menemukan 17 3 persen pria 14 6 persen wanita berusia 18 34 jepang menyebut berminat menikah angka tertinggi kuesioner 1982 2021 bayi lahir jepang mengalami penurunan 29 231 3 5 persen pernikahan turun 24 391 501 116 angka terendah perang dunia 4 singapura negara angka kelahiran bayi 2021 1 12 angka rendah dibandingkan angka global 2 3 penyebab resesi seks singapura pemerintah mengizinkan wanita pembekuan telur izin wanita kondisi medis kemoterapi menyadari wanita mempertahankan kesuburannya pribadi menemukan pasangan muda memiliki kesempatan hamil menikah administrasi perdana menteri leehsienloong pernyataan dikutip south china morning post\n",
      "(Score: 0.3829) \n",
      "No ID Dokumen  :  671\n",
      "Tanggal        :  Senin, 05 Des 2022 13:58 WIB\n",
      "Isi berita     :  gunung semeru lumajang jawa timur erupsi 11 31 wib senin 5 12 2022 abu teramati visual tertutup kabut erupsi terekam seismograf amplitudo maksimum 20 durasi 0 jalur lumajang malang ditutup imbas erupsi gunung semeru warga diimbau aktivitas apapun sektor tenggara besuk kobokan 17 puncak pusat erupsi mukdas sofian keterangannya dikutip senin 5 12 masyarakat aktivitas jarak 500 meter tepi sungai sempadan sungai besuk kobokan antisipasi potensi perluasan awan panas aliran lahar jarak 19 puncak beraktivitas radius 8 kawah puncak gunung api semeru rawan bahaya lontaran batu pijar imbuhnya gunung semeru memuntahkan awan panas minggu 4 12 2022 pagi semeru tercatat meluncurkan guguran awan panas 1 000 meter puncak melansir salah lokasi terdampak parah dusun kajar kuning desa sumberwuluh kecamatan candipuro lumajang rumah rumah warga dusun tertutupi abu vulkanik berdasarkan laporan video petugas lokasi jembatan dusun tertutup material abu panas jembatan diresmikan 5 diterjang erupsi kondisi dusun kajar kuning dilewati kendaraan apapun abu menutupi mengeluarkan asap panas abu vulkanik mengubur rumah warga fasilitas musala arus sungai mengalirkan air dipenuhi abu warga petugas menyelamatkan barang barang berharga diambil pvmbg badan geologi esdm menaikkan status gunung semeru siaga level 3 awas level 4 naiknya status terhitung minggu 4 desember 2022 12 00 wib 2 219 warga mengungsi minggu pagi 12 titik mengungsi warga bertempat tinggal lereng semeru pronojiwo supit urang halaman jalur lumajang malang ditutup halaman 1 2 gambas video 20detik\n",
      "(Score: 0.3035) \n",
      "No ID Dokumen  :  412\n",
      "Tanggal        :  Jumat, 09 Des 2022 16:21 WIB\n",
      "Isi berita     :  bank indonesia mencatat aliran tanah air periode 5 8 desember 2022 modal asing rp 1 77 triliun berdasarkan data transaksi 5 8 desember 2022 nonresiden pasar keuangan domestik beli neto rp 1 77 triliun beli neto rp 8 45 triliun pasar sbn jual neto rp 6 68 triliun pasar saham kepala departemen komunikasi erwin haryono keterangannya jumat 9 12 2022 2022 tercatat modal asing pasar sbn tercatat jual neto rp 140 62 triliun pasar saham tercatat beli neto rp 73 27 triliun 2022 berdasarkan data setelmen 8 desember 2022 nonresiden jual neto rp 140 62 triliun pasar sbn beli neto rp 73 27 triliun pasar saham inflasi angka 0 37 mtm berdasarkan survei pemantauan harga minggu desember 2022 berdasarkan survei pemantauan harga minggu desember 2022 perkembangan harga minggu desember 2022 inflasi 0 37 mtm komoditas utama penyumbang inflasi desember 2022 minggu telur ayam ras 0 07 mtm beras tomat emas perhiasan 0 03 mtm daging ayam ras minyak goreng rokok kretek filter 0 02 mtm cabai rawit kangkung bensin tarif air minum pam 0 01 mtm komoditas menyumbang deflasi periode cabai merah bawang merah 0 01 mtm bank indonesia memperkuat koordinasi pemerintah otoritas terkait mengoptimalkan strategi bauran kebijakan menjaga stabilitas makroekonomi sistem keuangan mendukung pemulihan ekonomi terangnya\n",
      "(Score: 0.2965) \n",
      "No ID Dokumen  :  1490\n",
      "Tanggal        :  Selasa, 29 Nov 2022 12:44 WIB\n",
      "Isi berita     :  pemerintah aturan terkait implementasi carbon capture storage ccs carbon capture utilization storage ccus aturan diharapkan mengoptimalkan produksi nasional era transisi energi arifin tasrif menteri energi sumber daya mineral esdm keberadaan aturan main pelaksanaan ccs ccus menjamin kegiatan sesuai regulasi bermasalah kepastian hukum ketenangan pelaku usaha arifin implementasi ccs ccus krusial pasalnya bisnis disorot salah bisnis menyumbangkan emisi karbon teknologi ccs ccsu kegiatan operasi produksi migas berjalan sisi membantu mengurangi emisi karbon aturan permen ccs ccus disusun aturannya implementasi ccus melibatkan stakeholder pastikan aman membantu mengurangi emisi karbon arifin jakarta senin 28 11 arifin penerapan ccs ccus berkembang carbon trading diterapkan depannya carbon trading arifin djoko siswanto sekretaris jendral dewan energi nasional den migas cerah penerapan teknologi ccs ccus pasalnya emisi dihasilkan operasional migas keuntungan pelaku usaha sisi finansial produksi flare gas produksi migas dimanfaatkan mengurangi emisi karbon menambah profit hulu emisi berkurang profit bertambah flare dimanfaatkan co2 carbon credit injeksi reservoir dimana diproduksi co2 dimanfaatkan enhanced oil recovery eor ccs ccus eor djoko halaman halaman 1 2 gambas video 20detik\n",
      "(Score: 0.2871) \n",
      "No ID Dokumen  :  837\n",
      "Tanggal        :  Kamis, 08 Des 2022 20:08 WIB\n",
      "Isi berita     :  kementerian desa pembangunan daerah tertinggal transmigrasi kemendes pdtt merevitalisasi 619 kawasan transmigrasi revitalisasi wujud terima kasih transmigran sukses daerahnya produktif daya saing staf ahli bidang ekonomi lokal kemendes pdtt ansar husen mewakili mendes pdtt abdul halim iskandar tabur bunga bhakti transmigrasi hbt 72 komplek makam pionir transmigrasi sukra indramayu jawa barat revitalisasi modernisasi 619 kawasan transmigrasi berperan tujuan pembangunan nasional ansar kamis 8 12 2022 wujud terima kasih pemerintah transmigran sukses revitalisasi bertujuan mensukseskan program ketahanan pangan nasional hbt 72 dukungan sdgs desa indonesia maju berharap revitalisasi diiringi modernisasi mengembangkan kawasan transmigrasi produktif berdaya saing lumbung pangan sukses program ketahanan pangan ansar ansar program transmigrasi berusia 72 berkontribusi positif indonesia berhasil membangun 5 706 satuan pemukiman 619 kawasan transmigrasi program transmigrasi sukses membangun pusat pertumbuhan 1 529 desa definitif 454 eks satuan pemukiman berkembang kota kecamatan 114 kota kabupaten melahirkan kota provinsi kontribusi positif transmigrasi membula keterisolasian daerah tertinggal mendukung ketahanan pangan ansar mewakili mendes pdtt ansar hormat tingginya tokoh penggerak transmigrasi keluarga transmigran indonesia pejuang semoga perjuangan bakti amal jariah mengalirkan pahala zaman hadir tabur bunga hbt 72 staf ahli bidang reformasi birokrasi pramudiono plt dirjen ppktrans rajumber prihatin psm ahli utama rr aisyah gamawati pejabat pramata lingkungan kemendes pdtt muspida kabupaten indramayu dihadiri persatuan wredatama transmigrasi persatuan anak transmigrasi dharma wanita persatuan pegawai ppktrans\n",
      "(Score: 0.2868) \n",
      "No ID Dokumen  :  1705\n",
      "Tanggal        :  Jumat, 02 Des 2022 12:08 WIB\n",
      "Isi berita     :  presiden ri joko widodo menekankan negara bergantung indonesia menurutnya salah kunci membangun ekonomi indonesia negara maju menyoroti keterbukaan ekonomi indonesia kerap disalah artikan sekedar membuka kesempatan investor seluas luasnya amerika latin 50 60 negara negara berkembang negara pendapatan menengah 50 60 70 negara berkembang problem problemnya mengartikan keterbukaan membuka seluas luasnya investor hati hati jokowi kompas100 ceo forum 2022 dikutip kanal youtube sekretariat presiden jumat 02 12 2022 menurutnya kondisi berbeda taiwan korea salah kunci negara bergantung ri cek bergantung batu stop 2 minggu telpon kepala negara perdana menteri presiden tergantung tergantung tergantung kaget sambungnya batu minyak sawit mentah crude palm oil cpo menghentikan ekspornya organisasi global keputusan international monetary fund bank kelabakan nggak minyak nggak stop keliru terserah nggak pendapat berbeda beda jokowi menekankan keterbukaan ekonomi indonesia mendesain ketergantungan negara indonesia ri cabang banyaknya investor amerika latin contoh taiwan meloncat contoh chip fokus strategic kompetitif situ tergantung produk produk produk korea salah satunya produk produk komponen digital perusahaan perusahaan amerika membutuhkan korea sanalah menurutnya konsisten mendesain ekosistem negara bergantung ri sektor negara negara senangnya mengikuti jejaknya barat mengikuti belakangnya tangganya mengikuti bawahnya memiliki kekuatan melampaui gambas video 20detik\n",
      "(Score: 0.2761) \n",
      "No ID Dokumen  :  139\n",
      "Tanggal        :  Selasa, 06 Des 2022 12:20 WIB\n",
      "Isi berita     :  bank indonesia memproyeksikan pertumbuhan ekonomi indonesia tembus 4 7 5 5 persen 2024 proyeksi dibandingkan perkiraan pertumbuhan ekonomi 4 5 5 3 persen 2023 gubernur perry warjiyo proyeksi diperkirkaan pertumbuhan ekonomi global pasalnya pertumbuhan ekonomi dunia 3 persen mengalami penurunan 2 6 persen 2023 pertumbuhan ekonomi dunia diprediksi anjlok 2 persen 2024 4 7 5 5 persen dibanding bandingke dunia dunia perkirakan 3 persen turun 2 6 persen acara rapat koordinasi nasional percepatan perluasan digitalisasi daerah hotel meridien jakarta selasa 6 12 2022 menyebut dunia bergejolak perang rusia ukraina perang dagang amerika serikat china suku bunga acuan melesat eropa tingkat inflasi 9 persen inflasi inggris 11 persen inflasi eropa 10 persen menko perekonomian dunia bergejolak perry kunci indonesia menghadapi gejolak global menguatkan sinergi kolaborasi pemerintah pusat daerah menekankan gejolak global disikapi optimisme waspada bersatu gubernur walikota daerah insya tuhan ekonomi 2023 tumbuh\n",
      "(Score: 0.2600) \n",
      "No ID Dokumen  :  133\n",
      "Tanggal        :  Minggu, 11 Des 2022 10:30 WIB\n",
      "Isi berita     :  3 desember dunia memperingati disabilitas internasional penyandang disabilitas difable different ability memiliki kemampuan berbeda keterbatasannya fisik intelektual mental sensorik mengalami hambatan berpartispasi penuh efektif warga negara peringatan bertujuan meningkatkan kesadaran masyarakat disabilitas menghilangkan stigma penyandang disabilitas dukungan meningkatkan kemandirian kesamaan hak penyandang disabilitas aspek kehidupan hasil survei angkatan nasional sakernas 2019 126 juta pekerja 9 3 juta pekerja penyandang disabilitas bidang pekerjaan pelaku usaha pekerja pelaku umkm disabilitas dihadapkan kendala tantangan manajemen finansial membedakan keuangan keluarga keuangan bisnis pengetahuan minim pelaku umkm disabilitas mengelola bisnis semangat berbisnis memadai pelaku umkm disabilitas memiliki akses perbankan berubah orientasi sektor bisnis berhadapan tantangan kendala pelaku umkm disabilitas berhadapan tantangan psikologis difable dianggap helpless bergantung mengambil kesimpulan dianggap beban masyarakat williams 2021 pandangan individu berkebutuhan bergantung mengambil kesimpulan helpless stigma melekat individu berkebutuhan stigma karakteristik atribut rendah tercemar dianggap memalukan goffman subu dkk 2021 pandangan stigma dibutuhkan kesadaran komunitas individu berkebutuhan kesadaran awareness mengakui menerima menyadari situasi berdasarkan american psychology association awareness persepsi pengetahuan awarness meliputi isu salah satunya disabilitas wardany hidayatullah wargimin 2018 awareness disabilitas awareness disabilitas masyarakat memahami menyadari menerima mengakui keberadaan individu disabilitas memunculkan pandangan sikap positif masyarakat disabilitas pelaku umkm disabilitas membutuhkan mediator menghadapi kendala tantangan tujuannya tercipta kondisi psikologis fisiologis nyaman mediator sumber daya sosial pribadi melemahkan efek stressor stresso bersifat internal eksternal memperhitungkan mediator hasil stres kondisi psikologis fisiologis timbul paparan stressor sarafino 2016 pelaku usaha disabilitas membutuhkan kondisi mental sehat kondisi mental sehat memaknai dunia positif kemampuan menempatkan kejadian kedalam menerima kekurangan berkreasi menutupi kekurangan pikiran pendapat positif berpikiran berpendapat kekurangan berbuat dukungan kemampuan mengelola pikiran perasaan perilaku semangat kondisi mental sehat diperoleh dukungan sosial personal menghadapi kendala tantangan menjalankan usaha dukungan sumber daya personal ditingkatkan menghadapi situasi pikiran emosi fisik perilaku berdasarkan pandangan positif dibutuhkan mindfulnes kondisi penerimaan sepenuhnya menilai memikirkan pengalaman sensasi tubuh meningkatkan kesejahteraan creswell 2017 terkait dukungan sosial mencakup pengharapan jejaring komunitas informasi sarana dukungan disesuaikan kearifan lokal dukungan sosial pengharapan diwujudkan perluasan ekosistem digital program pemberdayaan umkm penyandang disabilitas dukungan sosial bidang instrumental sarana penguatan umkm penyandang disabilitas perizinan usaha modal usaha pemberian bantuan soft skills pelatihan bimbingan teknis sosialisasi forum konsultasi mengasah kapasitas umkm disabilitas bentuk dukungan sosial bidang informasional ajakan perusahaan pembuat platform pelbagi pelatihan disabilitas dunia digital mandiri dukungan sosial bidang jejaring sosial komunitas pembentukan koperasi lembaga komunitas pembiayaan kinerja umkm dipengaruhi aspek sumber daya manusianya kinerja umkm dipengaruhi self efficacy self efficacy cenderung mempermudah penyelesaian permasalahan usaha inisiatif inovasi self efficacy kepribadian positif menciptakan senang menikmati usaha dijalankan keberhasilan wirausaha percaya bakat memiliki tingkat kepercayaan memiliki kesuksesan dihindari takut gagal percaya pelaku usaha mencari solusi timbul memiliki optimisme salah modal utama wirausaha terkait membantu pengusaha disabilitas menawarkan tunjangan bisnis disusun program pelatihan penyandang disabilitas belajar berlatih membuka usahanya dukungan berbentuk modal pelatihan mentoring penyandang disabilitas membantu bisnis\n",
      "(Score: 0.2572) \n",
      "No ID Dokumen  :  214\n",
      "Tanggal        :  Jumat, 16 Des 2022 22:30 WIB\n",
      "Isi berita     :  libur natal nataru 2023 dimanfaatkan pergi liburan kota salah transportasi kota kereta api cepat kereta api relatif nyaman penumpang menikmati pemandangan perjalanan melansir situs resmi kai pemesanan tiket kereta api libur natal dibuka 7 november 2022 periode angkutan nataru ditetapkan kai keberangkatan 22 desember 2022 8 januari 2023 penumpang harga promo tiket murah mengecek situs layanan pemesanan tiket online berkala promo menarik jelang nataru harga tiket kereta nataru 2022 2023 jakarta bandung dirangkum situs pemesanan tiket resmi kai argo parahyangan stasiun keberangkatan gambir jadwal keberangkatan 06 40 wib harga rp 130 000 rp 170 000 argo parahyangan tambahan stasiun keberangkatan gambir jadwal keberangkatan 07 25 wib harga rp 170 000 argo parahyangan tambahan luxury stasiun keberangkatan gambir jadwal keberangkatan 07 25 wib harga rp 510 000 argo parahyangan priority stasiun keberangkatan gambir jadwal keberangkatan 13 15 wib harga rp 350 000 argo anggrek luxury sleeper stasiun keberangkatan pasar senen jadwal keberangkatan 18 20 wib harga rp 1 195 000 rp 1 555 000 cikuray stasiun keberangkatan pasar senen jadwal keberangkatan 17 55 wib harga rp 45 000\n",
      "(Score: 0.2508) \n",
      "No ID Dokumen  :  170\n",
      "Tanggal        :  Rabu, 14 Des 2022 07:00 WIB\n",
      "Isi berita     :  daftar isi pengertian jurusan pendidikan kesejahteraan keluarga diajarkan jurusan pendidikan kesejahteraan keluarga 1 pendidikan tata boga 2 pendidikan tata busana 3 pendidikan tata rias 4 ilmu keluarga konsumen prospek lulusan jurusan pendidikan kesejahteraan keluarga kelebihan kekurangan jurusan pendidikan kesejahteraan keluarga 1 mengantarkan peserta didik dunia usaha industri 2 ilmunya dimanfaatkan luas 3 diterapkan membina keluarga 4 sumber penghasilan 5 berkontribusi meningkatkan kesejahteraan masyarakat 1 peka perubahan 2 memiliki sistem penunjang perekonomian 3 teknologi diterapkan berkembang 4 jalinan kerjasama networking pkk 5 jurusan pkk memiliki image masyarakat jurusan pkk kampus pendidikan kesejahteraan keluarga jurusan populer kalangan mahasiswa jurusan peran kehidupan masyarakat pilihan prospek jurusan pendidikan kesejahteraan keluarga pengertian jurusan pendidikan kesejahteraan keluarga diajarkan simak penjelasan pengertian jurusan pendidikan kesejahteraan keluarga american home economics association ahea pendidikan kesejahteraan keluarga cabang ilmu pengetahuan pelayanan menitikberatkan kekuatan kehidupan keluarga pendidikan kesejahteraan keluarga pkk mengantarkan arah keselamatan ketenteraman taat kehidupan penghidupan keluarga jurusan berkaitan upaya mengembangkan pandangan hidup sikap hidup keterampilan hidup pkk memiliki potensi menyambung hubungan keluarga sekolah masyarakat pembinaan keluarga wanita pria anak anak lulusan jurusan pkk kontribusi kehidupan keluarga meningkatkan kualitas hidupnya memiliki kemampuan menggabungkan pendekatan intelektual personal membantu anggota keluarga menghadapi perubahan perubahan diajarkan jurusan pendidikan kesejahteraan keluarga mengutip makalah pendidikan kesejahteraan keluarga universitas negeri surabaya keahlian diajarkan pendidikan kesejahteraan keluarga 1 pendidikan tata boga pendidikan tata boga mengembangkan kompetensi perancangan produk boga analisis pengembangan produk boga manajemen jasa boga 2 pendidikan tata busana pendidikan diajarkan mendesain busana pembuatan pola hiasan busana kewirausahaan 3 pendidikan tata rias pendidikan mengembangkan tata rias kulit wajah rambut pengantin tata rias karakter 4 ilmu keluarga konsumen model akademik institut pertanian bogor ipb ilmu keluarga konsumen mengembangkan ilmu keluarga konsumen ekosistem keluarga prospek lulusan jurusan pendidikan kesejahteraan keluarga situs universitas negeri jakarta universitas negeri padang prospek lulusan program studi pendidikan kesejahteraan keluarga 1 tenaga pendidik pendidikan formal non formal 2 tenaga profesional 3 entrepreneur 4 peneliti 5 instruktur lembaga bidang boga busana 6 asisten penelitian bidang boga busana kelebihan kekurangan jurusan pendidikan kesejahteraan keluarga kelebihan diperoleh jurusan pendidikan kesejahteraan keluarga 1 mengantarkan peserta didik dunia usaha industri mengutip jurnal potensi pendidikan kesejahteraan keluarga pengembangan sumberdaya manusia berkualitas kehidupan masyarakat bangsa negara formal lulusan jurusan pkk guru pendidik tingkat menengah bidang pkk boga tata rias lulusan tata boga bidang mengantarkan peserta didiknya dunia usaha industri peran kontribusi pendidik sumbangan peningkatan kualitas bangsa negara 2 ilmunya dimanfaatkan luas ilmu diperoleh jurusan pkk arah pemanfaatan luas sektor sektor informal pelatihan bidang tata boga busana pembinaan anak keluarga remaja lansia pembinaan umkm 3 diterapkan membina keluarga pkk landasan pembina calon pembina keluarga meningkatkan kualitas pendidikan anak keluarganya 4 sumber penghasilan pkk pendidikan vokasional dijadikan sandaran aktivitas ekonomi pelakunya 5 berkontribusi meningkatkan kesejahteraan masyarakat penelitian bidang pkk teoritis praktis kontribusi peningkatan kesejahteraan keluarga masyarakat memiliki keunggulan dikembangkan program studi pendidikan kesejahteraan keluarga 1 peka perubahan jurusan pkk menghasilkan guru pendidik tingkat menengah senantiasa peka perubahan menghasilkan sdm pengetahuan kognitif dilengkapi sikap perilaku inovatif 2 memiliki sistem penunjang perekonomian pendidikan vokasional sandaran aktivitas ekonomi pelakunya pkk sistem struktur proses pendidikan mendasar mekanisme pasar sistem struktur pendidikan bersifat terbuka layaknya kegiatan fungsi ekonomis 3 teknologi diterapkan berkembang pkk kekuatan utama perubahan masyarakat penelitian terpadu perkembangan teknologi ditingkatkan 4 jalinan kerjasama networking pkk pkk meningkatkan jalinan kerjasama pkk mengarah pendidikan berwawasan global networking kemajuan pendidikan nasional internasional 5 jurusan pkk memiliki image masyarakat pkk membangun kebijakan publik terkait penciptaan image masyarakat pkk diartikan kegiatan wanita pekerjaan jurusan pkk kampus kampus memiliki program studi pkk 1 universitas negeri semarang unnes 2 universitas negeri jakarta unj 3 universitas negeri surabaya unesa 4 universitas pendidikan ganesha undiksha 5 universitas negeri padang unp 6 universitas sarjanawiyata tamansiswa 7 universitas pendidikan indonesia upi 8 universitas negeri makassar unm 9 universitas dhyana pura undhira 10 universitas negeri medan unimed pemaparan pendidikan kesejahteraan keluarga universitas memiliki jurusan semoga informasi membantu detikers gambas video 20detik\n",
      "(Score: 0.2466) \n"
     ]
    }
   ],
   "source": [
    "kueri='inflasi'\n",
    "kueri=preprocessing(kueri)\n",
    "kueri= [\" \".join (kueri)]\n",
    "print (kueri)\n",
    "\n",
    "tfidf_matrix =joblib.load( \"corpus/matrix/tfidf_train_new.pkl\" )\n",
    "tfidf_vectorizer = joblib.load( \"corpus/vectorizer/vectorizer_new.pkl\" ) \n",
    "query_vec= tfidf_vectorizer.transform(kueri)\n",
    "results=cosine_similarity(tfidf_matrix, query_vec).reshape((-1))\n",
    "#print (results)\n",
    "print(\"\\n======================\\n\")\n",
    "print(\"Top 10 most similar documents in corpus:\")\n",
    "\n",
    "j = 1\n",
    "\n",
    "for i in results.argsort()[-10:][::-1]:\n",
    "    print(\"No ID Dokumen  : \", i)\n",
    "    print(\"Tanggal        : \", df_total.iloc[i,1])\n",
    "    print(\"Isi berita     : \", df_total.iloc[i,2])\n",
    "    print(\"(Score: %.4f) \" % results[i])"
   ]
  }
 ],
 "metadata": {
  "kernelspec": {
   "display_name": "Python 3",
   "language": "python",
   "name": "python3"
  },
  "language_info": {
   "codemirror_mode": {
    "name": "ipython",
    "version": 3
   },
   "file_extension": ".py",
   "mimetype": "text/x-python",
   "name": "python",
   "nbconvert_exporter": "python",
   "pygments_lexer": "ipython3",
   "version": "3.9.13 (tags/v3.9.13:6de2ca5, May 17 2022, 16:36:42) [MSC v.1929 64 bit (AMD64)]"
  },
  "vscode": {
   "interpreter": {
    "hash": "52634da84371cba311ea128a5ea7cdc41ff074b781779e754b270ff9f8153cee"
   }
  }
 },
 "nbformat": 4,
 "nbformat_minor": 2
}
