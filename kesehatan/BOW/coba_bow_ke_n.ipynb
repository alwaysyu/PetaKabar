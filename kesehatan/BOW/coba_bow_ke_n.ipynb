{
 "cells": [
  {
   "cell_type": "code",
   "execution_count": 1,
   "metadata": {},
   "outputs": [],
   "source": [
    "import gensim\n",
    "# import pandas as pd\n",
    "import csv"
   ]
  },
  {
   "cell_type": "code",
   "execution_count": 2,
   "metadata": {},
   "outputs": [],
   "source": [
    "path = './model/idwiki_word2vec_200_new_lower.model'\n",
    "id_w2v = gensim.models.word2vec.Word2Vec.load(path)"
   ]
  },
  {
   "cell_type": "code",
   "execution_count": 3,
   "metadata": {},
   "outputs": [
    {
     "name": "stdout",
     "output_type": "stream",
     "text": [
      "stroke\n",
      "bow_stroke.csv\n"
     ]
    }
   ],
   "source": [
    "# coba passing variabel\n",
    "kata_bow = 'stroke'\n",
    "fullpathcsv = \"bow_\" + str(kata_bow) + \".csv\"\n",
    "print(kata_bow)\n",
    "print(fullpathcsv)"
   ]
  },
  {
   "cell_type": "code",
   "execution_count": 4,
   "metadata": {},
   "outputs": [],
   "source": [
    "def nextproses(kata):\n",
    "    tes = id_w2v.wv.most_similar(kata)\n",
    "    arr = []\n",
    "\n",
    "    for x in range(len(tes)):\n",
    "        arr.append(tes[x][0])\n",
    "\n",
    "    return(arr)"
   ]
  },
  {
   "cell_type": "code",
   "execution_count": 6,
   "metadata": {},
   "outputs": [],
   "source": [
    "def similar(kata, proseske):\n",
    "    tes = id_w2v.wv.most_similar(kata)\n",
    "    arr = []\n",
    "\n",
    "    # proses masukin ke csv\n",
    "    # ganti nama file csv sesuai kata yang diinginkan -> bow_[kata].csv\n",
    "    f = open(fullpathcsv, 'a', encoding='UTF8', newline='')\n",
    "    for x in range(len(tes)):\n",
    "        arr.append(tes[x][0])\n",
    "    writer = csv.writer(f)\n",
    "    writer.writerow([str(proseske), kata, tes])\n",
    "    f.close()\n",
    "    return(arr)"
   ]
  },
  {
   "cell_type": "code",
   "execution_count": 7,
   "metadata": {},
   "outputs": [],
   "source": [
    "def tree(arr, proseske):\n",
    "    hasil = []\n",
    "    for x in range(len(arr)):\n",
    "        for y in range(10):\n",
    "            tes = similar(arr[x][y], proseske)\n",
    "            hasil.append(tes)\n",
    "    return(hasil)"
   ]
  },
  {
   "cell_type": "code",
   "execution_count": 8,
   "metadata": {},
   "outputs": [
    {
     "name": "stdout",
     "output_type": "stream",
     "text": [
      "2\n",
      "3\n"
     ]
    }
   ],
   "source": [
    "if __name__ == \"__main__\":\n",
    "\n",
    "    path = './model/idwiki_word2vec_200_new_lower.model'\n",
    "    id_w2v = gensim.models.word2vec.Word2Vec.load(path)\n",
    "\n",
    "\n",
    "    # ganti nama file csv sesuai kata yang diinginkan -> bow_[kata].csv\n",
    "    f = open(fullpathcsv, 'w', encoding='UTF8',)\n",
    "\n",
    "    writer = csv.writer(f)\n",
    "    writer.writerow(['tingkat setelah parent', 'parent', 'similarity'])\n",
    "\n",
    "    f.close()\n",
    "\n",
    "    x = 1\n",
    "    \n",
    "    # masukan nama kedalam fungsi sesuai kata yang diinginkan -> ('[kata]',x)\n",
    "    tes = similar(kata_bow, x)\n",
    "    data = []\n",
    "    data.append(tes)\n",
    "    # ini ingin mulai proses dari angka/kedalaman tree brp\n",
    "    while(True):\n",
    "        # ini mau sampe proses ke berapa di looping\n",
    "        if(x < 3):\n",
    "            x = x+1\n",
    "            coba = tree(data, x)\n",
    "            data = coba\n",
    "            print(x)\n",
    "            continue\n",
    "        else:\n",
    "            break"
   ]
  }
 ],
 "metadata": {
  "interpreter": {
   "hash": "84eb232df0a9bd03f9a0dd47d6dabe2d378954d9d6b24e66e1f625bbf776c05d"
  },
  "kernelspec": {
   "display_name": "Python 3.9.12 ('venv': venv)",
   "language": "python",
   "name": "python3"
  },
  "language_info": {
   "codemirror_mode": {
    "name": "ipython",
    "version": 3
   },
   "file_extension": ".py",
   "mimetype": "text/x-python",
   "name": "python",
   "nbconvert_exporter": "python",
   "pygments_lexer": "ipython3",
   "version": "3.9.10"
  }
 },
 "nbformat": 4,
 "nbformat_minor": 2
}
