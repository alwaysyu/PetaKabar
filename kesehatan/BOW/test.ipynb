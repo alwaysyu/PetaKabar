{
 "cells": [
  {
   "cell_type": "code",
   "execution_count": 28,
   "metadata": {},
   "outputs": [],
   "source": [
    "import gensim\n",
    "\n",
    "path = './model/idwiki_word2vec_200_new_lower.model'\n",
    "id_w2v = gensim.models.word2vec.Word2Vec.load(path)"
   ]
  }
 ],
 "metadata": {
  "interpreter": {
   "hash": "9edd833fa711e2ec3d5e99df1806bd44b10331ea4c560c3c2380873f5493bb3f"
  },
  "kernelspec": {
   "display_name": "Python 3.10.2 64-bit",
   "language": "python",
   "name": "python3"
  },
  "language_info": {
   "codemirror_mode": {
    "name": "ipython",
    "version": 3
   },
   "file_extension": ".py",
   "mimetype": "text/x-python",
   "name": "python",
   "nbconvert_exporter": "python",
   "pygments_lexer": "ipython3",
   "version": "3.9.10"
  },
  "orig_nbformat": 4
 },
 "nbformat": 4,
 "nbformat_minor": 2
}
