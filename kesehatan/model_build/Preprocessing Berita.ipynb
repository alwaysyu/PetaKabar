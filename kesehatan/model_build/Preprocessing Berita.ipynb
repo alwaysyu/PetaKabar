{
 "cells": [
  {
   "cell_type": "code",
   "execution_count": 1,
   "metadata": {},
   "outputs": [
    {
     "name": "stderr",
     "output_type": "stream",
     "text": [
      "[nltk_data] Downloading package stopwords to\n",
      "[nltk_data]     C:\\Users\\RayRoyy\\AppData\\Roaming\\nltk_data...\n",
      "[nltk_data]   Package stopwords is already up-to-date!\n"
     ]
    }
   ],
   "source": [
    "# Import library-library\n",
    "import os\n",
    "import glob\n",
    "import string\n",
    "\n",
    "# Data Preparation and Preprocessing\n",
    "import pandas as pd\n",
    "import re\n",
    "import nltk\n",
    "nltk.download('stopwords')\n",
    "from nltk.corpus import stopwords\n",
    "\n",
    "# Word Embedding\n",
    "import joblib\n",
    "from sklearn.feature_extraction.text import TfidfVectorizer\n",
    "import scipy.sparse\n",
    "\n",
    "from sklearn.metrics.pairwise import cosine_similarity\n",
    "\n",
    "# Input and Expansion Query\n",
    "from textblob import TextBlob\n",
    "from nltk.tokenize import wordpunct_tokenize\n",
    "#from googletrans import Translator\n",
    "\n",
    "#Split to train and test\n",
    "from sklearn.model_selection import train_test_split\n",
    "\n",
    "import mysql.connector\n",
    "from mysql.connector import errorcode"
   ]
  },
  {
   "cell_type": "code",
   "execution_count": 2,
   "metadata": {},
   "outputs": [],
   "source": [
    "excluded_words = [\"tempat\", \"waktu\"]\n",
    "\n",
    "NLTK_StopWords = stopwords.words('indonesian')\n",
    "NLTK_StopWords.extend([\"detik\", \"detikjatim\", \"detikjateng\", \"detikjabar\", \"detiksulsel\", \"detiksumbar\", \"detikbali\", \"detikpapua\", \"detiksulteng\", \"detikmaluku\", \"detjatim\", \"detikcom\", \"allahumma\", \"aamiin\", \"aamiin\", \"allah\", \"bismillah\"])\n",
    "NLTK_StopWords.extend([\"yg\", \"dg\", \"rt\", \"dgn\", \"ny\", \"d\", 'klo', \n",
    "                       'kalo', 'amp', 'biar', 'bikin', 'bilang', \n",
    "                       'gak', 'ga', 'krn', 'nya', 'nih', 'sih', \n",
    "                       'si', 'tau', 'tdk', 'tuh', 'utk', 'ya', \n",
    "                       'jd', 'jgn', 'sdh', 'aja', 'n', 't', \n",
    "                       'nyg', 'hehe', 'pen', 'u', 'nan', 'loh', 'rt',\n",
    "                       '&amp', 'yah'])\n",
    "txt_stopword = pd.read_csv(\"stopwords.txt\", names= [\"stopwords\"], header = None)\n",
    "\n",
    "# convert stopword string to list & append additional stopword\n",
    "NLTK_StopWords.extend(txt_stopword[\"stopwords\"][0].split(' '))\n",
    "NLTK_StopWords = set(NLTK_StopWords)"
   ]
  },
  {
   "cell_type": "code",
   "execution_count": 3,
   "metadata": {},
   "outputs": [],
   "source": [
    "def preprocessing(berita):\n",
    "    # Preprocessing\n",
    "    s = str(berita)\n",
    "    s = s.lower()\n",
    "    s = s.replace('\\n', ' ')\n",
    "    s = s.replace('\\r', ' ')\n",
    "    s = re.sub(r'[^a-zA-Z0-9\\s]', ' ', s)\n",
    "    tokens = [token for token in s.split(\" \") if token != \"\"]\n",
    "\n",
    "    # Stopwords checking\n",
    "    T = [t for t in tokens if ((t in excluded_words) or (t not in NLTK_StopWords))]\n",
    "    return T"
   ]
  },
  {
   "cell_type": "code",
   "execution_count": 4,
   "metadata": {},
   "outputs": [],
   "source": [
    "# df =pd.read_csv(\"news.csv\")\n",
    "# df.info()\n",
    "# df.head()\n",
    "dataframe = []\n",
    "\n",
    "try:\n",
    "        cnx = mysql.connector.connect(user = 'root', password='Password', database = 'Petakabar')\n",
    "        cursor = cnx.cursor()\n",
    "\n",
    "        ambildata = (\"SELECT berita_title, berita_date, berita_desc, berita_source FROM berita where berita_topik_id = 4 and class_classification is not null\")\n",
    "        cursor.execute(ambildata)\n",
    "        dataa = cursor.fetchall()\n",
    "        for row in dataa:\n",
    "            dataframe.append(row)\n",
    "        \n",
    "except mysql.connector.Error as err:\n",
    "        if err.errno == errorcode.ER_ACCESS_DENIED_ERROR:\n",
    "            print(\"Something is wrong with your user name or password\")\n",
    "        elif err.errno == errorcode.ER_BAD_DB_ERROR:\n",
    "            print(\"Database does not exist\")\n",
    "        else:\n",
    "            print(err)\n",
    "else:\n",
    "    cursor.close()\n",
    "    cnx.close()"
   ]
  },
  {
   "cell_type": "code",
   "execution_count": 5,
   "metadata": {},
   "outputs": [],
   "source": [
    "import pandas as pd\n",
    "writer = pd.DataFrame(dataframe, columns=[\n",
    "                    'Title','Date','Description', 'Source'], index=None)\n",
    "writer.to_csv('news.csv', index=False, sep=',')"
   ]
  },
  {
   "cell_type": "code",
   "execution_count": 6,
   "metadata": {},
   "outputs": [
    {
     "name": "stdout",
     "output_type": "stream",
     "text": [
      "<class 'pandas.core.frame.DataFrame'>\n",
      "RangeIndex: 1223 entries, 0 to 1222\n",
      "Data columns (total 4 columns):\n",
      " #   Column       Non-Null Count  Dtype \n",
      "---  ------       --------------  ----- \n",
      " 0   Title        1223 non-null   object\n",
      " 1   Date         1223 non-null   object\n",
      " 2   Description  1223 non-null   object\n",
      " 3   Source       1223 non-null   object\n",
      "dtypes: object(4)\n",
      "memory usage: 38.3+ KB\n"
     ]
    },
    {
     "data": {
      "text/html": [
       "<div>\n",
       "<style scoped>\n",
       "    .dataframe tbody tr th:only-of-type {\n",
       "        vertical-align: middle;\n",
       "    }\n",
       "\n",
       "    .dataframe tbody tr th {\n",
       "        vertical-align: top;\n",
       "    }\n",
       "\n",
       "    .dataframe thead th {\n",
       "        text-align: right;\n",
       "    }\n",
       "</style>\n",
       "<table border=\"1\" class=\"dataframe\">\n",
       "  <thead>\n",
       "    <tr style=\"text-align: right;\">\n",
       "      <th></th>\n",
       "      <th>Title</th>\n",
       "      <th>Date</th>\n",
       "      <th>Description</th>\n",
       "      <th>Source</th>\n",
       "    </tr>\n",
       "  </thead>\n",
       "  <tbody>\n",
       "    <tr>\n",
       "      <th>0</th>\n",
       "      <td>Ramalan Zodiak Aries Hari Ini, 2 Desember 2022...</td>\n",
       "      <td>Jumat, 02 Des 2022 08:35 WIB</td>\n",
       "      <td>\\- Simak ramalan zodiak Aries hari ini, 2 Dese...</td>\n",
       "      <td>www.tribunnews.com</td>\n",
       "    </tr>\n",
       "    <tr>\n",
       "      <th>1</th>\n",
       "      <td>Ramalan Zodiak Sagitarius Besok, 6 Desember 20...</td>\n",
       "      <td>Senin, 05 Des 2022 14:55 WIB</td>\n",
       "      <td>\\- Inilah ramalan zodiak Sagitarius untuk beso...</td>\n",
       "      <td>www.tribunnews.com</td>\n",
       "    </tr>\n",
       "    <tr>\n",
       "      <th>2</th>\n",
       "      <td>Ramalan Zodiak Gemini Besok, 29 November 2022:...</td>\n",
       "      <td>Senin, 28 Nov 2022 12:52 WIB</td>\n",
       "      <td>\\- Inilah ramalan zodiak Gemini besok, 29 Nove...</td>\n",
       "      <td>www.tribunnews.com</td>\n",
       "    </tr>\n",
       "    <tr>\n",
       "      <th>3</th>\n",
       "      <td>Lindungi Diri dan Keluarga, Liburan Tanpa Curiga!</td>\n",
       "      <td>Sabtu, 10 Des 2022 05:59 WIB</td>\n",
       "      <td>Liburan akhir tahun menjadi salah satu kesemp...</td>\n",
       "      <td>www.tribunnews.com</td>\n",
       "    </tr>\n",
       "    <tr>\n",
       "      <th>4</th>\n",
       "      <td>Manfaat Jeruk untuk Kesehatan: Turunkan Kolest...</td>\n",
       "      <td>Rabu, 07 Des 2022 13:40 WIB</td>\n",
       "      <td>\\- Inilah sejumlah manfaat jeruk untuk kesehat...</td>\n",
       "      <td>www.tribunnews.com</td>\n",
       "    </tr>\n",
       "  </tbody>\n",
       "</table>\n",
       "</div>"
      ],
      "text/plain": [
       "                                               Title  \\\n",
       "0  Ramalan Zodiak Aries Hari Ini, 2 Desember 2022...   \n",
       "1  Ramalan Zodiak Sagitarius Besok, 6 Desember 20...   \n",
       "2  Ramalan Zodiak Gemini Besok, 29 November 2022:...   \n",
       "3  Lindungi Diri dan Keluarga, Liburan Tanpa Curiga!   \n",
       "4  Manfaat Jeruk untuk Kesehatan: Turunkan Kolest...   \n",
       "\n",
       "                           Date  \\\n",
       "0  Jumat, 02 Des 2022 08:35 WIB   \n",
       "1  Senin, 05 Des 2022 14:55 WIB   \n",
       "2  Senin, 28 Nov 2022 12:52 WIB   \n",
       "3  Sabtu, 10 Des 2022 05:59 WIB   \n",
       "4   Rabu, 07 Des 2022 13:40 WIB   \n",
       "\n",
       "                                         Description              Source  \n",
       "0  \\- Simak ramalan zodiak Aries hari ini, 2 Dese...  www.tribunnews.com  \n",
       "1  \\- Inilah ramalan zodiak Sagitarius untuk beso...  www.tribunnews.com  \n",
       "2  \\- Inilah ramalan zodiak Gemini besok, 29 Nove...  www.tribunnews.com  \n",
       "3   Liburan akhir tahun menjadi salah satu kesemp...  www.tribunnews.com  \n",
       "4  \\- Inilah sejumlah manfaat jeruk untuk kesehat...  www.tribunnews.com  "
      ]
     },
     "execution_count": 6,
     "metadata": {},
     "output_type": "execute_result"
    }
   ],
   "source": [
    "df =pd.read_csv(\"news.csv\")\n",
    "df.info()\n",
    "df.head()"
   ]
  },
  {
   "cell_type": "code",
   "execution_count": 7,
   "metadata": {},
   "outputs": [],
   "source": [
    "column = ['Title', 'Date', 'Description', 'Source']\n",
    "df_total = pd.DataFrame()\n",
    "\n",
    "df = pd.read_csv(\"news.csv\")\n",
    "df = df.dropna(subset=['Description'], axis=0)\n",
    "df.sort_values(\"Description\", inplace = True)\n",
    "df.drop_duplicates(subset =\"Description\", keep = False, inplace = True)\n",
    "\n",
    "df.head()\n",
    "df_train_unprocessed, df_test_unprocessed = train_test_split(df,test_size=0.1)"
   ]
  },
  {
   "cell_type": "code",
   "execution_count": 8,
   "metadata": {},
   "outputs": [
    {
     "data": {
      "text/plain": [
       "1100"
      ]
     },
     "execution_count": 8,
     "metadata": {},
     "output_type": "execute_result"
    }
   ],
   "source": [
    "# df_first_1000 = df.head(1000)\n",
    "# len(df_first_1000)\n",
    "df_train, df_test = train_test_split(df,test_size=0.1)\n",
    "len(df_train)\n"
   ]
  },
  {
   "cell_type": "code",
   "execution_count": 9,
   "metadata": {},
   "outputs": [],
   "source": [
    "df_train.to_csv(\"corpus/df_train_unprerocessed.csv\" , index = None, header=True)\n",
    "df_test.to_csv(\"corpus/df_test_unprerocessed.csv\" , index = None, header=True)"
   ]
  },
  {
   "cell_type": "code",
   "execution_count": 10,
   "metadata": {},
   "outputs": [
    {
     "data": {
      "text/plain": [
       "['corpus/model/desc_text_test_unprocessed.pkl']"
      ]
     },
     "execution_count": 10,
     "metadata": {},
     "output_type": "execute_result"
    }
   ],
   "source": [
    "desc_text_test_unprocessed = []\n",
    "\n",
    "for x in range(0, df_test_unprocessed.shape[0]):\n",
    "  desc_text_test_unprocessed.append(df_test_unprocessed.iloc[x, -2])\n",
    "\n",
    "joblib.dump(desc_text_test_unprocessed, \"corpus/model/desc_text_test_unprocessed.pkl\")"
   ]
  },
  {
   "cell_type": "code",
   "execution_count": 11,
   "metadata": {},
   "outputs": [],
   "source": [
    "# for x in range(0, df.shape[0]):\n",
    "#     text = preprocessing(df.iloc[x, -2])\n",
    "#     df.iloc[x, -2] = (' '.join(text)) \n",
    "\n",
    "desc_text_train_unpreprocessed = []\n",
    "desc_text_test_unpreprocessed = []\n",
    "\n",
    "for x in range(0, df_train.shape[0]):\n",
    "  desc_text_train_unpreprocessed.append(df_train.iloc[x, -2])\n",
    "\n",
    "for x in range(0, df_test.shape[0]):\n",
    "  desc_text_test_unpreprocessed.append(df_test.iloc[x, -2])"
   ]
  },
  {
   "cell_type": "code",
   "execution_count": 12,
   "metadata": {},
   "outputs": [],
   "source": [
    "# Simpan teks asli dokumen\n",
    "joblib.dump(desc_text_test_unpreprocessed, \"corpus/model/desc_text_test_unpreprocessed.pkl\")\n",
    "joblib.dump(desc_text_train_unpreprocessed, \"corpus/model/desc_text_train_unpreprocessed.pkl\")\n",
    "\n",
    "# Simpan dataframe hasil text processing sebelum TF-IDF Vectorizer\n",
    "df.to_csv('corpus/dataset/df_total_unpreprocessed.csv', index=False)\n",
    "df_test.to_csv('corpus/dataset/df_test_unpreprocessed.csv', index=False)\n",
    "df_train.to_csv('corpus/dataset/df_train_unpreprocessed.csv', index=False)\n"
   ]
  },
  {
   "cell_type": "code",
   "execution_count": 13,
   "metadata": {},
   "outputs": [],
   "source": [
    "for x in range(0, df.shape[0]):\n",
    "    text = preprocessing(df.iloc[x, -2])\n",
    "    df.iloc[x, -2] = (' '.join(text)) "
   ]
  },
  {
   "cell_type": "code",
   "execution_count": 14,
   "metadata": {},
   "outputs": [],
   "source": [
    "desc_text_train = []\n",
    "desc_text_test = []\n",
    "\n",
    "for x in range(0, df_train.shape[0]):\n",
    "  desc_text_train.append(df_train.iloc[x, -2])\n",
    "\n",
    "for x in range(0, df_test.shape[0]):\n",
    "  desc_text_test.append(df_test.iloc[x, -2])"
   ]
  },
  {
   "cell_type": "code",
   "execution_count": 15,
   "metadata": {},
   "outputs": [
    {
     "name": "stdout",
     "output_type": "stream",
     "text": [
      "Panjang Dokumen Test :  123\n",
      "------------------------------------------------------------------------------------------\n",
      "Panjang Dokumen Train :  1100\n"
     ]
    }
   ],
   "source": [
    "# print(df_test.info())\n",
    "print(\"Panjang Dokumen Test : \", len(desc_text_test))\n",
    "\n",
    "print ('-'*90)\n",
    "\n",
    "# print(df_train.info())\n",
    "print(\"Panjang Dokumen Train : \", len(desc_text_train))"
   ]
  },
  {
   "cell_type": "code",
   "execution_count": 16,
   "metadata": {},
   "outputs": [],
   "source": [
    "# Simpan teks asli dokumen\n",
    "joblib.dump(desc_text_test, \"corpus/model/desc_text_test.pkl\")\n",
    "joblib.dump(desc_text_train, \"corpus/model/desc_text_train_new.pkl\") #INI\n",
    "\n",
    "# Simpan dataframe hasil text processing sebelum TF-IDF Vectorizer\n",
    "df.to_csv('corpus/dataset/df_total_new.csv', index=False) #INI\n",
    "df_test.to_csv('corpus/dataset/df_test.csv', index=False)\n",
    "df_train.to_csv('corpus/dataset/df_train.csv', index=False)\n"
   ]
  },
  {
   "cell_type": "code",
   "execution_count": 17,
   "metadata": {},
   "outputs": [
    {
     "name": "stdout",
     "output_type": "stream",
     "text": [
      "tfidf_test_matrix\n",
      "(123, 8450)\n",
      "tfidf_train_matrix\n",
      "(1100, 26454)\n"
     ]
    }
   ],
   "source": [
    "# Fit transform menggunakan TF-IDF Vectorizer\n",
    "tfidf_vectorizer = TfidfVectorizer()\n",
    "tfidf_test_matrix = tfidf_vectorizer.fit_transform(desc_text_test)\n",
    "tfidf_train_matrix = tfidf_vectorizer.fit_transform(desc_text_train)\n",
    "\n",
    "print('tfidf_test_matrix')\n",
    "print(tfidf_test_matrix.shape)\n",
    "print('tfidf_train_matrix')\n",
    "print(tfidf_train_matrix.shape)"
   ]
  },
  {
   "cell_type": "code",
   "execution_count": 18,
   "metadata": {},
   "outputs": [
    {
     "data": {
      "text/plain": [
       "['corpus/matrix/tfidf_train_new.pkl']"
      ]
     },
     "execution_count": 18,
     "metadata": {},
     "output_type": "execute_result"
    }
   ],
   "source": [
    "joblib.dump(tfidf_vectorizer, \"corpus/vectorizer/vectorizer_new.pkl\") #INI\n",
    "joblib.dump(tfidf_test_matrix, \"corpus/matrix/tfidf_test.pkl\")\n",
    "joblib.dump(tfidf_train_matrix, \"corpus/matrix/tfidf_train_new.pkl\") #INI"
   ]
  },
  {
   "cell_type": "markdown",
   "metadata": {},
   "source": [
    "### Pencarian "
   ]
  },
  {
   "cell_type": "code",
   "execution_count": 19,
   "metadata": {},
   "outputs": [
    {
     "name": "stdout",
     "output_type": "stream",
     "text": [
      "<class 'pandas.core.frame.DataFrame'>\n",
      "Int64Index: 1223 entries, 0 to 1222\n",
      "Data columns (total 4 columns):\n",
      " #   Column       Non-Null Count  Dtype \n",
      "---  ------       --------------  ----- \n",
      " 0   Title        1223 non-null   object\n",
      " 1   Date         1223 non-null   object\n",
      " 2   Description  1223 non-null   object\n",
      " 3   Source       1223 non-null   object\n",
      "dtypes: object(4)\n",
      "memory usage: 47.8+ KB\n",
      "None\n",
      "------------------------------------------------------------------------------------------\n",
      "123\n",
      "1100\n"
     ]
    }
   ],
   "source": [
    "df_total = pd.read_csv('corpus/dataset/df_total_new.csv')\n",
    "df_total = df_total[pd.notnull(df_total['Description'])]\n",
    "print(df_total.info())\n",
    "print ('-'*90)\n",
    "\n",
    "document_text_train= joblib.load('corpus/model/desc_text_train_new.pkl')\n",
    "document_text_test= joblib.load('corpus/model/desc_text_test.pkl')\n",
    "print(len(document_text_test))\n",
    "print(len(document_text_train))"
   ]
  },
  {
   "cell_type": "code",
   "execution_count": 22,
   "metadata": {},
   "outputs": [
    {
     "name": "stdout",
     "output_type": "stream",
     "text": [
      "['penyakit']\n",
      "\n",
      "======================\n",
      "\n",
      "Top 10 most similar documents in corpus:\n",
      "No ID Dokumen  :  234\n",
      "Tanggal        :  Jumat, 09 Des 2022 10:41 WIB\n",
      "Isi berita     :  penumpang bernama andari menuliskan pesan menyentuh pengalamannya kereta rel listrik krl depok waktu cerita dibenarkan vice president corporate secretary kai commuter erni sylviane purba erni sylviane purba cerita anne dikonfirmasi kompas com jumat 9 12 2022 kendati anne peristiwa detail keterangan resmi perusahaan pesan andari menuliskan pesan terima kasih kereta commuter indonesia layanan sepenuh hati andari mengaku mengalami sakit kepala foto foto siang berbaring krl depok andari tulis andari pesan berjejaring diterima kompas com dikutip jumat 9 12 2022 pesan andari mengaku berkisah berkisah layanan kereta commuter indonesia kci menyentuh hati siang andari pulang rumah sakit cipto mangunkusumo rscm salemba jakart pusat tindakan medis penyakit derita stasiun cikini andari merasakan nyeri hebat muncul kepala kanan andari membawa bantal pagi berbaring bangku rscm ketakutan terjatuh pingsan jalan menghantui perjalanan andari menyadari krl sakit kereta suami izin satpam berbaring meredakan nyeri tulis andari andari satpam bertugas mustahila menyentuh hati satpam mengizinkan membimbing andari bangku prioritas santun turun dimana siapkan kursi roda stasiun tujuan pernyataan penumpang komplain bu tulis andari menirukan perkataan petugas andari mustahila tempat tugasnya mustahila perhatian berkat mustahila andari nyaman berbaring stasiun cikini stasiun tanjung barat turun stasium andari petugas membantu turun denga aman tugasnya kerjakan hatinya melayani customer lemah menderita etos andari peristiwa andari bangsa memiliki hati butuh perhatian bangsa tumbuh jejak andari terima kasih kci mengembangkan etos terima kasih membantu aman sehat terima kasih mustahila terima kasih indonesia tutup andari\n",
      "(Score: 0.4314) \n",
      "No ID Dokumen  :  237\n",
      "Tanggal        :  Jumat, 09 Des 2022 18:06 WIB\n",
      "Isi berita     :  tim ahli forensik menemukan kelainan susunan jaringan payudara jasad renny margaretha gunawan 68 salah anggota keluarga ditemukan membusuk sekeluarga kalideres jakarta barat periksa jaringan payudara temukan kelainan susunan payudara mengarah kondisi keganasan benjolan berakibat fatal dokter forensik rscm adi firmansyah polda metro jaya jumat 9 12 2022 pemeriksaan berdasarkan temuan kandungan obat kanker payudara organ renny organ hepar renny ditemukan tamoksifen obat kanker payudara kabid kimia biologi forensik puslabfor bareskrim polri kombes wahyu marsudi jasad renny petugas menemukan kandungan cairan kediaman keluarga renny komplek citra garden 1 exstension tkp temukan cairan bening terdeteksi mengandung tamoksifen wahyu tamoksifen berdampak menduga keterkaitan kematian renny tim forensik mencari efek tamoksifen tubuh renny ditemukan tamoksifen mencari efek serius tamoksifen mengakibatkan pengentalan darah sistemik adi hasilnya ahli menemukan efek serius organ tubuh renny menyebabkan kematian ditemukan gambaran efek serius organ jantung usus tamoksifen petunjuk pengobatan mengobati kanker payudara efek pencegahan sakit kanker payudara berdasarkan temuan obat kanker payudara dikonsumsi tim ahli psikologi forensik renny berusaha menjaga kesehatan mengerdilkan tewas akibat bunuh bunuh tipologi kepribadian renny bunuh samping renny upaya antisipasi menjaga kesehatan mengonsumsi obat ketua asosiasi psikolog forensik indonesia reni kusumowardhani\n",
      "(Score: 0.3395) \n",
      "No ID Dokumen  :  859\n",
      "Tanggal        :  Minggu, 11 Des 2022 20:12 WIB\n",
      "Isi berita     :  tua nama indah anak keharusan kumpulan nama bayi perempuan qur berawalan huruf inspirasi qur petunjuk umat muslim menjalani kehidupan qur nama inspirasi nama nama bayi perempuan qur memiliki makna disesuaikan doa harapan orangtua nama bayi perempuan qur berawalan huruf memiliki beragam makna indah daftar nama nama bayi perempuan qur berawalan huruf referensi 1 aabida menyembah 2 aabira anak perempuan menafsirkan mimpi buku advertisement 3 adila bertindak keadilan 4 aafa pemaaf pengampun 5 aafaq cakrawala 6 aafiya kesehatan bebas penyakit 7 aakifah wanita menjauh mengabdikan 8 alifa hati penyayang ramah 9 terimalah doa 10 aamira makmur penuh kehidupan 11 aaneseh wanita berbudi luhur 12 aaqilah bijak cerdas 13 aaraf ketinggian 14 aaribah pemenang 15 aarifa diberkahi ilmu 16 aasira memikat 17 aatifah penyayang simpatik 18 aatiq bebas 19 aatiya pemberi 20 aayun nama bayi perempuan quran awalan 21 abaasa singa betina 22 abdaar purnama 23 abdiya pelayan 24 abeira parfum 25 absar wawasan ketajaman 26 abudah berbakti tuhan 27 abyan fasih 28 adeela bertindak keadilan 29 adeena taat 30 adlea adil 31 adn tempat kebahagiaan abadi 32 aeni asli murni 33 afana suci berbudi luhur sederhana 34 afeen memaafkan 35 afifa suci sederhana 36 afiyat kesehatan 37 afraa putih cantik 38 afrah anak perempuan kegembiraan kebahagiaan kegembiraan 39 afsah fasih 40 aghla sayang nama bayi perempuan quran awalan 41 ahbab terkasih 42 ahd kepercayaan perjanjian 43 ahdia wanita menepati janjinya 44 ahlaam mimpi 45 ahmaraan emas 46 ain air mancur air 47 aisha hidup sejahtera bahagia 48 ajaar hadiah 49 ajab takjub 50 ajaweed kemurahan hati tindakan kebaikan 51 ajeeb menakjubkan 52 ala berkah nikmat keajaiban 53 alamafruz pencerahan dunia 54 alamara percantik dunia 55 alaya kebesaran keagungan 56 aleefa hati penyayang ramah 57 aleema berpengetahuan intelektual 58 aleena lembut halus 59 alia nama alquran anak perempuan 60 allamah berpengetahuan diberkahi 61 altaaf kelembutan 62 aludra perawan 63 alwan warna 64 alyaanah hebat pangkat status 65 amaal harapan 66 amanullah kedamaian tuhan perlindungan tuhan 67 ameena dipercaya iman kuat 68 amira pemimpin kepala komandan 69 amlahan embun 70 ammuna dipercaya setia 71 ammura cantik tercinta menawan 72 amnati harapanku 73 amnian aman 74 amsal terbaik 75 amyali berambisi 76 ana mencapai kedewasaan penuh 77 anar bercahaya 78 anasa ketenangan kedamaian pikiran 79 anasiya ramah penyayang 80 anaya perlindungan ketekunan nama bayi perempuan quran awalan 81 aneesa ramah lembut 82 anfa harga martabat 83 aniyah peduli penyayang 84 anjam bintang 85 anoud berkemauan keras pintar populer 86 anum berkah tuhan nikmat tuhan 87 aqeelah bijaksana cerdas 88 areebah bijaksana cerdas 89 arubiyyah fasih 90 arz gunung 91 asfiya murni 92 asma agung 93 asna bersinar mempesona 94 ataya hadiah penganugerahan 95 ateeqa mulia 96 ayusha hidup 97 ayyubia nabi ayyub kesabaran 98 azayiz kuat dihormati 99 azbah segar manis 100 azeema tekad keteguhan hati keteguhan nama bayi perempuan quran awalan referensi nama manakah favoritmu gambas video 20detik\n",
      "(Score: 0.2882) \n",
      "No ID Dokumen  :  247\n",
      "Tanggal        :  Rabu, 30 Nov 2022 05:31 WIB\n",
      "Isi berita     :  pasangan suami istri saking banyaknya ahli kesehatan menyarankan buang air bercinta dibilang wajib wanita mengalami risiko infeksi saluran kemih dilansir selasa 29 11 2022 melansir sun penelitian 2 5 riwayat cedera seksual mengalami infeksi saluran kemih pakar seks australia chantelle otten wanita signifikan mengurangi risiko infeksi saluran kemih terbiasa buang air bercinta buang air alami membuang bakteri penyebab infeksi uretra berbeda wanita pria disarankan menunggu 15 menit penetrasi buang air disarankan pakar kesehatan pria memiliki uretra dibandingkan wanita gejala muncul terinfeksi saluran kemih nyeri kandung kemih demam sertadan badan buang air buang air dibarengi urine berbau sedap berwarna keruh mencegah baiknya toilet buang air bercinta menghindari infeksi menjaga area intim bersih sehat gambas video 20detik\n",
      "(Score: 0.2506) \n",
      "No ID Dokumen  :  532\n",
      "Tanggal        :  Kamis, 22 Des 2022 10:39 WIB\n",
      "Isi berita     :  kepala dinas perhubungan dishub dki jakarta syafrin liputo kenaikan penumpang angkutan natal syafrin memprediksi puncak kenaikan penumpang prediksi peningkatan 3 pelaksanaan angkutan natal syafrin stasiun gambir jakarta pusat kamis 22 12 2022 syafrin memantau terminal jakarta menyebut kenaikan penumpang mencapai 100 persen penumpang jakarta pemantauan kemarin kenaikan 23 persen tertinggi kenaikan 100 persen syafrin contohnya terminal kampung rambutan penumpangnya 800 kemarin mencapai 1 600 penumpang kenaikan penumpang sambungnya syafrin kenaikan penumpang signifikan terminal kalideres kenaikan lipat kemarin memantau terminal kalideres peningkatan penumpang signifikan 300 penumpang kemarin mencapai 600 penumpang masyarakat mobilitas angkutan antarkota paralel libur anak sekolah imbuhnya dishub dki cek persiapan angkutan bus kepala dinas perhubungan dishub dki jakarta syafrin liputo persiapan menjelang natal syafrin salah satunya mengecek pengemudi bus penyiapannya berkoordinasi rekan rekan badan pengawas transportasi jabodetabek dilaksanakan ramp check desember kemarin syafrin stasiun gambir jakarta pusat kamis 22 12 2022 paralel terminal ramp check pemeriksaan kesehatan awak angkutannya memenuhi syarat dilarang berangkat dikirimkan pengganti pengemudi operator bersangkutan sambungnya syafrin menyebut hasil pengecekan temuan pengemudi penuhi syarat pengemudi ditemukan terminal kalideres pengecekan pengemudi temuan contohnya kemarin waktu peninjauan terminal kalideres ditemukan pramudi memenuhi syarat syafrin syafrin hasil pengecekan pengemudi memiliki tekanan darah pengemudi diganti sisi hasil pengecekan tekanan darahnya 180 200 kasatpol terminal kalideres stop pemberhentian bersangkutan kegiatan mengemudi dikirimkan pengganti pengemudi perusahaan angkutan bersangkutan imbuhnya gambas video 20detik\n",
      "(Score: 0.2367) \n",
      "No ID Dokumen  :  905\n",
      "Tanggal        :  Senin, 05 Des 2022 05:20 WIB\n",
      "Isi berita     :  pastikan berlaku surat izin mengemudi sim warga bali memperpanjang berlaku sim datangi lokasi layanan sim keliling tabanan senin 5 desember 2022 layanan sim keliling bali diakses sesuai jadwal ketentuan berlaku kelewatan simak jadwal lokasi sim keliling tabanan senin 5 desember 2022 layanan sim keliling malam minggu informasi laman korlantas polri perpanjangan berlaku sim sim mengunjungi satpas pelayanan sim keliling lokasi pepito buwit tabanan waktu pelayanan 08 00 12 00 wita sim keliling melayani permohonan perpanjangan sim perpanjangan sim berlaku habis berlaku sim habis diberlakukan penerbitan sim biaya perpanjangan sim rp 80 000 perpanjangan sim rp 75 000 tertuang nomor 60 2016 penerimaan negara pajak 1 foto kopi ktp berlaku 2 foto kopi sim sim asli 3 bukti cek kesehatan 4 bukti tes psikologi mengemudikan kendaraan jalan raya wajib mengantongi surat izin mengemudi sesuai sesuai kendaraan dikemudikan pengendara memiliki sim diatur pasal 281 semoga informasi pelayanan sim keliling bali bermanfaat membutuhkan catat waktu lokasinya ketinggalan manfaatkan layanan sim keliling tabanan baiknya gambas video 20detik\n",
      "(Score: 0.2015) \n",
      "No ID Dokumen  :  204\n",
      "Tanggal        :  Jumat, 23 Des 2022 14:55 WIB\n",
      "Isi berita     :  pemerintah dikabarkan menghentikan operasional rumah sakit darurat covid 19 rsdc wisma atlet kemayoran 31 desember 2022 kabar mencuat gambar surat ditandatangani kepala badan nasional penanggulangan bencana bnpb letjen tni suharyanto tersebar media sosial surat bernomor 404 bnpb 01 02 11 2022 perihal penghentian operasional rsdc wisma atlet kemayoran surat tertulis operasional rsdc wisma atlet kemayoran dihentikan operasional rsdc wisma atlet kemayoran dihentikan operasionalnya tanggal 31 desember 2022 isi surat kendati bangunan 10 menara saksi bisu perjuangan tenaga kesehatan merawat pasien covid 19 penjelasan satgas dikonfirmasi juru bicara satgas penanganan covid 19 prof wiku adisasmito gamblang kabar penutupan wisma atlet tempat karantina pasien covid 19 wiku mengakui pengurangan fasilitas disediakan seiring melandainya covid 19 penyesuaian fasilitas bertahap 2022 satgas covid 19 memfungsikan tower rsdc kapasitas 1 651 bed wiku jumat 23 12 2022 tujuh tower rsdc wisma atlet kemayoran dibuka kesiagaan penanganan covid 19 tower pasien tower 6 fasilitas dipakai kondisi standby siaga wiku rsdc wisma atlet tulang punggung perawatan covid 19 wisma atlet diperuntukkan atlet pesta olahraga asia asian games 2018 pandemi covid 19 indonesia sepuluh menara kawasan wisma atlet kemayoran dialihfungsikan rumah sakit lapangan darurat 18 maret 2020 kementerian keuangan menetapkan kawasan wisma atlet tempat isolasi pasien gejala ringan penyakit covid 19 renovasi ruangan rumah sakit darurat menara wisma atlet 23 maret kapasitas 3 000 ranjang rumah sakit darurat salah terbesar dunia rangka penanganan pasien terkait pandemi koronavirus nakes berguguran ilustrasi tenaga kesehatan nakes tenaga medis pekerja medis garda penanganan covid 19 https asset kompas com crops 4kafhewjnt8dr4nvh1whfqmnypo 139x134 939x667 750x500 data photo 2020 09 04 5f51f4569a61d jpg shutterstock eldar nurkovic ilustrasi tenaga kesehatan nakes tenaga medis pekerja medis garda penanganan covid 19 rsdc tenaga dilaporkan berguguran mengemban tugas merawat pasien covid 19 wisma atlet liza putri noviana tenaga kesehatan nakes meninggal dunia akibat terpapar covid 19 bertugas wisma atlet kamis 24 6 2022 liza instalasi gawat darurat igd rsdc wisma atlet 3 juni 2021 kondisinya menurun turunnya angka saturasi oksigen demam sesak napas batuk berdahak mendiang liza dirawat ruangan hcu icu ventilator dirujuk rsdc wisma atlet rsu persahabatan 8 juni 2021 situ bayu aji purnama meninggal minggu 29 8 2021 bayu tertular covid 19 kondisinya memburuk menjalani rawat inap bayu bergabung tenaga medis rs wisma atlet juni 2021 meninggal usia muda 21 tiur octavia tenaga kesehatan nakes rsdc wisma atlet kemayoran meninggal infeksi paru paru tertular kematiannya berkaitan covid 19 tinggalkan kesan relawan relawan memiliki peranan penanganan covid 19 indonesia jabodetabek relawan membantu pasien penanganan terkait covid 19 rsdc wisma atlet pengalaman relawan medis rumah sakit darurat covid 19 wisma atlet kemayoran jakarta meninggal kesan ingatan salah satunya steven stallone august berangkat surabaya jawa timur steven mengaku gentar ketakutannya pudar sadar pengalaman penanganan wabah internasional gentar mendaftarkan alasan kemanusiaan menambah pengalaman membuktikan tua pengalaman salahnya coba maju sehari tugasnya memonitor tes swab pasien high unit hcu rsd wisma atlet monitor tanda tanda vital pasien keluhan keluhannya penyakitnya pemeriksaan laboratorium lengkap pemeriksaan swab sekian relawan salah terlibat pandemi debryna dewi lumanauw debryna berkisah minggu minggu pandemi covid 19 indonesia keadaannya chaos debryna rekan rekan relawan medis wisma atlet kemayoran menyangka angka covid 19 melonjak signifikan debryna alat plindung apd kerap rusak persediaan terbatas pandemi relawan medis memutar otak menghemat apd menyurutkan semangat debryna tim relawan berjuang garda terdepan salah menguatkan debryna berjuang dukungan tenaga medis perempuan tim perempuan memiliki support system kuat berkomunikasi curhat debryna melandai berdasarkan situs corona jakarta id pasien covid 19 jakarta melandai 22 desember 2022 penambahan harian jakarta tercatat 303 angka rendah dibandingkan 16 november tercatat 3 668 tren penurunan terpantau konsisten desember 2022 pasien dirawat 100 rsdc wisma atlet sabtu 3 12 2022 pasien dirawat 66 sebulan pasien covid 19 dirawat rumah sakit darurat covid 19 rsdc wisma atlet kemayoran 34 rabu 9 11 2022 koordinator humas rsdc wisma atlet kemayoran mintoro sumego tingkat keterisian tempat tidur bed occupancy ratio bor rsdc wisma atlet kemayoran 0 89 persen 3 801 tempat tidur tersedia selasa 30 8 2022 pasien covid 19 dirawat rsdc wisma atlet 89 bor rsdc wisma atlet kemayoran 2 34 persen\n",
      "(Score: 0.1984) \n",
      "No ID Dokumen  :  32\n",
      "Tanggal        :  Jumat, 16 Des 2022 09:51 WIB\n",
      "Isi berita     :  kepala badan pengawas obat makanan bpom penny kusumastuti lukito berkomentar kesiapan menghadapi gugatan gagal ginjal akut ptun cuek enggan tanggapan wartawan penny acara kemenkumham kampus poltekip poltekim tangerang kamis 15 desember 2022 penny perkembangan gugatan ptun bpom senyuman mobil berbicara terkait gugatan penny ketua komunitas konsumen indonesia kki david tobing mengajukan gugatan perbuatan melawan hukum penguasa bpom ptun 11 november 2022 mengaku petitum majelis hakim bpom ri perbuatan melawan hukum penguasa majelis hakim menghukum bpom ri pengujian obat sirup izin edar majelis hakim menghukum bpom ri maaf konsumen masyarakat indonesia gugatan diajukan bpom dinilai pembohongan publik beralasan digugat perbuatan melawan hukum penguasa menguji sirup obat 19 oktober 2022 bpom ri mengumumkan 5 obat memiliki kandungan cemaran eg deg 21 oktober bpom ri merevisi obat dinyatakan tercemar david keterangan tertulis 14 november 2022 22 oktober bpom mengumumkan 133 obat dinyatakan tercemar 27 oktober bpom ri menambah 65 obat total 198 obat tercemar eg deg pengumuman bpom 6 november bpom 14 obat sirop 198 obat sirop tercemar eg deg konsumen masyakat indonesia dipermainkan tindakan membahayakan bpom kewajiban hukumnya mengawasi peredaran sirop obat david alasan ketiga tindakan bpom mengawasi obat sirop tergesa gesa tindakan bpom melimpahkan pengujian obat sirop industri farmasi pelanggaran asas pemeringahan asas profesionalitas badan publik bpom tugas wewenang menguji diserahkan industri farmasi muh raihan muzakki hamdan cholifudin ismail\n",
      "(Score: 0.1981) \n",
      "No ID Dokumen  :  610\n",
      "Tanggal        :  Rabu, 30 Nov 2022 22:47 WIB\n",
      "Isi berita     :  mantan pegawai honorer rsd soebandi jember idd ditahan kejaksaan negeri jember perempuan warga perumahan bintoro garden hill kecamatan patrang diduga penyelewengan pengelolaan obat rsd soebandi kepala kejari jember nyoman sucitrawan tersangka staf administrasi depo farmasi rawat jalan rumah sakit tersangka memiliki kewenangan memasukkan data pasien menu penjualan pasien bpjs kesehatan tersangka menyalahgunakan kewenangan memasukkan data pasien bpjs kesehatan obat menjualnya tindakan mengakibatkan rsd soebandi mengajukan klaim bpjs kesehatan tersangka kewenangannya mengeluarkan obat 2016 2021 sucitrawan rabu 30 11 2022 perbuatan tersangka menyebabkan kerugian negara mencapai rp 355 149 798 sambungnya sucitrawan idd ditahan rutan klas iia jember penyidik menjerat idd pasal 2 ayat 1 pasal 18 uu ri 31 1999 pemberantasan tindak pidana korupsi diubah uu ri 20 2001 perubahan uu ri 31 1999 pemberantasan tindak pidana korupsi subsidair pasal 3 pasal 28 uu ri 31 1999 pemberantasan tindak pidana korupsi diubah uu ri 20 2001 perubahan uu ri 31 1999 pemberantasan tindak pidana korupsi terang sucitrawan ancaman hukumannya minimal 4 maksimal 20 denda minimal rp 200 juta rp 1 miliar imbuhnya gambas video 20detik\n",
      "(Score: 0.1824) \n",
      "No ID Dokumen  :  216\n",
      "Tanggal        :  Jumat, 23 Des 2022 16:17 WIB\n",
      "Isi berita     :  perlindungan spesifik hak kesehatan pekerja perempuan indonesia dikawal momentum positif terkait ruu kesehatan anak disahkan pemerintah peneliti health collaborative center hcc ray wagiu basrowi mkk ruu kia angin segar perlindungan hak kesehatan pekerja perempuan ruu memiliki tantangan penerapannya terkait usulan kebijakan cuti melahirkan 6 dukungan menyusui tempat pemilik usaha bereaksi potensi beban pembiayaan tambahan terkait cuti melahirkan dimitigasi ilmiah komunikasi berbasis ilmiah ray temu media jakarta jumat 23 12 2022 hcc sendri penelitian menemukan fakta cuti melahirkan 6 investasi berdasarkan penelitian departemen kedokteran fkui membuktikan cuti melahirkan 6 berhubungan positif produktivitas buruh perempuan cost pemilik tempat justifikasi praktis berbukti klinis berdasarkan real evidence ray pengajar kedokteran fkui chief editor indonesian journal community occupational medicine tugas penerapan uu kia sosialisasi pemliki usaha ray pemerintah metode mutakhir komunikasi mengajukan hasil kajian health economic ekonomi kesehatan metode efektif merasionalisasi investasi cuti 6 dampak menguntungkan pemilik usaha beban pembiayaan gaji dianggap dibayar konsep bukti ilmiah efektivitas cuti 6 model kohort retrospektif perusahaan menerapkan kebijakan menghitung parameter produktivitas pencapaian kinerja karyawan buruh cuti 6 dibandingkan cuti 3 peneliti kedokteran metode iniakan substansiasi kuat teori kajian apliaksi real negara maju cuti 6 meningkatkan produktivitas pekerja perempuan dibanding cuti 3 ray edukasi akun instagram ray basrowi health collaborative center merekomendasikan diaktifkan kolaborasi industri akademisi universitas menggarap penelitian klinis aplikasi terkait kedokteran kajian health economic terkait cuti 6 kebijakan perlindungan hak kesehatan pekerja perempuan orioentasi rekomendasi murni mencari jalan menguntungkan kalangan pekerja industry pemilik usaha kajian model kohort retrospektif model program evaluation cepat hasil dikomunikasikan publik aspek analisis ekonomi kesehatan pemilik tempat usaha kekuatan hukum berbasis imiah sistem kompensasi cuti 6 investasi perusahaan replyforward\n",
      "(Score: 0.1803) \n"
     ]
    }
   ],
   "source": [
    "kueri='penyakit'\n",
    "kueri=preprocessing(kueri)\n",
    "kueri= [\" \".join (kueri)]\n",
    "print (kueri)\n",
    "\n",
    "tfidf_matrix =joblib.load( \"corpus/matrix/tfidf_train_new.pkl\" )\n",
    "tfidf_vectorizer = joblib.load( \"corpus/vectorizer/vectorizer_new.pkl\" ) \n",
    "query_vec= tfidf_vectorizer.transform(kueri)\n",
    "results=cosine_similarity(tfidf_matrix, query_vec).reshape((-1))\n",
    "#print (results)\n",
    "print(\"\\n======================\\n\")\n",
    "print(\"Top 10 most similar documents in corpus:\")\n",
    "\n",
    "j = 1\n",
    "\n",
    "for i in results.argsort()[-10:][::-1]:\n",
    "    print(\"No ID Dokumen  : \", i)\n",
    "    print(\"Tanggal        : \", df_total.iloc[i,1])\n",
    "    print(\"Isi berita     : \", df_total.iloc[i,2])\n",
    "    print(\"(Score: %.4f) \" % results[i])"
   ]
  }
 ],
 "metadata": {
  "kernelspec": {
   "display_name": "Python 3",
   "language": "python",
   "name": "python3"
  },
  "language_info": {
   "codemirror_mode": {
    "name": "ipython",
    "version": 3
   },
   "file_extension": ".py",
   "mimetype": "text/x-python",
   "name": "python",
   "nbconvert_exporter": "python",
   "pygments_lexer": "ipython3",
   "version": "3.9.13 (tags/v3.9.13:6de2ca5, May 17 2022, 16:36:42) [MSC v.1929 64 bit (AMD64)]"
  },
  "vscode": {
   "interpreter": {
    "hash": "52634da84371cba311ea128a5ea7cdc41ff074b781779e754b270ff9f8153cee"
   }
  }
 },
 "nbformat": 4,
 "nbformat_minor": 2
}
